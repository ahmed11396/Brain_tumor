{
  "cells": [
    {
      "cell_type": "code",
      "execution_count": null,
      "metadata": {
        "colab": {
          "background_save": true,
          "base_uri": "https://localhost:8080/"
        },
        "id": "5A_y9dQd_tz9",
        "outputId": "a56fb9c4-1d9c-4a9f-a74b-6feaf5e8b6ff"
      },
      "outputs": [
        {
          "name": "stdout",
          "output_type": "stream",
          "text": [
            "Collecting ultralytics\n",
            "  Downloading ultralytics-8.3.49-py3-none-any.whl.metadata (35 kB)\n",
            "Requirement already satisfied: numpy>=1.23.0 in /usr/local/lib/python3.10/dist-packages (from ultralytics) (1.26.4)\n",
            "Requirement already satisfied: matplotlib>=3.3.0 in /usr/local/lib/python3.10/dist-packages (from ultralytics) (3.8.0)\n",
            "Requirement already satisfied: opencv-python>=4.6.0 in /usr/local/lib/python3.10/dist-packages (from ultralytics) (4.10.0.84)\n",
            "Requirement already satisfied: pillow>=7.1.2 in /usr/local/lib/python3.10/dist-packages (from ultralytics) (11.0.0)\n",
            "Requirement already satisfied: pyyaml>=5.3.1 in /usr/local/lib/python3.10/dist-packages (from ultralytics) (6.0.2)\n",
            "Requirement already satisfied: requests>=2.23.0 in /usr/local/lib/python3.10/dist-packages (from ultralytics) (2.32.3)\n",
            "Requirement already satisfied: scipy>=1.4.1 in /usr/local/lib/python3.10/dist-packages (from ultralytics) (1.13.1)\n",
            "Requirement already satisfied: torch>=1.8.0 in /usr/local/lib/python3.10/dist-packages (from ultralytics) (2.5.1+cu121)\n",
            "Requirement already satisfied: torchvision>=0.9.0 in /usr/local/lib/python3.10/dist-packages (from ultralytics) (0.20.1+cu121)\n",
            "Requirement already satisfied: tqdm>=4.64.0 in /usr/local/lib/python3.10/dist-packages (from ultralytics) (4.66.6)\n",
            "Requirement already satisfied: psutil in /usr/local/lib/python3.10/dist-packages (from ultralytics) (5.9.5)\n",
            "Requirement already satisfied: py-cpuinfo in /usr/local/lib/python3.10/dist-packages (from ultralytics) (9.0.0)\n",
            "Requirement already satisfied: pandas>=1.1.4 in /usr/local/lib/python3.10/dist-packages (from ultralytics) (2.2.2)\n",
            "Requirement already satisfied: seaborn>=0.11.0 in /usr/local/lib/python3.10/dist-packages (from ultralytics) (0.13.2)\n",
            "Collecting ultralytics-thop>=2.0.0 (from ultralytics)\n",
            "  Downloading ultralytics_thop-2.0.13-py3-none-any.whl.metadata (9.4 kB)\n",
            "Requirement already satisfied: contourpy>=1.0.1 in /usr/local/lib/python3.10/dist-packages (from matplotlib>=3.3.0->ultralytics) (1.3.1)\n",
            "Requirement already satisfied: cycler>=0.10 in /usr/local/lib/python3.10/dist-packages (from matplotlib>=3.3.0->ultralytics) (0.12.1)\n",
            "Requirement already satisfied: fonttools>=4.22.0 in /usr/local/lib/python3.10/dist-packages (from matplotlib>=3.3.0->ultralytics) (4.55.3)\n",
            "Requirement already satisfied: kiwisolver>=1.0.1 in /usr/local/lib/python3.10/dist-packages (from matplotlib>=3.3.0->ultralytics) (1.4.7)\n",
            "Requirement already satisfied: packaging>=20.0 in /usr/local/lib/python3.10/dist-packages (from matplotlib>=3.3.0->ultralytics) (24.2)\n",
            "Requirement already satisfied: pyparsing>=2.3.1 in /usr/local/lib/python3.10/dist-packages (from matplotlib>=3.3.0->ultralytics) (3.2.0)\n",
            "Requirement already satisfied: python-dateutil>=2.7 in /usr/local/lib/python3.10/dist-packages (from matplotlib>=3.3.0->ultralytics) (2.8.2)\n",
            "Requirement already satisfied: pytz>=2020.1 in /usr/local/lib/python3.10/dist-packages (from pandas>=1.1.4->ultralytics) (2024.2)\n",
            "Requirement already satisfied: tzdata>=2022.7 in /usr/local/lib/python3.10/dist-packages (from pandas>=1.1.4->ultralytics) (2024.2)\n",
            "Requirement already satisfied: charset-normalizer<4,>=2 in /usr/local/lib/python3.10/dist-packages (from requests>=2.23.0->ultralytics) (3.4.0)\n",
            "Requirement already satisfied: idna<4,>=2.5 in /usr/local/lib/python3.10/dist-packages (from requests>=2.23.0->ultralytics) (3.10)\n",
            "Requirement already satisfied: urllib3<3,>=1.21.1 in /usr/local/lib/python3.10/dist-packages (from requests>=2.23.0->ultralytics) (2.2.3)\n",
            "Requirement already satisfied: certifi>=2017.4.17 in /usr/local/lib/python3.10/dist-packages (from requests>=2.23.0->ultralytics) (2024.8.30)\n",
            "Requirement already satisfied: filelock in /usr/local/lib/python3.10/dist-packages (from torch>=1.8.0->ultralytics) (3.16.1)\n",
            "Requirement already satisfied: typing-extensions>=4.8.0 in /usr/local/lib/python3.10/dist-packages (from torch>=1.8.0->ultralytics) (4.12.2)\n",
            "Requirement already satisfied: networkx in /usr/local/lib/python3.10/dist-packages (from torch>=1.8.0->ultralytics) (3.4.2)\n",
            "Requirement already satisfied: jinja2 in /usr/local/lib/python3.10/dist-packages (from torch>=1.8.0->ultralytics) (3.1.4)\n",
            "Requirement already satisfied: fsspec in /usr/local/lib/python3.10/dist-packages (from torch>=1.8.0->ultralytics) (2024.10.0)\n",
            "Requirement already satisfied: sympy==1.13.1 in /usr/local/lib/python3.10/dist-packages (from torch>=1.8.0->ultralytics) (1.13.1)\n",
            "Requirement already satisfied: mpmath<1.4,>=1.1.0 in /usr/local/lib/python3.10/dist-packages (from sympy==1.13.1->torch>=1.8.0->ultralytics) (1.3.0)\n",
            "Requirement already satisfied: six>=1.5 in /usr/local/lib/python3.10/dist-packages (from python-dateutil>=2.7->matplotlib>=3.3.0->ultralytics) (1.17.0)\n",
            "Requirement already satisfied: MarkupSafe>=2.0 in /usr/local/lib/python3.10/dist-packages (from jinja2->torch>=1.8.0->ultralytics) (3.0.2)\n",
            "Downloading ultralytics-8.3.49-py3-none-any.whl (898 kB)\n",
            "\u001b[2K   \u001b[90m━━━━━━━━━━━━━━━━━━━━━━━━━━━━━━━━━━━━━━━━\u001b[0m \u001b[32m898.7/898.7 kB\u001b[0m \u001b[31m45.5 MB/s\u001b[0m eta \u001b[36m0:00:00\u001b[0m\n",
            "\u001b[?25hDownloading ultralytics_thop-2.0.13-py3-none-any.whl (26 kB)\n"
          ]
        }
      ],
      "source": [
        "!pip install ultralytics"
      ]
    },
    {
      "cell_type": "code",
      "execution_count": null,
      "metadata": {
        "colab": {
          "background_save": true
        },
        "id": "DMroUg7qAqbZ",
        "outputId": "a984eadc-f722-43d0-8d26-1f9471f3e852"
      },
      "outputs": [
        {
          "name": "stdout",
          "output_type": "stream",
          "text": [
            "Creating new Ultralytics Settings v0.0.6 file ✅ \n",
            "View Ultralytics Settings with 'yolo settings' or at '/root/.config/Ultralytics/settings.json'\n",
            "Update Settings with 'yolo settings key=value', i.e. 'yolo settings runs_dir=path/to/dir'. For help see https://docs.ultralytics.com/quickstart/#ultralytics-settings.\n"
          ]
        }
      ],
      "source": [
        "from ultralytics import YOLO"
      ]
    },
    {
      "cell_type": "code",
      "execution_count": null,
      "metadata": {
        "colab": {
          "background_save": true
        },
        "id": "jx2PGwCF8sxL"
      },
      "outputs": [],
      "source": [
        "import os\n",
        "os.environ['WANDB_MODE'] = 'disabled'"
      ]
    },
    {
      "cell_type": "code",
      "execution_count": null,
      "metadata": {
        "colab": {
          "background_save": true
        },
        "id": "bKL51101xN6e",
        "outputId": "477fbba6-c7a6-4e44-9b62-c5989401426b"
      },
      "outputs": [
        {
          "name": "stdout",
          "output_type": "stream",
          "text": [
            "\u001b[1;30;43mStreaming output truncated to the last 5000 lines.\u001b[0m\n",
            "  inflating: /content/data/train/labels/Papiloma_T1C+_7.txt  \n",
            "  inflating: /content/data/train/labels/Papiloma_T1C+_70.txt  \n",
            "  inflating: /content/data/train/labels/Papiloma_T1C+_71.txt  \n",
            "  inflating: /content/data/train/labels/Papiloma_T1C+_73.txt  \n",
            "  inflating: /content/data/train/labels/Papiloma_T1C+_74.txt  \n",
            "  inflating: /content/data/train/labels/Papiloma_T1C+_76.txt  \n",
            "  inflating: /content/data/train/labels/Papiloma_T1C+_77.txt  \n",
            "  inflating: /content/data/train/labels/Papiloma_T1C+_79.txt  \n",
            "  inflating: /content/data/train/labels/Papiloma_T1C+_8.txt  \n",
            "  inflating: /content/data/train/labels/Papiloma_T1C+_80.txt  \n",
            "  inflating: /content/data/train/labels/Papiloma_T1C+_81.txt  \n",
            "  inflating: /content/data/train/labels/Papiloma_T1C+_82.txt  \n",
            "  inflating: /content/data/train/labels/Papiloma_T1C+_83.txt  \n",
            "  inflating: /content/data/train/labels/Papiloma_T1C+_85.txt  \n",
            "  inflating: /content/data/train/labels/Papiloma_T1C+_86.txt  \n",
            "  inflating: /content/data/train/labels/Papiloma_T1C+_89.txt  \n",
            "  inflating: /content/data/train/labels/Papiloma_T1C+_9.txt  \n",
            "  inflating: /content/data/train/labels/Papiloma_T1C+_91.txt  \n",
            "  inflating: /content/data/train/labels/Papiloma_T1C+_92.txt  \n",
            "  inflating: /content/data/train/labels/Papiloma_T1C+_93.txt  \n",
            "  inflating: /content/data/train/labels/Papiloma_T1C+_94.txt  \n",
            "  inflating: /content/data/train/labels/Papiloma_T1C+_95.txt  \n",
            "  inflating: /content/data/train/labels/Papiloma_T1C+_97.txt  \n",
            "  inflating: /content/data/train/labels/Papiloma_T1C+_98.txt  \n",
            "  inflating: /content/data/train/labels/Papiloma_T1C+_99.txt  \n",
            "  inflating: /content/data/train/labels/Papiloma_T1_1.txt  \n",
            "  inflating: /content/data/train/labels/Papiloma_T1_10.txt  \n",
            "  inflating: /content/data/train/labels/Papiloma_T1_11.txt  \n",
            "  inflating: /content/data/train/labels/Papiloma_T1_12.txt  \n",
            "  inflating: /content/data/train/labels/Papiloma_T1_13.txt  \n",
            "  inflating: /content/data/train/labels/Papiloma_T1_14.txt  \n",
            "  inflating: /content/data/train/labels/Papiloma_T1_16.txt  \n",
            "  inflating: /content/data/train/labels/Papiloma_T1_17.txt  \n",
            "  inflating: /content/data/train/labels/Papiloma_T1_18.txt  \n",
            "  inflating: /content/data/train/labels/Papiloma_T1_19.txt  \n",
            "  inflating: /content/data/train/labels/Papiloma_T1_2.txt  \n",
            "  inflating: /content/data/train/labels/Papiloma_T1_20.txt  \n",
            "  inflating: /content/data/train/labels/Papiloma_T1_21.txt  \n",
            "  inflating: /content/data/train/labels/Papiloma_T1_23.txt  \n",
            "  inflating: /content/data/train/labels/Papiloma_T1_24.txt  \n",
            "  inflating: /content/data/train/labels/Papiloma_T1_25.txt  \n",
            "  inflating: /content/data/train/labels/Papiloma_T1_26.txt  \n",
            "  inflating: /content/data/train/labels/Papiloma_T1_27.txt  \n",
            "  inflating: /content/data/train/labels/Papiloma_T1_28.txt  \n",
            "  inflating: /content/data/train/labels/Papiloma_T1_29.txt  \n",
            "  inflating: /content/data/train/labels/Papiloma_T1_3.txt  \n",
            "  inflating: /content/data/train/labels/Papiloma_T1_30.txt  \n",
            "  inflating: /content/data/train/labels/Papiloma_T1_32.txt  \n",
            "  inflating: /content/data/train/labels/Papiloma_T1_34.txt  \n",
            "  inflating: /content/data/train/labels/Papiloma_T1_36.txt  \n",
            "  inflating: /content/data/train/labels/Papiloma_T1_37.txt  \n",
            "  inflating: /content/data/train/labels/Papiloma_T1_38.txt  \n",
            "  inflating: /content/data/train/labels/Papiloma_T1_39.txt  \n",
            "  inflating: /content/data/train/labels/Papiloma_T1_4.txt  \n",
            "  inflating: /content/data/train/labels/Papiloma_T1_40.txt  \n",
            "  inflating: /content/data/train/labels/Papiloma_T1_41.txt  \n",
            "  inflating: /content/data/train/labels/Papiloma_T1_43.txt  \n",
            "  inflating: /content/data/train/labels/Papiloma_T1_44.txt  \n",
            "  inflating: /content/data/train/labels/Papiloma_T1_45.txt  \n",
            "  inflating: /content/data/train/labels/Papiloma_T1_46.txt  \n",
            "  inflating: /content/data/train/labels/Papiloma_T1_49.txt  \n",
            "  inflating: /content/data/train/labels/Papiloma_T1_5.txt  \n",
            "  inflating: /content/data/train/labels/Papiloma_T1_51.txt  \n",
            "  inflating: /content/data/train/labels/Papiloma_T1_52.txt  \n",
            "  inflating: /content/data/train/labels/Papiloma_T1_53.txt  \n",
            "  inflating: /content/data/train/labels/Papiloma_T1_54.txt  \n",
            "  inflating: /content/data/train/labels/Papiloma_T1_55.txt  \n",
            "  inflating: /content/data/train/labels/Papiloma_T1_56.txt  \n",
            "  inflating: /content/data/train/labels/Papiloma_T1_57.txt  \n",
            "  inflating: /content/data/train/labels/Papiloma_T1_58.txt  \n",
            "  inflating: /content/data/train/labels/Papiloma_T1_59.txt  \n",
            "  inflating: /content/data/train/labels/Papiloma_T1_6.txt  \n",
            "  inflating: /content/data/train/labels/Papiloma_T1_61.txt  \n",
            "  inflating: /content/data/train/labels/Papiloma_T1_62.txt  \n",
            "  inflating: /content/data/train/labels/Papiloma_T1_63.txt  \n",
            "  inflating: /content/data/train/labels/Papiloma_T1_64.txt  \n",
            "  inflating: /content/data/train/labels/Papiloma_T1_66.txt  \n",
            "  inflating: /content/data/train/labels/Papiloma_T1_8.txt  \n",
            "  inflating: /content/data/train/labels/Papiloma_T1_9.txt  \n",
            "  inflating: /content/data/train/labels/Papiloma_T2_1.txt  \n",
            "  inflating: /content/data/train/labels/Papiloma_T2_10.txt  \n",
            "  inflating: /content/data/train/labels/Papiloma_T2_11.txt  \n",
            "  inflating: /content/data/train/labels/Papiloma_T2_12.txt  \n",
            "  inflating: /content/data/train/labels/Papiloma_T2_14.txt  \n",
            "  inflating: /content/data/train/labels/Papiloma_T2_15.txt  \n",
            "  inflating: /content/data/train/labels/Papiloma_T2_16.txt  \n",
            "  inflating: /content/data/train/labels/Papiloma_T2_17.txt  \n",
            "  inflating: /content/data/train/labels/Papiloma_T2_19.txt  \n",
            "  inflating: /content/data/train/labels/Papiloma_T2_2.txt  \n",
            "  inflating: /content/data/train/labels/Papiloma_T2_22.txt  \n",
            "  inflating: /content/data/train/labels/Papiloma_T2_23.txt  \n",
            "  inflating: /content/data/train/labels/Papiloma_T2_24.txt  \n",
            "  inflating: /content/data/train/labels/Papiloma_T2_25.txt  \n",
            "  inflating: /content/data/train/labels/Papiloma_T2_26.txt  \n",
            "  inflating: /content/data/train/labels/Papiloma_T2_27.txt  \n",
            "  inflating: /content/data/train/labels/Papiloma_T2_28.txt  \n",
            "  inflating: /content/data/train/labels/Papiloma_T2_3.txt  \n",
            "  inflating: /content/data/train/labels/Papiloma_T2_30.txt  \n",
            "  inflating: /content/data/train/labels/Papiloma_T2_32.txt  \n",
            "  inflating: /content/data/train/labels/Papiloma_T2_33.txt  \n",
            "  inflating: /content/data/train/labels/Papiloma_T2_34.txt  \n",
            "  inflating: /content/data/train/labels/Papiloma_T2_35.txt  \n",
            "  inflating: /content/data/train/labels/Papiloma_T2_36.txt  \n",
            "  inflating: /content/data/train/labels/Papiloma_T2_37.txt  \n",
            "  inflating: /content/data/train/labels/Papiloma_T2_38.txt  \n",
            "  inflating: /content/data/train/labels/Papiloma_T2_4.txt  \n",
            "  inflating: /content/data/train/labels/Papiloma_T2_40.txt  \n",
            "  inflating: /content/data/train/labels/Papiloma_T2_41.txt  \n",
            "  inflating: /content/data/train/labels/Papiloma_T2_42.txt  \n",
            "  inflating: /content/data/train/labels/Papiloma_T2_43.txt  \n",
            "  inflating: /content/data/train/labels/Papiloma_T2_44.txt  \n",
            "  inflating: /content/data/train/labels/Papiloma_T2_45.txt  \n",
            "  inflating: /content/data/train/labels/Papiloma_T2_46.txt  \n",
            "  inflating: /content/data/train/labels/Papiloma_T2_48.txt  \n",
            "  inflating: /content/data/train/labels/Papiloma_T2_49.txt  \n",
            "  inflating: /content/data/train/labels/Papiloma_T2_5.txt  \n",
            "  inflating: /content/data/train/labels/Papiloma_T2_50.txt  \n",
            "  inflating: /content/data/train/labels/Papiloma_T2_51.txt  \n",
            "  inflating: /content/data/train/labels/Papiloma_T2_52.txt  \n",
            "  inflating: /content/data/train/labels/Papiloma_T2_55.txt  \n",
            "  inflating: /content/data/train/labels/Papiloma_T2_56.txt  \n",
            "  inflating: /content/data/train/labels/Papiloma_T2_57.txt  \n",
            "  inflating: /content/data/train/labels/Papiloma_T2_58.txt  \n",
            "  inflating: /content/data/train/labels/Papiloma_T2_59.txt  \n",
            "  inflating: /content/data/train/labels/Papiloma_T2_6.txt  \n",
            "  inflating: /content/data/train/labels/Papiloma_T2_60.txt  \n",
            "  inflating: /content/data/train/labels/Papiloma_T2_61.txt  \n",
            "  inflating: /content/data/train/labels/Papiloma_T2_62.txt  \n",
            "  inflating: /content/data/train/labels/Papiloma_T2_63.txt  \n",
            "  inflating: /content/data/train/labels/Papiloma_T2_8.txt  \n",
            "  inflating: /content/data/train/labels/Papiloma_T2_9.txt  \n",
            "  inflating: /content/data/train/labels/Schwannoma_T1C+_1.txt  \n",
            "  inflating: /content/data/train/labels/Schwannoma_T1C+_10.txt  \n",
            "  inflating: /content/data/train/labels/Schwannoma_T1C+_101.txt  \n",
            "  inflating: /content/data/train/labels/Schwannoma_T1C+_102.txt  \n",
            "  inflating: /content/data/train/labels/Schwannoma_T1C+_103.txt  \n",
            "  inflating: /content/data/train/labels/Schwannoma_T1C+_104.txt  \n",
            "  inflating: /content/data/train/labels/Schwannoma_T1C+_105.txt  \n",
            "  inflating: /content/data/train/labels/Schwannoma_T1C+_106.txt  \n",
            "  inflating: /content/data/train/labels/Schwannoma_T1C+_108.txt  \n",
            "  inflating: /content/data/train/labels/Schwannoma_T1C+_109.txt  \n",
            "  inflating: /content/data/train/labels/Schwannoma_T1C+_11.txt  \n",
            "  inflating: /content/data/train/labels/Schwannoma_T1C+_110.txt  \n",
            "  inflating: /content/data/train/labels/Schwannoma_T1C+_111.txt  \n",
            "  inflating: /content/data/train/labels/Schwannoma_T1C+_114.txt  \n",
            "  inflating: /content/data/train/labels/Schwannoma_T1C+_115.txt  \n",
            "  inflating: /content/data/train/labels/Schwannoma_T1C+_117.txt  \n",
            "  inflating: /content/data/train/labels/Schwannoma_T1C+_118.txt  \n",
            "  inflating: /content/data/train/labels/Schwannoma_T1C+_119.txt  \n",
            "  inflating: /content/data/train/labels/Schwannoma_T1C+_12.txt  \n",
            "  inflating: /content/data/train/labels/Schwannoma_T1C+_120.txt  \n",
            "  inflating: /content/data/train/labels/Schwannoma_T1C+_121.txt  \n",
            "  inflating: /content/data/train/labels/Schwannoma_T1C+_122.txt  \n",
            "  inflating: /content/data/train/labels/Schwannoma_T1C+_125.txt  \n",
            "  inflating: /content/data/train/labels/Schwannoma_T1C+_126.txt  \n",
            "  inflating: /content/data/train/labels/Schwannoma_T1C+_127.txt  \n",
            "  inflating: /content/data/train/labels/Schwannoma_T1C+_129.txt  \n",
            "  inflating: /content/data/train/labels/Schwannoma_T1C+_13.txt  \n",
            "  inflating: /content/data/train/labels/Schwannoma_T1C+_130.txt  \n",
            "  inflating: /content/data/train/labels/Schwannoma_T1C+_131.txt  \n",
            "  inflating: /content/data/train/labels/Schwannoma_T1C+_133.txt  \n",
            "  inflating: /content/data/train/labels/Schwannoma_T1C+_134.txt  \n",
            "  inflating: /content/data/train/labels/Schwannoma_T1C+_135.txt  \n",
            "  inflating: /content/data/train/labels/Schwannoma_T1C+_137.txt  \n",
            "  inflating: /content/data/train/labels/Schwannoma_T1C+_138.txt  \n",
            "  inflating: /content/data/train/labels/Schwannoma_T1C+_139.txt  \n",
            "  inflating: /content/data/train/labels/Schwannoma_T1C+_14.txt  \n",
            "  inflating: /content/data/train/labels/Schwannoma_T1C+_140.txt  \n",
            "  inflating: /content/data/train/labels/Schwannoma_T1C+_142.txt  \n",
            "  inflating: /content/data/train/labels/Schwannoma_T1C+_143.txt  \n",
            "  inflating: /content/data/train/labels/Schwannoma_T1C+_144.txt  \n",
            "  inflating: /content/data/train/labels/Schwannoma_T1C+_145.txt  \n",
            "  inflating: /content/data/train/labels/Schwannoma_T1C+_146.txt  \n",
            "  inflating: /content/data/train/labels/Schwannoma_T1C+_148.txt  \n",
            "  inflating: /content/data/train/labels/Schwannoma_T1C+_15.txt  \n",
            "  inflating: /content/data/train/labels/Schwannoma_T1C+_150.txt  \n",
            "  inflating: /content/data/train/labels/Schwannoma_T1C+_151.txt  \n",
            "  inflating: /content/data/train/labels/Schwannoma_T1C+_153.txt  \n",
            "  inflating: /content/data/train/labels/Schwannoma_T1C+_154.txt  \n",
            "  inflating: /content/data/train/labels/Schwannoma_T1C+_155.txt  \n",
            "  inflating: /content/data/train/labels/Schwannoma_T1C+_156.txt  \n",
            "  inflating: /content/data/train/labels/Schwannoma_T1C+_157.txt  \n",
            "  inflating: /content/data/train/labels/Schwannoma_T1C+_158.txt  \n",
            "  inflating: /content/data/train/labels/Schwannoma_T1C+_159.txt  \n",
            "  inflating: /content/data/train/labels/Schwannoma_T1C+_16.txt  \n",
            "  inflating: /content/data/train/labels/Schwannoma_T1C+_160.txt  \n",
            "  inflating: /content/data/train/labels/Schwannoma_T1C+_161.txt  \n",
            "  inflating: /content/data/train/labels/Schwannoma_T1C+_162.txt  \n",
            "  inflating: /content/data/train/labels/Schwannoma_T1C+_163.txt  \n",
            "  inflating: /content/data/train/labels/Schwannoma_T1C+_164.txt  \n",
            "  inflating: /content/data/train/labels/Schwannoma_T1C+_166.txt  \n",
            "  inflating: /content/data/train/labels/Schwannoma_T1C+_167.txt  \n",
            "  inflating: /content/data/train/labels/Schwannoma_T1C+_168.txt  \n",
            "  inflating: /content/data/train/labels/Schwannoma_T1C+_169.txt  \n",
            "  inflating: /content/data/train/labels/Schwannoma_T1C+_171.txt  \n",
            "  inflating: /content/data/train/labels/Schwannoma_T1C+_172.txt  \n",
            "  inflating: /content/data/train/labels/Schwannoma_T1C+_173.txt  \n",
            "  inflating: /content/data/train/labels/Schwannoma_T1C+_174.txt  \n",
            "  inflating: /content/data/train/labels/Schwannoma_T1C+_175.txt  \n",
            "  inflating: /content/data/train/labels/Schwannoma_T1C+_176.txt  \n",
            "  inflating: /content/data/train/labels/Schwannoma_T1C+_177.txt  \n",
            "  inflating: /content/data/train/labels/Schwannoma_T1C+_179.txt  \n",
            "  inflating: /content/data/train/labels/Schwannoma_T1C+_18.txt  \n",
            "  inflating: /content/data/train/labels/Schwannoma_T1C+_180.txt  \n",
            "  inflating: /content/data/train/labels/Schwannoma_T1C+_181.txt  \n",
            "  inflating: /content/data/train/labels/Schwannoma_T1C+_182.txt  \n",
            "  inflating: /content/data/train/labels/Schwannoma_T1C+_184.txt  \n",
            "  inflating: /content/data/train/labels/Schwannoma_T1C+_185.txt  \n",
            "  inflating: /content/data/train/labels/Schwannoma_T1C+_186.txt  \n",
            "  inflating: /content/data/train/labels/Schwannoma_T1C+_187.txt  \n",
            "  inflating: /content/data/train/labels/Schwannoma_T1C+_188.txt  \n",
            "  inflating: /content/data/train/labels/Schwannoma_T1C+_189.txt  \n",
            "  inflating: /content/data/train/labels/Schwannoma_T1C+_191.txt  \n",
            "  inflating: /content/data/train/labels/Schwannoma_T1C+_192.txt  \n",
            "  inflating: /content/data/train/labels/Schwannoma_T1C+_193.txt  \n",
            "  inflating: /content/data/train/labels/Schwannoma_T1C+_2.txt  \n",
            "  inflating: /content/data/train/labels/Schwannoma_T1C+_20.txt  \n",
            "  inflating: /content/data/train/labels/Schwannoma_T1C+_21.txt  \n",
            "  inflating: /content/data/train/labels/Schwannoma_T1C+_22.txt  \n",
            "  inflating: /content/data/train/labels/Schwannoma_T1C+_23.txt  \n",
            "  inflating: /content/data/train/labels/Schwannoma_T1C+_24.txt  \n",
            "  inflating: /content/data/train/labels/Schwannoma_T1C+_26.txt  \n",
            "  inflating: /content/data/train/labels/Schwannoma_T1C+_27.txt  \n",
            "  inflating: /content/data/train/labels/Schwannoma_T1C+_28.txt  \n",
            "  inflating: /content/data/train/labels/Schwannoma_T1C+_3.txt  \n",
            "  inflating: /content/data/train/labels/Schwannoma_T1C+_30.txt  \n",
            "  inflating: /content/data/train/labels/Schwannoma_T1C+_32.txt  \n",
            "  inflating: /content/data/train/labels/Schwannoma_T1C+_33.txt  \n",
            "  inflating: /content/data/train/labels/Schwannoma_T1C+_35.txt  \n",
            "  inflating: /content/data/train/labels/Schwannoma_T1C+_36.txt  \n",
            "  inflating: /content/data/train/labels/Schwannoma_T1C+_37.txt  \n",
            "  inflating: /content/data/train/labels/Schwannoma_T1C+_38.txt  \n",
            "  inflating: /content/data/train/labels/Schwannoma_T1C+_4.txt  \n",
            "  inflating: /content/data/train/labels/Schwannoma_T1C+_40.txt  \n",
            "  inflating: /content/data/train/labels/Schwannoma_T1C+_41.txt  \n",
            "  inflating: /content/data/train/labels/Schwannoma_T1C+_44.txt  \n",
            "  inflating: /content/data/train/labels/Schwannoma_T1C+_45.txt  \n",
            "  inflating: /content/data/train/labels/Schwannoma_T1C+_46.txt  \n",
            "  inflating: /content/data/train/labels/Schwannoma_T1C+_47.txt  \n",
            "  inflating: /content/data/train/labels/Schwannoma_T1C+_48.txt  \n",
            "  inflating: /content/data/train/labels/Schwannoma_T1C+_49.txt  \n",
            "  inflating: /content/data/train/labels/Schwannoma_T1C+_5.txt  \n",
            "  inflating: /content/data/train/labels/Schwannoma_T1C+_50.txt  \n",
            "  inflating: /content/data/train/labels/Schwannoma_T1C+_52.txt  \n",
            "  inflating: /content/data/train/labels/Schwannoma_T1C+_53.txt  \n",
            "  inflating: /content/data/train/labels/Schwannoma_T1C+_54.txt  \n",
            "  inflating: /content/data/train/labels/Schwannoma_T1C+_55.txt  \n",
            "  inflating: /content/data/train/labels/Schwannoma_T1C+_56.txt  \n",
            "  inflating: /content/data/train/labels/Schwannoma_T1C+_57.txt  \n",
            "  inflating: /content/data/train/labels/Schwannoma_T1C+_59.txt  \n",
            "  inflating: /content/data/train/labels/Schwannoma_T1C+_61.txt  \n",
            "  inflating: /content/data/train/labels/Schwannoma_T1C+_63.txt  \n",
            "  inflating: /content/data/train/labels/Schwannoma_T1C+_64.txt  \n",
            "  inflating: /content/data/train/labels/Schwannoma_T1C+_65.txt  \n",
            "  inflating: /content/data/train/labels/Schwannoma_T1C+_66.txt  \n",
            "  inflating: /content/data/train/labels/Schwannoma_T1C+_69.txt  \n",
            "  inflating: /content/data/train/labels/Schwannoma_T1C+_7.txt  \n",
            "  inflating: /content/data/train/labels/Schwannoma_T1C+_70.txt  \n",
            "  inflating: /content/data/train/labels/Schwannoma_T1C+_71.txt  \n",
            "  inflating: /content/data/train/labels/Schwannoma_T1C+_72.txt  \n",
            "  inflating: /content/data/train/labels/Schwannoma_T1C+_73.txt  \n",
            "  inflating: /content/data/train/labels/Schwannoma_T1C+_74.txt  \n",
            "  inflating: /content/data/train/labels/Schwannoma_T1C+_75.txt  \n",
            "  inflating: /content/data/train/labels/Schwannoma_T1C+_76.txt  \n",
            "  inflating: /content/data/train/labels/Schwannoma_T1C+_78.txt  \n",
            "  inflating: /content/data/train/labels/Schwannoma_T1C+_8.txt  \n",
            "  inflating: /content/data/train/labels/Schwannoma_T1C+_81.txt  \n",
            "  inflating: /content/data/train/labels/Schwannoma_T1C+_84.txt  \n",
            "  inflating: /content/data/train/labels/Schwannoma_T1C+_85.txt  \n",
            "  inflating: /content/data/train/labels/Schwannoma_T1C+_86.txt  \n",
            "  inflating: /content/data/train/labels/Schwannoma_T1C+_87.txt  \n",
            "  inflating: /content/data/train/labels/Schwannoma_T1C+_89.txt  \n",
            "  inflating: /content/data/train/labels/Schwannoma_T1C+_90.txt  \n",
            "  inflating: /content/data/train/labels/Schwannoma_T1C+_93.txt  \n",
            "  inflating: /content/data/train/labels/Schwannoma_T1C+_94.txt  \n",
            "  inflating: /content/data/train/labels/Schwannoma_T1C+_95.txt  \n",
            "  inflating: /content/data/train/labels/Schwannoma_T1C+_96.txt  \n",
            "  inflating: /content/data/train/labels/Schwannoma_T1C+_97.txt  \n",
            "  inflating: /content/data/train/labels/Schwannoma_T1C+_98.txt  \n",
            "  inflating: /content/data/train/labels/Schwannoma_T1C+_99.txt  \n",
            "  inflating: /content/data/train/labels/Schwannoma_T1_1.txt  \n",
            "  inflating: /content/data/train/labels/Schwannoma_T1_10.txt  \n",
            "  inflating: /content/data/train/labels/Schwannoma_T1_101.txt  \n",
            "  inflating: /content/data/train/labels/Schwannoma_T1_102.txt  \n",
            "  inflating: /content/data/train/labels/Schwannoma_T1_103.txt  \n",
            "  inflating: /content/data/train/labels/Schwannoma_T1_104.txt  \n",
            "  inflating: /content/data/train/labels/Schwannoma_T1_105.txt  \n",
            "  inflating: /content/data/train/labels/Schwannoma_T1_106.txt  \n",
            "  inflating: /content/data/train/labels/Schwannoma_T1_108.txt  \n",
            "  inflating: /content/data/train/labels/Schwannoma_T1_109.txt  \n",
            "  inflating: /content/data/train/labels/Schwannoma_T1_11.txt  \n",
            "  inflating: /content/data/train/labels/Schwannoma_T1_110.txt  \n",
            "  inflating: /content/data/train/labels/Schwannoma_T1_111.txt  \n",
            "  inflating: /content/data/train/labels/Schwannoma_T1_112.txt  \n",
            "  inflating: /content/data/train/labels/Schwannoma_T1_113.txt  \n",
            "  inflating: /content/data/train/labels/Schwannoma_T1_114.txt  \n",
            "  inflating: /content/data/train/labels/Schwannoma_T1_115.txt  \n",
            "  inflating: /content/data/train/labels/Schwannoma_T1_116.txt  \n",
            "  inflating: /content/data/train/labels/Schwannoma_T1_117.txt  \n",
            "  inflating: /content/data/train/labels/Schwannoma_T1_118.txt  \n",
            "  inflating: /content/data/train/labels/Schwannoma_T1_119.txt  \n",
            "  inflating: /content/data/train/labels/Schwannoma_T1_12.txt  \n",
            "  inflating: /content/data/train/labels/Schwannoma_T1_120.txt  \n",
            "  inflating: /content/data/train/labels/Schwannoma_T1_121.txt  \n",
            "  inflating: /content/data/train/labels/Schwannoma_T1_122.txt  \n",
            "  inflating: /content/data/train/labels/Schwannoma_T1_123.txt  \n",
            "  inflating: /content/data/train/labels/Schwannoma_T1_124.txt  \n",
            "  inflating: /content/data/train/labels/Schwannoma_T1_125.txt  \n",
            "  inflating: /content/data/train/labels/Schwannoma_T1_126.txt  \n",
            "  inflating: /content/data/train/labels/Schwannoma_T1_127.txt  \n",
            "  inflating: /content/data/train/labels/Schwannoma_T1_128.txt  \n",
            "  inflating: /content/data/train/labels/Schwannoma_T1_129.txt  \n",
            "  inflating: /content/data/train/labels/Schwannoma_T1_13.txt  \n",
            "  inflating: /content/data/train/labels/Schwannoma_T1_130.txt  \n",
            "  inflating: /content/data/train/labels/Schwannoma_T1_131.txt  \n",
            "  inflating: /content/data/train/labels/Schwannoma_T1_132.txt  \n",
            "  inflating: /content/data/train/labels/Schwannoma_T1_133.txt  \n",
            "  inflating: /content/data/train/labels/Schwannoma_T1_134.txt  \n",
            "  inflating: /content/data/train/labels/Schwannoma_T1_135.txt  \n",
            "  inflating: /content/data/train/labels/Schwannoma_T1_136.txt  \n",
            "  inflating: /content/data/train/labels/Schwannoma_T1_138.txt  \n",
            "  inflating: /content/data/train/labels/Schwannoma_T1_139.txt  \n",
            "  inflating: /content/data/train/labels/Schwannoma_T1_14.txt  \n",
            "  inflating: /content/data/train/labels/Schwannoma_T1_141.txt  \n",
            "  inflating: /content/data/train/labels/Schwannoma_T1_142.txt  \n",
            "  inflating: /content/data/train/labels/Schwannoma_T1_143.txt  \n",
            "  inflating: /content/data/train/labels/Schwannoma_T1_144.txt  \n",
            "  inflating: /content/data/train/labels/Schwannoma_T1_145.txt  \n",
            "  inflating: /content/data/train/labels/Schwannoma_T1_146.txt  \n",
            "  inflating: /content/data/train/labels/Schwannoma_T1_148.txt  \n",
            "  inflating: /content/data/train/labels/Schwannoma_T1_15.txt  \n",
            "  inflating: /content/data/train/labels/Schwannoma_T1_16.txt  \n",
            "  inflating: /content/data/train/labels/Schwannoma_T1_17.txt  \n",
            "  inflating: /content/data/train/labels/Schwannoma_T1_18.txt  \n",
            "  inflating: /content/data/train/labels/Schwannoma_T1_19.txt  \n",
            "  inflating: /content/data/train/labels/Schwannoma_T1_2.txt  \n",
            "  inflating: /content/data/train/labels/Schwannoma_T1_20.txt  \n",
            "  inflating: /content/data/train/labels/Schwannoma_T1_21.txt  \n",
            "  inflating: /content/data/train/labels/Schwannoma_T1_22.txt  \n",
            "  inflating: /content/data/train/labels/Schwannoma_T1_23.txt  \n",
            "  inflating: /content/data/train/labels/Schwannoma_T1_24.txt  \n",
            "  inflating: /content/data/train/labels/Schwannoma_T1_25.txt  \n",
            "  inflating: /content/data/train/labels/Schwannoma_T1_26.txt  \n",
            "  inflating: /content/data/train/labels/Schwannoma_T1_27.txt  \n",
            "  inflating: /content/data/train/labels/Schwannoma_T1_28.txt  \n",
            "  inflating: /content/data/train/labels/Schwannoma_T1_29.txt  \n",
            "  inflating: /content/data/train/labels/Schwannoma_T1_3.txt  \n",
            "  inflating: /content/data/train/labels/Schwannoma_T1_30.txt  \n",
            "  inflating: /content/data/train/labels/Schwannoma_T1_31.txt  \n",
            "  inflating: /content/data/train/labels/Schwannoma_T1_32.txt  \n",
            "  inflating: /content/data/train/labels/Schwannoma_T1_34.txt  \n",
            "  inflating: /content/data/train/labels/Schwannoma_T1_35.txt  \n",
            "  inflating: /content/data/train/labels/Schwannoma_T1_36.txt  \n",
            "  inflating: /content/data/train/labels/Schwannoma_T1_37.txt  \n",
            "  inflating: /content/data/train/labels/Schwannoma_T1_38.txt  \n",
            "  inflating: /content/data/train/labels/Schwannoma_T1_39.txt  \n",
            "  inflating: /content/data/train/labels/Schwannoma_T1_4.txt  \n",
            "  inflating: /content/data/train/labels/Schwannoma_T1_40.txt  \n",
            "  inflating: /content/data/train/labels/Schwannoma_T1_41.txt  \n",
            "  inflating: /content/data/train/labels/Schwannoma_T1_42.txt  \n",
            "  inflating: /content/data/train/labels/Schwannoma_T1_43.txt  \n",
            "  inflating: /content/data/train/labels/Schwannoma_T1_44.txt  \n",
            "  inflating: /content/data/train/labels/Schwannoma_T1_45.txt  \n",
            "  inflating: /content/data/train/labels/Schwannoma_T1_46.txt  \n",
            "  inflating: /content/data/train/labels/Schwannoma_T1_47.txt  \n",
            "  inflating: /content/data/train/labels/Schwannoma_T1_49.txt  \n",
            "  inflating: /content/data/train/labels/Schwannoma_T1_51.txt  \n",
            "  inflating: /content/data/train/labels/Schwannoma_T1_52.txt  \n",
            "  inflating: /content/data/train/labels/Schwannoma_T1_54.txt  \n",
            "  inflating: /content/data/train/labels/Schwannoma_T1_55.txt  \n",
            "  inflating: /content/data/train/labels/Schwannoma_T1_56.txt  \n",
            "  inflating: /content/data/train/labels/Schwannoma_T1_57.txt  \n",
            "  inflating: /content/data/train/labels/Schwannoma_T1_58.txt  \n",
            "  inflating: /content/data/train/labels/Schwannoma_T1_59.txt  \n",
            "  inflating: /content/data/train/labels/Schwannoma_T1_6.txt  \n",
            "  inflating: /content/data/train/labels/Schwannoma_T1_60.txt  \n",
            "  inflating: /content/data/train/labels/Schwannoma_T1_61.txt  \n",
            "  inflating: /content/data/train/labels/Schwannoma_T1_64.txt  \n",
            "  inflating: /content/data/train/labels/Schwannoma_T1_65.txt  \n",
            "  inflating: /content/data/train/labels/Schwannoma_T1_66.txt  \n",
            "  inflating: /content/data/train/labels/Schwannoma_T1_67.txt  \n",
            "  inflating: /content/data/train/labels/Schwannoma_T1_68.txt  \n",
            "  inflating: /content/data/train/labels/Schwannoma_T1_69.txt  \n",
            "  inflating: /content/data/train/labels/Schwannoma_T1_7.txt  \n",
            "  inflating: /content/data/train/labels/Schwannoma_T1_71.txt  \n",
            "  inflating: /content/data/train/labels/Schwannoma_T1_72.txt  \n",
            "  inflating: /content/data/train/labels/Schwannoma_T1_73.txt  \n",
            "  inflating: /content/data/train/labels/Schwannoma_T1_74.txt  \n",
            "  inflating: /content/data/train/labels/Schwannoma_T1_75.txt  \n",
            "  inflating: /content/data/train/labels/Schwannoma_T1_76.txt  \n",
            "  inflating: /content/data/train/labels/Schwannoma_T1_77.txt  \n",
            "  inflating: /content/data/train/labels/Schwannoma_T1_79.txt  \n",
            "  inflating: /content/data/train/labels/Schwannoma_T1_8.txt  \n",
            "  inflating: /content/data/train/labels/Schwannoma_T1_80.txt  \n",
            "  inflating: /content/data/train/labels/Schwannoma_T1_81.txt  \n",
            "  inflating: /content/data/train/labels/Schwannoma_T1_85.txt  \n",
            "  inflating: /content/data/train/labels/Schwannoma_T1_86.txt  \n",
            "  inflating: /content/data/train/labels/Schwannoma_T1_87.txt  \n",
            "  inflating: /content/data/train/labels/Schwannoma_T1_88.txt  \n",
            "  inflating: /content/data/train/labels/Schwannoma_T1_89.txt  \n",
            "  inflating: /content/data/train/labels/Schwannoma_T1_9.txt  \n",
            "  inflating: /content/data/train/labels/Schwannoma_T1_90.txt  \n",
            "  inflating: /content/data/train/labels/Schwannoma_T1_91.txt  \n",
            "  inflating: /content/data/train/labels/Schwannoma_T1_92.txt  \n",
            "  inflating: /content/data/train/labels/Schwannoma_T1_94.txt  \n",
            "  inflating: /content/data/train/labels/Schwannoma_T1_95.txt  \n",
            "  inflating: /content/data/train/labels/Schwannoma_T1_96.txt  \n",
            "  inflating: /content/data/train/labels/Schwannoma_T1_97.txt  \n",
            "  inflating: /content/data/train/labels/Schwannoma_T1_98.txt  \n",
            "  inflating: /content/data/train/labels/Schwannoma_T2_1.txt  \n",
            "  inflating: /content/data/train/labels/Schwannoma_T2_10.txt  \n",
            "  inflating: /content/data/train/labels/Schwannoma_T2_100.txt  \n",
            "  inflating: /content/data/train/labels/Schwannoma_T2_101.txt  \n",
            "  inflating: /content/data/train/labels/Schwannoma_T2_102.txt  \n",
            "  inflating: /content/data/train/labels/Schwannoma_T2_103.txt  \n",
            "  inflating: /content/data/train/labels/Schwannoma_T2_104.txt  \n",
            "  inflating: /content/data/train/labels/Schwannoma_T2_105.txt  \n",
            "  inflating: /content/data/train/labels/Schwannoma_T2_106.txt  \n",
            "  inflating: /content/data/train/labels/Schwannoma_T2_107.txt  \n",
            "  inflating: /content/data/train/labels/Schwannoma_T2_108.txt  \n",
            "  inflating: /content/data/train/labels/Schwannoma_T2_109.txt  \n",
            "  inflating: /content/data/train/labels/Schwannoma_T2_11.txt  \n",
            "  inflating: /content/data/train/labels/Schwannoma_T2_110.txt  \n",
            "  inflating: /content/data/train/labels/Schwannoma_T2_111.txt  \n",
            "  inflating: /content/data/train/labels/Schwannoma_T2_112.txt  \n",
            "  inflating: /content/data/train/labels/Schwannoma_T2_113.txt  \n",
            "  inflating: /content/data/train/labels/Schwannoma_T2_114.txt  \n",
            "  inflating: /content/data/train/labels/Schwannoma_T2_115.txt  \n",
            "  inflating: /content/data/train/labels/Schwannoma_T2_116.txt  \n",
            "  inflating: /content/data/train/labels/Schwannoma_T2_117.txt  \n",
            "  inflating: /content/data/train/labels/Schwannoma_T2_118.txt  \n",
            "  inflating: /content/data/train/labels/Schwannoma_T2_12.txt  \n",
            "  inflating: /content/data/train/labels/Schwannoma_T2_120.txt  \n",
            "  inflating: /content/data/train/labels/Schwannoma_T2_121.txt  \n",
            "  inflating: /content/data/train/labels/Schwannoma_T2_122.txt  \n",
            "  inflating: /content/data/train/labels/Schwannoma_T2_123.txt  \n",
            "  inflating: /content/data/train/labels/Schwannoma_T2_14.txt  \n",
            "  inflating: /content/data/train/labels/Schwannoma_T2_15.txt  \n",
            "  inflating: /content/data/train/labels/Schwannoma_T2_16.txt  \n",
            "  inflating: /content/data/train/labels/Schwannoma_T2_17.txt  \n",
            "  inflating: /content/data/train/labels/Schwannoma_T2_2.txt  \n",
            "  inflating: /content/data/train/labels/Schwannoma_T2_20.txt  \n",
            "  inflating: /content/data/train/labels/Schwannoma_T2_21.txt  \n",
            "  inflating: /content/data/train/labels/Schwannoma_T2_22.txt  \n",
            "  inflating: /content/data/train/labels/Schwannoma_T2_23.txt  \n",
            "  inflating: /content/data/train/labels/Schwannoma_T2_24.txt  \n",
            "  inflating: /content/data/train/labels/Schwannoma_T2_26.txt  \n",
            "  inflating: /content/data/train/labels/Schwannoma_T2_27.txt  \n",
            "  inflating: /content/data/train/labels/Schwannoma_T2_28.txt  \n",
            "  inflating: /content/data/train/labels/Schwannoma_T2_3.txt  \n",
            "  inflating: /content/data/train/labels/Schwannoma_T2_31.txt  \n",
            "  inflating: /content/data/train/labels/Schwannoma_T2_32.txt  \n",
            "  inflating: /content/data/train/labels/Schwannoma_T2_34.txt  \n",
            "  inflating: /content/data/train/labels/Schwannoma_T2_35.txt  \n",
            "  inflating: /content/data/train/labels/Schwannoma_T2_36.txt  \n",
            "  inflating: /content/data/train/labels/Schwannoma_T2_37.txt  \n",
            "  inflating: /content/data/train/labels/Schwannoma_T2_38.txt  \n",
            "  inflating: /content/data/train/labels/Schwannoma_T2_39.txt  \n",
            "  inflating: /content/data/train/labels/Schwannoma_T2_4.txt  \n",
            "  inflating: /content/data/train/labels/Schwannoma_T2_40.txt  \n",
            "  inflating: /content/data/train/labels/Schwannoma_T2_41.txt  \n",
            "  inflating: /content/data/train/labels/Schwannoma_T2_42.txt  \n",
            "  inflating: /content/data/train/labels/Schwannoma_T2_43.txt  \n",
            "  inflating: /content/data/train/labels/Schwannoma_T2_45.txt  \n",
            "  inflating: /content/data/train/labels/Schwannoma_T2_46.txt  \n",
            "  inflating: /content/data/train/labels/Schwannoma_T2_48.txt  \n",
            "  inflating: /content/data/train/labels/Schwannoma_T2_49.txt  \n",
            "  inflating: /content/data/train/labels/Schwannoma_T2_50.txt  \n",
            "  inflating: /content/data/train/labels/Schwannoma_T2_52.txt  \n",
            "  inflating: /content/data/train/labels/Schwannoma_T2_53.txt  \n",
            "  inflating: /content/data/train/labels/Schwannoma_T2_54.txt  \n",
            "  inflating: /content/data/train/labels/Schwannoma_T2_56.txt  \n",
            "  inflating: /content/data/train/labels/Schwannoma_T2_57.txt  \n",
            "  inflating: /content/data/train/labels/Schwannoma_T2_58.txt  \n",
            "  inflating: /content/data/train/labels/Schwannoma_T2_6.txt  \n",
            "  inflating: /content/data/train/labels/Schwannoma_T2_60.txt  \n",
            "  inflating: /content/data/train/labels/Schwannoma_T2_63.txt  \n",
            "  inflating: /content/data/train/labels/Schwannoma_T2_64.txt  \n",
            "  inflating: /content/data/train/labels/Schwannoma_T2_66.txt  \n",
            "  inflating: /content/data/train/labels/Schwannoma_T2_67.txt  \n",
            "  inflating: /content/data/train/labels/Schwannoma_T2_68.txt  \n",
            "  inflating: /content/data/train/labels/Schwannoma_T2_69.txt  \n",
            "  inflating: /content/data/train/labels/Schwannoma_T2_7.txt  \n",
            "  inflating: /content/data/train/labels/Schwannoma_T2_70.txt  \n",
            "  inflating: /content/data/train/labels/Schwannoma_T2_71.txt  \n",
            "  inflating: /content/data/train/labels/Schwannoma_T2_73.txt  \n",
            "  inflating: /content/data/train/labels/Schwannoma_T2_74.txt  \n",
            "  inflating: /content/data/train/labels/Schwannoma_T2_75.txt  \n",
            "  inflating: /content/data/train/labels/Schwannoma_T2_78.txt  \n",
            "  inflating: /content/data/train/labels/Schwannoma_T2_82.txt  \n",
            "  inflating: /content/data/train/labels/Schwannoma_T2_83.txt  \n",
            "  inflating: /content/data/train/labels/Schwannoma_T2_87.txt  \n",
            "  inflating: /content/data/train/labels/Schwannoma_T2_88.txt  \n",
            "  inflating: /content/data/train/labels/Schwannoma_T2_89.txt  \n",
            "  inflating: /content/data/train/labels/Schwannoma_T2_9.txt  \n",
            "  inflating: /content/data/train/labels/Schwannoma_T2_90.txt  \n",
            "  inflating: /content/data/train/labels/Schwannoma_T2_91.txt  \n",
            "  inflating: /content/data/train/labels/Schwannoma_T2_92.txt  \n",
            "  inflating: /content/data/train/labels/Schwannoma_T2_93.txt  \n",
            "  inflating: /content/data/train/labels/Schwannoma_T2_94.txt  \n",
            "  inflating: /content/data/train/labels/Schwannoma_T2_97.txt  \n",
            "  inflating: /content/data/train/labels/Schwannoma_T2_98.txt  \n",
            "  inflating: /content/data/train/labels/Schwannoma_T2_99.txt  \n",
            "  inflating: /content/data/train/labels/Tuberculoma_T1C+_1.txt  \n",
            "  inflating: /content/data/train/labels/Tuberculoma_T1C+_10.txt  \n",
            "  inflating: /content/data/train/labels/Tuberculoma_T1C+_11.txt  \n",
            "  inflating: /content/data/train/labels/Tuberculoma_T1C+_12.txt  \n",
            "  inflating: /content/data/train/labels/Tuberculoma_T1C+_15.txt  \n",
            "  inflating: /content/data/train/labels/Tuberculoma_T1C+_16.txt  \n",
            "  inflating: /content/data/train/labels/Tuberculoma_T1C+_17.txt  \n",
            "  inflating: /content/data/train/labels/Tuberculoma_T1C+_18.txt  \n",
            "  inflating: /content/data/train/labels/Tuberculoma_T1C+_19.txt  \n",
            "  inflating: /content/data/train/labels/Tuberculoma_T1C+_2.txt  \n",
            "  inflating: /content/data/train/labels/Tuberculoma_T1C+_22.txt  \n",
            "  inflating: /content/data/train/labels/Tuberculoma_T1C+_23.txt  \n",
            "  inflating: /content/data/train/labels/Tuberculoma_T1C+_25.txt  \n",
            "  inflating: /content/data/train/labels/Tuberculoma_T1C+_26.txt  \n",
            "  inflating: /content/data/train/labels/Tuberculoma_T1C+_28.txt  \n",
            "  inflating: /content/data/train/labels/Tuberculoma_T1C+_29.txt  \n",
            "  inflating: /content/data/train/labels/Tuberculoma_T1C+_3.txt  \n",
            "  inflating: /content/data/train/labels/Tuberculoma_T1C+_31.txt  \n",
            "  inflating: /content/data/train/labels/Tuberculoma_T1C+_32.txt  \n",
            "  inflating: /content/data/train/labels/Tuberculoma_T1C+_33.txt  \n",
            "  inflating: /content/data/train/labels/Tuberculoma_T1C+_34.txt  \n",
            "  inflating: /content/data/train/labels/Tuberculoma_T1C+_35.txt  \n",
            "  inflating: /content/data/train/labels/Tuberculoma_T1C+_36.txt  \n",
            "  inflating: /content/data/train/labels/Tuberculoma_T1C+_37.txt  \n",
            "  inflating: /content/data/train/labels/Tuberculoma_T1C+_38.txt  \n",
            "  inflating: /content/data/train/labels/Tuberculoma_T1C+_39.txt  \n",
            "  inflating: /content/data/train/labels/Tuberculoma_T1C+_4.txt  \n",
            "  inflating: /content/data/train/labels/Tuberculoma_T1C+_40.txt  \n",
            "  inflating: /content/data/train/labels/Tuberculoma_T1C+_41.txt  \n",
            "  inflating: /content/data/train/labels/Tuberculoma_T1C+_42.txt  \n",
            "  inflating: /content/data/train/labels/Tuberculoma_T1C+_43.txt  \n",
            "  inflating: /content/data/train/labels/Tuberculoma_T1C+_44.txt  \n",
            "  inflating: /content/data/train/labels/Tuberculoma_T1C+_48.txt  \n",
            "  inflating: /content/data/train/labels/Tuberculoma_T1C+_49.txt  \n",
            "  inflating: /content/data/train/labels/Tuberculoma_T1C+_5.txt  \n",
            "  inflating: /content/data/train/labels/Tuberculoma_T1C+_50.txt  \n",
            "  inflating: /content/data/train/labels/Tuberculoma_T1C+_51.txt  \n",
            "  inflating: /content/data/train/labels/Tuberculoma_T1C+_52.txt  \n",
            "  inflating: /content/data/train/labels/Tuberculoma_T1C+_53.txt  \n",
            "  inflating: /content/data/train/labels/Tuberculoma_T1C+_54.txt  \n",
            "  inflating: /content/data/train/labels/Tuberculoma_T1C+_55.txt  \n",
            "  inflating: /content/data/train/labels/Tuberculoma_T1C+_56.txt  \n",
            "  inflating: /content/data/train/labels/Tuberculoma_T1C+_57.txt  \n",
            "  inflating: /content/data/train/labels/Tuberculoma_T1C+_58.txt  \n",
            "  inflating: /content/data/train/labels/Tuberculoma_T1C+_59.txt  \n",
            "  inflating: /content/data/train/labels/Tuberculoma_T1C+_6.txt  \n",
            "  inflating: /content/data/train/labels/Tuberculoma_T1C+_60.txt  \n",
            "  inflating: /content/data/train/labels/Tuberculoma_T1C+_61.txt  \n",
            "  inflating: /content/data/train/labels/Tuberculoma_T1C+_63.txt  \n",
            "  inflating: /content/data/train/labels/Tuberculoma_T1C+_65.txt  \n",
            "  inflating: /content/data/train/labels/Tuberculoma_T1C+_66.txt  \n",
            "  inflating: /content/data/train/labels/Tuberculoma_T1C+_67.txt  \n",
            "  inflating: /content/data/train/labels/Tuberculoma_T1C+_68.txt  \n",
            "  inflating: /content/data/train/labels/Tuberculoma_T1C+_7.txt  \n",
            "  inflating: /content/data/train/labels/Tuberculoma_T1C+_70.txt  \n",
            "  inflating: /content/data/train/labels/Tuberculoma_T1C+_71.txt  \n",
            "  inflating: /content/data/train/labels/Tuberculoma_T1C+_72.txt  \n",
            "  inflating: /content/data/train/labels/Tuberculoma_T1C+_73.txt  \n",
            "  inflating: /content/data/train/labels/Tuberculoma_T1C+_74.txt  \n",
            "  inflating: /content/data/train/labels/Tuberculoma_T1C+_75.txt  \n",
            "  inflating: /content/data/train/labels/Tuberculoma_T1C+_76.txt  \n",
            "  inflating: /content/data/train/labels/Tuberculoma_T1C+_77.txt  \n",
            "  inflating: /content/data/train/labels/Tuberculoma_T1C+_79.txt  \n",
            "  inflating: /content/data/train/labels/Tuberculoma_T1C+_8.txt  \n",
            "  inflating: /content/data/train/labels/Tuberculoma_T1C+_80.txt  \n",
            "  inflating: /content/data/train/labels/Tuberculoma_T1C+_81.txt  \n",
            "  inflating: /content/data/train/labels/Tuberculoma_T1C+_82.txt  \n",
            "  inflating: /content/data/train/labels/Tuberculoma_T1C+_83.txt  \n",
            "  inflating: /content/data/train/labels/Tuberculoma_T1C+_84.txt  \n",
            "  inflating: /content/data/train/labels/Tuberculoma_T1C+_9.txt  \n",
            "  inflating: /content/data/train/labels/Tuberculoma_T1_10.txt  \n",
            "  inflating: /content/data/train/labels/Tuberculoma_T1_11.txt  \n",
            "  inflating: /content/data/train/labels/Tuberculoma_T1_12.txt  \n",
            "  inflating: /content/data/train/labels/Tuberculoma_T1_13.txt  \n",
            "  inflating: /content/data/train/labels/Tuberculoma_T1_14.txt  \n",
            "  inflating: /content/data/train/labels/Tuberculoma_T1_15.txt  \n",
            "  inflating: /content/data/train/labels/Tuberculoma_T1_16.txt  \n",
            "  inflating: /content/data/train/labels/Tuberculoma_T1_17.txt  \n",
            "  inflating: /content/data/train/labels/Tuberculoma_T1_18.txt  \n",
            "  inflating: /content/data/train/labels/Tuberculoma_T1_19.txt  \n",
            "  inflating: /content/data/train/labels/Tuberculoma_T1_2.txt  \n",
            "  inflating: /content/data/train/labels/Tuberculoma_T1_21.txt  \n",
            "  inflating: /content/data/train/labels/Tuberculoma_T1_22.txt  \n",
            "  inflating: /content/data/train/labels/Tuberculoma_T1_24.txt  \n",
            "  inflating: /content/data/train/labels/Tuberculoma_T1_25.txt  \n",
            "  inflating: /content/data/train/labels/Tuberculoma_T1_27.txt  \n",
            "  inflating: /content/data/train/labels/Tuberculoma_T1_3.txt  \n",
            "  inflating: /content/data/train/labels/Tuberculoma_T1_5.txt  \n",
            "  inflating: /content/data/train/labels/Tuberculoma_T1_6.txt  \n",
            "  inflating: /content/data/train/labels/Tuberculoma_T2_1.txt  \n",
            "  inflating: /content/data/train/labels/Tuberculoma_T2_10.txt  \n",
            "  inflating: /content/data/train/labels/Tuberculoma_T2_11.txt  \n",
            "  inflating: /content/data/train/labels/Tuberculoma_T2_12.txt  \n",
            "  inflating: /content/data/train/labels/Tuberculoma_T2_13.txt  \n",
            "  inflating: /content/data/train/labels/Tuberculoma_T2_15.txt  \n",
            "  inflating: /content/data/train/labels/Tuberculoma_T2_16.txt  \n",
            "  inflating: /content/data/train/labels/Tuberculoma_T2_17.txt  \n",
            "  inflating: /content/data/train/labels/Tuberculoma_T2_18.txt  \n",
            "  inflating: /content/data/train/labels/Tuberculoma_T2_19.txt  \n",
            "  inflating: /content/data/train/labels/Tuberculoma_T2_2.txt  \n",
            "  inflating: /content/data/train/labels/Tuberculoma_T2_20.txt  \n",
            "  inflating: /content/data/train/labels/Tuberculoma_T2_21.txt  \n",
            "  inflating: /content/data/train/labels/Tuberculoma_T2_22.txt  \n",
            "  inflating: /content/data/train/labels/Tuberculoma_T2_23.txt  \n",
            "  inflating: /content/data/train/labels/Tuberculoma_T2_24.txt  \n",
            "  inflating: /content/data/train/labels/Tuberculoma_T2_25.txt  \n",
            "  inflating: /content/data/train/labels/Tuberculoma_T2_27.txt  \n",
            "  inflating: /content/data/train/labels/Tuberculoma_T2_29.txt  \n",
            "  inflating: /content/data/train/labels/Tuberculoma_T2_3.txt  \n",
            "  inflating: /content/data/train/labels/Tuberculoma_T2_30.txt  \n",
            "  inflating: /content/data/train/labels/Tuberculoma_T2_33.txt  \n",
            "  inflating: /content/data/train/labels/Tuberculoma_T2_4.txt  \n",
            "  inflating: /content/data/train/labels/Tuberculoma_T2_5.txt  \n",
            "  inflating: /content/data/train/labels/Tuberculoma_T2_6.txt  \n",
            "  inflating: /content/data/train/labels/Tuberculoma_T2_7.txt  \n",
            "  inflating: /content/data/train/labels/Tuberculoma_T2_9.txt  \n",
            "   creating: /content/data/train/masks/\n",
            "  inflating: /content/data/train/masks/Astrocitoma_T1C+_100_mask.jpg  \n",
            "  inflating: /content/data/train/masks/Astrocitoma_T1C+_101_mask.jpg  \n",
            "  inflating: /content/data/train/masks/Astrocitoma_T1C+_102_mask.jpg  \n",
            "  inflating: /content/data/train/masks/Astrocitoma_T1C+_103_mask.jpg  \n",
            "  inflating: /content/data/train/masks/Astrocitoma_T1C+_105_mask.jpg  \n",
            "  inflating: /content/data/train/masks/Astrocitoma_T1C+_106_mask.jpg  \n",
            "  inflating: /content/data/train/masks/Astrocitoma_T1C+_107_mask.jpg  \n",
            "  inflating: /content/data/train/masks/Astrocitoma_T1C+_108_mask.jpg  \n",
            "  inflating: /content/data/train/masks/Astrocitoma_T1C+_10_mask.jpg  \n",
            "  inflating: /content/data/train/masks/Astrocitoma_T1C+_110_mask.jpg  \n",
            "  inflating: /content/data/train/masks/Astrocitoma_T1C+_111_mask.jpg  \n",
            "  inflating: /content/data/train/masks/Astrocitoma_T1C+_115_mask.jpg  \n",
            "  inflating: /content/data/train/masks/Astrocitoma_T1C+_116_mask.jpg  \n",
            "  inflating: /content/data/train/masks/Astrocitoma_T1C+_117_mask.jpg  \n",
            "  inflating: /content/data/train/masks/Astrocitoma_T1C+_118_mask.jpg  \n",
            "  inflating: /content/data/train/masks/Astrocitoma_T1C+_11_mask.jpg  \n",
            "  inflating: /content/data/train/masks/Astrocitoma_T1C+_121_mask.jpg  \n",
            "  inflating: /content/data/train/masks/Astrocitoma_T1C+_124_mask.jpg  \n",
            "  inflating: /content/data/train/masks/Astrocitoma_T1C+_125_mask.jpg  \n",
            "  inflating: /content/data/train/masks/Astrocitoma_T1C+_126_mask.jpg  \n",
            "  inflating: /content/data/train/masks/Astrocitoma_T1C+_127_mask.jpg  \n",
            "  inflating: /content/data/train/masks/Astrocitoma_T1C+_128_mask.jpg  \n",
            "  inflating: /content/data/train/masks/Astrocitoma_T1C+_129_mask.jpg  \n",
            "  inflating: /content/data/train/masks/Astrocitoma_T1C+_12_mask.jpg  \n",
            "  inflating: /content/data/train/masks/Astrocitoma_T1C+_130_mask.jpg  \n",
            "  inflating: /content/data/train/masks/Astrocitoma_T1C+_131_mask.jpg  \n",
            "  inflating: /content/data/train/masks/Astrocitoma_T1C+_132_mask.jpg  \n",
            "  inflating: /content/data/train/masks/Astrocitoma_T1C+_133_mask.jpg  \n",
            "  inflating: /content/data/train/masks/Astrocitoma_T1C+_134_mask.jpg  \n",
            "  inflating: /content/data/train/masks/Astrocitoma_T1C+_135_mask.jpg  \n",
            "  inflating: /content/data/train/masks/Astrocitoma_T1C+_137_mask.jpg  \n",
            "  inflating: /content/data/train/masks/Astrocitoma_T1C+_138_mask.jpg  \n",
            "  inflating: /content/data/train/masks/Astrocitoma_T1C+_139_mask.jpg  \n",
            "  inflating: /content/data/train/masks/Astrocitoma_T1C+_13_mask.jpg  \n",
            "  inflating: /content/data/train/masks/Astrocitoma_T1C+_140_mask.jpg  \n",
            "  inflating: /content/data/train/masks/Astrocitoma_T1C+_141_mask.jpg  \n",
            "  inflating: /content/data/train/masks/Astrocitoma_T1C+_142_mask.jpg  \n",
            "  inflating: /content/data/train/masks/Astrocitoma_T1C+_144_mask.jpg  \n",
            "  inflating: /content/data/train/masks/Astrocitoma_T1C+_145_mask.jpg  \n",
            "  inflating: /content/data/train/masks/Astrocitoma_T1C+_147_mask.jpg  \n",
            "  inflating: /content/data/train/masks/Astrocitoma_T1C+_148_mask.jpg  \n",
            "  inflating: /content/data/train/masks/Astrocitoma_T1C+_149_mask.jpg  \n",
            "  inflating: /content/data/train/masks/Astrocitoma_T1C+_14_mask.jpg  \n",
            "  inflating: /content/data/train/masks/Astrocitoma_T1C+_150_mask.jpg  \n",
            "  inflating: /content/data/train/masks/Astrocitoma_T1C+_151_mask.jpg  \n",
            "  inflating: /content/data/train/masks/Astrocitoma_T1C+_153_mask.jpg  \n",
            "  inflating: /content/data/train/masks/Astrocitoma_T1C+_154_mask.jpg  \n",
            "  inflating: /content/data/train/masks/Astrocitoma_T1C+_156_mask.jpg  \n",
            "  inflating: /content/data/train/masks/Astrocitoma_T1C+_157_mask.jpg  \n",
            "  inflating: /content/data/train/masks/Astrocitoma_T1C+_158_mask.jpg  \n",
            "  inflating: /content/data/train/masks/Astrocitoma_T1C+_15_mask.jpg  \n",
            "  inflating: /content/data/train/masks/Astrocitoma_T1C+_160_mask.jpg  \n",
            "  inflating: /content/data/train/masks/Astrocitoma_T1C+_161_mask.jpg  \n",
            "  inflating: /content/data/train/masks/Astrocitoma_T1C+_162_mask.jpg  \n",
            "  inflating: /content/data/train/masks/Astrocitoma_T1C+_163_mask.jpg  \n",
            "  inflating: /content/data/train/masks/Astrocitoma_T1C+_164_mask.jpg  \n",
            "  inflating: /content/data/train/masks/Astrocitoma_T1C+_165_mask.jpg  \n",
            "  inflating: /content/data/train/masks/Astrocitoma_T1C+_166_mask.jpg  \n",
            "  inflating: /content/data/train/masks/Astrocitoma_T1C+_168_mask.jpg  \n",
            "  inflating: /content/data/train/masks/Astrocitoma_T1C+_170_mask.jpg  \n",
            "  inflating: /content/data/train/masks/Astrocitoma_T1C+_172_mask.jpg  \n",
            "  inflating: /content/data/train/masks/Astrocitoma_T1C+_176_mask.jpg  \n",
            "  inflating: /content/data/train/masks/Astrocitoma_T1C+_177_mask.jpg  \n",
            "  inflating: /content/data/train/masks/Astrocitoma_T1C+_178_mask.jpg  \n",
            "  inflating: /content/data/train/masks/Astrocitoma_T1C+_179_mask.jpg  \n",
            "  inflating: /content/data/train/masks/Astrocitoma_T1C+_17_mask.jpg  \n",
            "  inflating: /content/data/train/masks/Astrocitoma_T1C+_180_mask.jpg  \n",
            "  inflating: /content/data/train/masks/Astrocitoma_T1C+_181_mask.jpg  \n",
            "  inflating: /content/data/train/masks/Astrocitoma_T1C+_182_mask.jpg  \n",
            "  inflating: /content/data/train/masks/Astrocitoma_T1C+_183_mask.jpg  \n",
            "  inflating: /content/data/train/masks/Astrocitoma_T1C+_184_mask.jpg  \n",
            "  inflating: /content/data/train/masks/Astrocitoma_T1C+_185_mask.jpg  \n",
            "  inflating: /content/data/train/masks/Astrocitoma_T1C+_186_mask.jpg  \n",
            "  inflating: /content/data/train/masks/Astrocitoma_T1C+_187_mask.jpg  \n",
            "  inflating: /content/data/train/masks/Astrocitoma_T1C+_188_mask.jpg  \n",
            "  inflating: /content/data/train/masks/Astrocitoma_T1C+_18_mask.jpg  \n",
            "  inflating: /content/data/train/masks/Astrocitoma_T1C+_190_mask.jpg  \n",
            "  inflating: /content/data/train/masks/Astrocitoma_T1C+_191_mask.jpg  \n",
            "  inflating: /content/data/train/masks/Astrocitoma_T1C+_192_mask.jpg  \n",
            "  inflating: /content/data/train/masks/Astrocitoma_T1C+_193_mask.jpg  \n",
            "  inflating: /content/data/train/masks/Astrocitoma_T1C+_194_mask.jpg  \n",
            "  inflating: /content/data/train/masks/Astrocitoma_T1C+_195_mask.jpg  \n",
            "  inflating: /content/data/train/masks/Astrocitoma_T1C+_196_mask.jpg  \n",
            "  inflating: /content/data/train/masks/Astrocitoma_T1C+_197_mask.jpg  \n",
            "  inflating: /content/data/train/masks/Astrocitoma_T1C+_198_mask.jpg  \n",
            "  inflating: /content/data/train/masks/Astrocitoma_T1C+_199_mask.jpg  \n",
            "  inflating: /content/data/train/masks/Astrocitoma_T1C+_19_mask.jpg  \n",
            "  inflating: /content/data/train/masks/Astrocitoma_T1C+_1_mask.jpg  \n",
            "  inflating: /content/data/train/masks/Astrocitoma_T1C+_201_mask.jpg  \n",
            "  inflating: /content/data/train/masks/Astrocitoma_T1C+_202_mask.jpg  \n",
            "  inflating: /content/data/train/masks/Astrocitoma_T1C+_204_mask.jpg  \n",
            "  inflating: /content/data/train/masks/Astrocitoma_T1C+_205_mask.jpg  \n",
            "  inflating: /content/data/train/masks/Astrocitoma_T1C+_206_mask.jpg  \n",
            "  inflating: /content/data/train/masks/Astrocitoma_T1C+_207_mask.jpg  \n",
            "  inflating: /content/data/train/masks/Astrocitoma_T1C+_208_mask.jpg  \n",
            "  inflating: /content/data/train/masks/Astrocitoma_T1C+_209_mask.jpg  \n",
            "  inflating: /content/data/train/masks/Astrocitoma_T1C+_20_mask.jpg  \n",
            "  inflating: /content/data/train/masks/Astrocitoma_T1C+_210_mask.jpg  \n",
            "  inflating: /content/data/train/masks/Astrocitoma_T1C+_211_mask.jpg  \n",
            "  inflating: /content/data/train/masks/Astrocitoma_T1C+_212_mask.jpg  \n",
            "  inflating: /content/data/train/masks/Astrocitoma_T1C+_213_mask.jpg  \n",
            "  inflating: /content/data/train/masks/Astrocitoma_T1C+_215_mask.jpg  \n",
            "  inflating: /content/data/train/masks/Astrocitoma_T1C+_216_mask.jpg  \n",
            "  inflating: /content/data/train/masks/Astrocitoma_T1C+_217_mask.jpg  \n",
            "  inflating: /content/data/train/masks/Astrocitoma_T1C+_218_mask.jpg  \n",
            "  inflating: /content/data/train/masks/Astrocitoma_T1C+_21_mask.jpg  \n",
            "  inflating: /content/data/train/masks/Astrocitoma_T1C+_222_mask.jpg  \n",
            "  inflating: /content/data/train/masks/Astrocitoma_T1C+_223_mask.jpg  \n",
            "  inflating: /content/data/train/masks/Astrocitoma_T1C+_225_mask.jpg  \n",
            "  inflating: /content/data/train/masks/Astrocitoma_T1C+_226_mask.jpg  \n",
            "  inflating: /content/data/train/masks/Astrocitoma_T1C+_227_mask.jpg  \n",
            "  inflating: /content/data/train/masks/Astrocitoma_T1C+_229_mask.jpg  \n",
            "  inflating: /content/data/train/masks/Astrocitoma_T1C+_22_mask.jpg  \n",
            "  inflating: /content/data/train/masks/Astrocitoma_T1C+_230_mask.jpg  \n",
            "  inflating: /content/data/train/masks/Astrocitoma_T1C+_231_mask.jpg  \n",
            "  inflating: /content/data/train/masks/Astrocitoma_T1C+_232_mask.jpg  \n",
            "  inflating: /content/data/train/masks/Astrocitoma_T1C+_233_mask.jpg  \n",
            "  inflating: /content/data/train/masks/Astrocitoma_T1C+_23_mask.jpg  \n",
            "  inflating: /content/data/train/masks/Astrocitoma_T1C+_24_mask.jpg  \n",
            "  inflating: /content/data/train/masks/Astrocitoma_T1C+_25_mask.jpg  \n",
            "  inflating: /content/data/train/masks/Astrocitoma_T1C+_26_mask.jpg  \n",
            "  inflating: /content/data/train/masks/Astrocitoma_T1C+_27_mask.jpg  \n",
            "  inflating: /content/data/train/masks/Astrocitoma_T1C+_29_mask.jpg  \n",
            "  inflating: /content/data/train/masks/Astrocitoma_T1C+_2_mask.jpg  \n",
            "  inflating: /content/data/train/masks/Astrocitoma_T1C+_30_mask.jpg  \n",
            "  inflating: /content/data/train/masks/Astrocitoma_T1C+_32_mask.jpg  \n",
            "  inflating: /content/data/train/masks/Astrocitoma_T1C+_33_mask.jpg  \n",
            "  inflating: /content/data/train/masks/Astrocitoma_T1C+_34_mask.jpg  \n",
            "  inflating: /content/data/train/masks/Astrocitoma_T1C+_36_mask.jpg  \n",
            "  inflating: /content/data/train/masks/Astrocitoma_T1C+_37_mask.jpg  \n",
            "  inflating: /content/data/train/masks/Astrocitoma_T1C+_38_mask.jpg  \n",
            "  inflating: /content/data/train/masks/Astrocitoma_T1C+_39_mask.jpg  \n",
            "  inflating: /content/data/train/masks/Astrocitoma_T1C+_3_mask.jpg  \n",
            "  inflating: /content/data/train/masks/Astrocitoma_T1C+_40_mask.jpg  \n",
            "  inflating: /content/data/train/masks/Astrocitoma_T1C+_41_mask.jpg  \n",
            "  inflating: /content/data/train/masks/Astrocitoma_T1C+_42_mask.jpg  \n",
            "  inflating: /content/data/train/masks/Astrocitoma_T1C+_43_mask.jpg  \n",
            "  inflating: /content/data/train/masks/Astrocitoma_T1C+_46_mask.jpg  \n",
            "  inflating: /content/data/train/masks/Astrocitoma_T1C+_47_mask.jpg  \n",
            "  inflating: /content/data/train/masks/Astrocitoma_T1C+_48_mask.jpg  \n",
            "  inflating: /content/data/train/masks/Astrocitoma_T1C+_49_mask.jpg  \n",
            "  inflating: /content/data/train/masks/Astrocitoma_T1C+_4_mask.jpg  \n",
            "  inflating: /content/data/train/masks/Astrocitoma_T1C+_50_mask.jpg  \n",
            "  inflating: /content/data/train/masks/Astrocitoma_T1C+_52_mask.jpg  \n",
            "  inflating: /content/data/train/masks/Astrocitoma_T1C+_53_mask.jpg  \n",
            "  inflating: /content/data/train/masks/Astrocitoma_T1C+_54_mask.jpg  \n",
            "  inflating: /content/data/train/masks/Astrocitoma_T1C+_55_mask.jpg  \n",
            "  inflating: /content/data/train/masks/Astrocitoma_T1C+_56_mask.jpg  \n",
            "  inflating: /content/data/train/masks/Astrocitoma_T1C+_58_mask.jpg  \n",
            "  inflating: /content/data/train/masks/Astrocitoma_T1C+_59_mask.jpg  \n",
            "  inflating: /content/data/train/masks/Astrocitoma_T1C+_5_mask.jpg  \n",
            "  inflating: /content/data/train/masks/Astrocitoma_T1C+_60_mask.jpg  \n",
            "  inflating: /content/data/train/masks/Astrocitoma_T1C+_61_mask.jpg  \n",
            "  inflating: /content/data/train/masks/Astrocitoma_T1C+_62_mask.jpg  \n",
            "  inflating: /content/data/train/masks/Astrocitoma_T1C+_64_mask.jpg  \n",
            "  inflating: /content/data/train/masks/Astrocitoma_T1C+_65_mask.jpg  \n",
            "  inflating: /content/data/train/masks/Astrocitoma_T1C+_66_mask.jpg  \n",
            "  inflating: /content/data/train/masks/Astrocitoma_T1C+_67_mask.jpg  \n",
            "  inflating: /content/data/train/masks/Astrocitoma_T1C+_69_mask.jpg  \n",
            "  inflating: /content/data/train/masks/Astrocitoma_T1C+_6_mask.jpg  \n",
            "  inflating: /content/data/train/masks/Astrocitoma_T1C+_70_mask.jpg  \n",
            "  inflating: /content/data/train/masks/Astrocitoma_T1C+_71_mask.jpg  \n",
            "  inflating: /content/data/train/masks/Astrocitoma_T1C+_73_mask.jpg  \n",
            "  inflating: /content/data/train/masks/Astrocitoma_T1C+_75_mask.jpg  \n",
            "  inflating: /content/data/train/masks/Astrocitoma_T1C+_76_mask.jpg  \n",
            "  inflating: /content/data/train/masks/Astrocitoma_T1C+_77_mask.jpg  \n",
            "  inflating: /content/data/train/masks/Astrocitoma_T1C+_78_mask.jpg  \n",
            "  inflating: /content/data/train/masks/Astrocitoma_T1C+_79_mask.jpg  \n",
            "  inflating: /content/data/train/masks/Astrocitoma_T1C+_80_mask.jpg  \n",
            "  inflating: /content/data/train/masks/Astrocitoma_T1C+_81_mask.jpg  \n",
            "  inflating: /content/data/train/masks/Astrocitoma_T1C+_82_mask.jpg  \n",
            "  inflating: /content/data/train/masks/Astrocitoma_T1C+_83_mask.jpg  \n",
            "  inflating: /content/data/train/masks/Astrocitoma_T1C+_84_mask.jpg  \n",
            "  inflating: /content/data/train/masks/Astrocitoma_T1C+_85_mask.jpg  \n",
            "  inflating: /content/data/train/masks/Astrocitoma_T1C+_86_mask.jpg  \n",
            "  inflating: /content/data/train/masks/Astrocitoma_T1C+_87_mask.jpg  \n",
            "  inflating: /content/data/train/masks/Astrocitoma_T1C+_8_mask.jpg  \n",
            "  inflating: /content/data/train/masks/Astrocitoma_T1C+_90_mask.jpg  \n",
            "  inflating: /content/data/train/masks/Astrocitoma_T1C+_91_mask.jpg  \n",
            "  inflating: /content/data/train/masks/Astrocitoma_T1C+_92_mask.jpg  \n",
            "  inflating: /content/data/train/masks/Astrocitoma_T1C+_93_mask.jpg  \n",
            "  inflating: /content/data/train/masks/Astrocitoma_T1C+_95_mask.jpg  \n",
            "  inflating: /content/data/train/masks/Astrocitoma_T1C+_96_mask.jpg  \n",
            "  inflating: /content/data/train/masks/Astrocitoma_T1C+_97_mask.jpg  \n",
            "  inflating: /content/data/train/masks/Astrocitoma_T1C+_98_mask.jpg  \n",
            "  inflating: /content/data/train/masks/Astrocitoma_T1C+_9_mask.jpg  \n",
            "  inflating: /content/data/train/masks/Astrocitoma_T1_100_mask.jpg  \n",
            "  inflating: /content/data/train/masks/Astrocitoma_T1_101_mask.jpg  \n",
            "  inflating: /content/data/train/masks/Astrocitoma_T1_102_mask.jpg  \n",
            "  inflating: /content/data/train/masks/Astrocitoma_T1_104_mask.jpg  \n",
            "  inflating: /content/data/train/masks/Astrocitoma_T1_105_mask.jpg  \n",
            "  inflating: /content/data/train/masks/Astrocitoma_T1_106_mask.jpg  \n",
            "  inflating: /content/data/train/masks/Astrocitoma_T1_107_mask.jpg  \n",
            "  inflating: /content/data/train/masks/Astrocitoma_T1_108_mask.jpg  \n",
            "  inflating: /content/data/train/masks/Astrocitoma_T1_10_mask.jpg  \n",
            "  inflating: /content/data/train/masks/Astrocitoma_T1_110_mask.jpg  \n",
            "  inflating: /content/data/train/masks/Astrocitoma_T1_111_mask.jpg  \n",
            "  inflating: /content/data/train/masks/Astrocitoma_T1_113_mask.jpg  \n",
            "  inflating: /content/data/train/masks/Astrocitoma_T1_114_mask.jpg  \n",
            "  inflating: /content/data/train/masks/Astrocitoma_T1_115_mask.jpg  \n",
            "  inflating: /content/data/train/masks/Astrocitoma_T1_116_mask.jpg  \n",
            "  inflating: /content/data/train/masks/Astrocitoma_T1_117_mask.jpg  \n",
            "  inflating: /content/data/train/masks/Astrocitoma_T1_118_mask.jpg  \n",
            "  inflating: /content/data/train/masks/Astrocitoma_T1_119_mask.jpg  \n",
            "  inflating: /content/data/train/masks/Astrocitoma_T1_11_mask.jpg  \n",
            "  inflating: /content/data/train/masks/Astrocitoma_T1_122_mask.jpg  \n",
            "  inflating: /content/data/train/masks/Astrocitoma_T1_125_mask.jpg  \n",
            "  inflating: /content/data/train/masks/Astrocitoma_T1_127_mask.jpg  \n",
            "  inflating: /content/data/train/masks/Astrocitoma_T1_128_mask.jpg  \n",
            "  inflating: /content/data/train/masks/Astrocitoma_T1_129_mask.jpg  \n",
            "  inflating: /content/data/train/masks/Astrocitoma_T1_12_mask.jpg  \n",
            "  inflating: /content/data/train/masks/Astrocitoma_T1_130_mask.jpg  \n",
            "  inflating: /content/data/train/masks/Astrocitoma_T1_131_mask.jpg  \n",
            "  inflating: /content/data/train/masks/Astrocitoma_T1_132_mask.jpg  \n",
            "  inflating: /content/data/train/masks/Astrocitoma_T1_133_mask.jpg  \n",
            "  inflating: /content/data/train/masks/Astrocitoma_T1_134_mask.jpg  \n",
            "  inflating: /content/data/train/masks/Astrocitoma_T1_135_mask.jpg  \n",
            "  inflating: /content/data/train/masks/Astrocitoma_T1_136_mask.jpg  \n",
            "  inflating: /content/data/train/masks/Astrocitoma_T1_137_mask.jpg  \n",
            "  inflating: /content/data/train/masks/Astrocitoma_T1_138_mask.jpg  \n",
            "  inflating: /content/data/train/masks/Astrocitoma_T1_139_mask.jpg  \n",
            "  inflating: /content/data/train/masks/Astrocitoma_T1_140_mask.jpg  \n",
            "  inflating: /content/data/train/masks/Astrocitoma_T1_141_mask.jpg  \n",
            "  inflating: /content/data/train/masks/Astrocitoma_T1_142_mask.jpg  \n",
            "  inflating: /content/data/train/masks/Astrocitoma_T1_143_mask.jpg  \n",
            "  inflating: /content/data/train/masks/Astrocitoma_T1_145_mask.jpg  \n",
            "  inflating: /content/data/train/masks/Astrocitoma_T1_146_mask.jpg  \n",
            "  inflating: /content/data/train/masks/Astrocitoma_T1_147_mask.jpg  \n",
            "  inflating: /content/data/train/masks/Astrocitoma_T1_148_mask.jpg  \n",
            "  inflating: /content/data/train/masks/Astrocitoma_T1_149_mask.jpg  \n",
            "  inflating: /content/data/train/masks/Astrocitoma_T1_14_mask.jpg  \n",
            "  inflating: /content/data/train/masks/Astrocitoma_T1_150_mask.jpg  \n",
            "  inflating: /content/data/train/masks/Astrocitoma_T1_151_mask.jpg  \n",
            "  inflating: /content/data/train/masks/Astrocitoma_T1_152_mask.jpg  \n",
            "  inflating: /content/data/train/masks/Astrocitoma_T1_153_mask.jpg  \n",
            "  inflating: /content/data/train/masks/Astrocitoma_T1_154_mask.jpg  \n",
            "  inflating: /content/data/train/masks/Astrocitoma_T1_155_mask.jpg  \n",
            "  inflating: /content/data/train/masks/Astrocitoma_T1_156_mask.jpg  \n",
            "  inflating: /content/data/train/masks/Astrocitoma_T1_157_mask.jpg  \n",
            "  inflating: /content/data/train/masks/Astrocitoma_T1_158_mask.jpg  \n",
            "  inflating: /content/data/train/masks/Astrocitoma_T1_159_mask.jpg  \n",
            "  inflating: /content/data/train/masks/Astrocitoma_T1_15_mask.jpg  \n",
            "  inflating: /content/data/train/masks/Astrocitoma_T1_160_mask.jpg  \n",
            "  inflating: /content/data/train/masks/Astrocitoma_T1_161_mask.jpg  \n",
            "  inflating: /content/data/train/masks/Astrocitoma_T1_162_mask.jpg  \n",
            "  inflating: /content/data/train/masks/Astrocitoma_T1_163_mask.jpg  \n",
            "  inflating: /content/data/train/masks/Astrocitoma_T1_165_mask.jpg  \n",
            "  inflating: /content/data/train/masks/Astrocitoma_T1_166_mask.jpg  \n",
            "  inflating: /content/data/train/masks/Astrocitoma_T1_167_mask.jpg  \n",
            "  inflating: /content/data/train/masks/Astrocitoma_T1_168_mask.jpg  \n",
            "  inflating: /content/data/train/masks/Astrocitoma_T1_169_mask.jpg  \n",
            "  inflating: /content/data/train/masks/Astrocitoma_T1_16_mask.jpg  \n",
            "  inflating: /content/data/train/masks/Astrocitoma_T1_171_mask.jpg  \n",
            "  inflating: /content/data/train/masks/Astrocitoma_T1_172_mask.jpg  \n",
            "  inflating: /content/data/train/masks/Astrocitoma_T1_173_mask.jpg  \n",
            "  inflating: /content/data/train/masks/Astrocitoma_T1_174_mask.jpg  \n",
            "  inflating: /content/data/train/masks/Astrocitoma_T1_175_mask.jpg  \n",
            "  inflating: /content/data/train/masks/Astrocitoma_T1_17_mask.jpg  \n",
            "  inflating: /content/data/train/masks/Astrocitoma_T1_18_mask.jpg  \n",
            "  inflating: /content/data/train/masks/Astrocitoma_T1_19_mask.jpg  \n",
            "  inflating: /content/data/train/masks/Astrocitoma_T1_1_mask.jpg  \n",
            "  inflating: /content/data/train/masks/Astrocitoma_T1_20_mask.jpg  \n",
            "  inflating: /content/data/train/masks/Astrocitoma_T1_21_mask.jpg  \n",
            "  inflating: /content/data/train/masks/Astrocitoma_T1_22_mask.jpg  \n",
            "  inflating: /content/data/train/masks/Astrocitoma_T1_23_mask.jpg  \n",
            "  inflating: /content/data/train/masks/Astrocitoma_T1_24_mask.jpg  \n",
            "  inflating: /content/data/train/masks/Astrocitoma_T1_25_mask.jpg  \n",
            "  inflating: /content/data/train/masks/Astrocitoma_T1_27_mask.jpg  \n",
            "  inflating: /content/data/train/masks/Astrocitoma_T1_28_mask.jpg  \n",
            "  inflating: /content/data/train/masks/Astrocitoma_T1_2_mask.jpg  \n",
            "  inflating: /content/data/train/masks/Astrocitoma_T1_30_mask.jpg  \n",
            "  inflating: /content/data/train/masks/Astrocitoma_T1_31_mask.jpg  \n",
            "  inflating: /content/data/train/masks/Astrocitoma_T1_32_mask.jpg  \n",
            "  inflating: /content/data/train/masks/Astrocitoma_T1_34_mask.jpg  \n",
            "  inflating: /content/data/train/masks/Astrocitoma_T1_35_mask.jpg  \n",
            "  inflating: /content/data/train/masks/Astrocitoma_T1_37_mask.jpg  \n",
            "  inflating: /content/data/train/masks/Astrocitoma_T1_38_mask.jpg  \n",
            "  inflating: /content/data/train/masks/Astrocitoma_T1_39_mask.jpg  \n",
            "  inflating: /content/data/train/masks/Astrocitoma_T1_41_mask.jpg  \n",
            "  inflating: /content/data/train/masks/Astrocitoma_T1_42_mask.jpg  \n",
            "  inflating: /content/data/train/masks/Astrocitoma_T1_43_mask.jpg  \n",
            "  inflating: /content/data/train/masks/Astrocitoma_T1_44_mask.jpg  \n",
            "  inflating: /content/data/train/masks/Astrocitoma_T1_46_mask.jpg  \n",
            "  inflating: /content/data/train/masks/Astrocitoma_T1_47_mask.jpg  \n",
            "  inflating: /content/data/train/masks/Astrocitoma_T1_48_mask.jpg  \n",
            "  inflating: /content/data/train/masks/Astrocitoma_T1_49_mask.jpg  \n",
            "  inflating: /content/data/train/masks/Astrocitoma_T1_50_mask.jpg  \n",
            "  inflating: /content/data/train/masks/Astrocitoma_T1_51_mask.jpg  \n",
            "  inflating: /content/data/train/masks/Astrocitoma_T1_52_mask.jpg  \n",
            "  inflating: /content/data/train/masks/Astrocitoma_T1_53_mask.jpg  \n",
            "  inflating: /content/data/train/masks/Astrocitoma_T1_54_mask.jpg  \n",
            "  inflating: /content/data/train/masks/Astrocitoma_T1_56_mask.jpg  \n",
            "  inflating: /content/data/train/masks/Astrocitoma_T1_57_mask.jpg  \n",
            "  inflating: /content/data/train/masks/Astrocitoma_T1_58_mask.jpg  \n",
            "  inflating: /content/data/train/masks/Astrocitoma_T1_5_mask.jpg  \n",
            "  inflating: /content/data/train/masks/Astrocitoma_T1_60_mask.jpg  \n",
            "  inflating: /content/data/train/masks/Astrocitoma_T1_61_mask.jpg  \n",
            "  inflating: /content/data/train/masks/Astrocitoma_T1_63_mask.jpg  \n",
            "  inflating: /content/data/train/masks/Astrocitoma_T1_64_mask.jpg  \n",
            "  inflating: /content/data/train/masks/Astrocitoma_T1_65_mask.jpg  \n",
            "  inflating: /content/data/train/masks/Astrocitoma_T1_66_mask.jpg  \n",
            "  inflating: /content/data/train/masks/Astrocitoma_T1_68_mask.jpg  \n",
            "  inflating: /content/data/train/masks/Astrocitoma_T1_69_mask.jpg  \n",
            "  inflating: /content/data/train/masks/Astrocitoma_T1_6_mask.jpg  \n",
            "  inflating: /content/data/train/masks/Astrocitoma_T1_71_mask.jpg  \n",
            "  inflating: /content/data/train/masks/Astrocitoma_T1_72_mask.jpg  \n",
            "  inflating: /content/data/train/masks/Astrocitoma_T1_73_mask.jpg  \n",
            "  inflating: /content/data/train/masks/Astrocitoma_T1_74_mask.jpg  \n",
            "  inflating: /content/data/train/masks/Astrocitoma_T1_75_mask.jpg  \n",
            "  inflating: /content/data/train/masks/Astrocitoma_T1_76_mask.jpg  \n",
            "  inflating: /content/data/train/masks/Astrocitoma_T1_77_mask.jpg  \n",
            "  inflating: /content/data/train/masks/Astrocitoma_T1_78_mask.jpg  \n",
            "  inflating: /content/data/train/masks/Astrocitoma_T1_79_mask.jpg  \n",
            "  inflating: /content/data/train/masks/Astrocitoma_T1_7_mask.jpg  \n",
            "  inflating: /content/data/train/masks/Astrocitoma_T1_80_mask.jpg  \n",
            "  inflating: /content/data/train/masks/Astrocitoma_T1_81_mask.jpg  \n",
            "  inflating: /content/data/train/masks/Astrocitoma_T1_84_mask.jpg  \n",
            "  inflating: /content/data/train/masks/Astrocitoma_T1_85_mask.jpg  \n",
            "  inflating: /content/data/train/masks/Astrocitoma_T1_86_mask.jpg  \n",
            "  inflating: /content/data/train/masks/Astrocitoma_T1_87_mask.jpg  \n",
            "  inflating: /content/data/train/masks/Astrocitoma_T1_88_mask.jpg  \n",
            "  inflating: /content/data/train/masks/Astrocitoma_T1_89_mask.jpg  \n",
            "  inflating: /content/data/train/masks/Astrocitoma_T1_8_mask.jpg  \n",
            "  inflating: /content/data/train/masks/Astrocitoma_T1_90_mask.jpg  \n",
            "  inflating: /content/data/train/masks/Astrocitoma_T1_92_mask.jpg  \n",
            "  inflating: /content/data/train/masks/Astrocitoma_T1_94_mask.jpg  \n",
            "  inflating: /content/data/train/masks/Astrocitoma_T1_95_mask.jpg  \n",
            "  inflating: /content/data/train/masks/Astrocitoma_T1_96_mask.jpg  \n",
            "  inflating: /content/data/train/masks/Astrocitoma_T1_97_mask.jpg  \n",
            "  inflating: /content/data/train/masks/Astrocitoma_T1_98_mask.jpg  \n",
            "  inflating: /content/data/train/masks/Astrocitoma_T1_99_mask.jpg  \n",
            "  inflating: /content/data/train/masks/Astrocitoma_T1_9_mask.jpg  \n",
            "  inflating: /content/data/train/masks/Astrocitoma_T2_101_mask.jpg  \n",
            "  inflating: /content/data/train/masks/Astrocitoma_T2_103_mask.jpg  \n",
            "  inflating: /content/data/train/masks/Astrocitoma_T2_104_mask.jpg  \n",
            "  inflating: /content/data/train/masks/Astrocitoma_T2_106_mask.jpg  \n",
            "  inflating: /content/data/train/masks/Astrocitoma_T2_107_mask.jpg  \n",
            "  inflating: /content/data/train/masks/Astrocitoma_T2_108_mask.jpg  \n",
            "  inflating: /content/data/train/masks/Astrocitoma_T2_109_mask.jpg  \n",
            "  inflating: /content/data/train/masks/Astrocitoma_T2_10_mask.jpg  \n",
            "  inflating: /content/data/train/masks/Astrocitoma_T2_110_mask.jpg  \n",
            "  inflating: /content/data/train/masks/Astrocitoma_T2_111_mask.jpg  \n",
            "  inflating: /content/data/train/masks/Astrocitoma_T2_112_mask.jpg  \n",
            "  inflating: /content/data/train/masks/Astrocitoma_T2_114_mask.jpg  \n",
            "  inflating: /content/data/train/masks/Astrocitoma_T2_115_mask.jpg  \n",
            "  inflating: /content/data/train/masks/Astrocitoma_T2_116_mask.jpg  \n",
            "  inflating: /content/data/train/masks/Astrocitoma_T2_117_mask.jpg  \n",
            "  inflating: /content/data/train/masks/Astrocitoma_T2_118_mask.jpg  \n",
            "  inflating: /content/data/train/masks/Astrocitoma_T2_119_mask.jpg  \n",
            "  inflating: /content/data/train/masks/Astrocitoma_T2_120_mask.jpg  \n",
            "  inflating: /content/data/train/masks/Astrocitoma_T2_121_mask.jpg  \n",
            "  inflating: /content/data/train/masks/Astrocitoma_T2_123_mask.jpg  \n",
            "  inflating: /content/data/train/masks/Astrocitoma_T2_124_mask.jpg  \n",
            "  inflating: /content/data/train/masks/Astrocitoma_T2_126_mask.jpg  \n",
            "  inflating: /content/data/train/masks/Astrocitoma_T2_127_mask.jpg  \n",
            "  inflating: /content/data/train/masks/Astrocitoma_T2_129_mask.jpg  \n",
            "  inflating: /content/data/train/masks/Astrocitoma_T2_12_mask.jpg  \n",
            "  inflating: /content/data/train/masks/Astrocitoma_T2_130_mask.jpg  \n",
            "  inflating: /content/data/train/masks/Astrocitoma_T2_131_mask.jpg  \n",
            "  inflating: /content/data/train/masks/Astrocitoma_T2_132_mask.jpg  \n",
            "  inflating: /content/data/train/masks/Astrocitoma_T2_133_mask.jpg  \n",
            "  inflating: /content/data/train/masks/Astrocitoma_T2_136_mask.jpg  \n",
            "  inflating: /content/data/train/masks/Astrocitoma_T2_137_mask.jpg  \n",
            "  inflating: /content/data/train/masks/Astrocitoma_T2_138_mask.jpg  \n",
            "  inflating: /content/data/train/masks/Astrocitoma_T2_139_mask.jpg  \n",
            "  inflating: /content/data/train/masks/Astrocitoma_T2_141_mask.jpg  \n",
            "  inflating: /content/data/train/masks/Astrocitoma_T2_142_mask.jpg  \n",
            "  inflating: /content/data/train/masks/Astrocitoma_T2_143_mask.jpg  \n",
            "  inflating: /content/data/train/masks/Astrocitoma_T2_144_mask.jpg  \n",
            "  inflating: /content/data/train/masks/Astrocitoma_T2_148_mask.jpg  \n",
            "  inflating: /content/data/train/masks/Astrocitoma_T2_149_mask.jpg  \n",
            "  inflating: /content/data/train/masks/Astrocitoma_T2_152_mask.jpg  \n",
            "  inflating: /content/data/train/masks/Astrocitoma_T2_153_mask.jpg  \n",
            "  inflating: /content/data/train/masks/Astrocitoma_T2_154_mask.jpg  \n",
            "  inflating: /content/data/train/masks/Astrocitoma_T2_155_mask.jpg  \n",
            "  inflating: /content/data/train/masks/Astrocitoma_T2_156_mask.jpg  \n",
            "  inflating: /content/data/train/masks/Astrocitoma_T2_157_mask.jpg  \n",
            "  inflating: /content/data/train/masks/Astrocitoma_T2_158_mask.jpg  \n",
            "  inflating: /content/data/train/masks/Astrocitoma_T2_159_mask.jpg  \n",
            "  inflating: /content/data/train/masks/Astrocitoma_T2_15_mask.jpg  \n",
            "  inflating: /content/data/train/masks/Astrocitoma_T2_160_mask.jpg  \n",
            "  inflating: /content/data/train/masks/Astrocitoma_T2_161_mask.jpg  \n",
            "  inflating: /content/data/train/masks/Astrocitoma_T2_162_mask.jpg  \n",
            "  inflating: /content/data/train/masks/Astrocitoma_T2_163_mask.jpg  \n",
            "  inflating: /content/data/train/masks/Astrocitoma_T2_164_mask.jpg  \n",
            "  inflating: /content/data/train/masks/Astrocitoma_T2_165_mask.jpg  \n",
            "  inflating: /content/data/train/masks/Astrocitoma_T2_166_mask.jpg  \n",
            "  inflating: /content/data/train/masks/Astrocitoma_T2_167_mask.jpg  \n",
            "  inflating: /content/data/train/masks/Astrocitoma_T2_168_mask.jpg  \n",
            "  inflating: /content/data/train/masks/Astrocitoma_T2_170_mask.jpg  \n",
            "  inflating: /content/data/train/masks/Astrocitoma_T2_18_mask.jpg  \n",
            "  inflating: /content/data/train/masks/Astrocitoma_T2_19_mask.jpg  \n",
            "  inflating: /content/data/train/masks/Astrocitoma_T2_1_mask.jpg  \n",
            "  inflating: /content/data/train/masks/Astrocitoma_T2_20_mask.jpg  \n",
            "  inflating: /content/data/train/masks/Astrocitoma_T2_21_mask.jpg  \n",
            "  inflating: /content/data/train/masks/Astrocitoma_T2_22_mask.jpg  \n",
            "  inflating: /content/data/train/masks/Astrocitoma_T2_23_mask.jpg  \n",
            "  inflating: /content/data/train/masks/Astrocitoma_T2_24_mask.jpg  \n",
            "  inflating: /content/data/train/masks/Astrocitoma_T2_25_mask.jpg  \n",
            "  inflating: /content/data/train/masks/Astrocitoma_T2_26_mask.jpg  \n",
            "  inflating: /content/data/train/masks/Astrocitoma_T2_27_mask.jpg  \n",
            "  inflating: /content/data/train/masks/Astrocitoma_T2_28_mask.jpg  \n",
            "  inflating: /content/data/train/masks/Astrocitoma_T2_30_mask.jpg  \n",
            "  inflating: /content/data/train/masks/Astrocitoma_T2_31_mask.jpg  \n",
            "  inflating: /content/data/train/masks/Astrocitoma_T2_32_mask.jpg  \n",
            "  inflating: /content/data/train/masks/Astrocitoma_T2_33_mask.jpg  \n",
            "  inflating: /content/data/train/masks/Astrocitoma_T2_34_mask.jpg  \n",
            "  inflating: /content/data/train/masks/Astrocitoma_T2_36_mask.jpg  \n",
            "  inflating: /content/data/train/masks/Astrocitoma_T2_37_mask.jpg  \n",
            "  inflating: /content/data/train/masks/Astrocitoma_T2_38_mask.jpg  \n",
            "  inflating: /content/data/train/masks/Astrocitoma_T2_39_mask.jpg  \n",
            "  inflating: /content/data/train/masks/Astrocitoma_T2_3_mask.jpg  \n",
            "  inflating: /content/data/train/masks/Astrocitoma_T2_40_mask.jpg  \n",
            "  inflating: /content/data/train/masks/Astrocitoma_T2_41_mask.jpg  \n",
            "  inflating: /content/data/train/masks/Astrocitoma_T2_42_mask.jpg  \n",
            "  inflating: /content/data/train/masks/Astrocitoma_T2_43_mask.jpg  \n",
            "  inflating: /content/data/train/masks/Astrocitoma_T2_44_mask.jpg  \n",
            "  inflating: /content/data/train/masks/Astrocitoma_T2_45_mask.jpg  \n",
            "  inflating: /content/data/train/masks/Astrocitoma_T2_46_mask.jpg  \n",
            "  inflating: /content/data/train/masks/Astrocitoma_T2_47_mask.jpg  \n",
            "  inflating: /content/data/train/masks/Astrocitoma_T2_49_mask.jpg  \n",
            "  inflating: /content/data/train/masks/Astrocitoma_T2_4_mask.jpg  \n",
            "  inflating: /content/data/train/masks/Astrocitoma_T2_52_mask.jpg  \n",
            "  inflating: /content/data/train/masks/Astrocitoma_T2_53_mask.jpg  \n",
            "  inflating: /content/data/train/masks/Astrocitoma_T2_54_mask.jpg  \n",
            "  inflating: /content/data/train/masks/Astrocitoma_T2_55_mask.jpg  \n",
            "  inflating: /content/data/train/masks/Astrocitoma_T2_57_mask.jpg  \n",
            "  inflating: /content/data/train/masks/Astrocitoma_T2_58_mask.jpg  \n",
            "  inflating: /content/data/train/masks/Astrocitoma_T2_59_mask.jpg  \n",
            "  inflating: /content/data/train/masks/Astrocitoma_T2_5_mask.jpg  \n",
            "  inflating: /content/data/train/masks/Astrocitoma_T2_60_mask.jpg  \n",
            "  inflating: /content/data/train/masks/Astrocitoma_T2_61_mask.jpg  \n",
            "  inflating: /content/data/train/masks/Astrocitoma_T2_62_mask.jpg  \n",
            "  inflating: /content/data/train/masks/Astrocitoma_T2_63_mask.jpg  \n",
            "  inflating: /content/data/train/masks/Astrocitoma_T2_64_mask.jpg  \n",
            "  inflating: /content/data/train/masks/Astrocitoma_T2_65_mask.jpg  \n",
            "  inflating: /content/data/train/masks/Astrocitoma_T2_68_mask.jpg  \n",
            "  inflating: /content/data/train/masks/Astrocitoma_T2_6_mask.jpg  \n",
            "  inflating: /content/data/train/masks/Astrocitoma_T2_70_mask.jpg  \n",
            "  inflating: /content/data/train/masks/Astrocitoma_T2_72_mask.jpg  \n",
            "  inflating: /content/data/train/masks/Astrocitoma_T2_73_mask.jpg  \n",
            "  inflating: /content/data/train/masks/Astrocitoma_T2_74_mask.jpg  \n",
            "  inflating: /content/data/train/masks/Astrocitoma_T2_75_mask.jpg  \n",
            "  inflating: /content/data/train/masks/Astrocitoma_T2_77_mask.jpg  \n",
            "  inflating: /content/data/train/masks/Astrocitoma_T2_78_mask.jpg  \n",
            "  inflating: /content/data/train/masks/Astrocitoma_T2_7_mask.jpg  \n",
            "  inflating: /content/data/train/masks/Astrocitoma_T2_80_mask.jpg  \n",
            "  inflating: /content/data/train/masks/Astrocitoma_T2_81_mask.jpg  \n",
            "  inflating: /content/data/train/masks/Astrocitoma_T2_83_mask.jpg  \n",
            "  inflating: /content/data/train/masks/Astrocitoma_T2_84_mask.jpg  \n",
            "  inflating: /content/data/train/masks/Astrocitoma_T2_85_mask.jpg  \n",
            "  inflating: /content/data/train/masks/Astrocitoma_T2_86_mask.jpg  \n",
            "  inflating: /content/data/train/masks/Astrocitoma_T2_87_mask.jpg  \n",
            "  inflating: /content/data/train/masks/Astrocitoma_T2_88_mask.jpg  \n",
            "  inflating: /content/data/train/masks/Astrocitoma_T2_89_mask.jpg  \n",
            "  inflating: /content/data/train/masks/Astrocitoma_T2_90_mask.jpg  \n",
            "  inflating: /content/data/train/masks/Astrocitoma_T2_91_mask.jpg  \n",
            "  inflating: /content/data/train/masks/Astrocitoma_T2_92_mask.jpg  \n",
            "  inflating: /content/data/train/masks/Astrocitoma_T2_93_mask.jpg  \n",
            "  inflating: /content/data/train/masks/Astrocitoma_T2_94_mask.jpg  \n",
            "  inflating: /content/data/train/masks/Astrocitoma_T2_97_mask.jpg  \n",
            "  inflating: /content/data/train/masks/Astrocitoma_T2_98_mask.jpg  \n",
            "  inflating: /content/data/train/masks/Astrocitoma_T2_99_mask.jpg  \n",
            "  inflating: /content/data/train/masks/Astrocitoma_T2_9_mask.jpg  \n",
            "  inflating: /content/data/train/masks/Carcinoma_T1C+_100_mask.jpg  \n",
            "  inflating: /content/data/train/masks/Carcinoma_T1C+_101_mask.jpg  \n",
            "  inflating: /content/data/train/masks/Carcinoma_T1C+_102_mask.jpg  \n",
            "  inflating: /content/data/train/masks/Carcinoma_T1C+_104_mask.jpg  \n",
            "  inflating: /content/data/train/masks/Carcinoma_T1C+_105_mask.jpg  \n",
            "  inflating: /content/data/train/masks/Carcinoma_T1C+_106_mask.jpg  \n",
            "  inflating: /content/data/train/masks/Carcinoma_T1C+_107_mask.jpg  \n",
            "  inflating: /content/data/train/masks/Carcinoma_T1C+_108_mask.jpg  \n",
            "  inflating: /content/data/train/masks/Carcinoma_T1C+_10_mask.jpg  \n",
            "  inflating: /content/data/train/masks/Carcinoma_T1C+_110_mask.jpg  \n",
            "  inflating: /content/data/train/masks/Carcinoma_T1C+_11_mask.jpg  \n",
            "  inflating: /content/data/train/masks/Carcinoma_T1C+_12_mask.jpg  \n",
            "  inflating: /content/data/train/masks/Carcinoma_T1C+_13_mask.jpg  \n",
            "  inflating: /content/data/train/masks/Carcinoma_T1C+_14_mask.jpg  \n",
            "  inflating: /content/data/train/masks/Carcinoma_T1C+_15_mask.jpg  \n",
            "  inflating: /content/data/train/masks/Carcinoma_T1C+_16_mask.jpg  \n",
            "  inflating: /content/data/train/masks/Carcinoma_T1C+_17_mask.jpg  \n",
            "  inflating: /content/data/train/masks/Carcinoma_T1C+_18_mask.jpg  \n",
            "  inflating: /content/data/train/masks/Carcinoma_T1C+_19_mask.jpg  \n",
            "  inflating: /content/data/train/masks/Carcinoma_T1C+_1_mask.jpg  \n",
            "  inflating: /content/data/train/masks/Carcinoma_T1C+_20_mask.jpg  \n",
            "  inflating: /content/data/train/masks/Carcinoma_T1C+_22_mask.jpg  \n",
            "  inflating: /content/data/train/masks/Carcinoma_T1C+_23_mask.jpg  \n",
            "  inflating: /content/data/train/masks/Carcinoma_T1C+_24_mask.jpg  \n",
            "  inflating: /content/data/train/masks/Carcinoma_T1C+_25_mask.jpg  \n",
            "  inflating: /content/data/train/masks/Carcinoma_T1C+_27_mask.jpg  \n",
            "  inflating: /content/data/train/masks/Carcinoma_T1C+_29_mask.jpg  \n",
            "  inflating: /content/data/train/masks/Carcinoma_T1C+_30_mask.jpg  \n",
            "  inflating: /content/data/train/masks/Carcinoma_T1C+_32_mask.jpg  \n",
            "  inflating: /content/data/train/masks/Carcinoma_T1C+_33_mask.jpg  \n",
            "  inflating: /content/data/train/masks/Carcinoma_T1C+_34_mask.jpg  \n",
            "  inflating: /content/data/train/masks/Carcinoma_T1C+_35_mask.jpg  \n",
            "  inflating: /content/data/train/masks/Carcinoma_T1C+_36_mask.jpg  \n",
            "  inflating: /content/data/train/masks/Carcinoma_T1C+_37_mask.jpg  \n",
            "  inflating: /content/data/train/masks/Carcinoma_T1C+_38_mask.jpg  \n",
            "  inflating: /content/data/train/masks/Carcinoma_T1C+_39_mask.jpg  \n",
            "  inflating: /content/data/train/masks/Carcinoma_T1C+_3_mask.jpg  \n",
            "  inflating: /content/data/train/masks/Carcinoma_T1C+_40_mask.jpg  \n",
            "  inflating: /content/data/train/masks/Carcinoma_T1C+_41_mask.jpg  \n",
            "  inflating: /content/data/train/masks/Carcinoma_T1C+_42_mask.jpg  \n",
            "  inflating: /content/data/train/masks/Carcinoma_T1C+_43_mask.jpg  \n",
            "  inflating: /content/data/train/masks/Carcinoma_T1C+_44_mask.jpg  \n",
            "  inflating: /content/data/train/masks/Carcinoma_T1C+_45_mask.jpg  \n",
            "  inflating: /content/data/train/masks/Carcinoma_T1C+_46_mask.jpg  \n",
            "  inflating: /content/data/train/masks/Carcinoma_T1C+_47_mask.jpg  \n",
            "  inflating: /content/data/train/masks/Carcinoma_T1C+_48_mask.jpg  \n",
            "  inflating: /content/data/train/masks/Carcinoma_T1C+_49_mask.jpg  \n",
            "  inflating: /content/data/train/masks/Carcinoma_T1C+_4_mask.jpg  \n",
            "  inflating: /content/data/train/masks/Carcinoma_T1C+_50_mask.jpg  \n",
            "  inflating: /content/data/train/masks/Carcinoma_T1C+_52_mask.jpg  \n",
            "  inflating: /content/data/train/masks/Carcinoma_T1C+_53_mask.jpg  \n",
            "  inflating: /content/data/train/masks/Carcinoma_T1C+_54_mask.jpg  \n",
            "  inflating: /content/data/train/masks/Carcinoma_T1C+_55_mask.jpg  \n",
            "  inflating: /content/data/train/masks/Carcinoma_T1C+_56_mask.jpg  \n",
            "  inflating: /content/data/train/masks/Carcinoma_T1C+_59_mask.jpg  \n",
            "  inflating: /content/data/train/masks/Carcinoma_T1C+_5_mask.jpg  \n",
            "  inflating: /content/data/train/masks/Carcinoma_T1C+_60_mask.jpg  \n",
            "  inflating: /content/data/train/masks/Carcinoma_T1C+_61_mask.jpg  \n",
            "  inflating: /content/data/train/masks/Carcinoma_T1C+_62_mask.jpg  \n",
            "  inflating: /content/data/train/masks/Carcinoma_T1C+_63_mask.jpg  \n",
            "  inflating: /content/data/train/masks/Carcinoma_T1C+_64_mask.jpg  \n",
            "  inflating: /content/data/train/masks/Carcinoma_T1C+_65_mask.jpg  \n",
            "  inflating: /content/data/train/masks/Carcinoma_T1C+_66_mask.jpg  \n",
            "  inflating: /content/data/train/masks/Carcinoma_T1C+_67_mask.jpg  \n",
            "  inflating: /content/data/train/masks/Carcinoma_T1C+_68_mask.jpg  \n",
            "  inflating: /content/data/train/masks/Carcinoma_T1C+_69_mask.jpg  \n",
            "  inflating: /content/data/train/masks/Carcinoma_T1C+_6_mask.jpg  \n",
            "  inflating: /content/data/train/masks/Carcinoma_T1C+_70_mask.jpg  \n",
            "  inflating: /content/data/train/masks/Carcinoma_T1C+_71_mask.jpg  \n",
            "  inflating: /content/data/train/masks/Carcinoma_T1C+_72_mask.jpg  \n",
            "  inflating: /content/data/train/masks/Carcinoma_T1C+_73_mask.jpg  \n",
            "  inflating: /content/data/train/masks/Carcinoma_T1C+_75_mask.jpg  \n",
            "  inflating: /content/data/train/masks/Carcinoma_T1C+_76_mask.jpg  \n",
            "  inflating: /content/data/train/masks/Carcinoma_T1C+_77_mask.jpg  \n",
            "  inflating: /content/data/train/masks/Carcinoma_T1C+_7_mask.jpg  \n",
            "  inflating: /content/data/train/masks/Carcinoma_T1C+_80_mask.jpg  \n",
            "  inflating: /content/data/train/masks/Carcinoma_T1C+_82_mask.jpg  \n",
            "  inflating: /content/data/train/masks/Carcinoma_T1C+_83_mask.jpg  \n",
            "  inflating: /content/data/train/masks/Carcinoma_T1C+_84_mask.jpg  \n",
            "  inflating: /content/data/train/masks/Carcinoma_T1C+_85_mask.jpg  \n",
            "  inflating: /content/data/train/masks/Carcinoma_T1C+_87_mask.jpg  \n",
            "  inflating: /content/data/train/masks/Carcinoma_T1C+_88_mask.jpg  \n",
            "  inflating: /content/data/train/masks/Carcinoma_T1C+_89_mask.jpg  \n",
            "  inflating: /content/data/train/masks/Carcinoma_T1C+_8_mask.jpg  \n",
            "  inflating: /content/data/train/masks/Carcinoma_T1C+_90_mask.jpg  \n",
            "  inflating: /content/data/train/masks/Carcinoma_T1C+_92_mask.jpg  \n",
            "  inflating: /content/data/train/masks/Carcinoma_T1C+_93_mask.jpg  \n",
            "  inflating: /content/data/train/masks/Carcinoma_T1C+_94_mask.jpg  \n",
            "  inflating: /content/data/train/masks/Carcinoma_T1C+_95_mask.jpg  \n",
            "  inflating: /content/data/train/masks/Carcinoma_T1C+_96_mask.jpg  \n",
            "  inflating: /content/data/train/masks/Carcinoma_T1C+_97_mask.jpg  \n",
            "  inflating: /content/data/train/masks/Carcinoma_T1C+_98_mask.jpg  \n",
            "  inflating: /content/data/train/masks/Carcinoma_T1C+_99_mask.jpg  \n",
            "  inflating: /content/data/train/masks/Carcinoma_T1C+_9_mask.jpg  \n",
            "  inflating: /content/data/train/masks/Carcinoma_T1_10_mask.jpg  \n",
            "  inflating: /content/data/train/masks/Carcinoma_T1_11_mask.jpg  \n",
            "  inflating: /content/data/train/masks/Carcinoma_T1_12_mask.jpg  \n",
            "  inflating: /content/data/train/masks/Carcinoma_T1_13_mask.jpg  \n",
            "  inflating: /content/data/train/masks/Carcinoma_T1_14_mask.jpg  \n",
            "  inflating: /content/data/train/masks/Carcinoma_T1_15_mask.jpg  \n",
            "  inflating: /content/data/train/masks/Carcinoma_T1_16_mask.jpg  \n",
            "  inflating: /content/data/train/masks/Carcinoma_T1_17_mask.jpg  \n",
            "  inflating: /content/data/train/masks/Carcinoma_T1_19_mask.jpg  \n",
            "  inflating: /content/data/train/masks/Carcinoma_T1_1_mask.jpg  \n",
            "  inflating: /content/data/train/masks/Carcinoma_T1_21_mask.jpg  \n",
            "  inflating: /content/data/train/masks/Carcinoma_T1_23_mask.jpg  \n",
            "  inflating: /content/data/train/masks/Carcinoma_T1_27_mask.jpg  \n",
            "  inflating: /content/data/train/masks/Carcinoma_T1_28_mask.jpg  \n",
            "  inflating: /content/data/train/masks/Carcinoma_T1_29_mask.jpg  \n",
            "  inflating: /content/data/train/masks/Carcinoma_T1_2_mask.jpg  \n",
            "  inflating: /content/data/train/masks/Carcinoma_T1_30_mask.jpg  \n",
            "  inflating: /content/data/train/masks/Carcinoma_T1_31_mask.jpg  \n",
            "  inflating: /content/data/train/masks/Carcinoma_T1_32_mask.jpg  \n",
            "  inflating: /content/data/train/masks/Carcinoma_T1_33_mask.jpg  \n",
            "  inflating: /content/data/train/masks/Carcinoma_T1_34_mask.jpg  \n",
            "  inflating: /content/data/train/masks/Carcinoma_T1_35_mask.jpg  \n",
            "  inflating: /content/data/train/masks/Carcinoma_T1_36_mask.jpg  \n",
            "  inflating: /content/data/train/masks/Carcinoma_T1_37_mask.jpg  \n",
            "  inflating: /content/data/train/masks/Carcinoma_T1_38_mask.jpg  \n",
            "  inflating: /content/data/train/masks/Carcinoma_T1_39_mask.jpg  \n",
            "  inflating: /content/data/train/masks/Carcinoma_T1_40_mask.jpg  \n",
            "  inflating: /content/data/train/masks/Carcinoma_T1_41_mask.jpg  \n",
            "  inflating: /content/data/train/masks/Carcinoma_T1_42_mask.jpg  \n",
            "  inflating: /content/data/train/masks/Carcinoma_T1_43_mask.jpg  \n",
            "  inflating: /content/data/train/masks/Carcinoma_T1_46_mask.jpg  \n",
            "  inflating: /content/data/train/masks/Carcinoma_T1_47_mask.jpg  \n",
            "  inflating: /content/data/train/masks/Carcinoma_T1_48_mask.jpg  \n",
            "  inflating: /content/data/train/masks/Carcinoma_T1_49_mask.jpg  \n",
            "  inflating: /content/data/train/masks/Carcinoma_T1_4_mask.jpg  \n",
            "  inflating: /content/data/train/masks/Carcinoma_T1_52_mask.jpg  \n",
            "  inflating: /content/data/train/masks/Carcinoma_T1_53_mask.jpg  \n",
            "  inflating: /content/data/train/masks/Carcinoma_T1_54_mask.jpg  \n",
            "  inflating: /content/data/train/masks/Carcinoma_T1_55_mask.jpg  \n",
            "  inflating: /content/data/train/masks/Carcinoma_T1_56_mask.jpg  \n",
            "  inflating: /content/data/train/masks/Carcinoma_T1_57_mask.jpg  \n",
            "  inflating: /content/data/train/masks/Carcinoma_T1_5_mask.jpg  \n",
            "  inflating: /content/data/train/masks/Carcinoma_T1_60_mask.jpg  \n",
            "  inflating: /content/data/train/masks/Carcinoma_T1_61_mask.jpg  \n",
            "  inflating: /content/data/train/masks/Carcinoma_T1_62_mask.jpg  \n",
            "  inflating: /content/data/train/masks/Carcinoma_T1_64_mask.jpg  \n",
            "  inflating: /content/data/train/masks/Carcinoma_T1_65_mask.jpg  \n",
            "  inflating: /content/data/train/masks/Carcinoma_T1_66_mask.jpg  \n",
            "  inflating: /content/data/train/masks/Carcinoma_T1_6_mask.jpg  \n",
            "  inflating: /content/data/train/masks/Carcinoma_T1_7_mask.jpg  \n",
            "  inflating: /content/data/train/masks/Carcinoma_T1_8_mask.jpg  \n",
            "  inflating: /content/data/train/masks/Carcinoma_T1_9_mask.jpg  \n",
            "  inflating: /content/data/train/masks/Carcinoma_T2_10_mask.jpg  \n",
            "  inflating: /content/data/train/masks/Carcinoma_T2_11_mask.jpg  \n",
            "  inflating: /content/data/train/masks/Carcinoma_T2_13_mask.jpg  \n",
            "  inflating: /content/data/train/masks/Carcinoma_T2_14_mask.jpg  \n",
            "  inflating: /content/data/train/masks/Carcinoma_T2_15_mask.jpg  \n",
            "  inflating: /content/data/train/masks/Carcinoma_T2_16_mask.jpg  \n",
            "  inflating: /content/data/train/masks/Carcinoma_T2_17_mask.jpg  \n",
            "  inflating: /content/data/train/masks/Carcinoma_T2_18_mask.jpg  \n",
            "  inflating: /content/data/train/masks/Carcinoma_T2_19_mask.jpg  \n",
            "  inflating: /content/data/train/masks/Carcinoma_T2_1_mask.jpg  \n",
            "  inflating: /content/data/train/masks/Carcinoma_T2_20_mask.jpg  \n",
            "  inflating: /content/data/train/masks/Carcinoma_T2_22_mask.jpg  \n",
            "  inflating: /content/data/train/masks/Carcinoma_T2_23_mask.jpg  \n",
            "  inflating: /content/data/train/masks/Carcinoma_T2_24_mask.jpg  \n",
            "  inflating: /content/data/train/masks/Carcinoma_T2_25_mask.jpg  \n",
            "  inflating: /content/data/train/masks/Carcinoma_T2_26_mask.jpg  \n",
            "  inflating: /content/data/train/masks/Carcinoma_T2_28_mask.jpg  \n",
            "  inflating: /content/data/train/masks/Carcinoma_T2_29_mask.jpg  \n",
            "  inflating: /content/data/train/masks/Carcinoma_T2_30_mask.jpg  \n",
            "  inflating: /content/data/train/masks/Carcinoma_T2_35_mask.jpg  \n",
            "  inflating: /content/data/train/masks/Carcinoma_T2_36_mask.jpg  \n",
            "  inflating: /content/data/train/masks/Carcinoma_T2_37_mask.jpg  \n",
            "  inflating: /content/data/train/masks/Carcinoma_T2_38_mask.jpg  \n",
            "  inflating: /content/data/train/masks/Carcinoma_T2_39_mask.jpg  \n",
            "  inflating: /content/data/train/masks/Carcinoma_T2_40_mask.jpg  \n",
            "  inflating: /content/data/train/masks/Carcinoma_T2_41_mask.jpg  \n",
            "  inflating: /content/data/train/masks/Carcinoma_T2_42_mask.jpg  \n",
            "  inflating: /content/data/train/masks/Carcinoma_T2_43_mask.jpg  \n",
            "  inflating: /content/data/train/masks/Carcinoma_T2_44_mask.jpg  \n",
            "  inflating: /content/data/train/masks/Carcinoma_T2_45_mask.jpg  \n",
            "  inflating: /content/data/train/masks/Carcinoma_T2_46_mask.jpg  \n",
            "  inflating: /content/data/train/masks/Carcinoma_T2_47_mask.jpg  \n",
            "  inflating: /content/data/train/masks/Carcinoma_T2_48_mask.jpg  \n",
            "  inflating: /content/data/train/masks/Carcinoma_T2_49_mask.jpg  \n",
            "  inflating: /content/data/train/masks/Carcinoma_T2_4_mask.jpg  \n",
            "  inflating: /content/data/train/masks/Carcinoma_T2_50_mask.jpg  \n",
            "  inflating: /content/data/train/masks/Carcinoma_T2_51_mask.jpg  \n",
            "  inflating: /content/data/train/masks/Carcinoma_T2_52_mask.jpg  \n",
            "  inflating: /content/data/train/masks/Carcinoma_T2_54_mask.jpg  \n",
            "  inflating: /content/data/train/masks/Carcinoma_T2_55_mask.jpg  \n",
            "  inflating: /content/data/train/masks/Carcinoma_T2_57_mask.jpg  \n",
            "  inflating: /content/data/train/masks/Carcinoma_T2_58_mask.jpg  \n",
            "  inflating: /content/data/train/masks/Carcinoma_T2_5_mask.jpg  \n",
            "  inflating: /content/data/train/masks/Carcinoma_T2_60_mask.jpg  \n",
            "  inflating: /content/data/train/masks/Carcinoma_T2_63_mask.jpg  \n",
            "  inflating: /content/data/train/masks/Carcinoma_T2_64_mask.jpg  \n",
            "  inflating: /content/data/train/masks/Carcinoma_T2_65_mask.jpg  \n",
            "  inflating: /content/data/train/masks/Carcinoma_T2_66_mask.jpg  \n",
            "  inflating: /content/data/train/masks/Carcinoma_T2_68_mask.jpg  \n",
            "  inflating: /content/data/train/masks/Carcinoma_T2_69_mask.jpg  \n",
            "  inflating: /content/data/train/masks/Carcinoma_T2_70_mask.jpg  \n",
            "  inflating: /content/data/train/masks/Carcinoma_T2_71_mask.jpg  \n",
            "  inflating: /content/data/train/masks/Carcinoma_T2_73_mask.jpg  \n",
            "  inflating: /content/data/train/masks/Carcinoma_T2_7_mask.jpg  \n",
            "  inflating: /content/data/train/masks/Ependimoma_T1C+_11_mask.jpg  \n",
            "  inflating: /content/data/train/masks/Ependimoma_T1C+_13_mask.jpg  \n",
            "  inflating: /content/data/train/masks/Ependimoma_T1C+_14_mask.jpg  \n",
            "  inflating: /content/data/train/masks/Ependimoma_T1C+_15_mask.jpg  \n",
            "  inflating: /content/data/train/masks/Ependimoma_T1C+_16_mask.jpg  \n",
            "  inflating: /content/data/train/masks/Ependimoma_T1C+_17_mask.jpg  \n",
            "  inflating: /content/data/train/masks/Ependimoma_T1C+_18_mask.jpg  \n",
            "  inflating: /content/data/train/masks/Ependimoma_T1C+_1_mask.jpg  \n",
            "  inflating: /content/data/train/masks/Ependimoma_T1C+_20_mask.jpg  \n",
            "  inflating: /content/data/train/masks/Ependimoma_T1C+_21_mask.jpg  \n",
            "  inflating: /content/data/train/masks/Ependimoma_T1C+_22_mask.jpg  \n",
            "  inflating: /content/data/train/masks/Ependimoma_T1C+_23_mask.jpg  \n",
            "  inflating: /content/data/train/masks/Ependimoma_T1C+_24_mask.jpg  \n",
            "  inflating: /content/data/train/masks/Ependimoma_T1C+_26_mask.jpg  \n",
            "  inflating: /content/data/train/masks/Ependimoma_T1C+_27_mask.jpg  \n",
            "  inflating: /content/data/train/masks/Ependimoma_T1C+_28_mask.jpg  \n",
            "  inflating: /content/data/train/masks/Ependimoma_T1C+_29_mask.jpg  \n",
            "  inflating: /content/data/train/masks/Ependimoma_T1C+_2_mask.jpg  \n",
            "  inflating: /content/data/train/masks/Ependimoma_T1C+_30_mask.jpg  \n",
            "  inflating: /content/data/train/masks/Ependimoma_T1C+_31_mask.jpg  \n",
            "  inflating: /content/data/train/masks/Ependimoma_T1C+_32_mask.jpg  \n",
            "  inflating: /content/data/train/masks/Ependimoma_T1C+_33_mask.jpg  \n",
            "  inflating: /content/data/train/masks/Ependimoma_T1C+_34_mask.jpg  \n",
            "  inflating: /content/data/train/masks/Ependimoma_T1C+_35_mask.jpg  \n",
            "  inflating: /content/data/train/masks/Ependimoma_T1C+_36_mask.jpg  \n",
            "  inflating: /content/data/train/masks/Ependimoma_T1C+_37_mask.jpg  \n",
            "  inflating: /content/data/train/masks/Ependimoma_T1C+_3_mask.jpg  \n",
            "  inflating: /content/data/train/masks/Ependimoma_T1C+_40_mask.jpg  \n",
            "  inflating: /content/data/train/masks/Ependimoma_T1C+_41_mask.jpg  \n",
            "  inflating: /content/data/train/masks/Ependimoma_T1C+_44_mask.jpg  \n",
            "  inflating: /content/data/train/masks/Ependimoma_T1C+_46_mask.jpg  \n",
            "  inflating: /content/data/train/masks/Ependimoma_T1C+_47_mask.jpg  \n",
            "  inflating: /content/data/train/masks/Ependimoma_T1C+_48_mask.jpg  \n",
            "  inflating: /content/data/train/masks/Ependimoma_T1C+_4_mask.jpg  \n",
            "  inflating: /content/data/train/masks/Ependimoma_T1C+_5_mask.jpg  \n",
            "  inflating: /content/data/train/masks/Ependimoma_T1C+_6_mask.jpg  \n",
            "  inflating: /content/data/train/masks/Ependimoma_T1C+_7_mask.jpg  \n",
            "  inflating: /content/data/train/masks/Ependimoma_T1C+_8_mask.jpg  \n",
            "  inflating: /content/data/train/masks/Ependimoma_T1_10_mask.jpg  \n",
            "  inflating: /content/data/train/masks/Ependimoma_T1_11_mask.jpg  \n",
            "  inflating: /content/data/train/masks/Ependimoma_T1_12_mask.jpg  \n",
            "  inflating: /content/data/train/masks/Ependimoma_T1_13_mask.jpg  \n",
            "  inflating: /content/data/train/masks/Ependimoma_T1_14_mask.jpg  \n",
            "  inflating: /content/data/train/masks/Ependimoma_T1_15_mask.jpg  \n",
            "  inflating: /content/data/train/masks/Ependimoma_T1_16_mask.jpg  \n",
            "  inflating: /content/data/train/masks/Ependimoma_T1_17_mask.jpg  \n",
            "  inflating: /content/data/train/masks/Ependimoma_T1_18_mask.jpg  \n",
            "  inflating: /content/data/train/masks/Ependimoma_T1_19_mask.jpg  \n",
            "  inflating: /content/data/train/masks/Ependimoma_T1_1_mask.jpg  \n",
            "  inflating: /content/data/train/masks/Ependimoma_T1_20_mask.jpg  \n",
            "  inflating: /content/data/train/masks/Ependimoma_T1_21_mask.jpg  \n",
            "  inflating: /content/data/train/masks/Ependimoma_T1_22_mask.jpg  \n",
            "  inflating: /content/data/train/masks/Ependimoma_T1_23_mask.jpg  \n",
            "  inflating: /content/data/train/masks/Ependimoma_T1_24_mask.jpg  \n",
            "  inflating: /content/data/train/masks/Ependimoma_T1_26_mask.jpg  \n",
            "  inflating: /content/data/train/masks/Ependimoma_T1_29_mask.jpg  \n",
            "  inflating: /content/data/train/masks/Ependimoma_T1_30_mask.jpg  \n",
            "  inflating: /content/data/train/masks/Ependimoma_T1_32_mask.jpg  \n",
            "  inflating: /content/data/train/masks/Ependimoma_T1_33_mask.jpg  \n",
            "  inflating: /content/data/train/masks/Ependimoma_T1_34_mask.jpg  \n",
            "  inflating: /content/data/train/masks/Ependimoma_T1_35_mask.jpg  \n",
            "  inflating: /content/data/train/masks/Ependimoma_T1_36_mask.jpg  \n",
            "  inflating: /content/data/train/masks/Ependimoma_T1_37_mask.jpg  \n",
            "  inflating: /content/data/train/masks/Ependimoma_T1_38_mask.jpg  \n",
            "  inflating: /content/data/train/masks/Ependimoma_T1_39_mask.jpg  \n",
            "  inflating: /content/data/train/masks/Ependimoma_T1_3_mask.jpg  \n",
            "  inflating: /content/data/train/masks/Ependimoma_T1_40_mask.jpg  \n",
            "  inflating: /content/data/train/masks/Ependimoma_T1_41_mask.jpg  \n",
            "  inflating: /content/data/train/masks/Ependimoma_T1_43_mask.jpg  \n",
            "  inflating: /content/data/train/masks/Ependimoma_T1_44_mask.jpg  \n",
            "  inflating: /content/data/train/masks/Ependimoma_T1_45_mask.jpg  \n",
            "  inflating: /content/data/train/masks/Ependimoma_T1_4_mask.jpg  \n",
            "  inflating: /content/data/train/masks/Ependimoma_T1_5_mask.jpg  \n",
            "  inflating: /content/data/train/masks/Ependimoma_T1_6_mask.jpg  \n",
            "  inflating: /content/data/train/masks/Ependimoma_T1_7_mask.jpg  \n",
            "  inflating: /content/data/train/masks/Ependimoma_T1_9_mask.jpg  \n",
            "  inflating: /content/data/train/masks/Ependimoma_T2_10_mask.jpg  \n",
            "  inflating: /content/data/train/masks/Ependimoma_T2_11_mask.jpg  \n",
            "  inflating: /content/data/train/masks/Ependimoma_T2_12_mask.jpg  \n",
            "  inflating: /content/data/train/masks/Ependimoma_T2_13_mask.jpg  \n",
            "  inflating: /content/data/train/masks/Ependimoma_T2_14_mask.jpg  \n",
            "  inflating: /content/data/train/masks/Ependimoma_T2_15_mask.jpg  \n",
            "  inflating: /content/data/train/masks/Ependimoma_T2_16_mask.jpg  \n",
            "  inflating: /content/data/train/masks/Ependimoma_T2_17_mask.jpg  \n",
            "  inflating: /content/data/train/masks/Ependimoma_T2_18_mask.jpg  \n",
            "  inflating: /content/data/train/masks/Ependimoma_T2_19_mask.jpg  \n",
            "  inflating: /content/data/train/masks/Ependimoma_T2_1_mask.jpg  \n",
            "  inflating: /content/data/train/masks/Ependimoma_T2_20_mask.jpg  \n",
            "  inflating: /content/data/train/masks/Ependimoma_T2_22_mask.jpg  \n",
            "  inflating: /content/data/train/masks/Ependimoma_T2_23_mask.jpg  \n",
            "  inflating: /content/data/train/masks/Ependimoma_T2_24_mask.jpg  \n",
            "  inflating: /content/data/train/masks/Ependimoma_T2_25_mask.jpg  \n",
            "  inflating: /content/data/train/masks/Ependimoma_T2_26_mask.jpg  \n",
            "  inflating: /content/data/train/masks/Ependimoma_T2_27_mask.jpg  \n",
            "  inflating: /content/data/train/masks/Ependimoma_T2_28_mask.jpg  \n",
            "  inflating: /content/data/train/masks/Ependimoma_T2_29_mask.jpg  \n",
            "  inflating: /content/data/train/masks/Ependimoma_T2_2_mask.jpg  \n",
            "  inflating: /content/data/train/masks/Ependimoma_T2_30_mask.jpg  \n",
            "  inflating: /content/data/train/masks/Ependimoma_T2_31_mask.jpg  \n",
            "  inflating: /content/data/train/masks/Ependimoma_T2_32_mask.jpg  \n",
            "  inflating: /content/data/train/masks/Ependimoma_T2_33_mask.jpg  \n",
            "  inflating: /content/data/train/masks/Ependimoma_T2_34_mask.jpg  \n",
            "  inflating: /content/data/train/masks/Ependimoma_T2_35_mask.jpg  \n",
            "  inflating: /content/data/train/masks/Ependimoma_T2_37_mask.jpg  \n",
            "  inflating: /content/data/train/masks/Ependimoma_T2_38_mask.jpg  \n",
            "  inflating: /content/data/train/masks/Ependimoma_T2_3_mask.jpg  \n",
            "  inflating: /content/data/train/masks/Ependimoma_T2_41_mask.jpg  \n",
            "  inflating: /content/data/train/masks/Ependimoma_T2_42_mask.jpg  \n",
            "  inflating: /content/data/train/masks/Ependimoma_T2_43_mask.jpg  \n",
            "  inflating: /content/data/train/masks/Ependimoma_T2_44_mask.jpg  \n",
            "  inflating: /content/data/train/masks/Ependimoma_T2_47_mask.jpg  \n",
            "  inflating: /content/data/train/masks/Ependimoma_T2_48_mask.jpg  \n",
            "  inflating: /content/data/train/masks/Ependimoma_T2_4_mask.jpg  \n",
            "  inflating: /content/data/train/masks/Ependimoma_T2_51_mask.jpg  \n",
            "  inflating: /content/data/train/masks/Ependimoma_T2_52_mask.jpg  \n",
            "  inflating: /content/data/train/masks/Ependimoma_T2_55_mask.jpg  \n",
            "  inflating: /content/data/train/masks/Ependimoma_T2_56_mask.jpg  \n",
            "  inflating: /content/data/train/masks/Ependimoma_T2_5_mask.jpg  \n",
            "  inflating: /content/data/train/masks/Ependimoma_T2_8_mask.jpg  \n",
            "  inflating: /content/data/train/masks/Ependimoma_T2_9_mask.jpg  \n",
            "  inflating: /content/data/train/masks/Ganglioglioma_T1C+_10_mask.jpg  \n",
            "  inflating: /content/data/train/masks/Ganglioglioma_T1C+_12_mask.jpg  \n",
            "  inflating: /content/data/train/masks/Ganglioglioma_T1C+_13_mask.jpg  \n",
            "  inflating: /content/data/train/masks/Ganglioglioma_T1C+_14_mask.jpg  \n",
            "  inflating: /content/data/train/masks/Ganglioglioma_T1C+_15_mask.jpg  \n",
            "  inflating: /content/data/train/masks/Ganglioglioma_T1C+_16_mask.jpg  \n",
            "  inflating: /content/data/train/masks/Ganglioglioma_T1C+_17_mask.jpg  \n",
            "  inflating: /content/data/train/masks/Ganglioglioma_T1C+_18_mask.jpg  \n",
            "  inflating: /content/data/train/masks/Ganglioglioma_T1C+_3_mask.jpg  \n",
            "  inflating: /content/data/train/masks/Ganglioglioma_T1C+_5_mask.jpg  \n",
            "  inflating: /content/data/train/masks/Ganglioglioma_T1C+_6_mask.jpg  \n",
            "  inflating: /content/data/train/masks/Ganglioglioma_T1C+_8_mask.jpg  \n",
            "  inflating: /content/data/train/masks/Ganglioglioma_T1_10_mask.jpg  \n",
            "  inflating: /content/data/train/masks/Ganglioglioma_T1_11_mask.jpg  \n",
            "  inflating: /content/data/train/masks/Ganglioglioma_T1_12_mask.jpg  \n",
            "  inflating: /content/data/train/masks/Ganglioglioma_T1_13_mask.jpg  \n",
            "  inflating: /content/data/train/masks/Ganglioglioma_T1_14_mask.jpg  \n",
            "  inflating: /content/data/train/masks/Ganglioglioma_T1_15_mask.jpg  \n",
            "  inflating: /content/data/train/masks/Ganglioglioma_T1_16_mask.jpg  \n",
            "  inflating: /content/data/train/masks/Ganglioglioma_T1_17_mask.jpg  \n",
            "  inflating: /content/data/train/masks/Ganglioglioma_T1_18_mask.jpg  \n",
            "  inflating: /content/data/train/masks/Ganglioglioma_T1_19_mask.jpg  \n",
            "  inflating: /content/data/train/masks/Ganglioglioma_T1_20_mask.jpg  \n",
            "  inflating: /content/data/train/masks/Ganglioglioma_T1_2_mask.jpg  \n",
            "  inflating: /content/data/train/masks/Ganglioglioma_T1_3_mask.jpg  \n",
            "  inflating: /content/data/train/masks/Ganglioglioma_T1_4_mask.jpg  \n",
            "  inflating: /content/data/train/masks/Ganglioglioma_T1_5_mask.jpg  \n",
            "  inflating: /content/data/train/masks/Ganglioglioma_T1_6_mask.jpg  \n",
            "  inflating: /content/data/train/masks/Ganglioglioma_T1_8_mask.jpg  \n",
            "  inflating: /content/data/train/masks/Ganglioglioma_T1_9_mask.jpg  \n",
            "  inflating: /content/data/train/masks/Ganglioglioma_T2_10_mask.jpg  \n",
            "  inflating: /content/data/train/masks/Ganglioglioma_T2_11_mask.jpg  \n",
            "  inflating: /content/data/train/masks/Ganglioglioma_T2_12_mask.jpg  \n",
            "  inflating: /content/data/train/masks/Ganglioglioma_T2_14_mask.jpg  \n",
            "  inflating: /content/data/train/masks/Ganglioglioma_T2_15_mask.jpg  \n",
            "  inflating: /content/data/train/masks/Ganglioglioma_T2_16_mask.jpg  \n",
            "  inflating: /content/data/train/masks/Ganglioglioma_T2_17_mask.jpg  \n",
            "  inflating: /content/data/train/masks/Ganglioglioma_T2_19_mask.jpg  \n",
            "  inflating: /content/data/train/masks/Ganglioglioma_T2_1_mask.jpg  \n",
            "  inflating: /content/data/train/masks/Ganglioglioma_T2_20_mask.jpg  \n",
            "  inflating: /content/data/train/masks/Ganglioglioma_T2_21_mask.jpg  \n",
            "  inflating: /content/data/train/masks/Ganglioglioma_T2_22_mask.jpg  \n",
            "  inflating: /content/data/train/masks/Ganglioglioma_T2_23_mask.jpg  \n",
            "  inflating: /content/data/train/masks/Ganglioglioma_T2_3_mask.jpg  \n",
            "  inflating: /content/data/train/masks/Ganglioglioma_T2_5_mask.jpg  \n",
            "  inflating: /content/data/train/masks/Ganglioglioma_T2_6_mask.jpg  \n",
            "  inflating: /content/data/train/masks/Ganglioglioma_T2_7_mask.jpg  \n",
            "  inflating: /content/data/train/masks/Ganglioglioma_T2_9_mask.jpg  \n",
            "  inflating: /content/data/train/masks/Germinoma_T1C+_11_mask.jpg  \n",
            "  inflating: /content/data/train/masks/Germinoma_T1C+_12_mask.jpg  \n",
            "  inflating: /content/data/train/masks/Germinoma_T1C+_13_mask.jpg  \n",
            "  inflating: /content/data/train/masks/Germinoma_T1C+_14_mask.jpg  \n",
            "  inflating: /content/data/train/masks/Germinoma_T1C+_15_mask.jpg  \n",
            "  inflating: /content/data/train/masks/Germinoma_T1C+_16_mask.jpg  \n",
            "  inflating: /content/data/train/masks/Germinoma_T1C+_17_mask.jpg  \n",
            "  inflating: /content/data/train/masks/Germinoma_T1C+_20_mask.jpg  \n",
            "  inflating: /content/data/train/masks/Germinoma_T1C+_21_mask.jpg  \n",
            "  inflating: /content/data/train/masks/Germinoma_T1C+_22_mask.jpg  \n",
            "  inflating: /content/data/train/masks/Germinoma_T1C+_23_mask.jpg  \n",
            "  inflating: /content/data/train/masks/Germinoma_T1C+_24_mask.jpg  \n",
            "  inflating: /content/data/train/masks/Germinoma_T1C+_25_mask.jpg  \n",
            "  inflating: /content/data/train/masks/Germinoma_T1C+_26_mask.jpg  \n",
            "  inflating: /content/data/train/masks/Germinoma_T1C+_27_mask.jpg  \n",
            "  inflating: /content/data/train/masks/Germinoma_T1C+_28_mask.jpg  \n",
            "  inflating: /content/data/train/masks/Germinoma_T1C+_29_mask.jpg  \n",
            "  inflating: /content/data/train/masks/Germinoma_T1C+_2_mask.jpg  \n",
            "  inflating: /content/data/train/masks/Germinoma_T1C+_30_mask.jpg  \n",
            "  inflating: /content/data/train/masks/Germinoma_T1C+_31_mask.jpg  \n",
            "  inflating: /content/data/train/masks/Germinoma_T1C+_32_mask.jpg  \n",
            "  inflating: /content/data/train/masks/Germinoma_T1C+_33_mask.jpg  \n",
            "  inflating: /content/data/train/masks/Germinoma_T1C+_35_mask.jpg  \n",
            "  inflating: /content/data/train/masks/Germinoma_T1C+_37_mask.jpg  \n",
            "  inflating: /content/data/train/masks/Germinoma_T1C+_38_mask.jpg  \n",
            "  inflating: /content/data/train/masks/Germinoma_T1C+_39_mask.jpg  \n",
            "  inflating: /content/data/train/masks/Germinoma_T1C+_3_mask.jpg  \n",
            "  inflating: /content/data/train/masks/Germinoma_T1C+_40_mask.jpg  \n",
            "  inflating: /content/data/train/masks/Germinoma_T1C+_4_mask.jpg  \n",
            "  inflating: /content/data/train/masks/Germinoma_T1C+_5_mask.jpg  \n",
            "  inflating: /content/data/train/masks/Germinoma_T1C+_6_mask.jpg  \n",
            "  inflating: /content/data/train/masks/Germinoma_T1_10_mask.jpg  \n",
            "  inflating: /content/data/train/masks/Germinoma_T1_12_mask.jpg  \n",
            "  inflating: /content/data/train/masks/Germinoma_T1_13_mask.jpg  \n",
            "  inflating: /content/data/train/masks/Germinoma_T1_14_mask.jpg  \n",
            "  inflating: /content/data/train/masks/Germinoma_T1_15_mask.jpg  \n",
            "  inflating: /content/data/train/masks/Germinoma_T1_16_mask.jpg  \n",
            "  inflating: /content/data/train/masks/Germinoma_T1_17_mask.jpg  \n",
            "  inflating: /content/data/train/masks/Germinoma_T1_18_mask.jpg  \n",
            "  inflating: /content/data/train/masks/Germinoma_T1_19_mask.jpg  \n",
            "  inflating: /content/data/train/masks/Germinoma_T1_1_mask.jpg  \n",
            "  inflating: /content/data/train/masks/Germinoma_T1_20_mask.jpg  \n",
            "  inflating: /content/data/train/masks/Germinoma_T1_21_mask.jpg  \n",
            "  inflating: /content/data/train/masks/Germinoma_T1_24_mask.jpg  \n",
            "  inflating: /content/data/train/masks/Germinoma_T1_25_mask.jpg  \n",
            "  inflating: /content/data/train/masks/Germinoma_T1_26_mask.jpg  \n",
            "  inflating: /content/data/train/masks/Germinoma_T1_27_mask.jpg  \n",
            "  inflating: /content/data/train/masks/Germinoma_T1_2_mask.jpg  \n",
            "  inflating: /content/data/train/masks/Germinoma_T1_3_mask.jpg  \n",
            "  inflating: /content/data/train/masks/Germinoma_T1_4_mask.jpg  \n",
            "  inflating: /content/data/train/masks/Germinoma_T1_6_mask.jpg  \n",
            "  inflating: /content/data/train/masks/Germinoma_T1_7_mask.jpg  \n",
            "  inflating: /content/data/train/masks/Germinoma_T1_8_mask.jpg  \n",
            "  inflating: /content/data/train/masks/Germinoma_T1_9_mask.jpg  \n",
            "  inflating: /content/data/train/masks/Germinoma_T2_10_mask.jpg  \n",
            "  inflating: /content/data/train/masks/Germinoma_T2_11_mask.jpg  \n",
            "  inflating: /content/data/train/masks/Germinoma_T2_12_mask.jpg  \n",
            "  inflating: /content/data/train/masks/Germinoma_T2_13_mask.jpg  \n",
            "  inflating: /content/data/train/masks/Germinoma_T2_14_mask.jpg  \n",
            "  inflating: /content/data/train/masks/Germinoma_T2_16_mask.jpg  \n",
            "  inflating: /content/data/train/masks/Germinoma_T2_1_mask.jpg  \n",
            "  inflating: /content/data/train/masks/Germinoma_T2_20_mask.jpg  \n",
            "  inflating: /content/data/train/masks/Germinoma_T2_21_mask.jpg  \n",
            "  inflating: /content/data/train/masks/Germinoma_T2_22_mask.jpg  \n",
            "  inflating: /content/data/train/masks/Germinoma_T2_23_mask.jpg  \n",
            "  inflating: /content/data/train/masks/Germinoma_T2_24_mask.jpg  \n",
            "  inflating: /content/data/train/masks/Germinoma_T2_25_mask.jpg  \n",
            "  inflating: /content/data/train/masks/Germinoma_T2_26_mask.jpg  \n",
            "  inflating: /content/data/train/masks/Germinoma_T2_27_mask.jpg  \n",
            "  inflating: /content/data/train/masks/Germinoma_T2_28_mask.jpg  \n",
            "  inflating: /content/data/train/masks/Germinoma_T2_29_mask.jpg  \n",
            "  inflating: /content/data/train/masks/Germinoma_T2_31_mask.jpg  \n",
            "  inflating: /content/data/train/masks/Germinoma_T2_33_mask.jpg  \n",
            "  inflating: /content/data/train/masks/Germinoma_T2_3_mask.jpg  \n",
            "  inflating: /content/data/train/masks/Germinoma_T2_4_mask.jpg  \n",
            "  inflating: /content/data/train/masks/Germinoma_T2_5_mask.jpg  \n",
            "  inflating: /content/data/train/masks/Germinoma_T2_6_mask.jpg  \n",
            "  inflating: /content/data/train/masks/Germinoma_T2_7_mask.jpg  \n",
            "  inflating: /content/data/train/masks/Germinoma_T2_8_mask.jpg  \n",
            "  inflating: /content/data/train/masks/Germinoma_T2_9_mask.jpg  \n",
            "  inflating: /content/data/train/masks/Glioblastoma_T1C+_11_mask.jpg  \n",
            "  inflating: /content/data/train/masks/Glioblastoma_T1C+_12_mask.jpg  \n",
            "  inflating: /content/data/train/masks/Glioblastoma_T1C+_13_mask.jpg  \n",
            "  inflating: /content/data/train/masks/Glioblastoma_T1C+_14_mask.jpg  \n",
            "  inflating: /content/data/train/masks/Glioblastoma_T1C+_15_mask.jpg  \n",
            "  inflating: /content/data/train/masks/Glioblastoma_T1C+_16_mask.jpg  \n",
            "  inflating: /content/data/train/masks/Glioblastoma_T1C+_17_mask.jpg  \n",
            "  inflating: /content/data/train/masks/Glioblastoma_T1C+_19_mask.jpg  \n",
            "  inflating: /content/data/train/masks/Glioblastoma_T1C+_1_mask.jpg  \n",
            "  inflating: /content/data/train/masks/Glioblastoma_T1C+_20_mask.jpg  \n",
            "  inflating: /content/data/train/masks/Glioblastoma_T1C+_22_mask.jpg  \n",
            "  inflating: /content/data/train/masks/Glioblastoma_T1C+_23_mask.jpg  \n",
            "  inflating: /content/data/train/masks/Glioblastoma_T1C+_24_mask.jpg  \n",
            "  inflating: /content/data/train/masks/Glioblastoma_T1C+_25_mask.jpg  \n",
            "  inflating: /content/data/train/masks/Glioblastoma_T1C+_27_mask.jpg  \n",
            "  inflating: /content/data/train/masks/Glioblastoma_T1C+_28_mask.jpg  \n",
            "  inflating: /content/data/train/masks/Glioblastoma_T1C+_29_mask.jpg  \n",
            "  inflating: /content/data/train/masks/Glioblastoma_T1C+_33_mask.jpg  \n",
            "  inflating: /content/data/train/masks/Glioblastoma_T1C+_34_mask.jpg  \n",
            "  inflating: /content/data/train/masks/Glioblastoma_T1C+_35_mask.jpg  \n",
            "  inflating: /content/data/train/masks/Glioblastoma_T1C+_37_mask.jpg  \n",
            "  inflating: /content/data/train/masks/Glioblastoma_T1C+_38_mask.jpg  \n",
            "  inflating: /content/data/train/masks/Glioblastoma_T1C+_39_mask.jpg  \n",
            "  inflating: /content/data/train/masks/Glioblastoma_T1C+_3_mask.jpg  \n",
            "  inflating: /content/data/train/masks/Glioblastoma_T1C+_40_mask.jpg  \n",
            "  inflating: /content/data/train/masks/Glioblastoma_T1C+_42_mask.jpg  \n",
            "  inflating: /content/data/train/masks/Glioblastoma_T1C+_43_mask.jpg  \n",
            "  inflating: /content/data/train/masks/Glioblastoma_T1C+_45_mask.jpg  \n",
            "  inflating: /content/data/train/masks/Glioblastoma_T1C+_47_mask.jpg  \n",
            "  inflating: /content/data/train/masks/Glioblastoma_T1C+_48_mask.jpg  \n",
            "  inflating: /content/data/train/masks/Glioblastoma_T1C+_49_mask.jpg  \n",
            "  inflating: /content/data/train/masks/Glioblastoma_T1C+_50_mask.jpg  \n",
            "  inflating: /content/data/train/masks/Glioblastoma_T1C+_51_mask.jpg  \n",
            "  inflating: /content/data/train/masks/Glioblastoma_T1C+_52_mask.jpg  \n",
            "  inflating: /content/data/train/masks/Glioblastoma_T1C+_55_mask.jpg  \n",
            "  inflating: /content/data/train/masks/Glioblastoma_T1C+_56_mask.jpg  \n",
            "  inflating: /content/data/train/masks/Glioblastoma_T1C+_57_mask.jpg  \n",
            "  inflating: /content/data/train/masks/Glioblastoma_T1C+_58_mask.jpg  \n",
            "  inflating: /content/data/train/masks/Glioblastoma_T1C+_59_mask.jpg  \n",
            "  inflating: /content/data/train/masks/Glioblastoma_T1C+_5_mask.jpg  \n",
            "  inflating: /content/data/train/masks/Glioblastoma_T1C+_60_mask.jpg  \n",
            "  inflating: /content/data/train/masks/Glioblastoma_T1C+_61_mask.jpg  \n",
            "  inflating: /content/data/train/masks/Glioblastoma_T1C+_62_mask.jpg  \n",
            "  inflating: /content/data/train/masks/Glioblastoma_T1C+_63_mask.jpg  \n",
            "  inflating: /content/data/train/masks/Glioblastoma_T1C+_64_mask.jpg  \n",
            "  inflating: /content/data/train/masks/Glioblastoma_T1C+_65_mask.jpg  \n",
            "  inflating: /content/data/train/masks/Glioblastoma_T1C+_66_mask.jpg  \n",
            "  inflating: /content/data/train/masks/Glioblastoma_T1C+_67_mask.jpg  \n",
            "  inflating: /content/data/train/masks/Glioblastoma_T1C+_68_mask.jpg  \n",
            "  inflating: /content/data/train/masks/Glioblastoma_T1C+_69_mask.jpg  \n",
            "  inflating: /content/data/train/masks/Glioblastoma_T1C+_74_mask.jpg  \n",
            "  inflating: /content/data/train/masks/Glioblastoma_T1C+_75_mask.jpg  \n",
            "  inflating: /content/data/train/masks/Glioblastoma_T1C+_76_mask.jpg  \n",
            "  inflating: /content/data/train/masks/Glioblastoma_T1C+_77_mask.jpg  \n",
            "  inflating: /content/data/train/masks/Glioblastoma_T1C+_78_mask.jpg  \n",
            "  inflating: /content/data/train/masks/Glioblastoma_T1C+_79_mask.jpg  \n",
            "  inflating: /content/data/train/masks/Glioblastoma_T1C+_7_mask.jpg  \n",
            "  inflating: /content/data/train/masks/Glioblastoma_T1C+_80_mask.jpg  \n",
            "  inflating: /content/data/train/masks/Glioblastoma_T1C+_81_mask.jpg  \n",
            "  inflating: /content/data/train/masks/Glioblastoma_T1C+_82_mask.jpg  \n",
            "  inflating: /content/data/train/masks/Glioblastoma_T1C+_83_mask.jpg  \n",
            "  inflating: /content/data/train/masks/Glioblastoma_T1C+_84_mask.jpg  \n",
            "  inflating: /content/data/train/masks/Glioblastoma_T1C+_85_mask.jpg  \n",
            "  inflating: /content/data/train/masks/Glioblastoma_T1C+_88_mask.jpg  \n",
            "  inflating: /content/data/train/masks/Glioblastoma_T1C+_89_mask.jpg  \n",
            "  inflating: /content/data/train/masks/Glioblastoma_T1C+_8_mask.jpg  \n",
            "  inflating: /content/data/train/masks/Glioblastoma_T1C+_90_mask.jpg  \n",
            "  inflating: /content/data/train/masks/Glioblastoma_T1C+_91_mask.jpg  \n",
            "  inflating: /content/data/train/masks/Glioblastoma_T1C+_92_mask.jpg  \n",
            "  inflating: /content/data/train/masks/Glioblastoma_T1C+_93_mask.jpg  \n",
            "  inflating: /content/data/train/masks/Glioblastoma_T1C+_94_mask.jpg  \n",
            "  inflating: /content/data/train/masks/Glioblastoma_T1C+_9_mask.jpg  \n",
            "  inflating: /content/data/train/masks/Glioblastoma_T1_10_mask.jpg  \n",
            "  inflating: /content/data/train/masks/Glioblastoma_T1_12_mask.jpg  \n",
            "  inflating: /content/data/train/masks/Glioblastoma_T1_14_mask.jpg  \n",
            "  inflating: /content/data/train/masks/Glioblastoma_T1_15_mask.jpg  \n",
            "  inflating: /content/data/train/masks/Glioblastoma_T1_17_mask.jpg  \n",
            "  inflating: /content/data/train/masks/Glioblastoma_T1_18_mask.jpg  \n",
            "  inflating: /content/data/train/masks/Glioblastoma_T1_19_mask.jpg  \n",
            "  inflating: /content/data/train/masks/Glioblastoma_T1_20_mask.jpg  \n",
            "  inflating: /content/data/train/masks/Glioblastoma_T1_21_mask.jpg  \n",
            "  inflating: /content/data/train/masks/Glioblastoma_T1_22_mask.jpg  \n",
            "  inflating: /content/data/train/masks/Glioblastoma_T1_23_mask.jpg  \n",
            "  inflating: /content/data/train/masks/Glioblastoma_T1_24_mask.jpg  \n",
            "  inflating: /content/data/train/masks/Glioblastoma_T1_26_mask.jpg  \n",
            "  inflating: /content/data/train/masks/Glioblastoma_T1_27_mask.jpg  \n",
            "  inflating: /content/data/train/masks/Glioblastoma_T1_28_mask.jpg  \n",
            "  inflating: /content/data/train/masks/Glioblastoma_T1_29_mask.jpg  \n",
            "  inflating: /content/data/train/masks/Glioblastoma_T1_2_mask.jpg  \n",
            "  inflating: /content/data/train/masks/Glioblastoma_T1_30_mask.jpg  \n",
            "  inflating: /content/data/train/masks/Glioblastoma_T1_31_mask.jpg  \n",
            "  inflating: /content/data/train/masks/Glioblastoma_T1_32_mask.jpg  \n",
            "  inflating: /content/data/train/masks/Glioblastoma_T1_33_mask.jpg  \n",
            "  inflating: /content/data/train/masks/Glioblastoma_T1_34_mask.jpg  \n",
            "  inflating: /content/data/train/masks/Glioblastoma_T1_35_mask.jpg  \n",
            "  inflating: /content/data/train/masks/Glioblastoma_T1_36_mask.jpg  \n",
            "  inflating: /content/data/train/masks/Glioblastoma_T1_37_mask.jpg  \n",
            "  inflating: /content/data/train/masks/Glioblastoma_T1_38_mask.jpg  \n",
            "  inflating: /content/data/train/masks/Glioblastoma_T1_39_mask.jpg  \n",
            "  inflating: /content/data/train/masks/Glioblastoma_T1_3_mask.jpg  \n",
            "  inflating: /content/data/train/masks/Glioblastoma_T1_41_mask.jpg  \n",
            "  inflating: /content/data/train/masks/Glioblastoma_T1_42_mask.jpg  \n",
            "  inflating: /content/data/train/masks/Glioblastoma_T1_43_mask.jpg  \n",
            "  inflating: /content/data/train/masks/Glioblastoma_T1_44_mask.jpg  \n",
            "  inflating: /content/data/train/masks/Glioblastoma_T1_45_mask.jpg  \n",
            "  inflating: /content/data/train/masks/Glioblastoma_T1_46_mask.jpg  \n",
            "  inflating: /content/data/train/masks/Glioblastoma_T1_48_mask.jpg  \n",
            "  inflating: /content/data/train/masks/Glioblastoma_T1_49_mask.jpg  \n",
            "  inflating: /content/data/train/masks/Glioblastoma_T1_4_mask.jpg  \n",
            "  inflating: /content/data/train/masks/Glioblastoma_T1_50_mask.jpg  \n",
            "  inflating: /content/data/train/masks/Glioblastoma_T1_51_mask.jpg  \n",
            "  inflating: /content/data/train/masks/Glioblastoma_T1_52_mask.jpg  \n",
            "  inflating: /content/data/train/masks/Glioblastoma_T1_54_mask.jpg  \n",
            "  inflating: /content/data/train/masks/Glioblastoma_T1_55_mask.jpg  \n",
            "  inflating: /content/data/train/masks/Glioblastoma_T1_5_mask.jpg  \n",
            "  inflating: /content/data/train/masks/Glioblastoma_T1_6_mask.jpg  \n",
            "  inflating: /content/data/train/masks/Glioblastoma_T1_7_mask.jpg  \n",
            "  inflating: /content/data/train/masks/Glioblastoma_T1_9_mask.jpg  \n",
            "  inflating: /content/data/train/masks/Glioblastoma_T2_10_mask.jpg  \n",
            "  inflating: /content/data/train/masks/Glioblastoma_T2_11_mask.jpg  \n",
            "  inflating: /content/data/train/masks/Glioblastoma_T2_12_mask.jpg  \n",
            "  inflating: /content/data/train/masks/Glioblastoma_T2_13_mask.jpg  \n",
            "  inflating: /content/data/train/masks/Glioblastoma_T2_15_mask.jpg  \n",
            "  inflating: /content/data/train/masks/Glioblastoma_T2_16_mask.jpg  \n",
            "  inflating: /content/data/train/masks/Glioblastoma_T2_17_mask.jpg  \n",
            "  inflating: /content/data/train/masks/Glioblastoma_T2_18_mask.jpg  \n",
            "  inflating: /content/data/train/masks/Glioblastoma_T2_19_mask.jpg  \n",
            "  inflating: /content/data/train/masks/Glioblastoma_T2_1_mask.jpg  \n",
            "  inflating: /content/data/train/masks/Glioblastoma_T2_20_mask.jpg  \n",
            "  inflating: /content/data/train/masks/Glioblastoma_T2_21_mask.jpg  \n",
            "  inflating: /content/data/train/masks/Glioblastoma_T2_22_mask.jpg  \n",
            "  inflating: /content/data/train/masks/Glioblastoma_T2_23_mask.jpg  \n",
            "  inflating: /content/data/train/masks/Glioblastoma_T2_24_mask.jpg  \n",
            "  inflating: /content/data/train/masks/Glioblastoma_T2_26_mask.jpg  \n",
            "  inflating: /content/data/train/masks/Glioblastoma_T2_27_mask.jpg  \n",
            "  inflating: /content/data/train/masks/Glioblastoma_T2_28_mask.jpg  \n",
            "  inflating: /content/data/train/masks/Glioblastoma_T2_2_mask.jpg  \n",
            "  inflating: /content/data/train/masks/Glioblastoma_T2_31_mask.jpg  \n",
            "  inflating: /content/data/train/masks/Glioblastoma_T2_32_mask.jpg  \n",
            "  inflating: /content/data/train/masks/Glioblastoma_T2_33_mask.jpg  \n",
            "  inflating: /content/data/train/masks/Glioblastoma_T2_34_mask.jpg  \n",
            "  inflating: /content/data/train/masks/Glioblastoma_T2_36_mask.jpg  \n",
            "  inflating: /content/data/train/masks/Glioblastoma_T2_37_mask.jpg  \n",
            "  inflating: /content/data/train/masks/Glioblastoma_T2_38_mask.jpg  \n",
            "  inflating: /content/data/train/masks/Glioblastoma_T2_41_mask.jpg  \n",
            "  inflating: /content/data/train/masks/Glioblastoma_T2_42_mask.jpg  \n",
            "  inflating: /content/data/train/masks/Glioblastoma_T2_43_mask.jpg  \n",
            "  inflating: /content/data/train/masks/Glioblastoma_T2_44_mask.jpg  \n",
            "  inflating: /content/data/train/masks/Glioblastoma_T2_45_mask.jpg  \n",
            "  inflating: /content/data/train/masks/Glioblastoma_T2_46_mask.jpg  \n",
            "  inflating: /content/data/train/masks/Glioblastoma_T2_47_mask.jpg  \n",
            "  inflating: /content/data/train/masks/Glioblastoma_T2_48_mask.jpg  \n",
            "  inflating: /content/data/train/masks/Glioblastoma_T2_4_mask.jpg  \n",
            "  inflating: /content/data/train/masks/Glioblastoma_T2_50_mask.jpg  \n",
            "  inflating: /content/data/train/masks/Glioblastoma_T2_51_mask.jpg  \n",
            "  inflating: /content/data/train/masks/Glioblastoma_T2_53_mask.jpg  \n",
            "  inflating: /content/data/train/masks/Glioblastoma_T2_55_mask.jpg  \n",
            "  inflating: /content/data/train/masks/Glioblastoma_T2_5_mask.jpg  \n",
            "  inflating: /content/data/train/masks/Glioblastoma_T2_6_mask.jpg  \n",
            "  inflating: /content/data/train/masks/Glioblastoma_T2_7_mask.jpg  \n",
            "  inflating: /content/data/train/masks/Glioblastoma_T2_8_mask.jpg  \n",
            "  inflating: /content/data/train/masks/Glioblastoma_T2_9_mask.jpg  \n",
            "  inflating: /content/data/train/masks/Granuloma_T1C+_10_mask.jpg  \n",
            "  inflating: /content/data/train/masks/Granuloma_T1C+_12_mask.jpg  \n",
            "  inflating: /content/data/train/masks/Granuloma_T1C+_13_mask.jpg  \n",
            "  inflating: /content/data/train/masks/Granuloma_T1C+_14_mask.jpg  \n",
            "  inflating: /content/data/train/masks/Granuloma_T1C+_16_mask.jpg  \n",
            "  inflating: /content/data/train/masks/Granuloma_T1C+_17_mask.jpg  \n",
            "  inflating: /content/data/train/masks/Granuloma_T1C+_18_mask.jpg  \n",
            "  inflating: /content/data/train/masks/Granuloma_T1C+_19_mask.jpg  \n",
            "  inflating: /content/data/train/masks/Granuloma_T1C+_21_mask.jpg  \n",
            "  inflating: /content/data/train/masks/Granuloma_T1C+_22_mask.jpg  \n",
            "  inflating: /content/data/train/masks/Granuloma_T1C+_23_mask.jpg  \n",
            "  inflating: /content/data/train/masks/Granuloma_T1C+_24_mask.jpg  \n",
            "  inflating: /content/data/train/masks/Granuloma_T1C+_25_mask.jpg  \n",
            "  inflating: /content/data/train/masks/Granuloma_T1C+_26_mask.jpg  \n",
            "  inflating: /content/data/train/masks/Granuloma_T1C+_27_mask.jpg  \n",
            "  inflating: /content/data/train/masks/Granuloma_T1C+_28_mask.jpg  \n",
            "  inflating: /content/data/train/masks/Granuloma_T1C+_29_mask.jpg  \n",
            "  inflating: /content/data/train/masks/Granuloma_T1C+_2_mask.jpg  \n",
            "  inflating: /content/data/train/masks/Granuloma_T1C+_30_mask.jpg  \n",
            "  inflating: /content/data/train/masks/Granuloma_T1C+_31_mask.jpg  \n",
            "  inflating: /content/data/train/masks/Granuloma_T1C+_3_mask.jpg  \n",
            "  inflating: /content/data/train/masks/Granuloma_T1C+_4_mask.jpg  \n",
            "  inflating: /content/data/train/masks/Granuloma_T1C+_5_mask.jpg  \n",
            "  inflating: /content/data/train/masks/Granuloma_T1C+_6_mask.jpg  \n",
            "  inflating: /content/data/train/masks/Granuloma_T1C+_7_mask.jpg  \n",
            "  inflating: /content/data/train/masks/Granuloma_T1C+_8_mask.jpg  \n",
            "  inflating: /content/data/train/masks/Granuloma_T1C+_9_mask.jpg  \n",
            "  inflating: /content/data/train/masks/Granuloma_T1_10_mask.jpg  \n",
            "  inflating: /content/data/train/masks/Granuloma_T1_12_mask.jpg  \n",
            "  inflating: /content/data/train/masks/Granuloma_T1_13_mask.jpg  \n",
            "  inflating: /content/data/train/masks/Granuloma_T1_14_mask.jpg  \n",
            "  inflating: /content/data/train/masks/Granuloma_T1_15_mask.jpg  \n",
            "  inflating: /content/data/train/masks/Granuloma_T1_16_mask.jpg  \n",
            "  inflating: /content/data/train/masks/Granuloma_T1_17_mask.jpg  \n",
            "  inflating: /content/data/train/masks/Granuloma_T1_18_mask.jpg  \n",
            "  inflating: /content/data/train/masks/Granuloma_T1_19_mask.jpg  \n",
            "  inflating: /content/data/train/masks/Granuloma_T1_1_mask.jpg  \n",
            "  inflating: /content/data/train/masks/Granuloma_T1_21_mask.jpg  \n",
            "  inflating: /content/data/train/masks/Granuloma_T1_22_mask.jpg  \n",
            "  inflating: /content/data/train/masks/Granuloma_T1_23_mask.jpg  \n",
            "  inflating: /content/data/train/masks/Granuloma_T1_24_mask.jpg  \n",
            "  inflating: /content/data/train/masks/Granuloma_T1_25_mask.jpg  \n",
            "  inflating: /content/data/train/masks/Granuloma_T1_26_mask.jpg  \n",
            "  inflating: /content/data/train/masks/Granuloma_T1_27_mask.jpg  \n",
            "  inflating: /content/data/train/masks/Granuloma_T1_28_mask.jpg  \n",
            "  inflating: /content/data/train/masks/Granuloma_T1_29_mask.jpg  \n",
            "  inflating: /content/data/train/masks/Granuloma_T1_2_mask.jpg  \n",
            "  inflating: /content/data/train/masks/Granuloma_T1_4_mask.jpg  \n",
            "  inflating: /content/data/train/masks/Granuloma_T1_5_mask.jpg  \n",
            "  inflating: /content/data/train/masks/Granuloma_T1_7_mask.jpg  \n",
            "  inflating: /content/data/train/masks/Granuloma_T2_10_mask.jpg  \n",
            "  inflating: /content/data/train/masks/Granuloma_T2_12_mask.jpg  \n",
            "  inflating: /content/data/train/masks/Granuloma_T2_13_mask.jpg  \n",
            "  inflating: /content/data/train/masks/Granuloma_T2_14_mask.jpg  \n",
            "  inflating: /content/data/train/masks/Granuloma_T2_15_mask.jpg  \n",
            "  inflating: /content/data/train/masks/Granuloma_T2_16_mask.jpg  \n",
            "  inflating: /content/data/train/masks/Granuloma_T2_1_mask.jpg  \n",
            "  inflating: /content/data/train/masks/Granuloma_T2_4_mask.jpg  \n",
            "  inflating: /content/data/train/masks/Granuloma_T2_6_mask.jpg  \n",
            "  inflating: /content/data/train/masks/Granuloma_T2_7_mask.jpg  \n",
            "  inflating: /content/data/train/masks/Granuloma_T2_8_mask.jpg  \n",
            "  inflating: /content/data/train/masks/Granuloma_T2_9_mask.jpg  \n",
            "  inflating: /content/data/train/masks/Meduloblastoma_T1C+_10_mask.jpg  \n",
            "  inflating: /content/data/train/masks/Meduloblastoma_T1C+_11_mask.jpg  \n",
            "  inflating: /content/data/train/masks/Meduloblastoma_T1C+_12_mask.jpg  \n",
            "  inflating: /content/data/train/masks/Meduloblastoma_T1C+_13_mask.jpg  \n",
            "  inflating: /content/data/train/masks/Meduloblastoma_T1C+_14_mask.jpg  \n",
            "  inflating: /content/data/train/masks/Meduloblastoma_T1C+_16_mask.jpg  \n",
            "  inflating: /content/data/train/masks/Meduloblastoma_T1C+_17_mask.jpg  \n",
            "  inflating: /content/data/train/masks/Meduloblastoma_T1C+_18_mask.jpg  \n",
            "  inflating: /content/data/train/masks/Meduloblastoma_T1C+_19_mask.jpg  \n",
            "  inflating: /content/data/train/masks/Meduloblastoma_T1C+_1_mask.jpg  \n",
            "  inflating: /content/data/train/masks/Meduloblastoma_T1C+_20_mask.jpg  \n",
            "  inflating: /content/data/train/masks/Meduloblastoma_T1C+_22_mask.jpg  \n",
            "  inflating: /content/data/train/masks/Meduloblastoma_T1C+_23_mask.jpg  \n",
            "  inflating: /content/data/train/masks/Meduloblastoma_T1C+_24_mask.jpg  \n",
            "  inflating: /content/data/train/masks/Meduloblastoma_T1C+_25_mask.jpg  \n",
            "  inflating: /content/data/train/masks/Meduloblastoma_T1C+_26_mask.jpg  \n",
            "  inflating: /content/data/train/masks/Meduloblastoma_T1C+_27_mask.jpg  \n",
            "  inflating: /content/data/train/masks/Meduloblastoma_T1C+_28_mask.jpg  \n",
            "  inflating: /content/data/train/masks/Meduloblastoma_T1C+_2_mask.jpg  \n",
            "  inflating: /content/data/train/masks/Meduloblastoma_T1C+_31_mask.jpg  \n",
            "  inflating: /content/data/train/masks/Meduloblastoma_T1C+_33_mask.jpg  \n",
            "  inflating: /content/data/train/masks/Meduloblastoma_T1C+_34_mask.jpg  \n",
            "  inflating: /content/data/train/masks/Meduloblastoma_T1C+_35_mask.jpg  \n",
            "  inflating: /content/data/train/masks/Meduloblastoma_T1C+_36_mask.jpg  \n",
            "  inflating: /content/data/train/masks/Meduloblastoma_T1C+_37_mask.jpg  \n",
            "  inflating: /content/data/train/masks/Meduloblastoma_T1C+_39_mask.jpg  \n",
            "  inflating: /content/data/train/masks/Meduloblastoma_T1C+_3_mask.jpg  \n",
            "  inflating: /content/data/train/masks/Meduloblastoma_T1C+_40_mask.jpg  \n",
            "  inflating: /content/data/train/masks/Meduloblastoma_T1C+_41_mask.jpg  \n",
            "  inflating: /content/data/train/masks/Meduloblastoma_T1C+_42_mask.jpg  \n",
            "  inflating: /content/data/train/masks/Meduloblastoma_T1C+_43_mask.jpg  \n",
            "  inflating: /content/data/train/masks/Meduloblastoma_T1C+_44_mask.jpg  \n",
            "  inflating: /content/data/train/masks/Meduloblastoma_T1C+_46_mask.jpg  \n",
            "  inflating: /content/data/train/masks/Meduloblastoma_T1C+_47_mask.jpg  \n",
            "  inflating: /content/data/train/masks/Meduloblastoma_T1C+_48_mask.jpg  \n",
            "  inflating: /content/data/train/masks/Meduloblastoma_T1C+_49_mask.jpg  \n",
            "  inflating: /content/data/train/masks/Meduloblastoma_T1C+_50_mask.jpg  \n",
            "  inflating: /content/data/train/masks/Meduloblastoma_T1C+_51_mask.jpg  \n",
            "  inflating: /content/data/train/masks/Meduloblastoma_T1C+_52_mask.jpg  \n",
            "  inflating: /content/data/train/masks/Meduloblastoma_T1C+_53_mask.jpg  \n",
            "  inflating: /content/data/train/masks/Meduloblastoma_T1C+_54_mask.jpg  \n",
            "  inflating: /content/data/train/masks/Meduloblastoma_T1C+_56_mask.jpg  \n",
            "  inflating: /content/data/train/masks/Meduloblastoma_T1C+_57_mask.jpg  \n",
            "  inflating: /content/data/train/masks/Meduloblastoma_T1C+_58_mask.jpg  \n",
            "  inflating: /content/data/train/masks/Meduloblastoma_T1C+_60_mask.jpg  \n",
            "  inflating: /content/data/train/masks/Meduloblastoma_T1C+_61_mask.jpg  \n",
            "  inflating: /content/data/train/masks/Meduloblastoma_T1C+_62_mask.jpg  \n",
            "  inflating: /content/data/train/masks/Meduloblastoma_T1C+_63_mask.jpg  \n",
            "  inflating: /content/data/train/masks/Meduloblastoma_T1C+_64_mask.jpg  \n",
            "  inflating: /content/data/train/masks/Meduloblastoma_T1C+_65_mask.jpg  \n",
            "  inflating: /content/data/train/masks/Meduloblastoma_T1C+_66_mask.jpg  \n",
            "  inflating: /content/data/train/masks/Meduloblastoma_T1C+_67_mask.jpg  \n",
            "  inflating: /content/data/train/masks/Meduloblastoma_T1C+_6_mask.jpg  \n",
            "  inflating: /content/data/train/masks/Meduloblastoma_T1C+_8_mask.jpg  \n",
            "  inflating: /content/data/train/masks/Meduloblastoma_T1_11_mask.jpg  \n",
            "  inflating: /content/data/train/masks/Meduloblastoma_T1_12_mask.jpg  \n",
            "  inflating: /content/data/train/masks/Meduloblastoma_T1_13_mask.jpg  \n",
            "  inflating: /content/data/train/masks/Meduloblastoma_T1_14_mask.jpg  \n",
            "  inflating: /content/data/train/masks/Meduloblastoma_T1_15_mask.jpg  \n",
            "  inflating: /content/data/train/masks/Meduloblastoma_T1_16_mask.jpg  \n",
            "  inflating: /content/data/train/masks/Meduloblastoma_T1_17_mask.jpg  \n",
            "  inflating: /content/data/train/masks/Meduloblastoma_T1_18_mask.jpg  \n",
            "  inflating: /content/data/train/masks/Meduloblastoma_T1_19_mask.jpg  \n",
            "  inflating: /content/data/train/masks/Meduloblastoma_T1_20_mask.jpg  \n",
            "  inflating: /content/data/train/masks/Meduloblastoma_T1_21_mask.jpg  \n",
            "  inflating: /content/data/train/masks/Meduloblastoma_T1_22_mask.jpg  \n",
            "  inflating: /content/data/train/masks/Meduloblastoma_T1_23_mask.jpg  \n",
            "  inflating: /content/data/train/masks/Meduloblastoma_T1_2_mask.jpg  \n",
            "  inflating: /content/data/train/masks/Meduloblastoma_T1_3_mask.jpg  \n",
            "  inflating: /content/data/train/masks/Meduloblastoma_T1_6_mask.jpg  \n",
            "  inflating: /content/data/train/masks/Meduloblastoma_T1_7_mask.jpg  \n",
            "  inflating: /content/data/train/masks/Meduloblastoma_T1_8_mask.jpg  \n",
            "  inflating: /content/data/train/masks/Meduloblastoma_T1_9_mask.jpg  \n",
            "  inflating: /content/data/train/masks/Meduloblastoma_T2_10_mask.jpg  \n",
            "  inflating: /content/data/train/masks/Meduloblastoma_T2_11_mask.jpg  \n",
            "  inflating: /content/data/train/masks/Meduloblastoma_T2_13_mask.jpg  \n",
            "  inflating: /content/data/train/masks/Meduloblastoma_T2_14_mask.jpg  \n",
            "  inflating: /content/data/train/masks/Meduloblastoma_T2_16_mask.jpg  \n",
            "  inflating: /content/data/train/masks/Meduloblastoma_T2_18_mask.jpg  \n",
            "  inflating: /content/data/train/masks/Meduloblastoma_T2_19_mask.jpg  \n",
            "  inflating: /content/data/train/masks/Meduloblastoma_T2_1_mask.jpg  \n",
            "  inflating: /content/data/train/masks/Meduloblastoma_T2_20_mask.jpg  \n",
            "  inflating: /content/data/train/masks/Meduloblastoma_T2_21_mask.jpg  \n",
            "  inflating: /content/data/train/masks/Meduloblastoma_T2_22_mask.jpg  \n",
            "  inflating: /content/data/train/masks/Meduloblastoma_T2_23_mask.jpg  \n",
            "  inflating: /content/data/train/masks/Meduloblastoma_T2_25_mask.jpg  \n",
            "  inflating: /content/data/train/masks/Meduloblastoma_T2_26_mask.jpg  \n",
            "  inflating: /content/data/train/masks/Meduloblastoma_T2_27_mask.jpg  \n",
            "  inflating: /content/data/train/masks/Meduloblastoma_T2_2_mask.jpg  \n",
            "  inflating: /content/data/train/masks/Meduloblastoma_T2_30_mask.jpg  \n",
            "  inflating: /content/data/train/masks/Meduloblastoma_T2_31_mask.jpg  \n",
            "  inflating: /content/data/train/masks/Meduloblastoma_T2_32_mask.jpg  \n",
            "  inflating: /content/data/train/masks/Meduloblastoma_T2_33_mask.jpg  \n",
            "  inflating: /content/data/train/masks/Meduloblastoma_T2_34_mask.jpg  \n",
            "  inflating: /content/data/train/masks/Meduloblastoma_T2_35_mask.jpg  \n",
            "  inflating: /content/data/train/masks/Meduloblastoma_T2_36_mask.jpg  \n",
            "  inflating: /content/data/train/masks/Meduloblastoma_T2_37_mask.jpg  \n",
            "  inflating: /content/data/train/masks/Meduloblastoma_T2_39_mask.jpg  \n",
            "  inflating: /content/data/train/masks/Meduloblastoma_T2_4_mask.jpg  \n",
            "  inflating: /content/data/train/masks/Meduloblastoma_T2_5_mask.jpg  \n",
            "  inflating: /content/data/train/masks/Meduloblastoma_T2_6_mask.jpg  \n",
            "  inflating: /content/data/train/masks/Meduloblastoma_T2_7_mask.jpg  \n",
            "  inflating: /content/data/train/masks/Meduloblastoma_T2_8_mask.jpg  \n",
            "  inflating: /content/data/train/masks/Meduloblastoma_T2_9_mask.jpg  \n",
            "  inflating: /content/data/train/masks/Meningioma_T1C+_102_mask.jpg  \n",
            "  inflating: /content/data/train/masks/Meningioma_T1C+_103_mask.jpg  \n",
            "  inflating: /content/data/train/masks/Meningioma_T1C+_105_mask.jpg  \n",
            "  inflating: /content/data/train/masks/Meningioma_T1C+_107_mask.jpg  \n",
            "  inflating: /content/data/train/masks/Meningioma_T1C+_109_mask.jpg  \n",
            "  inflating: /content/data/train/masks/Meningioma_T1C+_111_mask.jpg  \n",
            "  inflating: /content/data/train/masks/Meningioma_T1C+_112_mask.jpg  \n",
            "  inflating: /content/data/train/masks/Meningioma_T1C+_114_mask.jpg  \n",
            "  inflating: /content/data/train/masks/Meningioma_T1C+_115_mask.jpg  \n",
            "  inflating: /content/data/train/masks/Meningioma_T1C+_116_mask.jpg  \n",
            "  inflating: /content/data/train/masks/Meningioma_T1C+_117_mask.jpg  \n",
            "  inflating: /content/data/train/masks/Meningioma_T1C+_118_mask.jpg  \n",
            "  inflating: /content/data/train/masks/Meningioma_T1C+_11_mask.jpg  \n",
            "  inflating: /content/data/train/masks/Meningioma_T1C+_120_mask.jpg  \n",
            "  inflating: /content/data/train/masks/Meningioma_T1C+_123_mask.jpg  \n",
            "  inflating: /content/data/train/masks/Meningioma_T1C+_125_mask.jpg  \n",
            "  inflating: /content/data/train/masks/Meningioma_T1C+_127_mask.jpg  \n",
            "  inflating: /content/data/train/masks/Meningioma_T1C+_129_mask.jpg  \n",
            "  inflating: /content/data/train/masks/Meningioma_T1C+_12_mask.jpg  \n",
            "  inflating: /content/data/train/masks/Meningioma_T1C+_130_mask.jpg  \n",
            "  inflating: /content/data/train/masks/Meningioma_T1C+_131_mask.jpg  \n",
            "  inflating: /content/data/train/masks/Meningioma_T1C+_132_mask.jpg  \n",
            "  inflating: /content/data/train/masks/Meningioma_T1C+_133_mask.jpg  \n",
            "  inflating: /content/data/train/masks/Meningioma_T1C+_134_mask.jpg  \n",
            "  inflating: /content/data/train/masks/Meningioma_T1C+_135_mask.jpg  \n",
            "  inflating: /content/data/train/masks/Meningioma_T1C+_137_mask.jpg  \n",
            "  inflating: /content/data/train/masks/Meningioma_T1C+_139_mask.jpg  \n",
            "  inflating: /content/data/train/masks/Meningioma_T1C+_13_mask.jpg  \n",
            "  inflating: /content/data/train/masks/Meningioma_T1C+_140_mask.jpg  \n",
            "  inflating: /content/data/train/masks/Meningioma_T1C+_141_mask.jpg  \n",
            "  inflating: /content/data/train/masks/Meningioma_T1C+_142_mask.jpg  \n",
            "  inflating: /content/data/train/masks/Meningioma_T1C+_143_mask.jpg  \n",
            "  inflating: /content/data/train/masks/Meningioma_T1C+_144_mask.jpg  \n",
            "  inflating: /content/data/train/masks/Meningioma_T1C+_145_mask.jpg  \n",
            "  inflating: /content/data/train/masks/Meningioma_T1C+_146_mask.jpg  \n",
            "  inflating: /content/data/train/masks/Meningioma_T1C+_147_mask.jpg  \n",
            "  inflating: /content/data/train/masks/Meningioma_T1C+_148_mask.jpg  \n",
            "  inflating: /content/data/train/masks/Meningioma_T1C+_149_mask.jpg  \n",
            "  inflating: /content/data/train/masks/Meningioma_T1C+_151_mask.jpg  \n",
            "  inflating: /content/data/train/masks/Meningioma_T1C+_152_mask.jpg  \n",
            "  inflating: /content/data/train/masks/Meningioma_T1C+_153_mask.jpg  \n",
            "  inflating: /content/data/train/masks/Meningioma_T1C+_154_mask.jpg  \n",
            "  inflating: /content/data/train/masks/Meningioma_T1C+_156_mask.jpg  \n",
            "  inflating: /content/data/train/masks/Meningioma_T1C+_158_mask.jpg  \n",
            "  inflating: /content/data/train/masks/Meningioma_T1C+_159_mask.jpg  \n",
            "  inflating: /content/data/train/masks/Meningioma_T1C+_160_mask.jpg  \n",
            "  inflating: /content/data/train/masks/Meningioma_T1C+_161_mask.jpg  \n",
            "  inflating: /content/data/train/masks/Meningioma_T1C+_163_mask.jpg  \n",
            "  inflating: /content/data/train/masks/Meningioma_T1C+_164_mask.jpg  \n",
            "  inflating: /content/data/train/masks/Meningioma_T1C+_167_mask.jpg  \n",
            "  inflating: /content/data/train/masks/Meningioma_T1C+_168_mask.jpg  \n",
            "  inflating: /content/data/train/masks/Meningioma_T1C+_169_mask.jpg  \n",
            "  inflating: /content/data/train/masks/Meningioma_T1C+_170_mask.jpg  \n",
            "  inflating: /content/data/train/masks/Meningioma_T1C+_171_mask.jpg  \n",
            "  inflating: /content/data/train/masks/Meningioma_T1C+_173_mask.jpg  \n",
            "  inflating: /content/data/train/masks/Meningioma_T1C+_174_mask.jpg  \n",
            "  inflating: /content/data/train/masks/Meningioma_T1C+_175_mask.jpg  \n",
            "  inflating: /content/data/train/masks/Meningioma_T1C+_177_mask.jpg  \n",
            "  inflating: /content/data/train/masks/Meningioma_T1C+_179_mask.jpg  \n",
            "  inflating: /content/data/train/masks/Meningioma_T1C+_180_mask.jpg  \n",
            "  inflating: /content/data/train/masks/Meningioma_T1C+_181_mask.jpg  \n",
            "  inflating: /content/data/train/masks/Meningioma_T1C+_182_mask.jpg  \n",
            "  inflating: /content/data/train/masks/Meningioma_T1C+_183_mask.jpg  \n",
            "  inflating: /content/data/train/masks/Meningioma_T1C+_184_mask.jpg  \n",
            "  inflating: /content/data/train/masks/Meningioma_T1C+_185_mask.jpg  \n",
            "  inflating: /content/data/train/masks/Meningioma_T1C+_186_mask.jpg  \n",
            "  inflating: /content/data/train/masks/Meningioma_T1C+_187_mask.jpg  \n",
            "  inflating: /content/data/train/masks/Meningioma_T1C+_188_mask.jpg  \n",
            "  inflating: /content/data/train/masks/Meningioma_T1C+_189_mask.jpg  \n",
            "  inflating: /content/data/train/masks/Meningioma_T1C+_18_mask.jpg  \n",
            "  inflating: /content/data/train/masks/Meningioma_T1C+_192_mask.jpg  \n",
            "  inflating: /content/data/train/masks/Meningioma_T1C+_193_mask.jpg  \n",
            "  inflating: /content/data/train/masks/Meningioma_T1C+_195_mask.jpg  \n",
            "  inflating: /content/data/train/masks/Meningioma_T1C+_196_mask.jpg  \n",
            "  inflating: /content/data/train/masks/Meningioma_T1C+_197_mask.jpg  \n",
            "  inflating: /content/data/train/masks/Meningioma_T1C+_198_mask.jpg  \n",
            "  inflating: /content/data/train/masks/Meningioma_T1C+_199_mask.jpg  \n",
            "  inflating: /content/data/train/masks/Meningioma_T1C+_19_mask.jpg  \n",
            "  inflating: /content/data/train/masks/Meningioma_T1C+_1_mask.jpg  \n",
            "  inflating: /content/data/train/masks/Meningioma_T1C+_200_mask.jpg  \n",
            "  inflating: /content/data/train/masks/Meningioma_T1C+_201_mask.jpg  \n",
            "  inflating: /content/data/train/masks/Meningioma_T1C+_202_mask.jpg  \n",
            "  inflating: /content/data/train/masks/Meningioma_T1C+_203_mask.jpg  \n",
            "  inflating: /content/data/train/masks/Meningioma_T1C+_204_mask.jpg  \n",
            "  inflating: /content/data/train/masks/Meningioma_T1C+_205_mask.jpg  \n",
            "  inflating: /content/data/train/masks/Meningioma_T1C+_206_mask.jpg  \n",
            "  inflating: /content/data/train/masks/Meningioma_T1C+_207_mask.jpg  \n",
            "  inflating: /content/data/train/masks/Meningioma_T1C+_208_mask.jpg  \n",
            "  inflating: /content/data/train/masks/Meningioma_T1C+_20_mask.jpg  \n",
            "  inflating: /content/data/train/masks/Meningioma_T1C+_210_mask.jpg  \n",
            "  inflating: /content/data/train/masks/Meningioma_T1C+_211_mask.jpg  \n",
            "  inflating: /content/data/train/masks/Meningioma_T1C+_212_mask.jpg  \n",
            "  inflating: /content/data/train/masks/Meningioma_T1C+_214_mask.jpg  \n",
            "  inflating: /content/data/train/masks/Meningioma_T1C+_215_mask.jpg  \n",
            "  inflating: /content/data/train/masks/Meningioma_T1C+_216_mask.jpg  \n",
            "  inflating: /content/data/train/masks/Meningioma_T1C+_217_mask.jpg  \n",
            "  inflating: /content/data/train/masks/Meningioma_T1C+_218_mask.jpg  \n",
            "  inflating: /content/data/train/masks/Meningioma_T1C+_219_mask.jpg  \n",
            "  inflating: /content/data/train/masks/Meningioma_T1C+_221_mask.jpg  \n",
            "  inflating: /content/data/train/masks/Meningioma_T1C+_222_mask.jpg  \n",
            "  inflating: /content/data/train/masks/Meningioma_T1C+_223_mask.jpg  \n",
            "  inflating: /content/data/train/masks/Meningioma_T1C+_224_mask.jpg  \n",
            "  inflating: /content/data/train/masks/Meningioma_T1C+_225_mask.jpg  \n",
            "  inflating: /content/data/train/masks/Meningioma_T1C+_226_mask.jpg  \n",
            "  inflating: /content/data/train/masks/Meningioma_T1C+_227_mask.jpg  \n",
            "  inflating: /content/data/train/masks/Meningioma_T1C+_228_mask.jpg  \n",
            "  inflating: /content/data/train/masks/Meningioma_T1C+_229_mask.jpg  \n",
            "  inflating: /content/data/train/masks/Meningioma_T1C+_22_mask.jpg  \n",
            "  inflating: /content/data/train/masks/Meningioma_T1C+_230_mask.jpg  \n",
            "  inflating: /content/data/train/masks/Meningioma_T1C+_233_mask.jpg  \n",
            "  inflating: /content/data/train/masks/Meningioma_T1C+_234_mask.jpg  \n",
            "  inflating: /content/data/train/masks/Meningioma_T1C+_235_mask.jpg  \n",
            "  inflating: /content/data/train/masks/Meningioma_T1C+_236_mask.jpg  \n",
            "  inflating: /content/data/train/masks/Meningioma_T1C+_237_mask.jpg  \n",
            "  inflating: /content/data/train/masks/Meningioma_T1C+_238_mask.jpg  \n",
            "  inflating: /content/data/train/masks/Meningioma_T1C+_239_mask.jpg  \n",
            "  inflating: /content/data/train/masks/Meningioma_T1C+_23_mask.jpg  \n",
            "  inflating: /content/data/train/masks/Meningioma_T1C+_240_mask.jpg  \n",
            "  inflating: /content/data/train/masks/Meningioma_T1C+_241_mask.jpg  \n",
            "  inflating: /content/data/train/masks/Meningioma_T1C+_242_mask.jpg  \n",
            "  inflating: /content/data/train/masks/Meningioma_T1C+_243_mask.jpg  \n",
            "  inflating: /content/data/train/masks/Meningioma_T1C+_244_mask.jpg  \n",
            "  inflating: /content/data/train/masks/Meningioma_T1C+_246_mask.jpg  \n",
            "  inflating: /content/data/train/masks/Meningioma_T1C+_249_mask.jpg  \n",
            "  inflating: /content/data/train/masks/Meningioma_T1C+_24_mask.jpg  \n",
            "  inflating: /content/data/train/masks/Meningioma_T1C+_250_mask.jpg  \n",
            "  inflating: /content/data/train/masks/Meningioma_T1C+_252_mask.jpg  \n",
            "  inflating: /content/data/train/masks/Meningioma_T1C+_253_mask.jpg  \n",
            "  inflating: /content/data/train/masks/Meningioma_T1C+_254_mask.jpg  \n",
            "  inflating: /content/data/train/masks/Meningioma_T1C+_256_mask.jpg  \n",
            "  inflating: /content/data/train/masks/Meningioma_T1C+_257_mask.jpg  \n",
            "  inflating: /content/data/train/masks/Meningioma_T1C+_258_mask.jpg  \n",
            "  inflating: /content/data/train/masks/Meningioma_T1C+_259_mask.jpg  \n",
            "  inflating: /content/data/train/masks/Meningioma_T1C+_25_mask.jpg  \n",
            "  inflating: /content/data/train/masks/Meningioma_T1C+_260_mask.jpg  \n",
            "  inflating: /content/data/train/masks/Meningioma_T1C+_261_mask.jpg  \n",
            "  inflating: /content/data/train/masks/Meningioma_T1C+_263_mask.jpg  \n",
            "  inflating: /content/data/train/masks/Meningioma_T1C+_266_mask.jpg  \n",
            "  inflating: /content/data/train/masks/Meningioma_T1C+_267_mask.jpg  \n",
            "  inflating: /content/data/train/masks/Meningioma_T1C+_269_mask.jpg  \n",
            "  inflating: /content/data/train/masks/Meningioma_T1C+_26_mask.jpg  \n",
            "  inflating: /content/data/train/masks/Meningioma_T1C+_270_mask.jpg  \n",
            "  inflating: /content/data/train/masks/Meningioma_T1C+_272_mask.jpg  \n",
            "  inflating: /content/data/train/masks/Meningioma_T1C+_275_mask.jpg  \n",
            "  inflating: /content/data/train/masks/Meningioma_T1C+_277_mask.jpg  \n",
            "  inflating: /content/data/train/masks/Meningioma_T1C+_279_mask.jpg  \n",
            "  inflating: /content/data/train/masks/Meningioma_T1C+_280_mask.jpg  \n",
            "  inflating: /content/data/train/masks/Meningioma_T1C+_281_mask.jpg  \n",
            "  inflating: /content/data/train/masks/Meningioma_T1C+_283_mask.jpg  \n",
            "  inflating: /content/data/train/masks/Meningioma_T1C+_284_mask.jpg  \n",
            "  inflating: /content/data/train/masks/Meningioma_T1C+_285_mask.jpg  \n",
            "  inflating: /content/data/train/masks/Meningioma_T1C+_286_mask.jpg  \n",
            "  inflating: /content/data/train/masks/Meningioma_T1C+_287_mask.jpg  \n",
            "  inflating: /content/data/train/masks/Meningioma_T1C+_288_mask.jpg  \n",
            "  inflating: /content/data/train/masks/Meningioma_T1C+_289_mask.jpg  \n",
            "  inflating: /content/data/train/masks/Meningioma_T1C+_290_mask.jpg  \n",
            "  inflating: /content/data/train/masks/Meningioma_T1C+_293_mask.jpg  \n",
            "  inflating: /content/data/train/masks/Meningioma_T1C+_294_mask.jpg  \n",
            "  inflating: /content/data/train/masks/Meningioma_T1C+_295_mask.jpg  \n",
            "  inflating: /content/data/train/masks/Meningioma_T1C+_297_mask.jpg  \n",
            "  inflating: /content/data/train/masks/Meningioma_T1C+_299_mask.jpg  \n",
            "  inflating: /content/data/train/masks/Meningioma_T1C+_29_mask.jpg  \n",
            "  inflating: /content/data/train/masks/Meningioma_T1C+_2_mask.jpg  \n",
            "  inflating: /content/data/train/masks/Meningioma_T1C+_300_mask.jpg  \n",
            "  inflating: /content/data/train/masks/Meningioma_T1C+_301_mask.jpg  \n",
            "  inflating: /content/data/train/masks/Meningioma_T1C+_302_mask.jpg  \n",
            "  inflating: /content/data/train/masks/Meningioma_T1C+_303_mask.jpg  \n",
            "  inflating: /content/data/train/masks/Meningioma_T1C+_304_mask.jpg  \n",
            "  inflating: /content/data/train/masks/Meningioma_T1C+_305_mask.jpg  \n",
            "  inflating: /content/data/train/masks/Meningioma_T1C+_307_mask.jpg  \n",
            "  inflating: /content/data/train/masks/Meningioma_T1C+_308_mask.jpg  \n",
            "  inflating: /content/data/train/masks/Meningioma_T1C+_309_mask.jpg  \n",
            "  inflating: /content/data/train/masks/Meningioma_T1C+_30_mask.jpg  \n",
            "  inflating: /content/data/train/masks/Meningioma_T1C+_310_mask.jpg  \n",
            "  inflating: /content/data/train/masks/Meningioma_T1C+_311_mask.jpg  \n",
            "  inflating: /content/data/train/masks/Meningioma_T1C+_313_mask.jpg  \n",
            "  inflating: /content/data/train/masks/Meningioma_T1C+_314_mask.jpg  \n",
            "  inflating: /content/data/train/masks/Meningioma_T1C+_315_mask.jpg  \n",
            "  inflating: /content/data/train/masks/Meningioma_T1C+_316_mask.jpg  \n",
            "  inflating: /content/data/train/masks/Meningioma_T1C+_317_mask.jpg  \n",
            "  inflating: /content/data/train/masks/Meningioma_T1C+_319_mask.jpg  \n",
            "  inflating: /content/data/train/masks/Meningioma_T1C+_31_mask.jpg  \n",
            "  inflating: /content/data/train/masks/Meningioma_T1C+_320_mask.jpg  \n",
            "  inflating: /content/data/train/masks/Meningioma_T1C+_322_mask.jpg  \n",
            "  inflating: /content/data/train/masks/Meningioma_T1C+_323_mask.jpg  \n",
            "  inflating: /content/data/train/masks/Meningioma_T1C+_324_mask.jpg  \n",
            "  inflating: /content/data/train/masks/Meningioma_T1C+_327_mask.jpg  \n",
            "  inflating: /content/data/train/masks/Meningioma_T1C+_328_mask.jpg  \n",
            "  inflating: /content/data/train/masks/Meningioma_T1C+_329_mask.jpg  \n",
            "  inflating: /content/data/train/masks/Meningioma_T1C+_32_mask.jpg  \n",
            "  inflating: /content/data/train/masks/Meningioma_T1C+_330_mask.jpg  \n",
            "  inflating: /content/data/train/masks/Meningioma_T1C+_331_mask.jpg  \n",
            "  inflating: /content/data/train/masks/Meningioma_T1C+_332_mask.jpg  \n",
            "  inflating: /content/data/train/masks/Meningioma_T1C+_333_mask.jpg  \n",
            "  inflating: /content/data/train/masks/Meningioma_T1C+_335_mask.jpg  \n",
            "  inflating: /content/data/train/masks/Meningioma_T1C+_336_mask.jpg  \n",
            "  inflating: /content/data/train/masks/Meningioma_T1C+_338_mask.jpg  \n",
            "  inflating: /content/data/train/masks/Meningioma_T1C+_339_mask.jpg  \n",
            "  inflating: /content/data/train/masks/Meningioma_T1C+_340_mask.jpg  \n",
            "  inflating: /content/data/train/masks/Meningioma_T1C+_341_mask.jpg  \n",
            "  inflating: /content/data/train/masks/Meningioma_T1C+_343_mask.jpg  \n",
            "  inflating: /content/data/train/masks/Meningioma_T1C+_344_mask.jpg  \n",
            "  inflating: /content/data/train/masks/Meningioma_T1C+_345_mask.jpg  \n",
            "  inflating: /content/data/train/masks/Meningioma_T1C+_346_mask.jpg  \n",
            "  inflating: /content/data/train/masks/Meningioma_T1C+_347_mask.jpg  \n",
            "  inflating: /content/data/train/masks/Meningioma_T1C+_349_mask.jpg  \n",
            "  inflating: /content/data/train/masks/Meningioma_T1C+_34_mask.jpg  \n",
            "  inflating: /content/data/train/masks/Meningioma_T1C+_351_mask.jpg  \n",
            "  inflating: /content/data/train/masks/Meningioma_T1C+_352_mask.jpg  \n",
            "  inflating: /content/data/train/masks/Meningioma_T1C+_354_mask.jpg  \n",
            "  inflating: /content/data/train/masks/Meningioma_T1C+_356_mask.jpg  \n",
            "  inflating: /content/data/train/masks/Meningioma_T1C+_357_mask.jpg  \n",
            "  inflating: /content/data/train/masks/Meningioma_T1C+_358_mask.jpg  \n",
            "  inflating: /content/data/train/masks/Meningioma_T1C+_359_mask.jpg  \n",
            "  inflating: /content/data/train/masks/Meningioma_T1C+_35_mask.jpg  \n",
            "  inflating: /content/data/train/masks/Meningioma_T1C+_360_mask.jpg  \n",
            "  inflating: /content/data/train/masks/Meningioma_T1C+_361_mask.jpg  \n",
            "  inflating: /content/data/train/masks/Meningioma_T1C+_362_mask.jpg  \n",
            "  inflating: /content/data/train/masks/Meningioma_T1C+_363_mask.jpg  \n",
            "  inflating: /content/data/train/masks/Meningioma_T1C+_364_mask.jpg  \n",
            "  inflating: /content/data/train/masks/Meningioma_T1C+_365_mask.jpg  \n",
            "  inflating: /content/data/train/masks/Meningioma_T1C+_366_mask.jpg  \n",
            "  inflating: /content/data/train/masks/Meningioma_T1C+_368_mask.jpg  \n",
            "  inflating: /content/data/train/masks/Meningioma_T1C+_369_mask.jpg  \n",
            "  inflating: /content/data/train/masks/Meningioma_T1C+_36_mask.jpg  \n",
            "  inflating: /content/data/train/masks/Meningioma_T1C+_37_mask.jpg  \n",
            "  inflating: /content/data/train/masks/Meningioma_T1C+_38_mask.jpg  \n",
            "  inflating: /content/data/train/masks/Meningioma_T1C+_39_mask.jpg  \n",
            "  inflating: /content/data/train/masks/Meningioma_T1C+_42_mask.jpg  \n",
            "  inflating: /content/data/train/masks/Meningioma_T1C+_44_mask.jpg  \n",
            "  inflating: /content/data/train/masks/Meningioma_T1C+_45_mask.jpg  \n",
            "  inflating: /content/data/train/masks/Meningioma_T1C+_46_mask.jpg  \n",
            "  inflating: /content/data/train/masks/Meningioma_T1C+_47_mask.jpg  \n",
            "  inflating: /content/data/train/masks/Meningioma_T1C+_48_mask.jpg  \n",
            "  inflating: /content/data/train/masks/Meningioma_T1C+_49_mask.jpg  \n",
            "  inflating: /content/data/train/masks/Meningioma_T1C+_4_mask.jpg  \n",
            "  inflating: /content/data/train/masks/Meningioma_T1C+_50_mask.jpg  \n",
            "  inflating: /content/data/train/masks/Meningioma_T1C+_51_mask.jpg  \n",
            "  inflating: /content/data/train/masks/Meningioma_T1C+_52_mask.jpg  \n",
            "  inflating: /content/data/train/masks/Meningioma_T1C+_54_mask.jpg  \n",
            "  inflating: /content/data/train/masks/Meningioma_T1C+_55_mask.jpg  \n",
            "  inflating: /content/data/train/masks/Meningioma_T1C+_56_mask.jpg  \n",
            "  inflating: /content/data/train/masks/Meningioma_T1C+_57_mask.jpg  \n",
            "  inflating: /content/data/train/masks/Meningioma_T1C+_59_mask.jpg  \n",
            "  inflating: /content/data/train/masks/Meningioma_T1C+_5_mask.jpg  \n",
            "  inflating: /content/data/train/masks/Meningioma_T1C+_60_mask.jpg  \n",
            "  inflating: /content/data/train/masks/Meningioma_T1C+_61_mask.jpg  \n",
            "  inflating: /content/data/train/masks/Meningioma_T1C+_62_mask.jpg  \n",
            "  inflating: /content/data/train/masks/Meningioma_T1C+_63_mask.jpg  \n",
            "  inflating: /content/data/train/masks/Meningioma_T1C+_64_mask.jpg  \n",
            "  inflating: /content/data/train/masks/Meningioma_T1C+_65_mask.jpg  \n",
            "  inflating: /content/data/train/masks/Meningioma_T1C+_66_mask.jpg  \n",
            "  inflating: /content/data/train/masks/Meningioma_T1C+_67_mask.jpg  \n",
            "  inflating: /content/data/train/masks/Meningioma_T1C+_68_mask.jpg  \n",
            "  inflating: /content/data/train/masks/Meningioma_T1C+_69_mask.jpg  \n",
            "  inflating: /content/data/train/masks/Meningioma_T1C+_6_mask.jpg  \n",
            "  inflating: /content/data/train/masks/Meningioma_T1C+_70_mask.jpg  \n",
            "  inflating: /content/data/train/masks/Meningioma_T1C+_71_mask.jpg  \n",
            "  inflating: /content/data/train/masks/Meningioma_T1C+_72_mask.jpg  \n",
            "  inflating: /content/data/train/masks/Meningioma_T1C+_74_mask.jpg  \n",
            "  inflating: /content/data/train/masks/Meningioma_T1C+_75_mask.jpg  \n",
            "  inflating: /content/data/train/masks/Meningioma_T1C+_76_mask.jpg  \n",
            "  inflating: /content/data/train/masks/Meningioma_T1C+_77_mask.jpg  \n",
            "  inflating: /content/data/train/masks/Meningioma_T1C+_79_mask.jpg  \n",
            "  inflating: /content/data/train/masks/Meningioma_T1C+_7_mask.jpg  \n",
            "  inflating: /content/data/train/masks/Meningioma_T1C+_80_mask.jpg  \n",
            "  inflating: /content/data/train/masks/Meningioma_T1C+_81_mask.jpg  \n",
            "  inflating: /content/data/train/masks/Meningioma_T1C+_82_mask.jpg  \n",
            "  inflating: /content/data/train/masks/Meningioma_T1C+_83_mask.jpg  \n",
            "  inflating: /content/data/train/masks/Meningioma_T1C+_84_mask.jpg  \n",
            "  inflating: /content/data/train/masks/Meningioma_T1C+_85_mask.jpg  \n",
            "  inflating: /content/data/train/masks/Meningioma_T1C+_86_mask.jpg  \n",
            "  inflating: /content/data/train/masks/Meningioma_T1C+_87_mask.jpg  \n",
            "  inflating: /content/data/train/masks/Meningioma_T1C+_88_mask.jpg  \n",
            "  inflating: /content/data/train/masks/Meningioma_T1C+_89_mask.jpg  \n",
            "  inflating: /content/data/train/masks/Meningioma_T1C+_8_mask.jpg  \n",
            "  inflating: /content/data/train/masks/Meningioma_T1C+_90_mask.jpg  \n",
            "  inflating: /content/data/train/masks/Meningioma_T1C+_91_mask.jpg  \n",
            "  inflating: /content/data/train/masks/Meningioma_T1C+_92_mask.jpg  \n",
            "  inflating: /content/data/train/masks/Meningioma_T1C+_93_mask.jpg  \n",
            "  inflating: /content/data/train/masks/Meningioma_T1C+_95_mask.jpg  \n",
            "  inflating: /content/data/train/masks/Meningioma_T1C+_97_mask.jpg  \n",
            "  inflating: /content/data/train/masks/Meningioma_T1C+_98_mask.jpg  \n",
            "  inflating: /content/data/train/masks/Meningioma_T1C+_99_mask.jpg  \n",
            "  inflating: /content/data/train/masks/Meningioma_T1C+_9_mask.jpg  \n",
            "  inflating: /content/data/train/masks/Meningioma_T1_100_mask.jpg  \n",
            "  inflating: /content/data/train/masks/Meningioma_T1_103_mask.jpg  \n",
            "  inflating: /content/data/train/masks/Meningioma_T1_104_mask.jpg  \n",
            "  inflating: /content/data/train/masks/Meningioma_T1_105_mask.jpg  \n",
            "  inflating: /content/data/train/masks/Meningioma_T1_107_mask.jpg  \n",
            "  inflating: /content/data/train/masks/Meningioma_T1_108_mask.jpg  \n",
            "  inflating: /content/data/train/masks/Meningioma_T1_109_mask.jpg  \n",
            "  inflating: /content/data/train/masks/Meningioma_T1_10_mask.jpg  \n",
            "  inflating: /content/data/train/masks/Meningioma_T1_110_mask.jpg  \n",
            "  inflating: /content/data/train/masks/Meningioma_T1_112_mask.jpg  \n",
            "  inflating: /content/data/train/masks/Meningioma_T1_113_mask.jpg  \n",
            "  inflating: /content/data/train/masks/Meningioma_T1_114_mask.jpg  \n",
            "  inflating: /content/data/train/masks/Meningioma_T1_115_mask.jpg  \n",
            "  inflating: /content/data/train/masks/Meningioma_T1_116_mask.jpg  \n",
            "  inflating: /content/data/train/masks/Meningioma_T1_118_mask.jpg  \n",
            "  inflating: /content/data/train/masks/Meningioma_T1_119_mask.jpg  \n",
            "  inflating: /content/data/train/masks/Meningioma_T1_11_mask.jpg  \n",
            "  inflating: /content/data/train/masks/Meningioma_T1_122_mask.jpg  \n",
            "  inflating: /content/data/train/masks/Meningioma_T1_124_mask.jpg  \n",
            "  inflating: /content/data/train/masks/Meningioma_T1_125_mask.jpg  \n",
            "  inflating: /content/data/train/masks/Meningioma_T1_126_mask.jpg  \n",
            "  inflating: /content/data/train/masks/Meningioma_T1_127_mask.jpg  \n",
            "  inflating: /content/data/train/masks/Meningioma_T1_128_mask.jpg  \n",
            "  inflating: /content/data/train/masks/Meningioma_T1_129_mask.jpg  \n",
            "  inflating: /content/data/train/masks/Meningioma_T1_12_mask.jpg  \n",
            "  inflating: /content/data/train/masks/Meningioma_T1_131_mask.jpg  \n",
            "  inflating: /content/data/train/masks/Meningioma_T1_132_mask.jpg  \n",
            "  inflating: /content/data/train/masks/Meningioma_T1_133_mask.jpg  \n",
            "  inflating: /content/data/train/masks/Meningioma_T1_134_mask.jpg  \n",
            "  inflating: /content/data/train/masks/Meningioma_T1_135_mask.jpg  \n",
            "  inflating: /content/data/train/masks/Meningioma_T1_136_mask.jpg  \n",
            "  inflating: /content/data/train/masks/Meningioma_T1_137_mask.jpg  \n",
            "  inflating: /content/data/train/masks/Meningioma_T1_138_mask.jpg  \n",
            "  inflating: /content/data/train/masks/Meningioma_T1_139_mask.jpg  \n",
            "  inflating: /content/data/train/masks/Meningioma_T1_13_mask.jpg  \n",
            "  inflating: /content/data/train/masks/Meningioma_T1_140_mask.jpg  \n",
            "  inflating: /content/data/train/masks/Meningioma_T1_141_mask.jpg  \n",
            "  inflating: /content/data/train/masks/Meningioma_T1_142_mask.jpg  \n",
            "  inflating: /content/data/train/masks/Meningioma_T1_143_mask.jpg  \n",
            "  inflating: /content/data/train/masks/Meningioma_T1_144_mask.jpg  \n",
            "  inflating: /content/data/train/masks/Meningioma_T1_145_mask.jpg  \n",
            "  inflating: /content/data/train/masks/Meningioma_T1_146_mask.jpg  \n",
            "  inflating: /content/data/train/masks/Meningioma_T1_147_mask.jpg  \n",
            "  inflating: /content/data/train/masks/Meningioma_T1_148_mask.jpg  \n",
            "  inflating: /content/data/train/masks/Meningioma_T1_149_mask.jpg  \n",
            "  inflating: /content/data/train/masks/Meningioma_T1_14_mask.jpg  \n",
            "  inflating: /content/data/train/masks/Meningioma_T1_150_mask.jpg  \n",
            "  inflating: /content/data/train/masks/Meningioma_T1_152_mask.jpg  \n",
            "  inflating: /content/data/train/masks/Meningioma_T1_153_mask.jpg  \n",
            "  inflating: /content/data/train/masks/Meningioma_T1_154_mask.jpg  \n",
            "  inflating: /content/data/train/masks/Meningioma_T1_155_mask.jpg  \n",
            "  inflating: /content/data/train/masks/Meningioma_T1_158_mask.jpg  \n",
            "  inflating: /content/data/train/masks/Meningioma_T1_159_mask.jpg  \n",
            "  inflating: /content/data/train/masks/Meningioma_T1_15_mask.jpg  \n",
            "  inflating: /content/data/train/masks/Meningioma_T1_162_mask.jpg  \n",
            "  inflating: /content/data/train/masks/Meningioma_T1_163_mask.jpg  \n",
            "  inflating: /content/data/train/masks/Meningioma_T1_164_mask.jpg  \n",
            "  inflating: /content/data/train/masks/Meningioma_T1_165_mask.jpg  \n",
            "  inflating: /content/data/train/masks/Meningioma_T1_166_mask.jpg  \n",
            "  inflating: /content/data/train/masks/Meningioma_T1_167_mask.jpg  \n",
            "  inflating: /content/data/train/masks/Meningioma_T1_168_mask.jpg  \n",
            "  inflating: /content/data/train/masks/Meningioma_T1_169_mask.jpg  \n",
            "  inflating: /content/data/train/masks/Meningioma_T1_16_mask.jpg  \n",
            "  inflating: /content/data/train/masks/Meningioma_T1_170_mask.jpg  \n",
            "  inflating: /content/data/train/masks/Meningioma_T1_171_mask.jpg  \n",
            "  inflating: /content/data/train/masks/Meningioma_T1_172_mask.jpg  \n",
            "  inflating: /content/data/train/masks/Meningioma_T1_174_mask.jpg  \n",
            "  inflating: /content/data/train/masks/Meningioma_T1_176_mask.jpg  \n",
            "  inflating: /content/data/train/masks/Meningioma_T1_177_mask.jpg  \n",
            "  inflating: /content/data/train/masks/Meningioma_T1_178_mask.jpg  \n",
            "  inflating: /content/data/train/masks/Meningioma_T1_179_mask.jpg  \n",
            "  inflating: /content/data/train/masks/Meningioma_T1_17_mask.jpg  \n",
            "  inflating: /content/data/train/masks/Meningioma_T1_180_mask.jpg  \n",
            "  inflating: /content/data/train/masks/Meningioma_T1_181_mask.jpg  \n",
            "  inflating: /content/data/train/masks/Meningioma_T1_182_mask.jpg  \n",
            "  inflating: /content/data/train/masks/Meningioma_T1_183_mask.jpg  \n",
            "  inflating: /content/data/train/masks/Meningioma_T1_184_mask.jpg  \n",
            "  inflating: /content/data/train/masks/Meningioma_T1_185_mask.jpg  \n",
            "  inflating: /content/data/train/masks/Meningioma_T1_186_mask.jpg  \n",
            "  inflating: /content/data/train/masks/Meningioma_T1_187_mask.jpg  \n",
            "  inflating: /content/data/train/masks/Meningioma_T1_188_mask.jpg  \n",
            "  inflating: /content/data/train/masks/Meningioma_T1_189_mask.jpg  \n",
            "  inflating: /content/data/train/masks/Meningioma_T1_18_mask.jpg  \n",
            "  inflating: /content/data/train/masks/Meningioma_T1_190_mask.jpg  \n",
            "  inflating: /content/data/train/masks/Meningioma_T1_191_mask.jpg  \n",
            "  inflating: /content/data/train/masks/Meningioma_T1_192_mask.jpg  \n",
            "  inflating: /content/data/train/masks/Meningioma_T1_194_mask.jpg  \n",
            "  inflating: /content/data/train/masks/Meningioma_T1_195_mask.jpg  \n",
            "  inflating: /content/data/train/masks/Meningioma_T1_196_mask.jpg  \n",
            "  inflating: /content/data/train/masks/Meningioma_T1_197_mask.jpg  \n",
            "  inflating: /content/data/train/masks/Meningioma_T1_198_mask.jpg  \n",
            "  inflating: /content/data/train/masks/Meningioma_T1_199_mask.jpg  \n",
            "  inflating: /content/data/train/masks/Meningioma_T1_1_mask.jpg  \n",
            "  inflating: /content/data/train/masks/Meningioma_T1_200_mask.jpg  \n",
            "  inflating: /content/data/train/masks/Meningioma_T1_201_mask.jpg  \n",
            "  inflating: /content/data/train/masks/Meningioma_T1_203_mask.jpg  \n",
            "  inflating: /content/data/train/masks/Meningioma_T1_204_mask.jpg  \n",
            "  inflating: /content/data/train/masks/Meningioma_T1_206_mask.jpg  \n",
            "  inflating: /content/data/train/masks/Meningioma_T1_207_mask.jpg  \n",
            "  inflating: /content/data/train/masks/Meningioma_T1_208_mask.jpg  \n",
            "  inflating: /content/data/train/masks/Meningioma_T1_209_mask.jpg  \n",
            "  inflating: /content/data/train/masks/Meningioma_T1_20_mask.jpg  \n",
            "  inflating: /content/data/train/masks/Meningioma_T1_210_mask.jpg  \n",
            "  inflating: /content/data/train/masks/Meningioma_T1_211_mask.jpg  \n",
            "  inflating: /content/data/train/masks/Meningioma_T1_212_mask.jpg  \n",
            "  inflating: /content/data/train/masks/Meningioma_T1_213_mask.jpg  \n",
            "  inflating: /content/data/train/masks/Meningioma_T1_214_mask.jpg  \n",
            "  inflating: /content/data/train/masks/Meningioma_T1_215_mask.jpg  \n",
            "  inflating: /content/data/train/masks/Meningioma_T1_216_mask.jpg  \n",
            "  inflating: /content/data/train/masks/Meningioma_T1_217_mask.jpg  \n",
            "  inflating: /content/data/train/masks/Meningioma_T1_218_mask.jpg  \n",
            "  inflating: /content/data/train/masks/Meningioma_T1_219_mask.jpg  \n",
            "  inflating: /content/data/train/masks/Meningioma_T1_21_mask.jpg  \n",
            "  inflating: /content/data/train/masks/Meningioma_T1_220_mask.jpg  \n",
            "  inflating: /content/data/train/masks/Meningioma_T1_221_mask.jpg  \n",
            "  inflating: /content/data/train/masks/Meningioma_T1_223_mask.jpg  \n",
            "  inflating: /content/data/train/masks/Meningioma_T1_224_mask.jpg  \n",
            "  inflating: /content/data/train/masks/Meningioma_T1_225_mask.jpg  \n",
            "  inflating: /content/data/train/masks/Meningioma_T1_226_mask.jpg  \n",
            "  inflating: /content/data/train/masks/Meningioma_T1_227_mask.jpg  \n",
            "  inflating: /content/data/train/masks/Meningioma_T1_228_mask.jpg  \n",
            "  inflating: /content/data/train/masks/Meningioma_T1_230_mask.jpg  \n",
            "  inflating: /content/data/train/masks/Meningioma_T1_233_mask.jpg  \n",
            "  inflating: /content/data/train/masks/Meningioma_T1_235_mask.jpg  \n",
            "  inflating: /content/data/train/masks/Meningioma_T1_236_mask.jpg  \n",
            "  inflating: /content/data/train/masks/Meningioma_T1_237_mask.jpg  \n",
            "  inflating: /content/data/train/masks/Meningioma_T1_238_mask.jpg  \n",
            "  inflating: /content/data/train/masks/Meningioma_T1_239_mask.jpg  \n",
            "  inflating: /content/data/train/masks/Meningioma_T1_23_mask.jpg  \n",
            "  inflating: /content/data/train/masks/Meningioma_T1_240_mask.jpg  \n",
            "  inflating: /content/data/train/masks/Meningioma_T1_241_mask.jpg  \n",
            "  inflating: /content/data/train/masks/Meningioma_T1_242_mask.jpg  \n",
            "  inflating: /content/data/train/masks/Meningioma_T1_243_mask.jpg  \n",
            "  inflating: /content/data/train/masks/Meningioma_T1_244_mask.jpg  \n",
            "  inflating: /content/data/train/masks/Meningioma_T1_245_mask.jpg  \n",
            "  inflating: /content/data/train/masks/Meningioma_T1_246_mask.jpg  \n",
            "  inflating: /content/data/train/masks/Meningioma_T1_247_mask.jpg  \n",
            "  inflating: /content/data/train/masks/Meningioma_T1_248_mask.jpg  \n",
            "  inflating: /content/data/train/masks/Meningioma_T1_249_mask.jpg  \n",
            "  inflating: /content/data/train/masks/Meningioma_T1_24_mask.jpg  \n",
            "  inflating: /content/data/train/masks/Meningioma_T1_250_mask.jpg  \n",
            "  inflating: /content/data/train/masks/Meningioma_T1_251_mask.jpg  \n",
            "  inflating: /content/data/train/masks/Meningioma_T1_253_mask.jpg  \n",
            "  inflating: /content/data/train/masks/Meningioma_T1_254_mask.jpg  \n",
            "  inflating: /content/data/train/masks/Meningioma_T1_255_mask.jpg  \n",
            "  inflating: /content/data/train/masks/Meningioma_T1_257_mask.jpg  \n",
            "  inflating: /content/data/train/masks/Meningioma_T1_258_mask.jpg  \n",
            "  inflating: /content/data/train/masks/Meningioma_T1_259_mask.jpg  \n",
            "  inflating: /content/data/train/masks/Meningioma_T1_25_mask.jpg  \n",
            "  inflating: /content/data/train/masks/Meningioma_T1_260_mask.jpg  \n",
            "  inflating: /content/data/train/masks/Meningioma_T1_261_mask.jpg  \n",
            "  inflating: /content/data/train/masks/Meningioma_T1_262_mask.jpg  \n",
            "  inflating: /content/data/train/masks/Meningioma_T1_263_mask.jpg  \n",
            "  inflating: /content/data/train/masks/Meningioma_T1_265_mask.jpg  \n",
            "  inflating: /content/data/train/masks/Meningioma_T1_266_mask.jpg  \n",
            "  inflating: /content/data/train/masks/Meningioma_T1_267_mask.jpg  \n",
            "  inflating: /content/data/train/masks/Meningioma_T1_268_mask.jpg  \n",
            "  inflating: /content/data/train/masks/Meningioma_T1_270_mask.jpg  \n",
            "  inflating: /content/data/train/masks/Meningioma_T1_271_mask.jpg  \n",
            "  inflating: /content/data/train/masks/Meningioma_T1_272_mask.jpg  \n",
            "  inflating: /content/data/train/masks/Meningioma_T1_27_mask.jpg  \n",
            "  inflating: /content/data/train/masks/Meningioma_T1_28_mask.jpg  \n",
            "  inflating: /content/data/train/masks/Meningioma_T1_2_mask.jpg  \n",
            "  inflating: /content/data/train/masks/Meningioma_T1_30_mask.jpg  \n",
            "  inflating: /content/data/train/masks/Meningioma_T1_32_mask.jpg  \n",
            "  inflating: /content/data/train/masks/Meningioma_T1_33_mask.jpg  \n",
            "  inflating: /content/data/train/masks/Meningioma_T1_36_mask.jpg  \n",
            "  inflating: /content/data/train/masks/Meningioma_T1_37_mask.jpg  \n",
            "  inflating: /content/data/train/masks/Meningioma_T1_38_mask.jpg  \n",
            "  inflating: /content/data/train/masks/Meningioma_T1_39_mask.jpg  \n",
            "  inflating: /content/data/train/masks/Meningioma_T1_3_mask.jpg  \n",
            "  inflating: /content/data/train/masks/Meningioma_T1_40_mask.jpg  \n",
            "  inflating: /content/data/train/masks/Meningioma_T1_41_mask.jpg  \n",
            "  inflating: /content/data/train/masks/Meningioma_T1_42_mask.jpg  \n",
            "  inflating: /content/data/train/masks/Meningioma_T1_44_mask.jpg  \n",
            "  inflating: /content/data/train/masks/Meningioma_T1_45_mask.jpg  \n",
            "  inflating: /content/data/train/masks/Meningioma_T1_46_mask.jpg  \n",
            "  inflating: /content/data/train/masks/Meningioma_T1_48_mask.jpg  \n",
            "  inflating: /content/data/train/masks/Meningioma_T1_49_mask.jpg  \n",
            "  inflating: /content/data/train/masks/Meningioma_T1_51_mask.jpg  \n",
            "  inflating: /content/data/train/masks/Meningioma_T1_52_mask.jpg  \n",
            "  inflating: /content/data/train/masks/Meningioma_T1_53_mask.jpg  \n",
            "  inflating: /content/data/train/masks/Meningioma_T1_54_mask.jpg  \n",
            "  inflating: /content/data/train/masks/Meningioma_T1_55_mask.jpg  \n",
            "  inflating: /content/data/train/masks/Meningioma_T1_56_mask.jpg  \n",
            "  inflating: /content/data/train/masks/Meningioma_T1_58_mask.jpg  \n",
            "  inflating: /content/data/train/masks/Meningioma_T1_59_mask.jpg  \n",
            "  inflating: /content/data/train/masks/Meningioma_T1_60_mask.jpg  \n",
            "  inflating: /content/data/train/masks/Meningioma_T1_61_mask.jpg  \n",
            "  inflating: /content/data/train/masks/Meningioma_T1_62_mask.jpg  \n",
            "  inflating: /content/data/train/masks/Meningioma_T1_63_mask.jpg  \n",
            "  inflating: /content/data/train/masks/Meningioma_T1_64_mask.jpg  \n",
            "  inflating: /content/data/train/masks/Meningioma_T1_66_mask.jpg  \n",
            "  inflating: /content/data/train/masks/Meningioma_T1_67_mask.jpg  \n",
            "  inflating: /content/data/train/masks/Meningioma_T1_69_mask.jpg  \n",
            "  inflating: /content/data/train/masks/Meningioma_T1_70_mask.jpg  \n",
            "  inflating: /content/data/train/masks/Meningioma_T1_71_mask.jpg  \n",
            "  inflating: /content/data/train/masks/Meningioma_T1_73_mask.jpg  \n",
            "  inflating: /content/data/train/masks/Meningioma_T1_74_mask.jpg  \n",
            "  inflating: /content/data/train/masks/Meningioma_T1_76_mask.jpg  \n",
            "  inflating: /content/data/train/masks/Meningioma_T1_77_mask.jpg  \n",
            "  inflating: /content/data/train/masks/Meningioma_T1_78_mask.jpg  \n",
            "  inflating: /content/data/train/masks/Meningioma_T1_79_mask.jpg  \n",
            "  inflating: /content/data/train/masks/Meningioma_T1_7_mask.jpg  \n",
            "  inflating: /content/data/train/masks/Meningioma_T1_80_mask.jpg  \n",
            "  inflating: /content/data/train/masks/Meningioma_T1_81_mask.jpg  \n",
            "  inflating: /content/data/train/masks/Meningioma_T1_83_mask.jpg  \n",
            "  inflating: /content/data/train/masks/Meningioma_T1_84_mask.jpg  \n",
            "  inflating: /content/data/train/masks/Meningioma_T1_85_mask.jpg  \n",
            "  inflating: /content/data/train/masks/Meningioma_T1_86_mask.jpg  \n",
            "  inflating: /content/data/train/masks/Meningioma_T1_87_mask.jpg  \n",
            "  inflating: /content/data/train/masks/Meningioma_T1_88_mask.jpg  \n",
            "  inflating: /content/data/train/masks/Meningioma_T1_89_mask.jpg  \n",
            "  inflating: /content/data/train/masks/Meningioma_T1_90_mask.jpg  \n",
            "  inflating: /content/data/train/masks/Meningioma_T1_91_mask.jpg  \n",
            "  inflating: /content/data/train/masks/Meningioma_T1_93_mask.jpg  \n",
            "  inflating: /content/data/train/masks/Meningioma_T1_95_mask.jpg  \n",
            "  inflating: /content/data/train/masks/Meningioma_T1_96_mask.jpg  \n",
            "  inflating: /content/data/train/masks/Meningioma_T1_97_mask.jpg  \n",
            "  inflating: /content/data/train/masks/Meningioma_T1_98_mask.jpg  \n",
            "  inflating: /content/data/train/masks/Meningioma_T1_99_mask.jpg  \n",
            "  inflating: /content/data/train/masks/Meningioma_T1_9_mask.jpg  \n",
            "  inflating: /content/data/train/masks/Meningioma_T2_101_mask.jpg  \n",
            "  inflating: /content/data/train/masks/Meningioma_T2_102_mask.jpg  \n",
            "  inflating: /content/data/train/masks/Meningioma_T2_104_mask.jpg  \n",
            "  inflating: /content/data/train/masks/Meningioma_T2_105_mask.jpg  \n",
            "  inflating: /content/data/train/masks/Meningioma_T2_106_mask.jpg  \n",
            "  inflating: /content/data/train/masks/Meningioma_T2_107_mask.jpg  \n",
            "  inflating: /content/data/train/masks/Meningioma_T2_108_mask.jpg  \n",
            "  inflating: /content/data/train/masks/Meningioma_T2_109_mask.jpg  \n",
            "  inflating: /content/data/train/masks/Meningioma_T2_111_mask.jpg  \n",
            "  inflating: /content/data/train/masks/Meningioma_T2_113_mask.jpg  \n",
            "  inflating: /content/data/train/masks/Meningioma_T2_114_mask.jpg  \n",
            "  inflating: /content/data/train/masks/Meningioma_T2_115_mask.jpg  \n",
            "  inflating: /content/data/train/masks/Meningioma_T2_116_mask.jpg  \n",
            "  inflating: /content/data/train/masks/Meningioma_T2_117_mask.jpg  \n",
            "  inflating: /content/data/train/masks/Meningioma_T2_118_mask.jpg  \n",
            "  inflating: /content/data/train/masks/Meningioma_T2_119_mask.jpg  \n",
            "  inflating: /content/data/train/masks/Meningioma_T2_11_mask.jpg  \n",
            "  inflating: /content/data/train/masks/Meningioma_T2_120_mask.jpg  \n",
            "  inflating: /content/data/train/masks/Meningioma_T2_121_mask.jpg  \n",
            "  inflating: /content/data/train/masks/Meningioma_T2_122_mask.jpg  \n",
            "  inflating: /content/data/train/masks/Meningioma_T2_123_mask.jpg  \n",
            "  inflating: /content/data/train/masks/Meningioma_T2_126_mask.jpg  \n",
            "  inflating: /content/data/train/masks/Meningioma_T2_128_mask.jpg  \n",
            "  inflating: /content/data/train/masks/Meningioma_T2_129_mask.jpg  \n",
            "  inflating: /content/data/train/masks/Meningioma_T2_12_mask.jpg  \n",
            "  inflating: /content/data/train/masks/Meningioma_T2_130_mask.jpg  \n",
            "  inflating: /content/data/train/masks/Meningioma_T2_131_mask.jpg  \n",
            "  inflating: /content/data/train/masks/Meningioma_T2_132_mask.jpg  \n",
            "  inflating: /content/data/train/masks/Meningioma_T2_134_mask.jpg  \n",
            "  inflating: /content/data/train/masks/Meningioma_T2_135_mask.jpg  \n",
            "  inflating: /content/data/train/masks/Meningioma_T2_136_mask.jpg  \n",
            "  inflating: /content/data/train/masks/Meningioma_T2_137_mask.jpg  \n",
            "  inflating: /content/data/train/masks/Meningioma_T2_139_mask.jpg  \n",
            "  inflating: /content/data/train/masks/Meningioma_T2_13_mask.jpg  \n",
            "  inflating: /content/data/train/masks/Meningioma_T2_140_mask.jpg  \n",
            "  inflating: /content/data/train/masks/Meningioma_T2_141_mask.jpg  \n",
            "  inflating: /content/data/train/masks/Meningioma_T2_142_mask.jpg  \n",
            "  inflating: /content/data/train/masks/Meningioma_T2_143_mask.jpg  \n",
            "  inflating: /content/data/train/masks/Meningioma_T2_144_mask.jpg  \n",
            "  inflating: /content/data/train/masks/Meningioma_T2_145_mask.jpg  \n",
            "  inflating: /content/data/train/masks/Meningioma_T2_146_mask.jpg  \n",
            "  inflating: /content/data/train/masks/Meningioma_T2_147_mask.jpg  \n",
            "  inflating: /content/data/train/masks/Meningioma_T2_149_mask.jpg  \n",
            "  inflating: /content/data/train/masks/Meningioma_T2_14_mask.jpg  \n",
            "  inflating: /content/data/train/masks/Meningioma_T2_150_mask.jpg  \n",
            "  inflating: /content/data/train/masks/Meningioma_T2_152_mask.jpg  \n",
            "  inflating: /content/data/train/masks/Meningioma_T2_153_mask.jpg  \n",
            "  inflating: /content/data/train/masks/Meningioma_T2_154_mask.jpg  \n",
            "  inflating: /content/data/train/masks/Meningioma_T2_155_mask.jpg  \n",
            "  inflating: /content/data/train/masks/Meningioma_T2_156_mask.jpg  \n",
            "  inflating: /content/data/train/masks/Meningioma_T2_157_mask.jpg  \n",
            "  inflating: /content/data/train/masks/Meningioma_T2_158_mask.jpg  \n",
            "  inflating: /content/data/train/masks/Meningioma_T2_15_mask.jpg  \n",
            "  inflating: /content/data/train/masks/Meningioma_T2_162_mask.jpg  \n",
            "  inflating: /content/data/train/masks/Meningioma_T2_163_mask.jpg  \n",
            "  inflating: /content/data/train/masks/Meningioma_T2_164_mask.jpg  \n",
            "  inflating: /content/data/train/masks/Meningioma_T2_165_mask.jpg  \n",
            "  inflating: /content/data/train/masks/Meningioma_T2_166_mask.jpg  \n",
            "  inflating: /content/data/train/masks/Meningioma_T2_167_mask.jpg  \n",
            "  inflating: /content/data/train/masks/Meningioma_T2_168_mask.jpg  \n",
            "  inflating: /content/data/train/masks/Meningioma_T2_16_mask.jpg  \n",
            "  inflating: /content/data/train/masks/Meningioma_T2_170_mask.jpg  \n",
            "  inflating: /content/data/train/masks/Meningioma_T2_171_mask.jpg  \n",
            "  inflating: /content/data/train/masks/Meningioma_T2_172_mask.jpg  \n",
            "  inflating: /content/data/train/masks/Meningioma_T2_173_mask.jpg  \n",
            "  inflating: /content/data/train/masks/Meningioma_T2_174_mask.jpg  \n",
            "  inflating: /content/data/train/masks/Meningioma_T2_175_mask.jpg  \n",
            "  inflating: /content/data/train/masks/Meningioma_T2_176_mask.jpg  \n",
            "  inflating: /content/data/train/masks/Meningioma_T2_177_mask.jpg  \n",
            "  inflating: /content/data/train/masks/Meningioma_T2_179_mask.jpg  \n",
            "  inflating: /content/data/train/masks/Meningioma_T2_180_mask.jpg  \n",
            "  inflating: /content/data/train/masks/Meningioma_T2_181_mask.jpg  \n",
            "  inflating: /content/data/train/masks/Meningioma_T2_183_mask.jpg  \n",
            "  inflating: /content/data/train/masks/Meningioma_T2_185_mask.jpg  \n",
            "  inflating: /content/data/train/masks/Meningioma_T2_186_mask.jpg  \n",
            "  inflating: /content/data/train/masks/Meningioma_T2_187_mask.jpg  \n",
            "  inflating: /content/data/train/masks/Meningioma_T2_188_mask.jpg  \n",
            "  inflating: /content/data/train/masks/Meningioma_T2_189_mask.jpg  \n",
            "  inflating: /content/data/train/masks/Meningioma_T2_18_mask.jpg  \n",
            "  inflating: /content/data/train/masks/Meningioma_T2_190_mask.jpg  \n",
            "  inflating: /content/data/train/masks/Meningioma_T2_192_mask.jpg  \n",
            "  inflating: /content/data/train/masks/Meningioma_T2_193_mask.jpg  \n",
            "  inflating: /content/data/train/masks/Meningioma_T2_194_mask.jpg  \n",
            "  inflating: /content/data/train/masks/Meningioma_T2_195_mask.jpg  \n",
            "  inflating: /content/data/train/masks/Meningioma_T2_196_mask.jpg  \n",
            "  inflating: /content/data/train/masks/Meningioma_T2_197_mask.jpg  \n",
            "  inflating: /content/data/train/masks/Meningioma_T2_198_mask.jpg  \n",
            "  inflating: /content/data/train/masks/Meningioma_T2_199_mask.jpg  \n",
            "  inflating: /content/data/train/masks/Meningioma_T2_19_mask.jpg  \n",
            "  inflating: /content/data/train/masks/Meningioma_T2_200_mask.jpg  \n",
            "  inflating: /content/data/train/masks/Meningioma_T2_201_mask.jpg  \n",
            "  inflating: /content/data/train/masks/Meningioma_T2_203_mask.jpg  \n",
            "  inflating: /content/data/train/masks/Meningioma_T2_204_mask.jpg  \n",
            "  inflating: /content/data/train/masks/Meningioma_T2_205_mask.jpg  \n",
            "  inflating: /content/data/train/masks/Meningioma_T2_206_mask.jpg  \n",
            "  inflating: /content/data/train/masks/Meningioma_T2_209_mask.jpg  \n",
            "  inflating: /content/data/train/masks/Meningioma_T2_20_mask.jpg  \n",
            "  inflating: /content/data/train/masks/Meningioma_T2_211_mask.jpg  \n",
            "  inflating: /content/data/train/masks/Meningioma_T2_212_mask.jpg  \n",
            "  inflating: /content/data/train/masks/Meningioma_T2_213_mask.jpg  \n",
            "  inflating: /content/data/train/masks/Meningioma_T2_214_mask.jpg  \n",
            "  inflating: /content/data/train/masks/Meningioma_T2_215_mask.jpg  \n",
            "  inflating: /content/data/train/masks/Meningioma_T2_217_mask.jpg  \n",
            "  inflating: /content/data/train/masks/Meningioma_T2_218_mask.jpg  \n",
            "  inflating: /content/data/train/masks/Meningioma_T2_219_mask.jpg  \n",
            "  inflating: /content/data/train/masks/Meningioma_T2_21_mask.jpg  \n",
            "  inflating: /content/data/train/masks/Meningioma_T2_220_mask.jpg  \n",
            "  inflating: /content/data/train/masks/Meningioma_T2_222_mask.jpg  \n",
            "  inflating: /content/data/train/masks/Meningioma_T2_223_mask.jpg  \n",
            "  inflating: /content/data/train/masks/Meningioma_T2_224_mask.jpg  \n",
            "  inflating: /content/data/train/masks/Meningioma_T2_225_mask.jpg  \n",
            "  inflating: /content/data/train/masks/Meningioma_T2_226_mask.jpg  \n",
            "  inflating: /content/data/train/masks/Meningioma_T2_228_mask.jpg  \n",
            "  inflating: /content/data/train/masks/Meningioma_T2_229_mask.jpg  \n",
            "  inflating: /content/data/train/masks/Meningioma_T2_22_mask.jpg  \n",
            "  inflating: /content/data/train/masks/Meningioma_T2_230_mask.jpg  \n",
            "  inflating: /content/data/train/masks/Meningioma_T2_231_mask.jpg  \n",
            "  inflating: /content/data/train/masks/Meningioma_T2_232_mask.jpg  \n",
            "  inflating: /content/data/train/masks/Meningioma_T2_233_mask.jpg  \n",
            "  inflating: /content/data/train/masks/Meningioma_T2_23_mask.jpg  \n",
            "  inflating: /content/data/train/masks/Meningioma_T2_24_mask.jpg  \n",
            "  inflating: /content/data/train/masks/Meningioma_T2_25_mask.jpg  \n",
            "  inflating: /content/data/train/masks/Meningioma_T2_26_mask.jpg  \n",
            "  inflating: /content/data/train/masks/Meningioma_T2_27_mask.jpg  \n",
            "  inflating: /content/data/train/masks/Meningioma_T2_28_mask.jpg  \n",
            "  inflating: /content/data/train/masks/Meningioma_T2_29_mask.jpg  \n",
            "  inflating: /content/data/train/masks/Meningioma_T2_30_mask.jpg  \n",
            "  inflating: /content/data/train/masks/Meningioma_T2_31_mask.jpg  \n",
            "  inflating: /content/data/train/masks/Meningioma_T2_32_mask.jpg  \n",
            "  inflating: /content/data/train/masks/Meningioma_T2_33_mask.jpg  \n",
            "  inflating: /content/data/train/masks/Meningioma_T2_34_mask.jpg  \n",
            "  inflating: /content/data/train/masks/Meningioma_T2_35_mask.jpg  \n",
            "  inflating: /content/data/train/masks/Meningioma_T2_36_mask.jpg  \n",
            "  inflating: /content/data/train/masks/Meningioma_T2_37_mask.jpg  \n",
            "  inflating: /content/data/train/masks/Meningioma_T2_38_mask.jpg  \n",
            "  inflating: /content/data/train/masks/Meningioma_T2_3_mask.jpg  \n",
            "  inflating: /content/data/train/masks/Meningioma_T2_40_mask.jpg  \n",
            "  inflating: /content/data/train/masks/Meningioma_T2_41_mask.jpg  \n",
            "  inflating: /content/data/train/masks/Meningioma_T2_42_mask.jpg  \n",
            "  inflating: /content/data/train/masks/Meningioma_T2_43_mask.jpg  \n",
            "  inflating: /content/data/train/masks/Meningioma_T2_44_mask.jpg  \n",
            "  inflating: /content/data/train/masks/Meningioma_T2_45_mask.jpg  \n",
            "  inflating: /content/data/train/masks/Meningioma_T2_46_mask.jpg  \n",
            "  inflating: /content/data/train/masks/Meningioma_T2_47_mask.jpg  \n",
            "  inflating: /content/data/train/masks/Meningioma_T2_48_mask.jpg  \n",
            "  inflating: /content/data/train/masks/Meningioma_T2_49_mask.jpg  \n",
            "  inflating: /content/data/train/masks/Meningioma_T2_51_mask.jpg  \n",
            "  inflating: /content/data/train/masks/Meningioma_T2_52_mask.jpg  \n",
            "  inflating: /content/data/train/masks/Meningioma_T2_53_mask.jpg  \n",
            "  inflating: /content/data/train/masks/Meningioma_T2_54_mask.jpg  \n",
            "  inflating: /content/data/train/masks/Meningioma_T2_55_mask.jpg  \n",
            "  inflating: /content/data/train/masks/Meningioma_T2_56_mask.jpg  \n",
            "  inflating: /content/data/train/masks/Meningioma_T2_57_mask.jpg  \n",
            "  inflating: /content/data/train/masks/Meningioma_T2_58_mask.jpg  \n",
            "  inflating: /content/data/train/masks/Meningioma_T2_59_mask.jpg  \n",
            "  inflating: /content/data/train/masks/Meningioma_T2_5_mask.jpg  \n",
            "  inflating: /content/data/train/masks/Meningioma_T2_60_mask.jpg  \n",
            "  inflating: /content/data/train/masks/Meningioma_T2_61_mask.jpg  \n",
            "  inflating: /content/data/train/masks/Meningioma_T2_62_mask.jpg  \n",
            "  inflating: /content/data/train/masks/Meningioma_T2_63_mask.jpg  \n",
            "  inflating: /content/data/train/masks/Meningioma_T2_64_mask.jpg  \n",
            "  inflating: /content/data/train/masks/Meningioma_T2_65_mask.jpg  \n",
            "  inflating: /content/data/train/masks/Meningioma_T2_66_mask.jpg  \n",
            "  inflating: /content/data/train/masks/Meningioma_T2_67_mask.jpg  \n",
            "  inflating: /content/data/train/masks/Meningioma_T2_68_mask.jpg  \n",
            "  inflating: /content/data/train/masks/Meningioma_T2_69_mask.jpg  \n",
            "  inflating: /content/data/train/masks/Meningioma_T2_6_mask.jpg  \n",
            "  inflating: /content/data/train/masks/Meningioma_T2_70_mask.jpg  \n",
            "  inflating: /content/data/train/masks/Meningioma_T2_72_mask.jpg  \n",
            "  inflating: /content/data/train/masks/Meningioma_T2_75_mask.jpg  \n",
            "  inflating: /content/data/train/masks/Meningioma_T2_76_mask.jpg  \n",
            "  inflating: /content/data/train/masks/Meningioma_T2_77_mask.jpg  \n",
            "  inflating: /content/data/train/masks/Meningioma_T2_78_mask.jpg  \n",
            "  inflating: /content/data/train/masks/Meningioma_T2_79_mask.jpg  \n",
            "  inflating: /content/data/train/masks/Meningioma_T2_81_mask.jpg  \n",
            "  inflating: /content/data/train/masks/Meningioma_T2_82_mask.jpg  \n",
            "  inflating: /content/data/train/masks/Meningioma_T2_83_mask.jpg  \n",
            "  inflating: /content/data/train/masks/Meningioma_T2_85_mask.jpg  \n",
            "  inflating: /content/data/train/masks/Meningioma_T2_86_mask.jpg  \n",
            "  inflating: /content/data/train/masks/Meningioma_T2_87_mask.jpg  \n",
            "  inflating: /content/data/train/masks/Meningioma_T2_88_mask.jpg  \n",
            "  inflating: /content/data/train/masks/Meningioma_T2_89_mask.jpg  \n",
            "  inflating: /content/data/train/masks/Meningioma_T2_8_mask.jpg  \n",
            "  inflating: /content/data/train/masks/Meningioma_T2_90_mask.jpg  \n",
            "  inflating: /content/data/train/masks/Meningioma_T2_92_mask.jpg  \n",
            "  inflating: /content/data/train/masks/Meningioma_T2_93_mask.jpg  \n",
            "  inflating: /content/data/train/masks/Meningioma_T2_94_mask.jpg  \n",
            "  inflating: /content/data/train/masks/Meningioma_T2_95_mask.jpg  \n",
            "  inflating: /content/data/train/masks/Meningioma_T2_96_mask.jpg  \n",
            "  inflating: /content/data/train/masks/Meningioma_T2_97_mask.jpg  \n",
            "  inflating: /content/data/train/masks/Meningioma_T2_98_mask.jpg  \n",
            "  inflating: /content/data/train/masks/Meningioma_T2_99_mask.jpg  \n",
            "  inflating: /content/data/train/masks/Neurocitoma_T1C+_100_mask.jpg  \n",
            "  inflating: /content/data/train/masks/Neurocitoma_T1C+_101_mask.jpg  \n",
            "  inflating: /content/data/train/masks/Neurocitoma_T1C+_102_mask.jpg  \n",
            "  inflating: /content/data/train/masks/Neurocitoma_T1C+_104_mask.jpg  \n",
            "  inflating: /content/data/train/masks/Neurocitoma_T1C+_106_mask.jpg  \n",
            "  inflating: /content/data/train/masks/Neurocitoma_T1C+_108_mask.jpg  \n",
            "  inflating: /content/data/train/masks/Neurocitoma_T1C+_109_mask.jpg  \n",
            "  inflating: /content/data/train/masks/Neurocitoma_T1C+_10_mask.jpg  \n",
            "  inflating: /content/data/train/masks/Neurocitoma_T1C+_110_mask.jpg  \n",
            "  inflating: /content/data/train/masks/Neurocitoma_T1C+_111_mask.jpg  \n",
            "  inflating: /content/data/train/masks/Neurocitoma_T1C+_112_mask.jpg  \n",
            "  inflating: /content/data/train/masks/Neurocitoma_T1C+_113_mask.jpg  \n",
            "  inflating: /content/data/train/masks/Neurocitoma_T1C+_114_mask.jpg  \n",
            "  inflating: /content/data/train/masks/Neurocitoma_T1C+_115_mask.jpg  \n",
            "  inflating: /content/data/train/masks/Neurocitoma_T1C+_116_mask.jpg  \n",
            "  inflating: /content/data/train/masks/Neurocitoma_T1C+_117_mask.jpg  \n",
            "  inflating: /content/data/train/masks/Neurocitoma_T1C+_118_mask.jpg  \n",
            "  inflating: /content/data/train/masks/Neurocitoma_T1C+_119_mask.jpg  \n",
            "  inflating: /content/data/train/masks/Neurocitoma_T1C+_11_mask.jpg  \n",
            "  inflating: /content/data/train/masks/Neurocitoma_T1C+_120_mask.jpg  \n",
            "  inflating: /content/data/train/masks/Neurocitoma_T1C+_121_mask.jpg  \n",
            "  inflating: /content/data/train/masks/Neurocitoma_T1C+_122_mask.jpg  \n",
            "  inflating: /content/data/train/masks/Neurocitoma_T1C+_123_mask.jpg  \n",
            "  inflating: /content/data/train/masks/Neurocitoma_T1C+_124_mask.jpg  \n",
            "  inflating: /content/data/train/masks/Neurocitoma_T1C+_125_mask.jpg  \n",
            "  inflating: /content/data/train/masks/Neurocitoma_T1C+_126_mask.jpg  \n",
            "  inflating: /content/data/train/masks/Neurocitoma_T1C+_127_mask.jpg  \n",
            "  inflating: /content/data/train/masks/Neurocitoma_T1C+_128_mask.jpg  \n",
            "  inflating: /content/data/train/masks/Neurocitoma_T1C+_129_mask.jpg  \n",
            "  inflating: /content/data/train/masks/Neurocitoma_T1C+_12_mask.jpg  \n",
            "  inflating: /content/data/train/masks/Neurocitoma_T1C+_130_mask.jpg  \n",
            "  inflating: /content/data/train/masks/Neurocitoma_T1C+_132_mask.jpg  \n",
            "  inflating: /content/data/train/masks/Neurocitoma_T1C+_133_mask.jpg  \n",
            "  inflating: /content/data/train/masks/Neurocitoma_T1C+_134_mask.jpg  \n",
            "  inflating: /content/data/train/masks/Neurocitoma_T1C+_135_mask.jpg  \n",
            "  inflating: /content/data/train/masks/Neurocitoma_T1C+_136_mask.jpg  \n",
            "  inflating: /content/data/train/masks/Neurocitoma_T1C+_137_mask.jpg  \n",
            "  inflating: /content/data/train/masks/Neurocitoma_T1C+_139_mask.jpg  \n",
            "  inflating: /content/data/train/masks/Neurocitoma_T1C+_13_mask.jpg  \n",
            "  inflating: /content/data/train/masks/Neurocitoma_T1C+_140_mask.jpg  \n",
            "  inflating: /content/data/train/masks/Neurocitoma_T1C+_141_mask.jpg  \n",
            "  inflating: /content/data/train/masks/Neurocitoma_T1C+_142_mask.jpg  \n",
            "  inflating: /content/data/train/masks/Neurocitoma_T1C+_143_mask.jpg  \n",
            "  inflating: /content/data/train/masks/Neurocitoma_T1C+_144_mask.jpg  \n",
            "  inflating: /content/data/train/masks/Neurocitoma_T1C+_145_mask.jpg  \n",
            "  inflating: /content/data/train/masks/Neurocitoma_T1C+_147_mask.jpg  \n",
            "  inflating: /content/data/train/masks/Neurocitoma_T1C+_148_mask.jpg  \n",
            "  inflating: /content/data/train/masks/Neurocitoma_T1C+_149_mask.jpg  \n",
            "  inflating: /content/data/train/masks/Neurocitoma_T1C+_150_mask.jpg  \n",
            "  inflating: /content/data/train/masks/Neurocitoma_T1C+_151_mask.jpg  \n",
            "  inflating: /content/data/train/masks/Neurocitoma_T1C+_153_mask.jpg  \n",
            "  inflating: /content/data/train/masks/Neurocitoma_T1C+_154_mask.jpg  \n",
            "  inflating: /content/data/train/masks/Neurocitoma_T1C+_155_mask.jpg  \n",
            "  inflating: /content/data/train/masks/Neurocitoma_T1C+_156_mask.jpg  \n",
            "  inflating: /content/data/train/masks/Neurocitoma_T1C+_157_mask.jpg  \n",
            "  inflating: /content/data/train/masks/Neurocitoma_T1C+_158_mask.jpg  \n",
            "  inflating: /content/data/train/masks/Neurocitoma_T1C+_15_mask.jpg  \n",
            "  inflating: /content/data/train/masks/Neurocitoma_T1C+_161_mask.jpg  \n",
            "  inflating: /content/data/train/masks/Neurocitoma_T1C+_162_mask.jpg  \n",
            "  inflating: /content/data/train/masks/Neurocitoma_T1C+_163_mask.jpg  \n",
            "  inflating: /content/data/train/masks/Neurocitoma_T1C+_164_mask.jpg  \n",
            "  inflating: /content/data/train/masks/Neurocitoma_T1C+_165_mask.jpg  \n",
            "  inflating: /content/data/train/masks/Neurocitoma_T1C+_166_mask.jpg  \n",
            "  inflating: /content/data/train/masks/Neurocitoma_T1C+_167_mask.jpg  \n",
            "  inflating: /content/data/train/masks/Neurocitoma_T1C+_168_mask.jpg  \n",
            "  inflating: /content/data/train/masks/Neurocitoma_T1C+_169_mask.jpg  \n",
            "  inflating: /content/data/train/masks/Neurocitoma_T1C+_171_mask.jpg  \n",
            "  inflating: /content/data/train/masks/Neurocitoma_T1C+_172_mask.jpg  \n",
            "  inflating: /content/data/train/masks/Neurocitoma_T1C+_173_mask.jpg  \n",
            "  inflating: /content/data/train/masks/Neurocitoma_T1C+_174_mask.jpg  \n",
            "  inflating: /content/data/train/masks/Neurocitoma_T1C+_178_mask.jpg  \n",
            "  inflating: /content/data/train/masks/Neurocitoma_T1C+_179_mask.jpg  \n",
            "  inflating: /content/data/train/masks/Neurocitoma_T1C+_17_mask.jpg  \n",
            "  inflating: /content/data/train/masks/Neurocitoma_T1C+_180_mask.jpg  \n",
            "  inflating: /content/data/train/masks/Neurocitoma_T1C+_184_mask.jpg  \n",
            "  inflating: /content/data/train/masks/Neurocitoma_T1C+_187_mask.jpg  \n",
            "  inflating: /content/data/train/masks/Neurocitoma_T1C+_188_mask.jpg  \n",
            "  inflating: /content/data/train/masks/Neurocitoma_T1C+_189_mask.jpg  \n",
            "  inflating: /content/data/train/masks/Neurocitoma_T1C+_18_mask.jpg  \n",
            "  inflating: /content/data/train/masks/Neurocitoma_T1C+_190_mask.jpg  \n",
            "  inflating: /content/data/train/masks/Neurocitoma_T1C+_191_mask.jpg  \n",
            "  inflating: /content/data/train/masks/Neurocitoma_T1C+_192_mask.jpg  \n",
            "  inflating: /content/data/train/masks/Neurocitoma_T1C+_193_mask.jpg  \n",
            "  inflating: /content/data/train/masks/Neurocitoma_T1C+_194_mask.jpg  \n",
            "  inflating: /content/data/train/masks/Neurocitoma_T1C+_195_mask.jpg  \n",
            "  inflating: /content/data/train/masks/Neurocitoma_T1C+_196_mask.jpg  \n",
            "  inflating: /content/data/train/masks/Neurocitoma_T1C+_197_mask.jpg  \n",
            "  inflating: /content/data/train/masks/Neurocitoma_T1C+_198_mask.jpg  \n",
            "  inflating: /content/data/train/masks/Neurocitoma_T1C+_199_mask.jpg  \n",
            "  inflating: /content/data/train/masks/Neurocitoma_T1C+_19_mask.jpg  \n",
            "  inflating: /content/data/train/masks/Neurocitoma_T1C+_1_mask.jpg  \n",
            "  inflating: /content/data/train/masks/Neurocitoma_T1C+_201_mask.jpg  \n",
            "  inflating: /content/data/train/masks/Neurocitoma_T1C+_203_mask.jpg  \n",
            "  inflating: /content/data/train/masks/Neurocitoma_T1C+_206_mask.jpg  \n",
            "  inflating: /content/data/train/masks/Neurocitoma_T1C+_207_mask.jpg  \n",
            "  inflating: /content/data/train/masks/Neurocitoma_T1C+_209_mask.jpg  \n",
            "  inflating: /content/data/train/masks/Neurocitoma_T1C+_20_mask.jpg  \n",
            "  inflating: /content/data/train/masks/Neurocitoma_T1C+_210_mask.jpg  \n",
            "  inflating: /content/data/train/masks/Neurocitoma_T1C+_211_mask.jpg  \n",
            "  inflating: /content/data/train/masks/Neurocitoma_T1C+_212_mask.jpg  \n",
            "  inflating: /content/data/train/masks/Neurocitoma_T1C+_213_mask.jpg  \n",
            "  inflating: /content/data/train/masks/Neurocitoma_T1C+_214_mask.jpg  \n",
            "  inflating: /content/data/train/masks/Neurocitoma_T1C+_215_mask.jpg  \n",
            "  inflating: /content/data/train/masks/Neurocitoma_T1C+_216_mask.jpg  \n",
            "  inflating: /content/data/train/masks/Neurocitoma_T1C+_217_mask.jpg  \n",
            "  inflating: /content/data/train/masks/Neurocitoma_T1C+_218_mask.jpg  \n",
            "  inflating: /content/data/train/masks/Neurocitoma_T1C+_219_mask.jpg  \n",
            "  inflating: /content/data/train/masks/Neurocitoma_T1C+_220_mask.jpg  \n",
            "  inflating: /content/data/train/masks/Neurocitoma_T1C+_221_mask.jpg  \n",
            "  inflating: /content/data/train/masks/Neurocitoma_T1C+_222_mask.jpg  \n",
            "  inflating: /content/data/train/masks/Neurocitoma_T1C+_223_mask.jpg  \n",
            "  inflating: /content/data/train/masks/Neurocitoma_T1C+_22_mask.jpg  \n",
            "  inflating: /content/data/train/masks/Neurocitoma_T1C+_23_mask.jpg  \n",
            "  inflating: /content/data/train/masks/Neurocitoma_T1C+_24_mask.jpg  \n",
            "  inflating: /content/data/train/masks/Neurocitoma_T1C+_25_mask.jpg  \n",
            "  inflating: /content/data/train/masks/Neurocitoma_T1C+_26_mask.jpg  \n",
            "  inflating: /content/data/train/masks/Neurocitoma_T1C+_27_mask.jpg  \n",
            "  inflating: /content/data/train/masks/Neurocitoma_T1C+_28_mask.jpg  \n",
            "  inflating: /content/data/train/masks/Neurocitoma_T1C+_31_mask.jpg  \n",
            "  inflating: /content/data/train/masks/Neurocitoma_T1C+_32_mask.jpg  \n",
            "  inflating: /content/data/train/masks/Neurocitoma_T1C+_33_mask.jpg  \n",
            "  inflating: /content/data/train/masks/Neurocitoma_T1C+_34_mask.jpg  \n",
            "  inflating: /content/data/train/masks/Neurocitoma_T1C+_36_mask.jpg  \n",
            "  inflating: /content/data/train/masks/Neurocitoma_T1C+_38_mask.jpg  \n",
            "  inflating: /content/data/train/masks/Neurocitoma_T1C+_39_mask.jpg  \n",
            "  inflating: /content/data/train/masks/Neurocitoma_T1C+_3_mask.jpg  \n",
            "  inflating: /content/data/train/masks/Neurocitoma_T1C+_40_mask.jpg  \n",
            "  inflating: /content/data/train/masks/Neurocitoma_T1C+_41_mask.jpg  \n",
            "  inflating: /content/data/train/masks/Neurocitoma_T1C+_42_mask.jpg  \n",
            "  inflating: /content/data/train/masks/Neurocitoma_T1C+_43_mask.jpg  \n",
            "  inflating: /content/data/train/masks/Neurocitoma_T1C+_44_mask.jpg  \n",
            "  inflating: /content/data/train/masks/Neurocitoma_T1C+_45_mask.jpg  \n",
            "  inflating: /content/data/train/masks/Neurocitoma_T1C+_46_mask.jpg  \n",
            "  inflating: /content/data/train/masks/Neurocitoma_T1C+_47_mask.jpg  \n",
            "  inflating: /content/data/train/masks/Neurocitoma_T1C+_48_mask.jpg  \n",
            "  inflating: /content/data/train/masks/Neurocitoma_T1C+_49_mask.jpg  \n",
            "  inflating: /content/data/train/masks/Neurocitoma_T1C+_51_mask.jpg  \n",
            "  inflating: /content/data/train/masks/Neurocitoma_T1C+_52_mask.jpg  \n",
            "  inflating: /content/data/train/masks/Neurocitoma_T1C+_53_mask.jpg  \n",
            "  inflating: /content/data/train/masks/Neurocitoma_T1C+_54_mask.jpg  \n",
            "  inflating: /content/data/train/masks/Neurocitoma_T1C+_56_mask.jpg  \n",
            "  inflating: /content/data/train/masks/Neurocitoma_T1C+_57_mask.jpg  \n",
            "  inflating: /content/data/train/masks/Neurocitoma_T1C+_58_mask.jpg  \n",
            "  inflating: /content/data/train/masks/Neurocitoma_T1C+_59_mask.jpg  \n",
            "  inflating: /content/data/train/masks/Neurocitoma_T1C+_5_mask.jpg  \n",
            "  inflating: /content/data/train/masks/Neurocitoma_T1C+_60_mask.jpg  \n",
            "  inflating: /content/data/train/masks/Neurocitoma_T1C+_62_mask.jpg  \n",
            "  inflating: /content/data/train/masks/Neurocitoma_T1C+_63_mask.jpg  \n",
            "  inflating: /content/data/train/masks/Neurocitoma_T1C+_64_mask.jpg  \n",
            "  inflating: /content/data/train/masks/Neurocitoma_T1C+_65_mask.jpg  \n",
            "  inflating: /content/data/train/masks/Neurocitoma_T1C+_67_mask.jpg  \n",
            "  inflating: /content/data/train/masks/Neurocitoma_T1C+_68_mask.jpg  \n",
            "  inflating: /content/data/train/masks/Neurocitoma_T1C+_69_mask.jpg  \n",
            "  inflating: /content/data/train/masks/Neurocitoma_T1C+_6_mask.jpg  \n",
            "  inflating: /content/data/train/masks/Neurocitoma_T1C+_70_mask.jpg  \n",
            "  inflating: /content/data/train/masks/Neurocitoma_T1C+_71_mask.jpg  \n",
            "  inflating: /content/data/train/masks/Neurocitoma_T1C+_72_mask.jpg  \n",
            "  inflating: /content/data/train/masks/Neurocitoma_T1C+_73_mask.jpg  \n",
            "  inflating: /content/data/train/masks/Neurocitoma_T1C+_74_mask.jpg  \n",
            "  inflating: /content/data/train/masks/Neurocitoma_T1C+_75_mask.jpg  \n",
            "  inflating: /content/data/train/masks/Neurocitoma_T1C+_76_mask.jpg  \n",
            "  inflating: /content/data/train/masks/Neurocitoma_T1C+_77_mask.jpg  \n",
            "  inflating: /content/data/train/masks/Neurocitoma_T1C+_78_mask.jpg  \n",
            "  inflating: /content/data/train/masks/Neurocitoma_T1C+_79_mask.jpg  \n",
            "  inflating: /content/data/train/masks/Neurocitoma_T1C+_7_mask.jpg  \n",
            "  inflating: /content/data/train/masks/Neurocitoma_T1C+_80_mask.jpg  \n",
            "  inflating: /content/data/train/masks/Neurocitoma_T1C+_81_mask.jpg  \n",
            "  inflating: /content/data/train/masks/Neurocitoma_T1C+_82_mask.jpg  \n",
            "  inflating: /content/data/train/masks/Neurocitoma_T1C+_83_mask.jpg  \n",
            "  inflating: /content/data/train/masks/Neurocitoma_T1C+_84_mask.jpg  \n",
            "  inflating: /content/data/train/masks/Neurocitoma_T1C+_85_mask.jpg  \n",
            "  inflating: /content/data/train/masks/Neurocitoma_T1C+_87_mask.jpg  \n",
            "  inflating: /content/data/train/masks/Neurocitoma_T1C+_88_mask.jpg  \n",
            "  inflating: /content/data/train/masks/Neurocitoma_T1C+_89_mask.jpg  \n",
            "  inflating: /content/data/train/masks/Neurocitoma_T1C+_91_mask.jpg  \n",
            "  inflating: /content/data/train/masks/Neurocitoma_T1C+_92_mask.jpg  \n",
            "  inflating: /content/data/train/masks/Neurocitoma_T1C+_93_mask.jpg  \n",
            "  inflating: /content/data/train/masks/Neurocitoma_T1C+_94_mask.jpg  \n",
            "  inflating: /content/data/train/masks/Neurocitoma_T1C+_95_mask.jpg  \n",
            "  inflating: /content/data/train/masks/Neurocitoma_T1C+_96_mask.jpg  \n",
            "  inflating: /content/data/train/masks/Neurocitoma_T1C+_97_mask.jpg  \n",
            "  inflating: /content/data/train/masks/Neurocitoma_T1C+_98_mask.jpg  \n",
            "  inflating: /content/data/train/masks/Neurocitoma_T1C+_99_mask.jpg  \n",
            "  inflating: /content/data/train/masks/Neurocitoma_T1_100_mask.jpg  \n",
            "  inflating: /content/data/train/masks/Neurocitoma_T1_101_mask.jpg  \n",
            "  inflating: /content/data/train/masks/Neurocitoma_T1_103_mask.jpg  \n",
            "  inflating: /content/data/train/masks/Neurocitoma_T1_104_mask.jpg  \n",
            "  inflating: /content/data/train/masks/Neurocitoma_T1_105_mask.jpg  \n",
            "  inflating: /content/data/train/masks/Neurocitoma_T1_106_mask.jpg  \n",
            "  inflating: /content/data/train/masks/Neurocitoma_T1_109_mask.jpg  \n",
            "  inflating: /content/data/train/masks/Neurocitoma_T1_10_mask.jpg  \n",
            "  inflating: /content/data/train/masks/Neurocitoma_T1_110_mask.jpg  \n",
            "  inflating: /content/data/train/masks/Neurocitoma_T1_111_mask.jpg  \n",
            "  inflating: /content/data/train/masks/Neurocitoma_T1_112_mask.jpg  \n",
            "  inflating: /content/data/train/masks/Neurocitoma_T1_113_mask.jpg  \n",
            "  inflating: /content/data/train/masks/Neurocitoma_T1_114_mask.jpg  \n",
            "  inflating: /content/data/train/masks/Neurocitoma_T1_118_mask.jpg  \n",
            "  inflating: /content/data/train/masks/Neurocitoma_T1_11_mask.jpg  \n",
            "  inflating: /content/data/train/masks/Neurocitoma_T1_120_mask.jpg  \n",
            "  inflating: /content/data/train/masks/Neurocitoma_T1_121_mask.jpg  \n",
            "  inflating: /content/data/train/masks/Neurocitoma_T1_122_mask.jpg  \n",
            "  inflating: /content/data/train/masks/Neurocitoma_T1_124_mask.jpg  \n",
            "  inflating: /content/data/train/masks/Neurocitoma_T1_126_mask.jpg  \n",
            "  inflating: /content/data/train/masks/Neurocitoma_T1_127_mask.jpg  \n",
            "  inflating: /content/data/train/masks/Neurocitoma_T1_128_mask.jpg  \n",
            "  inflating: /content/data/train/masks/Neurocitoma_T1_129_mask.jpg  \n",
            "  inflating: /content/data/train/masks/Neurocitoma_T1_12_mask.jpg  \n",
            "  inflating: /content/data/train/masks/Neurocitoma_T1_130_mask.jpg  \n",
            "  inflating: /content/data/train/masks/Neurocitoma_T1_13_mask.jpg  \n",
            "  inflating: /content/data/train/masks/Neurocitoma_T1_14_mask.jpg  \n",
            "  inflating: /content/data/train/masks/Neurocitoma_T1_15_mask.jpg  \n",
            "  inflating: /content/data/train/masks/Neurocitoma_T1_16_mask.jpg  \n",
            "  inflating: /content/data/train/masks/Neurocitoma_T1_17_mask.jpg  \n",
            "  inflating: /content/data/train/masks/Neurocitoma_T1_18_mask.jpg  \n",
            "  inflating: /content/data/train/masks/Neurocitoma_T1_19_mask.jpg  \n",
            "  inflating: /content/data/train/masks/Neurocitoma_T1_1_mask.jpg  \n",
            "  inflating: /content/data/train/masks/Neurocitoma_T1_20_mask.jpg  \n",
            "  inflating: /content/data/train/masks/Neurocitoma_T1_21_mask.jpg  \n",
            "  inflating: /content/data/train/masks/Neurocitoma_T1_22_mask.jpg  \n",
            "  inflating: /content/data/train/masks/Neurocitoma_T1_23_mask.jpg  \n",
            "  inflating: /content/data/train/masks/Neurocitoma_T1_24_mask.jpg  \n",
            "  inflating: /content/data/train/masks/Neurocitoma_T1_25_mask.jpg  \n",
            "  inflating: /content/data/train/masks/Neurocitoma_T1_26_mask.jpg  \n",
            "  inflating: /content/data/train/masks/Neurocitoma_T1_28_mask.jpg  \n",
            "  inflating: /content/data/train/masks/Neurocitoma_T1_29_mask.jpg  \n",
            "  inflating: /content/data/train/masks/Neurocitoma_T1_2_mask.jpg  \n",
            "  inflating: /content/data/train/masks/Neurocitoma_T1_30_mask.jpg  \n",
            "  inflating: /content/data/train/masks/Neurocitoma_T1_31_mask.jpg  \n",
            "  inflating: /content/data/train/masks/Neurocitoma_T1_32_mask.jpg  \n",
            "  inflating: /content/data/train/masks/Neurocitoma_T1_33_mask.jpg  \n",
            "  inflating: /content/data/train/masks/Neurocitoma_T1_34_mask.jpg  \n",
            "  inflating: /content/data/train/masks/Neurocitoma_T1_36_mask.jpg  \n",
            "  inflating: /content/data/train/masks/Neurocitoma_T1_37_mask.jpg  \n",
            "  inflating: /content/data/train/masks/Neurocitoma_T1_38_mask.jpg  \n",
            "  inflating: /content/data/train/masks/Neurocitoma_T1_39_mask.jpg  \n",
            "  inflating: /content/data/train/masks/Neurocitoma_T1_3_mask.jpg  \n",
            "  inflating: /content/data/train/masks/Neurocitoma_T1_40_mask.jpg  \n",
            "  inflating: /content/data/train/masks/Neurocitoma_T1_41_mask.jpg  \n",
            "  inflating: /content/data/train/masks/Neurocitoma_T1_42_mask.jpg  \n",
            "  inflating: /content/data/train/masks/Neurocitoma_T1_43_mask.jpg  \n",
            "  inflating: /content/data/train/masks/Neurocitoma_T1_44_mask.jpg  \n",
            "  inflating: /content/data/train/masks/Neurocitoma_T1_45_mask.jpg  \n",
            "  inflating: /content/data/train/masks/Neurocitoma_T1_4_mask.jpg  \n",
            "  inflating: /content/data/train/masks/Neurocitoma_T1_51_mask.jpg  \n",
            "  inflating: /content/data/train/masks/Neurocitoma_T1_52_mask.jpg  \n",
            "  inflating: /content/data/train/masks/Neurocitoma_T1_53_mask.jpg  \n",
            "  inflating: /content/data/train/masks/Neurocitoma_T1_54_mask.jpg  \n",
            "  inflating: /content/data/train/masks/Neurocitoma_T1_55_mask.jpg  \n",
            "  inflating: /content/data/train/masks/Neurocitoma_T1_56_mask.jpg  \n",
            "  inflating: /content/data/train/masks/Neurocitoma_T1_59_mask.jpg  \n",
            "  inflating: /content/data/train/masks/Neurocitoma_T1_5_mask.jpg  \n",
            "  inflating: /content/data/train/masks/Neurocitoma_T1_61_mask.jpg  \n",
            "  inflating: /content/data/train/masks/Neurocitoma_T1_62_mask.jpg  \n",
            "  inflating: /content/data/train/masks/Neurocitoma_T1_63_mask.jpg  \n",
            "  inflating: /content/data/train/masks/Neurocitoma_T1_64_mask.jpg  \n",
            "  inflating: /content/data/train/masks/Neurocitoma_T1_65_mask.jpg  \n",
            "  inflating: /content/data/train/masks/Neurocitoma_T1_67_mask.jpg  \n",
            "  inflating: /content/data/train/masks/Neurocitoma_T1_68_mask.jpg  \n",
            "  inflating: /content/data/train/masks/Neurocitoma_T1_69_mask.jpg  \n",
            "  inflating: /content/data/train/masks/Neurocitoma_T1_6_mask.jpg  \n",
            "  inflating: /content/data/train/masks/Neurocitoma_T1_71_mask.jpg  \n",
            "  inflating: /content/data/train/masks/Neurocitoma_T1_72_mask.jpg  \n",
            "  inflating: /content/data/train/masks/Neurocitoma_T1_73_mask.jpg  \n",
            "  inflating: /content/data/train/masks/Neurocitoma_T1_74_mask.jpg  \n",
            "  inflating: /content/data/train/masks/Neurocitoma_T1_76_mask.jpg  \n",
            "  inflating: /content/data/train/masks/Neurocitoma_T1_77_mask.jpg  \n",
            "  inflating: /content/data/train/masks/Neurocitoma_T1_78_mask.jpg  \n",
            "  inflating: /content/data/train/masks/Neurocitoma_T1_79_mask.jpg  \n",
            "  inflating: /content/data/train/masks/Neurocitoma_T1_80_mask.jpg  \n",
            "  inflating: /content/data/train/masks/Neurocitoma_T1_81_mask.jpg  \n",
            "  inflating: /content/data/train/masks/Neurocitoma_T1_82_mask.jpg  \n",
            "  inflating: /content/data/train/masks/Neurocitoma_T1_83_mask.jpg  \n",
            "  inflating: /content/data/train/masks/Neurocitoma_T1_84_mask.jpg  \n",
            "  inflating: /content/data/train/masks/Neurocitoma_T1_85_mask.jpg  \n",
            "  inflating: /content/data/train/masks/Neurocitoma_T1_86_mask.jpg  \n",
            "  inflating: /content/data/train/masks/Neurocitoma_T1_87_mask.jpg  \n",
            "  inflating: /content/data/train/masks/Neurocitoma_T1_90_mask.jpg  \n",
            "  inflating: /content/data/train/masks/Neurocitoma_T1_91_mask.jpg  \n",
            "  inflating: /content/data/train/masks/Neurocitoma_T1_92_mask.jpg  \n",
            "  inflating: /content/data/train/masks/Neurocitoma_T1_94_mask.jpg  \n",
            "  inflating: /content/data/train/masks/Neurocitoma_T1_95_mask.jpg  \n",
            "  inflating: /content/data/train/masks/Neurocitoma_T1_98_mask.jpg  \n",
            "  inflating: /content/data/train/masks/Neurocitoma_T1_99_mask.jpg  \n",
            "  inflating: /content/data/train/masks/Neurocitoma_T2_100_mask.jpg  \n",
            "  inflating: /content/data/train/masks/Neurocitoma_T2_101_mask.jpg  \n",
            "  inflating: /content/data/train/masks/Neurocitoma_T2_102_mask.jpg  \n",
            "  inflating: /content/data/train/masks/Neurocitoma_T2_104_mask.jpg  \n",
            "  inflating: /content/data/train/masks/Neurocitoma_T2_10_mask.jpg  \n",
            "  inflating: /content/data/train/masks/Neurocitoma_T2_11_mask.jpg  \n",
            "  inflating: /content/data/train/masks/Neurocitoma_T2_12_mask.jpg  \n",
            "  inflating: /content/data/train/masks/Neurocitoma_T2_15_mask.jpg  \n",
            "  inflating: /content/data/train/masks/Neurocitoma_T2_16_mask.jpg  \n",
            "  inflating: /content/data/train/masks/Neurocitoma_T2_17_mask.jpg  \n",
            "  inflating: /content/data/train/masks/Neurocitoma_T2_18_mask.jpg  \n",
            "  inflating: /content/data/train/masks/Neurocitoma_T2_19_mask.jpg  \n",
            "  inflating: /content/data/train/masks/Neurocitoma_T2_1_mask.jpg  \n",
            "  inflating: /content/data/train/masks/Neurocitoma_T2_20_mask.jpg  \n",
            "  inflating: /content/data/train/masks/Neurocitoma_T2_22_mask.jpg  \n",
            "  inflating: /content/data/train/masks/Neurocitoma_T2_23_mask.jpg  \n",
            "  inflating: /content/data/train/masks/Neurocitoma_T2_24_mask.jpg  \n",
            "  inflating: /content/data/train/masks/Neurocitoma_T2_25_mask.jpg  \n",
            "  inflating: /content/data/train/masks/Neurocitoma_T2_26_mask.jpg  \n",
            "  inflating: /content/data/train/masks/Neurocitoma_T2_27_mask.jpg  \n",
            "  inflating: /content/data/train/masks/Neurocitoma_T2_28_mask.jpg  \n",
            "  inflating: /content/data/train/masks/Neurocitoma_T2_2_mask.jpg  \n",
            "  inflating: /content/data/train/masks/Neurocitoma_T2_30_mask.jpg  \n",
            "  inflating: /content/data/train/masks/Neurocitoma_T2_31_mask.jpg  \n",
            "  inflating: /content/data/train/masks/Neurocitoma_T2_32_mask.jpg  \n",
            "  inflating: /content/data/train/masks/Neurocitoma_T2_33_mask.jpg  \n",
            "  inflating: /content/data/train/masks/Neurocitoma_T2_35_mask.jpg  \n",
            "  inflating: /content/data/train/masks/Neurocitoma_T2_37_mask.jpg  \n",
            "  inflating: /content/data/train/masks/Neurocitoma_T2_38_mask.jpg  \n",
            "  inflating: /content/data/train/masks/Neurocitoma_T2_3_mask.jpg  \n",
            "  inflating: /content/data/train/masks/Neurocitoma_T2_40_mask.jpg  \n",
            "  inflating: /content/data/train/masks/Neurocitoma_T2_42_mask.jpg  \n",
            "  inflating: /content/data/train/masks/Neurocitoma_T2_43_mask.jpg  \n",
            "  inflating: /content/data/train/masks/Neurocitoma_T2_44_mask.jpg  \n",
            "  inflating: /content/data/train/masks/Neurocitoma_T2_45_mask.jpg  \n",
            "  inflating: /content/data/train/masks/Neurocitoma_T2_46_mask.jpg  \n",
            "  inflating: /content/data/train/masks/Neurocitoma_T2_47_mask.jpg  \n",
            "  inflating: /content/data/train/masks/Neurocitoma_T2_48_mask.jpg  \n",
            "  inflating: /content/data/train/masks/Neurocitoma_T2_4_mask.jpg  \n",
            "  inflating: /content/data/train/masks/Neurocitoma_T2_52_mask.jpg  \n",
            "  inflating: /content/data/train/masks/Neurocitoma_T2_53_mask.jpg  \n",
            "  inflating: /content/data/train/masks/Neurocitoma_T2_54_mask.jpg  \n",
            "  inflating: /content/data/train/masks/Neurocitoma_T2_55_mask.jpg  \n",
            "  inflating: /content/data/train/masks/Neurocitoma_T2_56_mask.jpg  \n",
            "  inflating: /content/data/train/masks/Neurocitoma_T2_57_mask.jpg  \n",
            "  inflating: /content/data/train/masks/Neurocitoma_T2_59_mask.jpg  \n",
            "  inflating: /content/data/train/masks/Neurocitoma_T2_5_mask.jpg  \n",
            "  inflating: /content/data/train/masks/Neurocitoma_T2_62_mask.jpg  \n",
            "  inflating: /content/data/train/masks/Neurocitoma_T2_63_mask.jpg  \n",
            "  inflating: /content/data/train/masks/Neurocitoma_T2_64_mask.jpg  \n",
            "  inflating: /content/data/train/masks/Neurocitoma_T2_65_mask.jpg  \n",
            "  inflating: /content/data/train/masks/Neurocitoma_T2_66_mask.jpg  \n",
            "  inflating: /content/data/train/masks/Neurocitoma_T2_68_mask.jpg  \n",
            "  inflating: /content/data/train/masks/Neurocitoma_T2_69_mask.jpg  \n",
            "  inflating: /content/data/train/masks/Neurocitoma_T2_6_mask.jpg  \n",
            "  inflating: /content/data/train/masks/Neurocitoma_T2_70_mask.jpg  \n",
            "  inflating: /content/data/train/masks/Neurocitoma_T2_71_mask.jpg  \n",
            "  inflating: /content/data/train/masks/Neurocitoma_T2_72_mask.jpg  \n",
            "  inflating: /content/data/train/masks/Neurocitoma_T2_73_mask.jpg  \n",
            "  inflating: /content/data/train/masks/Neurocitoma_T2_75_mask.jpg  \n",
            "  inflating: /content/data/train/masks/Neurocitoma_T2_76_mask.jpg  \n",
            "  inflating: /content/data/train/masks/Neurocitoma_T2_78_mask.jpg  \n",
            "  inflating: /content/data/train/masks/Neurocitoma_T2_7_mask.jpg  \n",
            "  inflating: /content/data/train/masks/Neurocitoma_T2_80_mask.jpg  \n",
            "  inflating: /content/data/train/masks/Neurocitoma_T2_81_mask.jpg  \n",
            "  inflating: /content/data/train/masks/Neurocitoma_T2_82_mask.jpg  \n",
            "  inflating: /content/data/train/masks/Neurocitoma_T2_83_mask.jpg  \n",
            "  inflating: /content/data/train/masks/Neurocitoma_T2_84_mask.jpg  \n",
            "  inflating: /content/data/train/masks/Neurocitoma_T2_85_mask.jpg  \n",
            "  inflating: /content/data/train/masks/Neurocitoma_T2_86_mask.jpg  \n",
            "  inflating: /content/data/train/masks/Neurocitoma_T2_87_mask.jpg  \n",
            "  inflating: /content/data/train/masks/Neurocitoma_T2_88_mask.jpg  \n",
            "  inflating: /content/data/train/masks/Neurocitoma_T2_8_mask.jpg  \n",
            "  inflating: /content/data/train/masks/Neurocitoma_T2_90_mask.jpg  \n",
            "  inflating: /content/data/train/masks/Neurocitoma_T2_92_mask.jpg  \n",
            "  inflating: /content/data/train/masks/Neurocitoma_T2_93_mask.jpg  \n",
            "  inflating: /content/data/train/masks/Neurocitoma_T2_94_mask.jpg  \n",
            "  inflating: /content/data/train/masks/Neurocitoma_T2_95_mask.jpg  \n",
            "  inflating: /content/data/train/masks/Neurocitoma_T2_96_mask.jpg  \n",
            "  inflating: /content/data/train/masks/Neurocitoma_T2_97_mask.jpg  \n",
            "  inflating: /content/data/train/masks/Neurocitoma_T2_98_mask.jpg  \n",
            "  inflating: /content/data/train/masks/Neurocitoma_T2_9_mask.jpg  \n",
            "  inflating: /content/data/train/masks/Oligodendroglioma_T1C+_11_mask.jpg  \n",
            "  inflating: /content/data/train/masks/Oligodendroglioma_T1C+_12_mask.jpg  \n",
            "  inflating: /content/data/train/masks/Oligodendroglioma_T1C+_14_mask.jpg  \n",
            "  inflating: /content/data/train/masks/Oligodendroglioma_T1C+_15_mask.jpg  \n",
            "  inflating: /content/data/train/masks/Oligodendroglioma_T1C+_16_mask.jpg  \n",
            "  inflating: /content/data/train/masks/Oligodendroglioma_T1C+_17_mask.jpg  \n",
            "  inflating: /content/data/train/masks/Oligodendroglioma_T1C+_18_mask.jpg  \n",
            "  inflating: /content/data/train/masks/Oligodendroglioma_T1C+_19_mask.jpg  \n",
            "  inflating: /content/data/train/masks/Oligodendroglioma_T1C+_1_mask.jpg  \n",
            "  inflating: /content/data/train/masks/Oligodendroglioma_T1C+_20_mask.jpg  \n",
            "  inflating: /content/data/train/masks/Oligodendroglioma_T1C+_21_mask.jpg  \n",
            "  inflating: /content/data/train/masks/Oligodendroglioma_T1C+_22_mask.jpg  \n",
            "  inflating: /content/data/train/masks/Oligodendroglioma_T1C+_23_mask.jpg  \n",
            "  inflating: /content/data/train/masks/Oligodendroglioma_T1C+_24_mask.jpg  \n",
            "  inflating: /content/data/train/masks/Oligodendroglioma_T1C+_25_mask.jpg  \n",
            "  inflating: /content/data/train/masks/Oligodendroglioma_T1C+_26_mask.jpg  \n",
            "  inflating: /content/data/train/masks/Oligodendroglioma_T1C+_27_mask.jpg  \n",
            "  inflating: /content/data/train/masks/Oligodendroglioma_T1C+_28_mask.jpg  \n",
            "  inflating: /content/data/train/masks/Oligodendroglioma_T1C+_29_mask.jpg  \n",
            "  inflating: /content/data/train/masks/Oligodendroglioma_T1C+_2_mask.jpg  \n",
            "  inflating: /content/data/train/masks/Oligodendroglioma_T1C+_30_mask.jpg  \n",
            "  inflating: /content/data/train/masks/Oligodendroglioma_T1C+_31_mask.jpg  \n",
            "  inflating: /content/data/train/masks/Oligodendroglioma_T1C+_32_mask.jpg  \n",
            "  inflating: /content/data/train/masks/Oligodendroglioma_T1C+_33_mask.jpg  \n",
            "  inflating: /content/data/train/masks/Oligodendroglioma_T1C+_34_mask.jpg  \n",
            "  inflating: /content/data/train/masks/Oligodendroglioma_T1C+_35_mask.jpg  \n",
            "  inflating: /content/data/train/masks/Oligodendroglioma_T1C+_36_mask.jpg  \n",
            "  inflating: /content/data/train/masks/Oligodendroglioma_T1C+_37_mask.jpg  \n",
            "  inflating: /content/data/train/masks/Oligodendroglioma_T1C+_39_mask.jpg  \n",
            "  inflating: /content/data/train/masks/Oligodendroglioma_T1C+_3_mask.jpg  \n",
            "  inflating: /content/data/train/masks/Oligodendroglioma_T1C+_41_mask.jpg  \n",
            "  inflating: /content/data/train/masks/Oligodendroglioma_T1C+_43_mask.jpg  \n",
            "  inflating: /content/data/train/masks/Oligodendroglioma_T1C+_44_mask.jpg  \n",
            "  inflating: /content/data/train/masks/Oligodendroglioma_T1C+_46_mask.jpg  \n",
            "  inflating: /content/data/train/masks/Oligodendroglioma_T1C+_47_mask.jpg  \n",
            "  inflating: /content/data/train/masks/Oligodendroglioma_T1C+_48_mask.jpg  \n",
            "  inflating: /content/data/train/masks/Oligodendroglioma_T1C+_49_mask.jpg  \n",
            "  inflating: /content/data/train/masks/Oligodendroglioma_T1C+_50_mask.jpg  \n",
            "  inflating: /content/data/train/masks/Oligodendroglioma_T1C+_54_mask.jpg  \n",
            "  inflating: /content/data/train/masks/Oligodendroglioma_T1C+_56_mask.jpg  \n",
            "  inflating: /content/data/train/masks/Oligodendroglioma_T1C+_57_mask.jpg  \n",
            "  inflating: /content/data/train/masks/Oligodendroglioma_T1C+_59_mask.jpg  \n",
            "  inflating: /content/data/train/masks/Oligodendroglioma_T1C+_5_mask.jpg  \n",
            "  inflating: /content/data/train/masks/Oligodendroglioma_T1C+_60_mask.jpg  \n",
            "  inflating: /content/data/train/masks/Oligodendroglioma_T1C+_61_mask.jpg  \n",
            "  inflating: /content/data/train/masks/Oligodendroglioma_T1C+_62_mask.jpg  \n",
            "  inflating: /content/data/train/masks/Oligodendroglioma_T1C+_63_mask.jpg  \n",
            "  inflating: /content/data/train/masks/Oligodendroglioma_T1C+_64_mask.jpg  \n",
            "  inflating: /content/data/train/masks/Oligodendroglioma_T1C+_65_mask.jpg  \n",
            "  inflating: /content/data/train/masks/Oligodendroglioma_T1C+_66_mask.jpg  \n",
            "  inflating: /content/data/train/masks/Oligodendroglioma_T1C+_68_mask.jpg  \n",
            "  inflating: /content/data/train/masks/Oligodendroglioma_T1C+_69_mask.jpg  \n",
            "  inflating: /content/data/train/masks/Oligodendroglioma_T1C+_6_mask.jpg  \n",
            "  inflating: /content/data/train/masks/Oligodendroglioma_T1C+_70_mask.jpg  \n",
            "  inflating: /content/data/train/masks/Oligodendroglioma_T1C+_71_mask.jpg  \n",
            "  inflating: /content/data/train/masks/Oligodendroglioma_T1C+_72_mask.jpg  \n",
            "  inflating: /content/data/train/masks/Oligodendroglioma_T1C+_7_mask.jpg  \n",
            "  inflating: /content/data/train/masks/Oligodendroglioma_T1C+_8_mask.jpg  \n",
            "  inflating: /content/data/train/masks/Oligodendroglioma_T1C+_9_mask.jpg  \n",
            "  inflating: /content/data/train/masks/Oligodendroglioma_T1_10_mask.jpg  \n",
            "  inflating: /content/data/train/masks/Oligodendroglioma_T1_11_mask.jpg  \n",
            "  inflating: /content/data/train/masks/Oligodendroglioma_T1_12_mask.jpg  \n",
            "  inflating: /content/data/train/masks/Oligodendroglioma_T1_13_mask.jpg  \n",
            "  inflating: /content/data/train/masks/Oligodendroglioma_T1_14_mask.jpg  \n",
            "  inflating: /content/data/train/masks/Oligodendroglioma_T1_15_mask.jpg  \n",
            "  inflating: /content/data/train/masks/Oligodendroglioma_T1_16_mask.jpg  \n",
            "  inflating: /content/data/train/masks/Oligodendroglioma_T1_18_mask.jpg  \n",
            "  inflating: /content/data/train/masks/Oligodendroglioma_T1_19_mask.jpg  \n",
            "  inflating: /content/data/train/masks/Oligodendroglioma_T1_1_mask.jpg  \n",
            "  inflating: /content/data/train/masks/Oligodendroglioma_T1_20_mask.jpg  \n",
            "  inflating: /content/data/train/masks/Oligodendroglioma_T1_21_mask.jpg  \n",
            "  inflating: /content/data/train/masks/Oligodendroglioma_T1_23_mask.jpg  \n",
            "  inflating: /content/data/train/masks/Oligodendroglioma_T1_24_mask.jpg  \n",
            "  inflating: /content/data/train/masks/Oligodendroglioma_T1_25_mask.jpg  \n",
            "  inflating: /content/data/train/masks/Oligodendroglioma_T1_27_mask.jpg  \n",
            "  inflating: /content/data/train/masks/Oligodendroglioma_T1_28_mask.jpg  \n",
            "  inflating: /content/data/train/masks/Oligodendroglioma_T1_29_mask.jpg  \n",
            "  inflating: /content/data/train/masks/Oligodendroglioma_T1_2_mask.jpg  \n",
            "  inflating: /content/data/train/masks/Oligodendroglioma_T1_30_mask.jpg  \n",
            "  inflating: /content/data/train/masks/Oligodendroglioma_T1_31_mask.jpg  \n",
            "  inflating: /content/data/train/masks/Oligodendroglioma_T1_32_mask.jpg  \n",
            "  inflating: /content/data/train/masks/Oligodendroglioma_T1_33_mask.jpg  \n",
            "  inflating: /content/data/train/masks/Oligodendroglioma_T1_34_mask.jpg  \n",
            "  inflating: /content/data/train/masks/Oligodendroglioma_T1_35_mask.jpg  \n",
            "  inflating: /content/data/train/masks/Oligodendroglioma_T1_37_mask.jpg  \n",
            "  inflating: /content/data/train/masks/Oligodendroglioma_T1_38_mask.jpg  \n",
            "  inflating: /content/data/train/masks/Oligodendroglioma_T1_39_mask.jpg  \n",
            "  inflating: /content/data/train/masks/Oligodendroglioma_T1_3_mask.jpg  \n",
            "  inflating: /content/data/train/masks/Oligodendroglioma_T1_40_mask.jpg  \n",
            "  inflating: /content/data/train/masks/Oligodendroglioma_T1_41_mask.jpg  \n",
            "  inflating: /content/data/train/masks/Oligodendroglioma_T1_42_mask.jpg  \n",
            "  inflating: /content/data/train/masks/Oligodendroglioma_T1_43_mask.jpg  \n",
            "  inflating: /content/data/train/masks/Oligodendroglioma_T1_44_mask.jpg  \n",
            "  inflating: /content/data/train/masks/Oligodendroglioma_T1_45_mask.jpg  \n",
            "  inflating: /content/data/train/masks/Oligodendroglioma_T1_46_mask.jpg  \n",
            "  inflating: /content/data/train/masks/Oligodendroglioma_T1_47_mask.jpg  \n",
            "  inflating: /content/data/train/masks/Oligodendroglioma_T1_49_mask.jpg  \n",
            "  inflating: /content/data/train/masks/Oligodendroglioma_T1_4_mask.jpg  \n",
            "  inflating: /content/data/train/masks/Oligodendroglioma_T1_50_mask.jpg  \n",
            "  inflating: /content/data/train/masks/Oligodendroglioma_T1_51_mask.jpg  \n",
            "  inflating: /content/data/train/masks/Oligodendroglioma_T1_53_mask.jpg  \n",
            "  inflating: /content/data/train/masks/Oligodendroglioma_T1_54_mask.jpg  \n",
            "  inflating: /content/data/train/masks/Oligodendroglioma_T1_57_mask.jpg  \n",
            "  inflating: /content/data/train/masks/Oligodendroglioma_T1_58_mask.jpg  \n",
            "  inflating: /content/data/train/masks/Oligodendroglioma_T1_59_mask.jpg  \n",
            "  inflating: /content/data/train/masks/Oligodendroglioma_T1_5_mask.jpg  \n",
            "  inflating: /content/data/train/masks/Oligodendroglioma_T1_62_mask.jpg  \n",
            "  inflating: /content/data/train/masks/Oligodendroglioma_T1_64_mask.jpg  \n",
            "  inflating: /content/data/train/masks/Oligodendroglioma_T1_66_mask.jpg  \n",
            "  inflating: /content/data/train/masks/Oligodendroglioma_T1_67_mask.jpg  \n",
            "  inflating: /content/data/train/masks/Oligodendroglioma_T1_68_mask.jpg  \n",
            "  inflating: /content/data/train/masks/Oligodendroglioma_T1_6_mask.jpg  \n",
            "  inflating: /content/data/train/masks/Oligodendroglioma_T1_70_mask.jpg  \n",
            "  inflating: /content/data/train/masks/Oligodendroglioma_T1_71_mask.jpg  \n",
            "  inflating: /content/data/train/masks/Oligodendroglioma_T1_72_mask.jpg  \n",
            "  inflating: /content/data/train/masks/Oligodendroglioma_T1_73_mask.jpg  \n",
            "  inflating: /content/data/train/masks/Oligodendroglioma_T1_74_mask.jpg  \n",
            "  inflating: /content/data/train/masks/Oligodendroglioma_T1_75_mask.jpg  \n",
            "  inflating: /content/data/train/masks/Oligodendroglioma_T1_76_mask.jpg  \n",
            "  inflating: /content/data/train/masks/Oligodendroglioma_T1_77_mask.jpg  \n",
            "  inflating: /content/data/train/masks/Oligodendroglioma_T1_78_mask.jpg  \n",
            "  inflating: /content/data/train/masks/Oligodendroglioma_T1_79_mask.jpg  \n",
            "  inflating: /content/data/train/masks/Oligodendroglioma_T1_7_mask.jpg  \n",
            "  inflating: /content/data/train/masks/Oligodendroglioma_T1_80_mask.jpg  \n",
            "  inflating: /content/data/train/masks/Oligodendroglioma_T1_83_mask.jpg  \n",
            "  inflating: /content/data/train/masks/Oligodendroglioma_T1_85_mask.jpg  \n",
            "  inflating: /content/data/train/masks/Oligodendroglioma_T1_86_mask.jpg  \n",
            "  inflating: /content/data/train/masks/Oligodendroglioma_T1_8_mask.jpg  \n",
            "  inflating: /content/data/train/masks/Oligodendroglioma_T1_9_mask.jpg  \n",
            "  inflating: /content/data/train/masks/Oligodendroglioma_T2_10_mask.jpg  \n",
            "  inflating: /content/data/train/masks/Oligodendroglioma_T2_11_mask.jpg  \n",
            "  inflating: /content/data/train/masks/Oligodendroglioma_T2_12_mask.jpg  \n",
            "  inflating: /content/data/train/masks/Oligodendroglioma_T2_13_mask.jpg  \n",
            "  inflating: /content/data/train/masks/Oligodendroglioma_T2_14_mask.jpg  \n",
            "  inflating: /content/data/train/masks/Oligodendroglioma_T2_16_mask.jpg  \n",
            "  inflating: /content/data/train/masks/Oligodendroglioma_T2_17_mask.jpg  \n",
            "  inflating: /content/data/train/masks/Oligodendroglioma_T2_18_mask.jpg  \n",
            "  inflating: /content/data/train/masks/Oligodendroglioma_T2_19_mask.jpg  \n",
            "  inflating: /content/data/train/masks/Oligodendroglioma_T2_1_mask.jpg  \n",
            "  inflating: /content/data/train/masks/Oligodendroglioma_T2_22_mask.jpg  \n",
            "  inflating: /content/data/train/masks/Oligodendroglioma_T2_23_mask.jpg  \n",
            "  inflating: /content/data/train/masks/Oligodendroglioma_T2_24_mask.jpg  \n",
            "  inflating: /content/data/train/masks/Oligodendroglioma_T2_26_mask.jpg  \n",
            "  inflating: /content/data/train/masks/Oligodendroglioma_T2_27_mask.jpg  \n",
            "  inflating: /content/data/train/masks/Oligodendroglioma_T2_28_mask.jpg  \n",
            "  inflating: /content/data/train/masks/Oligodendroglioma_T2_29_mask.jpg  \n",
            "  inflating: /content/data/train/masks/Oligodendroglioma_T2_2_mask.jpg  \n",
            "  inflating: /content/data/train/masks/Oligodendroglioma_T2_30_mask.jpg  \n",
            "  inflating: /content/data/train/masks/Oligodendroglioma_T2_31_mask.jpg  \n",
            "  inflating: /content/data/train/masks/Oligodendroglioma_T2_32_mask.jpg  \n",
            "  inflating: /content/data/train/masks/Oligodendroglioma_T2_33_mask.jpg  \n",
            "  inflating: /content/data/train/masks/Oligodendroglioma_T2_34_mask.jpg  \n",
            "  inflating: /content/data/train/masks/Oligodendroglioma_T2_35_mask.jpg  \n",
            "  inflating: /content/data/train/masks/Oligodendroglioma_T2_37_mask.jpg  \n",
            "  inflating: /content/data/train/masks/Oligodendroglioma_T2_38_mask.jpg  \n",
            "  inflating: /content/data/train/masks/Oligodendroglioma_T2_39_mask.jpg  \n",
            "  inflating: /content/data/train/masks/Oligodendroglioma_T2_3_mask.jpg  \n",
            "  inflating: /content/data/train/masks/Oligodendroglioma_T2_40_mask.jpg  \n",
            "  inflating: /content/data/train/masks/Oligodendroglioma_T2_41_mask.jpg  \n",
            "  inflating: /content/data/train/masks/Oligodendroglioma_T2_42_mask.jpg  \n",
            "  inflating: /content/data/train/masks/Oligodendroglioma_T2_46_mask.jpg  \n",
            "  inflating: /content/data/train/masks/Oligodendroglioma_T2_47_mask.jpg  \n",
            "  inflating: /content/data/train/masks/Oligodendroglioma_T2_49_mask.jpg  \n",
            "  inflating: /content/data/train/masks/Oligodendroglioma_T2_4_mask.jpg  \n",
            "  inflating: /content/data/train/masks/Oligodendroglioma_T2_51_mask.jpg  \n",
            "  inflating: /content/data/train/masks/Oligodendroglioma_T2_52_mask.jpg  \n",
            "  inflating: /content/data/train/masks/Oligodendroglioma_T2_53_mask.jpg  \n",
            "  inflating: /content/data/train/masks/Oligodendroglioma_T2_56_mask.jpg  \n",
            "  inflating: /content/data/train/masks/Oligodendroglioma_T2_58_mask.jpg  \n",
            "  inflating: /content/data/train/masks/Oligodendroglioma_T2_59_mask.jpg  \n",
            "  inflating: /content/data/train/masks/Oligodendroglioma_T2_5_mask.jpg  \n",
            "  inflating: /content/data/train/masks/Oligodendroglioma_T2_61_mask.jpg  \n",
            "  inflating: /content/data/train/masks/Oligodendroglioma_T2_62_mask.jpg  \n",
            "  inflating: /content/data/train/masks/Oligodendroglioma_T2_63_mask.jpg  \n",
            "  inflating: /content/data/train/masks/Oligodendroglioma_T2_65_mask.jpg  \n",
            "  inflating: /content/data/train/masks/Oligodendroglioma_T2_6_mask.jpg  \n",
            "  inflating: /content/data/train/masks/Oligodendroglioma_T2_7_mask.jpg  \n",
            "  inflating: /content/data/train/masks/Oligodendroglioma_T2_8_mask.jpg  \n",
            "  inflating: /content/data/train/masks/Oligodendroglioma_T2_9_mask.jpg  \n",
            "  inflating: /content/data/train/masks/Papiloma_T1C+_100_mask.jpg  \n",
            "  inflating: /content/data/train/masks/Papiloma_T1C+_102_mask.jpg  \n",
            "  inflating: /content/data/train/masks/Papiloma_T1C+_104_mask.jpg  \n",
            "  inflating: /content/data/train/masks/Papiloma_T1C+_105_mask.jpg  \n",
            "  inflating: /content/data/train/masks/Papiloma_T1C+_106_mask.jpg  \n",
            "  inflating: /content/data/train/masks/Papiloma_T1C+_107_mask.jpg  \n",
            "  inflating: /content/data/train/masks/Papiloma_T1C+_108_mask.jpg  \n",
            "  inflating: /content/data/train/masks/Papiloma_T1C+_10_mask.jpg  \n",
            "  inflating: /content/data/train/masks/Papiloma_T1C+_11_mask.jpg  \n",
            "  inflating: /content/data/train/masks/Papiloma_T1C+_14_mask.jpg  \n",
            "  inflating: /content/data/train/masks/Papiloma_T1C+_15_mask.jpg  \n",
            "  inflating: /content/data/train/masks/Papiloma_T1C+_16_mask.jpg  \n",
            "  inflating: /content/data/train/masks/Papiloma_T1C+_17_mask.jpg  \n",
            "  inflating: /content/data/train/masks/Papiloma_T1C+_19_mask.jpg  \n",
            "  inflating: /content/data/train/masks/Papiloma_T1C+_20_mask.jpg  \n",
            "  inflating: /content/data/train/masks/Papiloma_T1C+_22_mask.jpg  \n",
            "  inflating: /content/data/train/masks/Papiloma_T1C+_23_mask.jpg  \n",
            "  inflating: /content/data/train/masks/Papiloma_T1C+_24_mask.jpg  \n",
            "  inflating: /content/data/train/masks/Papiloma_T1C+_25_mask.jpg  \n",
            "  inflating: /content/data/train/masks/Papiloma_T1C+_26_mask.jpg  \n",
            "  inflating: /content/data/train/masks/Papiloma_T1C+_27_mask.jpg  \n",
            "  inflating: /content/data/train/masks/Papiloma_T1C+_28_mask.jpg  \n",
            "  inflating: /content/data/train/masks/Papiloma_T1C+_29_mask.jpg  \n",
            "  inflating: /content/data/train/masks/Papiloma_T1C+_2_mask.jpg  \n",
            "  inflating: /content/data/train/masks/Papiloma_T1C+_30_mask.jpg  \n",
            "  inflating: /content/data/train/masks/Papiloma_T1C+_31_mask.jpg  \n",
            "  inflating: /content/data/train/masks/Papiloma_T1C+_32_mask.jpg  \n",
            "  inflating: /content/data/train/masks/Papiloma_T1C+_33_mask.jpg  \n",
            "  inflating: /content/data/train/masks/Papiloma_T1C+_34_mask.jpg  \n",
            "  inflating: /content/data/train/masks/Papiloma_T1C+_35_mask.jpg  \n",
            "  inflating: /content/data/train/masks/Papiloma_T1C+_36_mask.jpg  \n",
            "  inflating: /content/data/train/masks/Papiloma_T1C+_38_mask.jpg  \n",
            "  inflating: /content/data/train/masks/Papiloma_T1C+_39_mask.jpg  \n",
            "  inflating: /content/data/train/masks/Papiloma_T1C+_41_mask.jpg  \n",
            "  inflating: /content/data/train/masks/Papiloma_T1C+_42_mask.jpg  \n",
            "  inflating: /content/data/train/masks/Papiloma_T1C+_43_mask.jpg  \n",
            "  inflating: /content/data/train/masks/Papiloma_T1C+_44_mask.jpg  \n",
            "  inflating: /content/data/train/masks/Papiloma_T1C+_45_mask.jpg  \n",
            "  inflating: /content/data/train/masks/Papiloma_T1C+_47_mask.jpg  \n",
            "  inflating: /content/data/train/masks/Papiloma_T1C+_48_mask.jpg  \n",
            "  inflating: /content/data/train/masks/Papiloma_T1C+_49_mask.jpg  \n",
            "  inflating: /content/data/train/masks/Papiloma_T1C+_50_mask.jpg  \n",
            "  inflating: /content/data/train/masks/Papiloma_T1C+_51_mask.jpg  \n",
            "  inflating: /content/data/train/masks/Papiloma_T1C+_53_mask.jpg  \n",
            "  inflating: /content/data/train/masks/Papiloma_T1C+_54_mask.jpg  \n",
            "  inflating: /content/data/train/masks/Papiloma_T1C+_57_mask.jpg  \n",
            "  inflating: /content/data/train/masks/Papiloma_T1C+_58_mask.jpg  \n",
            "  inflating: /content/data/train/masks/Papiloma_T1C+_59_mask.jpg  \n",
            "  inflating: /content/data/train/masks/Papiloma_T1C+_60_mask.jpg  \n",
            "  inflating: /content/data/train/masks/Papiloma_T1C+_61_mask.jpg  \n",
            "  inflating: /content/data/train/masks/Papiloma_T1C+_62_mask.jpg  \n",
            "  inflating: /content/data/train/masks/Papiloma_T1C+_63_mask.jpg  \n",
            "  inflating: /content/data/train/masks/Papiloma_T1C+_64_mask.jpg  \n",
            "  inflating: /content/data/train/masks/Papiloma_T1C+_65_mask.jpg  \n",
            "  inflating: /content/data/train/masks/Papiloma_T1C+_67_mask.jpg  \n",
            "  inflating: /content/data/train/masks/Papiloma_T1C+_68_mask.jpg  \n",
            "  inflating: /content/data/train/masks/Papiloma_T1C+_69_mask.jpg  \n",
            "  inflating: /content/data/train/masks/Papiloma_T1C+_6_mask.jpg  \n",
            "  inflating: /content/data/train/masks/Papiloma_T1C+_70_mask.jpg  \n",
            "  inflating: /content/data/train/masks/Papiloma_T1C+_71_mask.jpg  \n",
            "  inflating: /content/data/train/masks/Papiloma_T1C+_73_mask.jpg  \n",
            "  inflating: /content/data/train/masks/Papiloma_T1C+_74_mask.jpg  \n",
            "  inflating: /content/data/train/masks/Papiloma_T1C+_76_mask.jpg  \n",
            "  inflating: /content/data/train/masks/Papiloma_T1C+_77_mask.jpg  \n",
            "  inflating: /content/data/train/masks/Papiloma_T1C+_79_mask.jpg  \n",
            "  inflating: /content/data/train/masks/Papiloma_T1C+_7_mask.jpg  \n",
            "  inflating: /content/data/train/masks/Papiloma_T1C+_80_mask.jpg  \n",
            "  inflating: /content/data/train/masks/Papiloma_T1C+_81_mask.jpg  \n",
            "  inflating: /content/data/train/masks/Papiloma_T1C+_82_mask.jpg  \n",
            "  inflating: /content/data/train/masks/Papiloma_T1C+_83_mask.jpg  \n",
            "  inflating: /content/data/train/masks/Papiloma_T1C+_85_mask.jpg  \n",
            "  inflating: /content/data/train/masks/Papiloma_T1C+_86_mask.jpg  \n",
            "  inflating: /content/data/train/masks/Papiloma_T1C+_89_mask.jpg  \n",
            "  inflating: /content/data/train/masks/Papiloma_T1C+_8_mask.jpg  \n",
            "  inflating: /content/data/train/masks/Papiloma_T1C+_91_mask.jpg  \n",
            "  inflating: /content/data/train/masks/Papiloma_T1C+_92_mask.jpg  \n",
            "  inflating: /content/data/train/masks/Papiloma_T1C+_93_mask.jpg  \n",
            "  inflating: /content/data/train/masks/Papiloma_T1C+_94_mask.jpg  \n",
            "  inflating: /content/data/train/masks/Papiloma_T1C+_95_mask.jpg  \n",
            "  inflating: /content/data/train/masks/Papiloma_T1C+_97_mask.jpg  \n",
            "  inflating: /content/data/train/masks/Papiloma_T1C+_98_mask.jpg  \n",
            "  inflating: /content/data/train/masks/Papiloma_T1C+_99_mask.jpg  \n",
            "  inflating: /content/data/train/masks/Papiloma_T1C+_9_mask.jpg  \n",
            "  inflating: /content/data/train/masks/Papiloma_T1_10_mask.jpg  \n",
            "  inflating: /content/data/train/masks/Papiloma_T1_11_mask.jpg  \n",
            "  inflating: /content/data/train/masks/Papiloma_T1_12_mask.jpg  \n",
            "  inflating: /content/data/train/masks/Papiloma_T1_13_mask.jpg  \n",
            "  inflating: /content/data/train/masks/Papiloma_T1_14_mask.jpg  \n",
            "  inflating: /content/data/train/masks/Papiloma_T1_16_mask.jpg  \n",
            "  inflating: /content/data/train/masks/Papiloma_T1_17_mask.jpg  \n",
            "  inflating: /content/data/train/masks/Papiloma_T1_18_mask.jpg  \n",
            "  inflating: /content/data/train/masks/Papiloma_T1_19_mask.jpg  \n",
            "  inflating: /content/data/train/masks/Papiloma_T1_1_mask.jpg  \n",
            "  inflating: /content/data/train/masks/Papiloma_T1_20_mask.jpg  \n",
            "  inflating: /content/data/train/masks/Papiloma_T1_21_mask.jpg  \n",
            "  inflating: /content/data/train/masks/Papiloma_T1_23_mask.jpg  \n",
            "  inflating: /content/data/train/masks/Papiloma_T1_24_mask.jpg  \n",
            "  inflating: /content/data/train/masks/Papiloma_T1_25_mask.jpg  \n",
            "  inflating: /content/data/train/masks/Papiloma_T1_26_mask.jpg  \n",
            "  inflating: /content/data/train/masks/Papiloma_T1_27_mask.jpg  \n",
            "  inflating: /content/data/train/masks/Papiloma_T1_28_mask.jpg  \n",
            "  inflating: /content/data/train/masks/Papiloma_T1_29_mask.jpg  \n",
            "  inflating: /content/data/train/masks/Papiloma_T1_2_mask.jpg  \n",
            "  inflating: /content/data/train/masks/Papiloma_T1_30_mask.jpg  \n",
            "  inflating: /content/data/train/masks/Papiloma_T1_32_mask.jpg  \n",
            "  inflating: /content/data/train/masks/Papiloma_T1_34_mask.jpg  \n",
            "  inflating: /content/data/train/masks/Papiloma_T1_36_mask.jpg  \n",
            "  inflating: /content/data/train/masks/Papiloma_T1_37_mask.jpg  \n",
            "  inflating: /content/data/train/masks/Papiloma_T1_38_mask.jpg  \n",
            "  inflating: /content/data/train/masks/Papiloma_T1_39_mask.jpg  \n",
            "  inflating: /content/data/train/masks/Papiloma_T1_3_mask.jpg  \n",
            "  inflating: /content/data/train/masks/Papiloma_T1_40_mask.jpg  \n",
            "  inflating: /content/data/train/masks/Papiloma_T1_41_mask.jpg  \n",
            "  inflating: /content/data/train/masks/Papiloma_T1_43_mask.jpg  \n",
            "  inflating: /content/data/train/masks/Papiloma_T1_44_mask.jpg  \n",
            "  inflating: /content/data/train/masks/Papiloma_T1_45_mask.jpg  \n",
            "  inflating: /content/data/train/masks/Papiloma_T1_46_mask.jpg  \n",
            "  inflating: /content/data/train/masks/Papiloma_T1_49_mask.jpg  \n",
            "  inflating: /content/data/train/masks/Papiloma_T1_4_mask.jpg  \n",
            "  inflating: /content/data/train/masks/Papiloma_T1_51_mask.jpg  \n",
            "  inflating: /content/data/train/masks/Papiloma_T1_52_mask.jpg  \n",
            "  inflating: /content/data/train/masks/Papiloma_T1_53_mask.jpg  \n",
            "  inflating: /content/data/train/masks/Papiloma_T1_54_mask.jpg  \n",
            "  inflating: /content/data/train/masks/Papiloma_T1_55_mask.jpg  \n",
            "  inflating: /content/data/train/masks/Papiloma_T1_56_mask.jpg  \n",
            "  inflating: /content/data/train/masks/Papiloma_T1_57_mask.jpg  \n",
            "  inflating: /content/data/train/masks/Papiloma_T1_58_mask.jpg  \n",
            "  inflating: /content/data/train/masks/Papiloma_T1_59_mask.jpg  \n",
            "  inflating: /content/data/train/masks/Papiloma_T1_5_mask.jpg  \n",
            "  inflating: /content/data/train/masks/Papiloma_T1_61_mask.jpg  \n",
            "  inflating: /content/data/train/masks/Papiloma_T1_62_mask.jpg  \n",
            "  inflating: /content/data/train/masks/Papiloma_T1_63_mask.jpg  \n",
            "  inflating: /content/data/train/masks/Papiloma_T1_64_mask.jpg  \n",
            "  inflating: /content/data/train/masks/Papiloma_T1_66_mask.jpg  \n",
            "  inflating: /content/data/train/masks/Papiloma_T1_6_mask.jpg  \n",
            "  inflating: /content/data/train/masks/Papiloma_T1_8_mask.jpg  \n",
            "  inflating: /content/data/train/masks/Papiloma_T1_9_mask.jpg  \n",
            "  inflating: /content/data/train/masks/Papiloma_T2_10_mask.jpg  \n",
            "  inflating: /content/data/train/masks/Papiloma_T2_11_mask.jpg  \n",
            "  inflating: /content/data/train/masks/Papiloma_T2_12_mask.jpg  \n",
            "  inflating: /content/data/train/masks/Papiloma_T2_14_mask.jpg  \n",
            "  inflating: /content/data/train/masks/Papiloma_T2_15_mask.jpg  \n",
            "  inflating: /content/data/train/masks/Papiloma_T2_16_mask.jpg  \n",
            "  inflating: /content/data/train/masks/Papiloma_T2_17_mask.jpg  \n",
            "  inflating: /content/data/train/masks/Papiloma_T2_19_mask.jpg  \n",
            "  inflating: /content/data/train/masks/Papiloma_T2_1_mask.jpg  \n",
            "  inflating: /content/data/train/masks/Papiloma_T2_22_mask.jpg  \n",
            "  inflating: /content/data/train/masks/Papiloma_T2_23_mask.jpg  \n",
            "  inflating: /content/data/train/masks/Papiloma_T2_24_mask.jpg  \n",
            "  inflating: /content/data/train/masks/Papiloma_T2_25_mask.jpg  \n",
            "  inflating: /content/data/train/masks/Papiloma_T2_26_mask.jpg  \n",
            "  inflating: /content/data/train/masks/Papiloma_T2_27_mask.jpg  \n",
            "  inflating: /content/data/train/masks/Papiloma_T2_28_mask.jpg  \n",
            "  inflating: /content/data/train/masks/Papiloma_T2_2_mask.jpg  \n",
            "  inflating: /content/data/train/masks/Papiloma_T2_30_mask.jpg  \n",
            "  inflating: /content/data/train/masks/Papiloma_T2_32_mask.jpg  \n",
            "  inflating: /content/data/train/masks/Papiloma_T2_33_mask.jpg  \n",
            "  inflating: /content/data/train/masks/Papiloma_T2_34_mask.jpg  \n",
            "  inflating: /content/data/train/masks/Papiloma_T2_35_mask.jpg  \n",
            "  inflating: /content/data/train/masks/Papiloma_T2_36_mask.jpg  \n",
            "  inflating: /content/data/train/masks/Papiloma_T2_37_mask.jpg  \n",
            "  inflating: /content/data/train/masks/Papiloma_T2_38_mask.jpg  \n",
            "  inflating: /content/data/train/masks/Papiloma_T2_3_mask.jpg  \n",
            "  inflating: /content/data/train/masks/Papiloma_T2_40_mask.jpg  \n",
            "  inflating: /content/data/train/masks/Papiloma_T2_41_mask.jpg  \n",
            "  inflating: /content/data/train/masks/Papiloma_T2_42_mask.jpg  \n",
            "  inflating: /content/data/train/masks/Papiloma_T2_43_mask.jpg  \n",
            "  inflating: /content/data/train/masks/Papiloma_T2_44_mask.jpg  \n",
            "  inflating: /content/data/train/masks/Papiloma_T2_45_mask.jpg  \n",
            "  inflating: /content/data/train/masks/Papiloma_T2_46_mask.jpg  \n",
            "  inflating: /content/data/train/masks/Papiloma_T2_48_mask.jpg  \n",
            "  inflating: /content/data/train/masks/Papiloma_T2_49_mask.jpg  \n",
            "  inflating: /content/data/train/masks/Papiloma_T2_4_mask.jpg  \n",
            "  inflating: /content/data/train/masks/Papiloma_T2_50_mask.jpg  \n",
            "  inflating: /content/data/train/masks/Papiloma_T2_51_mask.jpg  \n",
            "  inflating: /content/data/train/masks/Papiloma_T2_52_mask.jpg  \n",
            "  inflating: /content/data/train/masks/Papiloma_T2_55_mask.jpg  \n",
            "  inflating: /content/data/train/masks/Papiloma_T2_56_mask.jpg  \n",
            "  inflating: /content/data/train/masks/Papiloma_T2_57_mask.jpg  \n",
            "  inflating: /content/data/train/masks/Papiloma_T2_58_mask.jpg  \n",
            "  inflating: /content/data/train/masks/Papiloma_T2_59_mask.jpg  \n",
            "  inflating: /content/data/train/masks/Papiloma_T2_5_mask.jpg  \n",
            "  inflating: /content/data/train/masks/Papiloma_T2_60_mask.jpg  \n",
            "  inflating: /content/data/train/masks/Papiloma_T2_61_mask.jpg  \n",
            "  inflating: /content/data/train/masks/Papiloma_T2_62_mask.jpg  \n",
            "  inflating: /content/data/train/masks/Papiloma_T2_63_mask.jpg  \n",
            "  inflating: /content/data/train/masks/Papiloma_T2_6_mask.jpg  \n",
            "  inflating: /content/data/train/masks/Papiloma_T2_8_mask.jpg  \n",
            "  inflating: /content/data/train/masks/Papiloma_T2_9_mask.jpg  \n",
            "  inflating: /content/data/train/masks/Schwannoma_T1C+_101_mask.jpg  \n",
            "  inflating: /content/data/train/masks/Schwannoma_T1C+_102_mask.jpg  \n",
            "  inflating: /content/data/train/masks/Schwannoma_T1C+_103_mask.jpg  \n",
            "  inflating: /content/data/train/masks/Schwannoma_T1C+_104_mask.jpg  \n",
            "  inflating: /content/data/train/masks/Schwannoma_T1C+_105_mask.jpg  \n",
            "  inflating: /content/data/train/masks/Schwannoma_T1C+_106_mask.jpg  \n",
            "  inflating: /content/data/train/masks/Schwannoma_T1C+_108_mask.jpg  \n",
            "  inflating: /content/data/train/masks/Schwannoma_T1C+_109_mask.jpg  \n",
            "  inflating: /content/data/train/masks/Schwannoma_T1C+_10_mask.jpg  \n",
            "  inflating: /content/data/train/masks/Schwannoma_T1C+_110_mask.jpg  \n",
            "  inflating: /content/data/train/masks/Schwannoma_T1C+_111_mask.jpg  \n",
            "  inflating: /content/data/train/masks/Schwannoma_T1C+_114_mask.jpg  \n",
            "  inflating: /content/data/train/masks/Schwannoma_T1C+_115_mask.jpg  \n",
            "  inflating: /content/data/train/masks/Schwannoma_T1C+_117_mask.jpg  \n",
            "  inflating: /content/data/train/masks/Schwannoma_T1C+_118_mask.jpg  \n",
            "  inflating: /content/data/train/masks/Schwannoma_T1C+_119_mask.jpg  \n",
            "  inflating: /content/data/train/masks/Schwannoma_T1C+_11_mask.jpg  \n",
            "  inflating: /content/data/train/masks/Schwannoma_T1C+_120_mask.jpg  \n",
            "  inflating: /content/data/train/masks/Schwannoma_T1C+_121_mask.jpg  \n",
            "  inflating: /content/data/train/masks/Schwannoma_T1C+_122_mask.jpg  \n",
            "  inflating: /content/data/train/masks/Schwannoma_T1C+_125_mask.jpg  \n",
            "  inflating: /content/data/train/masks/Schwannoma_T1C+_126_mask.jpg  \n",
            "  inflating: /content/data/train/masks/Schwannoma_T1C+_127_mask.jpg  \n",
            "  inflating: /content/data/train/masks/Schwannoma_T1C+_129_mask.jpg  \n",
            "  inflating: /content/data/train/masks/Schwannoma_T1C+_12_mask.jpg  \n",
            "  inflating: /content/data/train/masks/Schwannoma_T1C+_130_mask.jpg  \n",
            "  inflating: /content/data/train/masks/Schwannoma_T1C+_131_mask.jpg  \n",
            "  inflating: /content/data/train/masks/Schwannoma_T1C+_133_mask.jpg  \n",
            "  inflating: /content/data/train/masks/Schwannoma_T1C+_134_mask.jpg  \n",
            "  inflating: /content/data/train/masks/Schwannoma_T1C+_135_mask.jpg  \n",
            "  inflating: /content/data/train/masks/Schwannoma_T1C+_137_mask.jpg  \n",
            "  inflating: /content/data/train/masks/Schwannoma_T1C+_138_mask.jpg  \n",
            "  inflating: /content/data/train/masks/Schwannoma_T1C+_139_mask.jpg  \n",
            "  inflating: /content/data/train/masks/Schwannoma_T1C+_13_mask.jpg  \n",
            "  inflating: /content/data/train/masks/Schwannoma_T1C+_140_mask.jpg  \n",
            "  inflating: /content/data/train/masks/Schwannoma_T1C+_142_mask.jpg  \n",
            "  inflating: /content/data/train/masks/Schwannoma_T1C+_143_mask.jpg  \n",
            "  inflating: /content/data/train/masks/Schwannoma_T1C+_144_mask.jpg  \n",
            "  inflating: /content/data/train/masks/Schwannoma_T1C+_145_mask.jpg  \n",
            "  inflating: /content/data/train/masks/Schwannoma_T1C+_146_mask.jpg  \n",
            "  inflating: /content/data/train/masks/Schwannoma_T1C+_148_mask.jpg  \n",
            "  inflating: /content/data/train/masks/Schwannoma_T1C+_14_mask.jpg  \n",
            "  inflating: /content/data/train/masks/Schwannoma_T1C+_150_mask.jpg  \n",
            "  inflating: /content/data/train/masks/Schwannoma_T1C+_151_mask.jpg  \n",
            "  inflating: /content/data/train/masks/Schwannoma_T1C+_153_mask.jpg  \n",
            "  inflating: /content/data/train/masks/Schwannoma_T1C+_154_mask.jpg  \n",
            "  inflating: /content/data/train/masks/Schwannoma_T1C+_155_mask.jpg  \n",
            "  inflating: /content/data/train/masks/Schwannoma_T1C+_156_mask.jpg  \n",
            "  inflating: /content/data/train/masks/Schwannoma_T1C+_157_mask.jpg  \n",
            "  inflating: /content/data/train/masks/Schwannoma_T1C+_158_mask.jpg  \n",
            "  inflating: /content/data/train/masks/Schwannoma_T1C+_159_mask.jpg  \n",
            "  inflating: /content/data/train/masks/Schwannoma_T1C+_15_mask.jpg  \n",
            "  inflating: /content/data/train/masks/Schwannoma_T1C+_160_mask.jpg  \n",
            "  inflating: /content/data/train/masks/Schwannoma_T1C+_161_mask.jpg  \n",
            "  inflating: /content/data/train/masks/Schwannoma_T1C+_162_mask.jpg  \n",
            "  inflating: /content/data/train/masks/Schwannoma_T1C+_163_mask.jpg  \n",
            "  inflating: /content/data/train/masks/Schwannoma_T1C+_164_mask.jpg  \n",
            "  inflating: /content/data/train/masks/Schwannoma_T1C+_166_mask.jpg  \n",
            "  inflating: /content/data/train/masks/Schwannoma_T1C+_167_mask.jpg  \n",
            "  inflating: /content/data/train/masks/Schwannoma_T1C+_168_mask.jpg  \n",
            "  inflating: /content/data/train/masks/Schwannoma_T1C+_169_mask.jpg  \n",
            "  inflating: /content/data/train/masks/Schwannoma_T1C+_16_mask.jpg  \n",
            "  inflating: /content/data/train/masks/Schwannoma_T1C+_171_mask.jpg  \n",
            "  inflating: /content/data/train/masks/Schwannoma_T1C+_172_mask.jpg  \n",
            "  inflating: /content/data/train/masks/Schwannoma_T1C+_173_mask.jpg  \n",
            "  inflating: /content/data/train/masks/Schwannoma_T1C+_174_mask.jpg  \n",
            "  inflating: /content/data/train/masks/Schwannoma_T1C+_175_mask.jpg  \n",
            "  inflating: /content/data/train/masks/Schwannoma_T1C+_176_mask.jpg  \n",
            "  inflating: /content/data/train/masks/Schwannoma_T1C+_177_mask.jpg  \n",
            "  inflating: /content/data/train/masks/Schwannoma_T1C+_179_mask.jpg  \n",
            "  inflating: /content/data/train/masks/Schwannoma_T1C+_180_mask.jpg  \n",
            "  inflating: /content/data/train/masks/Schwannoma_T1C+_181_mask.jpg  \n",
            "  inflating: /content/data/train/masks/Schwannoma_T1C+_182_mask.jpg  \n",
            "  inflating: /content/data/train/masks/Schwannoma_T1C+_184_mask.jpg  \n",
            "  inflating: /content/data/train/masks/Schwannoma_T1C+_185_mask.jpg  \n",
            "  inflating: /content/data/train/masks/Schwannoma_T1C+_186_mask.jpg  \n",
            "  inflating: /content/data/train/masks/Schwannoma_T1C+_187_mask.jpg  \n",
            "  inflating: /content/data/train/masks/Schwannoma_T1C+_188_mask.jpg  \n",
            "  inflating: /content/data/train/masks/Schwannoma_T1C+_189_mask.jpg  \n",
            "  inflating: /content/data/train/masks/Schwannoma_T1C+_18_mask.jpg  \n",
            "  inflating: /content/data/train/masks/Schwannoma_T1C+_191_mask.jpg  \n",
            "  inflating: /content/data/train/masks/Schwannoma_T1C+_192_mask.jpg  \n",
            "  inflating: /content/data/train/masks/Schwannoma_T1C+_193_mask.jpg  \n",
            "  inflating: /content/data/train/masks/Schwannoma_T1C+_1_mask.jpg  \n",
            "  inflating: /content/data/train/masks/Schwannoma_T1C+_20_mask.jpg  \n",
            "  inflating: /content/data/train/masks/Schwannoma_T1C+_21_mask.jpg  \n",
            "  inflating: /content/data/train/masks/Schwannoma_T1C+_22_mask.jpg  \n",
            "  inflating: /content/data/train/masks/Schwannoma_T1C+_23_mask.jpg  \n",
            "  inflating: /content/data/train/masks/Schwannoma_T1C+_24_mask.jpg  \n",
            "  inflating: /content/data/train/masks/Schwannoma_T1C+_26_mask.jpg  \n",
            "  inflating: /content/data/train/masks/Schwannoma_T1C+_27_mask.jpg  \n",
            "  inflating: /content/data/train/masks/Schwannoma_T1C+_28_mask.jpg  \n",
            "  inflating: /content/data/train/masks/Schwannoma_T1C+_2_mask.jpg  \n",
            "  inflating: /content/data/train/masks/Schwannoma_T1C+_30_mask.jpg  \n",
            "  inflating: /content/data/train/masks/Schwannoma_T1C+_32_mask.jpg  \n",
            "  inflating: /content/data/train/masks/Schwannoma_T1C+_33_mask.jpg  \n",
            "  inflating: /content/data/train/masks/Schwannoma_T1C+_35_mask.jpg  \n",
            "  inflating: /content/data/train/masks/Schwannoma_T1C+_36_mask.jpg  \n",
            "  inflating: /content/data/train/masks/Schwannoma_T1C+_37_mask.jpg  \n",
            "  inflating: /content/data/train/masks/Schwannoma_T1C+_38_mask.jpg  \n",
            "  inflating: /content/data/train/masks/Schwannoma_T1C+_3_mask.jpg  \n",
            "  inflating: /content/data/train/masks/Schwannoma_T1C+_40_mask.jpg  \n",
            "  inflating: /content/data/train/masks/Schwannoma_T1C+_41_mask.jpg  \n",
            "  inflating: /content/data/train/masks/Schwannoma_T1C+_44_mask.jpg  \n",
            "  inflating: /content/data/train/masks/Schwannoma_T1C+_45_mask.jpg  \n",
            "  inflating: /content/data/train/masks/Schwannoma_T1C+_46_mask.jpg  \n",
            "  inflating: /content/data/train/masks/Schwannoma_T1C+_47_mask.jpg  \n",
            "  inflating: /content/data/train/masks/Schwannoma_T1C+_48_mask.jpg  \n",
            "  inflating: /content/data/train/masks/Schwannoma_T1C+_49_mask.jpg  \n",
            "  inflating: /content/data/train/masks/Schwannoma_T1C+_4_mask.jpg  \n",
            "  inflating: /content/data/train/masks/Schwannoma_T1C+_50_mask.jpg  \n",
            "  inflating: /content/data/train/masks/Schwannoma_T1C+_52_mask.jpg  \n",
            "  inflating: /content/data/train/masks/Schwannoma_T1C+_53_mask.jpg  \n",
            "  inflating: /content/data/train/masks/Schwannoma_T1C+_54_mask.jpg  \n",
            "  inflating: /content/data/train/masks/Schwannoma_T1C+_55_mask.jpg  \n",
            "  inflating: /content/data/train/masks/Schwannoma_T1C+_56_mask.jpg  \n",
            "  inflating: /content/data/train/masks/Schwannoma_T1C+_57_mask.jpg  \n",
            "  inflating: /content/data/train/masks/Schwannoma_T1C+_59_mask.jpg  \n",
            "  inflating: /content/data/train/masks/Schwannoma_T1C+_5_mask.jpg  \n",
            "  inflating: /content/data/train/masks/Schwannoma_T1C+_61_mask.jpg  \n",
            "  inflating: /content/data/train/masks/Schwannoma_T1C+_63_mask.jpg  \n",
            "  inflating: /content/data/train/masks/Schwannoma_T1C+_64_mask.jpg  \n",
            "  inflating: /content/data/train/masks/Schwannoma_T1C+_65_mask.jpg  \n",
            "  inflating: /content/data/train/masks/Schwannoma_T1C+_66_mask.jpg  \n",
            "  inflating: /content/data/train/masks/Schwannoma_T1C+_69_mask.jpg  \n",
            "  inflating: /content/data/train/masks/Schwannoma_T1C+_70_mask.jpg  \n",
            "  inflating: /content/data/train/masks/Schwannoma_T1C+_71_mask.jpg  \n",
            "  inflating: /content/data/train/masks/Schwannoma_T1C+_72_mask.jpg  \n",
            "  inflating: /content/data/train/masks/Schwannoma_T1C+_73_mask.jpg  \n",
            "  inflating: /content/data/train/masks/Schwannoma_T1C+_74_mask.jpg  \n",
            "  inflating: /content/data/train/masks/Schwannoma_T1C+_75_mask.jpg  \n",
            "  inflating: /content/data/train/masks/Schwannoma_T1C+_76_mask.jpg  \n",
            "  inflating: /content/data/train/masks/Schwannoma_T1C+_78_mask.jpg  \n",
            "  inflating: /content/data/train/masks/Schwannoma_T1C+_7_mask.jpg  \n",
            "  inflating: /content/data/train/masks/Schwannoma_T1C+_81_mask.jpg  \n",
            "  inflating: /content/data/train/masks/Schwannoma_T1C+_84_mask.jpg  \n",
            "  inflating: /content/data/train/masks/Schwannoma_T1C+_85_mask.jpg  \n",
            "  inflating: /content/data/train/masks/Schwannoma_T1C+_86_mask.jpg  \n",
            "  inflating: /content/data/train/masks/Schwannoma_T1C+_87_mask.jpg  \n",
            "  inflating: /content/data/train/masks/Schwannoma_T1C+_89_mask.jpg  \n",
            "  inflating: /content/data/train/masks/Schwannoma_T1C+_8_mask.jpg  \n",
            "  inflating: /content/data/train/masks/Schwannoma_T1C+_90_mask.jpg  \n",
            "  inflating: /content/data/train/masks/Schwannoma_T1C+_93_mask.jpg  \n",
            "  inflating: /content/data/train/masks/Schwannoma_T1C+_94_mask.jpg  \n",
            "  inflating: /content/data/train/masks/Schwannoma_T1C+_95_mask.jpg  \n",
            "  inflating: /content/data/train/masks/Schwannoma_T1C+_96_mask.jpg  \n",
            "  inflating: /content/data/train/masks/Schwannoma_T1C+_97_mask.jpg  \n",
            "  inflating: /content/data/train/masks/Schwannoma_T1C+_98_mask.jpg  \n",
            "  inflating: /content/data/train/masks/Schwannoma_T1C+_99_mask.jpg  \n",
            "  inflating: /content/data/train/masks/Schwannoma_T1_101_mask.jpg  \n",
            "  inflating: /content/data/train/masks/Schwannoma_T1_102_mask.jpg  \n",
            "  inflating: /content/data/train/masks/Schwannoma_T1_103_mask.jpg  \n",
            "  inflating: /content/data/train/masks/Schwannoma_T1_104_mask.jpg  \n",
            "  inflating: /content/data/train/masks/Schwannoma_T1_105_mask.jpg  \n",
            "  inflating: /content/data/train/masks/Schwannoma_T1_106_mask.jpg  \n",
            "  inflating: /content/data/train/masks/Schwannoma_T1_108_mask.jpg  \n",
            "  inflating: /content/data/train/masks/Schwannoma_T1_109_mask.jpg  \n",
            "  inflating: /content/data/train/masks/Schwannoma_T1_10_mask.jpg  \n",
            "  inflating: /content/data/train/masks/Schwannoma_T1_110_mask.jpg  \n",
            "  inflating: /content/data/train/masks/Schwannoma_T1_111_mask.jpg  \n",
            "  inflating: /content/data/train/masks/Schwannoma_T1_112_mask.jpg  \n",
            "  inflating: /content/data/train/masks/Schwannoma_T1_113_mask.jpg  \n",
            "  inflating: /content/data/train/masks/Schwannoma_T1_114_mask.jpg  \n",
            "  inflating: /content/data/train/masks/Schwannoma_T1_115_mask.jpg  \n",
            "  inflating: /content/data/train/masks/Schwannoma_T1_116_mask.jpg  \n",
            "  inflating: /content/data/train/masks/Schwannoma_T1_117_mask.jpg  \n",
            "  inflating: /content/data/train/masks/Schwannoma_T1_118_mask.jpg  \n",
            "  inflating: /content/data/train/masks/Schwannoma_T1_119_mask.jpg  \n",
            "  inflating: /content/data/train/masks/Schwannoma_T1_11_mask.jpg  \n",
            "  inflating: /content/data/train/masks/Schwannoma_T1_120_mask.jpg  \n",
            "  inflating: /content/data/train/masks/Schwannoma_T1_121_mask.jpg  \n",
            "  inflating: /content/data/train/masks/Schwannoma_T1_122_mask.jpg  \n",
            "  inflating: /content/data/train/masks/Schwannoma_T1_123_mask.jpg  \n",
            "  inflating: /content/data/train/masks/Schwannoma_T1_124_mask.jpg  \n",
            "  inflating: /content/data/train/masks/Schwannoma_T1_125_mask.jpg  \n",
            "  inflating: /content/data/train/masks/Schwannoma_T1_126_mask.jpg  \n",
            "  inflating: /content/data/train/masks/Schwannoma_T1_127_mask.jpg  \n",
            "  inflating: /content/data/train/masks/Schwannoma_T1_128_mask.jpg  \n",
            "  inflating: /content/data/train/masks/Schwannoma_T1_129_mask.jpg  \n",
            "  inflating: /content/data/train/masks/Schwannoma_T1_12_mask.jpg  \n",
            "  inflating: /content/data/train/masks/Schwannoma_T1_130_mask.jpg  \n",
            "  inflating: /content/data/train/masks/Schwannoma_T1_131_mask.jpg  \n",
            "  inflating: /content/data/train/masks/Schwannoma_T1_132_mask.jpg  \n",
            "  inflating: /content/data/train/masks/Schwannoma_T1_133_mask.jpg  \n",
            "  inflating: /content/data/train/masks/Schwannoma_T1_134_mask.jpg  \n",
            "  inflating: /content/data/train/masks/Schwannoma_T1_135_mask.jpg  \n",
            "  inflating: /content/data/train/masks/Schwannoma_T1_136_mask.jpg  \n",
            "  inflating: /content/data/train/masks/Schwannoma_T1_138_mask.jpg  \n",
            "  inflating: /content/data/train/masks/Schwannoma_T1_139_mask.jpg  \n",
            "  inflating: /content/data/train/masks/Schwannoma_T1_13_mask.jpg  \n",
            "  inflating: /content/data/train/masks/Schwannoma_T1_141_mask.jpg  \n",
            "  inflating: /content/data/train/masks/Schwannoma_T1_142_mask.jpg  \n",
            "  inflating: /content/data/train/masks/Schwannoma_T1_143_mask.jpg  \n",
            "  inflating: /content/data/train/masks/Schwannoma_T1_144_mask.jpg  \n",
            "  inflating: /content/data/train/masks/Schwannoma_T1_145_mask.jpg  \n",
            "  inflating: /content/data/train/masks/Schwannoma_T1_146_mask.jpg  \n",
            "  inflating: /content/data/train/masks/Schwannoma_T1_148_mask.jpg  \n",
            "  inflating: /content/data/train/masks/Schwannoma_T1_14_mask.jpg  \n",
            "  inflating: /content/data/train/masks/Schwannoma_T1_15_mask.jpg  \n",
            "  inflating: /content/data/train/masks/Schwannoma_T1_16_mask.jpg  \n",
            "  inflating: /content/data/train/masks/Schwannoma_T1_17_mask.jpg  \n",
            "  inflating: /content/data/train/masks/Schwannoma_T1_18_mask.jpg  \n",
            "  inflating: /content/data/train/masks/Schwannoma_T1_19_mask.jpg  \n",
            "  inflating: /content/data/train/masks/Schwannoma_T1_1_mask.jpg  \n",
            "  inflating: /content/data/train/masks/Schwannoma_T1_20_mask.jpg  \n",
            "  inflating: /content/data/train/masks/Schwannoma_T1_21_mask.jpg  \n",
            "  inflating: /content/data/train/masks/Schwannoma_T1_22_mask.jpg  \n",
            "  inflating: /content/data/train/masks/Schwannoma_T1_23_mask.jpg  \n",
            "  inflating: /content/data/train/masks/Schwannoma_T1_24_mask.jpg  \n",
            "  inflating: /content/data/train/masks/Schwannoma_T1_25_mask.jpg  \n",
            "  inflating: /content/data/train/masks/Schwannoma_T1_26_mask.jpg  \n",
            "  inflating: /content/data/train/masks/Schwannoma_T1_27_mask.jpg  \n",
            "  inflating: /content/data/train/masks/Schwannoma_T1_28_mask.jpg  \n",
            "  inflating: /content/data/train/masks/Schwannoma_T1_29_mask.jpg  \n",
            "  inflating: /content/data/train/masks/Schwannoma_T1_2_mask.jpg  \n",
            "  inflating: /content/data/train/masks/Schwannoma_T1_30_mask.jpg  \n",
            "  inflating: /content/data/train/masks/Schwannoma_T1_31_mask.jpg  \n",
            "  inflating: /content/data/train/masks/Schwannoma_T1_32_mask.jpg  \n",
            "  inflating: /content/data/train/masks/Schwannoma_T1_34_mask.jpg  \n",
            "  inflating: /content/data/train/masks/Schwannoma_T1_35_mask.jpg  \n",
            "  inflating: /content/data/train/masks/Schwannoma_T1_36_mask.jpg  \n",
            "  inflating: /content/data/train/masks/Schwannoma_T1_37_mask.jpg  \n",
            "  inflating: /content/data/train/masks/Schwannoma_T1_38_mask.jpg  \n",
            "  inflating: /content/data/train/masks/Schwannoma_T1_39_mask.jpg  \n",
            "  inflating: /content/data/train/masks/Schwannoma_T1_3_mask.jpg  \n",
            "  inflating: /content/data/train/masks/Schwannoma_T1_40_mask.jpg  \n",
            "  inflating: /content/data/train/masks/Schwannoma_T1_41_mask.jpg  \n",
            "  inflating: /content/data/train/masks/Schwannoma_T1_42_mask.jpg  \n",
            "  inflating: /content/data/train/masks/Schwannoma_T1_43_mask.jpg  \n",
            "  inflating: /content/data/train/masks/Schwannoma_T1_44_mask.jpg  \n",
            "  inflating: /content/data/train/masks/Schwannoma_T1_45_mask.jpg  \n",
            "  inflating: /content/data/train/masks/Schwannoma_T1_46_mask.jpg  \n",
            "  inflating: /content/data/train/masks/Schwannoma_T1_47_mask.jpg  \n",
            "  inflating: /content/data/train/masks/Schwannoma_T1_49_mask.jpg  \n",
            "  inflating: /content/data/train/masks/Schwannoma_T1_4_mask.jpg  \n",
            "  inflating: /content/data/train/masks/Schwannoma_T1_51_mask.jpg  \n",
            "  inflating: /content/data/train/masks/Schwannoma_T1_52_mask.jpg  \n",
            "  inflating: /content/data/train/masks/Schwannoma_T1_54_mask.jpg  \n",
            "  inflating: /content/data/train/masks/Schwannoma_T1_55_mask.jpg  \n",
            "  inflating: /content/data/train/masks/Schwannoma_T1_56_mask.jpg  \n",
            "  inflating: /content/data/train/masks/Schwannoma_T1_57_mask.jpg  \n",
            "  inflating: /content/data/train/masks/Schwannoma_T1_58_mask.jpg  \n",
            "  inflating: /content/data/train/masks/Schwannoma_T1_59_mask.jpg  \n",
            "  inflating: /content/data/train/masks/Schwannoma_T1_60_mask.jpg  \n",
            "  inflating: /content/data/train/masks/Schwannoma_T1_61_mask.jpg  \n",
            "  inflating: /content/data/train/masks/Schwannoma_T1_64_mask.jpg  \n",
            "  inflating: /content/data/train/masks/Schwannoma_T1_65_mask.jpg  \n",
            "  inflating: /content/data/train/masks/Schwannoma_T1_66_mask.jpg  \n",
            "  inflating: /content/data/train/masks/Schwannoma_T1_67_mask.jpg  \n",
            "  inflating: /content/data/train/masks/Schwannoma_T1_68_mask.jpg  \n",
            "  inflating: /content/data/train/masks/Schwannoma_T1_69_mask.jpg  \n",
            "  inflating: /content/data/train/masks/Schwannoma_T1_6_mask.jpg  \n",
            "  inflating: /content/data/train/masks/Schwannoma_T1_71_mask.jpg  \n",
            "  inflating: /content/data/train/masks/Schwannoma_T1_72_mask.jpg  \n",
            "  inflating: /content/data/train/masks/Schwannoma_T1_73_mask.jpg  \n",
            "  inflating: /content/data/train/masks/Schwannoma_T1_74_mask.jpg  \n",
            "  inflating: /content/data/train/masks/Schwannoma_T1_75_mask.jpg  \n",
            "  inflating: /content/data/train/masks/Schwannoma_T1_76_mask.jpg  \n",
            "  inflating: /content/data/train/masks/Schwannoma_T1_77_mask.jpg  \n",
            "  inflating: /content/data/train/masks/Schwannoma_T1_79_mask.jpg  \n",
            "  inflating: /content/data/train/masks/Schwannoma_T1_7_mask.jpg  \n",
            "  inflating: /content/data/train/masks/Schwannoma_T1_80_mask.jpg  \n",
            "  inflating: /content/data/train/masks/Schwannoma_T1_81_mask.jpg  \n",
            "  inflating: /content/data/train/masks/Schwannoma_T1_85_mask.jpg  \n",
            "  inflating: /content/data/train/masks/Schwannoma_T1_86_mask.jpg  \n",
            "  inflating: /content/data/train/masks/Schwannoma_T1_87_mask.jpg  \n",
            "  inflating: /content/data/train/masks/Schwannoma_T1_88_mask.jpg  \n",
            "  inflating: /content/data/train/masks/Schwannoma_T1_89_mask.jpg  \n",
            "  inflating: /content/data/train/masks/Schwannoma_T1_8_mask.jpg  \n",
            "  inflating: /content/data/train/masks/Schwannoma_T1_90_mask.jpg  \n",
            "  inflating: /content/data/train/masks/Schwannoma_T1_91_mask.jpg  \n",
            "  inflating: /content/data/train/masks/Schwannoma_T1_92_mask.jpg  \n",
            "  inflating: /content/data/train/masks/Schwannoma_T1_94_mask.jpg  \n",
            "  inflating: /content/data/train/masks/Schwannoma_T1_95_mask.jpg  \n",
            "  inflating: /content/data/train/masks/Schwannoma_T1_96_mask.jpg  \n",
            "  inflating: /content/data/train/masks/Schwannoma_T1_97_mask.jpg  \n",
            "  inflating: /content/data/train/masks/Schwannoma_T1_98_mask.jpg  \n",
            "  inflating: /content/data/train/masks/Schwannoma_T1_9_mask.jpg  \n",
            "  inflating: /content/data/train/masks/Schwannoma_T2_100_mask.jpg  \n",
            "  inflating: /content/data/train/masks/Schwannoma_T2_101_mask.jpg  \n",
            "  inflating: /content/data/train/masks/Schwannoma_T2_102_mask.jpg  \n",
            "  inflating: /content/data/train/masks/Schwannoma_T2_103_mask.jpg  \n",
            "  inflating: /content/data/train/masks/Schwannoma_T2_104_mask.jpg  \n",
            "  inflating: /content/data/train/masks/Schwannoma_T2_105_mask.jpg  \n",
            "  inflating: /content/data/train/masks/Schwannoma_T2_106_mask.jpg  \n",
            "  inflating: /content/data/train/masks/Schwannoma_T2_107_mask.jpg  \n",
            "  inflating: /content/data/train/masks/Schwannoma_T2_108_mask.jpg  \n",
            "  inflating: /content/data/train/masks/Schwannoma_T2_109_mask.jpg  \n",
            "  inflating: /content/data/train/masks/Schwannoma_T2_10_mask.jpg  \n",
            "  inflating: /content/data/train/masks/Schwannoma_T2_110_mask.jpg  \n",
            "  inflating: /content/data/train/masks/Schwannoma_T2_111_mask.jpg  \n",
            "  inflating: /content/data/train/masks/Schwannoma_T2_112_mask.jpg  \n",
            "  inflating: /content/data/train/masks/Schwannoma_T2_113_mask.jpg  \n",
            "  inflating: /content/data/train/masks/Schwannoma_T2_114_mask.jpg  \n",
            "  inflating: /content/data/train/masks/Schwannoma_T2_115_mask.jpg  \n",
            "  inflating: /content/data/train/masks/Schwannoma_T2_116_mask.jpg  \n",
            "  inflating: /content/data/train/masks/Schwannoma_T2_117_mask.jpg  \n",
            "  inflating: /content/data/train/masks/Schwannoma_T2_118_mask.jpg  \n",
            "  inflating: /content/data/train/masks/Schwannoma_T2_11_mask.jpg  \n",
            "  inflating: /content/data/train/masks/Schwannoma_T2_120_mask.jpg  \n",
            "  inflating: /content/data/train/masks/Schwannoma_T2_121_mask.jpg  \n",
            "  inflating: /content/data/train/masks/Schwannoma_T2_122_mask.jpg  \n",
            "  inflating: /content/data/train/masks/Schwannoma_T2_123_mask.jpg  \n",
            "  inflating: /content/data/train/masks/Schwannoma_T2_12_mask.jpg  \n",
            "  inflating: /content/data/train/masks/Schwannoma_T2_14_mask.jpg  \n",
            "  inflating: /content/data/train/masks/Schwannoma_T2_15_mask.jpg  \n",
            "  inflating: /content/data/train/masks/Schwannoma_T2_16_mask.jpg  \n",
            "  inflating: /content/data/train/masks/Schwannoma_T2_17_mask.jpg  \n",
            "  inflating: /content/data/train/masks/Schwannoma_T2_1_mask.jpg  \n",
            "  inflating: /content/data/train/masks/Schwannoma_T2_20_mask.jpg  \n",
            "  inflating: /content/data/train/masks/Schwannoma_T2_21_mask.jpg  \n",
            "  inflating: /content/data/train/masks/Schwannoma_T2_22_mask.jpg  \n",
            "  inflating: /content/data/train/masks/Schwannoma_T2_23_mask.jpg  \n",
            "  inflating: /content/data/train/masks/Schwannoma_T2_24_mask.jpg  \n",
            "  inflating: /content/data/train/masks/Schwannoma_T2_26_mask.jpg  \n",
            "  inflating: /content/data/train/masks/Schwannoma_T2_27_mask.jpg  \n",
            "  inflating: /content/data/train/masks/Schwannoma_T2_28_mask.jpg  \n",
            "  inflating: /content/data/train/masks/Schwannoma_T2_2_mask.jpg  \n",
            "  inflating: /content/data/train/masks/Schwannoma_T2_31_mask.jpg  \n",
            "  inflating: /content/data/train/masks/Schwannoma_T2_32_mask.jpg  \n",
            "  inflating: /content/data/train/masks/Schwannoma_T2_34_mask.jpg  \n",
            "  inflating: /content/data/train/masks/Schwannoma_T2_35_mask.jpg  \n",
            "  inflating: /content/data/train/masks/Schwannoma_T2_36_mask.jpg  \n",
            "  inflating: /content/data/train/masks/Schwannoma_T2_37_mask.jpg  \n",
            "  inflating: /content/data/train/masks/Schwannoma_T2_38_mask.jpg  \n",
            "  inflating: /content/data/train/masks/Schwannoma_T2_39_mask.jpg  \n",
            "  inflating: /content/data/train/masks/Schwannoma_T2_3_mask.jpg  \n",
            "  inflating: /content/data/train/masks/Schwannoma_T2_40_mask.jpg  \n",
            "  inflating: /content/data/train/masks/Schwannoma_T2_41_mask.jpg  \n",
            "  inflating: /content/data/train/masks/Schwannoma_T2_42_mask.jpg  \n",
            "  inflating: /content/data/train/masks/Schwannoma_T2_43_mask.jpg  \n",
            "  inflating: /content/data/train/masks/Schwannoma_T2_45_mask.jpg  \n",
            "  inflating: /content/data/train/masks/Schwannoma_T2_46_mask.jpg  \n",
            "  inflating: /content/data/train/masks/Schwannoma_T2_48_mask.jpg  \n",
            "  inflating: /content/data/train/masks/Schwannoma_T2_49_mask.jpg  \n",
            "  inflating: /content/data/train/masks/Schwannoma_T2_4_mask.jpg  \n",
            "  inflating: /content/data/train/masks/Schwannoma_T2_50_mask.jpg  \n",
            "  inflating: /content/data/train/masks/Schwannoma_T2_52_mask.jpg  \n",
            "  inflating: /content/data/train/masks/Schwannoma_T2_53_mask.jpg  \n",
            "  inflating: /content/data/train/masks/Schwannoma_T2_54_mask.jpg  \n",
            "  inflating: /content/data/train/masks/Schwannoma_T2_56_mask.jpg  \n",
            "  inflating: /content/data/train/masks/Schwannoma_T2_57_mask.jpg  \n",
            "  inflating: /content/data/train/masks/Schwannoma_T2_58_mask.jpg  \n",
            "  inflating: /content/data/train/masks/Schwannoma_T2_60_mask.jpg  \n",
            "  inflating: /content/data/train/masks/Schwannoma_T2_63_mask.jpg  \n",
            "  inflating: /content/data/train/masks/Schwannoma_T2_64_mask.jpg  \n",
            "  inflating: /content/data/train/masks/Schwannoma_T2_66_mask.jpg  \n",
            "  inflating: /content/data/train/masks/Schwannoma_T2_67_mask.jpg  \n",
            "  inflating: /content/data/train/masks/Schwannoma_T2_68_mask.jpg  \n",
            "  inflating: /content/data/train/masks/Schwannoma_T2_69_mask.jpg  \n",
            "  inflating: /content/data/train/masks/Schwannoma_T2_6_mask.jpg  \n",
            "  inflating: /content/data/train/masks/Schwannoma_T2_70_mask.jpg  \n",
            "  inflating: /content/data/train/masks/Schwannoma_T2_71_mask.jpg  \n",
            "  inflating: /content/data/train/masks/Schwannoma_T2_73_mask.jpg  \n",
            "  inflating: /content/data/train/masks/Schwannoma_T2_74_mask.jpg  \n",
            "  inflating: /content/data/train/masks/Schwannoma_T2_75_mask.jpg  \n",
            "  inflating: /content/data/train/masks/Schwannoma_T2_78_mask.jpg  \n",
            "  inflating: /content/data/train/masks/Schwannoma_T2_7_mask.jpg  \n",
            "  inflating: /content/data/train/masks/Schwannoma_T2_82_mask.jpg  \n",
            "  inflating: /content/data/train/masks/Schwannoma_T2_83_mask.jpg  \n",
            "  inflating: /content/data/train/masks/Schwannoma_T2_87_mask.jpg  \n",
            "  inflating: /content/data/train/masks/Schwannoma_T2_88_mask.jpg  \n",
            "  inflating: /content/data/train/masks/Schwannoma_T2_89_mask.jpg  \n",
            "  inflating: /content/data/train/masks/Schwannoma_T2_90_mask.jpg  \n",
            "  inflating: /content/data/train/masks/Schwannoma_T2_91_mask.jpg  \n",
            "  inflating: /content/data/train/masks/Schwannoma_T2_92_mask.jpg  \n",
            "  inflating: /content/data/train/masks/Schwannoma_T2_93_mask.jpg  \n",
            "  inflating: /content/data/train/masks/Schwannoma_T2_94_mask.jpg  \n",
            "  inflating: /content/data/train/masks/Schwannoma_T2_97_mask.jpg  \n",
            "  inflating: /content/data/train/masks/Schwannoma_T2_98_mask.jpg  \n",
            "  inflating: /content/data/train/masks/Schwannoma_T2_99_mask.jpg  \n",
            "  inflating: /content/data/train/masks/Schwannoma_T2_9_mask.jpg  \n",
            "  inflating: /content/data/train/masks/Tuberculoma_T1C+_10_mask.jpg  \n",
            "  inflating: /content/data/train/masks/Tuberculoma_T1C+_11_mask.jpg  \n",
            "  inflating: /content/data/train/masks/Tuberculoma_T1C+_12_mask.jpg  \n",
            "  inflating: /content/data/train/masks/Tuberculoma_T1C+_15_mask.jpg  \n",
            "  inflating: /content/data/train/masks/Tuberculoma_T1C+_16_mask.jpg  \n",
            "  inflating: /content/data/train/masks/Tuberculoma_T1C+_17_mask.jpg  \n",
            "  inflating: /content/data/train/masks/Tuberculoma_T1C+_18_mask.jpg  \n",
            "  inflating: /content/data/train/masks/Tuberculoma_T1C+_19_mask.jpg  \n",
            "  inflating: /content/data/train/masks/Tuberculoma_T1C+_1_mask.jpg  \n",
            "  inflating: /content/data/train/masks/Tuberculoma_T1C+_22_mask.jpg  \n",
            "  inflating: /content/data/train/masks/Tuberculoma_T1C+_23_mask.jpg  \n",
            "  inflating: /content/data/train/masks/Tuberculoma_T1C+_25_mask.jpg  \n",
            "  inflating: /content/data/train/masks/Tuberculoma_T1C+_26_mask.jpg  \n",
            "  inflating: /content/data/train/masks/Tuberculoma_T1C+_28_mask.jpg  \n",
            "  inflating: /content/data/train/masks/Tuberculoma_T1C+_29_mask.jpg  \n",
            "  inflating: /content/data/train/masks/Tuberculoma_T1C+_2_mask.jpg  \n",
            "  inflating: /content/data/train/masks/Tuberculoma_T1C+_31_mask.jpg  \n",
            "  inflating: /content/data/train/masks/Tuberculoma_T1C+_32_mask.jpg  \n",
            "  inflating: /content/data/train/masks/Tuberculoma_T1C+_33_mask.jpg  \n",
            "  inflating: /content/data/train/masks/Tuberculoma_T1C+_34_mask.jpg  \n",
            "  inflating: /content/data/train/masks/Tuberculoma_T1C+_35_mask.jpg  \n",
            "  inflating: /content/data/train/masks/Tuberculoma_T1C+_36_mask.jpg  \n",
            "  inflating: /content/data/train/masks/Tuberculoma_T1C+_37_mask.jpg  \n",
            "  inflating: /content/data/train/masks/Tuberculoma_T1C+_38_mask.jpg  \n",
            "  inflating: /content/data/train/masks/Tuberculoma_T1C+_39_mask.jpg  \n",
            "  inflating: /content/data/train/masks/Tuberculoma_T1C+_3_mask.jpg  \n",
            "  inflating: /content/data/train/masks/Tuberculoma_T1C+_40_mask.jpg  \n",
            "  inflating: /content/data/train/masks/Tuberculoma_T1C+_41_mask.jpg  \n",
            "  inflating: /content/data/train/masks/Tuberculoma_T1C+_42_mask.jpg  \n",
            "  inflating: /content/data/train/masks/Tuberculoma_T1C+_43_mask.jpg  \n",
            "  inflating: /content/data/train/masks/Tuberculoma_T1C+_44_mask.jpg  \n",
            "  inflating: /content/data/train/masks/Tuberculoma_T1C+_48_mask.jpg  \n",
            "  inflating: /content/data/train/masks/Tuberculoma_T1C+_49_mask.jpg  \n",
            "  inflating: /content/data/train/masks/Tuberculoma_T1C+_4_mask.jpg  \n",
            "  inflating: /content/data/train/masks/Tuberculoma_T1C+_50_mask.jpg  \n",
            "  inflating: /content/data/train/masks/Tuberculoma_T1C+_51_mask.jpg  \n",
            "  inflating: /content/data/train/masks/Tuberculoma_T1C+_52_mask.jpg  \n",
            "  inflating: /content/data/train/masks/Tuberculoma_T1C+_53_mask.jpg  \n",
            "  inflating: /content/data/train/masks/Tuberculoma_T1C+_54_mask.jpg  \n",
            "  inflating: /content/data/train/masks/Tuberculoma_T1C+_55_mask.jpg  \n",
            "  inflating: /content/data/train/masks/Tuberculoma_T1C+_56_mask.jpg  \n",
            "  inflating: /content/data/train/masks/Tuberculoma_T1C+_57_mask.jpg  \n",
            "  inflating: /content/data/train/masks/Tuberculoma_T1C+_58_mask.jpg  \n",
            "  inflating: /content/data/train/masks/Tuberculoma_T1C+_59_mask.jpg  \n",
            "  inflating: /content/data/train/masks/Tuberculoma_T1C+_5_mask.jpg  \n",
            "  inflating: /content/data/train/masks/Tuberculoma_T1C+_60_mask.jpg  \n",
            "  inflating: /content/data/train/masks/Tuberculoma_T1C+_61_mask.jpg  \n",
            "  inflating: /content/data/train/masks/Tuberculoma_T1C+_63_mask.jpg  \n",
            "  inflating: /content/data/train/masks/Tuberculoma_T1C+_65_mask.jpg  \n",
            "  inflating: /content/data/train/masks/Tuberculoma_T1C+_66_mask.jpg  \n",
            "  inflating: /content/data/train/masks/Tuberculoma_T1C+_67_mask.jpg  \n",
            "  inflating: /content/data/train/masks/Tuberculoma_T1C+_68_mask.jpg  \n",
            "  inflating: /content/data/train/masks/Tuberculoma_T1C+_6_mask.jpg  \n",
            "  inflating: /content/data/train/masks/Tuberculoma_T1C+_70_mask.jpg  \n",
            "  inflating: /content/data/train/masks/Tuberculoma_T1C+_71_mask.jpg  \n",
            "  inflating: /content/data/train/masks/Tuberculoma_T1C+_72_mask.jpg  \n",
            "  inflating: /content/data/train/masks/Tuberculoma_T1C+_73_mask.jpg  \n",
            "  inflating: /content/data/train/masks/Tuberculoma_T1C+_74_mask.jpg  \n",
            "  inflating: /content/data/train/masks/Tuberculoma_T1C+_75_mask.jpg  \n",
            "  inflating: /content/data/train/masks/Tuberculoma_T1C+_76_mask.jpg  \n",
            "  inflating: /content/data/train/masks/Tuberculoma_T1C+_77_mask.jpg  \n",
            "  inflating: /content/data/train/masks/Tuberculoma_T1C+_79_mask.jpg  \n",
            "  inflating: /content/data/train/masks/Tuberculoma_T1C+_7_mask.jpg  \n",
            "  inflating: /content/data/train/masks/Tuberculoma_T1C+_80_mask.jpg  \n",
            "  inflating: /content/data/train/masks/Tuberculoma_T1C+_81_mask.jpg  \n",
            "  inflating: /content/data/train/masks/Tuberculoma_T1C+_82_mask.jpg  \n",
            "  inflating: /content/data/train/masks/Tuberculoma_T1C+_83_mask.jpg  \n",
            "  inflating: /content/data/train/masks/Tuberculoma_T1C+_84_mask.jpg  \n",
            "  inflating: /content/data/train/masks/Tuberculoma_T1C+_8_mask.jpg  \n",
            "  inflating: /content/data/train/masks/Tuberculoma_T1C+_9_mask.jpg  \n",
            "  inflating: /content/data/train/masks/Tuberculoma_T1_10_mask.jpg  \n",
            "  inflating: /content/data/train/masks/Tuberculoma_T1_11_mask.jpg  \n",
            "  inflating: /content/data/train/masks/Tuberculoma_T1_12_mask.jpg  \n",
            "  inflating: /content/data/train/masks/Tuberculoma_T1_13_mask.jpg  \n",
            "  inflating: /content/data/train/masks/Tuberculoma_T1_14_mask.jpg  \n",
            "  inflating: /content/data/train/masks/Tuberculoma_T1_15_mask.jpg  \n",
            "  inflating: /content/data/train/masks/Tuberculoma_T1_16_mask.jpg  \n",
            "  inflating: /content/data/train/masks/Tuberculoma_T1_17_mask.jpg  \n",
            "  inflating: /content/data/train/masks/Tuberculoma_T1_18_mask.jpg  \n",
            "  inflating: /content/data/train/masks/Tuberculoma_T1_19_mask.jpg  \n",
            "  inflating: /content/data/train/masks/Tuberculoma_T1_21_mask.jpg  \n",
            "  inflating: /content/data/train/masks/Tuberculoma_T1_22_mask.jpg  \n",
            "  inflating: /content/data/train/masks/Tuberculoma_T1_24_mask.jpg  \n",
            "  inflating: /content/data/train/masks/Tuberculoma_T1_25_mask.jpg  \n",
            "  inflating: /content/data/train/masks/Tuberculoma_T1_27_mask.jpg  \n",
            "  inflating: /content/data/train/masks/Tuberculoma_T1_2_mask.jpg  \n",
            "  inflating: /content/data/train/masks/Tuberculoma_T1_3_mask.jpg  \n",
            "  inflating: /content/data/train/masks/Tuberculoma_T1_5_mask.jpg  \n",
            "  inflating: /content/data/train/masks/Tuberculoma_T1_6_mask.jpg  \n",
            "  inflating: /content/data/train/masks/Tuberculoma_T2_10_mask.jpg  \n",
            "  inflating: /content/data/train/masks/Tuberculoma_T2_11_mask.jpg  \n",
            "  inflating: /content/data/train/masks/Tuberculoma_T2_12_mask.jpg  \n",
            "  inflating: /content/data/train/masks/Tuberculoma_T2_13_mask.jpg  \n",
            "  inflating: /content/data/train/masks/Tuberculoma_T2_15_mask.jpg  \n",
            "  inflating: /content/data/train/masks/Tuberculoma_T2_16_mask.jpg  \n",
            "  inflating: /content/data/train/masks/Tuberculoma_T2_17_mask.jpg  \n",
            "  inflating: /content/data/train/masks/Tuberculoma_T2_18_mask.jpg  \n",
            "  inflating: /content/data/train/masks/Tuberculoma_T2_19_mask.jpg  \n",
            "  inflating: /content/data/train/masks/Tuberculoma_T2_1_mask.jpg  \n",
            "  inflating: /content/data/train/masks/Tuberculoma_T2_20_mask.jpg  \n",
            "  inflating: /content/data/train/masks/Tuberculoma_T2_21_mask.jpg  \n",
            "  inflating: /content/data/train/masks/Tuberculoma_T2_22_mask.jpg  \n",
            "  inflating: /content/data/train/masks/Tuberculoma_T2_23_mask.jpg  \n",
            "  inflating: /content/data/train/masks/Tuberculoma_T2_24_mask.jpg  \n",
            "  inflating: /content/data/train/masks/Tuberculoma_T2_25_mask.jpg  \n",
            "  inflating: /content/data/train/masks/Tuberculoma_T2_27_mask.jpg  \n",
            "  inflating: /content/data/train/masks/Tuberculoma_T2_29_mask.jpg  \n",
            "  inflating: /content/data/train/masks/Tuberculoma_T2_2_mask.jpg  \n",
            "  inflating: /content/data/train/masks/Tuberculoma_T2_30_mask.jpg  \n",
            "  inflating: /content/data/train/masks/Tuberculoma_T2_33_mask.jpg  \n",
            "  inflating: /content/data/train/masks/Tuberculoma_T2_3_mask.jpg  \n",
            "  inflating: /content/data/train/masks/Tuberculoma_T2_4_mask.jpg  \n",
            "  inflating: /content/data/train/masks/Tuberculoma_T2_5_mask.jpg  \n",
            "  inflating: /content/data/train/masks/Tuberculoma_T2_6_mask.jpg  \n",
            "  inflating: /content/data/train/masks/Tuberculoma_T2_7_mask.jpg  \n",
            "  inflating: /content/data/train/masks/Tuberculoma_T2_9_mask.jpg  \n",
            "   creating: /content/data/val/\n",
            "   creating: /content/data/val/images/\n",
            "  inflating: /content/data/val/images/Astrocitoma_T1C+_104.jpeg  \n",
            "  inflating: /content/data/val/images/Astrocitoma_T1C+_112.jpeg  \n",
            "  inflating: /content/data/val/images/Astrocitoma_T1C+_113.jpeg  \n",
            "  inflating: /content/data/val/images/Astrocitoma_T1C+_114.jpeg  \n",
            "  inflating: /content/data/val/images/Astrocitoma_T1C+_123.jpg  \n",
            "  inflating: /content/data/val/images/Astrocitoma_T1C+_136.jpeg  \n",
            "  inflating: /content/data/val/images/Astrocitoma_T1C+_143.jpeg  \n",
            "  inflating: /content/data/val/images/Astrocitoma_T1C+_146.jpeg  \n",
            "  inflating: /content/data/val/images/Astrocitoma_T1C+_155.jpeg  \n",
            "  inflating: /content/data/val/images/Astrocitoma_T1C+_159.jpeg  \n",
            "  inflating: /content/data/val/images/Astrocitoma_T1C+_16.jpeg  \n",
            "  inflating: /content/data/val/images/Astrocitoma_T1C+_171.jpeg  \n",
            "  inflating: /content/data/val/images/Astrocitoma_T1C+_173.jpeg  \n",
            "  inflating: /content/data/val/images/Astrocitoma_T1C+_174.jpeg  \n",
            "  inflating: /content/data/val/images/Astrocitoma_T1C+_189.jpeg  \n",
            "  inflating: /content/data/val/images/Astrocitoma_T1C+_200.jpeg  \n",
            "  inflating: /content/data/val/images/Astrocitoma_T1C+_219.jpeg  \n",
            "  inflating: /content/data/val/images/Astrocitoma_T1C+_220.jpeg  \n",
            "  inflating: /content/data/val/images/Astrocitoma_T1C+_228.jpeg  \n",
            "  inflating: /content/data/val/images/Astrocitoma_T1C+_28.jpeg  \n",
            "  inflating: /content/data/val/images/Astrocitoma_T1C+_31.jpeg  \n",
            "  inflating: /content/data/val/images/Astrocitoma_T1C+_35.jpeg  \n",
            "  inflating: /content/data/val/images/Astrocitoma_T1C+_45.jpeg  \n",
            "  inflating: /content/data/val/images/Astrocitoma_T1C+_63.jpg  \n",
            "  inflating: /content/data/val/images/Astrocitoma_T1C+_94.jpg  \n",
            "  inflating: /content/data/val/images/Astrocitoma_T1C+_99.jpeg  \n",
            "  inflating: /content/data/val/images/Astrocitoma_T1_112.jpeg  \n",
            "  inflating: /content/data/val/images/Astrocitoma_T1_120.jpeg  \n",
            "  inflating: /content/data/val/images/Astrocitoma_T1_123.jpeg  \n",
            "  inflating: /content/data/val/images/Astrocitoma_T1_124.jpeg  \n",
            "  inflating: /content/data/val/images/Astrocitoma_T1_13.jpeg  \n",
            "  inflating: /content/data/val/images/Astrocitoma_T1_144.jpeg  \n",
            "  inflating: /content/data/val/images/Astrocitoma_T1_164.jpeg  \n",
            "  inflating: /content/data/val/images/Astrocitoma_T1_3.jpeg  \n",
            "  inflating: /content/data/val/images/Astrocitoma_T1_40.jpeg  \n",
            "  inflating: /content/data/val/images/Astrocitoma_T1_45.jpg  \n",
            "  inflating: /content/data/val/images/Astrocitoma_T1_55.jpeg  \n",
            "  inflating: /content/data/val/images/Astrocitoma_T1_62.jpg  \n",
            "  inflating: /content/data/val/images/Astrocitoma_T1_70.jpeg  \n",
            "  inflating: /content/data/val/images/Astrocitoma_T1_82.jpeg  \n",
            "  inflating: /content/data/val/images/Astrocitoma_T1_83.jpeg  \n",
            "  inflating: /content/data/val/images/Astrocitoma_T1_91.jpeg  \n",
            "  inflating: /content/data/val/images/Astrocitoma_T2_100.jpeg  \n",
            "  inflating: /content/data/val/images/Astrocitoma_T2_102.jpg  \n",
            "  inflating: /content/data/val/images/Astrocitoma_T2_122.jpg  \n",
            "  inflating: /content/data/val/images/Astrocitoma_T2_125.jpeg  \n",
            "  inflating: /content/data/val/images/Astrocitoma_T2_128.jpg  \n",
            "  inflating: /content/data/val/images/Astrocitoma_T2_13.jpeg  \n",
            "  inflating: /content/data/val/images/Astrocitoma_T2_140.jpeg  \n",
            "  inflating: /content/data/val/images/Astrocitoma_T2_145.jpeg  \n",
            "  inflating: /content/data/val/images/Astrocitoma_T2_150.jpeg  \n",
            "  inflating: /content/data/val/images/Astrocitoma_T2_16.jpeg  \n",
            "  inflating: /content/data/val/images/Astrocitoma_T2_2.jpeg  \n",
            "  inflating: /content/data/val/images/Astrocitoma_T2_29.jpg  \n",
            "  inflating: /content/data/val/images/Astrocitoma_T2_35.jpeg  \n",
            "  inflating: /content/data/val/images/Astrocitoma_T2_48.jpeg  \n",
            "  inflating: /content/data/val/images/Astrocitoma_T2_56.jpeg  \n",
            "  inflating: /content/data/val/images/Astrocitoma_T2_76.jpeg  \n",
            "  inflating: /content/data/val/images/Astrocitoma_T2_8.jpeg  \n",
            "  inflating: /content/data/val/images/Carcinoma_T1C+_103.jpeg  \n",
            "  inflating: /content/data/val/images/Carcinoma_T1C+_109.jpeg  \n",
            "  inflating: /content/data/val/images/Carcinoma_T1C+_111.jpeg  \n",
            "  inflating: /content/data/val/images/Carcinoma_T1C+_21.jpeg  \n",
            "  inflating: /content/data/val/images/Carcinoma_T1C+_58.jpeg  \n",
            "  inflating: /content/data/val/images/Carcinoma_T1C+_81.jpeg  \n",
            "  inflating: /content/data/val/images/Carcinoma_T1C+_86.jpeg  \n",
            "  inflating: /content/data/val/images/Carcinoma_T1C+_91.jpeg  \n",
            "  inflating: /content/data/val/images/Carcinoma_T1_20.jpeg  \n",
            "  inflating: /content/data/val/images/Carcinoma_T1_3.jpeg  \n",
            "  inflating: /content/data/val/images/Carcinoma_T1_44.jpeg  \n",
            "  inflating: /content/data/val/images/Carcinoma_T1_45.jpeg  \n",
            "  inflating: /content/data/val/images/Carcinoma_T1_50.jpeg  \n",
            "  inflating: /content/data/val/images/Carcinoma_T1_51.jpeg  \n",
            "  inflating: /content/data/val/images/Carcinoma_T1_58.jpeg  \n",
            "  inflating: /content/data/val/images/Carcinoma_T1_59.jpeg  \n",
            "  inflating: /content/data/val/images/Carcinoma_T2_12.jpeg  \n",
            "  inflating: /content/data/val/images/Carcinoma_T2_2.jpeg  \n",
            "  inflating: /content/data/val/images/Carcinoma_T2_27.jpg  \n",
            "  inflating: /content/data/val/images/Carcinoma_T2_32.jpeg  \n",
            "  inflating: /content/data/val/images/Carcinoma_T2_56.jpeg  \n",
            "  inflating: /content/data/val/images/Carcinoma_T2_59.jpeg  \n",
            "  inflating: /content/data/val/images/Carcinoma_T2_6.jpeg  \n",
            "  inflating: /content/data/val/images/Carcinoma_T2_62.jpeg  \n",
            "  inflating: /content/data/val/images/Carcinoma_T2_8.jpeg  \n",
            "  inflating: /content/data/val/images/Carcinoma_T2_9.jpeg  \n",
            "  inflating: /content/data/val/images/Ependimoma_T1C+_12.jpeg  \n",
            "  inflating: /content/data/val/images/Ependimoma_T1C+_19.jpeg  \n",
            "  inflating: /content/data/val/images/Ependimoma_T1C+_25.jpeg  \n",
            "  inflating: /content/data/val/images/Ependimoma_T1C+_38.jpeg  \n",
            "  inflating: /content/data/val/images/Ependimoma_T1C+_42.jpeg  \n",
            "  inflating: /content/data/val/images/Ependimoma_T1C+_45.jpg  \n",
            "  inflating: /content/data/val/images/Ependimoma_T1C+_9.jpeg  \n",
            "  inflating: /content/data/val/images/Ependimoma_T1_28.jpeg  \n",
            "  inflating: /content/data/val/images/Ependimoma_T1_31.jpeg  \n",
            "  inflating: /content/data/val/images/Ependimoma_T1_8.jpeg  \n",
            "  inflating: /content/data/val/images/Ependimoma_T2_40.jpg  \n",
            "  inflating: /content/data/val/images/Ependimoma_T2_46.jpg  \n",
            "  inflating: /content/data/val/images/Ependimoma_T2_50.jpeg  \n",
            "  inflating: /content/data/val/images/Ependimoma_T2_54.jpeg  \n",
            "  inflating: /content/data/val/images/Ependimoma_T2_57.jpg  \n",
            "  inflating: /content/data/val/images/Ependimoma_T2_7.jpg  \n",
            "  inflating: /content/data/val/images/Ganglioglioma_T1C+_11.jpg  \n",
            "  inflating: /content/data/val/images/Ganglioglioma_T1C+_4.jpeg  \n",
            "  inflating: /content/data/val/images/Ganglioglioma_T1C+_9.jpg  \n",
            "  inflating: /content/data/val/images/Ganglioglioma_T1_1.jpeg  \n",
            "  inflating: /content/data/val/images/Ganglioglioma_T1_7.jpg  \n",
            "  inflating: /content/data/val/images/Ganglioglioma_T2_13.jpg  \n",
            "  inflating: /content/data/val/images/Ganglioglioma_T2_8.jpg  \n",
            "  inflating: /content/data/val/images/Germinoma_T1C+_1.jpeg  \n",
            "  inflating: /content/data/val/images/Germinoma_T1C+_18.jpeg  \n",
            "  inflating: /content/data/val/images/Germinoma_T1C+_19.jpeg  \n",
            "  inflating: /content/data/val/images/Germinoma_T1C+_36.jpeg  \n",
            "  inflating: /content/data/val/images/Germinoma_T1_22.jpg  \n",
            "  inflating: /content/data/val/images/Germinoma_T1_5.jpg  \n",
            "  inflating: /content/data/val/images/Germinoma_T2_15.jpeg  \n",
            "  inflating: /content/data/val/images/Germinoma_T2_17.JPG  \n",
            "  inflating: /content/data/val/images/Germinoma_T2_2.jpeg  \n",
            "  inflating: /content/data/val/images/Germinoma_T2_30.JPG  \n",
            "  inflating: /content/data/val/images/Germinoma_T2_32.jpeg  \n",
            "  inflating: /content/data/val/images/Glioblastoma_T1C+_21.jpg  \n",
            "  inflating: /content/data/val/images/Glioblastoma_T1C+_30.jpeg  \n",
            "  inflating: /content/data/val/images/Glioblastoma_T1C+_31.jpeg  \n",
            "  inflating: /content/data/val/images/Glioblastoma_T1C+_32.jpeg  \n",
            "  inflating: /content/data/val/images/Glioblastoma_T1C+_44.jpeg  \n",
            "  inflating: /content/data/val/images/Glioblastoma_T1C+_72.jpeg  \n",
            "  inflating: /content/data/val/images/Glioblastoma_T1C+_73.jpeg  \n",
            "  inflating: /content/data/val/images/Glioblastoma_T1_1.jpeg  \n",
            "  inflating: /content/data/val/images/Glioblastoma_T1_16.jpeg  \n",
            "  inflating: /content/data/val/images/Glioblastoma_T1_25.jpeg  \n",
            "  inflating: /content/data/val/images/Glioblastoma_T1_47.jpeg  \n",
            "  inflating: /content/data/val/images/Glioblastoma_T1_53.jpeg  \n",
            "  inflating: /content/data/val/images/Glioblastoma_T2_14.jpeg  \n",
            "  inflating: /content/data/val/images/Glioblastoma_T2_25.jpeg  \n",
            "  inflating: /content/data/val/images/Glioblastoma_T2_3.jpeg  \n",
            "  inflating: /content/data/val/images/Glioblastoma_T2_30.jpeg  \n",
            "  inflating: /content/data/val/images/Glioblastoma_T2_35.jpeg  \n",
            "  inflating: /content/data/val/images/Glioblastoma_T2_39.jpeg  \n",
            "  inflating: /content/data/val/images/Glioblastoma_T2_40.jpeg  \n",
            "  inflating: /content/data/val/images/Glioblastoma_T2_52.jpeg  \n",
            "  inflating: /content/data/val/images/Glioblastoma_T2_54.jpeg  \n",
            "  inflating: /content/data/val/images/Granuloma_T1C+_20.jpeg  \n",
            "  inflating: /content/data/val/images/Granuloma_T1_11.jpeg  \n",
            "  inflating: /content/data/val/images/Granuloma_T1_20.jpeg  \n",
            "  inflating: /content/data/val/images/Granuloma_T1_30.jpeg  \n",
            "  inflating: /content/data/val/images/Granuloma_T1_6.jpg  \n",
            "  inflating: /content/data/val/images/Granuloma_T2_11.jpeg  \n",
            "  inflating: /content/data/val/images/Granuloma_T2_17.jpeg  \n",
            "  inflating: /content/data/val/images/Granuloma_T2_2.jpeg  \n",
            "  inflating: /content/data/val/images/Meduloblastoma_T1C+_15.jpeg  \n",
            "  inflating: /content/data/val/images/Meduloblastoma_T1C+_29.jpeg  \n",
            "  inflating: /content/data/val/images/Meduloblastoma_T1C+_30.jpeg  \n",
            "  inflating: /content/data/val/images/Meduloblastoma_T1C+_45.jpeg  \n",
            "  inflating: /content/data/val/images/Meduloblastoma_T1C+_55.jpeg  \n",
            "  inflating: /content/data/val/images/Meduloblastoma_T1C+_9.jpeg  \n",
            "  inflating: /content/data/val/images/Meduloblastoma_T1_1.jpeg  \n",
            "  inflating: /content/data/val/images/Meduloblastoma_T2_12.jpeg  \n",
            "  inflating: /content/data/val/images/Meduloblastoma_T2_15.jpeg  \n",
            "  inflating: /content/data/val/images/Meduloblastoma_T2_17.jpeg  \n",
            "  inflating: /content/data/val/images/Meduloblastoma_T2_3.jpg  \n",
            "  inflating: /content/data/val/images/Meduloblastoma_T2_38.jpg  \n",
            "  inflating: /content/data/val/images/Meduloblastoma_T2_40.jpeg  \n",
            "  inflating: /content/data/val/images/Meduloblastoma_T2_41.jpeg  \n",
            "  inflating: /content/data/val/images/Meningioma_T1C+_100.jpg  \n",
            "  inflating: /content/data/val/images/Meningioma_T1C+_101.jpg  \n",
            "  inflating: /content/data/val/images/Meningioma_T1C+_104.jpg  \n",
            "  inflating: /content/data/val/images/Meningioma_T1C+_106.jpg  \n",
            "  inflating: /content/data/val/images/Meningioma_T1C+_119.jpg  \n",
            "  inflating: /content/data/val/images/Meningioma_T1C+_121.jpg  \n",
            "  inflating: /content/data/val/images/Meningioma_T1C+_122.jpg  \n",
            "  inflating: /content/data/val/images/Meningioma_T1C+_124.jpg  \n",
            "  inflating: /content/data/val/images/Meningioma_T1C+_126.jpg  \n",
            "  inflating: /content/data/val/images/Meningioma_T1C+_128.jpg  \n",
            "  inflating: /content/data/val/images/Meningioma_T1C+_136.jpg  \n",
            "  inflating: /content/data/val/images/Meningioma_T1C+_138.jpg  \n",
            "  inflating: /content/data/val/images/Meningioma_T1C+_14.jpeg  \n",
            "  inflating: /content/data/val/images/Meningioma_T1C+_150.jpg  \n",
            "  inflating: /content/data/val/images/Meningioma_T1C+_16.jpeg  \n",
            "  inflating: /content/data/val/images/Meningioma_T1C+_162.jpg  \n",
            "  inflating: /content/data/val/images/Meningioma_T1C+_166.jpg  \n",
            "  inflating: /content/data/val/images/Meningioma_T1C+_172.jpg  \n",
            "  inflating: /content/data/val/images/Meningioma_T1C+_191.jpg  \n",
            "  inflating: /content/data/val/images/Meningioma_T1C+_194.jpg  \n",
            "  inflating: /content/data/val/images/Meningioma_T1C+_245.jpeg  \n",
            "  inflating: /content/data/val/images/Meningioma_T1C+_251.jpeg  \n",
            "  inflating: /content/data/val/images/Meningioma_T1C+_264.jpg  \n",
            "  inflating: /content/data/val/images/Meningioma_T1C+_268.jpeg  \n",
            "  inflating: /content/data/val/images/Meningioma_T1C+_271.jpg  \n",
            "  inflating: /content/data/val/images/Meningioma_T1C+_278.jpg  \n",
            "  inflating: /content/data/val/images/Meningioma_T1C+_28.jpeg  \n",
            "  inflating: /content/data/val/images/Meningioma_T1C+_282.jpeg  \n",
            "  inflating: /content/data/val/images/Meningioma_T1C+_292.jpg  \n",
            "  inflating: /content/data/val/images/Meningioma_T1C+_298.jpeg  \n",
            "  inflating: /content/data/val/images/Meningioma_T1C+_3.jpg  \n",
            "  inflating: /content/data/val/images/Meningioma_T1C+_321.jpeg  \n",
            "  inflating: /content/data/val/images/Meningioma_T1C+_325.jpeg  \n",
            "  inflating: /content/data/val/images/Meningioma_T1C+_355.jpeg  \n",
            "  inflating: /content/data/val/images/Meningioma_T1C+_367.jpeg  \n",
            "  inflating: /content/data/val/images/Meningioma_T1C+_40.jpg  \n",
            "  inflating: /content/data/val/images/Meningioma_T1C+_41.jpg  \n",
            "  inflating: /content/data/val/images/Meningioma_T1C+_53.jpg  \n",
            "  inflating: /content/data/val/images/Meningioma_T1C+_73.jpg  \n",
            "  inflating: /content/data/val/images/Meningioma_T1C+_94.jpg  \n",
            "  inflating: /content/data/val/images/Meningioma_T1_101.jpg  \n",
            "  inflating: /content/data/val/images/Meningioma_T1_102.jpg  \n",
            "  inflating: /content/data/val/images/Meningioma_T1_106.jpg  \n",
            "  inflating: /content/data/val/images/Meningioma_T1_123.jpg  \n",
            "  inflating: /content/data/val/images/Meningioma_T1_130.jpg  \n",
            "  inflating: /content/data/val/images/Meningioma_T1_151.jpeg  \n",
            "  inflating: /content/data/val/images/Meningioma_T1_156.jpeg  \n",
            "  inflating: /content/data/val/images/Meningioma_T1_157.jpeg  \n",
            "  inflating: /content/data/val/images/Meningioma_T1_160.jpeg  \n",
            "  inflating: /content/data/val/images/Meningioma_T1_19.jpeg  \n",
            "  inflating: /content/data/val/images/Meningioma_T1_193.jpeg  \n",
            "  inflating: /content/data/val/images/Meningioma_T1_202.jpeg  \n",
            "  inflating: /content/data/val/images/Meningioma_T1_205.jpeg  \n",
            "  inflating: /content/data/val/images/Meningioma_T1_222.jpeg  \n",
            "  inflating: /content/data/val/images/Meningioma_T1_229.jpeg  \n",
            "  inflating: /content/data/val/images/Meningioma_T1_252.jpeg  \n",
            "  inflating: /content/data/val/images/Meningioma_T1_29.jpeg  \n",
            "  inflating: /content/data/val/images/Meningioma_T1_31.jpg  \n",
            "  inflating: /content/data/val/images/Meningioma_T1_43.jpg  \n",
            "  inflating: /content/data/val/images/Meningioma_T1_50.jpg  \n",
            "  inflating: /content/data/val/images/Meningioma_T1_57.jpg  \n",
            "  inflating: /content/data/val/images/Meningioma_T1_72.jpg  \n",
            "  inflating: /content/data/val/images/Meningioma_T1_75.jpg  \n",
            "  inflating: /content/data/val/images/Meningioma_T1_8.jpg  \n",
            "  inflating: /content/data/val/images/Meningioma_T1_94.jpg  \n",
            "  inflating: /content/data/val/images/Meningioma_T2_10.jpeg  \n",
            "  inflating: /content/data/val/images/Meningioma_T2_112.jpg  \n",
            "  inflating: /content/data/val/images/Meningioma_T2_124.jpg  \n",
            "  inflating: /content/data/val/images/Meningioma_T2_125.jpg  \n",
            "  inflating: /content/data/val/images/Meningioma_T2_133.jpg  \n",
            "  inflating: /content/data/val/images/Meningioma_T2_148.jpeg  \n",
            "  inflating: /content/data/val/images/Meningioma_T2_159.jpeg  \n",
            "  inflating: /content/data/val/images/Meningioma_T2_160.jpeg  \n",
            "  inflating: /content/data/val/images/Meningioma_T2_161.jpeg  \n",
            "  inflating: /content/data/val/images/Meningioma_T2_17.jpg  \n",
            "  inflating: /content/data/val/images/Meningioma_T2_178.jpeg  \n",
            "  inflating: /content/data/val/images/Meningioma_T2_182.jpeg  \n",
            "  inflating: /content/data/val/images/Meningioma_T2_184.jpeg  \n",
            "  inflating: /content/data/val/images/Meningioma_T2_191.jpeg  \n",
            "  inflating: /content/data/val/images/Meningioma_T2_202.jpeg  \n",
            "  inflating: /content/data/val/images/Meningioma_T2_208.jpeg  \n",
            "  inflating: /content/data/val/images/Meningioma_T2_216.jpeg  \n",
            "  inflating: /content/data/val/images/Meningioma_T2_221.jpeg  \n",
            "  inflating: /content/data/val/images/Meningioma_T2_39.jpg  \n",
            "  inflating: /content/data/val/images/Meningioma_T2_71.jpg  \n",
            "  inflating: /content/data/val/images/Meningioma_T2_74.jpg  \n",
            "  inflating: /content/data/val/images/Meningioma_T2_80.jpg  \n",
            "  inflating: /content/data/val/images/Meningioma_T2_91.jpg  \n",
            "  inflating: /content/data/val/images/Neurocitoma_T1C+_103.jpg  \n",
            "  inflating: /content/data/val/images/Neurocitoma_T1C+_105.jpg  \n",
            "  inflating: /content/data/val/images/Neurocitoma_T1C+_16.jpeg  \n",
            "  inflating: /content/data/val/images/Neurocitoma_T1C+_160.jpeg  \n",
            "  inflating: /content/data/val/images/Neurocitoma_T1C+_175.jpeg  \n",
            "  inflating: /content/data/val/images/Neurocitoma_T1C+_177.jpeg  \n",
            "  inflating: /content/data/val/images/Neurocitoma_T1C+_182.jpeg  \n",
            "  inflating: /content/data/val/images/Neurocitoma_T1C+_183.jpeg  \n",
            "  inflating: /content/data/val/images/Neurocitoma_T1C+_185.jpeg  \n",
            "  inflating: /content/data/val/images/Neurocitoma_T1C+_204.jpeg  \n",
            "  inflating: /content/data/val/images/Neurocitoma_T1C+_208.jpeg  \n",
            "  inflating: /content/data/val/images/Neurocitoma_T1C+_21.jpeg  \n",
            "  inflating: /content/data/val/images/Neurocitoma_T1C+_29.jpeg  \n",
            "  inflating: /content/data/val/images/Neurocitoma_T1C+_50.jpg  \n",
            "  inflating: /content/data/val/images/Neurocitoma_T1C+_55.jpg  \n",
            "  inflating: /content/data/val/images/Neurocitoma_T1C+_66.jpg  \n",
            "  inflating: /content/data/val/images/Neurocitoma_T1C+_8.jpeg  \n",
            "  inflating: /content/data/val/images/Neurocitoma_T1C+_86.jpg  \n",
            "  inflating: /content/data/val/images/Neurocitoma_T1C+_90.jpg  \n",
            "  inflating: /content/data/val/images/Neurocitoma_T1_107.jpeg  \n",
            "  inflating: /content/data/val/images/Neurocitoma_T1_108.jpeg  \n",
            "  inflating: /content/data/val/images/Neurocitoma_T1_116.jpeg  \n",
            "  inflating: /content/data/val/images/Neurocitoma_T1_119.jpeg  \n",
            "  inflating: /content/data/val/images/Neurocitoma_T1_123.jpeg  \n",
            "  inflating: /content/data/val/images/Neurocitoma_T1_125.jpeg  \n",
            "  inflating: /content/data/val/images/Neurocitoma_T1_35.jpg  \n",
            "  inflating: /content/data/val/images/Neurocitoma_T1_47.jpeg  \n",
            "  inflating: /content/data/val/images/Neurocitoma_T1_50.jpeg  \n",
            "  inflating: /content/data/val/images/Neurocitoma_T1_60.jpeg  \n",
            "  inflating: /content/data/val/images/Neurocitoma_T1_66.jpeg  \n",
            "  inflating: /content/data/val/images/Neurocitoma_T1_70.jpeg  \n",
            "  inflating: /content/data/val/images/Neurocitoma_T1_8.jpg  \n",
            "  inflating: /content/data/val/images/Neurocitoma_T1_88.jpeg  \n",
            "  inflating: /content/data/val/images/Neurocitoma_T1_89.jpeg  \n",
            "  inflating: /content/data/val/images/Neurocitoma_T1_96.jpeg  \n",
            "  inflating: /content/data/val/images/Neurocitoma_T2_103.jpeg  \n",
            "  inflating: /content/data/val/images/Neurocitoma_T2_21.jpeg  \n",
            "  inflating: /content/data/val/images/Neurocitoma_T2_36.jpeg  \n",
            "  inflating: /content/data/val/images/Neurocitoma_T2_39.jpeg  \n",
            "  inflating: /content/data/val/images/Neurocitoma_T2_60.jpeg  \n",
            "  inflating: /content/data/val/images/Neurocitoma_T2_61.jpeg  \n",
            "  inflating: /content/data/val/images/Neurocitoma_T2_67.jpeg  \n",
            "  inflating: /content/data/val/images/Neurocitoma_T2_74.jpeg  \n",
            "  inflating: /content/data/val/images/Neurocitoma_T2_77.jpeg  \n",
            "  inflating: /content/data/val/images/Neurocitoma_T2_79.jpeg  \n",
            "  inflating: /content/data/val/images/Neurocitoma_T2_91.jpeg  \n",
            "  inflating: /content/data/val/images/Oligodendroglioma_T1C+_10.jpeg  \n",
            "  inflating: /content/data/val/images/Oligodendroglioma_T1C+_38.jpeg  \n",
            "  inflating: /content/data/val/images/Oligodendroglioma_T1C+_4.jpeg  \n",
            "  inflating: /content/data/val/images/Oligodendroglioma_T1C+_40.jpeg  \n",
            "  inflating: /content/data/val/images/Oligodendroglioma_T1C+_52.jpeg  \n",
            "  inflating: /content/data/val/images/Oligodendroglioma_T1C+_53.jpeg  \n",
            "  inflating: /content/data/val/images/Oligodendroglioma_T1C+_55.jpeg  \n",
            "  inflating: /content/data/val/images/Oligodendroglioma_T1_17.jpeg  \n",
            "  inflating: /content/data/val/images/Oligodendroglioma_T1_26.jpeg  \n",
            "  inflating: /content/data/val/images/Oligodendroglioma_T1_36.jpeg  \n",
            "  inflating: /content/data/val/images/Oligodendroglioma_T1_48.jpeg  \n",
            "  inflating: /content/data/val/images/Oligodendroglioma_T1_55.jpeg  \n",
            "  inflating: /content/data/val/images/Oligodendroglioma_T1_61.jpeg  \n",
            "  inflating: /content/data/val/images/Oligodendroglioma_T1_63.jpeg  \n",
            "  inflating: /content/data/val/images/Oligodendroglioma_T2_15.jpeg  \n",
            "  inflating: /content/data/val/images/Oligodendroglioma_T2_20.jpeg  \n",
            "  inflating: /content/data/val/images/Oligodendroglioma_T2_21.jpeg  \n",
            "  inflating: /content/data/val/images/Oligodendroglioma_T2_25.jpeg  \n",
            "  inflating: /content/data/val/images/Oligodendroglioma_T2_48.jpeg  \n",
            "  inflating: /content/data/val/images/Oligodendroglioma_T2_54.jpeg  \n",
            "  inflating: /content/data/val/images/Oligodendroglioma_T2_55.jpeg  \n",
            "  inflating: /content/data/val/images/Oligodendroglioma_T2_64.jpeg  \n",
            "  inflating: /content/data/val/images/Oligodendroglioma_T2_66.jpeg  \n",
            "  inflating: /content/data/val/images/Papiloma_T1C+_103.jpeg  \n",
            "  inflating: /content/data/val/images/Papiloma_T1C+_13.jpg  \n",
            "  inflating: /content/data/val/images/Papiloma_T1C+_21.jpg  \n",
            "  inflating: /content/data/val/images/Papiloma_T1C+_46.jpg  \n",
            "  inflating: /content/data/val/images/Papiloma_T1C+_5.jpeg  \n",
            "  inflating: /content/data/val/images/Papiloma_T1C+_55.jpg  \n",
            "  inflating: /content/data/val/images/Papiloma_T1C+_56.jpg  \n",
            "  inflating: /content/data/val/images/Papiloma_T1C+_66.jpg  \n",
            "  inflating: /content/data/val/images/Papiloma_T1C+_72.jpg  \n",
            "  inflating: /content/data/val/images/Papiloma_T1C+_78.jpg  \n",
            "  inflating: /content/data/val/images/Papiloma_T1C+_87.jpeg  \n",
            "  inflating: /content/data/val/images/Papiloma_T1C+_88.jpeg  \n",
            "  inflating: /content/data/val/images/Papiloma_T1C+_90.jpeg  \n",
            "  inflating: /content/data/val/images/Papiloma_T1_15.jpg  \n",
            "  inflating: /content/data/val/images/Papiloma_T1_31.jpg  \n",
            "  inflating: /content/data/val/images/Papiloma_T1_33.jpeg  \n",
            "  inflating: /content/data/val/images/Papiloma_T1_47.jpeg  \n",
            "  inflating: /content/data/val/images/Papiloma_T1_48.jpeg  \n",
            "  inflating: /content/data/val/images/Papiloma_T1_60.jpeg  \n",
            "  inflating: /content/data/val/images/Papiloma_T1_65.jpg  \n",
            "  inflating: /content/data/val/images/Papiloma_T1_7.jpg  \n",
            "  inflating: /content/data/val/images/Papiloma_T2_29.jpeg  \n",
            "  inflating: /content/data/val/images/Papiloma_T2_39.jpeg  \n",
            "  inflating: /content/data/val/images/Papiloma_T2_47.jpeg  \n",
            "  inflating: /content/data/val/images/Schwannoma_T1C+_107.jpeg  \n",
            "  inflating: /content/data/val/images/Schwannoma_T1C+_128.jpeg  \n",
            "  inflating: /content/data/val/images/Schwannoma_T1C+_141.jpeg  \n",
            "  inflating: /content/data/val/images/Schwannoma_T1C+_147.jpeg  \n",
            "  inflating: /content/data/val/images/Schwannoma_T1C+_152.jpeg  \n",
            "  inflating: /content/data/val/images/Schwannoma_T1C+_165.jpeg  \n",
            "  inflating: /content/data/val/images/Schwannoma_T1C+_170.jpeg  \n",
            "  inflating: /content/data/val/images/Schwannoma_T1C+_19.jpeg  \n",
            "  inflating: /content/data/val/images/Schwannoma_T1C+_190.jpeg  \n",
            "  inflating: /content/data/val/images/Schwannoma_T1C+_194.jpg  \n",
            "  inflating: /content/data/val/images/Schwannoma_T1C+_25.jpeg  \n",
            "  inflating: /content/data/val/images/Schwannoma_T1C+_29.jpeg  \n",
            "  inflating: /content/data/val/images/Schwannoma_T1C+_39.jpg  \n",
            "  inflating: /content/data/val/images/Schwannoma_T1C+_42.jpeg  \n",
            "  inflating: /content/data/val/images/Schwannoma_T1C+_51.jpg  \n",
            "  inflating: /content/data/val/images/Schwannoma_T1C+_6.jpeg  \n",
            "  inflating: /content/data/val/images/Schwannoma_T1C+_62.jpeg  \n",
            "  inflating: /content/data/val/images/Schwannoma_T1C+_77.jpg  \n",
            "  inflating: /content/data/val/images/Schwannoma_T1C+_80.jpeg  \n",
            "  inflating: /content/data/val/images/Schwannoma_T1C+_83.jpeg  \n",
            "  inflating: /content/data/val/images/Schwannoma_T1C+_88.jpeg  \n",
            "  inflating: /content/data/val/images/Schwannoma_T1C+_9.jpeg  \n",
            "  inflating: /content/data/val/images/Schwannoma_T1C+_91.jpeg  \n",
            "  inflating: /content/data/val/images/Schwannoma_T1_100.jpeg  \n",
            "  inflating: /content/data/val/images/Schwannoma_T1_107.jpeg  \n",
            "  inflating: /content/data/val/images/Schwannoma_T1_140.jpeg  \n",
            "  inflating: /content/data/val/images/Schwannoma_T1_147.jpg  \n",
            "  inflating: /content/data/val/images/Schwannoma_T1_48.jpeg  \n",
            "  inflating: /content/data/val/images/Schwannoma_T1_53.jpeg  \n",
            "  inflating: /content/data/val/images/Schwannoma_T1_62.jpeg  \n",
            "  inflating: /content/data/val/images/Schwannoma_T1_63.jpeg  \n",
            "  inflating: /content/data/val/images/Schwannoma_T1_70.jpeg  \n",
            "  inflating: /content/data/val/images/Schwannoma_T1_83.jpeg  \n",
            "  inflating: /content/data/val/images/Schwannoma_T1_93.jpg  \n",
            "  inflating: /content/data/val/images/Schwannoma_T2_13.jpg  \n",
            "  inflating: /content/data/val/images/Schwannoma_T2_19.jpg  \n",
            "  inflating: /content/data/val/images/Schwannoma_T2_25.jpeg  \n",
            "  inflating: /content/data/val/images/Schwannoma_T2_47.jpeg  \n",
            "  inflating: /content/data/val/images/Schwannoma_T2_51.jpeg  \n",
            "  inflating: /content/data/val/images/Schwannoma_T2_65.jpg  \n",
            "  inflating: /content/data/val/images/Schwannoma_T2_77.jpeg  \n",
            "  inflating: /content/data/val/images/Schwannoma_T2_8.jpeg  \n",
            "  inflating: /content/data/val/images/Schwannoma_T2_81.jpeg  \n",
            "  inflating: /content/data/val/images/Schwannoma_T2_84.jpeg  \n",
            "  inflating: /content/data/val/images/Schwannoma_T2_85.jpg  \n",
            "  inflating: /content/data/val/images/Schwannoma_T2_86.jpeg  \n",
            "  inflating: /content/data/val/images/Schwannoma_T2_96.jpeg  \n",
            "  inflating: /content/data/val/images/Tuberculoma_T1C+_14.jpeg  \n",
            "  inflating: /content/data/val/images/Tuberculoma_T1C+_20.jpeg  \n",
            "  inflating: /content/data/val/images/Tuberculoma_T1C+_27.jpeg  \n",
            "  inflating: /content/data/val/images/Tuberculoma_T1C+_45.jpeg  \n",
            "  inflating: /content/data/val/images/Tuberculoma_T1C+_46.jpeg  \n",
            "  inflating: /content/data/val/images/Tuberculoma_T1C+_62.jpeg  \n",
            "  inflating: /content/data/val/images/Tuberculoma_T1C+_64.jpeg  \n",
            "  inflating: /content/data/val/images/Tuberculoma_T1C+_78.jpeg  \n",
            "  inflating: /content/data/val/images/Tuberculoma_T1_20.jpeg  \n",
            "  inflating: /content/data/val/images/Tuberculoma_T1_7.jpeg  \n",
            "  inflating: /content/data/val/images/Tuberculoma_T1_8.jpeg  \n",
            "  inflating: /content/data/val/images/Tuberculoma_T1_9.jpeg  \n",
            "  inflating: /content/data/val/images/Tuberculoma_T2_14.jpeg  \n",
            "  inflating: /content/data/val/images/Tuberculoma_T2_26.jpeg  \n",
            "  inflating: /content/data/val/images/Tuberculoma_T2_28.jpeg  \n",
            "   creating: /content/data/val/labels/\n",
            "  inflating: /content/data/val/labels/Astrocitoma_T1C+_104.txt  \n",
            "  inflating: /content/data/val/labels/Astrocitoma_T1C+_112.txt  \n",
            "  inflating: /content/data/val/labels/Astrocitoma_T1C+_113.txt  \n",
            "  inflating: /content/data/val/labels/Astrocitoma_T1C+_114.txt  \n",
            "  inflating: /content/data/val/labels/Astrocitoma_T1C+_123.txt  \n",
            "  inflating: /content/data/val/labels/Astrocitoma_T1C+_136.txt  \n",
            "  inflating: /content/data/val/labels/Astrocitoma_T1C+_143.txt  \n",
            "  inflating: /content/data/val/labels/Astrocitoma_T1C+_146.txt  \n",
            "  inflating: /content/data/val/labels/Astrocitoma_T1C+_155.txt  \n",
            "  inflating: /content/data/val/labels/Astrocitoma_T1C+_159.txt  \n",
            "  inflating: /content/data/val/labels/Astrocitoma_T1C+_16.txt  \n",
            "  inflating: /content/data/val/labels/Astrocitoma_T1C+_171.txt  \n",
            "  inflating: /content/data/val/labels/Astrocitoma_T1C+_173.txt  \n",
            "  inflating: /content/data/val/labels/Astrocitoma_T1C+_174.txt  \n",
            "  inflating: /content/data/val/labels/Astrocitoma_T1C+_189.txt  \n",
            "  inflating: /content/data/val/labels/Astrocitoma_T1C+_200.txt  \n",
            "  inflating: /content/data/val/labels/Astrocitoma_T1C+_219.txt  \n",
            "  inflating: /content/data/val/labels/Astrocitoma_T1C+_220.txt  \n",
            "  inflating: /content/data/val/labels/Astrocitoma_T1C+_228.txt  \n",
            "  inflating: /content/data/val/labels/Astrocitoma_T1C+_28.txt  \n",
            "  inflating: /content/data/val/labels/Astrocitoma_T1C+_31.txt  \n",
            "  inflating: /content/data/val/labels/Astrocitoma_T1C+_35.txt  \n",
            "  inflating: /content/data/val/labels/Astrocitoma_T1C+_45.txt  \n",
            "  inflating: /content/data/val/labels/Astrocitoma_T1C+_63.txt  \n",
            "  inflating: /content/data/val/labels/Astrocitoma_T1C+_94.txt  \n",
            "  inflating: /content/data/val/labels/Astrocitoma_T1C+_99.txt  \n",
            "  inflating: /content/data/val/labels/Astrocitoma_T1_112.txt  \n",
            "  inflating: /content/data/val/labels/Astrocitoma_T1_120.txt  \n",
            "  inflating: /content/data/val/labels/Astrocitoma_T1_123.txt  \n",
            "  inflating: /content/data/val/labels/Astrocitoma_T1_124.txt  \n",
            "  inflating: /content/data/val/labels/Astrocitoma_T1_13.txt  \n",
            "  inflating: /content/data/val/labels/Astrocitoma_T1_144.txt  \n",
            "  inflating: /content/data/val/labels/Astrocitoma_T1_164.txt  \n",
            "  inflating: /content/data/val/labels/Astrocitoma_T1_3.txt  \n",
            "  inflating: /content/data/val/labels/Astrocitoma_T1_40.txt  \n",
            "  inflating: /content/data/val/labels/Astrocitoma_T1_45.txt  \n",
            "  inflating: /content/data/val/labels/Astrocitoma_T1_55.txt  \n",
            "  inflating: /content/data/val/labels/Astrocitoma_T1_62.txt  \n",
            "  inflating: /content/data/val/labels/Astrocitoma_T1_70.txt  \n",
            "  inflating: /content/data/val/labels/Astrocitoma_T1_82.txt  \n",
            "  inflating: /content/data/val/labels/Astrocitoma_T1_83.txt  \n",
            "  inflating: /content/data/val/labels/Astrocitoma_T1_91.txt  \n",
            "  inflating: /content/data/val/labels/Astrocitoma_T2_100.txt  \n",
            "  inflating: /content/data/val/labels/Astrocitoma_T2_102.txt  \n",
            "  inflating: /content/data/val/labels/Astrocitoma_T2_122.txt  \n",
            "  inflating: /content/data/val/labels/Astrocitoma_T2_125.txt  \n",
            "  inflating: /content/data/val/labels/Astrocitoma_T2_128.txt  \n",
            "  inflating: /content/data/val/labels/Astrocitoma_T2_13.txt  \n",
            "  inflating: /content/data/val/labels/Astrocitoma_T2_140.txt  \n",
            "  inflating: /content/data/val/labels/Astrocitoma_T2_145.txt  \n",
            "  inflating: /content/data/val/labels/Astrocitoma_T2_150.txt  \n",
            "  inflating: /content/data/val/labels/Astrocitoma_T2_16.txt  \n",
            "  inflating: /content/data/val/labels/Astrocitoma_T2_2.txt  \n",
            "  inflating: /content/data/val/labels/Astrocitoma_T2_29.txt  \n",
            "  inflating: /content/data/val/labels/Astrocitoma_T2_35.txt  \n",
            "  inflating: /content/data/val/labels/Astrocitoma_T2_48.txt  \n",
            "  inflating: /content/data/val/labels/Astrocitoma_T2_56.txt  \n",
            "  inflating: /content/data/val/labels/Astrocitoma_T2_76.txt  \n",
            "  inflating: /content/data/val/labels/Astrocitoma_T2_8.txt  \n",
            "  inflating: /content/data/val/labels/Carcinoma_T1C+_103.txt  \n",
            "  inflating: /content/data/val/labels/Carcinoma_T1C+_109.txt  \n",
            "  inflating: /content/data/val/labels/Carcinoma_T1C+_111.txt  \n",
            "  inflating: /content/data/val/labels/Carcinoma_T1C+_21.txt  \n",
            "  inflating: /content/data/val/labels/Carcinoma_T1C+_58.txt  \n",
            "  inflating: /content/data/val/labels/Carcinoma_T1C+_81.txt  \n",
            "  inflating: /content/data/val/labels/Carcinoma_T1C+_86.txt  \n",
            "  inflating: /content/data/val/labels/Carcinoma_T1C+_91.txt  \n",
            "  inflating: /content/data/val/labels/Carcinoma_T1_20.txt  \n",
            "  inflating: /content/data/val/labels/Carcinoma_T1_3.txt  \n",
            "  inflating: /content/data/val/labels/Carcinoma_T1_44.txt  \n",
            "  inflating: /content/data/val/labels/Carcinoma_T1_45.txt  \n",
            "  inflating: /content/data/val/labels/Carcinoma_T1_50.txt  \n",
            "  inflating: /content/data/val/labels/Carcinoma_T1_51.txt  \n",
            "  inflating: /content/data/val/labels/Carcinoma_T1_58.txt  \n",
            "  inflating: /content/data/val/labels/Carcinoma_T1_59.txt  \n",
            "  inflating: /content/data/val/labels/Carcinoma_T2_12.txt  \n",
            "  inflating: /content/data/val/labels/Carcinoma_T2_2.txt  \n",
            "  inflating: /content/data/val/labels/Carcinoma_T2_27.txt  \n",
            "  inflating: /content/data/val/labels/Carcinoma_T2_32.txt  \n",
            "  inflating: /content/data/val/labels/Carcinoma_T2_56.txt  \n",
            "  inflating: /content/data/val/labels/Carcinoma_T2_59.txt  \n",
            "  inflating: /content/data/val/labels/Carcinoma_T2_6.txt  \n",
            "  inflating: /content/data/val/labels/Carcinoma_T2_62.txt  \n",
            "  inflating: /content/data/val/labels/Carcinoma_T2_8.txt  \n",
            "  inflating: /content/data/val/labels/Carcinoma_T2_9.txt  \n",
            "  inflating: /content/data/val/labels/Ependimoma_T1C+_12.txt  \n",
            "  inflating: /content/data/val/labels/Ependimoma_T1C+_19.txt  \n",
            "  inflating: /content/data/val/labels/Ependimoma_T1C+_25.txt  \n",
            "  inflating: /content/data/val/labels/Ependimoma_T1C+_38.txt  \n",
            "  inflating: /content/data/val/labels/Ependimoma_T1C+_42.txt  \n",
            "  inflating: /content/data/val/labels/Ependimoma_T1C+_45.txt  \n",
            "  inflating: /content/data/val/labels/Ependimoma_T1C+_9.txt  \n",
            "  inflating: /content/data/val/labels/Ependimoma_T1_28.txt  \n",
            "  inflating: /content/data/val/labels/Ependimoma_T1_31.txt  \n",
            "  inflating: /content/data/val/labels/Ependimoma_T1_8.txt  \n",
            "  inflating: /content/data/val/labels/Ependimoma_T2_40.txt  \n",
            "  inflating: /content/data/val/labels/Ependimoma_T2_46.txt  \n",
            "  inflating: /content/data/val/labels/Ependimoma_T2_50.txt  \n",
            "  inflating: /content/data/val/labels/Ependimoma_T2_54.txt  \n",
            "  inflating: /content/data/val/labels/Ependimoma_T2_57.txt  \n",
            "  inflating: /content/data/val/labels/Ependimoma_T2_7.txt  \n",
            "  inflating: /content/data/val/labels/Ganglioglioma_T1C+_11.txt  \n",
            "  inflating: /content/data/val/labels/Ganglioglioma_T1C+_4.txt  \n",
            "  inflating: /content/data/val/labels/Ganglioglioma_T1C+_9.txt  \n",
            "  inflating: /content/data/val/labels/Ganglioglioma_T1_1.txt  \n",
            "  inflating: /content/data/val/labels/Ganglioglioma_T1_7.txt  \n",
            "  inflating: /content/data/val/labels/Ganglioglioma_T2_13.txt  \n",
            "  inflating: /content/data/val/labels/Ganglioglioma_T2_8.txt  \n",
            "  inflating: /content/data/val/labels/Germinoma_T1C+_1.txt  \n",
            "  inflating: /content/data/val/labels/Germinoma_T1C+_18.txt  \n",
            "  inflating: /content/data/val/labels/Germinoma_T1C+_19.txt  \n",
            "  inflating: /content/data/val/labels/Germinoma_T1C+_36.txt  \n",
            "  inflating: /content/data/val/labels/Germinoma_T1_22.txt  \n",
            "  inflating: /content/data/val/labels/Germinoma_T1_5.txt  \n",
            "  inflating: /content/data/val/labels/Germinoma_T2_15.txt  \n",
            "  inflating: /content/data/val/labels/Germinoma_T2_17.txt  \n",
            "  inflating: /content/data/val/labels/Germinoma_T2_2.txt  \n",
            "  inflating: /content/data/val/labels/Germinoma_T2_30.txt  \n",
            "  inflating: /content/data/val/labels/Germinoma_T2_32.txt  \n",
            "  inflating: /content/data/val/labels/Glioblastoma_T1C+_21.txt  \n",
            "  inflating: /content/data/val/labels/Glioblastoma_T1C+_30.txt  \n",
            "  inflating: /content/data/val/labels/Glioblastoma_T1C+_31.txt  \n",
            "  inflating: /content/data/val/labels/Glioblastoma_T1C+_32.txt  \n",
            "  inflating: /content/data/val/labels/Glioblastoma_T1C+_44.txt  \n",
            "  inflating: /content/data/val/labels/Glioblastoma_T1C+_72.txt  \n",
            "  inflating: /content/data/val/labels/Glioblastoma_T1C+_73.txt  \n",
            "  inflating: /content/data/val/labels/Glioblastoma_T1_1.txt  \n",
            "  inflating: /content/data/val/labels/Glioblastoma_T1_16.txt  \n",
            "  inflating: /content/data/val/labels/Glioblastoma_T1_25.txt  \n",
            "  inflating: /content/data/val/labels/Glioblastoma_T1_47.txt  \n",
            "  inflating: /content/data/val/labels/Glioblastoma_T1_53.txt  \n",
            "  inflating: /content/data/val/labels/Glioblastoma_T2_14.txt  \n",
            "  inflating: /content/data/val/labels/Glioblastoma_T2_25.txt  \n",
            "  inflating: /content/data/val/labels/Glioblastoma_T2_3.txt  \n",
            "  inflating: /content/data/val/labels/Glioblastoma_T2_30.txt  \n",
            "  inflating: /content/data/val/labels/Glioblastoma_T2_35.txt  \n",
            "  inflating: /content/data/val/labels/Glioblastoma_T2_39.txt  \n",
            "  inflating: /content/data/val/labels/Glioblastoma_T2_40.txt  \n",
            "  inflating: /content/data/val/labels/Glioblastoma_T2_52.txt  \n",
            "  inflating: /content/data/val/labels/Glioblastoma_T2_54.txt  \n",
            "  inflating: /content/data/val/labels/Granuloma_T1C+_20.txt  \n",
            "  inflating: /content/data/val/labels/Granuloma_T1_11.txt  \n",
            "  inflating: /content/data/val/labels/Granuloma_T1_20.txt  \n",
            "  inflating: /content/data/val/labels/Granuloma_T1_30.txt  \n",
            "  inflating: /content/data/val/labels/Granuloma_T1_6.txt  \n",
            "  inflating: /content/data/val/labels/Granuloma_T2_11.txt  \n",
            "  inflating: /content/data/val/labels/Granuloma_T2_17.txt  \n",
            "  inflating: /content/data/val/labels/Granuloma_T2_2.txt  \n",
            "  inflating: /content/data/val/labels/Meduloblastoma_T1C+_15.txt  \n",
            "  inflating: /content/data/val/labels/Meduloblastoma_T1C+_29.txt  \n",
            "  inflating: /content/data/val/labels/Meduloblastoma_T1C+_30.txt  \n",
            "  inflating: /content/data/val/labels/Meduloblastoma_T1C+_45.txt  \n",
            "  inflating: /content/data/val/labels/Meduloblastoma_T1C+_55.txt  \n",
            "  inflating: /content/data/val/labels/Meduloblastoma_T1C+_9.txt  \n",
            "  inflating: /content/data/val/labels/Meduloblastoma_T1_1.txt  \n",
            "  inflating: /content/data/val/labels/Meduloblastoma_T2_12.txt  \n",
            "  inflating: /content/data/val/labels/Meduloblastoma_T2_15.txt  \n",
            "  inflating: /content/data/val/labels/Meduloblastoma_T2_17.txt  \n",
            "  inflating: /content/data/val/labels/Meduloblastoma_T2_3.txt  \n",
            "  inflating: /content/data/val/labels/Meduloblastoma_T2_38.txt  \n",
            "  inflating: /content/data/val/labels/Meduloblastoma_T2_40.txt  \n",
            "  inflating: /content/data/val/labels/Meduloblastoma_T2_41.txt  \n",
            "  inflating: /content/data/val/labels/Meningioma_T1C+_100.txt  \n",
            "  inflating: /content/data/val/labels/Meningioma_T1C+_101.txt  \n",
            "  inflating: /content/data/val/labels/Meningioma_T1C+_104.txt  \n",
            "  inflating: /content/data/val/labels/Meningioma_T1C+_106.txt  \n",
            "  inflating: /content/data/val/labels/Meningioma_T1C+_119.txt  \n",
            "  inflating: /content/data/val/labels/Meningioma_T1C+_121.txt  \n",
            "  inflating: /content/data/val/labels/Meningioma_T1C+_122.txt  \n",
            "  inflating: /content/data/val/labels/Meningioma_T1C+_124.txt  \n",
            "  inflating: /content/data/val/labels/Meningioma_T1C+_126.txt  \n",
            "  inflating: /content/data/val/labels/Meningioma_T1C+_128.txt  \n",
            "  inflating: /content/data/val/labels/Meningioma_T1C+_136.txt  \n",
            "  inflating: /content/data/val/labels/Meningioma_T1C+_138.txt  \n",
            "  inflating: /content/data/val/labels/Meningioma_T1C+_14.txt  \n",
            "  inflating: /content/data/val/labels/Meningioma_T1C+_150.txt  \n",
            "  inflating: /content/data/val/labels/Meningioma_T1C+_16.txt  \n",
            "  inflating: /content/data/val/labels/Meningioma_T1C+_162.txt  \n",
            "  inflating: /content/data/val/labels/Meningioma_T1C+_166.txt  \n",
            "  inflating: /content/data/val/labels/Meningioma_T1C+_172.txt  \n",
            "  inflating: /content/data/val/labels/Meningioma_T1C+_191.txt  \n",
            "  inflating: /content/data/val/labels/Meningioma_T1C+_194.txt  \n",
            "  inflating: /content/data/val/labels/Meningioma_T1C+_245.txt  \n",
            "  inflating: /content/data/val/labels/Meningioma_T1C+_251.txt  \n",
            "  inflating: /content/data/val/labels/Meningioma_T1C+_264.txt  \n",
            "  inflating: /content/data/val/labels/Meningioma_T1C+_268.txt  \n",
            "  inflating: /content/data/val/labels/Meningioma_T1C+_271.txt  \n",
            "  inflating: /content/data/val/labels/Meningioma_T1C+_278.txt  \n",
            "  inflating: /content/data/val/labels/Meningioma_T1C+_28.txt  \n",
            "  inflating: /content/data/val/labels/Meningioma_T1C+_282.txt  \n",
            "  inflating: /content/data/val/labels/Meningioma_T1C+_292.txt  \n",
            "  inflating: /content/data/val/labels/Meningioma_T1C+_298.txt  \n",
            "  inflating: /content/data/val/labels/Meningioma_T1C+_3.txt  \n",
            "  inflating: /content/data/val/labels/Meningioma_T1C+_321.txt  \n",
            "  inflating: /content/data/val/labels/Meningioma_T1C+_325.txt  \n",
            "  inflating: /content/data/val/labels/Meningioma_T1C+_355.txt  \n",
            "  inflating: /content/data/val/labels/Meningioma_T1C+_367.txt  \n",
            "  inflating: /content/data/val/labels/Meningioma_T1C+_40.txt  \n",
            "  inflating: /content/data/val/labels/Meningioma_T1C+_41.txt  \n",
            "  inflating: /content/data/val/labels/Meningioma_T1C+_53.txt  \n",
            "  inflating: /content/data/val/labels/Meningioma_T1C+_73.txt  \n",
            "  inflating: /content/data/val/labels/Meningioma_T1C+_94.txt  \n",
            "  inflating: /content/data/val/labels/Meningioma_T1_101.txt  \n",
            "  inflating: /content/data/val/labels/Meningioma_T1_102.txt  \n",
            "  inflating: /content/data/val/labels/Meningioma_T1_106.txt  \n",
            "  inflating: /content/data/val/labels/Meningioma_T1_123.txt  \n",
            "  inflating: /content/data/val/labels/Meningioma_T1_130.txt  \n",
            "  inflating: /content/data/val/labels/Meningioma_T1_151.txt  \n",
            "  inflating: /content/data/val/labels/Meningioma_T1_156.txt  \n",
            "  inflating: /content/data/val/labels/Meningioma_T1_157.txt  \n",
            "  inflating: /content/data/val/labels/Meningioma_T1_160.txt  \n",
            "  inflating: /content/data/val/labels/Meningioma_T1_19.txt  \n",
            "  inflating: /content/data/val/labels/Meningioma_T1_193.txt  \n",
            "  inflating: /content/data/val/labels/Meningioma_T1_202.txt  \n",
            "  inflating: /content/data/val/labels/Meningioma_T1_205.txt  \n",
            "  inflating: /content/data/val/labels/Meningioma_T1_222.txt  \n",
            "  inflating: /content/data/val/labels/Meningioma_T1_229.txt  \n",
            "  inflating: /content/data/val/labels/Meningioma_T1_252.txt  \n",
            "  inflating: /content/data/val/labels/Meningioma_T1_29.txt  \n",
            "  inflating: /content/data/val/labels/Meningioma_T1_31.txt  \n",
            "  inflating: /content/data/val/labels/Meningioma_T1_43.txt  \n",
            "  inflating: /content/data/val/labels/Meningioma_T1_50.txt  \n",
            "  inflating: /content/data/val/labels/Meningioma_T1_57.txt  \n",
            "  inflating: /content/data/val/labels/Meningioma_T1_72.txt  \n",
            "  inflating: /content/data/val/labels/Meningioma_T1_75.txt  \n",
            "  inflating: /content/data/val/labels/Meningioma_T1_8.txt  \n",
            "  inflating: /content/data/val/labels/Meningioma_T1_94.txt  \n",
            "  inflating: /content/data/val/labels/Meningioma_T2_10.txt  \n",
            "  inflating: /content/data/val/labels/Meningioma_T2_112.txt  \n",
            "  inflating: /content/data/val/labels/Meningioma_T2_124.txt  \n",
            "  inflating: /content/data/val/labels/Meningioma_T2_125.txt  \n",
            "  inflating: /content/data/val/labels/Meningioma_T2_133.txt  \n",
            "  inflating: /content/data/val/labels/Meningioma_T2_148.txt  \n",
            "  inflating: /content/data/val/labels/Meningioma_T2_159.txt  \n",
            "  inflating: /content/data/val/labels/Meningioma_T2_160.txt  \n",
            "  inflating: /content/data/val/labels/Meningioma_T2_161.txt  \n",
            "  inflating: /content/data/val/labels/Meningioma_T2_17.txt  \n",
            "  inflating: /content/data/val/labels/Meningioma_T2_178.txt  \n",
            "  inflating: /content/data/val/labels/Meningioma_T2_182.txt  \n",
            "  inflating: /content/data/val/labels/Meningioma_T2_184.txt  \n",
            "  inflating: /content/data/val/labels/Meningioma_T2_191.txt  \n",
            "  inflating: /content/data/val/labels/Meningioma_T2_202.txt  \n",
            "  inflating: /content/data/val/labels/Meningioma_T2_208.txt  \n",
            "  inflating: /content/data/val/labels/Meningioma_T2_216.txt  \n",
            "  inflating: /content/data/val/labels/Meningioma_T2_221.txt  \n",
            "  inflating: /content/data/val/labels/Meningioma_T2_39.txt  \n",
            "  inflating: /content/data/val/labels/Meningioma_T2_71.txt  \n",
            "  inflating: /content/data/val/labels/Meningioma_T2_74.txt  \n",
            "  inflating: /content/data/val/labels/Meningioma_T2_80.txt  \n",
            "  inflating: /content/data/val/labels/Meningioma_T2_91.txt  \n",
            "  inflating: /content/data/val/labels/Neurocitoma_T1C+_103.txt  \n",
            "  inflating: /content/data/val/labels/Neurocitoma_T1C+_105.txt  \n",
            "  inflating: /content/data/val/labels/Neurocitoma_T1C+_16.txt  \n",
            "  inflating: /content/data/val/labels/Neurocitoma_T1C+_160.txt  \n",
            "  inflating: /content/data/val/labels/Neurocitoma_T1C+_175.txt  \n",
            "  inflating: /content/data/val/labels/Neurocitoma_T1C+_177.txt  \n",
            "  inflating: /content/data/val/labels/Neurocitoma_T1C+_182.txt  \n",
            "  inflating: /content/data/val/labels/Neurocitoma_T1C+_183.txt  \n",
            "  inflating: /content/data/val/labels/Neurocitoma_T1C+_185.txt  \n",
            "  inflating: /content/data/val/labels/Neurocitoma_T1C+_204.txt  \n",
            "  inflating: /content/data/val/labels/Neurocitoma_T1C+_208.txt  \n",
            "  inflating: /content/data/val/labels/Neurocitoma_T1C+_21.txt  \n",
            "  inflating: /content/data/val/labels/Neurocitoma_T1C+_29.txt  \n",
            "  inflating: /content/data/val/labels/Neurocitoma_T1C+_50.txt  \n",
            "  inflating: /content/data/val/labels/Neurocitoma_T1C+_55.txt  \n",
            "  inflating: /content/data/val/labels/Neurocitoma_T1C+_66.txt  \n",
            "  inflating: /content/data/val/labels/Neurocitoma_T1C+_8.txt  \n",
            "  inflating: /content/data/val/labels/Neurocitoma_T1C+_86.txt  \n",
            "  inflating: /content/data/val/labels/Neurocitoma_T1C+_90.txt  \n",
            "  inflating: /content/data/val/labels/Neurocitoma_T1_107.txt  \n",
            "  inflating: /content/data/val/labels/Neurocitoma_T1_108.txt  \n",
            "  inflating: /content/data/val/labels/Neurocitoma_T1_116.txt  \n",
            "  inflating: /content/data/val/labels/Neurocitoma_T1_119.txt  \n",
            "  inflating: /content/data/val/labels/Neurocitoma_T1_123.txt  \n",
            "  inflating: /content/data/val/labels/Neurocitoma_T1_125.txt  \n",
            "  inflating: /content/data/val/labels/Neurocitoma_T1_35.txt  \n",
            "  inflating: /content/data/val/labels/Neurocitoma_T1_47.txt  \n",
            "  inflating: /content/data/val/labels/Neurocitoma_T1_50.txt  \n",
            "  inflating: /content/data/val/labels/Neurocitoma_T1_60.txt  \n",
            "  inflating: /content/data/val/labels/Neurocitoma_T1_66.txt  \n",
            "  inflating: /content/data/val/labels/Neurocitoma_T1_70.txt  \n",
            "  inflating: /content/data/val/labels/Neurocitoma_T1_8.txt  \n",
            "  inflating: /content/data/val/labels/Neurocitoma_T1_88.txt  \n",
            "  inflating: /content/data/val/labels/Neurocitoma_T1_89.txt  \n",
            "  inflating: /content/data/val/labels/Neurocitoma_T1_96.txt  \n",
            "  inflating: /content/data/val/labels/Neurocitoma_T2_103.txt  \n",
            "  inflating: /content/data/val/labels/Neurocitoma_T2_21.txt  \n",
            "  inflating: /content/data/val/labels/Neurocitoma_T2_36.txt  \n",
            "  inflating: /content/data/val/labels/Neurocitoma_T2_39.txt  \n",
            "  inflating: /content/data/val/labels/Neurocitoma_T2_60.txt  \n",
            "  inflating: /content/data/val/labels/Neurocitoma_T2_61.txt  \n",
            "  inflating: /content/data/val/labels/Neurocitoma_T2_67.txt  \n",
            "  inflating: /content/data/val/labels/Neurocitoma_T2_74.txt  \n",
            "  inflating: /content/data/val/labels/Neurocitoma_T2_77.txt  \n",
            "  inflating: /content/data/val/labels/Neurocitoma_T2_79.txt  \n",
            "  inflating: /content/data/val/labels/Neurocitoma_T2_91.txt  \n",
            "  inflating: /content/data/val/labels/Oligodendroglioma_T1C+_10.txt  \n",
            "  inflating: /content/data/val/labels/Oligodendroglioma_T1C+_38.txt  \n",
            "  inflating: /content/data/val/labels/Oligodendroglioma_T1C+_4.txt  \n",
            "  inflating: /content/data/val/labels/Oligodendroglioma_T1C+_40.txt  \n",
            "  inflating: /content/data/val/labels/Oligodendroglioma_T1C+_52.txt  \n",
            "  inflating: /content/data/val/labels/Oligodendroglioma_T1C+_53.txt  \n",
            "  inflating: /content/data/val/labels/Oligodendroglioma_T1C+_55.txt  \n",
            "  inflating: /content/data/val/labels/Oligodendroglioma_T1_17.txt  \n",
            "  inflating: /content/data/val/labels/Oligodendroglioma_T1_26.txt  \n",
            "  inflating: /content/data/val/labels/Oligodendroglioma_T1_36.txt  \n",
            "  inflating: /content/data/val/labels/Oligodendroglioma_T1_48.txt  \n",
            "  inflating: /content/data/val/labels/Oligodendroglioma_T1_55.txt  \n",
            "  inflating: /content/data/val/labels/Oligodendroglioma_T1_61.txt  \n",
            "  inflating: /content/data/val/labels/Oligodendroglioma_T1_63.txt  \n",
            "  inflating: /content/data/val/labels/Oligodendroglioma_T2_15.txt  \n",
            "  inflating: /content/data/val/labels/Oligodendroglioma_T2_20.txt  \n",
            "  inflating: /content/data/val/labels/Oligodendroglioma_T2_21.txt  \n",
            "  inflating: /content/data/val/labels/Oligodendroglioma_T2_25.txt  \n",
            "  inflating: /content/data/val/labels/Oligodendroglioma_T2_48.txt  \n",
            "  inflating: /content/data/val/labels/Oligodendroglioma_T2_54.txt  \n",
            "  inflating: /content/data/val/labels/Oligodendroglioma_T2_55.txt  \n",
            "  inflating: /content/data/val/labels/Oligodendroglioma_T2_64.txt  \n",
            "  inflating: /content/data/val/labels/Oligodendroglioma_T2_66.txt  \n",
            "  inflating: /content/data/val/labels/Papiloma_T1C+_103.txt  \n",
            "  inflating: /content/data/val/labels/Papiloma_T1C+_13.txt  \n",
            "  inflating: /content/data/val/labels/Papiloma_T1C+_21.txt  \n",
            "  inflating: /content/data/val/labels/Papiloma_T1C+_46.txt  \n",
            "  inflating: /content/data/val/labels/Papiloma_T1C+_5.txt  \n",
            "  inflating: /content/data/val/labels/Papiloma_T1C+_55.txt  \n",
            "  inflating: /content/data/val/labels/Papiloma_T1C+_56.txt  \n",
            "  inflating: /content/data/val/labels/Papiloma_T1C+_66.txt  \n",
            "  inflating: /content/data/val/labels/Papiloma_T1C+_72.txt  \n",
            "  inflating: /content/data/val/labels/Papiloma_T1C+_78.txt  \n",
            "  inflating: /content/data/val/labels/Papiloma_T1C+_87.txt  \n",
            "  inflating: /content/data/val/labels/Papiloma_T1C+_88.txt  \n",
            "  inflating: /content/data/val/labels/Papiloma_T1C+_90.txt  \n",
            "  inflating: /content/data/val/labels/Papiloma_T1_15.txt  \n",
            "  inflating: /content/data/val/labels/Papiloma_T1_31.txt  \n",
            "  inflating: /content/data/val/labels/Papiloma_T1_33.txt  \n",
            "  inflating: /content/data/val/labels/Papiloma_T1_47.txt  \n",
            "  inflating: /content/data/val/labels/Papiloma_T1_48.txt  \n",
            "  inflating: /content/data/val/labels/Papiloma_T1_60.txt  \n",
            "  inflating: /content/data/val/labels/Papiloma_T1_65.txt  \n",
            "  inflating: /content/data/val/labels/Papiloma_T1_7.txt  \n",
            "  inflating: /content/data/val/labels/Papiloma_T2_29.txt  \n",
            "  inflating: /content/data/val/labels/Papiloma_T2_39.txt  \n",
            "  inflating: /content/data/val/labels/Papiloma_T2_47.txt  \n",
            "  inflating: /content/data/val/labels/Schwannoma_T1C+_107.txt  \n",
            "  inflating: /content/data/val/labels/Schwannoma_T1C+_128.txt  \n",
            "  inflating: /content/data/val/labels/Schwannoma_T1C+_141.txt  \n",
            "  inflating: /content/data/val/labels/Schwannoma_T1C+_147.txt  \n",
            "  inflating: /content/data/val/labels/Schwannoma_T1C+_152.txt  \n",
            "  inflating: /content/data/val/labels/Schwannoma_T1C+_165.txt  \n",
            "  inflating: /content/data/val/labels/Schwannoma_T1C+_170.txt  \n",
            "  inflating: /content/data/val/labels/Schwannoma_T1C+_19.txt  \n",
            "  inflating: /content/data/val/labels/Schwannoma_T1C+_190.txt  \n",
            "  inflating: /content/data/val/labels/Schwannoma_T1C+_194.txt  \n",
            "  inflating: /content/data/val/labels/Schwannoma_T1C+_25.txt  \n",
            "  inflating: /content/data/val/labels/Schwannoma_T1C+_29.txt  \n",
            "  inflating: /content/data/val/labels/Schwannoma_T1C+_39.txt  \n",
            "  inflating: /content/data/val/labels/Schwannoma_T1C+_42.txt  \n",
            "  inflating: /content/data/val/labels/Schwannoma_T1C+_51.txt  \n",
            "  inflating: /content/data/val/labels/Schwannoma_T1C+_6.txt  \n",
            "  inflating: /content/data/val/labels/Schwannoma_T1C+_62.txt  \n",
            "  inflating: /content/data/val/labels/Schwannoma_T1C+_77.txt  \n",
            "  inflating: /content/data/val/labels/Schwannoma_T1C+_80.txt  \n",
            "  inflating: /content/data/val/labels/Schwannoma_T1C+_83.txt  \n",
            "  inflating: /content/data/val/labels/Schwannoma_T1C+_88.txt  \n",
            "  inflating: /content/data/val/labels/Schwannoma_T1C+_9.txt  \n",
            "  inflating: /content/data/val/labels/Schwannoma_T1C+_91.txt  \n",
            "  inflating: /content/data/val/labels/Schwannoma_T1_100.txt  \n",
            "  inflating: /content/data/val/labels/Schwannoma_T1_107.txt  \n",
            "  inflating: /content/data/val/labels/Schwannoma_T1_140.txt  \n",
            "  inflating: /content/data/val/labels/Schwannoma_T1_147.txt  \n",
            "  inflating: /content/data/val/labels/Schwannoma_T1_48.txt  \n",
            "  inflating: /content/data/val/labels/Schwannoma_T1_53.txt  \n",
            "  inflating: /content/data/val/labels/Schwannoma_T1_62.txt  \n",
            "  inflating: /content/data/val/labels/Schwannoma_T1_63.txt  \n",
            "  inflating: /content/data/val/labels/Schwannoma_T1_70.txt  \n",
            "  inflating: /content/data/val/labels/Schwannoma_T1_83.txt  \n",
            "  inflating: /content/data/val/labels/Schwannoma_T1_93.txt  \n",
            "  inflating: /content/data/val/labels/Schwannoma_T2_13.txt  \n",
            "  inflating: /content/data/val/labels/Schwannoma_T2_19.txt  \n",
            "  inflating: /content/data/val/labels/Schwannoma_T2_25.txt  \n",
            "  inflating: /content/data/val/labels/Schwannoma_T2_47.txt  \n",
            "  inflating: /content/data/val/labels/Schwannoma_T2_51.txt  \n",
            "  inflating: /content/data/val/labels/Schwannoma_T2_65.txt  \n",
            "  inflating: /content/data/val/labels/Schwannoma_T2_77.txt  \n",
            "  inflating: /content/data/val/labels/Schwannoma_T2_8.txt  \n",
            "  inflating: /content/data/val/labels/Schwannoma_T2_81.txt  \n",
            "  inflating: /content/data/val/labels/Schwannoma_T2_84.txt  \n",
            "  inflating: /content/data/val/labels/Schwannoma_T2_85.txt  \n",
            "  inflating: /content/data/val/labels/Schwannoma_T2_86.txt  \n",
            "  inflating: /content/data/val/labels/Schwannoma_T2_96.txt  \n",
            "  inflating: /content/data/val/labels/Tuberculoma_T1C+_14.txt  \n",
            "  inflating: /content/data/val/labels/Tuberculoma_T1C+_20.txt  \n",
            "  inflating: /content/data/val/labels/Tuberculoma_T1C+_27.txt  \n",
            "  inflating: /content/data/val/labels/Tuberculoma_T1C+_45.txt  \n",
            "  inflating: /content/data/val/labels/Tuberculoma_T1C+_46.txt  \n",
            "  inflating: /content/data/val/labels/Tuberculoma_T1C+_62.txt  \n",
            "  inflating: /content/data/val/labels/Tuberculoma_T1C+_64.txt  \n",
            "  inflating: /content/data/val/labels/Tuberculoma_T1C+_78.txt  \n",
            "  inflating: /content/data/val/labels/Tuberculoma_T1_20.txt  \n",
            "  inflating: /content/data/val/labels/Tuberculoma_T1_7.txt  \n",
            "  inflating: /content/data/val/labels/Tuberculoma_T1_8.txt  \n",
            "  inflating: /content/data/val/labels/Tuberculoma_T1_9.txt  \n",
            "  inflating: /content/data/val/labels/Tuberculoma_T2_14.txt  \n",
            "  inflating: /content/data/val/labels/Tuberculoma_T2_26.txt  \n",
            "  inflating: /content/data/val/labels/Tuberculoma_T2_28.txt  \n",
            "   creating: /content/data/val/masks/\n",
            "  inflating: /content/data/val/masks/Astrocitoma_T1C+_104_mask.jpg  \n",
            "  inflating: /content/data/val/masks/Astrocitoma_T1C+_112_mask.jpg  \n",
            "  inflating: /content/data/val/masks/Astrocitoma_T1C+_113_mask.jpg  \n",
            "  inflating: /content/data/val/masks/Astrocitoma_T1C+_114_mask.jpg  \n",
            "  inflating: /content/data/val/masks/Astrocitoma_T1C+_123_mask.jpg  \n",
            "  inflating: /content/data/val/masks/Astrocitoma_T1C+_136_mask.jpg  \n",
            "  inflating: /content/data/val/masks/Astrocitoma_T1C+_143_mask.jpg  \n",
            "  inflating: /content/data/val/masks/Astrocitoma_T1C+_146_mask.jpg  \n",
            "  inflating: /content/data/val/masks/Astrocitoma_T1C+_155_mask.jpg  \n",
            "  inflating: /content/data/val/masks/Astrocitoma_T1C+_159_mask.jpg  \n",
            "  inflating: /content/data/val/masks/Astrocitoma_T1C+_16_mask.jpg  \n",
            "  inflating: /content/data/val/masks/Astrocitoma_T1C+_171_mask.jpg  \n",
            "  inflating: /content/data/val/masks/Astrocitoma_T1C+_173_mask.jpg  \n",
            "  inflating: /content/data/val/masks/Astrocitoma_T1C+_174_mask.jpg  \n",
            "  inflating: /content/data/val/masks/Astrocitoma_T1C+_189_mask.jpg  \n",
            "  inflating: /content/data/val/masks/Astrocitoma_T1C+_200_mask.jpg  \n",
            "  inflating: /content/data/val/masks/Astrocitoma_T1C+_219_mask.jpg  \n",
            "  inflating: /content/data/val/masks/Astrocitoma_T1C+_220_mask.jpg  \n",
            "  inflating: /content/data/val/masks/Astrocitoma_T1C+_228_mask.jpg  \n",
            "  inflating: /content/data/val/masks/Astrocitoma_T1C+_28_mask.jpg  \n",
            "  inflating: /content/data/val/masks/Astrocitoma_T1C+_31_mask.jpg  \n",
            "  inflating: /content/data/val/masks/Astrocitoma_T1C+_35_mask.jpg  \n",
            "  inflating: /content/data/val/masks/Astrocitoma_T1C+_45_mask.jpg  \n",
            "  inflating: /content/data/val/masks/Astrocitoma_T1C+_63_mask.jpg  \n",
            "  inflating: /content/data/val/masks/Astrocitoma_T1C+_94_mask.jpg  \n",
            "  inflating: /content/data/val/masks/Astrocitoma_T1C+_99_mask.jpg  \n",
            "  inflating: /content/data/val/masks/Astrocitoma_T1_112_mask.jpg  \n",
            "  inflating: /content/data/val/masks/Astrocitoma_T1_120_mask.jpg  \n",
            "  inflating: /content/data/val/masks/Astrocitoma_T1_123_mask.jpg  \n",
            "  inflating: /content/data/val/masks/Astrocitoma_T1_124_mask.jpg  \n",
            "  inflating: /content/data/val/masks/Astrocitoma_T1_13_mask.jpg  \n",
            "  inflating: /content/data/val/masks/Astrocitoma_T1_144_mask.jpg  \n",
            "  inflating: /content/data/val/masks/Astrocitoma_T1_164_mask.jpg  \n",
            "  inflating: /content/data/val/masks/Astrocitoma_T1_3_mask.jpg  \n",
            "  inflating: /content/data/val/masks/Astrocitoma_T1_40_mask.jpg  \n",
            "  inflating: /content/data/val/masks/Astrocitoma_T1_45_mask.jpg  \n",
            "  inflating: /content/data/val/masks/Astrocitoma_T1_55_mask.jpg  \n",
            "  inflating: /content/data/val/masks/Astrocitoma_T1_62_mask.jpg  \n",
            "  inflating: /content/data/val/masks/Astrocitoma_T1_70_mask.jpg  \n",
            "  inflating: /content/data/val/masks/Astrocitoma_T1_82_mask.jpg  \n",
            "  inflating: /content/data/val/masks/Astrocitoma_T1_83_mask.jpg  \n",
            "  inflating: /content/data/val/masks/Astrocitoma_T1_91_mask.jpg  \n",
            "  inflating: /content/data/val/masks/Astrocitoma_T2_100_mask.jpg  \n",
            "  inflating: /content/data/val/masks/Astrocitoma_T2_102_mask.jpg  \n",
            "  inflating: /content/data/val/masks/Astrocitoma_T2_122_mask.jpg  \n",
            "  inflating: /content/data/val/masks/Astrocitoma_T2_125_mask.jpg  \n",
            "  inflating: /content/data/val/masks/Astrocitoma_T2_128_mask.jpg  \n",
            "  inflating: /content/data/val/masks/Astrocitoma_T2_13_mask.jpg  \n",
            "  inflating: /content/data/val/masks/Astrocitoma_T2_140_mask.jpg  \n",
            "  inflating: /content/data/val/masks/Astrocitoma_T2_145_mask.jpg  \n",
            "  inflating: /content/data/val/masks/Astrocitoma_T2_150_mask.jpg  \n",
            "  inflating: /content/data/val/masks/Astrocitoma_T2_16_mask.jpg  \n",
            "  inflating: /content/data/val/masks/Astrocitoma_T2_29_mask.jpg  \n",
            "  inflating: /content/data/val/masks/Astrocitoma_T2_2_mask.jpg  \n",
            "  inflating: /content/data/val/masks/Astrocitoma_T2_35_mask.jpg  \n",
            "  inflating: /content/data/val/masks/Astrocitoma_T2_48_mask.jpg  \n",
            "  inflating: /content/data/val/masks/Astrocitoma_T2_56_mask.jpg  \n",
            "  inflating: /content/data/val/masks/Astrocitoma_T2_76_mask.jpg  \n",
            "  inflating: /content/data/val/masks/Astrocitoma_T2_8_mask.jpg  \n",
            "  inflating: /content/data/val/masks/Carcinoma_T1C+_103_mask.jpg  \n",
            "  inflating: /content/data/val/masks/Carcinoma_T1C+_109_mask.jpg  \n",
            "  inflating: /content/data/val/masks/Carcinoma_T1C+_111_mask.jpg  \n",
            "  inflating: /content/data/val/masks/Carcinoma_T1C+_21_mask.jpg  \n",
            "  inflating: /content/data/val/masks/Carcinoma_T1C+_58_mask.jpg  \n",
            "  inflating: /content/data/val/masks/Carcinoma_T1C+_81_mask.jpg  \n",
            "  inflating: /content/data/val/masks/Carcinoma_T1C+_86_mask.jpg  \n",
            "  inflating: /content/data/val/masks/Carcinoma_T1C+_91_mask.jpg  \n",
            "  inflating: /content/data/val/masks/Carcinoma_T1_20_mask.jpg  \n",
            "  inflating: /content/data/val/masks/Carcinoma_T1_3_mask.jpg  \n",
            "  inflating: /content/data/val/masks/Carcinoma_T1_44_mask.jpg  \n",
            "  inflating: /content/data/val/masks/Carcinoma_T1_45_mask.jpg  \n",
            "  inflating: /content/data/val/masks/Carcinoma_T1_50_mask.jpg  \n",
            "  inflating: /content/data/val/masks/Carcinoma_T1_51_mask.jpg  \n",
            "  inflating: /content/data/val/masks/Carcinoma_T1_58_mask.jpg  \n",
            "  inflating: /content/data/val/masks/Carcinoma_T1_59_mask.jpg  \n",
            "  inflating: /content/data/val/masks/Carcinoma_T2_12_mask.jpg  \n",
            "  inflating: /content/data/val/masks/Carcinoma_T2_27_mask.jpg  \n",
            "  inflating: /content/data/val/masks/Carcinoma_T2_2_mask.jpg  \n",
            "  inflating: /content/data/val/masks/Carcinoma_T2_32_mask.jpg  \n",
            "  inflating: /content/data/val/masks/Carcinoma_T2_56_mask.jpg  \n",
            "  inflating: /content/data/val/masks/Carcinoma_T2_59_mask.jpg  \n",
            "  inflating: /content/data/val/masks/Carcinoma_T2_62_mask.jpg  \n",
            "  inflating: /content/data/val/masks/Carcinoma_T2_6_mask.jpg  \n",
            "  inflating: /content/data/val/masks/Carcinoma_T2_8_mask.jpg  \n",
            "  inflating: /content/data/val/masks/Carcinoma_T2_9_mask.jpg  \n",
            "  inflating: /content/data/val/masks/Ependimoma_T1C+_12_mask.jpg  \n",
            "  inflating: /content/data/val/masks/Ependimoma_T1C+_19_mask.jpg  \n",
            "  inflating: /content/data/val/masks/Ependimoma_T1C+_25_mask.jpg  \n",
            "  inflating: /content/data/val/masks/Ependimoma_T1C+_38_mask.jpg  \n",
            "  inflating: /content/data/val/masks/Ependimoma_T1C+_42_mask.jpg  \n",
            "  inflating: /content/data/val/masks/Ependimoma_T1C+_45_mask.jpg  \n",
            "  inflating: /content/data/val/masks/Ependimoma_T1C+_9_mask.jpg  \n",
            "  inflating: /content/data/val/masks/Ependimoma_T1_28_mask.jpg  \n",
            "  inflating: /content/data/val/masks/Ependimoma_T1_31_mask.jpg  \n",
            "  inflating: /content/data/val/masks/Ependimoma_T1_8_mask.jpg  \n",
            "  inflating: /content/data/val/masks/Ependimoma_T2_40_mask.jpg  \n",
            "  inflating: /content/data/val/masks/Ependimoma_T2_46_mask.jpg  \n",
            "  inflating: /content/data/val/masks/Ependimoma_T2_50_mask.jpg  \n",
            "  inflating: /content/data/val/masks/Ependimoma_T2_54_mask.jpg  \n",
            "  inflating: /content/data/val/masks/Ependimoma_T2_57_mask.jpg  \n",
            "  inflating: /content/data/val/masks/Ependimoma_T2_7_mask.jpg  \n",
            "  inflating: /content/data/val/masks/Ganglioglioma_T1C+_11_mask.jpg  \n",
            "  inflating: /content/data/val/masks/Ganglioglioma_T1C+_4_mask.jpg  \n",
            "  inflating: /content/data/val/masks/Ganglioglioma_T1C+_9_mask.jpg  \n",
            "  inflating: /content/data/val/masks/Ganglioglioma_T1_1_mask.jpg  \n",
            "  inflating: /content/data/val/masks/Ganglioglioma_T1_7_mask.jpg  \n",
            "  inflating: /content/data/val/masks/Ganglioglioma_T2_13_mask.jpg  \n",
            "  inflating: /content/data/val/masks/Ganglioglioma_T2_8_mask.jpg  \n",
            "  inflating: /content/data/val/masks/Germinoma_T1C+_18_mask.jpg  \n",
            "  inflating: /content/data/val/masks/Germinoma_T1C+_19_mask.jpg  \n",
            "  inflating: /content/data/val/masks/Germinoma_T1C+_1_mask.jpg  \n",
            "  inflating: /content/data/val/masks/Germinoma_T1C+_36_mask.jpg  \n",
            "  inflating: /content/data/val/masks/Germinoma_T1_22_mask.jpg  \n",
            "  inflating: /content/data/val/masks/Germinoma_T1_5_mask.jpg  \n",
            "  inflating: /content/data/val/masks/Germinoma_T2_15_mask.jpg  \n",
            "  inflating: /content/data/val/masks/Germinoma_T2_17_mask.jpg  \n",
            "  inflating: /content/data/val/masks/Germinoma_T2_2_mask.jpg  \n",
            "  inflating: /content/data/val/masks/Germinoma_T2_30_mask.jpg  \n",
            "  inflating: /content/data/val/masks/Germinoma_T2_32_mask.jpg  \n",
            "  inflating: /content/data/val/masks/Glioblastoma_T1C+_21_mask.jpg  \n",
            "  inflating: /content/data/val/masks/Glioblastoma_T1C+_30_mask.jpg  \n",
            "  inflating: /content/data/val/masks/Glioblastoma_T1C+_31_mask.jpg  \n",
            "  inflating: /content/data/val/masks/Glioblastoma_T1C+_32_mask.jpg  \n",
            "  inflating: /content/data/val/masks/Glioblastoma_T1C+_44_mask.jpg  \n",
            "  inflating: /content/data/val/masks/Glioblastoma_T1C+_72_mask.jpg  \n",
            "  inflating: /content/data/val/masks/Glioblastoma_T1C+_73_mask.jpg  \n",
            "  inflating: /content/data/val/masks/Glioblastoma_T1_16_mask.jpg  \n",
            "  inflating: /content/data/val/masks/Glioblastoma_T1_1_mask.jpg  \n",
            "  inflating: /content/data/val/masks/Glioblastoma_T1_25_mask.jpg  \n",
            "  inflating: /content/data/val/masks/Glioblastoma_T1_47_mask.jpg  \n",
            "  inflating: /content/data/val/masks/Glioblastoma_T1_53_mask.jpg  \n",
            "  inflating: /content/data/val/masks/Glioblastoma_T2_14_mask.jpg  \n",
            "  inflating: /content/data/val/masks/Glioblastoma_T2_25_mask.jpg  \n",
            "  inflating: /content/data/val/masks/Glioblastoma_T2_30_mask.jpg  \n",
            "  inflating: /content/data/val/masks/Glioblastoma_T2_35_mask.jpg  \n",
            "  inflating: /content/data/val/masks/Glioblastoma_T2_39_mask.jpg  \n",
            "  inflating: /content/data/val/masks/Glioblastoma_T2_3_mask.jpg  \n",
            "  inflating: /content/data/val/masks/Glioblastoma_T2_40_mask.jpg  \n",
            "  inflating: /content/data/val/masks/Glioblastoma_T2_52_mask.jpg  \n",
            "  inflating: /content/data/val/masks/Glioblastoma_T2_54_mask.jpg  \n",
            "  inflating: /content/data/val/masks/Granuloma_T1C+_20_mask.jpg  \n",
            "  inflating: /content/data/val/masks/Granuloma_T1_11_mask.jpg  \n",
            "  inflating: /content/data/val/masks/Granuloma_T1_20_mask.jpg  \n",
            "  inflating: /content/data/val/masks/Granuloma_T1_30_mask.jpg  \n",
            "  inflating: /content/data/val/masks/Granuloma_T1_6_mask.jpg  \n",
            "  inflating: /content/data/val/masks/Granuloma_T2_11_mask.jpg  \n",
            "  inflating: /content/data/val/masks/Granuloma_T2_17_mask.jpg  \n",
            "  inflating: /content/data/val/masks/Granuloma_T2_2_mask.jpg  \n",
            "  inflating: /content/data/val/masks/Meduloblastoma_T1C+_15_mask.jpg  \n",
            "  inflating: /content/data/val/masks/Meduloblastoma_T1C+_29_mask.jpg  \n",
            "  inflating: /content/data/val/masks/Meduloblastoma_T1C+_30_mask.jpg  \n",
            "  inflating: /content/data/val/masks/Meduloblastoma_T1C+_45_mask.jpg  \n",
            "  inflating: /content/data/val/masks/Meduloblastoma_T1C+_55_mask.jpg  \n",
            "  inflating: /content/data/val/masks/Meduloblastoma_T1C+_9_mask.jpg  \n",
            "  inflating: /content/data/val/masks/Meduloblastoma_T1_1_mask.jpg  \n",
            "  inflating: /content/data/val/masks/Meduloblastoma_T2_12_mask.jpg  \n",
            "  inflating: /content/data/val/masks/Meduloblastoma_T2_15_mask.jpg  \n",
            "  inflating: /content/data/val/masks/Meduloblastoma_T2_17_mask.jpg  \n",
            "  inflating: /content/data/val/masks/Meduloblastoma_T2_38_mask.jpg  \n",
            "  inflating: /content/data/val/masks/Meduloblastoma_T2_3_mask.jpg  \n",
            "  inflating: /content/data/val/masks/Meduloblastoma_T2_40_mask.jpg  \n",
            "  inflating: /content/data/val/masks/Meduloblastoma_T2_41_mask.jpg  \n",
            "  inflating: /content/data/val/masks/Meningioma_T1C+_100_mask.jpg  \n",
            "  inflating: /content/data/val/masks/Meningioma_T1C+_101_mask.jpg  \n",
            "  inflating: /content/data/val/masks/Meningioma_T1C+_104_mask.jpg  \n",
            "  inflating: /content/data/val/masks/Meningioma_T1C+_106_mask.jpg  \n",
            "  inflating: /content/data/val/masks/Meningioma_T1C+_119_mask.jpg  \n",
            "  inflating: /content/data/val/masks/Meningioma_T1C+_121_mask.jpg  \n",
            "  inflating: /content/data/val/masks/Meningioma_T1C+_122_mask.jpg  \n",
            "  inflating: /content/data/val/masks/Meningioma_T1C+_124_mask.jpg  \n",
            "  inflating: /content/data/val/masks/Meningioma_T1C+_126_mask.jpg  \n",
            "  inflating: /content/data/val/masks/Meningioma_T1C+_128_mask.jpg  \n",
            "  inflating: /content/data/val/masks/Meningioma_T1C+_136_mask.jpg  \n",
            "  inflating: /content/data/val/masks/Meningioma_T1C+_138_mask.jpg  \n",
            "  inflating: /content/data/val/masks/Meningioma_T1C+_14_mask.jpg  \n",
            "  inflating: /content/data/val/masks/Meningioma_T1C+_150_mask.jpg  \n",
            "  inflating: /content/data/val/masks/Meningioma_T1C+_162_mask.jpg  \n",
            "  inflating: /content/data/val/masks/Meningioma_T1C+_166_mask.jpg  \n",
            "  inflating: /content/data/val/masks/Meningioma_T1C+_16_mask.jpg  \n",
            "  inflating: /content/data/val/masks/Meningioma_T1C+_172_mask.jpg  \n",
            "  inflating: /content/data/val/masks/Meningioma_T1C+_191_mask.jpg  \n",
            "  inflating: /content/data/val/masks/Meningioma_T1C+_194_mask.jpg  \n",
            "  inflating: /content/data/val/masks/Meningioma_T1C+_245_mask.jpg  \n",
            "  inflating: /content/data/val/masks/Meningioma_T1C+_251_mask.jpg  \n",
            "  inflating: /content/data/val/masks/Meningioma_T1C+_264_mask.jpg  \n",
            "  inflating: /content/data/val/masks/Meningioma_T1C+_268_mask.jpg  \n",
            "  inflating: /content/data/val/masks/Meningioma_T1C+_271_mask.jpg  \n",
            "  inflating: /content/data/val/masks/Meningioma_T1C+_278_mask.jpg  \n",
            "  inflating: /content/data/val/masks/Meningioma_T1C+_282_mask.jpg  \n",
            "  inflating: /content/data/val/masks/Meningioma_T1C+_28_mask.jpg  \n",
            "  inflating: /content/data/val/masks/Meningioma_T1C+_292_mask.jpg  \n",
            "  inflating: /content/data/val/masks/Meningioma_T1C+_298_mask.jpg  \n",
            "  inflating: /content/data/val/masks/Meningioma_T1C+_321_mask.jpg  \n",
            "  inflating: /content/data/val/masks/Meningioma_T1C+_325_mask.jpg  \n",
            "  inflating: /content/data/val/masks/Meningioma_T1C+_355_mask.jpg  \n",
            "  inflating: /content/data/val/masks/Meningioma_T1C+_367_mask.jpg  \n",
            "  inflating: /content/data/val/masks/Meningioma_T1C+_3_mask.jpg  \n",
            "  inflating: /content/data/val/masks/Meningioma_T1C+_40_mask.jpg  \n",
            "  inflating: /content/data/val/masks/Meningioma_T1C+_41_mask.jpg  \n",
            "  inflating: /content/data/val/masks/Meningioma_T1C+_53_mask.jpg  \n",
            "  inflating: /content/data/val/masks/Meningioma_T1C+_73_mask.jpg  \n",
            "  inflating: /content/data/val/masks/Meningioma_T1C+_94_mask.jpg  \n",
            "  inflating: /content/data/val/masks/Meningioma_T1_101_mask.jpg  \n",
            "  inflating: /content/data/val/masks/Meningioma_T1_102_mask.jpg  \n",
            "  inflating: /content/data/val/masks/Meningioma_T1_106_mask.jpg  \n",
            "  inflating: /content/data/val/masks/Meningioma_T1_123_mask.jpg  \n",
            "  inflating: /content/data/val/masks/Meningioma_T1_130_mask.jpg  \n",
            "  inflating: /content/data/val/masks/Meningioma_T1_151_mask.jpg  \n",
            "  inflating: /content/data/val/masks/Meningioma_T1_156_mask.jpg  \n",
            "  inflating: /content/data/val/masks/Meningioma_T1_157_mask.jpg  \n",
            "  inflating: /content/data/val/masks/Meningioma_T1_160_mask.jpg  \n",
            "  inflating: /content/data/val/masks/Meningioma_T1_193_mask.jpg  \n",
            "  inflating: /content/data/val/masks/Meningioma_T1_19_mask.jpg  \n",
            "  inflating: /content/data/val/masks/Meningioma_T1_202_mask.jpg  \n",
            "  inflating: /content/data/val/masks/Meningioma_T1_205_mask.jpg  \n",
            "  inflating: /content/data/val/masks/Meningioma_T1_222_mask.jpg  \n",
            "  inflating: /content/data/val/masks/Meningioma_T1_229_mask.jpg  \n",
            "  inflating: /content/data/val/masks/Meningioma_T1_252_mask.jpg  \n",
            "  inflating: /content/data/val/masks/Meningioma_T1_29_mask.jpg  \n",
            "  inflating: /content/data/val/masks/Meningioma_T1_31_mask.jpg  \n",
            "  inflating: /content/data/val/masks/Meningioma_T1_43_mask.jpg  \n",
            "  inflating: /content/data/val/masks/Meningioma_T1_50_mask.jpg  \n",
            "  inflating: /content/data/val/masks/Meningioma_T1_57_mask.jpg  \n",
            "  inflating: /content/data/val/masks/Meningioma_T1_72_mask.jpg  \n",
            "  inflating: /content/data/val/masks/Meningioma_T1_75_mask.jpg  \n",
            "  inflating: /content/data/val/masks/Meningioma_T1_8_mask.jpg  \n",
            "  inflating: /content/data/val/masks/Meningioma_T1_94_mask.jpg  \n",
            "  inflating: /content/data/val/masks/Meningioma_T2_10_mask.jpg  \n",
            "  inflating: /content/data/val/masks/Meningioma_T2_112_mask.jpg  \n",
            "  inflating: /content/data/val/masks/Meningioma_T2_124_mask.jpg  \n",
            "  inflating: /content/data/val/masks/Meningioma_T2_125_mask.jpg  \n",
            "  inflating: /content/data/val/masks/Meningioma_T2_133_mask.jpg  \n",
            "  inflating: /content/data/val/masks/Meningioma_T2_148_mask.jpg  \n",
            "  inflating: /content/data/val/masks/Meningioma_T2_159_mask.jpg  \n",
            "  inflating: /content/data/val/masks/Meningioma_T2_160_mask.jpg  \n",
            "  inflating: /content/data/val/masks/Meningioma_T2_161_mask.jpg  \n",
            "  inflating: /content/data/val/masks/Meningioma_T2_178_mask.jpg  \n",
            "  inflating: /content/data/val/masks/Meningioma_T2_17_mask.jpg  \n",
            "  inflating: /content/data/val/masks/Meningioma_T2_182_mask.jpg  \n",
            "  inflating: /content/data/val/masks/Meningioma_T2_184_mask.jpg  \n",
            "  inflating: /content/data/val/masks/Meningioma_T2_191_mask.jpg  \n",
            "  inflating: /content/data/val/masks/Meningioma_T2_202_mask.jpg  \n",
            "  inflating: /content/data/val/masks/Meningioma_T2_208_mask.jpg  \n",
            "  inflating: /content/data/val/masks/Meningioma_T2_216_mask.jpg  \n",
            "  inflating: /content/data/val/masks/Meningioma_T2_221_mask.jpg  \n",
            "  inflating: /content/data/val/masks/Meningioma_T2_39_mask.jpg  \n",
            "  inflating: /content/data/val/masks/Meningioma_T2_71_mask.jpg  \n",
            "  inflating: /content/data/val/masks/Meningioma_T2_74_mask.jpg  \n",
            "  inflating: /content/data/val/masks/Meningioma_T2_80_mask.jpg  \n",
            "  inflating: /content/data/val/masks/Meningioma_T2_91_mask.jpg  \n",
            "  inflating: /content/data/val/masks/Neurocitoma_T1C+_103_mask.jpg  \n",
            "  inflating: /content/data/val/masks/Neurocitoma_T1C+_105_mask.jpg  \n",
            "  inflating: /content/data/val/masks/Neurocitoma_T1C+_160_mask.jpg  \n",
            "  inflating: /content/data/val/masks/Neurocitoma_T1C+_16_mask.jpg  \n",
            "  inflating: /content/data/val/masks/Neurocitoma_T1C+_175_mask.jpg  \n",
            "  inflating: /content/data/val/masks/Neurocitoma_T1C+_177_mask.jpg  \n",
            "  inflating: /content/data/val/masks/Neurocitoma_T1C+_182_mask.jpg  \n",
            "  inflating: /content/data/val/masks/Neurocitoma_T1C+_183_mask.jpg  \n",
            "  inflating: /content/data/val/masks/Neurocitoma_T1C+_185_mask.jpg  \n",
            "  inflating: /content/data/val/masks/Neurocitoma_T1C+_204_mask.jpg  \n",
            "  inflating: /content/data/val/masks/Neurocitoma_T1C+_208_mask.jpg  \n",
            "  inflating: /content/data/val/masks/Neurocitoma_T1C+_21_mask.jpg  \n",
            "  inflating: /content/data/val/masks/Neurocitoma_T1C+_29_mask.jpg  \n",
            "  inflating: /content/data/val/masks/Neurocitoma_T1C+_50_mask.jpg  \n",
            "  inflating: /content/data/val/masks/Neurocitoma_T1C+_55_mask.jpg  \n",
            "  inflating: /content/data/val/masks/Neurocitoma_T1C+_66_mask.jpg  \n",
            "  inflating: /content/data/val/masks/Neurocitoma_T1C+_86_mask.jpg  \n",
            "  inflating: /content/data/val/masks/Neurocitoma_T1C+_8_mask.jpg  \n",
            "  inflating: /content/data/val/masks/Neurocitoma_T1C+_90_mask.jpg  \n",
            "  inflating: /content/data/val/masks/Neurocitoma_T1_107_mask.jpg  \n",
            "  inflating: /content/data/val/masks/Neurocitoma_T1_108_mask.jpg  \n",
            "  inflating: /content/data/val/masks/Neurocitoma_T1_116_mask.jpg  \n",
            "  inflating: /content/data/val/masks/Neurocitoma_T1_119_mask.jpg  \n",
            "  inflating: /content/data/val/masks/Neurocitoma_T1_123_mask.jpg  \n",
            "  inflating: /content/data/val/masks/Neurocitoma_T1_125_mask.jpg  \n",
            "  inflating: /content/data/val/masks/Neurocitoma_T1_35_mask.jpg  \n",
            "  inflating: /content/data/val/masks/Neurocitoma_T1_47_mask.jpg  \n",
            "  inflating: /content/data/val/masks/Neurocitoma_T1_50_mask.jpg  \n",
            "  inflating: /content/data/val/masks/Neurocitoma_T1_60_mask.jpg  \n",
            "  inflating: /content/data/val/masks/Neurocitoma_T1_66_mask.jpg  \n",
            "  inflating: /content/data/val/masks/Neurocitoma_T1_70_mask.jpg  \n",
            "  inflating: /content/data/val/masks/Neurocitoma_T1_88_mask.jpg  \n",
            "  inflating: /content/data/val/masks/Neurocitoma_T1_89_mask.jpg  \n",
            "  inflating: /content/data/val/masks/Neurocitoma_T1_8_mask.jpg  \n",
            "  inflating: /content/data/val/masks/Neurocitoma_T1_96_mask.jpg  \n",
            "  inflating: /content/data/val/masks/Neurocitoma_T2_103_mask.jpg  \n",
            "  inflating: /content/data/val/masks/Neurocitoma_T2_21_mask.jpg  \n",
            "  inflating: /content/data/val/masks/Neurocitoma_T2_36_mask.jpg  \n",
            "  inflating: /content/data/val/masks/Neurocitoma_T2_39_mask.jpg  \n",
            "  inflating: /content/data/val/masks/Neurocitoma_T2_60_mask.jpg  \n",
            "  inflating: /content/data/val/masks/Neurocitoma_T2_61_mask.jpg  \n",
            "  inflating: /content/data/val/masks/Neurocitoma_T2_67_mask.jpg  \n",
            "  inflating: /content/data/val/masks/Neurocitoma_T2_74_mask.jpg  \n",
            "  inflating: /content/data/val/masks/Neurocitoma_T2_77_mask.jpg  \n",
            "  inflating: /content/data/val/masks/Neurocitoma_T2_79_mask.jpg  \n",
            "  inflating: /content/data/val/masks/Neurocitoma_T2_91_mask.jpg  \n",
            "  inflating: /content/data/val/masks/Oligodendroglioma_T1C+_10_mask.jpg  \n",
            "  inflating: /content/data/val/masks/Oligodendroglioma_T1C+_38_mask.jpg  \n",
            "  inflating: /content/data/val/masks/Oligodendroglioma_T1C+_40_mask.jpg  \n",
            "  inflating: /content/data/val/masks/Oligodendroglioma_T1C+_4_mask.jpg  \n",
            "  inflating: /content/data/val/masks/Oligodendroglioma_T1C+_52_mask.jpg  \n",
            "  inflating: /content/data/val/masks/Oligodendroglioma_T1C+_53_mask.jpg  \n",
            "  inflating: /content/data/val/masks/Oligodendroglioma_T1C+_55_mask.jpg  \n",
            "  inflating: /content/data/val/masks/Oligodendroglioma_T1_17_mask.jpg  \n",
            "  inflating: /content/data/val/masks/Oligodendroglioma_T1_26_mask.jpg  \n",
            "  inflating: /content/data/val/masks/Oligodendroglioma_T1_36_mask.jpg  \n",
            "  inflating: /content/data/val/masks/Oligodendroglioma_T1_48_mask.jpg  \n",
            "  inflating: /content/data/val/masks/Oligodendroglioma_T1_55_mask.jpg  \n",
            "  inflating: /content/data/val/masks/Oligodendroglioma_T1_61_mask.jpg  \n",
            "  inflating: /content/data/val/masks/Oligodendroglioma_T1_63_mask.jpg  \n",
            "  inflating: /content/data/val/masks/Oligodendroglioma_T2_15_mask.jpg  \n",
            "  inflating: /content/data/val/masks/Oligodendroglioma_T2_20_mask.jpg  \n",
            "  inflating: /content/data/val/masks/Oligodendroglioma_T2_21_mask.jpg  \n",
            "  inflating: /content/data/val/masks/Oligodendroglioma_T2_25_mask.jpg  \n",
            "  inflating: /content/data/val/masks/Oligodendroglioma_T2_48_mask.jpg  \n",
            "  inflating: /content/data/val/masks/Oligodendroglioma_T2_54_mask.jpg  \n",
            "  inflating: /content/data/val/masks/Oligodendroglioma_T2_55_mask.jpg  \n",
            "  inflating: /content/data/val/masks/Oligodendroglioma_T2_64_mask.jpg  \n",
            "  inflating: /content/data/val/masks/Oligodendroglioma_T2_66_mask.jpg  \n",
            "  inflating: /content/data/val/masks/Papiloma_T1C+_103_mask.jpg  \n",
            "  inflating: /content/data/val/masks/Papiloma_T1C+_13_mask.jpg  \n",
            "  inflating: /content/data/val/masks/Papiloma_T1C+_21_mask.jpg  \n",
            "  inflating: /content/data/val/masks/Papiloma_T1C+_46_mask.jpg  \n",
            "  inflating: /content/data/val/masks/Papiloma_T1C+_55_mask.jpg  \n",
            "  inflating: /content/data/val/masks/Papiloma_T1C+_56_mask.jpg  \n",
            "  inflating: /content/data/val/masks/Papiloma_T1C+_5_mask.jpg  \n",
            "  inflating: /content/data/val/masks/Papiloma_T1C+_66_mask.jpg  \n",
            "  inflating: /content/data/val/masks/Papiloma_T1C+_72_mask.jpg  \n",
            "  inflating: /content/data/val/masks/Papiloma_T1C+_78_mask.jpg  \n",
            "  inflating: /content/data/val/masks/Papiloma_T1C+_87_mask.jpg  \n",
            "  inflating: /content/data/val/masks/Papiloma_T1C+_88_mask.jpg  \n",
            "  inflating: /content/data/val/masks/Papiloma_T1C+_90_mask.jpg  \n",
            "  inflating: /content/data/val/masks/Papiloma_T1_15_mask.jpg  \n",
            "  inflating: /content/data/val/masks/Papiloma_T1_31_mask.jpg  \n",
            "  inflating: /content/data/val/masks/Papiloma_T1_33_mask.jpg  \n",
            "  inflating: /content/data/val/masks/Papiloma_T1_47_mask.jpg  \n",
            "  inflating: /content/data/val/masks/Papiloma_T1_48_mask.jpg  \n",
            "  inflating: /content/data/val/masks/Papiloma_T1_60_mask.jpg  \n",
            "  inflating: /content/data/val/masks/Papiloma_T1_65_mask.jpg  \n",
            "  inflating: /content/data/val/masks/Papiloma_T1_7_mask.jpg  \n",
            "  inflating: /content/data/val/masks/Papiloma_T2_29_mask.jpg  \n",
            "  inflating: /content/data/val/masks/Papiloma_T2_39_mask.jpg  \n",
            "  inflating: /content/data/val/masks/Papiloma_T2_47_mask.jpg  \n",
            "  inflating: /content/data/val/masks/Schwannoma_T1C+_107_mask.jpg  \n",
            "  inflating: /content/data/val/masks/Schwannoma_T1C+_128_mask.jpg  \n",
            "  inflating: /content/data/val/masks/Schwannoma_T1C+_141_mask.jpg  \n",
            "  inflating: /content/data/val/masks/Schwannoma_T1C+_147_mask.jpg  \n",
            "  inflating: /content/data/val/masks/Schwannoma_T1C+_152_mask.jpg  \n",
            "  inflating: /content/data/val/masks/Schwannoma_T1C+_165_mask.jpg  \n",
            "  inflating: /content/data/val/masks/Schwannoma_T1C+_170_mask.jpg  \n",
            "  inflating: /content/data/val/masks/Schwannoma_T1C+_190_mask.jpg  \n",
            "  inflating: /content/data/val/masks/Schwannoma_T1C+_194_mask.jpg  \n",
            "  inflating: /content/data/val/masks/Schwannoma_T1C+_19_mask.jpg  \n",
            "  inflating: /content/data/val/masks/Schwannoma_T1C+_25_mask.jpg  \n",
            "  inflating: /content/data/val/masks/Schwannoma_T1C+_29_mask.jpg  \n",
            "  inflating: /content/data/val/masks/Schwannoma_T1C+_39_mask.jpg  \n",
            "  inflating: /content/data/val/masks/Schwannoma_T1C+_42_mask.jpg  \n",
            "  inflating: /content/data/val/masks/Schwannoma_T1C+_51_mask.jpg  \n",
            "  inflating: /content/data/val/masks/Schwannoma_T1C+_62_mask.jpg  \n",
            "  inflating: /content/data/val/masks/Schwannoma_T1C+_6_mask.jpg  \n",
            "  inflating: /content/data/val/masks/Schwannoma_T1C+_77_mask.jpg  \n",
            "  inflating: /content/data/val/masks/Schwannoma_T1C+_80_mask.jpg  \n",
            "  inflating: /content/data/val/masks/Schwannoma_T1C+_83_mask.jpg  \n",
            "  inflating: /content/data/val/masks/Schwannoma_T1C+_88_mask.jpg  \n",
            "  inflating: /content/data/val/masks/Schwannoma_T1C+_91_mask.jpg  \n",
            "  inflating: /content/data/val/masks/Schwannoma_T1C+_9_mask.jpg  \n",
            "  inflating: /content/data/val/masks/Schwannoma_T1_100_mask.jpg  \n",
            "  inflating: /content/data/val/masks/Schwannoma_T1_107_mask.jpg  \n",
            "  inflating: /content/data/val/masks/Schwannoma_T1_140_mask.jpg  \n",
            "  inflating: /content/data/val/masks/Schwannoma_T1_147_mask.jpg  \n",
            "  inflating: /content/data/val/masks/Schwannoma_T1_48_mask.jpg  \n",
            "  inflating: /content/data/val/masks/Schwannoma_T1_53_mask.jpg  \n",
            "  inflating: /content/data/val/masks/Schwannoma_T1_62_mask.jpg  \n",
            "  inflating: /content/data/val/masks/Schwannoma_T1_63_mask.jpg  \n",
            "  inflating: /content/data/val/masks/Schwannoma_T1_70_mask.jpg  \n",
            "  inflating: /content/data/val/masks/Schwannoma_T1_83_mask.jpg  \n",
            "  inflating: /content/data/val/masks/Schwannoma_T1_93_mask.jpg  \n",
            "  inflating: /content/data/val/masks/Schwannoma_T2_13_mask.jpg  \n",
            "  inflating: /content/data/val/masks/Schwannoma_T2_19_mask.jpg  \n",
            "  inflating: /content/data/val/masks/Schwannoma_T2_25_mask.jpg  \n",
            "  inflating: /content/data/val/masks/Schwannoma_T2_47_mask.jpg  \n",
            "  inflating: /content/data/val/masks/Schwannoma_T2_51_mask.jpg  \n",
            "  inflating: /content/data/val/masks/Schwannoma_T2_65_mask.jpg  \n",
            "  inflating: /content/data/val/masks/Schwannoma_T2_77_mask.jpg  \n",
            "  inflating: /content/data/val/masks/Schwannoma_T2_81_mask.jpg  \n",
            "  inflating: /content/data/val/masks/Schwannoma_T2_84_mask.jpg  \n",
            "  inflating: /content/data/val/masks/Schwannoma_T2_85_mask.jpg  \n",
            "  inflating: /content/data/val/masks/Schwannoma_T2_86_mask.jpg  \n",
            "  inflating: /content/data/val/masks/Schwannoma_T2_8_mask.jpg  \n",
            "  inflating: /content/data/val/masks/Schwannoma_T2_96_mask.jpg  \n",
            "  inflating: /content/data/val/masks/Tuberculoma_T1C+_14_mask.jpg  \n",
            "  inflating: /content/data/val/masks/Tuberculoma_T1C+_20_mask.jpg  \n",
            "  inflating: /content/data/val/masks/Tuberculoma_T1C+_27_mask.jpg  \n",
            "  inflating: /content/data/val/masks/Tuberculoma_T1C+_45_mask.jpg  \n",
            "  inflating: /content/data/val/masks/Tuberculoma_T1C+_46_mask.jpg  \n",
            "  inflating: /content/data/val/masks/Tuberculoma_T1C+_62_mask.jpg  \n",
            "  inflating: /content/data/val/masks/Tuberculoma_T1C+_64_mask.jpg  \n",
            "  inflating: /content/data/val/masks/Tuberculoma_T1C+_78_mask.jpg  \n",
            "  inflating: /content/data/val/masks/Tuberculoma_T1_20_mask.jpg  \n",
            "  inflating: /content/data/val/masks/Tuberculoma_T1_7_mask.jpg  \n",
            "  inflating: /content/data/val/masks/Tuberculoma_T1_8_mask.jpg  \n",
            "  inflating: /content/data/val/masks/Tuberculoma_T1_9_mask.jpg  \n",
            "  inflating: /content/data/val/masks/Tuberculoma_T2_14_mask.jpg  \n",
            "  inflating: /content/data/val/masks/Tuberculoma_T2_26_mask.jpg  \n",
            "  inflating: /content/data/val/masks/Tuberculoma_T2_28_mask.jpg  \n",
            "  inflating: /content/data.yaml      \n"
          ]
        }
      ],
      "source": [
        "!unzip \"/content/drive/MyDrive/TumorSegmentasyon/data.zip\" -d \"/content/\""
      ]
    },
    {
      "cell_type": "code",
      "execution_count": null,
      "metadata": {
        "colab": {
          "background_save": true
        },
        "id": "n0SAHlCNAwSS",
        "outputId": "dd40ff7e-e979-44d6-a66e-e1db25983ea4"
      },
      "outputs": [
        {
          "name": "stdout",
          "output_type": "stream",
          "text": [
            "Downloading https://github.com/ultralytics/assets/releases/download/v8.3.0/yolov8x-seg.pt to 'yolov8x-seg.pt'...\n"
          ]
        },
        {
          "name": "stderr",
          "output_type": "stream",
          "text": [
            "100%|██████████| 137M/137M [00:04<00:00, 32.3MB/s]\n"
          ]
        }
      ],
      "source": [
        "model = YOLO('yolov8x-seg.pt')"
      ]
    },
    {
      "cell_type": "code",
      "execution_count": null,
      "metadata": {
        "colab": {
          "background_save": true
        },
        "id": "ljLMUOGmA3Nz",
        "outputId": "49f67ab2-ba26-4dcb-86aa-a696cf0964ba"
      },
      "outputs": [
        {
          "name": "stdout",
          "output_type": "stream",
          "text": [
            "Ultralytics 8.3.49 🚀 Python-3.10.12 torch-2.5.1+cu121 CUDA:0 (NVIDIA A100-SXM4-40GB, 40514MiB)\n",
            "\u001b[34m\u001b[1mengine/trainer: \u001b[0mtask=segment, mode=train, model=yolov8x-seg.pt, data=data.yaml, epochs=500, time=None, patience=100, batch=16, imgsz=640, save=True, save_period=-1, cache=False, device=None, workers=8, project=None, name=train, exist_ok=False, pretrained=True, optimizer=auto, verbose=True, seed=0, deterministic=True, single_cls=False, rect=False, cos_lr=False, close_mosaic=10, resume=False, amp=True, fraction=1.0, profile=False, freeze=None, multi_scale=False, overlap_mask=True, mask_ratio=4, dropout=0.0, val=True, split=val, save_json=False, save_hybrid=False, conf=None, iou=0.7, max_det=300, half=False, dnn=False, plots=True, source=None, vid_stride=1, stream_buffer=False, visualize=False, augment=False, agnostic_nms=False, classes=None, retina_masks=False, embed=None, show=False, save_frames=False, save_txt=False, save_conf=False, save_crop=False, show_labels=True, show_conf=True, show_boxes=True, line_width=None, format=torchscript, keras=False, optimize=False, int8=False, dynamic=False, simplify=True, opset=None, workspace=None, nms=False, lr0=0.01, lrf=0.01, momentum=0.937, weight_decay=0.0005, warmup_epochs=3.0, warmup_momentum=0.8, warmup_bias_lr=0.1, box=7.5, cls=0.5, dfl=1.5, pose=12.0, kobj=1.0, nbs=64, hsv_h=0.015, hsv_s=0.7, hsv_v=0.4, degrees=0.0, translate=0.1, scale=0.5, shear=0.0, perspective=0.0, flipud=0.0, fliplr=0.5, bgr=0.0, mosaic=1.0, mixup=0.0, copy_paste=0.0, copy_paste_mode=flip, auto_augment=randaugment, erasing=0.4, crop_fraction=1.0, cfg=None, tracker=botsort.yaml, save_dir=runs/segment/train\n",
            "Downloading https://ultralytics.com/assets/Arial.ttf to '/root/.config/Ultralytics/Arial.ttf'...\n"
          ]
        },
        {
          "name": "stderr",
          "output_type": "stream",
          "text": [
            "100%|██████████| 755k/755k [00:00<00:00, 79.8MB/s]\n"
          ]
        },
        {
          "name": "stdout",
          "output_type": "stream",
          "text": [
            "Overriding model.yaml nc=80 with nc=1\n",
            "\n",
            "                   from  n    params  module                                       arguments                     \n",
            "  0                  -1  1      2320  ultralytics.nn.modules.conv.Conv             [3, 80, 3, 2]                 \n",
            "  1                  -1  1    115520  ultralytics.nn.modules.conv.Conv             [80, 160, 3, 2]               \n",
            "  2                  -1  3    436800  ultralytics.nn.modules.block.C2f             [160, 160, 3, True]           \n",
            "  3                  -1  1    461440  ultralytics.nn.modules.conv.Conv             [160, 320, 3, 2]              \n",
            "  4                  -1  6   3281920  ultralytics.nn.modules.block.C2f             [320, 320, 6, True]           \n",
            "  5                  -1  1   1844480  ultralytics.nn.modules.conv.Conv             [320, 640, 3, 2]              \n",
            "  6                  -1  6  13117440  ultralytics.nn.modules.block.C2f             [640, 640, 6, True]           \n",
            "  7                  -1  1   3687680  ultralytics.nn.modules.conv.Conv             [640, 640, 3, 2]              \n",
            "  8                  -1  3   6969600  ultralytics.nn.modules.block.C2f             [640, 640, 3, True]           \n",
            "  9                  -1  1   1025920  ultralytics.nn.modules.block.SPPF            [640, 640, 5]                 \n",
            " 10                  -1  1         0  torch.nn.modules.upsampling.Upsample         [None, 2, 'nearest']          \n",
            " 11             [-1, 6]  1         0  ultralytics.nn.modules.conv.Concat           [1]                           \n",
            " 12                  -1  3   7379200  ultralytics.nn.modules.block.C2f             [1280, 640, 3]                \n",
            " 13                  -1  1         0  torch.nn.modules.upsampling.Upsample         [None, 2, 'nearest']          \n",
            " 14             [-1, 4]  1         0  ultralytics.nn.modules.conv.Concat           [1]                           \n",
            " 15                  -1  3   1948800  ultralytics.nn.modules.block.C2f             [960, 320, 3]                 \n",
            " 16                  -1  1    922240  ultralytics.nn.modules.conv.Conv             [320, 320, 3, 2]              \n",
            " 17            [-1, 12]  1         0  ultralytics.nn.modules.conv.Concat           [1]                           \n",
            " 18                  -1  3   7174400  ultralytics.nn.modules.block.C2f             [960, 640, 3]                 \n",
            " 19                  -1  1   3687680  ultralytics.nn.modules.conv.Conv             [640, 640, 3, 2]              \n",
            " 20             [-1, 9]  1         0  ultralytics.nn.modules.conv.Concat           [1]                           \n",
            " 21                  -1  3   7379200  ultralytics.nn.modules.block.C2f             [1280, 640, 3]                \n",
            " 22        [15, 18, 21]  1  12317171  ultralytics.nn.modules.head.Segment          [1, 32, 320, [320, 640, 640]] \n",
            "YOLOv8x-seg summary: 401 layers, 71,751,811 parameters, 71,751,795 gradients, 344.5 GFLOPs\n",
            "\n",
            "Transferred 651/657 items from pretrained weights\n",
            "\u001b[34m\u001b[1mTensorBoard: \u001b[0mStart with 'tensorboard --logdir runs/segment/train', view at http://localhost:6006/\n",
            "Freezing layer 'model.22.dfl.conv.weight'\n",
            "\u001b[34m\u001b[1mAMP: \u001b[0mrunning Automatic Mixed Precision (AMP) checks...\n",
            "Downloading https://github.com/ultralytics/assets/releases/download/v8.3.0/yolo11n.pt to 'yolo11n.pt'...\n"
          ]
        },
        {
          "name": "stderr",
          "output_type": "stream",
          "text": [
            "100%|██████████| 5.35M/5.35M [00:00<00:00, 394MB/s]\n"
          ]
        },
        {
          "name": "stdout",
          "output_type": "stream",
          "text": [
            "\u001b[34m\u001b[1mAMP: \u001b[0mchecks passed ✅\n"
          ]
        },
        {
          "name": "stderr",
          "output_type": "stream",
          "text": [
            "\u001b[34m\u001b[1mtrain: \u001b[0mScanning /content/data/train/labels... 3160 images, 0 backgrounds, 0 corrupt: 100%|██████████| 3160/3160 [00:03<00:00, 886.41it/s]"
          ]
        },
        {
          "name": "stdout",
          "output_type": "stream",
          "text": [
            "\u001b[34m\u001b[1mtrain: \u001b[0mNew cache created: /content/data/train/labels.cache\n"
          ]
        },
        {
          "name": "stderr",
          "output_type": "stream",
          "text": [
            "\n"
          ]
        },
        {
          "name": "stdout",
          "output_type": "stream",
          "text": [
            "\u001b[34m\u001b[1malbumentations: \u001b[0mBlur(p=0.01, blur_limit=(3, 7)), MedianBlur(p=0.01, blur_limit=(3, 7)), ToGray(p=0.01, num_output_channels=3, method='weighted_average'), CLAHE(p=0.01, clip_limit=(1.0, 4.0), tile_grid_size=(8, 8))\n"
          ]
        },
        {
          "name": "stderr",
          "output_type": "stream",
          "text": [
            "/usr/local/lib/python3.10/dist-packages/albumentations/__init__.py:24: UserWarning: A new version of Albumentations is available: 1.4.22 (you have 1.4.20). Upgrade using: pip install -U albumentations. To disable automatic update checks, set the environment variable NO_ALBUMENTATIONS_UPDATE to 1.\n",
            "  check_for_updates()\n",
            "\u001b[34m\u001b[1mval: \u001b[0mScanning /content/data/val/labels... 405 images, 0 backgrounds, 0 corrupt: 100%|██████████| 405/405 [00:00<00:00, 677.46it/s]\n"
          ]
        },
        {
          "name": "stdout",
          "output_type": "stream",
          "text": [
            "\u001b[34m\u001b[1mval: \u001b[0mNew cache created: /content/data/val/labels.cache\n",
            "Plotting labels to runs/segment/train/labels.jpg... \n",
            "\u001b[34m\u001b[1moptimizer:\u001b[0m 'optimizer=auto' found, ignoring 'lr0=0.01' and 'momentum=0.937' and determining best 'optimizer', 'lr0' and 'momentum' automatically... \n",
            "\u001b[34m\u001b[1moptimizer:\u001b[0m SGD(lr=0.01, momentum=0.9) with parameter groups 106 weight(decay=0.0), 117 weight(decay=0.0005), 116 bias(decay=0.0)\n",
            "\u001b[34m\u001b[1mTensorBoard: \u001b[0mmodel graph visualization added ✅\n",
            "Image sizes 640 train, 640 val\n",
            "Using 8 dataloader workers\n",
            "Logging results to \u001b[1mruns/segment/train\u001b[0m\n",
            "Starting training for 500 epochs...\n",
            "\n",
            "      Epoch    GPU_mem   box_loss   seg_loss   cls_loss   dfl_loss  Instances       Size\n"
          ]
        },
        {
          "name": "stderr",
          "output_type": "stream",
          "text": [
            "      1/500      15.5G      1.067      1.986      2.047       1.36         12        640: 100%|██████████| 198/198 [01:00<00:00,  3.25it/s]\n",
            "                 Class     Images  Instances      Box(P          R      mAP50  mAP50-95)     Mask(P          R      mAP50  mAP50-95): 100%|██████████| 13/13 [00:04<00:00,  3.14it/s]"
          ]
        },
        {
          "name": "stdout",
          "output_type": "stream",
          "text": [
            "                   all        405        424      0.829      0.606      0.745      0.536      0.768      0.644      0.745      0.529\n"
          ]
        },
        {
          "name": "stderr",
          "output_type": "stream",
          "text": [
            "\n"
          ]
        },
        {
          "name": "stdout",
          "output_type": "stream",
          "text": [
            "\n",
            "      Epoch    GPU_mem   box_loss   seg_loss   cls_loss   dfl_loss  Instances       Size\n"
          ]
        },
        {
          "name": "stderr",
          "output_type": "stream",
          "text": [
            "      2/500      14.7G     0.9919      1.609      1.063      1.243          8        640: 100%|██████████| 198/198 [00:56<00:00,  3.51it/s]\n",
            "                 Class     Images  Instances      Box(P          R      mAP50  mAP50-95)     Mask(P          R      mAP50  mAP50-95): 100%|██████████| 13/13 [00:04<00:00,  3.21it/s]"
          ]
        },
        {
          "name": "stdout",
          "output_type": "stream",
          "text": [
            "                   all        405        424      0.812      0.722      0.804      0.585      0.817      0.717      0.803      0.583\n"
          ]
        },
        {
          "name": "stderr",
          "output_type": "stream",
          "text": [
            "\n"
          ]
        },
        {
          "name": "stdout",
          "output_type": "stream",
          "text": [
            "\n",
            "      Epoch    GPU_mem   box_loss   seg_loss   cls_loss   dfl_loss  Instances       Size\n"
          ]
        },
        {
          "name": "stderr",
          "output_type": "stream",
          "text": [
            "      3/500      15.1G      1.079      1.688      1.062      1.283         10        640: 100%|██████████| 198/198 [00:55<00:00,  3.56it/s]\n",
            "                 Class     Images  Instances      Box(P          R      mAP50  mAP50-95)     Mask(P          R      mAP50  mAP50-95): 100%|██████████| 13/13 [00:04<00:00,  3.15it/s]"
          ]
        },
        {
          "name": "stdout",
          "output_type": "stream",
          "text": [
            "                   all        405        424      0.774      0.679      0.774      0.525      0.846      0.624      0.762      0.531\n"
          ]
        },
        {
          "name": "stderr",
          "output_type": "stream",
          "text": [
            "\n"
          ]
        },
        {
          "name": "stdout",
          "output_type": "stream",
          "text": [
            "\n",
            "      Epoch    GPU_mem   box_loss   seg_loss   cls_loss   dfl_loss  Instances       Size\n"
          ]
        },
        {
          "name": "stderr",
          "output_type": "stream",
          "text": [
            "      4/500      14.6G      1.141       1.81      1.094      1.322         18        640: 100%|██████████| 198/198 [00:55<00:00,  3.59it/s]\n",
            "                 Class     Images  Instances      Box(P          R      mAP50  mAP50-95)     Mask(P          R      mAP50  mAP50-95): 100%|██████████| 13/13 [00:04<00:00,  3.17it/s]\n"
          ]
        },
        {
          "name": "stdout",
          "output_type": "stream",
          "text": [
            "                   all        405        424      0.825      0.722      0.789      0.526      0.822      0.727      0.781       0.53\n",
            "\n",
            "      Epoch    GPU_mem   box_loss   seg_loss   cls_loss   dfl_loss  Instances       Size\n"
          ]
        },
        {
          "name": "stderr",
          "output_type": "stream",
          "text": [
            "      5/500      14.7G      1.137      1.787      1.046      1.325         12        640: 100%|██████████| 198/198 [00:55<00:00,  3.59it/s]\n",
            "                 Class     Images  Instances      Box(P          R      mAP50  mAP50-95)     Mask(P          R      mAP50  mAP50-95): 100%|██████████| 13/13 [00:04<00:00,  3.18it/s]"
          ]
        },
        {
          "name": "stdout",
          "output_type": "stream",
          "text": [
            "                   all        405        424      0.739      0.726      0.784      0.536      0.786      0.693      0.778      0.549\n"
          ]
        },
        {
          "name": "stderr",
          "output_type": "stream",
          "text": [
            "\n"
          ]
        },
        {
          "name": "stdout",
          "output_type": "stream",
          "text": [
            "\n",
            "      Epoch    GPU_mem   box_loss   seg_loss   cls_loss   dfl_loss  Instances       Size\n"
          ]
        },
        {
          "name": "stderr",
          "output_type": "stream",
          "text": [
            "      6/500      14.6G       1.12      1.722      1.003      1.297         16        640: 100%|██████████| 198/198 [00:55<00:00,  3.57it/s]\n",
            "                 Class     Images  Instances      Box(P          R      mAP50  mAP50-95)     Mask(P          R      mAP50  mAP50-95): 100%|██████████| 13/13 [00:04<00:00,  3.21it/s]\n"
          ]
        },
        {
          "name": "stdout",
          "output_type": "stream",
          "text": [
            "                   all        405        424      0.864      0.738      0.822      0.579      0.858      0.733      0.816      0.578\n",
            "\n",
            "      Epoch    GPU_mem   box_loss   seg_loss   cls_loss   dfl_loss  Instances       Size\n"
          ]
        },
        {
          "name": "stderr",
          "output_type": "stream",
          "text": [
            "      7/500      14.7G      1.092        1.7      0.931      1.277         12        640: 100%|██████████| 198/198 [00:55<00:00,  3.59it/s]\n",
            "                 Class     Images  Instances      Box(P          R      mAP50  mAP50-95)     Mask(P          R      mAP50  mAP50-95): 100%|██████████| 13/13 [00:03<00:00,  3.25it/s]\n"
          ]
        },
        {
          "name": "stdout",
          "output_type": "stream",
          "text": [
            "                   all        405        424      0.825      0.758      0.837      0.587      0.819       0.76      0.829      0.594\n",
            "\n",
            "      Epoch    GPU_mem   box_loss   seg_loss   cls_loss   dfl_loss  Instances       Size\n"
          ]
        },
        {
          "name": "stderr",
          "output_type": "stream",
          "text": [
            "      8/500      14.7G      1.078      1.623     0.8984      1.279         21        640: 100%|██████████| 198/198 [00:55<00:00,  3.58it/s]\n",
            "                 Class     Images  Instances      Box(P          R      mAP50  mAP50-95)     Mask(P          R      mAP50  mAP50-95): 100%|██████████| 13/13 [00:04<00:00,  3.17it/s]\n"
          ]
        },
        {
          "name": "stdout",
          "output_type": "stream",
          "text": [
            "                   all        405        424      0.826      0.763      0.835      0.573      0.826      0.763      0.826      0.567\n",
            "\n",
            "      Epoch    GPU_mem   box_loss   seg_loss   cls_loss   dfl_loss  Instances       Size\n"
          ]
        },
        {
          "name": "stderr",
          "output_type": "stream",
          "text": [
            "      9/500      14.6G      1.064      1.658     0.8829      1.269         15        640: 100%|██████████| 198/198 [00:55<00:00,  3.59it/s]\n",
            "                 Class     Images  Instances      Box(P          R      mAP50  mAP50-95)     Mask(P          R      mAP50  mAP50-95): 100%|██████████| 13/13 [00:04<00:00,  3.19it/s]"
          ]
        },
        {
          "name": "stdout",
          "output_type": "stream",
          "text": [
            "                   all        405        424      0.827      0.724      0.816      0.568      0.857      0.705      0.811      0.573\n"
          ]
        },
        {
          "name": "stderr",
          "output_type": "stream",
          "text": [
            "\n"
          ]
        },
        {
          "name": "stdout",
          "output_type": "stream",
          "text": [
            "\n",
            "      Epoch    GPU_mem   box_loss   seg_loss   cls_loss   dfl_loss  Instances       Size\n"
          ]
        },
        {
          "name": "stderr",
          "output_type": "stream",
          "text": [
            "     10/500      14.6G      1.044       1.57     0.8488      1.256         14        640: 100%|██████████| 198/198 [00:55<00:00,  3.59it/s]\n",
            "                 Class     Images  Instances      Box(P          R      mAP50  mAP50-95)     Mask(P          R      mAP50  mAP50-95): 100%|██████████| 13/13 [00:04<00:00,  3.18it/s]"
          ]
        },
        {
          "name": "stdout",
          "output_type": "stream",
          "text": [
            "                   all        405        424      0.892      0.759       0.87      0.624      0.849      0.788      0.864      0.619\n"
          ]
        },
        {
          "name": "stderr",
          "output_type": "stream",
          "text": [
            "\n"
          ]
        },
        {
          "name": "stdout",
          "output_type": "stream",
          "text": [
            "\n",
            "      Epoch    GPU_mem   box_loss   seg_loss   cls_loss   dfl_loss  Instances       Size\n"
          ]
        },
        {
          "name": "stderr",
          "output_type": "stream",
          "text": [
            "     11/500      14.6G      1.025      1.559     0.8259      1.244         11        640: 100%|██████████| 198/198 [00:55<00:00,  3.58it/s]\n",
            "                 Class     Images  Instances      Box(P          R      mAP50  mAP50-95)     Mask(P          R      mAP50  mAP50-95): 100%|██████████| 13/13 [00:04<00:00,  3.19it/s]\n"
          ]
        },
        {
          "name": "stdout",
          "output_type": "stream",
          "text": [
            "                   all        405        424      0.904      0.798      0.898      0.646      0.898      0.792      0.891      0.651\n",
            "\n",
            "      Epoch    GPU_mem   box_loss   seg_loss   cls_loss   dfl_loss  Instances       Size\n"
          ]
        },
        {
          "name": "stderr",
          "output_type": "stream",
          "text": [
            "     12/500      14.8G      1.011      1.525      0.792      1.223         18        640: 100%|██████████| 198/198 [00:55<00:00,  3.58it/s]\n",
            "                 Class     Images  Instances      Box(P          R      mAP50  mAP50-95)     Mask(P          R      mAP50  mAP50-95): 100%|██████████| 13/13 [00:04<00:00,  3.21it/s]"
          ]
        },
        {
          "name": "stdout",
          "output_type": "stream",
          "text": [
            "                   all        405        424      0.917      0.706      0.844      0.591       0.91      0.716      0.842      0.596\n"
          ]
        },
        {
          "name": "stderr",
          "output_type": "stream",
          "text": [
            "\n"
          ]
        },
        {
          "name": "stdout",
          "output_type": "stream",
          "text": [
            "\n",
            "      Epoch    GPU_mem   box_loss   seg_loss   cls_loss   dfl_loss  Instances       Size\n"
          ]
        },
        {
          "name": "stderr",
          "output_type": "stream",
          "text": [
            "     13/500      14.8G          1      1.523     0.7663      1.225         16        640: 100%|██████████| 198/198 [00:55<00:00,  3.58it/s]\n",
            "                 Class     Images  Instances      Box(P          R      mAP50  mAP50-95)     Mask(P          R      mAP50  mAP50-95): 100%|██████████| 13/13 [00:03<00:00,  3.27it/s]\n"
          ]
        },
        {
          "name": "stdout",
          "output_type": "stream",
          "text": [
            "                   all        405        424       0.72      0.538      0.623      0.391      0.738      0.526      0.601      0.382\n",
            "\n",
            "      Epoch    GPU_mem   box_loss   seg_loss   cls_loss   dfl_loss  Instances       Size\n"
          ]
        },
        {
          "name": "stderr",
          "output_type": "stream",
          "text": [
            "     14/500      14.7G     0.9974      1.497     0.7512      1.222         11        640: 100%|██████████| 198/198 [00:55<00:00,  3.57it/s]\n",
            "                 Class     Images  Instances      Box(P          R      mAP50  mAP50-95)     Mask(P          R      mAP50  mAP50-95): 100%|██████████| 13/13 [00:03<00:00,  3.27it/s]\n"
          ]
        },
        {
          "name": "stdout",
          "output_type": "stream",
          "text": [
            "                   all        405        424      0.918      0.761      0.882      0.636      0.912      0.756      0.872      0.627\n",
            "\n",
            "      Epoch    GPU_mem   box_loss   seg_loss   cls_loss   dfl_loss  Instances       Size\n"
          ]
        },
        {
          "name": "stderr",
          "output_type": "stream",
          "text": [
            "     15/500      14.7G     0.9917      1.485     0.7409      1.224         12        640: 100%|██████████| 198/198 [00:55<00:00,  3.58it/s]\n",
            "                 Class     Images  Instances      Box(P          R      mAP50  mAP50-95)     Mask(P          R      mAP50  mAP50-95): 100%|██████████| 13/13 [00:04<00:00,  3.20it/s]\n"
          ]
        },
        {
          "name": "stdout",
          "output_type": "stream",
          "text": [
            "                   all        405        424      0.857      0.652      0.773      0.543      0.855      0.646      0.767      0.543\n",
            "\n",
            "      Epoch    GPU_mem   box_loss   seg_loss   cls_loss   dfl_loss  Instances       Size\n"
          ]
        },
        {
          "name": "stderr",
          "output_type": "stream",
          "text": [
            "     16/500      14.6G     0.9859      1.473     0.7326       1.21         14        640: 100%|██████████| 198/198 [00:55<00:00,  3.59it/s]\n",
            "                 Class     Images  Instances      Box(P          R      mAP50  mAP50-95)     Mask(P          R      mAP50  mAP50-95): 100%|██████████| 13/13 [00:04<00:00,  3.17it/s]"
          ]
        },
        {
          "name": "stdout",
          "output_type": "stream",
          "text": [
            "                   all        405        424      0.906      0.843      0.919      0.664      0.901      0.839      0.913      0.669\n"
          ]
        },
        {
          "name": "stderr",
          "output_type": "stream",
          "text": [
            "\n"
          ]
        },
        {
          "name": "stdout",
          "output_type": "stream",
          "text": [
            "\n",
            "      Epoch    GPU_mem   box_loss   seg_loss   cls_loss   dfl_loss  Instances       Size\n"
          ]
        },
        {
          "name": "stderr",
          "output_type": "stream",
          "text": [
            "     17/500      14.6G     0.9683      1.449      0.722      1.209         12        640: 100%|██████████| 198/198 [00:55<00:00,  3.58it/s]\n",
            "                 Class     Images  Instances      Box(P          R      mAP50  mAP50-95)     Mask(P          R      mAP50  mAP50-95): 100%|██████████| 13/13 [00:04<00:00,  3.24it/s]\n"
          ]
        },
        {
          "name": "stdout",
          "output_type": "stream",
          "text": [
            "                   all        405        424      0.906      0.792      0.892      0.639      0.913      0.794      0.891      0.636\n",
            "\n",
            "      Epoch    GPU_mem   box_loss   seg_loss   cls_loss   dfl_loss  Instances       Size\n"
          ]
        },
        {
          "name": "stderr",
          "output_type": "stream",
          "text": [
            "     18/500      14.6G     0.9559      1.424     0.6956      1.204         12        640: 100%|██████████| 198/198 [00:55<00:00,  3.57it/s]\n",
            "                 Class     Images  Instances      Box(P          R      mAP50  mAP50-95)     Mask(P          R      mAP50  mAP50-95): 100%|██████████| 13/13 [00:03<00:00,  3.28it/s]\n"
          ]
        },
        {
          "name": "stdout",
          "output_type": "stream",
          "text": [
            "                   all        405        424      0.923      0.785      0.908      0.655      0.919      0.781      0.897      0.647\n",
            "\n",
            "      Epoch    GPU_mem   box_loss   seg_loss   cls_loss   dfl_loss  Instances       Size\n"
          ]
        },
        {
          "name": "stderr",
          "output_type": "stream",
          "text": [
            "     19/500      14.6G     0.9482      1.393     0.7013      1.198         14        640: 100%|██████████| 198/198 [00:55<00:00,  3.59it/s]\n",
            "                 Class     Images  Instances      Box(P          R      mAP50  mAP50-95)     Mask(P          R      mAP50  mAP50-95): 100%|██████████| 13/13 [00:04<00:00,  3.24it/s]\n"
          ]
        },
        {
          "name": "stdout",
          "output_type": "stream",
          "text": [
            "                   all        405        424      0.892      0.795      0.895      0.639      0.894      0.802       0.89      0.647\n",
            "\n",
            "      Epoch    GPU_mem   box_loss   seg_loss   cls_loss   dfl_loss  Instances       Size\n"
          ]
        },
        {
          "name": "stderr",
          "output_type": "stream",
          "text": [
            "     20/500      14.7G     0.9151       1.38     0.6817      1.171         12        640: 100%|██████████| 198/198 [00:55<00:00,  3.60it/s]\n",
            "                 Class     Images  Instances      Box(P          R      mAP50  mAP50-95)     Mask(P          R      mAP50  mAP50-95): 100%|██████████| 13/13 [00:03<00:00,  3.27it/s]\n"
          ]
        },
        {
          "name": "stdout",
          "output_type": "stream",
          "text": [
            "                   all        405        424      0.896       0.83      0.909      0.674      0.898      0.835      0.904      0.675\n",
            "\n",
            "      Epoch    GPU_mem   box_loss   seg_loss   cls_loss   dfl_loss  Instances       Size\n"
          ]
        },
        {
          "name": "stderr",
          "output_type": "stream",
          "text": [
            "     21/500      14.6G     0.9331      1.396     0.6555      1.188         12        640: 100%|██████████| 198/198 [00:55<00:00,  3.59it/s]\n",
            "                 Class     Images  Instances      Box(P          R      mAP50  mAP50-95)     Mask(P          R      mAP50  mAP50-95): 100%|██████████| 13/13 [00:04<00:00,  3.22it/s]\n"
          ]
        },
        {
          "name": "stdout",
          "output_type": "stream",
          "text": [
            "                   all        405        424      0.929      0.804       0.92       0.66      0.929      0.804      0.905      0.661\n",
            "\n",
            "      Epoch    GPU_mem   box_loss   seg_loss   cls_loss   dfl_loss  Instances       Size\n"
          ]
        },
        {
          "name": "stderr",
          "output_type": "stream",
          "text": [
            "     22/500      14.6G     0.9354      1.403     0.6768      1.177         15        640: 100%|██████████| 198/198 [00:55<00:00,  3.59it/s]\n",
            "                 Class     Images  Instances      Box(P          R      mAP50  mAP50-95)     Mask(P          R      mAP50  mAP50-95): 100%|██████████| 13/13 [00:04<00:00,  3.21it/s]\n"
          ]
        },
        {
          "name": "stdout",
          "output_type": "stream",
          "text": [
            "                   all        405        424      0.914      0.802      0.888       0.64      0.906      0.795      0.873      0.633\n",
            "\n",
            "      Epoch    GPU_mem   box_loss   seg_loss   cls_loss   dfl_loss  Instances       Size\n"
          ]
        },
        {
          "name": "stderr",
          "output_type": "stream",
          "text": [
            "     23/500      14.6G     0.9138      1.366     0.6621       1.17         11        640: 100%|██████████| 198/198 [00:55<00:00,  3.58it/s]\n",
            "                 Class     Images  Instances      Box(P          R      mAP50  mAP50-95)     Mask(P          R      mAP50  mAP50-95): 100%|██████████| 13/13 [00:03<00:00,  3.30it/s]\n"
          ]
        },
        {
          "name": "stdout",
          "output_type": "stream",
          "text": [
            "                   all        405        424      0.905      0.807      0.896      0.672      0.901      0.818      0.891      0.665\n",
            "\n",
            "      Epoch    GPU_mem   box_loss   seg_loss   cls_loss   dfl_loss  Instances       Size\n"
          ]
        },
        {
          "name": "stderr",
          "output_type": "stream",
          "text": [
            "     24/500      14.6G     0.9002      1.327     0.6315      1.155         14        640: 100%|██████████| 198/198 [00:55<00:00,  3.58it/s]\n",
            "                 Class     Images  Instances      Box(P          R      mAP50  mAP50-95)     Mask(P          R      mAP50  mAP50-95): 100%|██████████| 13/13 [00:04<00:00,  3.21it/s]"
          ]
        },
        {
          "name": "stdout",
          "output_type": "stream",
          "text": [
            "                   all        405        424      0.891      0.752      0.858      0.616      0.896      0.751      0.854      0.617\n"
          ]
        },
        {
          "name": "stderr",
          "output_type": "stream",
          "text": [
            "\n"
          ]
        },
        {
          "name": "stdout",
          "output_type": "stream",
          "text": [
            "\n",
            "      Epoch    GPU_mem   box_loss   seg_loss   cls_loss   dfl_loss  Instances       Size\n"
          ]
        },
        {
          "name": "stderr",
          "output_type": "stream",
          "text": [
            "     25/500      14.6G     0.9103      1.348     0.6366      1.176         13        640: 100%|██████████| 198/198 [00:55<00:00,  3.59it/s]\n",
            "                 Class     Images  Instances      Box(P          R      mAP50  mAP50-95)     Mask(P          R      mAP50  mAP50-95): 100%|██████████| 13/13 [00:04<00:00,  3.23it/s]"
          ]
        },
        {
          "name": "stdout",
          "output_type": "stream",
          "text": [
            "                   all        405        424      0.931      0.807      0.893      0.639      0.925      0.802      0.889      0.628\n"
          ]
        },
        {
          "name": "stderr",
          "output_type": "stream",
          "text": [
            "\n"
          ]
        },
        {
          "name": "stdout",
          "output_type": "stream",
          "text": [
            "\n",
            "      Epoch    GPU_mem   box_loss   seg_loss   cls_loss   dfl_loss  Instances       Size\n"
          ]
        },
        {
          "name": "stderr",
          "output_type": "stream",
          "text": [
            "     26/500      14.6G     0.8831      1.328     0.6321      1.151         19        640: 100%|██████████| 198/198 [00:55<00:00,  3.58it/s]\n",
            "                 Class     Images  Instances      Box(P          R      mAP50  mAP50-95)     Mask(P          R      mAP50  mAP50-95): 100%|██████████| 13/13 [00:04<00:00,  3.24it/s]\n"
          ]
        },
        {
          "name": "stdout",
          "output_type": "stream",
          "text": [
            "                   all        405        424      0.906      0.835      0.912      0.681      0.898      0.828      0.906      0.671\n",
            "\n",
            "      Epoch    GPU_mem   box_loss   seg_loss   cls_loss   dfl_loss  Instances       Size\n"
          ]
        },
        {
          "name": "stderr",
          "output_type": "stream",
          "text": [
            "     27/500      14.6G     0.8811      1.303     0.6104      1.154          8        640: 100%|██████████| 198/198 [00:55<00:00,  3.57it/s]\n",
            "                 Class     Images  Instances      Box(P          R      mAP50  mAP50-95)     Mask(P          R      mAP50  mAP50-95): 100%|██████████| 13/13 [00:03<00:00,  3.30it/s]\n"
          ]
        },
        {
          "name": "stdout",
          "output_type": "stream",
          "text": [
            "                   all        405        424        0.9       0.85      0.913      0.668      0.895      0.845      0.908      0.675\n",
            "\n",
            "      Epoch    GPU_mem   box_loss   seg_loss   cls_loss   dfl_loss  Instances       Size\n"
          ]
        },
        {
          "name": "stderr",
          "output_type": "stream",
          "text": [
            "     28/500      14.6G     0.8905      1.311     0.6122      1.155         23        640: 100%|██████████| 198/198 [00:55<00:00,  3.59it/s]\n",
            "                 Class     Images  Instances      Box(P          R      mAP50  mAP50-95)     Mask(P          R      mAP50  mAP50-95): 100%|██████████| 13/13 [00:03<00:00,  3.31it/s]\n"
          ]
        },
        {
          "name": "stdout",
          "output_type": "stream",
          "text": [
            "                   all        405        424      0.919       0.86      0.926      0.694      0.917      0.858      0.926      0.694\n",
            "\n",
            "      Epoch    GPU_mem   box_loss   seg_loss   cls_loss   dfl_loss  Instances       Size\n"
          ]
        },
        {
          "name": "stderr",
          "output_type": "stream",
          "text": [
            "     29/500      14.6G     0.8632      1.272     0.5998      1.148         18        640: 100%|██████████| 198/198 [00:55<00:00,  3.58it/s]\n",
            "                 Class     Images  Instances      Box(P          R      mAP50  mAP50-95)     Mask(P          R      mAP50  mAP50-95): 100%|██████████| 13/13 [00:03<00:00,  3.26it/s]\n"
          ]
        },
        {
          "name": "stdout",
          "output_type": "stream",
          "text": [
            "                   all        405        424      0.933      0.848       0.91      0.675       0.93      0.845      0.909      0.669\n",
            "\n",
            "      Epoch    GPU_mem   box_loss   seg_loss   cls_loss   dfl_loss  Instances       Size\n"
          ]
        },
        {
          "name": "stderr",
          "output_type": "stream",
          "text": [
            "     30/500      14.6G     0.8672      1.268     0.5879      1.147         20        640: 100%|██████████| 198/198 [00:55<00:00,  3.58it/s]\n",
            "                 Class     Images  Instances      Box(P          R      mAP50  mAP50-95)     Mask(P          R      mAP50  mAP50-95): 100%|██████████| 13/13 [00:03<00:00,  3.25it/s]\n"
          ]
        },
        {
          "name": "stdout",
          "output_type": "stream",
          "text": [
            "                   all        405        424      0.907      0.821      0.904      0.677      0.902      0.816      0.892      0.676\n",
            "\n",
            "      Epoch    GPU_mem   box_loss   seg_loss   cls_loss   dfl_loss  Instances       Size\n"
          ]
        },
        {
          "name": "stderr",
          "output_type": "stream",
          "text": [
            "     31/500      14.6G     0.8589      1.254     0.5873      1.128         11        640: 100%|██████████| 198/198 [00:55<00:00,  3.59it/s]\n",
            "                 Class     Images  Instances      Box(P          R      mAP50  mAP50-95)     Mask(P          R      mAP50  mAP50-95): 100%|██████████| 13/13 [00:04<00:00,  3.23it/s]\n"
          ]
        },
        {
          "name": "stdout",
          "output_type": "stream",
          "text": [
            "                   all        405        424      0.885      0.868      0.914      0.679      0.879      0.863      0.907      0.675\n",
            "\n",
            "      Epoch    GPU_mem   box_loss   seg_loss   cls_loss   dfl_loss  Instances       Size\n"
          ]
        },
        {
          "name": "stderr",
          "output_type": "stream",
          "text": [
            "     32/500      14.6G     0.8548      1.291     0.5849      1.131         14        640: 100%|██████████| 198/198 [00:55<00:00,  3.58it/s]\n",
            "                 Class     Images  Instances      Box(P          R      mAP50  mAP50-95)     Mask(P          R      mAP50  mAP50-95): 100%|██████████| 13/13 [00:04<00:00,  3.25it/s]\n"
          ]
        },
        {
          "name": "stdout",
          "output_type": "stream",
          "text": [
            "                   all        405        424      0.919      0.833      0.922      0.685      0.913      0.844      0.922      0.673\n",
            "\n",
            "      Epoch    GPU_mem   box_loss   seg_loss   cls_loss   dfl_loss  Instances       Size\n"
          ]
        },
        {
          "name": "stderr",
          "output_type": "stream",
          "text": [
            "     33/500      14.8G     0.8687      1.262     0.5854      1.146         17        640: 100%|██████████| 198/198 [00:55<00:00,  3.59it/s]\n",
            "                 Class     Images  Instances      Box(P          R      mAP50  mAP50-95)     Mask(P          R      mAP50  mAP50-95): 100%|██████████| 13/13 [00:03<00:00,  3.29it/s]\n"
          ]
        },
        {
          "name": "stdout",
          "output_type": "stream",
          "text": [
            "                   all        405        424      0.938      0.862      0.938      0.692       0.93      0.851      0.927      0.693\n",
            "\n",
            "      Epoch    GPU_mem   box_loss   seg_loss   cls_loss   dfl_loss  Instances       Size\n"
          ]
        },
        {
          "name": "stderr",
          "output_type": "stream",
          "text": [
            "     34/500      14.8G      0.851      1.228     0.5844      1.124         13        640: 100%|██████████| 198/198 [00:55<00:00,  3.59it/s]\n",
            "                 Class     Images  Instances      Box(P          R      mAP50  mAP50-95)     Mask(P          R      mAP50  mAP50-95): 100%|██████████| 13/13 [00:04<00:00,  3.24it/s]\n"
          ]
        },
        {
          "name": "stdout",
          "output_type": "stream",
          "text": [
            "                   all        405        424      0.922      0.813      0.909      0.666      0.928      0.811      0.902      0.663\n",
            "\n",
            "      Epoch    GPU_mem   box_loss   seg_loss   cls_loss   dfl_loss  Instances       Size\n"
          ]
        },
        {
          "name": "stderr",
          "output_type": "stream",
          "text": [
            "     35/500      14.8G       0.83      1.243     0.5525      1.121         14        640: 100%|██████████| 198/198 [00:55<00:00,  3.58it/s]\n",
            "                 Class     Images  Instances      Box(P          R      mAP50  mAP50-95)     Mask(P          R      mAP50  mAP50-95): 100%|██████████| 13/13 [00:03<00:00,  3.27it/s]\n"
          ]
        },
        {
          "name": "stdout",
          "output_type": "stream",
          "text": [
            "                   all        405        424      0.904      0.863      0.923      0.688      0.902      0.861      0.918      0.682\n",
            "\n",
            "      Epoch    GPU_mem   box_loss   seg_loss   cls_loss   dfl_loss  Instances       Size\n"
          ]
        },
        {
          "name": "stderr",
          "output_type": "stream",
          "text": [
            "     36/500      14.6G     0.8249      1.212     0.5434      1.117         18        640: 100%|██████████| 198/198 [00:55<00:00,  3.59it/s]\n",
            "                 Class     Images  Instances      Box(P          R      mAP50  mAP50-95)     Mask(P          R      mAP50  mAP50-95): 100%|██████████| 13/13 [00:03<00:00,  3.27it/s]\n"
          ]
        },
        {
          "name": "stdout",
          "output_type": "stream",
          "text": [
            "                   all        405        424      0.878      0.842        0.9       0.66      0.876      0.835      0.893      0.663\n",
            "\n",
            "      Epoch    GPU_mem   box_loss   seg_loss   cls_loss   dfl_loss  Instances       Size\n"
          ]
        },
        {
          "name": "stderr",
          "output_type": "stream",
          "text": [
            "     37/500      14.6G     0.8163      1.193     0.5488      1.104         18        640: 100%|██████████| 198/198 [00:55<00:00,  3.59it/s]\n",
            "                 Class     Images  Instances      Box(P          R      mAP50  mAP50-95)     Mask(P          R      mAP50  mAP50-95): 100%|██████████| 13/13 [00:04<00:00,  3.21it/s]\n"
          ]
        },
        {
          "name": "stdout",
          "output_type": "stream",
          "text": [
            "                   all        405        424      0.912      0.842      0.918      0.678      0.918       0.82      0.902      0.666\n",
            "\n",
            "      Epoch    GPU_mem   box_loss   seg_loss   cls_loss   dfl_loss  Instances       Size\n"
          ]
        },
        {
          "name": "stderr",
          "output_type": "stream",
          "text": [
            "     38/500      14.6G     0.8182      1.193     0.5289      1.107         16        640: 100%|██████████| 198/198 [00:55<00:00,  3.58it/s]\n",
            "                 Class     Images  Instances      Box(P          R      mAP50  mAP50-95)     Mask(P          R      mAP50  mAP50-95): 100%|██████████| 13/13 [00:03<00:00,  3.26it/s]"
          ]
        },
        {
          "name": "stdout",
          "output_type": "stream",
          "text": [
            "                   all        405        424      0.924      0.864      0.928      0.707      0.924      0.864      0.922      0.698\n"
          ]
        },
        {
          "name": "stderr",
          "output_type": "stream",
          "text": [
            "\n"
          ]
        },
        {
          "name": "stdout",
          "output_type": "stream",
          "text": [
            "\n",
            "      Epoch    GPU_mem   box_loss   seg_loss   cls_loss   dfl_loss  Instances       Size\n"
          ]
        },
        {
          "name": "stderr",
          "output_type": "stream",
          "text": [
            "     39/500      14.6G     0.8143      1.183     0.5416      1.109         13        640: 100%|██████████| 198/198 [00:55<00:00,  3.58it/s]\n",
            "                 Class     Images  Instances      Box(P          R      mAP50  mAP50-95)     Mask(P          R      mAP50  mAP50-95): 100%|██████████| 13/13 [00:03<00:00,  3.30it/s]\n"
          ]
        },
        {
          "name": "stdout",
          "output_type": "stream",
          "text": [
            "                   all        405        424      0.886      0.877      0.926       0.69      0.883      0.873       0.92      0.683\n",
            "\n",
            "      Epoch    GPU_mem   box_loss   seg_loss   cls_loss   dfl_loss  Instances       Size\n"
          ]
        },
        {
          "name": "stderr",
          "output_type": "stream",
          "text": [
            "     40/500      14.6G     0.8147      1.199     0.5381      1.114         13        640: 100%|██████████| 198/198 [00:55<00:00,  3.58it/s]\n",
            "                 Class     Images  Instances      Box(P          R      mAP50  mAP50-95)     Mask(P          R      mAP50  mAP50-95): 100%|██████████| 13/13 [00:03<00:00,  3.30it/s]\n"
          ]
        },
        {
          "name": "stdout",
          "output_type": "stream",
          "text": [
            "                   all        405        424      0.919      0.884      0.944      0.711      0.897      0.905       0.94      0.705\n",
            "\n",
            "      Epoch    GPU_mem   box_loss   seg_loss   cls_loss   dfl_loss  Instances       Size\n"
          ]
        },
        {
          "name": "stderr",
          "output_type": "stream",
          "text": [
            "     41/500      14.6G     0.8116      1.208     0.5361      1.102         17        640: 100%|██████████| 198/198 [00:55<00:00,  3.58it/s]\n",
            "                 Class     Images  Instances      Box(P          R      mAP50  mAP50-95)     Mask(P          R      mAP50  mAP50-95): 100%|██████████| 13/13 [00:03<00:00,  3.26it/s]\n"
          ]
        },
        {
          "name": "stdout",
          "output_type": "stream",
          "text": [
            "                   all        405        424      0.907      0.879      0.932       0.69      0.907      0.875      0.927      0.686\n",
            "\n",
            "      Epoch    GPU_mem   box_loss   seg_loss   cls_loss   dfl_loss  Instances       Size\n"
          ]
        },
        {
          "name": "stderr",
          "output_type": "stream",
          "text": [
            "     42/500      14.6G     0.7958      1.169       0.52      1.096         14        640: 100%|██████████| 198/198 [00:55<00:00,  3.57it/s]\n",
            "                 Class     Images  Instances      Box(P          R      mAP50  mAP50-95)     Mask(P          R      mAP50  mAP50-95): 100%|██████████| 13/13 [00:03<00:00,  3.30it/s]"
          ]
        },
        {
          "name": "stdout",
          "output_type": "stream",
          "text": [
            "                   all        405        424      0.907      0.851      0.916       0.68      0.899      0.844      0.902      0.671\n"
          ]
        },
        {
          "name": "stderr",
          "output_type": "stream",
          "text": [
            "\n"
          ]
        },
        {
          "name": "stdout",
          "output_type": "stream",
          "text": [
            "\n",
            "      Epoch    GPU_mem   box_loss   seg_loss   cls_loss   dfl_loss  Instances       Size\n"
          ]
        },
        {
          "name": "stderr",
          "output_type": "stream",
          "text": [
            "     43/500      14.6G     0.7921       1.15     0.5075      1.092         15        640: 100%|██████████| 198/198 [00:55<00:00,  3.59it/s]\n",
            "                 Class     Images  Instances      Box(P          R      mAP50  mAP50-95)     Mask(P          R      mAP50  mAP50-95): 100%|██████████| 13/13 [00:03<00:00,  3.25it/s]\n"
          ]
        },
        {
          "name": "stdout",
          "output_type": "stream",
          "text": [
            "                   all        405        424      0.915      0.887      0.927      0.679      0.918      0.873      0.917       0.67\n",
            "\n",
            "      Epoch    GPU_mem   box_loss   seg_loss   cls_loss   dfl_loss  Instances       Size\n"
          ]
        },
        {
          "name": "stderr",
          "output_type": "stream",
          "text": [
            "     44/500      14.6G     0.7999      1.161     0.5101      1.086          8        640: 100%|██████████| 198/198 [00:55<00:00,  3.58it/s]\n",
            "                 Class     Images  Instances      Box(P          R      mAP50  mAP50-95)     Mask(P          R      mAP50  mAP50-95): 100%|██████████| 13/13 [00:04<00:00,  3.23it/s]"
          ]
        },
        {
          "name": "stdout",
          "output_type": "stream",
          "text": [
            "                   all        405        424      0.933      0.861       0.93      0.698      0.927      0.854      0.915      0.692\n"
          ]
        },
        {
          "name": "stderr",
          "output_type": "stream",
          "text": [
            "\n"
          ]
        },
        {
          "name": "stdout",
          "output_type": "stream",
          "text": [
            "\n",
            "      Epoch    GPU_mem   box_loss   seg_loss   cls_loss   dfl_loss  Instances       Size\n"
          ]
        },
        {
          "name": "stderr",
          "output_type": "stream",
          "text": [
            "     45/500      14.6G     0.7751      1.146     0.4928      1.071         13        640: 100%|██████████| 198/198 [00:55<00:00,  3.58it/s]\n",
            "                 Class     Images  Instances      Box(P          R      mAP50  mAP50-95)     Mask(P          R      mAP50  mAP50-95): 100%|██████████| 13/13 [00:03<00:00,  3.25it/s]"
          ]
        },
        {
          "name": "stdout",
          "output_type": "stream",
          "text": [
            "                   all        405        424      0.916      0.901       0.94      0.701      0.904      0.891      0.926      0.696\n"
          ]
        },
        {
          "name": "stderr",
          "output_type": "stream",
          "text": [
            "\n"
          ]
        },
        {
          "name": "stdout",
          "output_type": "stream",
          "text": [
            "\n",
            "      Epoch    GPU_mem   box_loss   seg_loss   cls_loss   dfl_loss  Instances       Size\n"
          ]
        },
        {
          "name": "stderr",
          "output_type": "stream",
          "text": [
            "     46/500      14.8G     0.7645      1.132     0.5013      1.071          7        640: 100%|██████████| 198/198 [00:55<00:00,  3.58it/s]\n",
            "                 Class     Images  Instances      Box(P          R      mAP50  mAP50-95)     Mask(P          R      mAP50  mAP50-95): 100%|██████████| 13/13 [00:03<00:00,  3.30it/s]"
          ]
        },
        {
          "name": "stdout",
          "output_type": "stream",
          "text": [
            "                   all        405        424       0.93      0.866      0.938      0.707      0.896      0.894      0.933      0.702\n"
          ]
        },
        {
          "name": "stderr",
          "output_type": "stream",
          "text": [
            "\n"
          ]
        },
        {
          "name": "stdout",
          "output_type": "stream",
          "text": [
            "\n",
            "      Epoch    GPU_mem   box_loss   seg_loss   cls_loss   dfl_loss  Instances       Size\n"
          ]
        },
        {
          "name": "stderr",
          "output_type": "stream",
          "text": [
            "     47/500      14.7G     0.7725      1.126     0.4934       1.08         18        640: 100%|██████████| 198/198 [00:55<00:00,  3.57it/s]\n",
            "                 Class     Images  Instances      Box(P          R      mAP50  mAP50-95)     Mask(P          R      mAP50  mAP50-95): 100%|██████████| 13/13 [00:03<00:00,  3.27it/s]"
          ]
        },
        {
          "name": "stdout",
          "output_type": "stream",
          "text": [
            "                   all        405        424      0.936      0.866      0.921       0.68      0.936      0.866      0.923      0.683\n"
          ]
        },
        {
          "name": "stderr",
          "output_type": "stream",
          "text": [
            "\n"
          ]
        },
        {
          "name": "stdout",
          "output_type": "stream",
          "text": [
            "\n",
            "      Epoch    GPU_mem   box_loss   seg_loss   cls_loss   dfl_loss  Instances       Size\n"
          ]
        },
        {
          "name": "stderr",
          "output_type": "stream",
          "text": [
            "     48/500      14.6G     0.7659      1.135     0.4875       1.07         15        640: 100%|██████████| 198/198 [00:55<00:00,  3.59it/s]\n",
            "                 Class     Images  Instances      Box(P          R      mAP50  mAP50-95)     Mask(P          R      mAP50  mAP50-95): 100%|██████████| 13/13 [00:03<00:00,  3.29it/s]\n"
          ]
        },
        {
          "name": "stdout",
          "output_type": "stream",
          "text": [
            "                   all        405        424      0.924      0.896      0.937      0.712      0.919      0.892      0.936      0.706\n",
            "\n",
            "      Epoch    GPU_mem   box_loss   seg_loss   cls_loss   dfl_loss  Instances       Size\n"
          ]
        },
        {
          "name": "stderr",
          "output_type": "stream",
          "text": [
            "     49/500      14.6G     0.7636      1.147      0.494      1.078         17        640: 100%|██████████| 198/198 [00:55<00:00,  3.58it/s]\n",
            "                 Class     Images  Instances      Box(P          R      mAP50  mAP50-95)     Mask(P          R      mAP50  mAP50-95): 100%|██████████| 13/13 [00:03<00:00,  3.30it/s]\n"
          ]
        },
        {
          "name": "stdout",
          "output_type": "stream",
          "text": [
            "                   all        405        424      0.934      0.858      0.922      0.684      0.929      0.854      0.914      0.682\n",
            "\n",
            "      Epoch    GPU_mem   box_loss   seg_loss   cls_loss   dfl_loss  Instances       Size\n"
          ]
        },
        {
          "name": "stderr",
          "output_type": "stream",
          "text": [
            "     50/500      14.6G     0.7564      1.131     0.4893      1.069         16        640: 100%|██████████| 198/198 [00:55<00:00,  3.58it/s]\n",
            "                 Class     Images  Instances      Box(P          R      mAP50  mAP50-95)     Mask(P          R      mAP50  mAP50-95): 100%|██████████| 13/13 [00:04<00:00,  3.22it/s]\n"
          ]
        },
        {
          "name": "stdout",
          "output_type": "stream",
          "text": [
            "                   all        405        424      0.948      0.856      0.926      0.699      0.936      0.877      0.924      0.693\n",
            "\n",
            "      Epoch    GPU_mem   box_loss   seg_loss   cls_loss   dfl_loss  Instances       Size\n"
          ]
        },
        {
          "name": "stderr",
          "output_type": "stream",
          "text": [
            "     51/500      14.7G      0.742      1.113     0.4842      1.065         17        640: 100%|██████████| 198/198 [00:55<00:00,  3.58it/s]\n",
            "                 Class     Images  Instances      Box(P          R      mAP50  mAP50-95)     Mask(P          R      mAP50  mAP50-95): 100%|██████████| 13/13 [00:04<00:00,  3.25it/s]\n"
          ]
        },
        {
          "name": "stdout",
          "output_type": "stream",
          "text": [
            "                   all        405        424      0.931      0.847      0.924      0.689      0.932      0.847      0.921      0.686\n",
            "\n",
            "      Epoch    GPU_mem   box_loss   seg_loss   cls_loss   dfl_loss  Instances       Size\n"
          ]
        },
        {
          "name": "stderr",
          "output_type": "stream",
          "text": [
            "     52/500      14.6G     0.7417      1.112      0.486      1.065         14        640: 100%|██████████| 198/198 [00:55<00:00,  3.59it/s]\n",
            "                 Class     Images  Instances      Box(P          R      mAP50  mAP50-95)     Mask(P          R      mAP50  mAP50-95): 100%|██████████| 13/13 [00:04<00:00,  3.22it/s]\n"
          ]
        },
        {
          "name": "stdout",
          "output_type": "stream",
          "text": [
            "                   all        405        424      0.914      0.851      0.924      0.687      0.913      0.854      0.918       0.68\n",
            "\n",
            "      Epoch    GPU_mem   box_loss   seg_loss   cls_loss   dfl_loss  Instances       Size\n"
          ]
        },
        {
          "name": "stderr",
          "output_type": "stream",
          "text": [
            "     53/500      14.7G     0.7391      1.103     0.4739      1.063         20        640: 100%|██████████| 198/198 [00:55<00:00,  3.58it/s]\n",
            "                 Class     Images  Instances      Box(P          R      mAP50  mAP50-95)     Mask(P          R      mAP50  mAP50-95): 100%|██████████| 13/13 [00:04<00:00,  3.23it/s]"
          ]
        },
        {
          "name": "stdout",
          "output_type": "stream",
          "text": [
            "                   all        405        424      0.909      0.882      0.929      0.696       0.91      0.887      0.926      0.691\n"
          ]
        },
        {
          "name": "stderr",
          "output_type": "stream",
          "text": [
            "\n"
          ]
        },
        {
          "name": "stdout",
          "output_type": "stream",
          "text": [
            "\n",
            "      Epoch    GPU_mem   box_loss   seg_loss   cls_loss   dfl_loss  Instances       Size\n"
          ]
        },
        {
          "name": "stderr",
          "output_type": "stream",
          "text": [
            "     54/500      14.6G     0.7298      1.069     0.4605      1.057         23        640: 100%|██████████| 198/198 [00:55<00:00,  3.58it/s]\n",
            "                 Class     Images  Instances      Box(P          R      mAP50  mAP50-95)     Mask(P          R      mAP50  mAP50-95): 100%|██████████| 13/13 [00:04<00:00,  3.24it/s]\n"
          ]
        },
        {
          "name": "stdout",
          "output_type": "stream",
          "text": [
            "                   all        405        424      0.901       0.86      0.919      0.687      0.891      0.851      0.912      0.677\n",
            "\n",
            "      Epoch    GPU_mem   box_loss   seg_loss   cls_loss   dfl_loss  Instances       Size\n"
          ]
        },
        {
          "name": "stderr",
          "output_type": "stream",
          "text": [
            "     55/500      14.8G     0.7267      1.073     0.4644      1.044         14        640: 100%|██████████| 198/198 [00:55<00:00,  3.58it/s]\n",
            "                 Class     Images  Instances      Box(P          R      mAP50  mAP50-95)     Mask(P          R      mAP50  mAP50-95): 100%|██████████| 13/13 [00:03<00:00,  3.33it/s]\n"
          ]
        },
        {
          "name": "stdout",
          "output_type": "stream",
          "text": [
            "                   all        405        424      0.936      0.882      0.938      0.702       0.94      0.884      0.938      0.703\n",
            "\n",
            "      Epoch    GPU_mem   box_loss   seg_loss   cls_loss   dfl_loss  Instances       Size\n"
          ]
        },
        {
          "name": "stderr",
          "output_type": "stream",
          "text": [
            "     56/500      14.6G     0.7358      1.103     0.4731      1.054         10        640: 100%|██████████| 198/198 [00:55<00:00,  3.58it/s]\n",
            "                 Class     Images  Instances      Box(P          R      mAP50  mAP50-95)     Mask(P          R      mAP50  mAP50-95): 100%|██████████| 13/13 [00:03<00:00,  3.31it/s]"
          ]
        },
        {
          "name": "stdout",
          "output_type": "stream",
          "text": [
            "                   all        405        424      0.923      0.849      0.926      0.699      0.918      0.844       0.92      0.697\n"
          ]
        },
        {
          "name": "stderr",
          "output_type": "stream",
          "text": [
            "\n"
          ]
        },
        {
          "name": "stdout",
          "output_type": "stream",
          "text": [
            "\n",
            "      Epoch    GPU_mem   box_loss   seg_loss   cls_loss   dfl_loss  Instances       Size\n"
          ]
        },
        {
          "name": "stderr",
          "output_type": "stream",
          "text": [
            "     57/500      14.6G      0.738      1.074     0.4607      1.061         15        640: 100%|██████████| 198/198 [00:55<00:00,  3.59it/s]\n",
            "                 Class     Images  Instances      Box(P          R      mAP50  mAP50-95)     Mask(P          R      mAP50  mAP50-95): 100%|██████████| 13/13 [00:04<00:00,  3.23it/s]\n"
          ]
        },
        {
          "name": "stdout",
          "output_type": "stream",
          "text": [
            "                   all        405        424      0.924      0.861      0.924      0.708      0.926      0.857       0.92      0.693\n",
            "\n",
            "      Epoch    GPU_mem   box_loss   seg_loss   cls_loss   dfl_loss  Instances       Size\n"
          ]
        },
        {
          "name": "stderr",
          "output_type": "stream",
          "text": [
            "     58/500      14.6G     0.7329      1.081     0.4627      1.058         17        640: 100%|██████████| 198/198 [00:55<00:00,  3.57it/s]\n",
            "                 Class     Images  Instances      Box(P          R      mAP50  mAP50-95)     Mask(P          R      mAP50  mAP50-95): 100%|██████████| 13/13 [00:03<00:00,  3.30it/s]\n"
          ]
        },
        {
          "name": "stdout",
          "output_type": "stream",
          "text": [
            "                   all        405        424      0.898      0.893       0.93      0.697      0.911      0.896      0.927      0.691\n",
            "\n",
            "      Epoch    GPU_mem   box_loss   seg_loss   cls_loss   dfl_loss  Instances       Size\n"
          ]
        },
        {
          "name": "stderr",
          "output_type": "stream",
          "text": [
            "     59/500      14.6G       0.71      1.047     0.4521      1.045         15        640: 100%|██████████| 198/198 [00:55<00:00,  3.58it/s]\n",
            "                 Class     Images  Instances      Box(P          R      mAP50  mAP50-95)     Mask(P          R      mAP50  mAP50-95): 100%|██████████| 13/13 [00:03<00:00,  3.26it/s]\n"
          ]
        },
        {
          "name": "stdout",
          "output_type": "stream",
          "text": [
            "                   all        405        424      0.913      0.863      0.916      0.692      0.906      0.873      0.916      0.681\n",
            "\n",
            "      Epoch    GPU_mem   box_loss   seg_loss   cls_loss   dfl_loss  Instances       Size\n"
          ]
        },
        {
          "name": "stderr",
          "output_type": "stream",
          "text": [
            "     60/500      14.6G     0.7212      1.066     0.4515      1.045         19        640: 100%|██████████| 198/198 [00:55<00:00,  3.58it/s]\n",
            "                 Class     Images  Instances      Box(P          R      mAP50  mAP50-95)     Mask(P          R      mAP50  mAP50-95): 100%|██████████| 13/13 [00:03<00:00,  3.30it/s]"
          ]
        },
        {
          "name": "stdout",
          "output_type": "stream",
          "text": [
            "                   all        405        424      0.919      0.861      0.925      0.689      0.905      0.855      0.919      0.686\n"
          ]
        },
        {
          "name": "stderr",
          "output_type": "stream",
          "text": [
            "\n"
          ]
        },
        {
          "name": "stdout",
          "output_type": "stream",
          "text": [
            "\n",
            "      Epoch    GPU_mem   box_loss   seg_loss   cls_loss   dfl_loss  Instances       Size\n"
          ]
        },
        {
          "name": "stderr",
          "output_type": "stream",
          "text": [
            "     61/500      14.6G      0.718       1.05     0.4553      1.056         13        640: 100%|██████████| 198/198 [00:55<00:00,  3.58it/s]\n",
            "                 Class     Images  Instances      Box(P          R      mAP50  mAP50-95)     Mask(P          R      mAP50  mAP50-95): 100%|██████████| 13/13 [00:03<00:00,  3.29it/s]\n"
          ]
        },
        {
          "name": "stdout",
          "output_type": "stream",
          "text": [
            "                   all        405        424      0.931      0.856      0.921      0.701      0.933      0.858      0.924      0.692\n",
            "\n",
            "      Epoch    GPU_mem   box_loss   seg_loss   cls_loss   dfl_loss  Instances       Size\n"
          ]
        },
        {
          "name": "stderr",
          "output_type": "stream",
          "text": [
            "     62/500      14.8G     0.7149      1.048      0.447      1.043         17        640: 100%|██████████| 198/198 [00:55<00:00,  3.57it/s]\n",
            "                 Class     Images  Instances      Box(P          R      mAP50  mAP50-95)     Mask(P          R      mAP50  mAP50-95): 100%|██████████| 13/13 [00:03<00:00,  3.33it/s]"
          ]
        },
        {
          "name": "stdout",
          "output_type": "stream",
          "text": [
            "                   all        405        424       0.92      0.858      0.921      0.701      0.923      0.861      0.922      0.693\n"
          ]
        },
        {
          "name": "stderr",
          "output_type": "stream",
          "text": [
            "\n"
          ]
        },
        {
          "name": "stdout",
          "output_type": "stream",
          "text": [
            "\n",
            "      Epoch    GPU_mem   box_loss   seg_loss   cls_loss   dfl_loss  Instances       Size\n"
          ]
        },
        {
          "name": "stderr",
          "output_type": "stream",
          "text": [
            "     63/500      14.7G     0.7126      1.044     0.4426      1.047         13        640: 100%|██████████| 198/198 [00:55<00:00,  3.58it/s]\n",
            "                 Class     Images  Instances      Box(P          R      mAP50  mAP50-95)     Mask(P          R      mAP50  mAP50-95): 100%|██████████| 13/13 [00:04<00:00,  3.21it/s]\n"
          ]
        },
        {
          "name": "stdout",
          "output_type": "stream",
          "text": [
            "                   all        405        424      0.918      0.867      0.916      0.693      0.918      0.866      0.917      0.684\n",
            "\n",
            "      Epoch    GPU_mem   box_loss   seg_loss   cls_loss   dfl_loss  Instances       Size\n"
          ]
        },
        {
          "name": "stderr",
          "output_type": "stream",
          "text": [
            "     64/500      14.6G     0.7024      1.038     0.4339      1.035         21        640: 100%|██████████| 198/198 [00:55<00:00,  3.59it/s]\n",
            "                 Class     Images  Instances      Box(P          R      mAP50  mAP50-95)     Mask(P          R      mAP50  mAP50-95): 100%|██████████| 13/13 [00:03<00:00,  3.29it/s]"
          ]
        },
        {
          "name": "stdout",
          "output_type": "stream",
          "text": [
            "                   all        405        424      0.907      0.882      0.926      0.712      0.907      0.869      0.917      0.705\n"
          ]
        },
        {
          "name": "stderr",
          "output_type": "stream",
          "text": [
            "\n"
          ]
        },
        {
          "name": "stdout",
          "output_type": "stream",
          "text": [
            "\n",
            "      Epoch    GPU_mem   box_loss   seg_loss   cls_loss   dfl_loss  Instances       Size\n"
          ]
        },
        {
          "name": "stderr",
          "output_type": "stream",
          "text": [
            "     65/500      14.6G     0.7048      1.047     0.4448      1.038         11        640: 100%|██████████| 198/198 [00:55<00:00,  3.58it/s]\n",
            "                 Class     Images  Instances      Box(P          R      mAP50  mAP50-95)     Mask(P          R      mAP50  mAP50-95): 100%|██████████| 13/13 [00:03<00:00,  3.26it/s]"
          ]
        },
        {
          "name": "stdout",
          "output_type": "stream",
          "text": [
            "                   all        405        424      0.911      0.889      0.934       0.72      0.911      0.889       0.93      0.712\n"
          ]
        },
        {
          "name": "stderr",
          "output_type": "stream",
          "text": [
            "\n"
          ]
        },
        {
          "name": "stdout",
          "output_type": "stream",
          "text": [
            "\n",
            "      Epoch    GPU_mem   box_loss   seg_loss   cls_loss   dfl_loss  Instances       Size\n"
          ]
        },
        {
          "name": "stderr",
          "output_type": "stream",
          "text": [
            "     66/500      14.7G     0.6856      1.019     0.4306      1.026         10        640: 100%|██████████| 198/198 [00:55<00:00,  3.57it/s]\n",
            "                 Class     Images  Instances      Box(P          R      mAP50  mAP50-95)     Mask(P          R      mAP50  mAP50-95): 100%|██████████| 13/13 [00:03<00:00,  3.26it/s]"
          ]
        },
        {
          "name": "stdout",
          "output_type": "stream",
          "text": [
            "                   all        405        424      0.931      0.892      0.934      0.713      0.928      0.887      0.922      0.699\n"
          ]
        },
        {
          "name": "stderr",
          "output_type": "stream",
          "text": [
            "\n"
          ]
        },
        {
          "name": "stdout",
          "output_type": "stream",
          "text": [
            "\n",
            "      Epoch    GPU_mem   box_loss   seg_loss   cls_loss   dfl_loss  Instances       Size\n"
          ]
        },
        {
          "name": "stderr",
          "output_type": "stream",
          "text": [
            "     67/500      14.6G     0.6913      1.023     0.4268      1.035         16        640: 100%|██████████| 198/198 [00:55<00:00,  3.59it/s]\n",
            "                 Class     Images  Instances      Box(P          R      mAP50  mAP50-95)     Mask(P          R      mAP50  mAP50-95): 100%|██████████| 13/13 [00:04<00:00,  3.22it/s]\n"
          ]
        },
        {
          "name": "stdout",
          "output_type": "stream",
          "text": [
            "                   all        405        424       0.95      0.884      0.944      0.715      0.947      0.882      0.939      0.707\n",
            "\n",
            "      Epoch    GPU_mem   box_loss   seg_loss   cls_loss   dfl_loss  Instances       Size\n"
          ]
        },
        {
          "name": "stderr",
          "output_type": "stream",
          "text": [
            "     68/500      14.8G     0.6947      1.018     0.4367      1.039         15        640: 100%|██████████| 198/198 [00:55<00:00,  3.58it/s]\n",
            "                 Class     Images  Instances      Box(P          R      mAP50  mAP50-95)     Mask(P          R      mAP50  mAP50-95): 100%|██████████| 13/13 [00:03<00:00,  3.28it/s]"
          ]
        },
        {
          "name": "stdout",
          "output_type": "stream",
          "text": [
            "                   all        405        424      0.925      0.874      0.927      0.701      0.911      0.873      0.915      0.696\n"
          ]
        },
        {
          "name": "stderr",
          "output_type": "stream",
          "text": [
            "\n"
          ]
        },
        {
          "name": "stdout",
          "output_type": "stream",
          "text": [
            "\n",
            "      Epoch    GPU_mem   box_loss   seg_loss   cls_loss   dfl_loss  Instances       Size\n"
          ]
        },
        {
          "name": "stderr",
          "output_type": "stream",
          "text": [
            "     69/500      14.8G     0.6776      1.024     0.4284      1.027         17        640: 100%|██████████| 198/198 [00:55<00:00,  3.59it/s]\n",
            "                 Class     Images  Instances      Box(P          R      mAP50  mAP50-95)     Mask(P          R      mAP50  mAP50-95): 100%|██████████| 13/13 [00:04<00:00,  3.25it/s]"
          ]
        },
        {
          "name": "stdout",
          "output_type": "stream",
          "text": [
            "                   all        405        424      0.922      0.892       0.93      0.713       0.92       0.89      0.926      0.705\n"
          ]
        },
        {
          "name": "stderr",
          "output_type": "stream",
          "text": [
            "\n"
          ]
        },
        {
          "name": "stdout",
          "output_type": "stream",
          "text": [
            "\n",
            "      Epoch    GPU_mem   box_loss   seg_loss   cls_loss   dfl_loss  Instances       Size\n"
          ]
        },
        {
          "name": "stderr",
          "output_type": "stream",
          "text": [
            "     70/500      14.7G     0.6739       1.03     0.4264      1.022         16        640: 100%|██████████| 198/198 [00:55<00:00,  3.59it/s]\n",
            "                 Class     Images  Instances      Box(P          R      mAP50  mAP50-95)     Mask(P          R      mAP50  mAP50-95): 100%|██████████| 13/13 [00:03<00:00,  3.27it/s]"
          ]
        },
        {
          "name": "stdout",
          "output_type": "stream",
          "text": [
            "                   all        405        424      0.924      0.886      0.933      0.712      0.919      0.881      0.924      0.706\n"
          ]
        },
        {
          "name": "stderr",
          "output_type": "stream",
          "text": [
            "\n"
          ]
        },
        {
          "name": "stdout",
          "output_type": "stream",
          "text": [
            "\n",
            "      Epoch    GPU_mem   box_loss   seg_loss   cls_loss   dfl_loss  Instances       Size\n"
          ]
        },
        {
          "name": "stderr",
          "output_type": "stream",
          "text": [
            "     71/500      14.6G      0.672     0.9916     0.4208      1.018          9        640: 100%|██████████| 198/198 [00:55<00:00,  3.58it/s]\n",
            "                 Class     Images  Instances      Box(P          R      mAP50  mAP50-95)     Mask(P          R      mAP50  mAP50-95): 100%|██████████| 13/13 [00:04<00:00,  3.25it/s]\n"
          ]
        },
        {
          "name": "stdout",
          "output_type": "stream",
          "text": [
            "                   all        405        424      0.918      0.899       0.93      0.712      0.925      0.906      0.933      0.708\n",
            "\n",
            "      Epoch    GPU_mem   box_loss   seg_loss   cls_loss   dfl_loss  Instances       Size\n"
          ]
        },
        {
          "name": "stderr",
          "output_type": "stream",
          "text": [
            "     72/500      14.6G     0.6792      1.022     0.4107       1.02         14        640: 100%|██████████| 198/198 [00:55<00:00,  3.58it/s]\n",
            "                 Class     Images  Instances      Box(P          R      mAP50  mAP50-95)     Mask(P          R      mAP50  mAP50-95): 100%|██████████| 13/13 [00:03<00:00,  3.27it/s]"
          ]
        },
        {
          "name": "stdout",
          "output_type": "stream",
          "text": [
            "                   all        405        424      0.938      0.884       0.93       0.71       0.93      0.881      0.924      0.699\n"
          ]
        },
        {
          "name": "stderr",
          "output_type": "stream",
          "text": [
            "\n"
          ]
        },
        {
          "name": "stdout",
          "output_type": "stream",
          "text": [
            "\n",
            "      Epoch    GPU_mem   box_loss   seg_loss   cls_loss   dfl_loss  Instances       Size\n"
          ]
        },
        {
          "name": "stderr",
          "output_type": "stream",
          "text": [
            "     73/500      14.7G     0.6711      1.011     0.4092      1.018          8        640: 100%|██████████| 198/198 [00:55<00:00,  3.58it/s]\n",
            "                 Class     Images  Instances      Box(P          R      mAP50  mAP50-95)     Mask(P          R      mAP50  mAP50-95): 100%|██████████| 13/13 [00:03<00:00,  3.31it/s]"
          ]
        },
        {
          "name": "stdout",
          "output_type": "stream",
          "text": [
            "                   all        405        424      0.942      0.884      0.939      0.713      0.947      0.889      0.936      0.712\n"
          ]
        },
        {
          "name": "stderr",
          "output_type": "stream",
          "text": [
            "\n"
          ]
        },
        {
          "name": "stdout",
          "output_type": "stream",
          "text": [
            "\n",
            "      Epoch    GPU_mem   box_loss   seg_loss   cls_loss   dfl_loss  Instances       Size\n"
          ]
        },
        {
          "name": "stderr",
          "output_type": "stream",
          "text": [
            "     74/500      14.6G     0.6636     0.9865     0.4137      1.012         13        640: 100%|██████████| 198/198 [00:55<00:00,  3.59it/s]\n",
            "                 Class     Images  Instances      Box(P          R      mAP50  mAP50-95)     Mask(P          R      mAP50  mAP50-95): 100%|██████████| 13/13 [00:04<00:00,  3.22it/s]\n"
          ]
        },
        {
          "name": "stdout",
          "output_type": "stream",
          "text": [
            "                   all        405        424       0.93      0.906      0.933      0.716      0.932      0.908      0.934      0.705\n",
            "\n",
            "      Epoch    GPU_mem   box_loss   seg_loss   cls_loss   dfl_loss  Instances       Size\n"
          ]
        },
        {
          "name": "stderr",
          "output_type": "stream",
          "text": [
            "     75/500      14.8G     0.6735      1.014     0.4209      1.018         18        640: 100%|██████████| 198/198 [00:55<00:00,  3.58it/s]\n",
            "                 Class     Images  Instances      Box(P          R      mAP50  mAP50-95)     Mask(P          R      mAP50  mAP50-95): 100%|██████████| 13/13 [00:03<00:00,  3.27it/s]"
          ]
        },
        {
          "name": "stdout",
          "output_type": "stream",
          "text": [
            "                   all        405        424      0.941      0.897      0.938      0.716      0.937      0.903      0.932      0.706\n"
          ]
        },
        {
          "name": "stderr",
          "output_type": "stream",
          "text": [
            "\n"
          ]
        },
        {
          "name": "stdout",
          "output_type": "stream",
          "text": [
            "\n",
            "      Epoch    GPU_mem   box_loss   seg_loss   cls_loss   dfl_loss  Instances       Size\n"
          ]
        },
        {
          "name": "stderr",
          "output_type": "stream",
          "text": [
            "     76/500      14.6G      0.655     0.9822     0.4141      1.009         12        640: 100%|██████████| 198/198 [00:55<00:00,  3.58it/s]\n",
            "                 Class     Images  Instances      Box(P          R      mAP50  mAP50-95)     Mask(P          R      mAP50  mAP50-95): 100%|██████████| 13/13 [00:03<00:00,  3.26it/s]\n"
          ]
        },
        {
          "name": "stdout",
          "output_type": "stream",
          "text": [
            "                   all        405        424      0.926      0.886      0.934      0.706      0.918      0.875      0.925      0.697\n",
            "\n",
            "      Epoch    GPU_mem   box_loss   seg_loss   cls_loss   dfl_loss  Instances       Size\n"
          ]
        },
        {
          "name": "stderr",
          "output_type": "stream",
          "text": [
            "     77/500      14.6G     0.6482     0.9731     0.4038      1.003         14        640: 100%|██████████| 198/198 [00:55<00:00,  3.58it/s]\n",
            "                 Class     Images  Instances      Box(P          R      mAP50  mAP50-95)     Mask(P          R      mAP50  mAP50-95): 100%|██████████| 13/13 [00:04<00:00,  3.23it/s]"
          ]
        },
        {
          "name": "stdout",
          "output_type": "stream",
          "text": [
            "                   all        405        424      0.936      0.873      0.931      0.704      0.934       0.87      0.926      0.705\n"
          ]
        },
        {
          "name": "stderr",
          "output_type": "stream",
          "text": [
            "\n"
          ]
        },
        {
          "name": "stdout",
          "output_type": "stream",
          "text": [
            "\n",
            "      Epoch    GPU_mem   box_loss   seg_loss   cls_loss   dfl_loss  Instances       Size\n"
          ]
        },
        {
          "name": "stderr",
          "output_type": "stream",
          "text": [
            "     78/500      14.7G     0.6633     0.9894     0.4134      1.013         13        640: 100%|██████████| 198/198 [00:55<00:00,  3.59it/s]\n",
            "                 Class     Images  Instances      Box(P          R      mAP50  mAP50-95)     Mask(P          R      mAP50  mAP50-95): 100%|██████████| 13/13 [00:03<00:00,  3.31it/s]"
          ]
        },
        {
          "name": "stdout",
          "output_type": "stream",
          "text": [
            "                   all        405        424      0.931      0.896      0.942      0.721      0.926      0.891      0.936       0.71\n"
          ]
        },
        {
          "name": "stderr",
          "output_type": "stream",
          "text": [
            "\n"
          ]
        },
        {
          "name": "stdout",
          "output_type": "stream",
          "text": [
            "\n",
            "      Epoch    GPU_mem   box_loss   seg_loss   cls_loss   dfl_loss  Instances       Size\n"
          ]
        },
        {
          "name": "stderr",
          "output_type": "stream",
          "text": [
            "     79/500      14.6G      0.646     0.9723     0.4101      1.002         16        640: 100%|██████████| 198/198 [00:55<00:00,  3.58it/s]\n",
            "                 Class     Images  Instances      Box(P          R      mAP50  mAP50-95)     Mask(P          R      mAP50  mAP50-95): 100%|██████████| 13/13 [00:03<00:00,  3.29it/s]"
          ]
        },
        {
          "name": "stdout",
          "output_type": "stream",
          "text": [
            "                   all        405        424       0.93      0.881      0.938      0.724       0.92      0.897      0.938       0.72\n"
          ]
        },
        {
          "name": "stderr",
          "output_type": "stream",
          "text": [
            "\n"
          ]
        },
        {
          "name": "stdout",
          "output_type": "stream",
          "text": [
            "\n",
            "      Epoch    GPU_mem   box_loss   seg_loss   cls_loss   dfl_loss  Instances       Size\n"
          ]
        },
        {
          "name": "stderr",
          "output_type": "stream",
          "text": [
            "     80/500      14.6G     0.6516     0.9616      0.403      1.004         14        640: 100%|██████████| 198/198 [00:55<00:00,  3.57it/s]\n",
            "                 Class     Images  Instances      Box(P          R      mAP50  mAP50-95)     Mask(P          R      mAP50  mAP50-95): 100%|██████████| 13/13 [00:03<00:00,  3.25it/s]"
          ]
        },
        {
          "name": "stdout",
          "output_type": "stream",
          "text": [
            "                   all        405        424      0.942      0.887      0.941      0.721      0.939      0.884      0.937      0.718\n"
          ]
        },
        {
          "name": "stderr",
          "output_type": "stream",
          "text": [
            "\n"
          ]
        },
        {
          "name": "stdout",
          "output_type": "stream",
          "text": [
            "\n",
            "      Epoch    GPU_mem   box_loss   seg_loss   cls_loss   dfl_loss  Instances       Size\n"
          ]
        },
        {
          "name": "stderr",
          "output_type": "stream",
          "text": [
            "     81/500      14.7G     0.6366     0.9728     0.4003     0.9961         18        640: 100%|██████████| 198/198 [00:55<00:00,  3.59it/s]\n",
            "                 Class     Images  Instances      Box(P          R      mAP50  mAP50-95)     Mask(P          R      mAP50  mAP50-95): 100%|██████████| 13/13 [00:03<00:00,  3.30it/s]"
          ]
        },
        {
          "name": "stdout",
          "output_type": "stream",
          "text": [
            "                   all        405        424      0.947       0.88       0.94      0.719      0.928      0.887      0.927      0.704\n"
          ]
        },
        {
          "name": "stderr",
          "output_type": "stream",
          "text": [
            "\n"
          ]
        },
        {
          "name": "stdout",
          "output_type": "stream",
          "text": [
            "\n",
            "      Epoch    GPU_mem   box_loss   seg_loss   cls_loss   dfl_loss  Instances       Size\n"
          ]
        },
        {
          "name": "stderr",
          "output_type": "stream",
          "text": [
            "     82/500      14.6G     0.6328     0.9544      0.401     0.9964         15        640: 100%|██████████| 198/198 [00:55<00:00,  3.59it/s]\n",
            "                 Class     Images  Instances      Box(P          R      mAP50  mAP50-95)     Mask(P          R      mAP50  mAP50-95): 100%|██████████| 13/13 [00:03<00:00,  3.27it/s]"
          ]
        },
        {
          "name": "stdout",
          "output_type": "stream",
          "text": [
            "                   all        405        424      0.939      0.905      0.941       0.72      0.931      0.897      0.936      0.717\n"
          ]
        },
        {
          "name": "stderr",
          "output_type": "stream",
          "text": [
            "\n"
          ]
        },
        {
          "name": "stdout",
          "output_type": "stream",
          "text": [
            "\n",
            "      Epoch    GPU_mem   box_loss   seg_loss   cls_loss   dfl_loss  Instances       Size\n"
          ]
        },
        {
          "name": "stderr",
          "output_type": "stream",
          "text": [
            "     83/500      14.7G     0.6379     0.9645     0.3967     0.9933         14        640: 100%|██████████| 198/198 [00:55<00:00,  3.57it/s]\n",
            "                 Class     Images  Instances      Box(P          R      mAP50  mAP50-95)     Mask(P          R      mAP50  mAP50-95): 100%|██████████| 13/13 [00:04<00:00,  3.23it/s]\n"
          ]
        },
        {
          "name": "stdout",
          "output_type": "stream",
          "text": [
            "                   all        405        424      0.934      0.901      0.944      0.723      0.934      0.901      0.941      0.718\n",
            "\n",
            "      Epoch    GPU_mem   box_loss   seg_loss   cls_loss   dfl_loss  Instances       Size\n"
          ]
        },
        {
          "name": "stderr",
          "output_type": "stream",
          "text": [
            "     84/500      14.7G     0.6397     0.9407     0.3933     0.9985         18        640: 100%|██████████| 198/198 [00:55<00:00,  3.58it/s]\n",
            "                 Class     Images  Instances      Box(P          R      mAP50  mAP50-95)     Mask(P          R      mAP50  mAP50-95): 100%|██████████| 13/13 [00:03<00:00,  3.31it/s]\n"
          ]
        },
        {
          "name": "stdout",
          "output_type": "stream",
          "text": [
            "                   all        405        424      0.938      0.895      0.934       0.72      0.936      0.892      0.931      0.708\n",
            "\n",
            "      Epoch    GPU_mem   box_loss   seg_loss   cls_loss   dfl_loss  Instances       Size\n"
          ]
        },
        {
          "name": "stderr",
          "output_type": "stream",
          "text": [
            "     85/500      14.6G     0.6271     0.9239     0.3811      1.001         18        640: 100%|██████████| 198/198 [00:55<00:00,  3.57it/s]\n",
            "                 Class     Images  Instances      Box(P          R      mAP50  mAP50-95)     Mask(P          R      mAP50  mAP50-95): 100%|██████████| 13/13 [00:03<00:00,  3.31it/s]"
          ]
        },
        {
          "name": "stdout",
          "output_type": "stream",
          "text": [
            "                   all        405        424      0.933      0.892      0.929      0.704      0.929      0.882      0.924      0.697\n"
          ]
        },
        {
          "name": "stderr",
          "output_type": "stream",
          "text": [
            "\n"
          ]
        },
        {
          "name": "stdout",
          "output_type": "stream",
          "text": [
            "\n",
            "      Epoch    GPU_mem   box_loss   seg_loss   cls_loss   dfl_loss  Instances       Size\n"
          ]
        },
        {
          "name": "stderr",
          "output_type": "stream",
          "text": [
            "     86/500      14.7G     0.6049     0.9108     0.3835     0.9805         13        640: 100%|██████████| 198/198 [00:55<00:00,  3.57it/s]\n",
            "                 Class     Images  Instances      Box(P          R      mAP50  mAP50-95)     Mask(P          R      mAP50  mAP50-95): 100%|██████████| 13/13 [00:03<00:00,  3.30it/s]"
          ]
        },
        {
          "name": "stdout",
          "output_type": "stream",
          "text": [
            "                   all        405        424      0.945      0.884      0.934      0.719      0.937      0.879       0.93      0.714\n"
          ]
        },
        {
          "name": "stderr",
          "output_type": "stream",
          "text": [
            "\n"
          ]
        },
        {
          "name": "stdout",
          "output_type": "stream",
          "text": [
            "\n",
            "      Epoch    GPU_mem   box_loss   seg_loss   cls_loss   dfl_loss  Instances       Size\n"
          ]
        },
        {
          "name": "stderr",
          "output_type": "stream",
          "text": [
            "     87/500      14.7G     0.6323     0.9507     0.3909      1.003         15        640: 100%|██████████| 198/198 [00:55<00:00,  3.58it/s]\n",
            "                 Class     Images  Instances      Box(P          R      mAP50  mAP50-95)     Mask(P          R      mAP50  mAP50-95): 100%|██████████| 13/13 [00:03<00:00,  3.29it/s]"
          ]
        },
        {
          "name": "stdout",
          "output_type": "stream",
          "text": [
            "                   all        405        424      0.936      0.901      0.935      0.713      0.935      0.894      0.935      0.711\n"
          ]
        },
        {
          "name": "stderr",
          "output_type": "stream",
          "text": [
            "\n"
          ]
        },
        {
          "name": "stdout",
          "output_type": "stream",
          "text": [
            "\n",
            "      Epoch    GPU_mem   box_loss   seg_loss   cls_loss   dfl_loss  Instances       Size\n"
          ]
        },
        {
          "name": "stderr",
          "output_type": "stream",
          "text": [
            "     88/500      14.7G     0.6141      0.961     0.3795     0.9899         14        640: 100%|██████████| 198/198 [00:55<00:00,  3.58it/s]\n",
            "                 Class     Images  Instances      Box(P          R      mAP50  mAP50-95)     Mask(P          R      mAP50  mAP50-95): 100%|██████████| 13/13 [00:03<00:00,  3.33it/s]\n"
          ]
        },
        {
          "name": "stdout",
          "output_type": "stream",
          "text": [
            "                   all        405        424       0.94      0.887      0.935      0.715      0.932       0.88       0.93      0.708\n",
            "\n",
            "      Epoch    GPU_mem   box_loss   seg_loss   cls_loss   dfl_loss  Instances       Size\n"
          ]
        },
        {
          "name": "stderr",
          "output_type": "stream",
          "text": [
            "     89/500      14.6G      0.608     0.9279     0.3749     0.9857         20        640: 100%|██████████| 198/198 [00:55<00:00,  3.59it/s]\n",
            "                 Class     Images  Instances      Box(P          R      mAP50  mAP50-95)     Mask(P          R      mAP50  mAP50-95): 100%|██████████| 13/13 [00:03<00:00,  3.27it/s]"
          ]
        },
        {
          "name": "stdout",
          "output_type": "stream",
          "text": [
            "                   all        405        424      0.943      0.896      0.938      0.712      0.927      0.887      0.927      0.711\n"
          ]
        },
        {
          "name": "stderr",
          "output_type": "stream",
          "text": [
            "\n"
          ]
        },
        {
          "name": "stdout",
          "output_type": "stream",
          "text": [
            "\n",
            "      Epoch    GPU_mem   box_loss   seg_loss   cls_loss   dfl_loss  Instances       Size\n"
          ]
        },
        {
          "name": "stderr",
          "output_type": "stream",
          "text": [
            "     90/500      14.6G      0.611     0.9331     0.3804     0.9876         11        640: 100%|██████████| 198/198 [00:55<00:00,  3.58it/s]\n",
            "                 Class     Images  Instances      Box(P          R      mAP50  mAP50-95)     Mask(P          R      mAP50  mAP50-95): 100%|██████████| 13/13 [00:03<00:00,  3.28it/s]"
          ]
        },
        {
          "name": "stdout",
          "output_type": "stream",
          "text": [
            "                   all        405        424      0.922      0.896      0.934      0.716      0.921      0.896      0.935      0.712\n"
          ]
        },
        {
          "name": "stderr",
          "output_type": "stream",
          "text": [
            "\n"
          ]
        },
        {
          "name": "stdout",
          "output_type": "stream",
          "text": [
            "\n",
            "      Epoch    GPU_mem   box_loss   seg_loss   cls_loss   dfl_loss  Instances       Size\n"
          ]
        },
        {
          "name": "stderr",
          "output_type": "stream",
          "text": [
            "     91/500      14.7G     0.6297      0.946     0.3795     0.9977         13        640: 100%|██████████| 198/198 [00:55<00:00,  3.57it/s]\n",
            "                 Class     Images  Instances      Box(P          R      mAP50  mAP50-95)     Mask(P          R      mAP50  mAP50-95): 100%|██████████| 13/13 [00:03<00:00,  3.32it/s]"
          ]
        },
        {
          "name": "stdout",
          "output_type": "stream",
          "text": [
            "                   all        405        424      0.939      0.876      0.933       0.71      0.939      0.876      0.931      0.704\n"
          ]
        },
        {
          "name": "stderr",
          "output_type": "stream",
          "text": [
            "\n"
          ]
        },
        {
          "name": "stdout",
          "output_type": "stream",
          "text": [
            "\n",
            "      Epoch    GPU_mem   box_loss   seg_loss   cls_loss   dfl_loss  Instances       Size\n"
          ]
        },
        {
          "name": "stderr",
          "output_type": "stream",
          "text": [
            "     92/500      14.6G     0.6042     0.9126     0.3698     0.9858         12        640: 100%|██████████| 198/198 [00:55<00:00,  3.58it/s]\n",
            "                 Class     Images  Instances      Box(P          R      mAP50  mAP50-95)     Mask(P          R      mAP50  mAP50-95): 100%|██████████| 13/13 [00:03<00:00,  3.32it/s]"
          ]
        },
        {
          "name": "stdout",
          "output_type": "stream",
          "text": [
            "                   all        405        424       0.94       0.89      0.939      0.722       0.93      0.881      0.931      0.719\n"
          ]
        },
        {
          "name": "stderr",
          "output_type": "stream",
          "text": [
            "\n"
          ]
        },
        {
          "name": "stdout",
          "output_type": "stream",
          "text": [
            "\n",
            "      Epoch    GPU_mem   box_loss   seg_loss   cls_loss   dfl_loss  Instances       Size\n"
          ]
        },
        {
          "name": "stderr",
          "output_type": "stream",
          "text": [
            "     93/500      14.7G     0.6137     0.9181     0.3759     0.9869         12        640: 100%|██████████| 198/198 [00:55<00:00,  3.58it/s]\n",
            "                 Class     Images  Instances      Box(P          R      mAP50  mAP50-95)     Mask(P          R      mAP50  mAP50-95): 100%|██████████| 13/13 [00:03<00:00,  3.30it/s]"
          ]
        },
        {
          "name": "stdout",
          "output_type": "stream",
          "text": [
            "                   all        405        424      0.915       0.91      0.933      0.714      0.928      0.903      0.933      0.706\n"
          ]
        },
        {
          "name": "stderr",
          "output_type": "stream",
          "text": [
            "\n"
          ]
        },
        {
          "name": "stdout",
          "output_type": "stream",
          "text": [
            "\n",
            "      Epoch    GPU_mem   box_loss   seg_loss   cls_loss   dfl_loss  Instances       Size\n"
          ]
        },
        {
          "name": "stderr",
          "output_type": "stream",
          "text": [
            "     94/500      14.6G     0.6006     0.9045     0.3749     0.9806         12        640: 100%|██████████| 198/198 [00:55<00:00,  3.58it/s]\n",
            "                 Class     Images  Instances      Box(P          R      mAP50  mAP50-95)     Mask(P          R      mAP50  mAP50-95): 100%|██████████| 13/13 [00:03<00:00,  3.28it/s]"
          ]
        },
        {
          "name": "stdout",
          "output_type": "stream",
          "text": [
            "                   all        405        424      0.938      0.908      0.936      0.734      0.943      0.913      0.939      0.722\n"
          ]
        },
        {
          "name": "stderr",
          "output_type": "stream",
          "text": [
            "\n"
          ]
        },
        {
          "name": "stdout",
          "output_type": "stream",
          "text": [
            "\n",
            "      Epoch    GPU_mem   box_loss   seg_loss   cls_loss   dfl_loss  Instances       Size\n"
          ]
        },
        {
          "name": "stderr",
          "output_type": "stream",
          "text": [
            "     95/500      14.6G     0.5994     0.8851     0.3748     0.9867         19        640: 100%|██████████| 198/198 [00:55<00:00,  3.59it/s]\n",
            "                 Class     Images  Instances      Box(P          R      mAP50  mAP50-95)     Mask(P          R      mAP50  mAP50-95): 100%|██████████| 13/13 [00:04<00:00,  3.25it/s]"
          ]
        },
        {
          "name": "stdout",
          "output_type": "stream",
          "text": [
            "                   all        405        424      0.936      0.901      0.933      0.725      0.931      0.896      0.931      0.719\n"
          ]
        },
        {
          "name": "stderr",
          "output_type": "stream",
          "text": [
            "\n"
          ]
        },
        {
          "name": "stdout",
          "output_type": "stream",
          "text": [
            "\n",
            "      Epoch    GPU_mem   box_loss   seg_loss   cls_loss   dfl_loss  Instances       Size\n"
          ]
        },
        {
          "name": "stderr",
          "output_type": "stream",
          "text": [
            "     96/500      14.7G     0.6016     0.9066      0.374     0.9809         16        640: 100%|██████████| 198/198 [00:55<00:00,  3.59it/s]\n",
            "                 Class     Images  Instances      Box(P          R      mAP50  mAP50-95)     Mask(P          R      mAP50  mAP50-95): 100%|██████████| 13/13 [00:04<00:00,  3.25it/s]\n"
          ]
        },
        {
          "name": "stdout",
          "output_type": "stream",
          "text": [
            "                   all        405        424      0.922       0.92      0.931      0.706      0.924      0.922      0.931      0.707\n",
            "\n",
            "      Epoch    GPU_mem   box_loss   seg_loss   cls_loss   dfl_loss  Instances       Size\n"
          ]
        },
        {
          "name": "stderr",
          "output_type": "stream",
          "text": [
            "     97/500      14.6G     0.6003     0.9143     0.3739     0.9798          9        640: 100%|██████████| 198/198 [00:55<00:00,  3.59it/s]\n",
            "                 Class     Images  Instances      Box(P          R      mAP50  mAP50-95)     Mask(P          R      mAP50  mAP50-95): 100%|██████████| 13/13 [00:03<00:00,  3.29it/s]"
          ]
        },
        {
          "name": "stdout",
          "output_type": "stream",
          "text": [
            "                   all        405        424      0.945      0.894      0.942      0.719      0.935      0.886      0.933      0.718\n"
          ]
        },
        {
          "name": "stderr",
          "output_type": "stream",
          "text": [
            "\n"
          ]
        },
        {
          "name": "stdout",
          "output_type": "stream",
          "text": [
            "\n",
            "      Epoch    GPU_mem   box_loss   seg_loss   cls_loss   dfl_loss  Instances       Size\n"
          ]
        },
        {
          "name": "stderr",
          "output_type": "stream",
          "text": [
            "     98/500      14.6G     0.6088     0.9088     0.3681     0.9881         18        640: 100%|██████████| 198/198 [00:55<00:00,  3.58it/s]\n",
            "                 Class     Images  Instances      Box(P          R      mAP50  mAP50-95)     Mask(P          R      mAP50  mAP50-95): 100%|██████████| 13/13 [00:03<00:00,  3.32it/s]"
          ]
        },
        {
          "name": "stdout",
          "output_type": "stream",
          "text": [
            "                   all        405        424      0.946      0.884      0.938       0.72      0.938      0.877      0.929      0.714\n"
          ]
        },
        {
          "name": "stderr",
          "output_type": "stream",
          "text": [
            "\n"
          ]
        },
        {
          "name": "stdout",
          "output_type": "stream",
          "text": [
            "\n",
            "      Epoch    GPU_mem   box_loss   seg_loss   cls_loss   dfl_loss  Instances       Size\n"
          ]
        },
        {
          "name": "stderr",
          "output_type": "stream",
          "text": [
            "     99/500      14.8G      0.596     0.8906     0.3699     0.9807         18        640: 100%|██████████| 198/198 [00:55<00:00,  3.59it/s]\n",
            "                 Class     Images  Instances      Box(P          R      mAP50  mAP50-95)     Mask(P          R      mAP50  mAP50-95): 100%|██████████| 13/13 [00:03<00:00,  3.31it/s]"
          ]
        },
        {
          "name": "stdout",
          "output_type": "stream",
          "text": [
            "                   all        405        424      0.927      0.915      0.944      0.719      0.915      0.903      0.932      0.713\n"
          ]
        },
        {
          "name": "stderr",
          "output_type": "stream",
          "text": [
            "\n"
          ]
        },
        {
          "name": "stdout",
          "output_type": "stream",
          "text": [
            "\n",
            "      Epoch    GPU_mem   box_loss   seg_loss   cls_loss   dfl_loss  Instances       Size\n"
          ]
        },
        {
          "name": "stderr",
          "output_type": "stream",
          "text": [
            "    100/500      14.6G     0.5997      0.904     0.3676     0.9834         12        640: 100%|██████████| 198/198 [00:55<00:00,  3.58it/s]\n",
            "                 Class     Images  Instances      Box(P          R      mAP50  mAP50-95)     Mask(P          R      mAP50  mAP50-95): 100%|██████████| 13/13 [00:03<00:00,  3.29it/s]"
          ]
        },
        {
          "name": "stdout",
          "output_type": "stream",
          "text": [
            "                   all        405        424      0.917      0.887      0.933      0.717       0.91      0.879      0.921      0.707\n"
          ]
        },
        {
          "name": "stderr",
          "output_type": "stream",
          "text": [
            "\n"
          ]
        },
        {
          "name": "stdout",
          "output_type": "stream",
          "text": [
            "\n",
            "      Epoch    GPU_mem   box_loss   seg_loss   cls_loss   dfl_loss  Instances       Size\n"
          ]
        },
        {
          "name": "stderr",
          "output_type": "stream",
          "text": [
            "    101/500      14.6G     0.5958     0.8971     0.3707     0.9787         11        640: 100%|██████████| 198/198 [00:55<00:00,  3.58it/s]\n",
            "                 Class     Images  Instances      Box(P          R      mAP50  mAP50-95)     Mask(P          R      mAP50  mAP50-95): 100%|██████████| 13/13 [00:03<00:00,  3.28it/s]"
          ]
        },
        {
          "name": "stdout",
          "output_type": "stream",
          "text": [
            "                   all        405        424      0.929        0.9      0.945      0.729      0.915      0.886      0.927      0.721\n"
          ]
        },
        {
          "name": "stderr",
          "output_type": "stream",
          "text": [
            "\n"
          ]
        },
        {
          "name": "stdout",
          "output_type": "stream",
          "text": [
            "\n",
            "      Epoch    GPU_mem   box_loss   seg_loss   cls_loss   dfl_loss  Instances       Size\n"
          ]
        },
        {
          "name": "stderr",
          "output_type": "stream",
          "text": [
            "    102/500      14.6G     0.5865     0.8775     0.3637     0.9756         17        640: 100%|██████████| 198/198 [00:55<00:00,  3.58it/s]\n",
            "                 Class     Images  Instances      Box(P          R      mAP50  mAP50-95)     Mask(P          R      mAP50  mAP50-95): 100%|██████████| 13/13 [00:03<00:00,  3.27it/s]\n"
          ]
        },
        {
          "name": "stdout",
          "output_type": "stream",
          "text": [
            "                   all        405        424      0.914      0.889      0.937      0.726      0.906      0.892      0.934      0.722\n",
            "\n",
            "      Epoch    GPU_mem   box_loss   seg_loss   cls_loss   dfl_loss  Instances       Size\n"
          ]
        },
        {
          "name": "stderr",
          "output_type": "stream",
          "text": [
            "    103/500      14.7G     0.5872     0.8803     0.3635     0.9755         11        640: 100%|██████████| 198/198 [00:55<00:00,  3.58it/s]\n",
            "                 Class     Images  Instances      Box(P          R      mAP50  mAP50-95)     Mask(P          R      mAP50  mAP50-95): 100%|██████████| 13/13 [00:03<00:00,  3.30it/s]\n"
          ]
        },
        {
          "name": "stdout",
          "output_type": "stream",
          "text": [
            "                   all        405        424       0.93      0.903      0.939      0.723      0.918        0.9      0.936      0.717\n",
            "\n",
            "      Epoch    GPU_mem   box_loss   seg_loss   cls_loss   dfl_loss  Instances       Size\n"
          ]
        },
        {
          "name": "stderr",
          "output_type": "stream",
          "text": [
            "    104/500      14.6G     0.5871      0.883     0.3648      0.974         12        640: 100%|██████████| 198/198 [00:55<00:00,  3.59it/s]\n",
            "                 Class     Images  Instances      Box(P          R      mAP50  mAP50-95)     Mask(P          R      mAP50  mAP50-95): 100%|██████████| 13/13 [00:03<00:00,  3.32it/s]"
          ]
        },
        {
          "name": "stdout",
          "output_type": "stream",
          "text": [
            "                   all        405        424      0.946      0.874      0.937      0.725       0.94      0.868      0.928      0.723\n"
          ]
        },
        {
          "name": "stderr",
          "output_type": "stream",
          "text": [
            "\n"
          ]
        },
        {
          "name": "stdout",
          "output_type": "stream",
          "text": [
            "\n",
            "      Epoch    GPU_mem   box_loss   seg_loss   cls_loss   dfl_loss  Instances       Size\n"
          ]
        },
        {
          "name": "stderr",
          "output_type": "stream",
          "text": [
            "    105/500      14.6G     0.5813     0.8669     0.3574     0.9788         16        640: 100%|██████████| 198/198 [00:55<00:00,  3.58it/s]\n",
            "                 Class     Images  Instances      Box(P          R      mAP50  mAP50-95)     Mask(P          R      mAP50  mAP50-95): 100%|██████████| 13/13 [00:03<00:00,  3.32it/s]\n"
          ]
        },
        {
          "name": "stdout",
          "output_type": "stream",
          "text": [
            "                   all        405        424      0.947      0.882      0.939      0.724      0.942      0.877      0.931      0.718\n",
            "\n",
            "      Epoch    GPU_mem   box_loss   seg_loss   cls_loss   dfl_loss  Instances       Size\n"
          ]
        },
        {
          "name": "stderr",
          "output_type": "stream",
          "text": [
            "    106/500      14.6G     0.5895     0.8902     0.3639     0.9709         18        640: 100%|██████████| 198/198 [00:55<00:00,  3.57it/s]\n",
            "                 Class     Images  Instances      Box(P          R      mAP50  mAP50-95)     Mask(P          R      mAP50  mAP50-95): 100%|██████████| 13/13 [00:03<00:00,  3.27it/s]"
          ]
        },
        {
          "name": "stdout",
          "output_type": "stream",
          "text": [
            "                   all        405        424      0.928      0.896      0.933       0.72      0.935      0.879      0.924      0.714\n"
          ]
        },
        {
          "name": "stderr",
          "output_type": "stream",
          "text": [
            "\n"
          ]
        },
        {
          "name": "stdout",
          "output_type": "stream",
          "text": [
            "\n",
            "      Epoch    GPU_mem   box_loss   seg_loss   cls_loss   dfl_loss  Instances       Size\n"
          ]
        },
        {
          "name": "stderr",
          "output_type": "stream",
          "text": [
            "    107/500      14.6G     0.5813      0.866     0.3627     0.9739          5        640: 100%|██████████| 198/198 [00:55<00:00,  3.58it/s]\n",
            "                 Class     Images  Instances      Box(P          R      mAP50  mAP50-95)     Mask(P          R      mAP50  mAP50-95): 100%|██████████| 13/13 [00:03<00:00,  3.28it/s]"
          ]
        },
        {
          "name": "stdout",
          "output_type": "stream",
          "text": [
            "                   all        405        424      0.913      0.892      0.928      0.713      0.915      0.894      0.925      0.709\n"
          ]
        },
        {
          "name": "stderr",
          "output_type": "stream",
          "text": [
            "\n"
          ]
        },
        {
          "name": "stdout",
          "output_type": "stream",
          "text": [
            "\n",
            "      Epoch    GPU_mem   box_loss   seg_loss   cls_loss   dfl_loss  Instances       Size\n"
          ]
        },
        {
          "name": "stderr",
          "output_type": "stream",
          "text": [
            "    108/500      14.6G     0.5722      0.852     0.3441     0.9681         11        640: 100%|██████████| 198/198 [00:55<00:00,  3.58it/s]\n",
            "                 Class     Images  Instances      Box(P          R      mAP50  mAP50-95)     Mask(P          R      mAP50  mAP50-95): 100%|██████████| 13/13 [00:03<00:00,  3.31it/s]"
          ]
        },
        {
          "name": "stdout",
          "output_type": "stream",
          "text": [
            "                   all        405        424      0.946        0.9      0.933      0.727      0.938      0.891      0.926      0.716\n"
          ]
        },
        {
          "name": "stderr",
          "output_type": "stream",
          "text": [
            "\n"
          ]
        },
        {
          "name": "stdout",
          "output_type": "stream",
          "text": [
            "\n",
            "      Epoch    GPU_mem   box_loss   seg_loss   cls_loss   dfl_loss  Instances       Size\n"
          ]
        },
        {
          "name": "stderr",
          "output_type": "stream",
          "text": [
            "    109/500      14.6G     0.5677     0.8531     0.3448     0.9668         12        640: 100%|██████████| 198/198 [00:55<00:00,  3.59it/s]\n",
            "                 Class     Images  Instances      Box(P          R      mAP50  mAP50-95)     Mask(P          R      mAP50  mAP50-95): 100%|██████████| 13/13 [00:03<00:00,  3.27it/s]\n"
          ]
        },
        {
          "name": "stdout",
          "output_type": "stream",
          "text": [
            "                   all        405        424       0.94      0.892      0.932       0.72      0.935      0.887      0.929      0.715\n",
            "\n",
            "      Epoch    GPU_mem   box_loss   seg_loss   cls_loss   dfl_loss  Instances       Size\n"
          ]
        },
        {
          "name": "stderr",
          "output_type": "stream",
          "text": [
            "    110/500      14.8G     0.5727     0.8771     0.3549     0.9651         15        640: 100%|██████████| 198/198 [00:55<00:00,  3.59it/s]\n",
            "                 Class     Images  Instances      Box(P          R      mAP50  mAP50-95)     Mask(P          R      mAP50  mAP50-95): 100%|██████████| 13/13 [00:03<00:00,  3.30it/s]\n"
          ]
        },
        {
          "name": "stdout",
          "output_type": "stream",
          "text": [
            "                   all        405        424      0.931      0.893      0.937      0.725      0.926      0.888      0.929      0.716\n",
            "\n",
            "      Epoch    GPU_mem   box_loss   seg_loss   cls_loss   dfl_loss  Instances       Size\n"
          ]
        },
        {
          "name": "stderr",
          "output_type": "stream",
          "text": [
            "    111/500      14.6G     0.5699      0.855     0.3481     0.9646         19        640: 100%|██████████| 198/198 [00:55<00:00,  3.59it/s]\n",
            "                 Class     Images  Instances      Box(P          R      mAP50  mAP50-95)     Mask(P          R      mAP50  mAP50-95): 100%|██████████| 13/13 [00:03<00:00,  3.27it/s]\n"
          ]
        },
        {
          "name": "stdout",
          "output_type": "stream",
          "text": [
            "                   all        405        424      0.936       0.89      0.937      0.733      0.926       0.88      0.924      0.725\n",
            "\n",
            "      Epoch    GPU_mem   box_loss   seg_loss   cls_loss   dfl_loss  Instances       Size\n"
          ]
        },
        {
          "name": "stderr",
          "output_type": "stream",
          "text": [
            "    112/500      14.6G     0.5711     0.8546     0.3531     0.9666         10        640: 100%|██████████| 198/198 [00:55<00:00,  3.57it/s]\n",
            "                 Class     Images  Instances      Box(P          R      mAP50  mAP50-95)     Mask(P          R      mAP50  mAP50-95): 100%|██████████| 13/13 [00:03<00:00,  3.29it/s]"
          ]
        },
        {
          "name": "stdout",
          "output_type": "stream",
          "text": [
            "                   all        405        424      0.926      0.899      0.933       0.73      0.926      0.899      0.929      0.722\n"
          ]
        },
        {
          "name": "stderr",
          "output_type": "stream",
          "text": [
            "\n"
          ]
        },
        {
          "name": "stdout",
          "output_type": "stream",
          "text": [
            "\n",
            "      Epoch    GPU_mem   box_loss   seg_loss   cls_loss   dfl_loss  Instances       Size\n"
          ]
        },
        {
          "name": "stderr",
          "output_type": "stream",
          "text": [
            "    113/500      14.6G     0.5631     0.8289      0.348      0.961         16        640: 100%|██████████| 198/198 [00:55<00:00,  3.56it/s]\n",
            "                 Class     Images  Instances      Box(P          R      mAP50  mAP50-95)     Mask(P          R      mAP50  mAP50-95): 100%|██████████| 13/13 [00:03<00:00,  3.29it/s]\n"
          ]
        },
        {
          "name": "stdout",
          "output_type": "stream",
          "text": [
            "                   all        405        424      0.921      0.884      0.932      0.724      0.921      0.884      0.924       0.72\n",
            "\n",
            "      Epoch    GPU_mem   box_loss   seg_loss   cls_loss   dfl_loss  Instances       Size\n"
          ]
        },
        {
          "name": "stderr",
          "output_type": "stream",
          "text": [
            "    114/500      14.8G     0.5675     0.8507     0.3481     0.9663         13        640: 100%|██████████| 198/198 [00:55<00:00,  3.58it/s]\n",
            "                 Class     Images  Instances      Box(P          R      mAP50  mAP50-95)     Mask(P          R      mAP50  mAP50-95): 100%|██████████| 13/13 [00:03<00:00,  3.29it/s]\n"
          ]
        },
        {
          "name": "stdout",
          "output_type": "stream",
          "text": [
            "                   all        405        424      0.927      0.894      0.937      0.727      0.926      0.887      0.926      0.718\n",
            "\n",
            "      Epoch    GPU_mem   box_loss   seg_loss   cls_loss   dfl_loss  Instances       Size\n"
          ]
        },
        {
          "name": "stderr",
          "output_type": "stream",
          "text": [
            "    115/500      14.6G     0.5674      0.859     0.3478      0.973         16        640: 100%|██████████| 198/198 [00:55<00:00,  3.58it/s]\n",
            "                 Class     Images  Instances      Box(P          R      mAP50  mAP50-95)     Mask(P          R      mAP50  mAP50-95): 100%|██████████| 13/13 [00:03<00:00,  3.28it/s]"
          ]
        },
        {
          "name": "stdout",
          "output_type": "stream",
          "text": [
            "                   all        405        424      0.945      0.888      0.936      0.719      0.932      0.875      0.924      0.713\n"
          ]
        },
        {
          "name": "stderr",
          "output_type": "stream",
          "text": [
            "\n"
          ]
        },
        {
          "name": "stdout",
          "output_type": "stream",
          "text": [
            "\n",
            "      Epoch    GPU_mem   box_loss   seg_loss   cls_loss   dfl_loss  Instances       Size\n"
          ]
        },
        {
          "name": "stderr",
          "output_type": "stream",
          "text": [
            "    116/500      14.6G     0.5575     0.8568     0.3424     0.9646         14        640: 100%|██████████| 198/198 [00:55<00:00,  3.58it/s]\n",
            "                 Class     Images  Instances      Box(P          R      mAP50  mAP50-95)     Mask(P          R      mAP50  mAP50-95): 100%|██████████| 13/13 [00:03<00:00,  3.30it/s]\n"
          ]
        },
        {
          "name": "stdout",
          "output_type": "stream",
          "text": [
            "                   all        405        424      0.945       0.87      0.933      0.724      0.939      0.866      0.926       0.72\n",
            "\n",
            "      Epoch    GPU_mem   box_loss   seg_loss   cls_loss   dfl_loss  Instances       Size\n"
          ]
        },
        {
          "name": "stderr",
          "output_type": "stream",
          "text": [
            "    117/500      14.7G     0.5506     0.8293     0.3378     0.9587         12        640: 100%|██████████| 198/198 [00:55<00:00,  3.58it/s]\n",
            "                 Class     Images  Instances      Box(P          R      mAP50  mAP50-95)     Mask(P          R      mAP50  mAP50-95): 100%|██████████| 13/13 [00:03<00:00,  3.32it/s]"
          ]
        },
        {
          "name": "stdout",
          "output_type": "stream",
          "text": [
            "                   all        405        424       0.94      0.894      0.932      0.721       0.93      0.878       0.92      0.715\n"
          ]
        },
        {
          "name": "stderr",
          "output_type": "stream",
          "text": [
            "\n"
          ]
        },
        {
          "name": "stdout",
          "output_type": "stream",
          "text": [
            "\n",
            "      Epoch    GPU_mem   box_loss   seg_loss   cls_loss   dfl_loss  Instances       Size\n"
          ]
        },
        {
          "name": "stderr",
          "output_type": "stream",
          "text": [
            "    118/500      14.7G     0.5626     0.8505     0.3394     0.9643         11        640: 100%|██████████| 198/198 [00:55<00:00,  3.58it/s]\n",
            "                 Class     Images  Instances      Box(P          R      mAP50  mAP50-95)     Mask(P          R      mAP50  mAP50-95): 100%|██████████| 13/13 [00:03<00:00,  3.26it/s]\n"
          ]
        },
        {
          "name": "stdout",
          "output_type": "stream",
          "text": [
            "                   all        405        424      0.934      0.869      0.924      0.723      0.894      0.895      0.912      0.715\n",
            "\n",
            "      Epoch    GPU_mem   box_loss   seg_loss   cls_loss   dfl_loss  Instances       Size\n"
          ]
        },
        {
          "name": "stderr",
          "output_type": "stream",
          "text": [
            "    119/500      14.7G      0.546     0.8371     0.3383     0.9485          9        640: 100%|██████████| 198/198 [00:55<00:00,  3.59it/s]\n",
            "                 Class     Images  Instances      Box(P          R      mAP50  mAP50-95)     Mask(P          R      mAP50  mAP50-95): 100%|██████████| 13/13 [00:03<00:00,  3.32it/s]\n"
          ]
        },
        {
          "name": "stdout",
          "output_type": "stream",
          "text": [
            "                   all        405        424      0.916       0.91      0.936      0.726      0.907      0.901      0.928      0.721\n",
            "\n",
            "      Epoch    GPU_mem   box_loss   seg_loss   cls_loss   dfl_loss  Instances       Size\n"
          ]
        },
        {
          "name": "stderr",
          "output_type": "stream",
          "text": [
            "    120/500      14.6G      0.549     0.8328     0.3355     0.9551         13        640: 100%|██████████| 198/198 [00:55<00:00,  3.59it/s]\n",
            "                 Class     Images  Instances      Box(P          R      mAP50  mAP50-95)     Mask(P          R      mAP50  mAP50-95): 100%|██████████| 13/13 [00:03<00:00,  3.30it/s]"
          ]
        },
        {
          "name": "stdout",
          "output_type": "stream",
          "text": [
            "                   all        405        424      0.933      0.908       0.94      0.733      0.926      0.901      0.934      0.726\n"
          ]
        },
        {
          "name": "stderr",
          "output_type": "stream",
          "text": [
            "\n"
          ]
        },
        {
          "name": "stdout",
          "output_type": "stream",
          "text": [
            "\n",
            "      Epoch    GPU_mem   box_loss   seg_loss   cls_loss   dfl_loss  Instances       Size\n"
          ]
        },
        {
          "name": "stderr",
          "output_type": "stream",
          "text": [
            "    121/500      14.7G     0.5404     0.8227     0.3315     0.9539         14        640: 100%|██████████| 198/198 [00:55<00:00,  3.59it/s]\n",
            "                 Class     Images  Instances      Box(P          R      mAP50  mAP50-95)     Mask(P          R      mAP50  mAP50-95): 100%|██████████| 13/13 [00:03<00:00,  3.30it/s]"
          ]
        },
        {
          "name": "stdout",
          "output_type": "stream",
          "text": [
            "                   all        405        424      0.942      0.896      0.942      0.746      0.944      0.899      0.942      0.736\n"
          ]
        },
        {
          "name": "stderr",
          "output_type": "stream",
          "text": [
            "\n"
          ]
        },
        {
          "name": "stdout",
          "output_type": "stream",
          "text": [
            "\n",
            "      Epoch    GPU_mem   box_loss   seg_loss   cls_loss   dfl_loss  Instances       Size\n"
          ]
        },
        {
          "name": "stderr",
          "output_type": "stream",
          "text": [
            "    122/500      14.6G     0.5476     0.8231      0.333     0.9601         19        640: 100%|██████████| 198/198 [00:55<00:00,  3.59it/s]\n",
            "                 Class     Images  Instances      Box(P          R      mAP50  mAP50-95)     Mask(P          R      mAP50  mAP50-95): 100%|██████████| 13/13 [00:03<00:00,  3.30it/s]"
          ]
        },
        {
          "name": "stdout",
          "output_type": "stream",
          "text": [
            "                   all        405        424      0.941      0.892       0.94      0.732      0.936      0.887      0.934      0.726\n"
          ]
        },
        {
          "name": "stderr",
          "output_type": "stream",
          "text": [
            "\n"
          ]
        },
        {
          "name": "stdout",
          "output_type": "stream",
          "text": [
            "\n",
            "      Epoch    GPU_mem   box_loss   seg_loss   cls_loss   dfl_loss  Instances       Size\n"
          ]
        },
        {
          "name": "stderr",
          "output_type": "stream",
          "text": [
            "    123/500      14.8G     0.5365     0.8292     0.3315     0.9531         22        640: 100%|██████████| 198/198 [00:55<00:00,  3.58it/s]\n",
            "                 Class     Images  Instances      Box(P          R      mAP50  mAP50-95)     Mask(P          R      mAP50  mAP50-95): 100%|██████████| 13/13 [00:03<00:00,  3.28it/s]"
          ]
        },
        {
          "name": "stdout",
          "output_type": "stream",
          "text": [
            "                   all        405        424      0.946      0.909      0.939      0.724      0.944      0.907      0.935      0.715\n"
          ]
        },
        {
          "name": "stderr",
          "output_type": "stream",
          "text": [
            "\n"
          ]
        },
        {
          "name": "stdout",
          "output_type": "stream",
          "text": [
            "\n",
            "      Epoch    GPU_mem   box_loss   seg_loss   cls_loss   dfl_loss  Instances       Size\n"
          ]
        },
        {
          "name": "stderr",
          "output_type": "stream",
          "text": [
            "    124/500      14.6G     0.5453     0.8131      0.334     0.9526          9        640: 100%|██████████| 198/198 [00:55<00:00,  3.58it/s]\n",
            "                 Class     Images  Instances      Box(P          R      mAP50  mAP50-95)     Mask(P          R      mAP50  mAP50-95): 100%|██████████| 13/13 [00:03<00:00,  3.28it/s]"
          ]
        },
        {
          "name": "stdout",
          "output_type": "stream",
          "text": [
            "                   all        405        424      0.949      0.889      0.929      0.718      0.947      0.887       0.93      0.717\n"
          ]
        },
        {
          "name": "stderr",
          "output_type": "stream",
          "text": [
            "\n"
          ]
        },
        {
          "name": "stdout",
          "output_type": "stream",
          "text": [
            "\n",
            "      Epoch    GPU_mem   box_loss   seg_loss   cls_loss   dfl_loss  Instances       Size\n"
          ]
        },
        {
          "name": "stderr",
          "output_type": "stream",
          "text": [
            "    125/500      14.6G     0.5333     0.8094     0.3262     0.9487         11        640: 100%|██████████| 198/198 [00:55<00:00,  3.57it/s]\n",
            "                 Class     Images  Instances      Box(P          R      mAP50  mAP50-95)     Mask(P          R      mAP50  mAP50-95): 100%|██████████| 13/13 [00:03<00:00,  3.29it/s]"
          ]
        },
        {
          "name": "stdout",
          "output_type": "stream",
          "text": [
            "                   all        405        424       0.93      0.899      0.937      0.729      0.925      0.892       0.93       0.72\n"
          ]
        },
        {
          "name": "stderr",
          "output_type": "stream",
          "text": [
            "\n"
          ]
        },
        {
          "name": "stdout",
          "output_type": "stream",
          "text": [
            "\n",
            "      Epoch    GPU_mem   box_loss   seg_loss   cls_loss   dfl_loss  Instances       Size\n"
          ]
        },
        {
          "name": "stderr",
          "output_type": "stream",
          "text": [
            "    126/500      14.6G     0.5281     0.8132     0.3268     0.9432         14        640: 100%|██████████| 198/198 [00:55<00:00,  3.59it/s]\n",
            "                 Class     Images  Instances      Box(P          R      mAP50  mAP50-95)     Mask(P          R      mAP50  mAP50-95): 100%|██████████| 13/13 [00:03<00:00,  3.27it/s]\n"
          ]
        },
        {
          "name": "stdout",
          "output_type": "stream",
          "text": [
            "                   all        405        424      0.932       0.91      0.936      0.726      0.932      0.913      0.937      0.719\n",
            "\n",
            "      Epoch    GPU_mem   box_loss   seg_loss   cls_loss   dfl_loss  Instances       Size\n"
          ]
        },
        {
          "name": "stderr",
          "output_type": "stream",
          "text": [
            "    127/500      14.6G     0.5442     0.8244     0.3308     0.9489         14        640: 100%|██████████| 198/198 [00:55<00:00,  3.58it/s]\n",
            "                 Class     Images  Instances      Box(P          R      mAP50  mAP50-95)     Mask(P          R      mAP50  mAP50-95): 100%|██████████| 13/13 [00:03<00:00,  3.29it/s]"
          ]
        },
        {
          "name": "stdout",
          "output_type": "stream",
          "text": [
            "                   all        405        424      0.925      0.884      0.931      0.723      0.925      0.884      0.929      0.714\n"
          ]
        },
        {
          "name": "stderr",
          "output_type": "stream",
          "text": [
            "\n"
          ]
        },
        {
          "name": "stdout",
          "output_type": "stream",
          "text": [
            "\n",
            "      Epoch    GPU_mem   box_loss   seg_loss   cls_loss   dfl_loss  Instances       Size\n"
          ]
        },
        {
          "name": "stderr",
          "output_type": "stream",
          "text": [
            "    128/500      14.8G     0.5373     0.8363     0.3302     0.9496         16        640: 100%|██████████| 198/198 [00:55<00:00,  3.59it/s]\n",
            "                 Class     Images  Instances      Box(P          R      mAP50  mAP50-95)     Mask(P          R      mAP50  mAP50-95): 100%|██████████| 13/13 [00:03<00:00,  3.29it/s]"
          ]
        },
        {
          "name": "stdout",
          "output_type": "stream",
          "text": [
            "                   all        405        424      0.923      0.871      0.931      0.727       0.93      0.878       0.93      0.721\n"
          ]
        },
        {
          "name": "stderr",
          "output_type": "stream",
          "text": [
            "\n"
          ]
        },
        {
          "name": "stdout",
          "output_type": "stream",
          "text": [
            "\n",
            "      Epoch    GPU_mem   box_loss   seg_loss   cls_loss   dfl_loss  Instances       Size\n"
          ]
        },
        {
          "name": "stderr",
          "output_type": "stream",
          "text": [
            "    129/500      14.6G     0.5335     0.8213     0.3304     0.9465         12        640: 100%|██████████| 198/198 [00:55<00:00,  3.59it/s]\n",
            "                 Class     Images  Instances      Box(P          R      mAP50  mAP50-95)     Mask(P          R      mAP50  mAP50-95): 100%|██████████| 13/13 [00:03<00:00,  3.30it/s]"
          ]
        },
        {
          "name": "stdout",
          "output_type": "stream",
          "text": [
            "                   all        405        424      0.911       0.89      0.931      0.724       0.92        0.9      0.936      0.716\n"
          ]
        },
        {
          "name": "stderr",
          "output_type": "stream",
          "text": [
            "\n"
          ]
        },
        {
          "name": "stdout",
          "output_type": "stream",
          "text": [
            "\n",
            "      Epoch    GPU_mem   box_loss   seg_loss   cls_loss   dfl_loss  Instances       Size\n"
          ]
        },
        {
          "name": "stderr",
          "output_type": "stream",
          "text": [
            "    130/500      14.7G     0.5283     0.8079     0.3264     0.9509         12        640: 100%|██████████| 198/198 [00:55<00:00,  3.58it/s]\n",
            "                 Class     Images  Instances      Box(P          R      mAP50  mAP50-95)     Mask(P          R      mAP50  mAP50-95): 100%|██████████| 13/13 [00:03<00:00,  3.28it/s]"
          ]
        },
        {
          "name": "stdout",
          "output_type": "stream",
          "text": [
            "                   all        405        424      0.922      0.887      0.928      0.726      0.932      0.894      0.931      0.724\n"
          ]
        },
        {
          "name": "stderr",
          "output_type": "stream",
          "text": [
            "\n"
          ]
        },
        {
          "name": "stdout",
          "output_type": "stream",
          "text": [
            "\n",
            "      Epoch    GPU_mem   box_loss   seg_loss   cls_loss   dfl_loss  Instances       Size\n"
          ]
        },
        {
          "name": "stderr",
          "output_type": "stream",
          "text": [
            "    131/500      14.6G     0.5299     0.8102      0.329     0.9466         15        640: 100%|██████████| 198/198 [00:55<00:00,  3.59it/s]\n",
            "                 Class     Images  Instances      Box(P          R      mAP50  mAP50-95)     Mask(P          R      mAP50  mAP50-95): 100%|██████████| 13/13 [00:03<00:00,  3.26it/s]"
          ]
        },
        {
          "name": "stdout",
          "output_type": "stream",
          "text": [
            "                   all        405        424      0.913      0.896      0.935       0.73      0.923      0.901      0.937      0.726\n"
          ]
        },
        {
          "name": "stderr",
          "output_type": "stream",
          "text": [
            "\n"
          ]
        },
        {
          "name": "stdout",
          "output_type": "stream",
          "text": [
            "\n",
            "      Epoch    GPU_mem   box_loss   seg_loss   cls_loss   dfl_loss  Instances       Size\n"
          ]
        },
        {
          "name": "stderr",
          "output_type": "stream",
          "text": [
            "    132/500      14.6G     0.5217     0.7799     0.3181     0.9365         12        640: 100%|██████████| 198/198 [00:55<00:00,  3.58it/s]\n",
            "                 Class     Images  Instances      Box(P          R      mAP50  mAP50-95)     Mask(P          R      mAP50  mAP50-95): 100%|██████████| 13/13 [00:03<00:00,  3.25it/s]"
          ]
        },
        {
          "name": "stdout",
          "output_type": "stream",
          "text": [
            "                   all        405        424      0.923      0.899      0.932      0.735      0.926      0.891      0.926      0.729\n"
          ]
        },
        {
          "name": "stderr",
          "output_type": "stream",
          "text": [
            "\n"
          ]
        },
        {
          "name": "stdout",
          "output_type": "stream",
          "text": [
            "\n",
            "      Epoch    GPU_mem   box_loss   seg_loss   cls_loss   dfl_loss  Instances       Size\n"
          ]
        },
        {
          "name": "stderr",
          "output_type": "stream",
          "text": [
            "    133/500      14.6G     0.5147     0.7941     0.3209     0.9362         16        640: 100%|██████████| 198/198 [00:55<00:00,  3.59it/s]\n",
            "                 Class     Images  Instances      Box(P          R      mAP50  mAP50-95)     Mask(P          R      mAP50  mAP50-95): 100%|██████████| 13/13 [00:04<00:00,  3.22it/s]"
          ]
        },
        {
          "name": "stdout",
          "output_type": "stream",
          "text": [
            "                   all        405        424      0.938        0.9      0.936       0.73      0.936      0.897      0.931      0.727\n"
          ]
        },
        {
          "name": "stderr",
          "output_type": "stream",
          "text": [
            "\n"
          ]
        },
        {
          "name": "stdout",
          "output_type": "stream",
          "text": [
            "\n",
            "      Epoch    GPU_mem   box_loss   seg_loss   cls_loss   dfl_loss  Instances       Size\n"
          ]
        },
        {
          "name": "stderr",
          "output_type": "stream",
          "text": [
            "    134/500      14.7G     0.5162     0.7997     0.3174     0.9377         15        640: 100%|██████████| 198/198 [00:55<00:00,  3.58it/s]\n",
            "                 Class     Images  Instances      Box(P          R      mAP50  mAP50-95)     Mask(P          R      mAP50  mAP50-95): 100%|██████████| 13/13 [00:04<00:00,  3.25it/s]"
          ]
        },
        {
          "name": "stdout",
          "output_type": "stream",
          "text": [
            "                   all        405        424      0.927      0.893      0.932      0.729      0.922      0.889      0.927      0.727\n"
          ]
        },
        {
          "name": "stderr",
          "output_type": "stream",
          "text": [
            "\n"
          ]
        },
        {
          "name": "stdout",
          "output_type": "stream",
          "text": [
            "\n",
            "      Epoch    GPU_mem   box_loss   seg_loss   cls_loss   dfl_loss  Instances       Size\n"
          ]
        },
        {
          "name": "stderr",
          "output_type": "stream",
          "text": [
            "    135/500      14.7G     0.5236     0.7965     0.3273     0.9431         16        640: 100%|██████████| 198/198 [00:55<00:00,  3.59it/s]\n",
            "                 Class     Images  Instances      Box(P          R      mAP50  mAP50-95)     Mask(P          R      mAP50  mAP50-95): 100%|██████████| 13/13 [00:03<00:00,  3.26it/s]"
          ]
        },
        {
          "name": "stdout",
          "output_type": "stream",
          "text": [
            "                   all        405        424      0.918      0.901      0.933      0.729      0.918      0.901      0.934       0.72\n"
          ]
        },
        {
          "name": "stderr",
          "output_type": "stream",
          "text": [
            "\n"
          ]
        },
        {
          "name": "stdout",
          "output_type": "stream",
          "text": [
            "\n",
            "      Epoch    GPU_mem   box_loss   seg_loss   cls_loss   dfl_loss  Instances       Size\n"
          ]
        },
        {
          "name": "stderr",
          "output_type": "stream",
          "text": [
            "    136/500      14.7G     0.5301     0.8008     0.3304     0.9415         13        640: 100%|██████████| 198/198 [00:55<00:00,  3.59it/s]\n",
            "                 Class     Images  Instances      Box(P          R      mAP50  mAP50-95)     Mask(P          R      mAP50  mAP50-95): 100%|██████████| 13/13 [00:03<00:00,  3.29it/s]\n"
          ]
        },
        {
          "name": "stdout",
          "output_type": "stream",
          "text": [
            "                   all        405        424      0.912      0.901      0.936       0.73       0.91      0.896       0.93      0.724\n",
            "\n",
            "      Epoch    GPU_mem   box_loss   seg_loss   cls_loss   dfl_loss  Instances       Size\n"
          ]
        },
        {
          "name": "stderr",
          "output_type": "stream",
          "text": [
            "    137/500      14.6G     0.5179     0.7823     0.3205     0.9384         14        640: 100%|██████████| 198/198 [00:55<00:00,  3.58it/s]\n",
            "                 Class     Images  Instances      Box(P          R      mAP50  mAP50-95)     Mask(P          R      mAP50  mAP50-95): 100%|██████████| 13/13 [00:03<00:00,  3.28it/s]"
          ]
        },
        {
          "name": "stdout",
          "output_type": "stream",
          "text": [
            "                   all        405        424      0.908      0.904      0.932      0.725      0.908      0.904       0.93      0.718\n"
          ]
        },
        {
          "name": "stderr",
          "output_type": "stream",
          "text": [
            "\n"
          ]
        },
        {
          "name": "stdout",
          "output_type": "stream",
          "text": [
            "\n",
            "      Epoch    GPU_mem   box_loss   seg_loss   cls_loss   dfl_loss  Instances       Size\n"
          ]
        },
        {
          "name": "stderr",
          "output_type": "stream",
          "text": [
            "    138/500      14.6G      0.515     0.7765      0.321     0.9355         13        640: 100%|██████████| 198/198 [00:55<00:00,  3.58it/s]\n",
            "                 Class     Images  Instances      Box(P          R      mAP50  mAP50-95)     Mask(P          R      mAP50  mAP50-95): 100%|██████████| 13/13 [00:03<00:00,  3.31it/s]\n"
          ]
        },
        {
          "name": "stdout",
          "output_type": "stream",
          "text": [
            "                   all        405        424      0.928      0.889      0.936      0.729      0.923      0.884       0.93      0.723\n",
            "\n",
            "      Epoch    GPU_mem   box_loss   seg_loss   cls_loss   dfl_loss  Instances       Size\n"
          ]
        },
        {
          "name": "stderr",
          "output_type": "stream",
          "text": [
            "    139/500      14.6G     0.5195       0.79     0.3184     0.9414         18        640: 100%|██████████| 198/198 [00:55<00:00,  3.58it/s]\n",
            "                 Class     Images  Instances      Box(P          R      mAP50  mAP50-95)     Mask(P          R      mAP50  mAP50-95): 100%|██████████| 13/13 [00:03<00:00,  3.28it/s]"
          ]
        },
        {
          "name": "stdout",
          "output_type": "stream",
          "text": [
            "                   all        405        424      0.938      0.896      0.936      0.731      0.938      0.896      0.934      0.727\n"
          ]
        },
        {
          "name": "stderr",
          "output_type": "stream",
          "text": [
            "\n"
          ]
        },
        {
          "name": "stdout",
          "output_type": "stream",
          "text": [
            "\n",
            "      Epoch    GPU_mem   box_loss   seg_loss   cls_loss   dfl_loss  Instances       Size\n"
          ]
        },
        {
          "name": "stderr",
          "output_type": "stream",
          "text": [
            "    140/500      14.8G     0.5171     0.7927     0.3218     0.9402         13        640: 100%|██████████| 198/198 [00:55<00:00,  3.58it/s]\n",
            "                 Class     Images  Instances      Box(P          R      mAP50  mAP50-95)     Mask(P          R      mAP50  mAP50-95): 100%|██████████| 13/13 [00:03<00:00,  3.27it/s]"
          ]
        },
        {
          "name": "stdout",
          "output_type": "stream",
          "text": [
            "                   all        405        424      0.933      0.903      0.936       0.74      0.926      0.896      0.928       0.73\n"
          ]
        },
        {
          "name": "stderr",
          "output_type": "stream",
          "text": [
            "\n"
          ]
        },
        {
          "name": "stdout",
          "output_type": "stream",
          "text": [
            "\n",
            "      Epoch    GPU_mem   box_loss   seg_loss   cls_loss   dfl_loss  Instances       Size\n"
          ]
        },
        {
          "name": "stderr",
          "output_type": "stream",
          "text": [
            "    141/500      14.6G     0.5092     0.7898     0.3137     0.9341         19        640: 100%|██████████| 198/198 [00:55<00:00,  3.58it/s]\n",
            "                 Class     Images  Instances      Box(P          R      mAP50  mAP50-95)     Mask(P          R      mAP50  mAP50-95): 100%|██████████| 13/13 [00:04<00:00,  3.20it/s]\n"
          ]
        },
        {
          "name": "stdout",
          "output_type": "stream",
          "text": [
            "                   all        405        424      0.952      0.873      0.937      0.731      0.949       0.87      0.936      0.726\n",
            "\n",
            "      Epoch    GPU_mem   box_loss   seg_loss   cls_loss   dfl_loss  Instances       Size\n"
          ]
        },
        {
          "name": "stderr",
          "output_type": "stream",
          "text": [
            "    142/500      14.7G     0.5109     0.7803     0.3164     0.9433         17        640: 100%|██████████| 198/198 [00:55<00:00,  3.57it/s]\n",
            "                 Class     Images  Instances      Box(P          R      mAP50  mAP50-95)     Mask(P          R      mAP50  mAP50-95): 100%|██████████| 13/13 [00:03<00:00,  3.25it/s]"
          ]
        },
        {
          "name": "stdout",
          "output_type": "stream",
          "text": [
            "                   all        405        424      0.936      0.889      0.938      0.731      0.933      0.887      0.933      0.727\n"
          ]
        },
        {
          "name": "stderr",
          "output_type": "stream",
          "text": [
            "\n"
          ]
        },
        {
          "name": "stdout",
          "output_type": "stream",
          "text": [
            "\n",
            "      Epoch    GPU_mem   box_loss   seg_loss   cls_loss   dfl_loss  Instances       Size\n"
          ]
        },
        {
          "name": "stderr",
          "output_type": "stream",
          "text": [
            "    143/500      14.7G     0.5236     0.7955     0.3185     0.9407         17        640: 100%|██████████| 198/198 [00:55<00:00,  3.58it/s]\n",
            "                 Class     Images  Instances      Box(P          R      mAP50  mAP50-95)     Mask(P          R      mAP50  mAP50-95): 100%|██████████| 13/13 [00:03<00:00,  3.31it/s]"
          ]
        },
        {
          "name": "stdout",
          "output_type": "stream",
          "text": [
            "                   all        405        424      0.945      0.887       0.94      0.728      0.942      0.885      0.932      0.724\n"
          ]
        },
        {
          "name": "stderr",
          "output_type": "stream",
          "text": [
            "\n"
          ]
        },
        {
          "name": "stdout",
          "output_type": "stream",
          "text": [
            "\n",
            "      Epoch    GPU_mem   box_loss   seg_loss   cls_loss   dfl_loss  Instances       Size\n"
          ]
        },
        {
          "name": "stderr",
          "output_type": "stream",
          "text": [
            "    144/500      14.8G     0.5155      0.793     0.3176     0.9422         17        640: 100%|██████████| 198/198 [00:55<00:00,  3.57it/s]\n",
            "                 Class     Images  Instances      Box(P          R      mAP50  mAP50-95)     Mask(P          R      mAP50  mAP50-95): 100%|██████████| 13/13 [00:03<00:00,  3.31it/s]\n"
          ]
        },
        {
          "name": "stdout",
          "output_type": "stream",
          "text": [
            "                   all        405        424      0.925      0.894      0.937      0.727      0.925      0.894      0.934      0.726\n",
            "\n",
            "      Epoch    GPU_mem   box_loss   seg_loss   cls_loss   dfl_loss  Instances       Size\n"
          ]
        },
        {
          "name": "stderr",
          "output_type": "stream",
          "text": [
            "    145/500      14.6G     0.5097     0.7839      0.319     0.9458         11        640: 100%|██████████| 198/198 [00:55<00:00,  3.59it/s]\n",
            "                 Class     Images  Instances      Box(P          R      mAP50  mAP50-95)     Mask(P          R      mAP50  mAP50-95): 100%|██████████| 13/13 [00:03<00:00,  3.29it/s]"
          ]
        },
        {
          "name": "stdout",
          "output_type": "stream",
          "text": [
            "                   all        405        424      0.916      0.897      0.936      0.731      0.924      0.899      0.937      0.732\n"
          ]
        },
        {
          "name": "stderr",
          "output_type": "stream",
          "text": [
            "\n"
          ]
        },
        {
          "name": "stdout",
          "output_type": "stream",
          "text": [
            "\n",
            "      Epoch    GPU_mem   box_loss   seg_loss   cls_loss   dfl_loss  Instances       Size\n"
          ]
        },
        {
          "name": "stderr",
          "output_type": "stream",
          "text": [
            "    146/500      14.8G     0.5011     0.7785     0.3094      0.928         11        640: 100%|██████████| 198/198 [00:55<00:00,  3.57it/s]\n",
            "                 Class     Images  Instances      Box(P          R      mAP50  mAP50-95)     Mask(P          R      mAP50  mAP50-95): 100%|██████████| 13/13 [00:03<00:00,  3.28it/s]\n"
          ]
        },
        {
          "name": "stdout",
          "output_type": "stream",
          "text": [
            "                   all        405        424      0.932      0.906      0.944      0.731      0.942       0.88      0.936      0.724\n",
            "\n",
            "      Epoch    GPU_mem   box_loss   seg_loss   cls_loss   dfl_loss  Instances       Size\n"
          ]
        },
        {
          "name": "stderr",
          "output_type": "stream",
          "text": [
            "    147/500      14.7G     0.5099      0.783     0.3096     0.9382         19        640: 100%|██████████| 198/198 [00:55<00:00,  3.59it/s]\n",
            "                 Class     Images  Instances      Box(P          R      mAP50  mAP50-95)     Mask(P          R      mAP50  mAP50-95): 100%|██████████| 13/13 [00:03<00:00,  3.31it/s]"
          ]
        },
        {
          "name": "stdout",
          "output_type": "stream",
          "text": [
            "                   all        405        424      0.936      0.894      0.939      0.725      0.936      0.896      0.938      0.723\n"
          ]
        },
        {
          "name": "stderr",
          "output_type": "stream",
          "text": [
            "\n"
          ]
        },
        {
          "name": "stdout",
          "output_type": "stream",
          "text": [
            "\n",
            "      Epoch    GPU_mem   box_loss   seg_loss   cls_loss   dfl_loss  Instances       Size\n"
          ]
        },
        {
          "name": "stderr",
          "output_type": "stream",
          "text": [
            "    148/500      14.7G     0.5039      0.767     0.3082     0.9357         19        640: 100%|██████████| 198/198 [00:55<00:00,  3.58it/s]\n",
            "                 Class     Images  Instances      Box(P          R      mAP50  mAP50-95)     Mask(P          R      mAP50  mAP50-95): 100%|██████████| 13/13 [00:03<00:00,  3.31it/s]\n"
          ]
        },
        {
          "name": "stdout",
          "output_type": "stream",
          "text": [
            "                   all        405        424      0.938      0.887      0.931      0.721      0.938      0.888       0.93      0.719\n",
            "\n",
            "      Epoch    GPU_mem   box_loss   seg_loss   cls_loss   dfl_loss  Instances       Size\n"
          ]
        },
        {
          "name": "stderr",
          "output_type": "stream",
          "text": [
            "    149/500      14.6G     0.5043     0.7681     0.3109     0.9353         15        640: 100%|██████████| 198/198 [00:55<00:00,  3.57it/s]\n",
            "                 Class     Images  Instances      Box(P          R      mAP50  mAP50-95)     Mask(P          R      mAP50  mAP50-95): 100%|██████████| 13/13 [00:03<00:00,  3.29it/s]"
          ]
        },
        {
          "name": "stdout",
          "output_type": "stream",
          "text": [
            "                   all        405        424      0.925      0.901      0.937       0.73      0.924      0.894      0.938      0.728\n"
          ]
        },
        {
          "name": "stderr",
          "output_type": "stream",
          "text": [
            "\n"
          ]
        },
        {
          "name": "stdout",
          "output_type": "stream",
          "text": [
            "\n",
            "      Epoch    GPU_mem   box_loss   seg_loss   cls_loss   dfl_loss  Instances       Size\n"
          ]
        },
        {
          "name": "stderr",
          "output_type": "stream",
          "text": [
            "    150/500      14.6G     0.4977     0.7641     0.3113     0.9258         15        640: 100%|██████████| 198/198 [00:55<00:00,  3.57it/s]\n",
            "                 Class     Images  Instances      Box(P          R      mAP50  mAP50-95)     Mask(P          R      mAP50  mAP50-95): 100%|██████████| 13/13 [00:03<00:00,  3.30it/s]"
          ]
        },
        {
          "name": "stdout",
          "output_type": "stream",
          "text": [
            "                   all        405        424      0.939      0.901       0.94      0.728      0.939      0.901       0.94      0.724\n"
          ]
        },
        {
          "name": "stderr",
          "output_type": "stream",
          "text": [
            "\n"
          ]
        },
        {
          "name": "stdout",
          "output_type": "stream",
          "text": [
            "\n",
            "      Epoch    GPU_mem   box_loss   seg_loss   cls_loss   dfl_loss  Instances       Size\n"
          ]
        },
        {
          "name": "stderr",
          "output_type": "stream",
          "text": [
            "    151/500      14.6G     0.5098     0.7791     0.3144     0.9366         17        640: 100%|██████████| 198/198 [00:55<00:00,  3.58it/s]\n",
            "                 Class     Images  Instances      Box(P          R      mAP50  mAP50-95)     Mask(P          R      mAP50  mAP50-95): 100%|██████████| 13/13 [00:03<00:00,  3.31it/s]"
          ]
        },
        {
          "name": "stdout",
          "output_type": "stream",
          "text": [
            "                   all        405        424      0.946      0.903       0.94      0.731      0.948      0.906       0.94      0.723\n"
          ]
        },
        {
          "name": "stderr",
          "output_type": "stream",
          "text": [
            "\n"
          ]
        },
        {
          "name": "stdout",
          "output_type": "stream",
          "text": [
            "\n",
            "      Epoch    GPU_mem   box_loss   seg_loss   cls_loss   dfl_loss  Instances       Size\n"
          ]
        },
        {
          "name": "stderr",
          "output_type": "stream",
          "text": [
            "    152/500      14.6G     0.5096     0.7795     0.3138     0.9388         17        640: 100%|██████████| 198/198 [00:55<00:00,  3.58it/s]\n",
            "                 Class     Images  Instances      Box(P          R      mAP50  mAP50-95)     Mask(P          R      mAP50  mAP50-95): 100%|██████████| 13/13 [00:04<00:00,  3.24it/s]"
          ]
        },
        {
          "name": "stdout",
          "output_type": "stream",
          "text": [
            "                   all        405        424      0.932       0.92      0.944      0.736      0.937      0.914      0.942      0.725\n"
          ]
        },
        {
          "name": "stderr",
          "output_type": "stream",
          "text": [
            "\n"
          ]
        },
        {
          "name": "stdout",
          "output_type": "stream",
          "text": [
            "\n",
            "      Epoch    GPU_mem   box_loss   seg_loss   cls_loss   dfl_loss  Instances       Size\n"
          ]
        },
        {
          "name": "stderr",
          "output_type": "stream",
          "text": [
            "    153/500      14.7G     0.4822     0.7526     0.2948     0.9213         18        640: 100%|██████████| 198/198 [00:55<00:00,  3.59it/s]\n",
            "                 Class     Images  Instances      Box(P          R      mAP50  mAP50-95)     Mask(P          R      mAP50  mAP50-95): 100%|██████████| 13/13 [00:03<00:00,  3.29it/s]\n"
          ]
        },
        {
          "name": "stdout",
          "output_type": "stream",
          "text": [
            "                   all        405        424      0.937      0.906      0.942      0.739       0.94      0.908      0.942      0.729\n",
            "\n",
            "      Epoch    GPU_mem   box_loss   seg_loss   cls_loss   dfl_loss  Instances       Size\n"
          ]
        },
        {
          "name": "stderr",
          "output_type": "stream",
          "text": [
            "    154/500      14.6G     0.4913     0.7634     0.3047     0.9259         11        640: 100%|██████████| 198/198 [00:55<00:00,  3.57it/s]\n",
            "                 Class     Images  Instances      Box(P          R      mAP50  mAP50-95)     Mask(P          R      mAP50  mAP50-95): 100%|██████████| 13/13 [00:03<00:00,  3.32it/s]"
          ]
        },
        {
          "name": "stdout",
          "output_type": "stream",
          "text": [
            "                   all        405        424      0.939      0.908      0.941      0.733      0.939      0.908      0.938      0.728\n"
          ]
        },
        {
          "name": "stderr",
          "output_type": "stream",
          "text": [
            "\n"
          ]
        },
        {
          "name": "stdout",
          "output_type": "stream",
          "text": [
            "\n",
            "      Epoch    GPU_mem   box_loss   seg_loss   cls_loss   dfl_loss  Instances       Size\n"
          ]
        },
        {
          "name": "stderr",
          "output_type": "stream",
          "text": [
            "    155/500      14.8G     0.4993     0.7666     0.3075     0.9305         14        640: 100%|██████████| 198/198 [00:55<00:00,  3.58it/s]\n",
            "                 Class     Images  Instances      Box(P          R      mAP50  mAP50-95)     Mask(P          R      mAP50  mAP50-95): 100%|██████████| 13/13 [00:03<00:00,  3.33it/s]"
          ]
        },
        {
          "name": "stdout",
          "output_type": "stream",
          "text": [
            "                   all        405        424      0.923      0.908      0.933      0.728      0.929      0.906      0.929      0.723\n"
          ]
        },
        {
          "name": "stderr",
          "output_type": "stream",
          "text": [
            "\n"
          ]
        },
        {
          "name": "stdout",
          "output_type": "stream",
          "text": [
            "\n",
            "      Epoch    GPU_mem   box_loss   seg_loss   cls_loss   dfl_loss  Instances       Size\n"
          ]
        },
        {
          "name": "stderr",
          "output_type": "stream",
          "text": [
            "    156/500      14.8G     0.4982     0.7549     0.3084     0.9339          9        640: 100%|██████████| 198/198 [00:55<00:00,  3.57it/s]\n",
            "                 Class     Images  Instances      Box(P          R      mAP50  mAP50-95)     Mask(P          R      mAP50  mAP50-95): 100%|██████████| 13/13 [00:03<00:00,  3.29it/s]"
          ]
        },
        {
          "name": "stdout",
          "output_type": "stream",
          "text": [
            "                   all        405        424      0.934      0.896      0.937      0.734      0.929      0.892      0.929      0.727\n"
          ]
        },
        {
          "name": "stderr",
          "output_type": "stream",
          "text": [
            "\n"
          ]
        },
        {
          "name": "stdout",
          "output_type": "stream",
          "text": [
            "\n",
            "      Epoch    GPU_mem   box_loss   seg_loss   cls_loss   dfl_loss  Instances       Size\n"
          ]
        },
        {
          "name": "stderr",
          "output_type": "stream",
          "text": [
            "    157/500      14.7G     0.4855     0.7621     0.3006     0.9223         11        640: 100%|██████████| 198/198 [00:55<00:00,  3.57it/s]\n",
            "                 Class     Images  Instances      Box(P          R      mAP50  mAP50-95)     Mask(P          R      mAP50  mAP50-95): 100%|██████████| 13/13 [00:03<00:00,  3.29it/s]"
          ]
        },
        {
          "name": "stdout",
          "output_type": "stream",
          "text": [
            "                   all        405        424      0.928      0.903      0.934      0.731      0.927      0.905       0.93      0.722\n"
          ]
        },
        {
          "name": "stderr",
          "output_type": "stream",
          "text": [
            "\n"
          ]
        },
        {
          "name": "stdout",
          "output_type": "stream",
          "text": [
            "\n",
            "      Epoch    GPU_mem   box_loss   seg_loss   cls_loss   dfl_loss  Instances       Size\n"
          ]
        },
        {
          "name": "stderr",
          "output_type": "stream",
          "text": [
            "    158/500      14.7G     0.4866     0.7395     0.2976     0.9251         10        640: 100%|██████████| 198/198 [00:55<00:00,  3.58it/s]\n",
            "                 Class     Images  Instances      Box(P          R      mAP50  mAP50-95)     Mask(P          R      mAP50  mAP50-95): 100%|██████████| 13/13 [00:03<00:00,  3.33it/s]"
          ]
        },
        {
          "name": "stdout",
          "output_type": "stream",
          "text": [
            "                   all        405        424      0.949      0.887      0.939      0.728      0.949      0.887      0.937      0.722\n"
          ]
        },
        {
          "name": "stderr",
          "output_type": "stream",
          "text": [
            "\n"
          ]
        },
        {
          "name": "stdout",
          "output_type": "stream",
          "text": [
            "\n",
            "      Epoch    GPU_mem   box_loss   seg_loss   cls_loss   dfl_loss  Instances       Size\n"
          ]
        },
        {
          "name": "stderr",
          "output_type": "stream",
          "text": [
            "    159/500      14.6G     0.4922     0.7498     0.3018      0.925         11        640: 100%|██████████| 198/198 [00:55<00:00,  3.58it/s]\n",
            "                 Class     Images  Instances      Box(P          R      mAP50  mAP50-95)     Mask(P          R      mAP50  mAP50-95): 100%|██████████| 13/13 [00:03<00:00,  3.31it/s]\n"
          ]
        },
        {
          "name": "stdout",
          "output_type": "stream",
          "text": [
            "                   all        405        424      0.929        0.9      0.937       0.74      0.942      0.892      0.937       0.73\n",
            "\n",
            "      Epoch    GPU_mem   box_loss   seg_loss   cls_loss   dfl_loss  Instances       Size\n"
          ]
        },
        {
          "name": "stderr",
          "output_type": "stream",
          "text": [
            "    160/500      14.8G     0.4802      0.746     0.2942     0.9162         17        640: 100%|██████████| 198/198 [00:55<00:00,  3.57it/s]\n",
            "                 Class     Images  Instances      Box(P          R      mAP50  mAP50-95)     Mask(P          R      mAP50  mAP50-95): 100%|██████████| 13/13 [00:03<00:00,  3.26it/s]"
          ]
        },
        {
          "name": "stdout",
          "output_type": "stream",
          "text": [
            "                   all        405        424      0.946      0.889      0.946      0.747      0.927      0.899      0.941      0.735\n"
          ]
        },
        {
          "name": "stderr",
          "output_type": "stream",
          "text": [
            "\n"
          ]
        },
        {
          "name": "stdout",
          "output_type": "stream",
          "text": [
            "\n",
            "      Epoch    GPU_mem   box_loss   seg_loss   cls_loss   dfl_loss  Instances       Size\n"
          ]
        },
        {
          "name": "stderr",
          "output_type": "stream",
          "text": [
            "    161/500      14.6G     0.4888     0.7623     0.2985     0.9254         18        640: 100%|██████████| 198/198 [00:55<00:00,  3.57it/s]\n",
            "                 Class     Images  Instances      Box(P          R      mAP50  mAP50-95)     Mask(P          R      mAP50  mAP50-95): 100%|██████████| 13/13 [00:03<00:00,  3.26it/s]\n"
          ]
        },
        {
          "name": "stdout",
          "output_type": "stream",
          "text": [
            "                   all        405        424      0.913       0.92      0.944      0.731      0.929      0.899      0.938      0.722\n",
            "\n",
            "      Epoch    GPU_mem   box_loss   seg_loss   cls_loss   dfl_loss  Instances       Size\n"
          ]
        },
        {
          "name": "stderr",
          "output_type": "stream",
          "text": [
            "    162/500      14.8G     0.4844     0.7418     0.3001     0.9286         16        640: 100%|██████████| 198/198 [00:55<00:00,  3.57it/s]\n",
            "                 Class     Images  Instances      Box(P          R      mAP50  mAP50-95)     Mask(P          R      mAP50  mAP50-95): 100%|██████████| 13/13 [00:03<00:00,  3.27it/s]"
          ]
        },
        {
          "name": "stdout",
          "output_type": "stream",
          "text": [
            "                   all        405        424      0.932      0.896      0.942      0.737      0.935      0.899       0.94      0.729\n"
          ]
        },
        {
          "name": "stderr",
          "output_type": "stream",
          "text": [
            "\n"
          ]
        },
        {
          "name": "stdout",
          "output_type": "stream",
          "text": [
            "\n",
            "      Epoch    GPU_mem   box_loss   seg_loss   cls_loss   dfl_loss  Instances       Size\n"
          ]
        },
        {
          "name": "stderr",
          "output_type": "stream",
          "text": [
            "    163/500      14.6G     0.4818     0.7213     0.2965     0.9242         15        640: 100%|██████████| 198/198 [00:55<00:00,  3.57it/s]\n",
            "                 Class     Images  Instances      Box(P          R      mAP50  mAP50-95)     Mask(P          R      mAP50  mAP50-95): 100%|██████████| 13/13 [00:03<00:00,  3.29it/s]\n"
          ]
        },
        {
          "name": "stdout",
          "output_type": "stream",
          "text": [
            "                   all        405        424      0.931      0.917      0.942      0.736      0.926      0.915      0.938      0.725\n",
            "\n",
            "      Epoch    GPU_mem   box_loss   seg_loss   cls_loss   dfl_loss  Instances       Size\n"
          ]
        },
        {
          "name": "stderr",
          "output_type": "stream",
          "text": [
            "    164/500      14.6G      0.483     0.7432     0.3016      0.922         12        640: 100%|██████████| 198/198 [00:55<00:00,  3.57it/s]\n",
            "                 Class     Images  Instances      Box(P          R      mAP50  mAP50-95)     Mask(P          R      mAP50  mAP50-95): 100%|██████████| 13/13 [00:03<00:00,  3.28it/s]"
          ]
        },
        {
          "name": "stdout",
          "output_type": "stream",
          "text": [
            "                   all        405        424       0.94      0.893      0.938      0.734       0.94      0.893      0.939      0.729\n"
          ]
        },
        {
          "name": "stderr",
          "output_type": "stream",
          "text": [
            "\n"
          ]
        },
        {
          "name": "stdout",
          "output_type": "stream",
          "text": [
            "\n",
            "      Epoch    GPU_mem   box_loss   seg_loss   cls_loss   dfl_loss  Instances       Size\n"
          ]
        },
        {
          "name": "stderr",
          "output_type": "stream",
          "text": [
            "    165/500      14.6G      0.478     0.7304     0.2943     0.9283         17        640: 100%|██████████| 198/198 [00:55<00:00,  3.59it/s]\n",
            "                 Class     Images  Instances      Box(P          R      mAP50  mAP50-95)     Mask(P          R      mAP50  mAP50-95): 100%|██████████| 13/13 [00:03<00:00,  3.29it/s]"
          ]
        },
        {
          "name": "stdout",
          "output_type": "stream",
          "text": [
            "                   all        405        424      0.927      0.903      0.941      0.734      0.925      0.904      0.939      0.732\n"
          ]
        },
        {
          "name": "stderr",
          "output_type": "stream",
          "text": [
            "\n"
          ]
        },
        {
          "name": "stdout",
          "output_type": "stream",
          "text": [
            "\n",
            "      Epoch    GPU_mem   box_loss   seg_loss   cls_loss   dfl_loss  Instances       Size\n"
          ]
        },
        {
          "name": "stderr",
          "output_type": "stream",
          "text": [
            "    166/500      14.6G     0.4865     0.7513     0.2987     0.9269         14        640: 100%|██████████| 198/198 [00:55<00:00,  3.57it/s]\n",
            "                 Class     Images  Instances      Box(P          R      mAP50  mAP50-95)     Mask(P          R      mAP50  mAP50-95): 100%|██████████| 13/13 [00:04<00:00,  3.25it/s]"
          ]
        },
        {
          "name": "stdout",
          "output_type": "stream",
          "text": [
            "                   all        405        424      0.933      0.887      0.937       0.74      0.933      0.887      0.939      0.734\n"
          ]
        },
        {
          "name": "stderr",
          "output_type": "stream",
          "text": [
            "\n"
          ]
        },
        {
          "name": "stdout",
          "output_type": "stream",
          "text": [
            "\n",
            "      Epoch    GPU_mem   box_loss   seg_loss   cls_loss   dfl_loss  Instances       Size\n"
          ]
        },
        {
          "name": "stderr",
          "output_type": "stream",
          "text": [
            "    167/500      14.6G     0.4777     0.7256     0.2889     0.9212         17        640: 100%|██████████| 198/198 [00:55<00:00,  3.58it/s]\n",
            "                 Class     Images  Instances      Box(P          R      mAP50  mAP50-95)     Mask(P          R      mAP50  mAP50-95): 100%|██████████| 13/13 [00:03<00:00,  3.34it/s]"
          ]
        },
        {
          "name": "stdout",
          "output_type": "stream",
          "text": [
            "                   all        405        424      0.926      0.906      0.942      0.742      0.923      0.905       0.94      0.734\n"
          ]
        },
        {
          "name": "stderr",
          "output_type": "stream",
          "text": [
            "\n"
          ]
        },
        {
          "name": "stdout",
          "output_type": "stream",
          "text": [
            "\n",
            "      Epoch    GPU_mem   box_loss   seg_loss   cls_loss   dfl_loss  Instances       Size\n"
          ]
        },
        {
          "name": "stderr",
          "output_type": "stream",
          "text": [
            "    168/500      14.6G     0.4746     0.7353      0.292     0.9192         13        640: 100%|██████████| 198/198 [00:55<00:00,  3.57it/s]\n",
            "                 Class     Images  Instances      Box(P          R      mAP50  mAP50-95)     Mask(P          R      mAP50  mAP50-95): 100%|██████████| 13/13 [00:04<00:00,  3.25it/s]\n"
          ]
        },
        {
          "name": "stdout",
          "output_type": "stream",
          "text": [
            "                   all        405        424      0.943      0.884      0.939      0.735      0.926      0.889      0.936      0.728\n",
            "\n",
            "      Epoch    GPU_mem   box_loss   seg_loss   cls_loss   dfl_loss  Instances       Size\n"
          ]
        },
        {
          "name": "stderr",
          "output_type": "stream",
          "text": [
            "    169/500      14.6G     0.4753     0.7327      0.299      0.923         14        640: 100%|██████████| 198/198 [00:55<00:00,  3.58it/s]\n",
            "                 Class     Images  Instances      Box(P          R      mAP50  mAP50-95)     Mask(P          R      mAP50  mAP50-95): 100%|██████████| 13/13 [00:03<00:00,  3.26it/s]\n"
          ]
        },
        {
          "name": "stdout",
          "output_type": "stream",
          "text": [
            "                   all        405        424      0.937      0.889      0.938      0.736      0.932      0.884      0.933      0.727\n",
            "\n",
            "      Epoch    GPU_mem   box_loss   seg_loss   cls_loss   dfl_loss  Instances       Size\n"
          ]
        },
        {
          "name": "stderr",
          "output_type": "stream",
          "text": [
            "    170/500      14.7G     0.4727     0.7341     0.2882     0.9168         20        640: 100%|██████████| 198/198 [00:55<00:00,  3.58it/s]\n",
            "                 Class     Images  Instances      Box(P          R      mAP50  mAP50-95)     Mask(P          R      mAP50  mAP50-95): 100%|██████████| 13/13 [00:03<00:00,  3.29it/s]\n"
          ]
        },
        {
          "name": "stdout",
          "output_type": "stream",
          "text": [
            "                   all        405        424      0.938      0.889      0.936      0.731      0.933      0.885       0.93      0.724\n",
            "\n",
            "      Epoch    GPU_mem   box_loss   seg_loss   cls_loss   dfl_loss  Instances       Size\n"
          ]
        },
        {
          "name": "stderr",
          "output_type": "stream",
          "text": [
            "    171/500      14.6G     0.4766     0.7241     0.2919     0.9264         12        640: 100%|██████████| 198/198 [00:55<00:00,  3.58it/s]\n",
            "                 Class     Images  Instances      Box(P          R      mAP50  mAP50-95)     Mask(P          R      mAP50  mAP50-95): 100%|██████████| 13/13 [00:03<00:00,  3.31it/s]"
          ]
        },
        {
          "name": "stdout",
          "output_type": "stream",
          "text": [
            "                   all        405        424      0.943      0.887      0.935      0.731      0.938      0.882      0.929      0.727\n"
          ]
        },
        {
          "name": "stderr",
          "output_type": "stream",
          "text": [
            "\n"
          ]
        },
        {
          "name": "stdout",
          "output_type": "stream",
          "text": [
            "\n",
            "      Epoch    GPU_mem   box_loss   seg_loss   cls_loss   dfl_loss  Instances       Size\n"
          ]
        },
        {
          "name": "stderr",
          "output_type": "stream",
          "text": [
            "    172/500      14.6G     0.4813     0.7411      0.301     0.9235         12        640: 100%|██████████| 198/198 [00:55<00:00,  3.58it/s]\n",
            "                 Class     Images  Instances      Box(P          R      mAP50  mAP50-95)     Mask(P          R      mAP50  mAP50-95): 100%|██████████| 13/13 [00:03<00:00,  3.32it/s]"
          ]
        },
        {
          "name": "stdout",
          "output_type": "stream",
          "text": [
            "                   all        405        424      0.938      0.896      0.937      0.729      0.937      0.894      0.935      0.723\n"
          ]
        },
        {
          "name": "stderr",
          "output_type": "stream",
          "text": [
            "\n"
          ]
        },
        {
          "name": "stdout",
          "output_type": "stream",
          "text": [
            "\n",
            "      Epoch    GPU_mem   box_loss   seg_loss   cls_loss   dfl_loss  Instances       Size\n"
          ]
        },
        {
          "name": "stderr",
          "output_type": "stream",
          "text": [
            "    173/500      14.6G      0.469     0.7094     0.2871     0.9201          8        640: 100%|██████████| 198/198 [00:55<00:00,  3.58it/s]\n",
            "                 Class     Images  Instances      Box(P          R      mAP50  mAP50-95)     Mask(P          R      mAP50  mAP50-95): 100%|██████████| 13/13 [00:03<00:00,  3.33it/s]"
          ]
        },
        {
          "name": "stdout",
          "output_type": "stream",
          "text": [
            "                   all        405        424      0.946      0.894      0.937       0.73      0.938      0.903      0.936      0.727\n"
          ]
        },
        {
          "name": "stderr",
          "output_type": "stream",
          "text": [
            "\n"
          ]
        },
        {
          "name": "stdout",
          "output_type": "stream",
          "text": [
            "\n",
            "      Epoch    GPU_mem   box_loss   seg_loss   cls_loss   dfl_loss  Instances       Size\n"
          ]
        },
        {
          "name": "stderr",
          "output_type": "stream",
          "text": [
            "    174/500      14.6G     0.4754     0.7287     0.2942     0.9213         14        640: 100%|██████████| 198/198 [00:55<00:00,  3.58it/s]\n",
            "                 Class     Images  Instances      Box(P          R      mAP50  mAP50-95)     Mask(P          R      mAP50  mAP50-95): 100%|██████████| 13/13 [00:03<00:00,  3.32it/s]"
          ]
        },
        {
          "name": "stdout",
          "output_type": "stream",
          "text": [
            "                   all        405        424       0.95      0.893      0.937       0.74      0.935      0.906      0.935      0.734\n"
          ]
        },
        {
          "name": "stderr",
          "output_type": "stream",
          "text": [
            "\n"
          ]
        },
        {
          "name": "stdout",
          "output_type": "stream",
          "text": [
            "\n",
            "      Epoch    GPU_mem   box_loss   seg_loss   cls_loss   dfl_loss  Instances       Size\n"
          ]
        },
        {
          "name": "stderr",
          "output_type": "stream",
          "text": [
            "    175/500      14.6G     0.4757     0.7205     0.2949     0.9205         16        640: 100%|██████████| 198/198 [00:55<00:00,  3.58it/s]\n",
            "                 Class     Images  Instances      Box(P          R      mAP50  mAP50-95)     Mask(P          R      mAP50  mAP50-95): 100%|██████████| 13/13 [00:03<00:00,  3.28it/s]"
          ]
        },
        {
          "name": "stdout",
          "output_type": "stream",
          "text": [
            "                   all        405        424      0.957      0.903      0.943       0.74      0.946      0.905      0.938      0.739\n"
          ]
        },
        {
          "name": "stderr",
          "output_type": "stream",
          "text": [
            "\n"
          ]
        },
        {
          "name": "stdout",
          "output_type": "stream",
          "text": [
            "\n",
            "      Epoch    GPU_mem   box_loss   seg_loss   cls_loss   dfl_loss  Instances       Size\n"
          ]
        },
        {
          "name": "stderr",
          "output_type": "stream",
          "text": [
            "    176/500      14.8G     0.4647     0.6929     0.2905     0.9192         21        640: 100%|██████████| 198/198 [00:55<00:00,  3.57it/s]\n",
            "                 Class     Images  Instances      Box(P          R      mAP50  mAP50-95)     Mask(P          R      mAP50  mAP50-95): 100%|██████████| 13/13 [00:03<00:00,  3.31it/s]"
          ]
        },
        {
          "name": "stdout",
          "output_type": "stream",
          "text": [
            "                   all        405        424      0.946      0.911      0.948      0.741      0.944      0.908      0.944      0.736\n"
          ]
        },
        {
          "name": "stderr",
          "output_type": "stream",
          "text": [
            "\n"
          ]
        },
        {
          "name": "stdout",
          "output_type": "stream",
          "text": [
            "\n",
            "      Epoch    GPU_mem   box_loss   seg_loss   cls_loss   dfl_loss  Instances       Size\n"
          ]
        },
        {
          "name": "stderr",
          "output_type": "stream",
          "text": [
            "    177/500      14.6G     0.4683     0.7302     0.2875     0.9164         13        640: 100%|██████████| 198/198 [00:55<00:00,  3.57it/s]\n",
            "                 Class     Images  Instances      Box(P          R      mAP50  mAP50-95)     Mask(P          R      mAP50  mAP50-95): 100%|██████████| 13/13 [00:04<00:00,  3.20it/s]"
          ]
        },
        {
          "name": "stdout",
          "output_type": "stream",
          "text": [
            "                   all        405        424      0.948      0.903      0.948      0.746      0.948      0.903      0.944      0.741\n"
          ]
        },
        {
          "name": "stderr",
          "output_type": "stream",
          "text": [
            "\n"
          ]
        },
        {
          "name": "stdout",
          "output_type": "stream",
          "text": [
            "\n",
            "      Epoch    GPU_mem   box_loss   seg_loss   cls_loss   dfl_loss  Instances       Size\n"
          ]
        },
        {
          "name": "stderr",
          "output_type": "stream",
          "text": [
            "    178/500      14.8G     0.4615     0.7167     0.2856     0.9134         19        640: 100%|██████████| 198/198 [00:55<00:00,  3.58it/s]\n",
            "                 Class     Images  Instances      Box(P          R      mAP50  mAP50-95)     Mask(P          R      mAP50  mAP50-95): 100%|██████████| 13/13 [00:03<00:00,  3.28it/s]"
          ]
        },
        {
          "name": "stdout",
          "output_type": "stream",
          "text": [
            "                   all        405        424      0.942      0.887      0.942      0.747       0.94      0.894      0.937       0.74\n"
          ]
        },
        {
          "name": "stderr",
          "output_type": "stream",
          "text": [
            "\n"
          ]
        },
        {
          "name": "stdout",
          "output_type": "stream",
          "text": [
            "\n",
            "      Epoch    GPU_mem   box_loss   seg_loss   cls_loss   dfl_loss  Instances       Size\n"
          ]
        },
        {
          "name": "stderr",
          "output_type": "stream",
          "text": [
            "    179/500      14.6G     0.4645     0.7169     0.2878     0.9141         23        640: 100%|██████████| 198/198 [00:55<00:00,  3.57it/s]\n",
            "                 Class     Images  Instances      Box(P          R      mAP50  mAP50-95)     Mask(P          R      mAP50  mAP50-95): 100%|██████████| 13/13 [00:03<00:00,  3.29it/s]\n"
          ]
        },
        {
          "name": "stdout",
          "output_type": "stream",
          "text": [
            "                   all        405        424      0.922      0.886      0.933       0.74      0.922      0.889      0.931      0.729\n",
            "\n",
            "      Epoch    GPU_mem   box_loss   seg_loss   cls_loss   dfl_loss  Instances       Size\n"
          ]
        },
        {
          "name": "stderr",
          "output_type": "stream",
          "text": [
            "    180/500      14.7G     0.4653     0.7238     0.2864     0.9164         12        640: 100%|██████████| 198/198 [00:55<00:00,  3.58it/s]\n",
            "                 Class     Images  Instances      Box(P          R      mAP50  mAP50-95)     Mask(P          R      mAP50  mAP50-95): 100%|██████████| 13/13 [00:03<00:00,  3.29it/s]"
          ]
        },
        {
          "name": "stdout",
          "output_type": "stream",
          "text": [
            "                   all        405        424      0.939      0.892       0.94      0.738      0.926      0.883      0.933      0.733\n"
          ]
        },
        {
          "name": "stderr",
          "output_type": "stream",
          "text": [
            "\n"
          ]
        },
        {
          "name": "stdout",
          "output_type": "stream",
          "text": [
            "\n",
            "      Epoch    GPU_mem   box_loss   seg_loss   cls_loss   dfl_loss  Instances       Size\n"
          ]
        },
        {
          "name": "stderr",
          "output_type": "stream",
          "text": [
            "    181/500      14.7G     0.4606      0.709      0.279     0.9134         19        640: 100%|██████████| 198/198 [00:55<00:00,  3.58it/s]\n",
            "                 Class     Images  Instances      Box(P          R      mAP50  mAP50-95)     Mask(P          R      mAP50  mAP50-95): 100%|██████████| 13/13 [00:03<00:00,  3.30it/s]\n"
          ]
        },
        {
          "name": "stdout",
          "output_type": "stream",
          "text": [
            "                   all        405        424      0.938      0.898      0.938      0.738      0.929      0.889      0.934      0.732\n",
            "\n",
            "      Epoch    GPU_mem   box_loss   seg_loss   cls_loss   dfl_loss  Instances       Size\n"
          ]
        },
        {
          "name": "stderr",
          "output_type": "stream",
          "text": [
            "    182/500      14.6G     0.4643     0.7164     0.2846     0.9231         18        640: 100%|██████████| 198/198 [00:55<00:00,  3.57it/s]\n",
            "                 Class     Images  Instances      Box(P          R      mAP50  mAP50-95)     Mask(P          R      mAP50  mAP50-95): 100%|██████████| 13/13 [00:03<00:00,  3.31it/s]\n"
          ]
        },
        {
          "name": "stdout",
          "output_type": "stream",
          "text": [
            "                   all        405        424      0.939      0.896       0.94      0.731      0.932      0.889      0.933      0.726\n",
            "\n",
            "      Epoch    GPU_mem   box_loss   seg_loss   cls_loss   dfl_loss  Instances       Size\n"
          ]
        },
        {
          "name": "stderr",
          "output_type": "stream",
          "text": [
            "    183/500      14.6G     0.4603     0.7095     0.2814     0.9164         14        640: 100%|██████████| 198/198 [00:55<00:00,  3.57it/s]\n",
            "                 Class     Images  Instances      Box(P          R      mAP50  mAP50-95)     Mask(P          R      mAP50  mAP50-95): 100%|██████████| 13/13 [00:04<00:00,  3.23it/s]"
          ]
        },
        {
          "name": "stdout",
          "output_type": "stream",
          "text": [
            "                   all        405        424       0.95      0.889      0.942      0.731      0.934      0.875      0.931      0.729\n"
          ]
        },
        {
          "name": "stderr",
          "output_type": "stream",
          "text": [
            "\n"
          ]
        },
        {
          "name": "stdout",
          "output_type": "stream",
          "text": [
            "\n",
            "      Epoch    GPU_mem   box_loss   seg_loss   cls_loss   dfl_loss  Instances       Size\n"
          ]
        },
        {
          "name": "stderr",
          "output_type": "stream",
          "text": [
            "    184/500      14.6G     0.4632     0.7248     0.2902     0.9118         13        640: 100%|██████████| 198/198 [00:55<00:00,  3.56it/s]\n",
            "                 Class     Images  Instances      Box(P          R      mAP50  mAP50-95)     Mask(P          R      mAP50  mAP50-95): 100%|██████████| 13/13 [00:03<00:00,  3.30it/s]"
          ]
        },
        {
          "name": "stdout",
          "output_type": "stream",
          "text": [
            "                   all        405        424      0.945      0.884      0.941      0.736      0.934      0.875      0.932      0.731\n"
          ]
        },
        {
          "name": "stderr",
          "output_type": "stream",
          "text": [
            "\n"
          ]
        },
        {
          "name": "stdout",
          "output_type": "stream",
          "text": [
            "\n",
            "      Epoch    GPU_mem   box_loss   seg_loss   cls_loss   dfl_loss  Instances       Size\n"
          ]
        },
        {
          "name": "stderr",
          "output_type": "stream",
          "text": [
            "    185/500      14.8G     0.4584     0.7069       0.28     0.9139         21        640: 100%|██████████| 198/198 [00:55<00:00,  3.58it/s]\n",
            "                 Class     Images  Instances      Box(P          R      mAP50  mAP50-95)     Mask(P          R      mAP50  mAP50-95): 100%|██████████| 13/13 [00:03<00:00,  3.28it/s]"
          ]
        },
        {
          "name": "stdout",
          "output_type": "stream",
          "text": [
            "                   all        405        424      0.945      0.889      0.942      0.739      0.928      0.882      0.933      0.732\n"
          ]
        },
        {
          "name": "stderr",
          "output_type": "stream",
          "text": [
            "\n"
          ]
        },
        {
          "name": "stdout",
          "output_type": "stream",
          "text": [
            "\n",
            "      Epoch    GPU_mem   box_loss   seg_loss   cls_loss   dfl_loss  Instances       Size\n"
          ]
        },
        {
          "name": "stderr",
          "output_type": "stream",
          "text": [
            "    186/500      14.7G     0.4613     0.7205     0.2871     0.9141         14        640: 100%|██████████| 198/198 [00:55<00:00,  3.58it/s]\n",
            "                 Class     Images  Instances      Box(P          R      mAP50  mAP50-95)     Mask(P          R      mAP50  mAP50-95): 100%|██████████| 13/13 [00:03<00:00,  3.33it/s]"
          ]
        },
        {
          "name": "stdout",
          "output_type": "stream",
          "text": [
            "                   all        405        424      0.945      0.889      0.941      0.742      0.935       0.88      0.935      0.737\n"
          ]
        },
        {
          "name": "stderr",
          "output_type": "stream",
          "text": [
            "\n"
          ]
        },
        {
          "name": "stdout",
          "output_type": "stream",
          "text": [
            "\n",
            "      Epoch    GPU_mem   box_loss   seg_loss   cls_loss   dfl_loss  Instances       Size\n"
          ]
        },
        {
          "name": "stderr",
          "output_type": "stream",
          "text": [
            "    187/500      14.7G     0.4537      0.701     0.2838     0.9123         12        640: 100%|██████████| 198/198 [00:55<00:00,  3.58it/s]\n",
            "                 Class     Images  Instances      Box(P          R      mAP50  mAP50-95)     Mask(P          R      mAP50  mAP50-95): 100%|██████████| 13/13 [00:03<00:00,  3.29it/s]"
          ]
        },
        {
          "name": "stdout",
          "output_type": "stream",
          "text": [
            "                   all        405        424       0.95      0.896      0.945      0.742      0.933      0.881      0.935      0.734\n"
          ]
        },
        {
          "name": "stderr",
          "output_type": "stream",
          "text": [
            "\n"
          ]
        },
        {
          "name": "stdout",
          "output_type": "stream",
          "text": [
            "\n",
            "      Epoch    GPU_mem   box_loss   seg_loss   cls_loss   dfl_loss  Instances       Size\n"
          ]
        },
        {
          "name": "stderr",
          "output_type": "stream",
          "text": [
            "    188/500      14.6G     0.4535     0.7131     0.2796     0.9152         13        640: 100%|██████████| 198/198 [00:55<00:00,  3.57it/s]\n",
            "                 Class     Images  Instances      Box(P          R      mAP50  mAP50-95)     Mask(P          R      mAP50  mAP50-95): 100%|██████████| 13/13 [00:03<00:00,  3.32it/s]"
          ]
        },
        {
          "name": "stdout",
          "output_type": "stream",
          "text": [
            "                   all        405        424      0.952      0.893      0.946      0.742      0.945      0.886      0.941      0.734\n"
          ]
        },
        {
          "name": "stderr",
          "output_type": "stream",
          "text": [
            "\n"
          ]
        },
        {
          "name": "stdout",
          "output_type": "stream",
          "text": [
            "\n",
            "      Epoch    GPU_mem   box_loss   seg_loss   cls_loss   dfl_loss  Instances       Size\n"
          ]
        },
        {
          "name": "stderr",
          "output_type": "stream",
          "text": [
            "    189/500      14.8G     0.4608     0.6995     0.2834     0.9173         17        640: 100%|██████████| 198/198 [00:55<00:00,  3.58it/s]\n",
            "                 Class     Images  Instances      Box(P          R      mAP50  mAP50-95)     Mask(P          R      mAP50  mAP50-95): 100%|██████████| 13/13 [00:03<00:00,  3.27it/s]"
          ]
        },
        {
          "name": "stdout",
          "output_type": "stream",
          "text": [
            "                   all        405        424      0.932      0.892      0.943      0.747      0.912      0.894      0.936      0.742\n"
          ]
        },
        {
          "name": "stderr",
          "output_type": "stream",
          "text": [
            "\n"
          ]
        },
        {
          "name": "stdout",
          "output_type": "stream",
          "text": [
            "\n",
            "      Epoch    GPU_mem   box_loss   seg_loss   cls_loss   dfl_loss  Instances       Size\n"
          ]
        },
        {
          "name": "stderr",
          "output_type": "stream",
          "text": [
            "    190/500      14.6G     0.4502     0.6971     0.2831     0.9055         10        640: 100%|██████████| 198/198 [00:55<00:00,  3.56it/s]\n",
            "                 Class     Images  Instances      Box(P          R      mAP50  mAP50-95)     Mask(P          R      mAP50  mAP50-95): 100%|██████████| 13/13 [00:04<00:00,  3.21it/s]"
          ]
        },
        {
          "name": "stdout",
          "output_type": "stream",
          "text": [
            "                   all        405        424      0.929      0.901      0.942      0.746      0.917      0.891      0.934      0.736\n"
          ]
        },
        {
          "name": "stderr",
          "output_type": "stream",
          "text": [
            "\n"
          ]
        },
        {
          "name": "stdout",
          "output_type": "stream",
          "text": [
            "\n",
            "      Epoch    GPU_mem   box_loss   seg_loss   cls_loss   dfl_loss  Instances       Size\n"
          ]
        },
        {
          "name": "stderr",
          "output_type": "stream",
          "text": [
            "    191/500      14.6G     0.4466     0.6822     0.2803     0.9065         26        640: 100%|██████████| 198/198 [00:55<00:00,  3.59it/s]\n",
            "                 Class     Images  Instances      Box(P          R      mAP50  mAP50-95)     Mask(P          R      mAP50  mAP50-95): 100%|██████████| 13/13 [00:03<00:00,  3.29it/s]"
          ]
        },
        {
          "name": "stdout",
          "output_type": "stream",
          "text": [
            "                   all        405        424      0.947      0.885      0.944       0.74      0.934      0.873      0.933      0.736\n"
          ]
        },
        {
          "name": "stderr",
          "output_type": "stream",
          "text": [
            "\n"
          ]
        },
        {
          "name": "stdout",
          "output_type": "stream",
          "text": [
            "\n",
            "      Epoch    GPU_mem   box_loss   seg_loss   cls_loss   dfl_loss  Instances       Size\n"
          ]
        },
        {
          "name": "stderr",
          "output_type": "stream",
          "text": [
            "    192/500      14.6G     0.4423     0.6893     0.2757     0.9056         11        640: 100%|██████████| 198/198 [00:55<00:00,  3.57it/s]\n",
            "                 Class     Images  Instances      Box(P          R      mAP50  mAP50-95)     Mask(P          R      mAP50  mAP50-95): 100%|██████████| 13/13 [00:03<00:00,  3.28it/s]\n"
          ]
        },
        {
          "name": "stdout",
          "output_type": "stream",
          "text": [
            "                   all        405        424      0.947       0.89      0.947       0.74      0.939      0.877      0.936      0.734\n",
            "\n",
            "      Epoch    GPU_mem   box_loss   seg_loss   cls_loss   dfl_loss  Instances       Size\n"
          ]
        },
        {
          "name": "stderr",
          "output_type": "stream",
          "text": [
            "    193/500      14.7G     0.4531     0.7064     0.2841     0.9122         17        640: 100%|██████████| 198/198 [00:55<00:00,  3.58it/s]\n",
            "                 Class     Images  Instances      Box(P          R      mAP50  mAP50-95)     Mask(P          R      mAP50  mAP50-95): 100%|██████████| 13/13 [00:03<00:00,  3.26it/s]"
          ]
        },
        {
          "name": "stdout",
          "output_type": "stream",
          "text": [
            "                   all        405        424      0.939       0.92      0.948      0.747      0.922      0.903      0.937      0.742\n"
          ]
        },
        {
          "name": "stderr",
          "output_type": "stream",
          "text": [
            "\n"
          ]
        },
        {
          "name": "stdout",
          "output_type": "stream",
          "text": [
            "\n",
            "      Epoch    GPU_mem   box_loss   seg_loss   cls_loss   dfl_loss  Instances       Size\n"
          ]
        },
        {
          "name": "stderr",
          "output_type": "stream",
          "text": [
            "    194/500      14.7G     0.4459     0.6853     0.2716     0.9083         11        640: 100%|██████████| 198/198 [00:55<00:00,  3.57it/s]\n",
            "                 Class     Images  Instances      Box(P          R      mAP50  mAP50-95)     Mask(P          R      mAP50  mAP50-95): 100%|██████████| 13/13 [00:03<00:00,  3.27it/s]"
          ]
        },
        {
          "name": "stdout",
          "output_type": "stream",
          "text": [
            "                   all        405        424      0.951      0.917      0.948      0.747      0.944       0.91      0.943      0.741\n"
          ]
        },
        {
          "name": "stderr",
          "output_type": "stream",
          "text": [
            "\n"
          ]
        },
        {
          "name": "stdout",
          "output_type": "stream",
          "text": [
            "\n",
            "      Epoch    GPU_mem   box_loss   seg_loss   cls_loss   dfl_loss  Instances       Size\n"
          ]
        },
        {
          "name": "stderr",
          "output_type": "stream",
          "text": [
            "    195/500      14.6G     0.4491     0.7012     0.2759     0.9071         14        640: 100%|██████████| 198/198 [00:55<00:00,  3.56it/s]\n",
            "                 Class     Images  Instances      Box(P          R      mAP50  mAP50-95)     Mask(P          R      mAP50  mAP50-95): 100%|██████████| 13/13 [00:03<00:00,  3.29it/s]"
          ]
        },
        {
          "name": "stdout",
          "output_type": "stream",
          "text": [
            "                   all        405        424      0.937       0.91       0.94      0.745       0.93      0.903      0.932      0.736\n"
          ]
        },
        {
          "name": "stderr",
          "output_type": "stream",
          "text": [
            "\n"
          ]
        },
        {
          "name": "stdout",
          "output_type": "stream",
          "text": [
            "\n",
            "      Epoch    GPU_mem   box_loss   seg_loss   cls_loss   dfl_loss  Instances       Size\n"
          ]
        },
        {
          "name": "stderr",
          "output_type": "stream",
          "text": [
            "    196/500      14.6G     0.4464     0.6932     0.2724     0.9088         14        640: 100%|██████████| 198/198 [00:55<00:00,  3.58it/s]\n",
            "                 Class     Images  Instances      Box(P          R      mAP50  mAP50-95)     Mask(P          R      mAP50  mAP50-95): 100%|██████████| 13/13 [00:03<00:00,  3.28it/s]\n"
          ]
        },
        {
          "name": "stdout",
          "output_type": "stream",
          "text": [
            "                   all        405        424      0.946      0.912      0.946      0.748      0.936      0.902      0.936       0.74\n",
            "\n",
            "      Epoch    GPU_mem   box_loss   seg_loss   cls_loss   dfl_loss  Instances       Size\n"
          ]
        },
        {
          "name": "stderr",
          "output_type": "stream",
          "text": [
            "    197/500      14.6G     0.4442     0.6965     0.2743     0.9061         19        640: 100%|██████████| 198/198 [00:55<00:00,  3.56it/s]\n",
            "                 Class     Images  Instances      Box(P          R      mAP50  mAP50-95)     Mask(P          R      mAP50  mAP50-95): 100%|██████████| 13/13 [00:03<00:00,  3.29it/s]"
          ]
        },
        {
          "name": "stdout",
          "output_type": "stream",
          "text": [
            "                   all        405        424      0.944      0.915      0.943      0.748      0.929        0.9      0.932      0.742\n"
          ]
        },
        {
          "name": "stderr",
          "output_type": "stream",
          "text": [
            "\n"
          ]
        },
        {
          "name": "stdout",
          "output_type": "stream",
          "text": [
            "\n",
            "      Epoch    GPU_mem   box_loss   seg_loss   cls_loss   dfl_loss  Instances       Size\n"
          ]
        },
        {
          "name": "stderr",
          "output_type": "stream",
          "text": [
            "    198/500      14.6G     0.4456      0.686     0.2717     0.9114         16        640: 100%|██████████| 198/198 [00:55<00:00,  3.58it/s]\n",
            "                 Class     Images  Instances      Box(P          R      mAP50  mAP50-95)     Mask(P          R      mAP50  mAP50-95): 100%|██████████| 13/13 [00:03<00:00,  3.28it/s]\n"
          ]
        },
        {
          "name": "stdout",
          "output_type": "stream",
          "text": [
            "                   all        405        424      0.939      0.915      0.941      0.741      0.927      0.903      0.928      0.736\n",
            "\n",
            "      Epoch    GPU_mem   box_loss   seg_loss   cls_loss   dfl_loss  Instances       Size\n"
          ]
        },
        {
          "name": "stderr",
          "output_type": "stream",
          "text": [
            "    199/500      14.7G     0.4328     0.6711     0.2629     0.9016         13        640: 100%|██████████| 198/198 [00:55<00:00,  3.58it/s]\n",
            "                 Class     Images  Instances      Box(P          R      mAP50  mAP50-95)     Mask(P          R      mAP50  mAP50-95): 100%|██████████| 13/13 [00:04<00:00,  3.23it/s]"
          ]
        },
        {
          "name": "stdout",
          "output_type": "stream",
          "text": [
            "                   all        405        424      0.928       0.91      0.935      0.739      0.923      0.905      0.929      0.731\n"
          ]
        },
        {
          "name": "stderr",
          "output_type": "stream",
          "text": [
            "\n"
          ]
        },
        {
          "name": "stdout",
          "output_type": "stream",
          "text": [
            "\n",
            "      Epoch    GPU_mem   box_loss   seg_loss   cls_loss   dfl_loss  Instances       Size\n"
          ]
        },
        {
          "name": "stderr",
          "output_type": "stream",
          "text": [
            "    200/500      14.6G     0.4486     0.7021     0.2776     0.9078         14        640: 100%|██████████| 198/198 [00:55<00:00,  3.57it/s]\n",
            "                 Class     Images  Instances      Box(P          R      mAP50  mAP50-95)     Mask(P          R      mAP50  mAP50-95): 100%|██████████| 13/13 [00:03<00:00,  3.31it/s]"
          ]
        },
        {
          "name": "stdout",
          "output_type": "stream",
          "text": [
            "                   all        405        424      0.925      0.913      0.937      0.741      0.923       0.91      0.932       0.73\n"
          ]
        },
        {
          "name": "stderr",
          "output_type": "stream",
          "text": [
            "\n"
          ]
        },
        {
          "name": "stdout",
          "output_type": "stream",
          "text": [
            "\n",
            "      Epoch    GPU_mem   box_loss   seg_loss   cls_loss   dfl_loss  Instances       Size\n"
          ]
        },
        {
          "name": "stderr",
          "output_type": "stream",
          "text": [
            "    201/500      14.6G     0.4482     0.6912      0.277     0.9099          7        640: 100%|██████████| 198/198 [00:55<00:00,  3.58it/s]\n",
            "                 Class     Images  Instances      Box(P          R      mAP50  mAP50-95)     Mask(P          R      mAP50  mAP50-95): 100%|██████████| 13/13 [00:03<00:00,  3.32it/s]"
          ]
        },
        {
          "name": "stdout",
          "output_type": "stream",
          "text": [
            "                   all        405        424      0.932      0.909      0.937      0.739      0.925      0.902      0.929      0.732\n"
          ]
        },
        {
          "name": "stderr",
          "output_type": "stream",
          "text": [
            "\n"
          ]
        },
        {
          "name": "stdout",
          "output_type": "stream",
          "text": [
            "\n",
            "      Epoch    GPU_mem   box_loss   seg_loss   cls_loss   dfl_loss  Instances       Size\n"
          ]
        },
        {
          "name": "stderr",
          "output_type": "stream",
          "text": [
            "    202/500      14.6G     0.4415     0.6988     0.2707      0.905         12        640: 100%|██████████| 198/198 [00:55<00:00,  3.58it/s]\n",
            "                 Class     Images  Instances      Box(P          R      mAP50  mAP50-95)     Mask(P          R      mAP50  mAP50-95): 100%|██████████| 13/13 [00:03<00:00,  3.29it/s]"
          ]
        },
        {
          "name": "stdout",
          "output_type": "stream",
          "text": [
            "                   all        405        424      0.935      0.917      0.937      0.737       0.93      0.913       0.93      0.729\n"
          ]
        },
        {
          "name": "stderr",
          "output_type": "stream",
          "text": [
            "\n"
          ]
        },
        {
          "name": "stdout",
          "output_type": "stream",
          "text": [
            "\n",
            "      Epoch    GPU_mem   box_loss   seg_loss   cls_loss   dfl_loss  Instances       Size\n"
          ]
        },
        {
          "name": "stderr",
          "output_type": "stream",
          "text": [
            "    203/500      14.6G     0.4297     0.6712     0.2691     0.8971         21        640: 100%|██████████| 198/198 [00:55<00:00,  3.57it/s]\n",
            "                 Class     Images  Instances      Box(P          R      mAP50  mAP50-95)     Mask(P          R      mAP50  mAP50-95): 100%|██████████| 13/13 [00:03<00:00,  3.30it/s]\n"
          ]
        },
        {
          "name": "stdout",
          "output_type": "stream",
          "text": [
            "                   all        405        424      0.942       0.91       0.94      0.743      0.941      0.903      0.931      0.735\n",
            "\n",
            "      Epoch    GPU_mem   box_loss   seg_loss   cls_loss   dfl_loss  Instances       Size\n"
          ]
        },
        {
          "name": "stderr",
          "output_type": "stream",
          "text": [
            "    204/500      14.6G     0.4328     0.6686     0.2693     0.9064         17        640: 100%|██████████| 198/198 [00:55<00:00,  3.58it/s]\n",
            "                 Class     Images  Instances      Box(P          R      mAP50  mAP50-95)     Mask(P          R      mAP50  mAP50-95): 100%|██████████| 13/13 [00:03<00:00,  3.29it/s]\n"
          ]
        },
        {
          "name": "stdout",
          "output_type": "stream",
          "text": [
            "                   all        405        424      0.938      0.908      0.941      0.749      0.929      0.896      0.927      0.738\n",
            "\n",
            "      Epoch    GPU_mem   box_loss   seg_loss   cls_loss   dfl_loss  Instances       Size\n"
          ]
        },
        {
          "name": "stderr",
          "output_type": "stream",
          "text": [
            "    205/500      14.8G     0.4468     0.6899     0.2728     0.9105         13        640: 100%|██████████| 198/198 [00:55<00:00,  3.58it/s]\n",
            "                 Class     Images  Instances      Box(P          R      mAP50  mAP50-95)     Mask(P          R      mAP50  mAP50-95): 100%|██████████| 13/13 [00:03<00:00,  3.33it/s]"
          ]
        },
        {
          "name": "stdout",
          "output_type": "stream",
          "text": [
            "                   all        405        424      0.938      0.906      0.934      0.745      0.926      0.894      0.924      0.734\n"
          ]
        },
        {
          "name": "stderr",
          "output_type": "stream",
          "text": [
            "\n"
          ]
        },
        {
          "name": "stdout",
          "output_type": "stream",
          "text": [
            "\n",
            "      Epoch    GPU_mem   box_loss   seg_loss   cls_loss   dfl_loss  Instances       Size\n"
          ]
        },
        {
          "name": "stderr",
          "output_type": "stream",
          "text": [
            "    206/500      14.7G     0.4389     0.6844     0.2669     0.9067         14        640: 100%|██████████| 198/198 [00:55<00:00,  3.57it/s]\n",
            "                 Class     Images  Instances      Box(P          R      mAP50  mAP50-95)     Mask(P          R      mAP50  mAP50-95): 100%|██████████| 13/13 [00:03<00:00,  3.33it/s]"
          ]
        },
        {
          "name": "stdout",
          "output_type": "stream",
          "text": [
            "                   all        405        424      0.928      0.906      0.939       0.75      0.918      0.897      0.932      0.743\n"
          ]
        },
        {
          "name": "stderr",
          "output_type": "stream",
          "text": [
            "\n"
          ]
        },
        {
          "name": "stdout",
          "output_type": "stream",
          "text": [
            "\n",
            "      Epoch    GPU_mem   box_loss   seg_loss   cls_loss   dfl_loss  Instances       Size\n"
          ]
        },
        {
          "name": "stderr",
          "output_type": "stream",
          "text": [
            "    207/500      14.7G     0.4273     0.6746     0.2634     0.9027         19        640: 100%|██████████| 198/198 [00:55<00:00,  3.58it/s]\n",
            "                 Class     Images  Instances      Box(P          R      mAP50  mAP50-95)     Mask(P          R      mAP50  mAP50-95): 100%|██████████| 13/13 [00:04<00:00,  3.25it/s]"
          ]
        },
        {
          "name": "stdout",
          "output_type": "stream",
          "text": [
            "                   all        405        424      0.955      0.891      0.942      0.741       0.93      0.884       0.93      0.736\n"
          ]
        },
        {
          "name": "stderr",
          "output_type": "stream",
          "text": [
            "\n"
          ]
        },
        {
          "name": "stdout",
          "output_type": "stream",
          "text": [
            "\n",
            "      Epoch    GPU_mem   box_loss   seg_loss   cls_loss   dfl_loss  Instances       Size\n"
          ]
        },
        {
          "name": "stderr",
          "output_type": "stream",
          "text": [
            "    208/500      14.7G     0.4345     0.6695     0.2634     0.9005         18        640: 100%|██████████| 198/198 [00:55<00:00,  3.57it/s]\n",
            "                 Class     Images  Instances      Box(P          R      mAP50  mAP50-95)     Mask(P          R      mAP50  mAP50-95): 100%|██████████| 13/13 [00:03<00:00,  3.30it/s]\n"
          ]
        },
        {
          "name": "stdout",
          "output_type": "stream",
          "text": [
            "                   all        405        424      0.939      0.906      0.937      0.745      0.924      0.892      0.926      0.738\n",
            "\n",
            "      Epoch    GPU_mem   box_loss   seg_loss   cls_loss   dfl_loss  Instances       Size\n"
          ]
        },
        {
          "name": "stderr",
          "output_type": "stream",
          "text": [
            "    209/500      14.7G     0.4254     0.6628     0.2647     0.8981         13        640: 100%|██████████| 198/198 [00:55<00:00,  3.58it/s]\n",
            "                 Class     Images  Instances      Box(P          R      mAP50  mAP50-95)     Mask(P          R      mAP50  mAP50-95): 100%|██████████| 13/13 [00:03<00:00,  3.30it/s]"
          ]
        },
        {
          "name": "stdout",
          "output_type": "stream",
          "text": [
            "                   all        405        424      0.944       0.91      0.941      0.751      0.927      0.893      0.927      0.741\n"
          ]
        },
        {
          "name": "stderr",
          "output_type": "stream",
          "text": [
            "\n"
          ]
        },
        {
          "name": "stdout",
          "output_type": "stream",
          "text": [
            "\n",
            "      Epoch    GPU_mem   box_loss   seg_loss   cls_loss   dfl_loss  Instances       Size\n"
          ]
        },
        {
          "name": "stderr",
          "output_type": "stream",
          "text": [
            "    210/500      14.7G     0.4221     0.6694     0.2601      0.896         13        640: 100%|██████████| 198/198 [00:55<00:00,  3.58it/s]\n",
            "                 Class     Images  Instances      Box(P          R      mAP50  mAP50-95)     Mask(P          R      mAP50  mAP50-95): 100%|██████████| 13/13 [00:03<00:00,  3.29it/s]"
          ]
        },
        {
          "name": "stdout",
          "output_type": "stream",
          "text": [
            "                   all        405        424      0.933      0.912      0.937      0.742      0.925      0.905      0.927      0.737\n"
          ]
        },
        {
          "name": "stderr",
          "output_type": "stream",
          "text": [
            "\n"
          ]
        },
        {
          "name": "stdout",
          "output_type": "stream",
          "text": [
            "\n",
            "      Epoch    GPU_mem   box_loss   seg_loss   cls_loss   dfl_loss  Instances       Size\n"
          ]
        },
        {
          "name": "stderr",
          "output_type": "stream",
          "text": [
            "    211/500      14.7G     0.4187     0.6543     0.2596     0.8976         13        640: 100%|██████████| 198/198 [00:55<00:00,  3.59it/s]\n",
            "                 Class     Images  Instances      Box(P          R      mAP50  mAP50-95)     Mask(P          R      mAP50  mAP50-95): 100%|██████████| 13/13 [00:03<00:00,  3.30it/s]"
          ]
        },
        {
          "name": "stdout",
          "output_type": "stream",
          "text": [
            "                   all        405        424      0.934      0.913      0.935      0.746      0.927      0.902      0.927      0.742\n"
          ]
        },
        {
          "name": "stderr",
          "output_type": "stream",
          "text": [
            "\n"
          ]
        },
        {
          "name": "stdout",
          "output_type": "stream",
          "text": [
            "\n",
            "      Epoch    GPU_mem   box_loss   seg_loss   cls_loss   dfl_loss  Instances       Size\n"
          ]
        },
        {
          "name": "stderr",
          "output_type": "stream",
          "text": [
            "    212/500      14.7G     0.4263      0.668     0.2661     0.9027         13        640: 100%|██████████| 198/198 [00:55<00:00,  3.57it/s]\n",
            "                 Class     Images  Instances      Box(P          R      mAP50  mAP50-95)     Mask(P          R      mAP50  mAP50-95): 100%|██████████| 13/13 [00:03<00:00,  3.31it/s]"
          ]
        },
        {
          "name": "stdout",
          "output_type": "stream",
          "text": [
            "                   all        405        424      0.937       0.91      0.936      0.745      0.926      0.899      0.927      0.739\n"
          ]
        },
        {
          "name": "stderr",
          "output_type": "stream",
          "text": [
            "\n"
          ]
        },
        {
          "name": "stdout",
          "output_type": "stream",
          "text": [
            "\n",
            "      Epoch    GPU_mem   box_loss   seg_loss   cls_loss   dfl_loss  Instances       Size\n"
          ]
        },
        {
          "name": "stderr",
          "output_type": "stream",
          "text": [
            "    213/500      14.7G     0.4203     0.6754     0.2639     0.8944         10        640: 100%|██████████| 198/198 [00:55<00:00,  3.57it/s]\n",
            "                 Class     Images  Instances      Box(P          R      mAP50  mAP50-95)     Mask(P          R      mAP50  mAP50-95): 100%|██████████| 13/13 [00:03<00:00,  3.29it/s]"
          ]
        },
        {
          "name": "stdout",
          "output_type": "stream",
          "text": [
            "                   all        405        424      0.938      0.901      0.935      0.743      0.923      0.887      0.924      0.743\n"
          ]
        },
        {
          "name": "stderr",
          "output_type": "stream",
          "text": [
            "\n"
          ]
        },
        {
          "name": "stdout",
          "output_type": "stream",
          "text": [
            "\n",
            "      Epoch    GPU_mem   box_loss   seg_loss   cls_loss   dfl_loss  Instances       Size\n"
          ]
        },
        {
          "name": "stderr",
          "output_type": "stream",
          "text": [
            "    214/500      14.6G     0.4195     0.6587     0.2575     0.8982         12        640: 100%|██████████| 198/198 [00:55<00:00,  3.57it/s]\n",
            "                 Class     Images  Instances      Box(P          R      mAP50  mAP50-95)     Mask(P          R      mAP50  mAP50-95): 100%|██████████| 13/13 [00:03<00:00,  3.27it/s]"
          ]
        },
        {
          "name": "stdout",
          "output_type": "stream",
          "text": [
            "                   all        405        424      0.939      0.901      0.935      0.749      0.925      0.887      0.924      0.743\n"
          ]
        },
        {
          "name": "stderr",
          "output_type": "stream",
          "text": [
            "\n"
          ]
        },
        {
          "name": "stdout",
          "output_type": "stream",
          "text": [
            "\n",
            "      Epoch    GPU_mem   box_loss   seg_loss   cls_loss   dfl_loss  Instances       Size\n"
          ]
        },
        {
          "name": "stderr",
          "output_type": "stream",
          "text": [
            "    215/500      14.7G     0.4296     0.6705     0.2583     0.9047         15        640: 100%|██████████| 198/198 [00:55<00:00,  3.58it/s]\n",
            "                 Class     Images  Instances      Box(P          R      mAP50  mAP50-95)     Mask(P          R      mAP50  mAP50-95): 100%|██████████| 13/13 [00:03<00:00,  3.32it/s]"
          ]
        },
        {
          "name": "stdout",
          "output_type": "stream",
          "text": [
            "                   all        405        424      0.939      0.903      0.936      0.746      0.926      0.892      0.926      0.739\n"
          ]
        },
        {
          "name": "stderr",
          "output_type": "stream",
          "text": [
            "\n"
          ]
        },
        {
          "name": "stdout",
          "output_type": "stream",
          "text": [
            "\n",
            "      Epoch    GPU_mem   box_loss   seg_loss   cls_loss   dfl_loss  Instances       Size\n"
          ]
        },
        {
          "name": "stderr",
          "output_type": "stream",
          "text": [
            "    216/500      14.8G     0.4221     0.6673     0.2546     0.8934          8        640: 100%|██████████| 198/198 [00:55<00:00,  3.57it/s]\n",
            "                 Class     Images  Instances      Box(P          R      mAP50  mAP50-95)     Mask(P          R      mAP50  mAP50-95): 100%|██████████| 13/13 [00:03<00:00,  3.29it/s]"
          ]
        },
        {
          "name": "stdout",
          "output_type": "stream",
          "text": [
            "                   all        405        424      0.936      0.899      0.935      0.746      0.926      0.889      0.926      0.741\n"
          ]
        },
        {
          "name": "stderr",
          "output_type": "stream",
          "text": [
            "\n"
          ]
        },
        {
          "name": "stdout",
          "output_type": "stream",
          "text": [
            "\n",
            "      Epoch    GPU_mem   box_loss   seg_loss   cls_loss   dfl_loss  Instances       Size\n"
          ]
        },
        {
          "name": "stderr",
          "output_type": "stream",
          "text": [
            "    217/500      14.6G     0.4215     0.6657     0.2577      0.902         13        640: 100%|██████████| 198/198 [00:55<00:00,  3.58it/s]\n",
            "                 Class     Images  Instances      Box(P          R      mAP50  mAP50-95)     Mask(P          R      mAP50  mAP50-95): 100%|██████████| 13/13 [00:03<00:00,  3.28it/s]\n"
          ]
        },
        {
          "name": "stdout",
          "output_type": "stream",
          "text": [
            "                   all        405        424      0.936      0.897      0.936      0.745      0.926      0.888      0.926      0.739\n",
            "\n",
            "      Epoch    GPU_mem   box_loss   seg_loss   cls_loss   dfl_loss  Instances       Size\n"
          ]
        },
        {
          "name": "stderr",
          "output_type": "stream",
          "text": [
            "    218/500      14.6G     0.4238     0.6627     0.2606     0.8991         19        640: 100%|██████████| 198/198 [00:55<00:00,  3.57it/s]\n",
            "                 Class     Images  Instances      Box(P          R      mAP50  mAP50-95)     Mask(P          R      mAP50  mAP50-95): 100%|██████████| 13/13 [00:03<00:00,  3.35it/s]"
          ]
        },
        {
          "name": "stdout",
          "output_type": "stream",
          "text": [
            "                   all        405        424      0.936      0.896      0.937       0.75      0.921      0.892      0.926      0.742\n"
          ]
        },
        {
          "name": "stderr",
          "output_type": "stream",
          "text": [
            "\n"
          ]
        },
        {
          "name": "stdout",
          "output_type": "stream",
          "text": [
            "\n",
            "      Epoch    GPU_mem   box_loss   seg_loss   cls_loss   dfl_loss  Instances       Size\n"
          ]
        },
        {
          "name": "stderr",
          "output_type": "stream",
          "text": [
            "    219/500      14.6G     0.4158     0.6697     0.2571     0.8946         10        640: 100%|██████████| 198/198 [00:55<00:00,  3.56it/s]\n",
            "                 Class     Images  Instances      Box(P          R      mAP50  mAP50-95)     Mask(P          R      mAP50  mAP50-95): 100%|██████████| 13/13 [00:03<00:00,  3.32it/s]"
          ]
        },
        {
          "name": "stdout",
          "output_type": "stream",
          "text": [
            "                   all        405        424      0.936      0.903      0.943      0.748      0.918      0.893      0.926      0.738\n"
          ]
        },
        {
          "name": "stderr",
          "output_type": "stream",
          "text": [
            "\n"
          ]
        },
        {
          "name": "stdout",
          "output_type": "stream",
          "text": [
            "\n",
            "      Epoch    GPU_mem   box_loss   seg_loss   cls_loss   dfl_loss  Instances       Size\n"
          ]
        },
        {
          "name": "stderr",
          "output_type": "stream",
          "text": [
            "    220/500      14.6G     0.4179     0.6625      0.259     0.8959         17        640: 100%|██████████| 198/198 [00:55<00:00,  3.56it/s]\n",
            "                 Class     Images  Instances      Box(P          R      mAP50  mAP50-95)     Mask(P          R      mAP50  mAP50-95): 100%|██████████| 13/13 [00:03<00:00,  3.33it/s]"
          ]
        },
        {
          "name": "stdout",
          "output_type": "stream",
          "text": [
            "                   all        405        424      0.947      0.894      0.939      0.748      0.921      0.885      0.926      0.737\n"
          ]
        },
        {
          "name": "stderr",
          "output_type": "stream",
          "text": [
            "\n"
          ]
        },
        {
          "name": "stdout",
          "output_type": "stream",
          "text": [
            "\n",
            "      Epoch    GPU_mem   box_loss   seg_loss   cls_loss   dfl_loss  Instances       Size\n"
          ]
        },
        {
          "name": "stderr",
          "output_type": "stream",
          "text": [
            "    221/500      14.7G      0.423     0.6779     0.2638      0.896         10        640: 100%|██████████| 198/198 [00:55<00:00,  3.58it/s]\n",
            "                 Class     Images  Instances      Box(P          R      mAP50  mAP50-95)     Mask(P          R      mAP50  mAP50-95): 100%|██████████| 13/13 [00:03<00:00,  3.25it/s]"
          ]
        },
        {
          "name": "stdout",
          "output_type": "stream",
          "text": [
            "                   all        405        424      0.945      0.896      0.939      0.748      0.928      0.879      0.925      0.741\n"
          ]
        },
        {
          "name": "stderr",
          "output_type": "stream",
          "text": [
            "\n"
          ]
        },
        {
          "name": "stdout",
          "output_type": "stream",
          "text": [
            "\n",
            "      Epoch    GPU_mem   box_loss   seg_loss   cls_loss   dfl_loss  Instances       Size\n"
          ]
        },
        {
          "name": "stderr",
          "output_type": "stream",
          "text": [
            "    222/500      14.6G     0.4186     0.6489     0.2597     0.8986         11        640: 100%|██████████| 198/198 [00:55<00:00,  3.58it/s]\n",
            "                 Class     Images  Instances      Box(P          R      mAP50  mAP50-95)     Mask(P          R      mAP50  mAP50-95): 100%|██████████| 13/13 [00:03<00:00,  3.27it/s]"
          ]
        },
        {
          "name": "stdout",
          "output_type": "stream",
          "text": [
            "                   all        405        424      0.943      0.901      0.941      0.748      0.923      0.882      0.927       0.74\n"
          ]
        },
        {
          "name": "stderr",
          "output_type": "stream",
          "text": [
            "\n"
          ]
        },
        {
          "name": "stdout",
          "output_type": "stream",
          "text": [
            "\n",
            "      Epoch    GPU_mem   box_loss   seg_loss   cls_loss   dfl_loss  Instances       Size\n"
          ]
        },
        {
          "name": "stderr",
          "output_type": "stream",
          "text": [
            "    223/500      14.6G     0.4211     0.6697      0.261     0.9012          9        640: 100%|██████████| 198/198 [00:55<00:00,  3.59it/s]\n",
            "                 Class     Images  Instances      Box(P          R      mAP50  mAP50-95)     Mask(P          R      mAP50  mAP50-95): 100%|██████████| 13/13 [00:04<00:00,  3.25it/s]\n"
          ]
        },
        {
          "name": "stdout",
          "output_type": "stream",
          "text": [
            "                   all        405        424      0.941      0.901      0.941      0.742      0.926      0.887      0.928      0.734\n",
            "\n",
            "      Epoch    GPU_mem   box_loss   seg_loss   cls_loss   dfl_loss  Instances       Size\n"
          ]
        },
        {
          "name": "stderr",
          "output_type": "stream",
          "text": [
            "    224/500      14.8G     0.4182     0.6537     0.2593     0.9002         12        640: 100%|██████████| 198/198 [00:55<00:00,  3.57it/s]\n",
            "                 Class     Images  Instances      Box(P          R      mAP50  mAP50-95)     Mask(P          R      mAP50  mAP50-95): 100%|██████████| 13/13 [00:03<00:00,  3.28it/s]\n"
          ]
        },
        {
          "name": "stdout",
          "output_type": "stream",
          "text": [
            "                   all        405        424      0.948      0.898      0.944      0.741      0.933      0.885      0.932      0.738\n",
            "\n",
            "      Epoch    GPU_mem   box_loss   seg_loss   cls_loss   dfl_loss  Instances       Size\n"
          ]
        },
        {
          "name": "stderr",
          "output_type": "stream",
          "text": [
            "    225/500      14.7G     0.4174     0.6632     0.2579     0.9019         26        640: 100%|██████████| 198/198 [00:55<00:00,  3.58it/s]\n",
            "                 Class     Images  Instances      Box(P          R      mAP50  mAP50-95)     Mask(P          R      mAP50  mAP50-95): 100%|██████████| 13/13 [00:03<00:00,  3.25it/s]"
          ]
        },
        {
          "name": "stdout",
          "output_type": "stream",
          "text": [
            "                   all        405        424      0.952      0.896      0.944      0.736      0.937      0.882       0.93      0.734\n"
          ]
        },
        {
          "name": "stderr",
          "output_type": "stream",
          "text": [
            "\n"
          ]
        },
        {
          "name": "stdout",
          "output_type": "stream",
          "text": [
            "\n",
            "      Epoch    GPU_mem   box_loss   seg_loss   cls_loss   dfl_loss  Instances       Size\n"
          ]
        },
        {
          "name": "stderr",
          "output_type": "stream",
          "text": [
            "    226/500      14.6G     0.4104     0.6351     0.2519      0.889         13        640: 100%|██████████| 198/198 [00:55<00:00,  3.57it/s]\n",
            "                 Class     Images  Instances      Box(P          R      mAP50  mAP50-95)     Mask(P          R      mAP50  mAP50-95): 100%|██████████| 13/13 [00:03<00:00,  3.26it/s]"
          ]
        },
        {
          "name": "stdout",
          "output_type": "stream",
          "text": [
            "                   all        405        424      0.943      0.896       0.94      0.735      0.924      0.892       0.93      0.732\n"
          ]
        },
        {
          "name": "stderr",
          "output_type": "stream",
          "text": [
            "\n"
          ]
        },
        {
          "name": "stdout",
          "output_type": "stream",
          "text": [
            "\n",
            "      Epoch    GPU_mem   box_loss   seg_loss   cls_loss   dfl_loss  Instances       Size\n"
          ]
        },
        {
          "name": "stderr",
          "output_type": "stream",
          "text": [
            "    227/500      14.7G     0.4158     0.6442      0.256     0.9001         12        640: 100%|██████████| 198/198 [00:55<00:00,  3.58it/s]\n",
            "                 Class     Images  Instances      Box(P          R      mAP50  mAP50-95)     Mask(P          R      mAP50  mAP50-95): 100%|██████████| 13/13 [00:03<00:00,  3.28it/s]"
          ]
        },
        {
          "name": "stdout",
          "output_type": "stream",
          "text": [
            "                   all        405        424      0.936      0.903       0.94      0.736      0.925        0.9      0.933      0.735\n"
          ]
        },
        {
          "name": "stderr",
          "output_type": "stream",
          "text": [
            "\n"
          ]
        },
        {
          "name": "stdout",
          "output_type": "stream",
          "text": [
            "\n",
            "      Epoch    GPU_mem   box_loss   seg_loss   cls_loss   dfl_loss  Instances       Size\n"
          ]
        },
        {
          "name": "stderr",
          "output_type": "stream",
          "text": [
            "    228/500      14.6G     0.4188     0.6526     0.2586     0.9049         17        640: 100%|██████████| 198/198 [00:55<00:00,  3.57it/s]\n",
            "                 Class     Images  Instances      Box(P          R      mAP50  mAP50-95)     Mask(P          R      mAP50  mAP50-95): 100%|██████████| 13/13 [00:03<00:00,  3.29it/s]\n"
          ]
        },
        {
          "name": "stdout",
          "output_type": "stream",
          "text": [
            "                   all        405        424      0.947      0.899       0.94      0.736      0.938      0.892      0.932      0.738\n",
            "\n",
            "      Epoch    GPU_mem   box_loss   seg_loss   cls_loss   dfl_loss  Instances       Size\n"
          ]
        },
        {
          "name": "stderr",
          "output_type": "stream",
          "text": [
            "    229/500      14.8G     0.4133     0.6623     0.2575     0.8964         20        640: 100%|██████████| 198/198 [00:55<00:00,  3.58it/s]\n",
            "                 Class     Images  Instances      Box(P          R      mAP50  mAP50-95)     Mask(P          R      mAP50  mAP50-95): 100%|██████████| 13/13 [00:03<00:00,  3.29it/s]\n"
          ]
        },
        {
          "name": "stdout",
          "output_type": "stream",
          "text": [
            "                   all        405        424      0.943      0.899      0.941      0.732      0.933      0.889       0.93       0.73\n",
            "\n",
            "      Epoch    GPU_mem   box_loss   seg_loss   cls_loss   dfl_loss  Instances       Size\n"
          ]
        },
        {
          "name": "stderr",
          "output_type": "stream",
          "text": [
            "    230/500      14.6G     0.4189     0.6472      0.254     0.8988         15        640: 100%|██████████| 198/198 [00:55<00:00,  3.58it/s]\n",
            "                 Class     Images  Instances      Box(P          R      mAP50  mAP50-95)     Mask(P          R      mAP50  mAP50-95): 100%|██████████| 13/13 [00:03<00:00,  3.30it/s]"
          ]
        },
        {
          "name": "stdout",
          "output_type": "stream",
          "text": [
            "                   all        405        424      0.947      0.901      0.941      0.736      0.935      0.889      0.928      0.733\n"
          ]
        },
        {
          "name": "stderr",
          "output_type": "stream",
          "text": [
            "\n"
          ]
        },
        {
          "name": "stdout",
          "output_type": "stream",
          "text": [
            "\n",
            "      Epoch    GPU_mem   box_loss   seg_loss   cls_loss   dfl_loss  Instances       Size\n"
          ]
        },
        {
          "name": "stderr",
          "output_type": "stream",
          "text": [
            "    231/500      14.6G     0.4207      0.651     0.2591      0.901         16        640: 100%|██████████| 198/198 [00:55<00:00,  3.57it/s]\n",
            "                 Class     Images  Instances      Box(P          R      mAP50  mAP50-95)     Mask(P          R      mAP50  mAP50-95): 100%|██████████| 13/13 [00:03<00:00,  3.30it/s]"
          ]
        },
        {
          "name": "stdout",
          "output_type": "stream",
          "text": [
            "                   all        405        424      0.947      0.894       0.94      0.733      0.932       0.88      0.926      0.729\n"
          ]
        },
        {
          "name": "stderr",
          "output_type": "stream",
          "text": [
            "\n"
          ]
        },
        {
          "name": "stdout",
          "output_type": "stream",
          "text": [
            "\n",
            "      Epoch    GPU_mem   box_loss   seg_loss   cls_loss   dfl_loss  Instances       Size\n"
          ]
        },
        {
          "name": "stderr",
          "output_type": "stream",
          "text": [
            "    232/500      14.6G     0.4007     0.6383     0.2544     0.8862         28        640: 100%|██████████| 198/198 [00:55<00:00,  3.58it/s]\n",
            "                 Class     Images  Instances      Box(P          R      mAP50  mAP50-95)     Mask(P          R      mAP50  mAP50-95): 100%|██████████| 13/13 [00:03<00:00,  3.34it/s]"
          ]
        },
        {
          "name": "stdout",
          "output_type": "stream",
          "text": [
            "                   all        405        424      0.935      0.903      0.939      0.733      0.923      0.892      0.928      0.731\n"
          ]
        },
        {
          "name": "stderr",
          "output_type": "stream",
          "text": [
            "\n"
          ]
        },
        {
          "name": "stdout",
          "output_type": "stream",
          "text": [
            "\n",
            "      Epoch    GPU_mem   box_loss   seg_loss   cls_loss   dfl_loss  Instances       Size\n"
          ]
        },
        {
          "name": "stderr",
          "output_type": "stream",
          "text": [
            "    233/500      14.7G     0.4128     0.6408     0.2556     0.8982         17        640: 100%|██████████| 198/198 [00:55<00:00,  3.57it/s]\n",
            "                 Class     Images  Instances      Box(P          R      mAP50  mAP50-95)     Mask(P          R      mAP50  mAP50-95): 100%|██████████| 13/13 [00:03<00:00,  3.30it/s]"
          ]
        },
        {
          "name": "stdout",
          "output_type": "stream",
          "text": [
            "                   all        405        424      0.948      0.887      0.936      0.732      0.938      0.877      0.927       0.73\n"
          ]
        },
        {
          "name": "stderr",
          "output_type": "stream",
          "text": [
            "\n"
          ]
        },
        {
          "name": "stdout",
          "output_type": "stream",
          "text": [
            "\n",
            "      Epoch    GPU_mem   box_loss   seg_loss   cls_loss   dfl_loss  Instances       Size\n"
          ]
        },
        {
          "name": "stderr",
          "output_type": "stream",
          "text": [
            "    234/500      14.6G     0.4056     0.6453     0.2491     0.8936         11        640: 100%|██████████| 198/198 [00:55<00:00,  3.58it/s]\n",
            "                 Class     Images  Instances      Box(P          R      mAP50  mAP50-95)     Mask(P          R      mAP50  mAP50-95): 100%|██████████| 13/13 [00:03<00:00,  3.29it/s]"
          ]
        },
        {
          "name": "stdout",
          "output_type": "stream",
          "text": [
            "                   all        405        424      0.945      0.889      0.935      0.735      0.932      0.877      0.927       0.73\n"
          ]
        },
        {
          "name": "stderr",
          "output_type": "stream",
          "text": [
            "\n"
          ]
        },
        {
          "name": "stdout",
          "output_type": "stream",
          "text": [
            "\n",
            "      Epoch    GPU_mem   box_loss   seg_loss   cls_loss   dfl_loss  Instances       Size\n"
          ]
        },
        {
          "name": "stderr",
          "output_type": "stream",
          "text": [
            "    235/500      14.8G      0.411     0.6335     0.2526     0.8909         18        640: 100%|██████████| 198/198 [00:55<00:00,  3.58it/s]\n",
            "                 Class     Images  Instances      Box(P          R      mAP50  mAP50-95)     Mask(P          R      mAP50  mAP50-95): 100%|██████████| 13/13 [00:03<00:00,  3.32it/s]"
          ]
        },
        {
          "name": "stdout",
          "output_type": "stream",
          "text": [
            "                   all        405        424      0.941      0.896      0.936      0.736      0.928      0.884      0.926      0.733\n"
          ]
        },
        {
          "name": "stderr",
          "output_type": "stream",
          "text": [
            "\n"
          ]
        },
        {
          "name": "stdout",
          "output_type": "stream",
          "text": [
            "\n",
            "      Epoch    GPU_mem   box_loss   seg_loss   cls_loss   dfl_loss  Instances       Size\n"
          ]
        },
        {
          "name": "stderr",
          "output_type": "stream",
          "text": [
            "    236/500      14.6G      0.403     0.6531     0.2502     0.8915         14        640: 100%|██████████| 198/198 [00:55<00:00,  3.58it/s]\n",
            "                 Class     Images  Instances      Box(P          R      mAP50  mAP50-95)     Mask(P          R      mAP50  mAP50-95): 100%|██████████| 13/13 [00:03<00:00,  3.31it/s]\n"
          ]
        },
        {
          "name": "stdout",
          "output_type": "stream",
          "text": [
            "                   all        405        424       0.94      0.893      0.936      0.737      0.928      0.881      0.926      0.734\n",
            "\n",
            "      Epoch    GPU_mem   box_loss   seg_loss   cls_loss   dfl_loss  Instances       Size\n"
          ]
        },
        {
          "name": "stderr",
          "output_type": "stream",
          "text": [
            "    237/500      14.7G     0.4073     0.6334     0.2482     0.8987         11        640: 100%|██████████| 198/198 [00:55<00:00,  3.57it/s]\n",
            "                 Class     Images  Instances      Box(P          R      mAP50  mAP50-95)     Mask(P          R      mAP50  mAP50-95): 100%|██████████| 13/13 [00:03<00:00,  3.34it/s]\n"
          ]
        },
        {
          "name": "stdout",
          "output_type": "stream",
          "text": [
            "                   all        405        424      0.935      0.887      0.935      0.737      0.925      0.877      0.926      0.738\n",
            "\n",
            "      Epoch    GPU_mem   box_loss   seg_loss   cls_loss   dfl_loss  Instances       Size\n"
          ]
        },
        {
          "name": "stderr",
          "output_type": "stream",
          "text": [
            "    238/500      14.6G     0.4045     0.6274     0.2547     0.8947         25        640: 100%|██████████| 198/198 [00:55<00:00,  3.58it/s]\n",
            "                 Class     Images  Instances      Box(P          R      mAP50  mAP50-95)     Mask(P          R      mAP50  mAP50-95): 100%|██████████| 13/13 [00:03<00:00,  3.34it/s]"
          ]
        },
        {
          "name": "stdout",
          "output_type": "stream",
          "text": [
            "                   all        405        424      0.943      0.889      0.941      0.739      0.928      0.875      0.928      0.738\n"
          ]
        },
        {
          "name": "stderr",
          "output_type": "stream",
          "text": [
            "\n"
          ]
        },
        {
          "name": "stdout",
          "output_type": "stream",
          "text": [
            "\n",
            "      Epoch    GPU_mem   box_loss   seg_loss   cls_loss   dfl_loss  Instances       Size\n"
          ]
        },
        {
          "name": "stderr",
          "output_type": "stream",
          "text": [
            "    239/500      14.7G     0.3994     0.6365     0.2451     0.8909         17        640: 100%|██████████| 198/198 [00:55<00:00,  3.58it/s]\n",
            "                 Class     Images  Instances      Box(P          R      mAP50  mAP50-95)     Mask(P          R      mAP50  mAP50-95): 100%|██████████| 13/13 [00:04<00:00,  3.20it/s]"
          ]
        },
        {
          "name": "stdout",
          "output_type": "stream",
          "text": [
            "                   all        405        424      0.931      0.889      0.938      0.735      0.924      0.882      0.932      0.735\n"
          ]
        },
        {
          "name": "stderr",
          "output_type": "stream",
          "text": [
            "\n"
          ]
        },
        {
          "name": "stdout",
          "output_type": "stream",
          "text": [
            "\n",
            "      Epoch    GPU_mem   box_loss   seg_loss   cls_loss   dfl_loss  Instances       Size\n"
          ]
        },
        {
          "name": "stderr",
          "output_type": "stream",
          "text": [
            "    240/500      14.6G      0.407     0.6294      0.261     0.8977         12        640: 100%|██████████| 198/198 [00:55<00:00,  3.58it/s]\n",
            "                 Class     Images  Instances      Box(P          R      mAP50  mAP50-95)     Mask(P          R      mAP50  mAP50-95): 100%|██████████| 13/13 [00:03<00:00,  3.28it/s]"
          ]
        },
        {
          "name": "stdout",
          "output_type": "stream",
          "text": [
            "                   all        405        424      0.938      0.888      0.936      0.736      0.933      0.883      0.929      0.734\n"
          ]
        },
        {
          "name": "stderr",
          "output_type": "stream",
          "text": [
            "\n"
          ]
        },
        {
          "name": "stdout",
          "output_type": "stream",
          "text": [
            "\n",
            "      Epoch    GPU_mem   box_loss   seg_loss   cls_loss   dfl_loss  Instances       Size\n"
          ]
        },
        {
          "name": "stderr",
          "output_type": "stream",
          "text": [
            "    241/500      14.6G      0.401     0.6345     0.2559     0.8927         12        640: 100%|██████████| 198/198 [00:55<00:00,  3.59it/s]\n",
            "                 Class     Images  Instances      Box(P          R      mAP50  mAP50-95)     Mask(P          R      mAP50  mAP50-95): 100%|██████████| 13/13 [00:03<00:00,  3.26it/s]"
          ]
        },
        {
          "name": "stdout",
          "output_type": "stream",
          "text": [
            "                   all        405        424      0.929      0.894      0.939      0.738      0.921      0.884       0.93      0.737\n"
          ]
        },
        {
          "name": "stderr",
          "output_type": "stream",
          "text": [
            "\n"
          ]
        },
        {
          "name": "stdout",
          "output_type": "stream",
          "text": [
            "\n",
            "      Epoch    GPU_mem   box_loss   seg_loss   cls_loss   dfl_loss  Instances       Size\n"
          ]
        },
        {
          "name": "stderr",
          "output_type": "stream",
          "text": [
            "    242/500      14.6G     0.4065     0.6274     0.2555     0.8983         20        640: 100%|██████████| 198/198 [00:55<00:00,  3.58it/s]\n",
            "                 Class     Images  Instances      Box(P          R      mAP50  mAP50-95)     Mask(P          R      mAP50  mAP50-95): 100%|██████████| 13/13 [00:03<00:00,  3.34it/s]"
          ]
        },
        {
          "name": "stdout",
          "output_type": "stream",
          "text": [
            "                   all        405        424      0.921      0.896      0.937      0.738      0.932      0.867      0.925      0.738\n"
          ]
        },
        {
          "name": "stderr",
          "output_type": "stream",
          "text": [
            "\n"
          ]
        },
        {
          "name": "stdout",
          "output_type": "stream",
          "text": [
            "\n",
            "      Epoch    GPU_mem   box_loss   seg_loss   cls_loss   dfl_loss  Instances       Size\n"
          ]
        },
        {
          "name": "stderr",
          "output_type": "stream",
          "text": [
            "    243/500      14.6G     0.4091     0.6281     0.2543     0.8944         18        640: 100%|██████████| 198/198 [00:55<00:00,  3.58it/s]\n",
            "                 Class     Images  Instances      Box(P          R      mAP50  mAP50-95)     Mask(P          R      mAP50  mAP50-95): 100%|██████████| 13/13 [00:03<00:00,  3.29it/s]"
          ]
        },
        {
          "name": "stdout",
          "output_type": "stream",
          "text": [
            "                   all        405        424      0.917      0.899      0.938      0.737      0.905      0.887      0.928      0.736\n"
          ]
        },
        {
          "name": "stderr",
          "output_type": "stream",
          "text": [
            "\n"
          ]
        },
        {
          "name": "stdout",
          "output_type": "stream",
          "text": [
            "\n",
            "      Epoch    GPU_mem   box_loss   seg_loss   cls_loss   dfl_loss  Instances       Size\n"
          ]
        },
        {
          "name": "stderr",
          "output_type": "stream",
          "text": [
            "    244/500      14.6G     0.4003     0.6252     0.2518     0.8957         19        640: 100%|██████████| 198/198 [00:55<00:00,  3.57it/s]\n",
            "                 Class     Images  Instances      Box(P          R      mAP50  mAP50-95)     Mask(P          R      mAP50  mAP50-95): 100%|██████████| 13/13 [00:03<00:00,  3.33it/s]"
          ]
        },
        {
          "name": "stdout",
          "output_type": "stream",
          "text": [
            "                   all        405        424      0.918      0.895      0.937      0.736      0.906      0.883      0.926      0.735\n"
          ]
        },
        {
          "name": "stderr",
          "output_type": "stream",
          "text": [
            "\n"
          ]
        },
        {
          "name": "stdout",
          "output_type": "stream",
          "text": [
            "\n",
            "      Epoch    GPU_mem   box_loss   seg_loss   cls_loss   dfl_loss  Instances       Size\n"
          ]
        },
        {
          "name": "stderr",
          "output_type": "stream",
          "text": [
            "    245/500      14.7G      0.404     0.6292     0.2514     0.8914         14        640: 100%|██████████| 198/198 [00:55<00:00,  3.57it/s]\n",
            "                 Class     Images  Instances      Box(P          R      mAP50  mAP50-95)     Mask(P          R      mAP50  mAP50-95): 100%|██████████| 13/13 [00:04<00:00,  3.24it/s]\n"
          ]
        },
        {
          "name": "stdout",
          "output_type": "stream",
          "text": [
            "                   all        405        424      0.919      0.892      0.935       0.74      0.907       0.88      0.928      0.737\n",
            "\n",
            "      Epoch    GPU_mem   box_loss   seg_loss   cls_loss   dfl_loss  Instances       Size\n"
          ]
        },
        {
          "name": "stderr",
          "output_type": "stream",
          "text": [
            "    246/500      14.7G     0.3997     0.6206     0.2498     0.8891         21        640: 100%|██████████| 198/198 [00:55<00:00,  3.57it/s]\n",
            "                 Class     Images  Instances      Box(P          R      mAP50  mAP50-95)     Mask(P          R      mAP50  mAP50-95): 100%|██████████| 13/13 [00:03<00:00,  3.33it/s]\n"
          ]
        },
        {
          "name": "stdout",
          "output_type": "stream",
          "text": [
            "                   all        405        424      0.933      0.892      0.936      0.738      0.919       0.87      0.925      0.735\n",
            "\n",
            "      Epoch    GPU_mem   box_loss   seg_loss   cls_loss   dfl_loss  Instances       Size\n"
          ]
        },
        {
          "name": "stderr",
          "output_type": "stream",
          "text": [
            "    247/500      14.6G     0.3946     0.6286     0.2446     0.8839         19        640: 100%|██████████| 198/198 [00:55<00:00,  3.58it/s]\n",
            "                 Class     Images  Instances      Box(P          R      mAP50  mAP50-95)     Mask(P          R      mAP50  mAP50-95): 100%|██████████| 13/13 [00:03<00:00,  3.26it/s]"
          ]
        },
        {
          "name": "stdout",
          "output_type": "stream",
          "text": [
            "                   all        405        424      0.914       0.91      0.935      0.738      0.907      0.878      0.923      0.736\n"
          ]
        },
        {
          "name": "stderr",
          "output_type": "stream",
          "text": [
            "\n"
          ]
        },
        {
          "name": "stdout",
          "output_type": "stream",
          "text": [
            "\n",
            "      Epoch    GPU_mem   box_loss   seg_loss   cls_loss   dfl_loss  Instances       Size\n"
          ]
        },
        {
          "name": "stderr",
          "output_type": "stream",
          "text": [
            "    248/500      14.8G     0.3951     0.6091     0.2454     0.8865         14        640: 100%|██████████| 198/198 [00:55<00:00,  3.58it/s]\n",
            "                 Class     Images  Instances      Box(P          R      mAP50  mAP50-95)     Mask(P          R      mAP50  mAP50-95): 100%|██████████| 13/13 [00:04<00:00,  3.24it/s]"
          ]
        },
        {
          "name": "stdout",
          "output_type": "stream",
          "text": [
            "                   all        405        424      0.915       0.92      0.937       0.74      0.896      0.901      0.926      0.735\n"
          ]
        },
        {
          "name": "stderr",
          "output_type": "stream",
          "text": [
            "\n"
          ]
        },
        {
          "name": "stdout",
          "output_type": "stream",
          "text": [
            "\n",
            "      Epoch    GPU_mem   box_loss   seg_loss   cls_loss   dfl_loss  Instances       Size\n"
          ]
        },
        {
          "name": "stderr",
          "output_type": "stream",
          "text": [
            "    249/500      14.7G     0.4016     0.6132      0.247      0.888         14        640: 100%|██████████| 198/198 [00:55<00:00,  3.58it/s]\n",
            "                 Class     Images  Instances      Box(P          R      mAP50  mAP50-95)     Mask(P          R      mAP50  mAP50-95): 100%|██████████| 13/13 [00:03<00:00,  3.31it/s]"
          ]
        },
        {
          "name": "stdout",
          "output_type": "stream",
          "text": [
            "                   all        405        424      0.906      0.917      0.934      0.736      0.887      0.899      0.922      0.733\n"
          ]
        },
        {
          "name": "stderr",
          "output_type": "stream",
          "text": [
            "\n"
          ]
        },
        {
          "name": "stdout",
          "output_type": "stream",
          "text": [
            "\n",
            "      Epoch    GPU_mem   box_loss   seg_loss   cls_loss   dfl_loss  Instances       Size\n"
          ]
        },
        {
          "name": "stderr",
          "output_type": "stream",
          "text": [
            "    250/500      14.7G     0.3911     0.6016     0.2454     0.8864         14        640: 100%|██████████| 198/198 [00:55<00:00,  3.57it/s]\n",
            "                 Class     Images  Instances      Box(P          R      mAP50  mAP50-95)     Mask(P          R      mAP50  mAP50-95): 100%|██████████| 13/13 [00:03<00:00,  3.32it/s]"
          ]
        },
        {
          "name": "stdout",
          "output_type": "stream",
          "text": [
            "                   all        405        424      0.924       0.89      0.935      0.736      0.909      0.876      0.925       0.73\n"
          ]
        },
        {
          "name": "stderr",
          "output_type": "stream",
          "text": [
            "\n"
          ]
        },
        {
          "name": "stdout",
          "output_type": "stream",
          "text": [
            "\n",
            "      Epoch    GPU_mem   box_loss   seg_loss   cls_loss   dfl_loss  Instances       Size\n"
          ]
        },
        {
          "name": "stderr",
          "output_type": "stream",
          "text": [
            "    251/500      14.6G      0.401     0.6134     0.2474     0.8859         18        640: 100%|██████████| 198/198 [00:55<00:00,  3.57it/s]\n",
            "                 Class     Images  Instances      Box(P          R      mAP50  mAP50-95)     Mask(P          R      mAP50  mAP50-95): 100%|██████████| 13/13 [00:03<00:00,  3.34it/s]"
          ]
        },
        {
          "name": "stdout",
          "output_type": "stream",
          "text": [
            "                   all        405        424      0.919      0.894      0.934      0.737      0.916      0.879      0.926      0.731\n"
          ]
        },
        {
          "name": "stderr",
          "output_type": "stream",
          "text": [
            "\n"
          ]
        },
        {
          "name": "stdout",
          "output_type": "stream",
          "text": [
            "\n",
            "      Epoch    GPU_mem   box_loss   seg_loss   cls_loss   dfl_loss  Instances       Size\n"
          ]
        },
        {
          "name": "stderr",
          "output_type": "stream",
          "text": [
            "    252/500      14.7G     0.3986     0.6177     0.2448     0.8902         12        640: 100%|██████████| 198/198 [00:55<00:00,  3.57it/s]\n",
            "                 Class     Images  Instances      Box(P          R      mAP50  mAP50-95)     Mask(P          R      mAP50  mAP50-95): 100%|██████████| 13/13 [00:04<00:00,  3.22it/s]"
          ]
        },
        {
          "name": "stdout",
          "output_type": "stream",
          "text": [
            "                   all        405        424      0.914      0.903      0.934      0.734      0.904       0.89      0.926       0.73\n"
          ]
        },
        {
          "name": "stderr",
          "output_type": "stream",
          "text": [
            "\n"
          ]
        },
        {
          "name": "stdout",
          "output_type": "stream",
          "text": [
            "\n",
            "      Epoch    GPU_mem   box_loss   seg_loss   cls_loss   dfl_loss  Instances       Size\n"
          ]
        },
        {
          "name": "stderr",
          "output_type": "stream",
          "text": [
            "    253/500      14.6G     0.4049      0.641     0.2522      0.892         13        640: 100%|██████████| 198/198 [00:55<00:00,  3.59it/s]\n",
            "                 Class     Images  Instances      Box(P          R      mAP50  mAP50-95)     Mask(P          R      mAP50  mAP50-95): 100%|██████████| 13/13 [00:03<00:00,  3.27it/s]\n"
          ]
        },
        {
          "name": "stdout",
          "output_type": "stream",
          "text": [
            "                   all        405        424      0.912      0.901      0.933      0.736      0.902      0.889      0.926      0.731\n",
            "\n",
            "      Epoch    GPU_mem   box_loss   seg_loss   cls_loss   dfl_loss  Instances       Size\n"
          ]
        },
        {
          "name": "stderr",
          "output_type": "stream",
          "text": [
            "    254/500      14.7G     0.3926     0.6053     0.2458     0.8818         11        640: 100%|██████████| 198/198 [00:55<00:00,  3.58it/s]\n",
            "                 Class     Images  Instances      Box(P          R      mAP50  mAP50-95)     Mask(P          R      mAP50  mAP50-95): 100%|██████████| 13/13 [00:04<00:00,  3.24it/s]"
          ]
        },
        {
          "name": "stdout",
          "output_type": "stream",
          "text": [
            "                   all        405        424      0.916      0.904      0.933      0.734      0.906      0.892      0.927      0.731\n"
          ]
        },
        {
          "name": "stderr",
          "output_type": "stream",
          "text": [
            "\n"
          ]
        },
        {
          "name": "stdout",
          "output_type": "stream",
          "text": [
            "\n",
            "      Epoch    GPU_mem   box_loss   seg_loss   cls_loss   dfl_loss  Instances       Size\n"
          ]
        },
        {
          "name": "stderr",
          "output_type": "stream",
          "text": [
            "    255/500      14.7G     0.3952     0.6167     0.2452     0.8933         14        640: 100%|██████████| 198/198 [00:55<00:00,  3.58it/s]\n",
            "                 Class     Images  Instances      Box(P          R      mAP50  mAP50-95)     Mask(P          R      mAP50  mAP50-95): 100%|██████████| 13/13 [00:03<00:00,  3.29it/s]\n"
          ]
        },
        {
          "name": "stdout",
          "output_type": "stream",
          "text": [
            "                   all        405        424      0.922      0.896      0.932      0.737      0.912      0.887      0.926      0.731\n",
            "\n",
            "      Epoch    GPU_mem   box_loss   seg_loss   cls_loss   dfl_loss  Instances       Size\n"
          ]
        },
        {
          "name": "stderr",
          "output_type": "stream",
          "text": [
            "    256/500      14.6G      0.387     0.6128     0.2405     0.8809         12        640: 100%|██████████| 198/198 [00:55<00:00,  3.57it/s]\n",
            "                 Class     Images  Instances      Box(P          R      mAP50  mAP50-95)     Mask(P          R      mAP50  mAP50-95): 100%|██████████| 13/13 [00:03<00:00,  3.34it/s]"
          ]
        },
        {
          "name": "stdout",
          "output_type": "stream",
          "text": [
            "                   all        405        424      0.908      0.913      0.937      0.741       0.91      0.883      0.928      0.735\n"
          ]
        },
        {
          "name": "stderr",
          "output_type": "stream",
          "text": [
            "\n"
          ]
        },
        {
          "name": "stdout",
          "output_type": "stream",
          "text": [
            "\n",
            "      Epoch    GPU_mem   box_loss   seg_loss   cls_loss   dfl_loss  Instances       Size\n"
          ]
        },
        {
          "name": "stderr",
          "output_type": "stream",
          "text": [
            "    257/500      14.7G     0.3949     0.6118     0.2404     0.8867         11        640: 100%|██████████| 198/198 [00:55<00:00,  3.58it/s]\n",
            "                 Class     Images  Instances      Box(P          R      mAP50  mAP50-95)     Mask(P          R      mAP50  mAP50-95): 100%|██████████| 13/13 [00:03<00:00,  3.31it/s]\n"
          ]
        },
        {
          "name": "stdout",
          "output_type": "stream",
          "text": [
            "                   all        405        424      0.911      0.914      0.939      0.742      0.914      0.884      0.929      0.735\n",
            "\n",
            "      Epoch    GPU_mem   box_loss   seg_loss   cls_loss   dfl_loss  Instances       Size\n"
          ]
        },
        {
          "name": "stderr",
          "output_type": "stream",
          "text": [
            "    258/500      14.6G     0.3912     0.6053     0.2491     0.8856         18        640: 100%|██████████| 198/198 [00:55<00:00,  3.58it/s]\n",
            "                 Class     Images  Instances      Box(P          R      mAP50  mAP50-95)     Mask(P          R      mAP50  mAP50-95): 100%|██████████| 13/13 [00:03<00:00,  3.26it/s]\n"
          ]
        },
        {
          "name": "stdout",
          "output_type": "stream",
          "text": [
            "                   all        405        424      0.921      0.908      0.941      0.739      0.907      0.893      0.929      0.735\n",
            "\n",
            "      Epoch    GPU_mem   box_loss   seg_loss   cls_loss   dfl_loss  Instances       Size\n"
          ]
        },
        {
          "name": "stderr",
          "output_type": "stream",
          "text": [
            "    259/500      14.6G      0.391     0.6046     0.2457     0.8929         20        640: 100%|██████████| 198/198 [00:55<00:00,  3.58it/s]\n",
            "                 Class     Images  Instances      Box(P          R      mAP50  mAP50-95)     Mask(P          R      mAP50  mAP50-95): 100%|██████████| 13/13 [00:03<00:00,  3.31it/s]"
          ]
        },
        {
          "name": "stdout",
          "output_type": "stream",
          "text": [
            "                   all        405        424      0.917       0.91      0.943      0.741      0.905      0.898      0.933      0.735\n"
          ]
        },
        {
          "name": "stderr",
          "output_type": "stream",
          "text": [
            "\n"
          ]
        },
        {
          "name": "stdout",
          "output_type": "stream",
          "text": [
            "\n",
            "      Epoch    GPU_mem   box_loss   seg_loss   cls_loss   dfl_loss  Instances       Size\n"
          ]
        },
        {
          "name": "stderr",
          "output_type": "stream",
          "text": [
            "    260/500      14.6G     0.3853     0.6014     0.2386     0.8837         15        640: 100%|██████████| 198/198 [00:55<00:00,  3.57it/s]\n",
            "                 Class     Images  Instances      Box(P          R      mAP50  mAP50-95)     Mask(P          R      mAP50  mAP50-95): 100%|██████████| 13/13 [00:03<00:00,  3.33it/s]"
          ]
        },
        {
          "name": "stdout",
          "output_type": "stream",
          "text": [
            "                   all        405        424      0.913      0.914      0.944      0.746      0.901      0.902      0.934      0.738\n"
          ]
        },
        {
          "name": "stderr",
          "output_type": "stream",
          "text": [
            "\n"
          ]
        },
        {
          "name": "stdout",
          "output_type": "stream",
          "text": [
            "\n",
            "      Epoch    GPU_mem   box_loss   seg_loss   cls_loss   dfl_loss  Instances       Size\n"
          ]
        },
        {
          "name": "stderr",
          "output_type": "stream",
          "text": [
            "    261/500      14.6G     0.3828     0.6011      0.237     0.8795         13        640: 100%|██████████| 198/198 [00:55<00:00,  3.57it/s]\n",
            "                 Class     Images  Instances      Box(P          R      mAP50  mAP50-95)     Mask(P          R      mAP50  mAP50-95): 100%|██████████| 13/13 [00:03<00:00,  3.30it/s]"
          ]
        },
        {
          "name": "stdout",
          "output_type": "stream",
          "text": [
            "                   all        405        424      0.913      0.915      0.941      0.743      0.902      0.903      0.931      0.735\n"
          ]
        },
        {
          "name": "stderr",
          "output_type": "stream",
          "text": [
            "\n"
          ]
        },
        {
          "name": "stdout",
          "output_type": "stream",
          "text": [
            "\n",
            "      Epoch    GPU_mem   box_loss   seg_loss   cls_loss   dfl_loss  Instances       Size\n"
          ]
        },
        {
          "name": "stderr",
          "output_type": "stream",
          "text": [
            "    262/500      14.6G     0.3905     0.6142     0.2447     0.8851         19        640: 100%|██████████| 198/198 [00:55<00:00,  3.57it/s]\n",
            "                 Class     Images  Instances      Box(P          R      mAP50  mAP50-95)     Mask(P          R      mAP50  mAP50-95): 100%|██████████| 13/13 [00:03<00:00,  3.33it/s]"
          ]
        },
        {
          "name": "stdout",
          "output_type": "stream",
          "text": [
            "                   all        405        424      0.922      0.915      0.941      0.739       0.91      0.903      0.934      0.733\n"
          ]
        },
        {
          "name": "stderr",
          "output_type": "stream",
          "text": [
            "\n"
          ]
        },
        {
          "name": "stdout",
          "output_type": "stream",
          "text": [
            "\n",
            "      Epoch    GPU_mem   box_loss   seg_loss   cls_loss   dfl_loss  Instances       Size\n"
          ]
        },
        {
          "name": "stderr",
          "output_type": "stream",
          "text": [
            "    263/500      14.7G     0.3883      0.616       0.24     0.8852         11        640: 100%|██████████| 198/198 [00:55<00:00,  3.58it/s]\n",
            "                 Class     Images  Instances      Box(P          R      mAP50  mAP50-95)     Mask(P          R      mAP50  mAP50-95): 100%|██████████| 13/13 [00:03<00:00,  3.31it/s]"
          ]
        },
        {
          "name": "stdout",
          "output_type": "stream",
          "text": [
            "                   all        405        424      0.921      0.917      0.942      0.743       0.91      0.902      0.934      0.735\n"
          ]
        },
        {
          "name": "stderr",
          "output_type": "stream",
          "text": [
            "\n"
          ]
        },
        {
          "name": "stdout",
          "output_type": "stream",
          "text": [
            "\n",
            "      Epoch    GPU_mem   box_loss   seg_loss   cls_loss   dfl_loss  Instances       Size\n"
          ]
        },
        {
          "name": "stderr",
          "output_type": "stream",
          "text": [
            "    264/500      14.6G     0.3812     0.6073     0.2415     0.8831         22        640: 100%|██████████| 198/198 [00:55<00:00,  3.58it/s]\n",
            "                 Class     Images  Instances      Box(P          R      mAP50  mAP50-95)     Mask(P          R      mAP50  mAP50-95): 100%|██████████| 13/13 [00:03<00:00,  3.28it/s]"
          ]
        },
        {
          "name": "stdout",
          "output_type": "stream",
          "text": [
            "                   all        405        424      0.924       0.91      0.942      0.741      0.913      0.899      0.934      0.737\n"
          ]
        },
        {
          "name": "stderr",
          "output_type": "stream",
          "text": [
            "\n"
          ]
        },
        {
          "name": "stdout",
          "output_type": "stream",
          "text": [
            "\n",
            "      Epoch    GPU_mem   box_loss   seg_loss   cls_loss   dfl_loss  Instances       Size\n"
          ]
        },
        {
          "name": "stderr",
          "output_type": "stream",
          "text": [
            "    265/500      14.7G     0.3803     0.6015      0.243     0.8857         17        640: 100%|██████████| 198/198 [00:55<00:00,  3.58it/s]\n",
            "                 Class     Images  Instances      Box(P          R      mAP50  mAP50-95)     Mask(P          R      mAP50  mAP50-95): 100%|██████████| 13/13 [00:03<00:00,  3.32it/s]"
          ]
        },
        {
          "name": "stdout",
          "output_type": "stream",
          "text": [
            "                   all        405        424      0.915      0.918      0.942      0.741      0.915      0.894      0.934      0.738\n"
          ]
        },
        {
          "name": "stderr",
          "output_type": "stream",
          "text": [
            "\n"
          ]
        },
        {
          "name": "stdout",
          "output_type": "stream",
          "text": [
            "\n",
            "      Epoch    GPU_mem   box_loss   seg_loss   cls_loss   dfl_loss  Instances       Size\n"
          ]
        },
        {
          "name": "stderr",
          "output_type": "stream",
          "text": [
            "    266/500      14.7G     0.3842     0.6067     0.2373     0.8845         10        640: 100%|██████████| 198/198 [00:55<00:00,  3.58it/s]\n",
            "                 Class     Images  Instances      Box(P          R      mAP50  mAP50-95)     Mask(P          R      mAP50  mAP50-95): 100%|██████████| 13/13 [00:03<00:00,  3.30it/s]"
          ]
        },
        {
          "name": "stdout",
          "output_type": "stream",
          "text": [
            "                   all        405        424      0.923      0.913      0.942      0.738      0.911      0.898      0.934      0.737\n"
          ]
        },
        {
          "name": "stderr",
          "output_type": "stream",
          "text": [
            "\n"
          ]
        },
        {
          "name": "stdout",
          "output_type": "stream",
          "text": [
            "\n",
            "      Epoch    GPU_mem   box_loss   seg_loss   cls_loss   dfl_loss  Instances       Size\n"
          ]
        },
        {
          "name": "stderr",
          "output_type": "stream",
          "text": [
            "    267/500      14.7G     0.3785     0.5934     0.2347     0.8789         13        640: 100%|██████████| 198/198 [00:55<00:00,  3.57it/s]\n",
            "                 Class     Images  Instances      Box(P          R      mAP50  mAP50-95)     Mask(P          R      mAP50  mAP50-95): 100%|██████████| 13/13 [00:03<00:00,  3.34it/s]"
          ]
        },
        {
          "name": "stdout",
          "output_type": "stream",
          "text": [
            "                   all        405        424      0.921      0.913      0.942      0.739       0.91      0.901      0.934      0.736\n"
          ]
        },
        {
          "name": "stderr",
          "output_type": "stream",
          "text": [
            "\n"
          ]
        },
        {
          "name": "stdout",
          "output_type": "stream",
          "text": [
            "\n",
            "      Epoch    GPU_mem   box_loss   seg_loss   cls_loss   dfl_loss  Instances       Size\n"
          ]
        },
        {
          "name": "stderr",
          "output_type": "stream",
          "text": [
            "    268/500      14.6G     0.3843     0.6136     0.2387     0.8803         17        640: 100%|██████████| 198/198 [00:55<00:00,  3.57it/s]\n",
            "                 Class     Images  Instances      Box(P          R      mAP50  mAP50-95)     Mask(P          R      mAP50  mAP50-95): 100%|██████████| 13/13 [00:03<00:00,  3.34it/s]"
          ]
        },
        {
          "name": "stdout",
          "output_type": "stream",
          "text": [
            "                   all        405        424      0.928      0.914      0.943      0.736       0.93      0.883      0.933      0.735\n"
          ]
        },
        {
          "name": "stderr",
          "output_type": "stream",
          "text": [
            "\n"
          ]
        },
        {
          "name": "stdout",
          "output_type": "stream",
          "text": [
            "\n",
            "      Epoch    GPU_mem   box_loss   seg_loss   cls_loss   dfl_loss  Instances       Size\n"
          ]
        },
        {
          "name": "stderr",
          "output_type": "stream",
          "text": [
            "    269/500      14.7G     0.3825     0.5863     0.2358     0.8803         14        640: 100%|██████████| 198/198 [00:55<00:00,  3.58it/s]\n",
            "                 Class     Images  Instances      Box(P          R      mAP50  mAP50-95)     Mask(P          R      mAP50  mAP50-95): 100%|██████████| 13/13 [00:03<00:00,  3.32it/s]\n"
          ]
        },
        {
          "name": "stdout",
          "output_type": "stream",
          "text": [
            "                   all        405        424      0.929      0.902       0.94      0.737      0.919      0.884       0.93      0.735\n",
            "\n",
            "      Epoch    GPU_mem   box_loss   seg_loss   cls_loss   dfl_loss  Instances       Size\n"
          ]
        },
        {
          "name": "stderr",
          "output_type": "stream",
          "text": [
            "    270/500      14.8G      0.376     0.5939     0.2379       0.88         11        640: 100%|██████████| 198/198 [00:55<00:00,  3.57it/s]\n",
            "                 Class     Images  Instances      Box(P          R      mAP50  mAP50-95)     Mask(P          R      mAP50  mAP50-95): 100%|██████████| 13/13 [00:03<00:00,  3.32it/s]"
          ]
        },
        {
          "name": "stdout",
          "output_type": "stream",
          "text": [
            "                   all        405        424      0.928      0.908      0.941      0.738       0.93      0.879       0.93      0.734\n"
          ]
        },
        {
          "name": "stderr",
          "output_type": "stream",
          "text": [
            "\n"
          ]
        },
        {
          "name": "stdout",
          "output_type": "stream",
          "text": [
            "\n",
            "      Epoch    GPU_mem   box_loss   seg_loss   cls_loss   dfl_loss  Instances       Size\n"
          ]
        },
        {
          "name": "stderr",
          "output_type": "stream",
          "text": [
            "    271/500      14.6G     0.3745     0.5962     0.2287     0.8725         18        640: 100%|██████████| 198/198 [00:55<00:00,  3.58it/s]\n",
            "                 Class     Images  Instances      Box(P          R      mAP50  mAP50-95)     Mask(P          R      mAP50  mAP50-95): 100%|██████████| 13/13 [00:03<00:00,  3.28it/s]"
          ]
        },
        {
          "name": "stdout",
          "output_type": "stream",
          "text": [
            "                   all        405        424      0.922      0.908       0.94      0.741       0.93      0.875       0.93      0.737\n"
          ]
        },
        {
          "name": "stderr",
          "output_type": "stream",
          "text": [
            "\n"
          ]
        },
        {
          "name": "stdout",
          "output_type": "stream",
          "text": [
            "\n",
            "      Epoch    GPU_mem   box_loss   seg_loss   cls_loss   dfl_loss  Instances       Size\n"
          ]
        },
        {
          "name": "stderr",
          "output_type": "stream",
          "text": [
            "    272/500      14.6G     0.3749     0.5939     0.2272      0.877         19        640: 100%|██████████| 198/198 [00:55<00:00,  3.58it/s]\n",
            "                 Class     Images  Instances      Box(P          R      mAP50  mAP50-95)     Mask(P          R      mAP50  mAP50-95): 100%|██████████| 13/13 [00:03<00:00,  3.29it/s]"
          ]
        },
        {
          "name": "stdout",
          "output_type": "stream",
          "text": [
            "                   all        405        424      0.919       0.91      0.939      0.738      0.905      0.896       0.93      0.735\n"
          ]
        },
        {
          "name": "stderr",
          "output_type": "stream",
          "text": [
            "\n"
          ]
        },
        {
          "name": "stdout",
          "output_type": "stream",
          "text": [
            "\n",
            "      Epoch    GPU_mem   box_loss   seg_loss   cls_loss   dfl_loss  Instances       Size\n"
          ]
        },
        {
          "name": "stderr",
          "output_type": "stream",
          "text": [
            "    273/500      14.7G     0.3797      0.606     0.2367     0.8821         17        640: 100%|██████████| 198/198 [00:55<00:00,  3.58it/s]\n",
            "                 Class     Images  Instances      Box(P          R      mAP50  mAP50-95)     Mask(P          R      mAP50  mAP50-95): 100%|██████████| 13/13 [00:03<00:00,  3.30it/s]"
          ]
        },
        {
          "name": "stdout",
          "output_type": "stream",
          "text": [
            "                   all        405        424      0.919      0.913       0.94      0.739      0.908      0.899      0.932      0.735\n"
          ]
        },
        {
          "name": "stderr",
          "output_type": "stream",
          "text": [
            "\n"
          ]
        },
        {
          "name": "stdout",
          "output_type": "stream",
          "text": [
            "\n",
            "      Epoch    GPU_mem   box_loss   seg_loss   cls_loss   dfl_loss  Instances       Size\n"
          ]
        },
        {
          "name": "stderr",
          "output_type": "stream",
          "text": [
            "    274/500      14.6G     0.3628     0.5828     0.2262     0.8732         21        640: 100%|██████████| 198/198 [00:55<00:00,  3.57it/s]\n",
            "                 Class     Images  Instances      Box(P          R      mAP50  mAP50-95)     Mask(P          R      mAP50  mAP50-95): 100%|██████████| 13/13 [00:03<00:00,  3.31it/s]"
          ]
        },
        {
          "name": "stdout",
          "output_type": "stream",
          "text": [
            "                   all        405        424      0.923      0.908      0.939      0.738      0.919      0.884      0.928      0.733\n"
          ]
        },
        {
          "name": "stderr",
          "output_type": "stream",
          "text": [
            "\n"
          ]
        },
        {
          "name": "stdout",
          "output_type": "stream",
          "text": [
            "\n",
            "      Epoch    GPU_mem   box_loss   seg_loss   cls_loss   dfl_loss  Instances       Size\n"
          ]
        },
        {
          "name": "stderr",
          "output_type": "stream",
          "text": [
            "    275/500      14.8G     0.3757     0.5953     0.2327     0.8846         14        640: 100%|██████████| 198/198 [00:55<00:00,  3.58it/s]\n",
            "                 Class     Images  Instances      Box(P          R      mAP50  mAP50-95)     Mask(P          R      mAP50  mAP50-95): 100%|██████████| 13/13 [00:03<00:00,  3.30it/s]\n"
          ]
        },
        {
          "name": "stdout",
          "output_type": "stream",
          "text": [
            "                   all        405        424      0.928      0.901      0.939      0.737      0.924      0.887      0.929      0.734\n",
            "\n",
            "      Epoch    GPU_mem   box_loss   seg_loss   cls_loss   dfl_loss  Instances       Size\n"
          ]
        },
        {
          "name": "stderr",
          "output_type": "stream",
          "text": [
            "    276/500      14.6G      0.371     0.5983     0.2348     0.8813         19        640: 100%|██████████| 198/198 [00:55<00:00,  3.57it/s]\n",
            "                 Class     Images  Instances      Box(P          R      mAP50  mAP50-95)     Mask(P          R      mAP50  mAP50-95): 100%|██████████| 13/13 [00:03<00:00,  3.36it/s]"
          ]
        },
        {
          "name": "stdout",
          "output_type": "stream",
          "text": [
            "                   all        405        424      0.936      0.899      0.939      0.737      0.929      0.892      0.933      0.735\n"
          ]
        },
        {
          "name": "stderr",
          "output_type": "stream",
          "text": [
            "\n"
          ]
        },
        {
          "name": "stdout",
          "output_type": "stream",
          "text": [
            "\n",
            "      Epoch    GPU_mem   box_loss   seg_loss   cls_loss   dfl_loss  Instances       Size\n"
          ]
        },
        {
          "name": "stderr",
          "output_type": "stream",
          "text": [
            "    277/500      14.7G     0.3736     0.5984     0.2324     0.8803         17        640: 100%|██████████| 198/198 [00:55<00:00,  3.59it/s]\n",
            "                 Class     Images  Instances      Box(P          R      mAP50  mAP50-95)     Mask(P          R      mAP50  mAP50-95): 100%|██████████| 13/13 [00:03<00:00,  3.30it/s]"
          ]
        },
        {
          "name": "stdout",
          "output_type": "stream",
          "text": [
            "                   all        405        424      0.938      0.901      0.941      0.737      0.928      0.892      0.932      0.735\n"
          ]
        },
        {
          "name": "stderr",
          "output_type": "stream",
          "text": [
            "\n"
          ]
        },
        {
          "name": "stdout",
          "output_type": "stream",
          "text": [
            "\n",
            "      Epoch    GPU_mem   box_loss   seg_loss   cls_loss   dfl_loss  Instances       Size\n"
          ]
        },
        {
          "name": "stderr",
          "output_type": "stream",
          "text": [
            "    278/500      14.6G     0.3741     0.5885     0.2306     0.8764         10        640: 100%|██████████| 198/198 [00:55<00:00,  3.58it/s]\n",
            "                 Class     Images  Instances      Box(P          R      mAP50  mAP50-95)     Mask(P          R      mAP50  mAP50-95): 100%|██████████| 13/13 [00:03<00:00,  3.31it/s]"
          ]
        },
        {
          "name": "stdout",
          "output_type": "stream",
          "text": [
            "                   all        405        424      0.936        0.9      0.937      0.738      0.929      0.893      0.932      0.734\n"
          ]
        },
        {
          "name": "stderr",
          "output_type": "stream",
          "text": [
            "\n"
          ]
        },
        {
          "name": "stdout",
          "output_type": "stream",
          "text": [
            "\n",
            "      Epoch    GPU_mem   box_loss   seg_loss   cls_loss   dfl_loss  Instances       Size\n"
          ]
        },
        {
          "name": "stderr",
          "output_type": "stream",
          "text": [
            "    279/500      14.6G     0.3749     0.5932     0.2325     0.8849         16        640: 100%|██████████| 198/198 [00:55<00:00,  3.58it/s]\n",
            "                 Class     Images  Instances      Box(P          R      mAP50  mAP50-95)     Mask(P          R      mAP50  mAP50-95): 100%|██████████| 13/13 [00:03<00:00,  3.30it/s]\n"
          ]
        },
        {
          "name": "stdout",
          "output_type": "stream",
          "text": [
            "                   all        405        424       0.93      0.905      0.933      0.734      0.922      0.896      0.928      0.731\n",
            "\n",
            "      Epoch    GPU_mem   box_loss   seg_loss   cls_loss   dfl_loss  Instances       Size\n"
          ]
        },
        {
          "name": "stderr",
          "output_type": "stream",
          "text": [
            "    280/500      14.6G     0.3702     0.5865     0.2342      0.878         17        640: 100%|██████████| 198/198 [00:55<00:00,  3.57it/s]\n",
            "                 Class     Images  Instances      Box(P          R      mAP50  mAP50-95)     Mask(P          R      mAP50  mAP50-95): 100%|██████████| 13/13 [00:03<00:00,  3.31it/s]"
          ]
        },
        {
          "name": "stdout",
          "output_type": "stream",
          "text": [
            "                   all        405        424       0.93      0.904      0.935      0.735       0.92      0.894       0.93      0.732\n"
          ]
        },
        {
          "name": "stderr",
          "output_type": "stream",
          "text": [
            "\n"
          ]
        },
        {
          "name": "stdout",
          "output_type": "stream",
          "text": [
            "\n",
            "      Epoch    GPU_mem   box_loss   seg_loss   cls_loss   dfl_loss  Instances       Size\n"
          ]
        },
        {
          "name": "stderr",
          "output_type": "stream",
          "text": [
            "    281/500      14.7G     0.3811     0.6109     0.2347      0.887         14        640: 100%|██████████| 198/198 [00:55<00:00,  3.58it/s]\n",
            "                 Class     Images  Instances      Box(P          R      mAP50  mAP50-95)     Mask(P          R      mAP50  mAP50-95): 100%|██████████| 13/13 [00:03<00:00,  3.30it/s]"
          ]
        },
        {
          "name": "stdout",
          "output_type": "stream",
          "text": [
            "                   all        405        424      0.932      0.904      0.936      0.738      0.922      0.895      0.931      0.735\n"
          ]
        },
        {
          "name": "stderr",
          "output_type": "stream",
          "text": [
            "\n"
          ]
        },
        {
          "name": "stdout",
          "output_type": "stream",
          "text": [
            "\n",
            "      Epoch    GPU_mem   box_loss   seg_loss   cls_loss   dfl_loss  Instances       Size\n"
          ]
        },
        {
          "name": "stderr",
          "output_type": "stream",
          "text": [
            "    282/500      14.6G     0.3677     0.5958      0.228     0.8794         15        640: 100%|██████████| 198/198 [00:55<00:00,  3.56it/s]\n",
            "                 Class     Images  Instances      Box(P          R      mAP50  mAP50-95)     Mask(P          R      mAP50  mAP50-95): 100%|██████████| 13/13 [00:03<00:00,  3.30it/s]"
          ]
        },
        {
          "name": "stdout",
          "output_type": "stream",
          "text": [
            "                   all        405        424      0.927      0.903      0.936      0.736      0.926      0.887      0.931      0.732\n"
          ]
        },
        {
          "name": "stderr",
          "output_type": "stream",
          "text": [
            "\n"
          ]
        },
        {
          "name": "stdout",
          "output_type": "stream",
          "text": [
            "\n",
            "      Epoch    GPU_mem   box_loss   seg_loss   cls_loss   dfl_loss  Instances       Size\n"
          ]
        },
        {
          "name": "stderr",
          "output_type": "stream",
          "text": [
            "    283/500      14.6G     0.3748     0.5744     0.2297     0.8805         14        640: 100%|██████████| 198/198 [00:55<00:00,  3.58it/s]\n",
            "                 Class     Images  Instances      Box(P          R      mAP50  mAP50-95)     Mask(P          R      mAP50  mAP50-95): 100%|██████████| 13/13 [00:03<00:00,  3.28it/s]"
          ]
        },
        {
          "name": "stdout",
          "output_type": "stream",
          "text": [
            "                   all        405        424       0.93      0.901      0.936      0.738      0.921      0.885      0.929      0.733\n"
          ]
        },
        {
          "name": "stderr",
          "output_type": "stream",
          "text": [
            "\n"
          ]
        },
        {
          "name": "stdout",
          "output_type": "stream",
          "text": [
            "\n",
            "      Epoch    GPU_mem   box_loss   seg_loss   cls_loss   dfl_loss  Instances       Size\n"
          ]
        },
        {
          "name": "stderr",
          "output_type": "stream",
          "text": [
            "    284/500      14.7G     0.3691     0.5864     0.2331     0.8761         12        640: 100%|██████████| 198/198 [00:55<00:00,  3.58it/s]\n",
            "                 Class     Images  Instances      Box(P          R      mAP50  mAP50-95)     Mask(P          R      mAP50  mAP50-95): 100%|██████████| 13/13 [00:03<00:00,  3.27it/s]"
          ]
        },
        {
          "name": "stdout",
          "output_type": "stream",
          "text": [
            "                   all        405        424       0.93      0.901      0.936      0.738       0.92      0.892      0.932      0.734\n"
          ]
        },
        {
          "name": "stderr",
          "output_type": "stream",
          "text": [
            "\n"
          ]
        },
        {
          "name": "stdout",
          "output_type": "stream",
          "text": [
            "\n",
            "      Epoch    GPU_mem   box_loss   seg_loss   cls_loss   dfl_loss  Instances       Size\n"
          ]
        },
        {
          "name": "stderr",
          "output_type": "stream",
          "text": [
            "    285/500      14.6G     0.3727      0.592     0.2332     0.8836         17        640: 100%|██████████| 198/198 [00:55<00:00,  3.59it/s]\n",
            "                 Class     Images  Instances      Box(P          R      mAP50  mAP50-95)     Mask(P          R      mAP50  mAP50-95): 100%|██████████| 13/13 [00:03<00:00,  3.32it/s]\n"
          ]
        },
        {
          "name": "stdout",
          "output_type": "stream",
          "text": [
            "                   all        405        424      0.931      0.901      0.937      0.736      0.921      0.892      0.932      0.732\n",
            "\n",
            "      Epoch    GPU_mem   box_loss   seg_loss   cls_loss   dfl_loss  Instances       Size\n"
          ]
        },
        {
          "name": "stderr",
          "output_type": "stream",
          "text": [
            "    286/500      14.6G     0.3675     0.5825     0.2242     0.8759          9        640: 100%|██████████| 198/198 [00:55<00:00,  3.58it/s]\n",
            "                 Class     Images  Instances      Box(P          R      mAP50  mAP50-95)     Mask(P          R      mAP50  mAP50-95): 100%|██████████| 13/13 [00:04<00:00,  3.24it/s]\n"
          ]
        },
        {
          "name": "stdout",
          "output_type": "stream",
          "text": [
            "                   all        405        424       0.93      0.901      0.937      0.737      0.923      0.894      0.934      0.733\n",
            "\n",
            "      Epoch    GPU_mem   box_loss   seg_loss   cls_loss   dfl_loss  Instances       Size\n"
          ]
        },
        {
          "name": "stderr",
          "output_type": "stream",
          "text": [
            "    287/500      14.7G     0.3574     0.5718     0.2218     0.8714         14        640: 100%|██████████| 198/198 [00:55<00:00,  3.57it/s]\n",
            "                 Class     Images  Instances      Box(P          R      mAP50  mAP50-95)     Mask(P          R      mAP50  mAP50-95): 100%|██████████| 13/13 [00:03<00:00,  3.34it/s]"
          ]
        },
        {
          "name": "stdout",
          "output_type": "stream",
          "text": [
            "                   all        405        424      0.931      0.901      0.936      0.734      0.924      0.894      0.933      0.732\n"
          ]
        },
        {
          "name": "stderr",
          "output_type": "stream",
          "text": [
            "\n"
          ]
        },
        {
          "name": "stdout",
          "output_type": "stream",
          "text": [
            "\n",
            "      Epoch    GPU_mem   box_loss   seg_loss   cls_loss   dfl_loss  Instances       Size\n"
          ]
        },
        {
          "name": "stderr",
          "output_type": "stream",
          "text": [
            "    288/500      14.6G     0.3688     0.5884     0.2281     0.8784         17        640: 100%|██████████| 198/198 [00:55<00:00,  3.58it/s]\n",
            "                 Class     Images  Instances      Box(P          R      mAP50  mAP50-95)     Mask(P          R      mAP50  mAP50-95): 100%|██████████| 13/13 [00:03<00:00,  3.31it/s]"
          ]
        },
        {
          "name": "stdout",
          "output_type": "stream",
          "text": [
            "                   all        405        424      0.925      0.901      0.935      0.733      0.918      0.894      0.933      0.733\n"
          ]
        },
        {
          "name": "stderr",
          "output_type": "stream",
          "text": [
            "\n"
          ]
        },
        {
          "name": "stdout",
          "output_type": "stream",
          "text": [
            "\n",
            "      Epoch    GPU_mem   box_loss   seg_loss   cls_loss   dfl_loss  Instances       Size\n"
          ]
        },
        {
          "name": "stderr",
          "output_type": "stream",
          "text": [
            "    289/500      14.6G     0.3689     0.5872     0.2321     0.8796         13        640: 100%|██████████| 198/198 [00:55<00:00,  3.57it/s]\n",
            "                 Class     Images  Instances      Box(P          R      mAP50  mAP50-95)     Mask(P          R      mAP50  mAP50-95): 100%|██████████| 13/13 [00:03<00:00,  3.31it/s]"
          ]
        },
        {
          "name": "stdout",
          "output_type": "stream",
          "text": [
            "                   all        405        424      0.926      0.903      0.936      0.737      0.916      0.894      0.931      0.735\n"
          ]
        },
        {
          "name": "stderr",
          "output_type": "stream",
          "text": [
            "\n"
          ]
        },
        {
          "name": "stdout",
          "output_type": "stream",
          "text": [
            "\n",
            "      Epoch    GPU_mem   box_loss   seg_loss   cls_loss   dfl_loss  Instances       Size\n"
          ]
        },
        {
          "name": "stderr",
          "output_type": "stream",
          "text": [
            "    290/500      14.6G     0.3653     0.5841      0.228     0.8772         16        640: 100%|██████████| 198/198 [00:55<00:00,  3.58it/s]\n",
            "                 Class     Images  Instances      Box(P          R      mAP50  mAP50-95)     Mask(P          R      mAP50  mAP50-95): 100%|██████████| 13/13 [00:03<00:00,  3.30it/s]"
          ]
        },
        {
          "name": "stdout",
          "output_type": "stream",
          "text": [
            "                   all        405        424       0.93      0.905      0.934      0.733       0.92      0.895       0.93       0.73\n"
          ]
        },
        {
          "name": "stderr",
          "output_type": "stream",
          "text": [
            "\n"
          ]
        },
        {
          "name": "stdout",
          "output_type": "stream",
          "text": [
            "\n",
            "      Epoch    GPU_mem   box_loss   seg_loss   cls_loss   dfl_loss  Instances       Size\n"
          ]
        },
        {
          "name": "stderr",
          "output_type": "stream",
          "text": [
            "    291/500      14.6G     0.3578     0.5752     0.2242     0.8749         12        640: 100%|██████████| 198/198 [00:55<00:00,  3.57it/s]\n",
            "                 Class     Images  Instances      Box(P          R      mAP50  mAP50-95)     Mask(P          R      mAP50  mAP50-95): 100%|██████████| 13/13 [00:03<00:00,  3.26it/s]"
          ]
        },
        {
          "name": "stdout",
          "output_type": "stream",
          "text": [
            "                   all        405        424      0.929      0.903      0.938      0.737      0.919      0.894      0.932      0.731\n"
          ]
        },
        {
          "name": "stderr",
          "output_type": "stream",
          "text": [
            "\n"
          ]
        },
        {
          "name": "stdout",
          "output_type": "stream",
          "text": [
            "\n",
            "      Epoch    GPU_mem   box_loss   seg_loss   cls_loss   dfl_loss  Instances       Size\n"
          ]
        },
        {
          "name": "stderr",
          "output_type": "stream",
          "text": [
            "    292/500      14.8G     0.3665     0.5695     0.2271     0.8831         14        640: 100%|██████████| 198/198 [00:55<00:00,  3.57it/s]\n",
            "                 Class     Images  Instances      Box(P          R      mAP50  mAP50-95)     Mask(P          R      mAP50  mAP50-95): 100%|██████████| 13/13 [00:03<00:00,  3.33it/s]"
          ]
        },
        {
          "name": "stdout",
          "output_type": "stream",
          "text": [
            "                   all        405        424      0.929      0.903      0.935      0.736       0.92      0.894       0.93      0.731\n"
          ]
        },
        {
          "name": "stderr",
          "output_type": "stream",
          "text": [
            "\n"
          ]
        },
        {
          "name": "stdout",
          "output_type": "stream",
          "text": [
            "\n",
            "      Epoch    GPU_mem   box_loss   seg_loss   cls_loss   dfl_loss  Instances       Size\n"
          ]
        },
        {
          "name": "stderr",
          "output_type": "stream",
          "text": [
            "    293/500      14.6G     0.3624     0.5702     0.2277     0.8801          7        640: 100%|██████████| 198/198 [00:55<00:00,  3.57it/s]\n",
            "                 Class     Images  Instances      Box(P          R      mAP50  mAP50-95)     Mask(P          R      mAP50  mAP50-95): 100%|██████████| 13/13 [00:03<00:00,  3.31it/s]"
          ]
        },
        {
          "name": "stdout",
          "output_type": "stream",
          "text": [
            "                   all        405        424      0.925      0.902      0.934      0.735       0.92      0.898       0.93      0.734\n"
          ]
        },
        {
          "name": "stderr",
          "output_type": "stream",
          "text": [
            "\n"
          ]
        },
        {
          "name": "stdout",
          "output_type": "stream",
          "text": [
            "\n",
            "      Epoch    GPU_mem   box_loss   seg_loss   cls_loss   dfl_loss  Instances       Size\n"
          ]
        },
        {
          "name": "stderr",
          "output_type": "stream",
          "text": [
            "    294/500      14.8G      0.355     0.5761      0.222     0.8711         17        640: 100%|██████████| 198/198 [00:55<00:00,  3.58it/s]\n",
            "                 Class     Images  Instances      Box(P          R      mAP50  mAP50-95)     Mask(P          R      mAP50  mAP50-95): 100%|██████████| 13/13 [00:03<00:00,  3.31it/s]\n"
          ]
        },
        {
          "name": "stdout",
          "output_type": "stream",
          "text": [
            "                   all        405        424      0.924      0.901      0.934      0.735      0.916      0.894      0.929       0.73\n",
            "\n",
            "      Epoch    GPU_mem   box_loss   seg_loss   cls_loss   dfl_loss  Instances       Size\n"
          ]
        },
        {
          "name": "stderr",
          "output_type": "stream",
          "text": [
            "    295/500      14.6G     0.3565     0.5619     0.2203     0.8772         18        640: 100%|██████████| 198/198 [00:55<00:00,  3.58it/s]\n",
            "                 Class     Images  Instances      Box(P          R      mAP50  mAP50-95)     Mask(P          R      mAP50  mAP50-95): 100%|██████████| 13/13 [00:03<00:00,  3.30it/s]"
          ]
        },
        {
          "name": "stdout",
          "output_type": "stream",
          "text": [
            "                   all        405        424      0.929      0.899      0.933      0.738      0.922      0.892      0.931      0.734\n"
          ]
        },
        {
          "name": "stderr",
          "output_type": "stream",
          "text": [
            "\n"
          ]
        },
        {
          "name": "stdout",
          "output_type": "stream",
          "text": [
            "\n",
            "      Epoch    GPU_mem   box_loss   seg_loss   cls_loss   dfl_loss  Instances       Size\n"
          ]
        },
        {
          "name": "stderr",
          "output_type": "stream",
          "text": [
            "    296/500      14.6G      0.362     0.5811     0.2244     0.8745         18        640: 100%|██████████| 198/198 [00:55<00:00,  3.58it/s]\n",
            "                 Class     Images  Instances      Box(P          R      mAP50  mAP50-95)     Mask(P          R      mAP50  mAP50-95): 100%|██████████| 13/13 [00:03<00:00,  3.31it/s]"
          ]
        },
        {
          "name": "stdout",
          "output_type": "stream",
          "text": [
            "                   all        405        424      0.923      0.906      0.933      0.734      0.918      0.901       0.93      0.734\n"
          ]
        },
        {
          "name": "stderr",
          "output_type": "stream",
          "text": [
            "\n"
          ]
        },
        {
          "name": "stdout",
          "output_type": "stream",
          "text": [
            "\n",
            "      Epoch    GPU_mem   box_loss   seg_loss   cls_loss   dfl_loss  Instances       Size\n"
          ]
        },
        {
          "name": "stderr",
          "output_type": "stream",
          "text": [
            "    297/500      14.6G     0.3576     0.5705     0.2204     0.8735         14        640: 100%|██████████| 198/198 [00:55<00:00,  3.59it/s]\n",
            "                 Class     Images  Instances      Box(P          R      mAP50  mAP50-95)     Mask(P          R      mAP50  mAP50-95): 100%|██████████| 13/13 [00:04<00:00,  3.20it/s]"
          ]
        },
        {
          "name": "stdout",
          "output_type": "stream",
          "text": [
            "                   all        405        424      0.923      0.906      0.932      0.733      0.918      0.901      0.929      0.731\n"
          ]
        },
        {
          "name": "stderr",
          "output_type": "stream",
          "text": [
            "\n"
          ]
        },
        {
          "name": "stdout",
          "output_type": "stream",
          "text": [
            "\n",
            "      Epoch    GPU_mem   box_loss   seg_loss   cls_loss   dfl_loss  Instances       Size\n"
          ]
        },
        {
          "name": "stderr",
          "output_type": "stream",
          "text": [
            "    298/500      14.6G     0.3572     0.5652     0.2207     0.8733         12        640: 100%|██████████| 198/198 [00:55<00:00,  3.57it/s]\n",
            "                 Class     Images  Instances      Box(P          R      mAP50  mAP50-95)     Mask(P          R      mAP50  mAP50-95): 100%|██████████| 13/13 [00:03<00:00,  3.28it/s]"
          ]
        },
        {
          "name": "stdout",
          "output_type": "stream",
          "text": [
            "                   all        405        424      0.923      0.904      0.933      0.739      0.918      0.899      0.927      0.734\n"
          ]
        },
        {
          "name": "stderr",
          "output_type": "stream",
          "text": [
            "\n"
          ]
        },
        {
          "name": "stdout",
          "output_type": "stream",
          "text": [
            "\n",
            "      Epoch    GPU_mem   box_loss   seg_loss   cls_loss   dfl_loss  Instances       Size\n"
          ]
        },
        {
          "name": "stderr",
          "output_type": "stream",
          "text": [
            "    299/500      14.6G     0.3564      0.569     0.2205     0.8759         23        640: 100%|██████████| 198/198 [00:55<00:00,  3.58it/s]\n",
            "                 Class     Images  Instances      Box(P          R      mAP50  mAP50-95)     Mask(P          R      mAP50  mAP50-95): 100%|██████████| 13/13 [00:03<00:00,  3.26it/s]"
          ]
        },
        {
          "name": "stdout",
          "output_type": "stream",
          "text": [
            "                   all        405        424      0.928      0.906      0.933      0.736       0.92      0.899      0.926      0.732\n"
          ]
        },
        {
          "name": "stderr",
          "output_type": "stream",
          "text": [
            "\n"
          ]
        },
        {
          "name": "stdout",
          "output_type": "stream",
          "text": [
            "\n",
            "      Epoch    GPU_mem   box_loss   seg_loss   cls_loss   dfl_loss  Instances       Size\n"
          ]
        },
        {
          "name": "stderr",
          "output_type": "stream",
          "text": [
            "    300/500      14.7G     0.3566     0.5565     0.2223     0.8703         16        640: 100%|██████████| 198/198 [00:55<00:00,  3.57it/s]\n",
            "                 Class     Images  Instances      Box(P          R      mAP50  mAP50-95)     Mask(P          R      mAP50  mAP50-95): 100%|██████████| 13/13 [00:03<00:00,  3.28it/s]"
          ]
        },
        {
          "name": "stdout",
          "output_type": "stream",
          "text": [
            "                   all        405        424      0.929      0.906      0.935      0.736      0.922      0.899       0.93      0.731\n"
          ]
        },
        {
          "name": "stderr",
          "output_type": "stream",
          "text": [
            "\n"
          ]
        },
        {
          "name": "stdout",
          "output_type": "stream",
          "text": [
            "\n",
            "      Epoch    GPU_mem   box_loss   seg_loss   cls_loss   dfl_loss  Instances       Size\n"
          ]
        },
        {
          "name": "stderr",
          "output_type": "stream",
          "text": [
            "    301/500      14.6G     0.3562     0.5623     0.2208     0.8743         17        640: 100%|██████████| 198/198 [00:55<00:00,  3.58it/s]\n",
            "                 Class     Images  Instances      Box(P          R      mAP50  mAP50-95)     Mask(P          R      mAP50  mAP50-95): 100%|██████████| 13/13 [00:03<00:00,  3.31it/s]"
          ]
        },
        {
          "name": "stdout",
          "output_type": "stream",
          "text": [
            "                   all        405        424       0.93      0.904      0.934      0.735       0.92      0.894      0.927      0.732\n"
          ]
        },
        {
          "name": "stderr",
          "output_type": "stream",
          "text": [
            "\n"
          ]
        },
        {
          "name": "stdout",
          "output_type": "stream",
          "text": [
            "\n",
            "      Epoch    GPU_mem   box_loss   seg_loss   cls_loss   dfl_loss  Instances       Size\n"
          ]
        },
        {
          "name": "stderr",
          "output_type": "stream",
          "text": [
            "    302/500      14.8G      0.355      0.562     0.2196     0.8726         15        640: 100%|██████████| 198/198 [00:55<00:00,  3.58it/s]\n",
            "                 Class     Images  Instances      Box(P          R      mAP50  mAP50-95)     Mask(P          R      mAP50  mAP50-95): 100%|██████████| 13/13 [00:03<00:00,  3.32it/s]"
          ]
        },
        {
          "name": "stdout",
          "output_type": "stream",
          "text": [
            "                   all        405        424      0.927      0.904      0.934      0.734       0.92      0.897       0.93      0.733\n"
          ]
        },
        {
          "name": "stderr",
          "output_type": "stream",
          "text": [
            "\n"
          ]
        },
        {
          "name": "stdout",
          "output_type": "stream",
          "text": [
            "\n",
            "      Epoch    GPU_mem   box_loss   seg_loss   cls_loss   dfl_loss  Instances       Size\n"
          ]
        },
        {
          "name": "stderr",
          "output_type": "stream",
          "text": [
            "    303/500      14.6G     0.3554     0.5573     0.2262     0.8722         13        640: 100%|██████████| 198/198 [00:55<00:00,  3.57it/s]\n",
            "                 Class     Images  Instances      Box(P          R      mAP50  mAP50-95)     Mask(P          R      mAP50  mAP50-95): 100%|██████████| 13/13 [00:03<00:00,  3.31it/s]"
          ]
        },
        {
          "name": "stdout",
          "output_type": "stream",
          "text": [
            "                   all        405        424      0.925      0.904      0.936      0.738      0.918      0.897      0.931      0.735\n"
          ]
        },
        {
          "name": "stderr",
          "output_type": "stream",
          "text": [
            "\n"
          ]
        },
        {
          "name": "stdout",
          "output_type": "stream",
          "text": [
            "\n",
            "      Epoch    GPU_mem   box_loss   seg_loss   cls_loss   dfl_loss  Instances       Size\n"
          ]
        },
        {
          "name": "stderr",
          "output_type": "stream",
          "text": [
            "    304/500      14.7G     0.3507     0.5496     0.2167     0.8763         20        640: 100%|██████████| 198/198 [00:55<00:00,  3.58it/s]\n",
            "                 Class     Images  Instances      Box(P          R      mAP50  mAP50-95)     Mask(P          R      mAP50  mAP50-95): 100%|██████████| 13/13 [00:03<00:00,  3.30it/s]"
          ]
        },
        {
          "name": "stdout",
          "output_type": "stream",
          "text": [
            "                   all        405        424      0.925      0.903      0.937      0.739      0.915      0.894      0.932      0.734\n"
          ]
        },
        {
          "name": "stderr",
          "output_type": "stream",
          "text": [
            "\n"
          ]
        },
        {
          "name": "stdout",
          "output_type": "stream",
          "text": [
            "\n",
            "      Epoch    GPU_mem   box_loss   seg_loss   cls_loss   dfl_loss  Instances       Size\n"
          ]
        },
        {
          "name": "stderr",
          "output_type": "stream",
          "text": [
            "    305/500      14.6G     0.3498     0.5527     0.2174     0.8675         22        640: 100%|██████████| 198/198 [00:55<00:00,  3.58it/s]\n",
            "                 Class     Images  Instances      Box(P          R      mAP50  mAP50-95)     Mask(P          R      mAP50  mAP50-95): 100%|██████████| 13/13 [00:03<00:00,  3.31it/s]"
          ]
        },
        {
          "name": "stdout",
          "output_type": "stream",
          "text": [
            "                   all        405        424      0.924      0.903      0.934      0.735      0.914      0.894       0.93      0.732\n"
          ]
        },
        {
          "name": "stderr",
          "output_type": "stream",
          "text": [
            "\n"
          ]
        },
        {
          "name": "stdout",
          "output_type": "stream",
          "text": [
            "\n",
            "      Epoch    GPU_mem   box_loss   seg_loss   cls_loss   dfl_loss  Instances       Size\n"
          ]
        },
        {
          "name": "stderr",
          "output_type": "stream",
          "text": [
            "    306/500      14.6G     0.3542     0.5595     0.2204     0.8781         10        640: 100%|██████████| 198/198 [00:55<00:00,  3.57it/s]\n",
            "                 Class     Images  Instances      Box(P          R      mAP50  mAP50-95)     Mask(P          R      mAP50  mAP50-95): 100%|██████████| 13/13 [00:03<00:00,  3.32it/s]"
          ]
        },
        {
          "name": "stdout",
          "output_type": "stream",
          "text": [
            "                   all        405        424      0.934      0.894      0.936      0.738      0.914      0.894      0.931      0.734\n"
          ]
        },
        {
          "name": "stderr",
          "output_type": "stream",
          "text": [
            "\n"
          ]
        },
        {
          "name": "stdout",
          "output_type": "stream",
          "text": [
            "\u001b[34m\u001b[1mEarlyStopping: \u001b[0mTraining stopped early as no improvement observed in last 100 epochs. Best results observed at epoch 206, best model saved as best.pt.\n",
            "To update EarlyStopping(patience=100) pass a new patience value, i.e. `patience=300` or use `patience=0` to disable EarlyStopping.\n",
            "\n",
            "306 epochs completed in 5.167 hours.\n",
            "Optimizer stripped from runs/segment/train/weights/last.pt, 144.0MB\n",
            "Optimizer stripped from runs/segment/train/weights/best.pt, 144.0MB\n",
            "\n",
            "Validating runs/segment/train/weights/best.pt...\n",
            "Ultralytics 8.3.49 🚀 Python-3.10.12 torch-2.5.1+cu121 CUDA:0 (NVIDIA A100-SXM4-40GB, 40514MiB)\n",
            "YOLOv8x-seg summary (fused): 295 layers, 71,721,619 parameters, 0 gradients, 343.7 GFLOPs\n"
          ]
        },
        {
          "name": "stderr",
          "output_type": "stream",
          "text": [
            "                 Class     Images  Instances      Box(P          R      mAP50  mAP50-95)     Mask(P          R      mAP50  mAP50-95): 100%|██████████| 13/13 [00:04<00:00,  3.06it/s]\n"
          ]
        },
        {
          "name": "stdout",
          "output_type": "stream",
          "text": [
            "                   all        405        424      0.928      0.906      0.939       0.75      0.918      0.897      0.932      0.743\n",
            "Speed: 0.1ms preprocess, 4.1ms inference, 0.0ms loss, 1.1ms postprocess per image\n",
            "Results saved to \u001b[1mruns/segment/train\u001b[0m\n"
          ]
        }
      ],
      "source": [
        "results = model.train(data='data.yaml', epochs=500, imgsz=640)"
      ]
    },
    {
      "cell_type": "code",
      "execution_count": null,
      "metadata": {
        "colab": {
          "background_save": true
        },
        "id": "CO1W1antlnrY",
        "outputId": "9fa469e6-2a8d-4dad-c3a9-98d41d566d8f"
      },
      "outputs": [
        {
          "name": "stdout",
          "output_type": "stream",
          "text": [
            "Ultralytics 8.3.49 🚀 Python-3.10.12 torch-2.5.1+cu121 CUDA:0 (NVIDIA A100-SXM4-40GB, 40514MiB)\n",
            "YOLOv8x-seg summary (fused): 295 layers, 71,721,619 parameters, 0 gradients, 343.7 GFLOPs\n"
          ]
        },
        {
          "name": "stderr",
          "output_type": "stream",
          "text": [
            "\u001b[34m\u001b[1mval: \u001b[0mScanning /content/data/val/labels.cache... 405 images, 0 backgrounds, 0 corrupt: 100%|██████████| 405/405 [00:00<?, ?it/s]\n",
            "                 Class     Images  Instances      Box(P          R      mAP50  mAP50-95)     Mask(P          R      mAP50  mAP50-95): 100%|██████████| 26/26 [00:05<00:00,  4.43it/s]\n"
          ]
        },
        {
          "name": "stdout",
          "output_type": "stream",
          "text": [
            "                   all        405        424      0.928      0.906      0.939      0.748      0.918      0.897      0.931      0.741\n",
            "Speed: 0.2ms preprocess, 6.9ms inference, 0.0ms loss, 1.0ms postprocess per image\n",
            "Results saved to \u001b[1mruns/segment/train2\u001b[0m\n"
          ]
        },
        {
          "data": {
            "text/plain": [
              "ultralytics.utils.metrics.SegmentMetrics object with attributes:\n",
              "\n",
              "ap_class_index: array([0])\n",
              "box: ultralytics.utils.metrics.Metric object\n",
              "confusion_matrix: <ultralytics.utils.metrics.ConfusionMatrix object at 0x7f5af431b850>\n",
              "curves: ['Precision-Recall(B)', 'F1-Confidence(B)', 'Precision-Confidence(B)', 'Recall-Confidence(B)', 'Precision-Recall(M)', 'F1-Confidence(M)', 'Precision-Confidence(M)', 'Recall-Confidence(M)']\n",
              "curves_results: [[array([          0,    0.001001,    0.002002,    0.003003,    0.004004,    0.005005,    0.006006,    0.007007,    0.008008,    0.009009,     0.01001,    0.011011,    0.012012,    0.013013,    0.014014,    0.015015,    0.016016,    0.017017,    0.018018,    0.019019,     0.02002,    0.021021,    0.022022,    0.023023,\n",
              "          0.024024,    0.025025,    0.026026,    0.027027,    0.028028,    0.029029,     0.03003,    0.031031,    0.032032,    0.033033,    0.034034,    0.035035,    0.036036,    0.037037,    0.038038,    0.039039,     0.04004,    0.041041,    0.042042,    0.043043,    0.044044,    0.045045,    0.046046,    0.047047,\n",
              "          0.048048,    0.049049,     0.05005,    0.051051,    0.052052,    0.053053,    0.054054,    0.055055,    0.056056,    0.057057,    0.058058,    0.059059,     0.06006,    0.061061,    0.062062,    0.063063,    0.064064,    0.065065,    0.066066,    0.067067,    0.068068,    0.069069,     0.07007,    0.071071,\n",
              "          0.072072,    0.073073,    0.074074,    0.075075,    0.076076,    0.077077,    0.078078,    0.079079,     0.08008,    0.081081,    0.082082,    0.083083,    0.084084,    0.085085,    0.086086,    0.087087,    0.088088,    0.089089,     0.09009,    0.091091,    0.092092,    0.093093,    0.094094,    0.095095,\n",
              "          0.096096,    0.097097,    0.098098,    0.099099,      0.1001,      0.1011,      0.1021,      0.1031,      0.1041,     0.10511,     0.10611,     0.10711,     0.10811,     0.10911,     0.11011,     0.11111,     0.11211,     0.11311,     0.11411,     0.11512,     0.11612,     0.11712,     0.11812,     0.11912,\n",
              "           0.12012,     0.12112,     0.12212,     0.12312,     0.12412,     0.12513,     0.12613,     0.12713,     0.12813,     0.12913,     0.13013,     0.13113,     0.13213,     0.13313,     0.13413,     0.13514,     0.13614,     0.13714,     0.13814,     0.13914,     0.14014,     0.14114,     0.14214,     0.14314,\n",
              "           0.14414,     0.14515,     0.14615,     0.14715,     0.14815,     0.14915,     0.15015,     0.15115,     0.15215,     0.15315,     0.15415,     0.15516,     0.15616,     0.15716,     0.15816,     0.15916,     0.16016,     0.16116,     0.16216,     0.16316,     0.16416,     0.16517,     0.16617,     0.16717,\n",
              "           0.16817,     0.16917,     0.17017,     0.17117,     0.17217,     0.17317,     0.17417,     0.17518,     0.17618,     0.17718,     0.17818,     0.17918,     0.18018,     0.18118,     0.18218,     0.18318,     0.18418,     0.18519,     0.18619,     0.18719,     0.18819,     0.18919,     0.19019,     0.19119,\n",
              "           0.19219,     0.19319,     0.19419,      0.1952,      0.1962,      0.1972,      0.1982,      0.1992,      0.2002,      0.2012,      0.2022,      0.2032,      0.2042,     0.20521,     0.20621,     0.20721,     0.20821,     0.20921,     0.21021,     0.21121,     0.21221,     0.21321,     0.21421,     0.21522,\n",
              "           0.21622,     0.21722,     0.21822,     0.21922,     0.22022,     0.22122,     0.22222,     0.22322,     0.22422,     0.22523,     0.22623,     0.22723,     0.22823,     0.22923,     0.23023,     0.23123,     0.23223,     0.23323,     0.23423,     0.23524,     0.23624,     0.23724,     0.23824,     0.23924,\n",
              "           0.24024,     0.24124,     0.24224,     0.24324,     0.24424,     0.24525,     0.24625,     0.24725,     0.24825,     0.24925,     0.25025,     0.25125,     0.25225,     0.25325,     0.25425,     0.25526,     0.25626,     0.25726,     0.25826,     0.25926,     0.26026,     0.26126,     0.26226,     0.26326,\n",
              "           0.26426,     0.26527,     0.26627,     0.26727,     0.26827,     0.26927,     0.27027,     0.27127,     0.27227,     0.27327,     0.27427,     0.27528,     0.27628,     0.27728,     0.27828,     0.27928,     0.28028,     0.28128,     0.28228,     0.28328,     0.28428,     0.28529,     0.28629,     0.28729,\n",
              "           0.28829,     0.28929,     0.29029,     0.29129,     0.29229,     0.29329,     0.29429,      0.2953,      0.2963,      0.2973,      0.2983,      0.2993,      0.3003,      0.3013,      0.3023,      0.3033,      0.3043,     0.30531,     0.30631,     0.30731,     0.30831,     0.30931,     0.31031,     0.31131,\n",
              "           0.31231,     0.31331,     0.31431,     0.31532,     0.31632,     0.31732,     0.31832,     0.31932,     0.32032,     0.32132,     0.32232,     0.32332,     0.32432,     0.32533,     0.32633,     0.32733,     0.32833,     0.32933,     0.33033,     0.33133,     0.33233,     0.33333,     0.33433,     0.33534,\n",
              "           0.33634,     0.33734,     0.33834,     0.33934,     0.34034,     0.34134,     0.34234,     0.34334,     0.34434,     0.34535,     0.34635,     0.34735,     0.34835,     0.34935,     0.35035,     0.35135,     0.35235,     0.35335,     0.35435,     0.35536,     0.35636,     0.35736,     0.35836,     0.35936,\n",
              "           0.36036,     0.36136,     0.36236,     0.36336,     0.36436,     0.36537,     0.36637,     0.36737,     0.36837,     0.36937,     0.37037,     0.37137,     0.37237,     0.37337,     0.37437,     0.37538,     0.37638,     0.37738,     0.37838,     0.37938,     0.38038,     0.38138,     0.38238,     0.38338,\n",
              "           0.38438,     0.38539,     0.38639,     0.38739,     0.38839,     0.38939,     0.39039,     0.39139,     0.39239,     0.39339,     0.39439,      0.3954,      0.3964,      0.3974,      0.3984,      0.3994,      0.4004,      0.4014,      0.4024,      0.4034,      0.4044,     0.40541,     0.40641,     0.40741,\n",
              "           0.40841,     0.40941,     0.41041,     0.41141,     0.41241,     0.41341,     0.41441,     0.41542,     0.41642,     0.41742,     0.41842,     0.41942,     0.42042,     0.42142,     0.42242,     0.42342,     0.42442,     0.42543,     0.42643,     0.42743,     0.42843,     0.42943,     0.43043,     0.43143,\n",
              "           0.43243,     0.43343,     0.43443,     0.43544,     0.43644,     0.43744,     0.43844,     0.43944,     0.44044,     0.44144,     0.44244,     0.44344,     0.44444,     0.44545,     0.44645,     0.44745,     0.44845,     0.44945,     0.45045,     0.45145,     0.45245,     0.45345,     0.45445,     0.45546,\n",
              "           0.45646,     0.45746,     0.45846,     0.45946,     0.46046,     0.46146,     0.46246,     0.46346,     0.46446,     0.46547,     0.46647,     0.46747,     0.46847,     0.46947,     0.47047,     0.47147,     0.47247,     0.47347,     0.47447,     0.47548,     0.47648,     0.47748,     0.47848,     0.47948,\n",
              "           0.48048,     0.48148,     0.48248,     0.48348,     0.48448,     0.48549,     0.48649,     0.48749,     0.48849,     0.48949,     0.49049,     0.49149,     0.49249,     0.49349,     0.49449,      0.4955,      0.4965,      0.4975,      0.4985,      0.4995,      0.5005,      0.5015,      0.5025,      0.5035,\n",
              "            0.5045,     0.50551,     0.50651,     0.50751,     0.50851,     0.50951,     0.51051,     0.51151,     0.51251,     0.51351,     0.51451,     0.51552,     0.51652,     0.51752,     0.51852,     0.51952,     0.52052,     0.52152,     0.52252,     0.52352,     0.52452,     0.52553,     0.52653,     0.52753,\n",
              "           0.52853,     0.52953,     0.53053,     0.53153,     0.53253,     0.53353,     0.53453,     0.53554,     0.53654,     0.53754,     0.53854,     0.53954,     0.54054,     0.54154,     0.54254,     0.54354,     0.54454,     0.54555,     0.54655,     0.54755,     0.54855,     0.54955,     0.55055,     0.55155,\n",
              "           0.55255,     0.55355,     0.55455,     0.55556,     0.55656,     0.55756,     0.55856,     0.55956,     0.56056,     0.56156,     0.56256,     0.56356,     0.56456,     0.56557,     0.56657,     0.56757,     0.56857,     0.56957,     0.57057,     0.57157,     0.57257,     0.57357,     0.57457,     0.57558,\n",
              "           0.57658,     0.57758,     0.57858,     0.57958,     0.58058,     0.58158,     0.58258,     0.58358,     0.58458,     0.58559,     0.58659,     0.58759,     0.58859,     0.58959,     0.59059,     0.59159,     0.59259,     0.59359,     0.59459,      0.5956,      0.5966,      0.5976,      0.5986,      0.5996,\n",
              "            0.6006,      0.6016,      0.6026,      0.6036,      0.6046,     0.60561,     0.60661,     0.60761,     0.60861,     0.60961,     0.61061,     0.61161,     0.61261,     0.61361,     0.61461,     0.61562,     0.61662,     0.61762,     0.61862,     0.61962,     0.62062,     0.62162,     0.62262,     0.62362,\n",
              "           0.62462,     0.62563,     0.62663,     0.62763,     0.62863,     0.62963,     0.63063,     0.63163,     0.63263,     0.63363,     0.63463,     0.63564,     0.63664,     0.63764,     0.63864,     0.63964,     0.64064,     0.64164,     0.64264,     0.64364,     0.64464,     0.64565,     0.64665,     0.64765,\n",
              "           0.64865,     0.64965,     0.65065,     0.65165,     0.65265,     0.65365,     0.65465,     0.65566,     0.65666,     0.65766,     0.65866,     0.65966,     0.66066,     0.66166,     0.66266,     0.66366,     0.66466,     0.66567,     0.66667,     0.66767,     0.66867,     0.66967,     0.67067,     0.67167,\n",
              "           0.67267,     0.67367,     0.67467,     0.67568,     0.67668,     0.67768,     0.67868,     0.67968,     0.68068,     0.68168,     0.68268,     0.68368,     0.68468,     0.68569,     0.68669,     0.68769,     0.68869,     0.68969,     0.69069,     0.69169,     0.69269,     0.69369,     0.69469,      0.6957,\n",
              "            0.6967,      0.6977,      0.6987,      0.6997,      0.7007,      0.7017,      0.7027,      0.7037,      0.7047,     0.70571,     0.70671,     0.70771,     0.70871,     0.70971,     0.71071,     0.71171,     0.71271,     0.71371,     0.71471,     0.71572,     0.71672,     0.71772,     0.71872,     0.71972,\n",
              "           0.72072,     0.72172,     0.72272,     0.72372,     0.72472,     0.72573,     0.72673,     0.72773,     0.72873,     0.72973,     0.73073,     0.73173,     0.73273,     0.73373,     0.73473,     0.73574,     0.73674,     0.73774,     0.73874,     0.73974,     0.74074,     0.74174,     0.74274,     0.74374,\n",
              "           0.74474,     0.74575,     0.74675,     0.74775,     0.74875,     0.74975,     0.75075,     0.75175,     0.75275,     0.75375,     0.75475,     0.75576,     0.75676,     0.75776,     0.75876,     0.75976,     0.76076,     0.76176,     0.76276,     0.76376,     0.76476,     0.76577,     0.76677,     0.76777,\n",
              "           0.76877,     0.76977,     0.77077,     0.77177,     0.77277,     0.77377,     0.77477,     0.77578,     0.77678,     0.77778,     0.77878,     0.77978,     0.78078,     0.78178,     0.78278,     0.78378,     0.78478,     0.78579,     0.78679,     0.78779,     0.78879,     0.78979,     0.79079,     0.79179,\n",
              "           0.79279,     0.79379,     0.79479,      0.7958,      0.7968,      0.7978,      0.7988,      0.7998,      0.8008,      0.8018,      0.8028,      0.8038,      0.8048,     0.80581,     0.80681,     0.80781,     0.80881,     0.80981,     0.81081,     0.81181,     0.81281,     0.81381,     0.81481,     0.81582,\n",
              "           0.81682,     0.81782,     0.81882,     0.81982,     0.82082,     0.82182,     0.82282,     0.82382,     0.82482,     0.82583,     0.82683,     0.82783,     0.82883,     0.82983,     0.83083,     0.83183,     0.83283,     0.83383,     0.83483,     0.83584,     0.83684,     0.83784,     0.83884,     0.83984,\n",
              "           0.84084,     0.84184,     0.84284,     0.84384,     0.84484,     0.84585,     0.84685,     0.84785,     0.84885,     0.84985,     0.85085,     0.85185,     0.85285,     0.85385,     0.85485,     0.85586,     0.85686,     0.85786,     0.85886,     0.85986,     0.86086,     0.86186,     0.86286,     0.86386,\n",
              "           0.86486,     0.86587,     0.86687,     0.86787,     0.86887,     0.86987,     0.87087,     0.87187,     0.87287,     0.87387,     0.87487,     0.87588,     0.87688,     0.87788,     0.87888,     0.87988,     0.88088,     0.88188,     0.88288,     0.88388,     0.88488,     0.88589,     0.88689,     0.88789,\n",
              "           0.88889,     0.88989,     0.89089,     0.89189,     0.89289,     0.89389,     0.89489,      0.8959,      0.8969,      0.8979,      0.8989,      0.8999,      0.9009,      0.9019,      0.9029,      0.9039,      0.9049,     0.90591,     0.90691,     0.90791,     0.90891,     0.90991,     0.91091,     0.91191,\n",
              "           0.91291,     0.91391,     0.91491,     0.91592,     0.91692,     0.91792,     0.91892,     0.91992,     0.92092,     0.92192,     0.92292,     0.92392,     0.92492,     0.92593,     0.92693,     0.92793,     0.92893,     0.92993,     0.93093,     0.93193,     0.93293,     0.93393,     0.93493,     0.93594,\n",
              "           0.93694,     0.93794,     0.93894,     0.93994,     0.94094,     0.94194,     0.94294,     0.94394,     0.94494,     0.94595,     0.94695,     0.94795,     0.94895,     0.94995,     0.95095,     0.95195,     0.95295,     0.95395,     0.95495,     0.95596,     0.95696,     0.95796,     0.95896,     0.95996,\n",
              "           0.96096,     0.96196,     0.96296,     0.96396,     0.96496,     0.96597,     0.96697,     0.96797,     0.96897,     0.96997,     0.97097,     0.97197,     0.97297,     0.97397,     0.97497,     0.97598,     0.97698,     0.97798,     0.97898,     0.97998,     0.98098,     0.98198,     0.98298,     0.98398,\n",
              "           0.98498,     0.98599,     0.98699,     0.98799,     0.98899,     0.98999,     0.99099,     0.99199,     0.99299,     0.99399,     0.99499,       0.996,       0.997,       0.998,       0.999,           1]), array([[          1,           1,           1,           1,           1,           1,           1,           1,           1,           1,           1,           1,           1,           1,           1,           1,           1,           1,           1,           1,           1,           1,           1,\n",
              "                  1,           1,           1,           1,           1,           1,           1,           1,           1,           1,           1,           1,           1,           1,           1,           1,           1,           1,           1,           1,           1,           1,           1,\n",
              "                  1,           1,           1,           1,           1,           1,           1,           1,           1,           1,           1,           1,           1,           1,           1,           1,           1,           1,           1,           1,           1,           1,           1,\n",
              "                  1,           1,           1,           1,           1,           1,           1,           1,           1,           1,           1,           1,           1,           1,           1,           1,           1,           1,           1,           1,           1,           1,           1,\n",
              "                  1,           1,           1,           1,           1,           1,           1,           1,           1,           1,           1,           1,           1,           1,           1,           1,           1,           1,           1,           1,           1,           1,           1,\n",
              "                  1,           1,           1,           1,           1,           1,           1,           1,           1,           1,           1,           1,           1,           1,           1,           1,           1,           1,           1,           1,           1,           1,           1,\n",
              "                  1,           1,           1,           1,           1,           1,           1,           1,           1,           1,           1,           1,           1,           1,           1,           1,           1,           1,     0.98795,     0.98795,     0.98795,     0.98795,     0.98795,\n",
              "            0.98795,     0.98795,     0.98795,     0.98795,     0.98795,     0.98795,     0.98795,     0.98795,     0.98795,     0.98795,     0.98795,     0.98795,     0.98795,     0.98795,     0.98795,     0.98795,     0.98795,     0.98795,     0.98795,     0.98795,     0.98795,     0.98795,     0.98795,\n",
              "            0.98795,     0.98795,     0.98795,     0.98795,     0.98795,     0.98795,     0.98795,     0.98795,     0.98795,     0.98795,     0.98611,     0.98611,     0.98611,     0.98611,     0.98611,     0.98611,     0.98611,     0.98611,     0.98611,     0.98611,     0.98611,     0.98611,     0.98611,\n",
              "            0.98611,     0.98611,     0.98611,     0.98611,     0.98611,     0.98611,     0.98611,     0.98611,     0.98611,     0.98611,     0.98611,     0.98611,     0.98611,     0.98611,     0.98611,     0.98611,     0.98611,     0.98611,     0.98611,     0.98611,     0.98611,     0.98611,     0.98611,\n",
              "            0.98611,     0.98611,     0.98611,     0.98611,     0.98611,     0.98611,     0.98611,     0.98611,     0.98611,     0.98611,     0.98611,     0.98611,     0.98611,     0.98611,     0.98611,     0.98611,     0.98611,     0.98611,     0.98611,     0.98611,     0.98611,     0.98611,     0.98611,\n",
              "            0.98611,     0.98611,     0.98611,     0.98611,     0.98611,     0.98611,     0.98611,     0.98611,     0.98611,     0.98611,     0.98611,     0.98611,     0.98611,     0.98611,     0.98611,     0.98611,     0.98611,     0.98611,     0.98611,     0.98611,     0.98611,     0.98611,     0.98611,\n",
              "            0.98611,     0.98611,     0.98611,     0.98611,     0.98611,     0.98611,     0.98611,     0.98611,     0.98611,     0.98611,     0.98611,     0.98611,     0.98611,     0.98611,     0.98611,     0.98611,     0.98611,     0.98611,     0.98611,     0.98611,     0.98611,     0.98611,     0.98611,\n",
              "            0.98611,     0.98611,     0.98611,     0.98611,     0.98611,     0.98611,     0.98611,     0.98611,     0.98611,     0.98611,     0.98611,     0.98611,     0.98611,     0.98611,     0.98611,     0.98611,     0.98611,     0.98611,     0.98611,     0.98611,     0.98611,     0.98611,     0.98611,\n",
              "            0.98611,     0.98611,     0.98611,     0.98611,     0.98611,     0.98611,     0.98611,     0.98611,     0.98611,     0.98611,     0.98611,     0.98611,     0.98611,     0.98286,     0.98286,     0.98286,     0.98286,     0.98286,     0.98286,     0.98286,     0.98286,     0.98286,     0.98286,\n",
              "            0.98286,     0.98286,     0.98286,     0.98286,     0.98286,     0.98286,     0.98286,     0.98286,     0.98286,     0.98286,     0.98286,     0.98286,     0.98286,     0.98286,     0.98286,     0.98286,     0.98286,     0.98286,     0.98286,     0.98286,     0.98286,     0.98286,     0.98286,\n",
              "            0.98286,     0.98286,     0.98286,     0.98286,     0.98286,     0.98286,     0.98286,     0.98286,     0.98286,     0.98286,     0.98286,     0.98286,     0.98286,     0.98286,     0.98286,     0.98286,     0.98286,     0.98286,     0.98286,     0.98286,     0.98286,     0.98286,     0.98286,\n",
              "            0.98286,     0.98286,     0.98286,     0.98286,     0.98286,     0.98286,     0.98286,     0.98286,     0.98286,     0.98286,     0.98286,     0.98286,     0.98286,     0.98286,     0.98286,      0.9823,      0.9823,      0.9823,      0.9823,      0.9823,      0.9823,      0.9823,      0.9823,\n",
              "             0.9823,      0.9823,      0.9823,      0.9823,      0.9823,      0.9823,      0.9823,      0.9823,      0.9823,      0.9823,      0.9823,      0.9823,      0.9823,      0.9823,      0.9823,      0.9823,      0.9823,      0.9823,      0.9823,      0.9823,      0.9823,      0.9823,      0.9823,\n",
              "             0.9823,      0.9823,      0.9823,      0.9823,      0.9823,      0.9823,      0.9823,      0.9823,      0.9823,      0.9823,      0.9823,      0.9823,      0.9823,      0.9823,      0.9823,      0.9823,      0.9823,      0.9823,      0.9823,      0.9823,      0.9823,      0.9823,      0.9823,\n",
              "             0.9823,      0.9823,      0.9823,      0.9823,      0.9823,      0.9823,      0.9823,      0.9823,      0.9823,      0.9823,      0.9823,      0.9823,      0.9823,      0.9823,      0.9823,      0.9823,      0.9823,      0.9823,      0.9823,      0.9823,      0.9823,      0.9823,      0.9823,\n",
              "             0.9823,      0.9823,      0.9823,      0.9823,      0.9823,      0.9823,      0.9823,      0.9823,      0.9823,      0.9823,      0.9823,      0.9823,      0.9823,      0.9823,      0.9823,      0.9823,      0.9823,      0.9823,      0.9823,      0.9823,      0.9823,      0.9823,      0.9823,\n",
              "             0.9823,      0.9823,      0.9823,      0.9823,      0.9823,      0.9823,      0.9823,      0.9823,      0.9823,      0.9823,      0.9823,      0.9823,      0.9823,      0.9823,      0.9823,      0.9823,      0.9823,      0.9823,     0.97845,     0.97845,     0.97845,     0.97845,     0.97845,\n",
              "            0.97845,     0.97845,     0.97845,     0.97845,     0.97845,     0.97845,     0.97719,     0.97719,     0.97719,     0.97719,     0.97719,     0.97719,     0.97719,     0.97719,     0.97719,     0.97719,     0.97719,     0.97719,     0.97719,     0.97719,     0.97719,     0.97719,     0.97719,\n",
              "            0.97719,     0.97719,     0.97719,     0.97719,     0.97719,     0.97719,     0.97719,     0.97719,     0.97719,     0.97719,     0.97719,     0.97719,     0.97719,     0.97719,     0.97719,     0.97719,     0.97719,     0.97719,     0.97719,     0.97719,     0.97719,     0.97719,     0.97719,\n",
              "            0.97719,     0.97719,     0.97719,     0.97719,     0.97719,     0.97719,     0.97719,     0.97719,     0.97719,     0.97719,     0.97719,     0.97719,     0.97719,     0.97719,     0.97719,     0.97719,     0.97719,     0.97719,     0.97719,     0.97719,     0.97719,     0.97719,     0.97719,\n",
              "            0.97719,     0.97719,     0.97719,     0.97719,     0.97719,     0.97719,     0.97719,     0.97719,     0.97464,     0.97464,     0.97464,     0.97464,     0.97464,     0.97464,     0.97464,     0.97464,     0.97464,     0.97464,     0.97464,     0.97464,     0.97464,     0.97464,     0.97464,\n",
              "            0.97464,     0.97464,     0.97464,     0.97464,     0.97464,     0.97464,     0.97464,     0.97464,     0.97464,     0.97464,     0.97464,     0.97464,     0.97464,     0.97377,     0.97377,     0.97377,     0.97377,     0.97377,     0.97377,     0.97377,     0.97377,     0.97377,     0.97377,\n",
              "            0.97377,     0.97377,     0.97377,     0.97377,     0.97377,     0.97377,     0.97377,     0.97377,     0.97377,     0.97377,     0.97377,     0.97377,     0.97377,     0.97377,     0.97377,     0.97377,     0.97377,     0.97377,     0.97377,     0.97377,     0.97377,     0.97377,     0.97377,\n",
              "            0.97377,     0.97377,     0.97377,     0.97377,     0.97377,     0.97377,     0.97377,     0.97377,     0.97377,     0.97377,     0.97377,     0.97377,     0.97377,     0.97377,     0.97377,     0.97377,     0.97377,     0.97377,     0.97377,     0.97377,     0.97377,     0.97377,     0.97377,\n",
              "            0.97377,     0.97377,     0.97377,     0.97377,     0.97377,     0.97377,     0.97377,     0.97377,     0.97377,     0.97377,     0.97125,     0.97125,     0.97125,     0.97125,     0.97125,     0.97125,     0.97125,     0.97125,     0.97125,     0.97125,     0.97125,     0.97125,     0.97125,\n",
              "            0.97125,     0.97125,     0.97125,     0.97125,     0.96835,     0.96835,     0.96835,     0.96835,     0.96812,     0.96812,     0.96812,     0.96812,     0.96812,     0.96812,     0.96812,     0.96812,     0.96812,     0.96812,     0.96812,     0.96812,     0.96812,     0.96812,     0.96812,\n",
              "            0.96812,     0.96812,     0.96812,     0.96812,     0.96812,     0.96812,     0.96812,     0.96812,     0.96812,     0.96812,     0.96812,     0.96812,     0.96812,     0.96812,     0.96812,     0.96812,     0.96812,     0.96812,     0.96812,     0.96812,     0.96812,     0.96812,     0.96812,\n",
              "            0.96812,     0.96812,     0.96812,     0.96812,     0.96812,     0.96812,     0.96812,     0.96812,     0.96812,     0.96812,     0.96812,     0.96812,     0.96812,     0.96812,     0.96812,     0.96812,     0.96812,     0.96812,     0.96812,     0.96812,     0.96812,     0.96812,     0.96812,\n",
              "            0.96812,     0.96812,     0.96812,     0.96812,     0.96812,     0.96685,     0.96685,     0.96685,     0.96685,     0.96685,     0.96685,     0.96685,     0.96685,     0.96685,     0.96685,     0.96685,     0.96685,     0.96685,     0.96685,     0.96685,     0.96685,     0.96685,     0.96685,\n",
              "            0.96685,     0.96685,     0.96685,     0.96685,     0.96685,     0.96685,     0.96685,     0.96685,     0.96685,     0.96685,     0.96685,     0.96685,     0.96685,     0.96685,     0.96685,     0.96685,     0.96685,     0.96685,     0.96685,     0.96685,     0.96438,     0.96438,     0.96438,\n",
              "            0.96438,     0.96438,     0.95935,     0.95935,     0.95935,     0.95935,     0.95935,     0.95687,     0.95687,     0.95455,     0.95455,     0.95455,     0.95455,     0.95455,     0.95288,     0.95288,     0.95288,     0.95288,     0.95288,     0.95288,     0.95288,     0.95288,     0.95288,\n",
              "            0.95288,     0.95288,     0.95288,     0.95288,     0.95288,     0.95288,     0.95288,     0.95116,     0.95116,     0.95116,     0.95116,     0.95116,     0.95116,     0.95116,     0.95116,     0.95116,     0.95116,     0.95116,     0.95116,     0.95116,     0.95116,     0.94924,     0.94924,\n",
              "            0.94924,     0.94924,     0.94924,     0.94924,     0.94924,     0.94924,     0.94924,     0.94924,     0.94221,     0.94221,        0.94,        0.94,     0.93827,     0.93827,     0.93827,     0.93827,     0.93827,     0.93827,     0.93827,     0.93827,     0.93827,     0.93827,     0.93627,\n",
              "            0.93627,     0.93627,     0.93627,     0.93627,     0.93187,     0.93187,     0.92771,     0.92771,     0.92771,     0.92771,     0.92771,     0.91905,     0.91905,     0.91059,     0.91059,     0.90023,     0.90023,     0.90023,     0.89425,     0.89425,     0.86475,     0.86475,     0.86313,\n",
              "            0.86313,     0.86313,      0.8394,      0.8394,      0.8239,      0.8239,     0.81743,     0.81743,     0.81743,     0.79637,     0.79637,       0.792,       0.792,       0.792,     0.75908,     0.75908,     0.75236,     0.75236,     0.73481,     0.73481,     0.73481,     0.70053,     0.70053,\n",
              "            0.68547,     0.68547,     0.67612,      0.6636,     0.65108,     0.63856,     0.62604,     0.61352,     0.60099,     0.58847,     0.57595,     0.56343,     0.55091,     0.53839,     0.52587,     0.51335,     0.50083,     0.48831,     0.47579,     0.46327,     0.45075,     0.43823,      0.4257,\n",
              "            0.41318,     0.40066,     0.38814,     0.37562,      0.3631,     0.35058,     0.33806,     0.32554,     0.31302,      0.3005,     0.28798,     0.27546,     0.26294,     0.25041,     0.23789,     0.22537,     0.21285,     0.20033,     0.18781,     0.17529,     0.16277,     0.15025,     0.13773,\n",
              "            0.12521,     0.11269,     0.10017,    0.087645,    0.075124,    0.062604,    0.050083,    0.037562,    0.025041,    0.012521,           0]]), 'Recall', 'Precision'], [array([          0,    0.001001,    0.002002,    0.003003,    0.004004,    0.005005,    0.006006,    0.007007,    0.008008,    0.009009,     0.01001,    0.011011,    0.012012,    0.013013,    0.014014,    0.015015,    0.016016,    0.017017,    0.018018,    0.019019,     0.02002,    0.021021,    0.022022,    0.023023,\n",
              "          0.024024,    0.025025,    0.026026,    0.027027,    0.028028,    0.029029,     0.03003,    0.031031,    0.032032,    0.033033,    0.034034,    0.035035,    0.036036,    0.037037,    0.038038,    0.039039,     0.04004,    0.041041,    0.042042,    0.043043,    0.044044,    0.045045,    0.046046,    0.047047,\n",
              "          0.048048,    0.049049,     0.05005,    0.051051,    0.052052,    0.053053,    0.054054,    0.055055,    0.056056,    0.057057,    0.058058,    0.059059,     0.06006,    0.061061,    0.062062,    0.063063,    0.064064,    0.065065,    0.066066,    0.067067,    0.068068,    0.069069,     0.07007,    0.071071,\n",
              "          0.072072,    0.073073,    0.074074,    0.075075,    0.076076,    0.077077,    0.078078,    0.079079,     0.08008,    0.081081,    0.082082,    0.083083,    0.084084,    0.085085,    0.086086,    0.087087,    0.088088,    0.089089,     0.09009,    0.091091,    0.092092,    0.093093,    0.094094,    0.095095,\n",
              "          0.096096,    0.097097,    0.098098,    0.099099,      0.1001,      0.1011,      0.1021,      0.1031,      0.1041,     0.10511,     0.10611,     0.10711,     0.10811,     0.10911,     0.11011,     0.11111,     0.11211,     0.11311,     0.11411,     0.11512,     0.11612,     0.11712,     0.11812,     0.11912,\n",
              "           0.12012,     0.12112,     0.12212,     0.12312,     0.12412,     0.12513,     0.12613,     0.12713,     0.12813,     0.12913,     0.13013,     0.13113,     0.13213,     0.13313,     0.13413,     0.13514,     0.13614,     0.13714,     0.13814,     0.13914,     0.14014,     0.14114,     0.14214,     0.14314,\n",
              "           0.14414,     0.14515,     0.14615,     0.14715,     0.14815,     0.14915,     0.15015,     0.15115,     0.15215,     0.15315,     0.15415,     0.15516,     0.15616,     0.15716,     0.15816,     0.15916,     0.16016,     0.16116,     0.16216,     0.16316,     0.16416,     0.16517,     0.16617,     0.16717,\n",
              "           0.16817,     0.16917,     0.17017,     0.17117,     0.17217,     0.17317,     0.17417,     0.17518,     0.17618,     0.17718,     0.17818,     0.17918,     0.18018,     0.18118,     0.18218,     0.18318,     0.18418,     0.18519,     0.18619,     0.18719,     0.18819,     0.18919,     0.19019,     0.19119,\n",
              "           0.19219,     0.19319,     0.19419,      0.1952,      0.1962,      0.1972,      0.1982,      0.1992,      0.2002,      0.2012,      0.2022,      0.2032,      0.2042,     0.20521,     0.20621,     0.20721,     0.20821,     0.20921,     0.21021,     0.21121,     0.21221,     0.21321,     0.21421,     0.21522,\n",
              "           0.21622,     0.21722,     0.21822,     0.21922,     0.22022,     0.22122,     0.22222,     0.22322,     0.22422,     0.22523,     0.22623,     0.22723,     0.22823,     0.22923,     0.23023,     0.23123,     0.23223,     0.23323,     0.23423,     0.23524,     0.23624,     0.23724,     0.23824,     0.23924,\n",
              "           0.24024,     0.24124,     0.24224,     0.24324,     0.24424,     0.24525,     0.24625,     0.24725,     0.24825,     0.24925,     0.25025,     0.25125,     0.25225,     0.25325,     0.25425,     0.25526,     0.25626,     0.25726,     0.25826,     0.25926,     0.26026,     0.26126,     0.26226,     0.26326,\n",
              "           0.26426,     0.26527,     0.26627,     0.26727,     0.26827,     0.26927,     0.27027,     0.27127,     0.27227,     0.27327,     0.27427,     0.27528,     0.27628,     0.27728,     0.27828,     0.27928,     0.28028,     0.28128,     0.28228,     0.28328,     0.28428,     0.28529,     0.28629,     0.28729,\n",
              "           0.28829,     0.28929,     0.29029,     0.29129,     0.29229,     0.29329,     0.29429,      0.2953,      0.2963,      0.2973,      0.2983,      0.2993,      0.3003,      0.3013,      0.3023,      0.3033,      0.3043,     0.30531,     0.30631,     0.30731,     0.30831,     0.30931,     0.31031,     0.31131,\n",
              "           0.31231,     0.31331,     0.31431,     0.31532,     0.31632,     0.31732,     0.31832,     0.31932,     0.32032,     0.32132,     0.32232,     0.32332,     0.32432,     0.32533,     0.32633,     0.32733,     0.32833,     0.32933,     0.33033,     0.33133,     0.33233,     0.33333,     0.33433,     0.33534,\n",
              "           0.33634,     0.33734,     0.33834,     0.33934,     0.34034,     0.34134,     0.34234,     0.34334,     0.34434,     0.34535,     0.34635,     0.34735,     0.34835,     0.34935,     0.35035,     0.35135,     0.35235,     0.35335,     0.35435,     0.35536,     0.35636,     0.35736,     0.35836,     0.35936,\n",
              "           0.36036,     0.36136,     0.36236,     0.36336,     0.36436,     0.36537,     0.36637,     0.36737,     0.36837,     0.36937,     0.37037,     0.37137,     0.37237,     0.37337,     0.37437,     0.37538,     0.37638,     0.37738,     0.37838,     0.37938,     0.38038,     0.38138,     0.38238,     0.38338,\n",
              "           0.38438,     0.38539,     0.38639,     0.38739,     0.38839,     0.38939,     0.39039,     0.39139,     0.39239,     0.39339,     0.39439,      0.3954,      0.3964,      0.3974,      0.3984,      0.3994,      0.4004,      0.4014,      0.4024,      0.4034,      0.4044,     0.40541,     0.40641,     0.40741,\n",
              "           0.40841,     0.40941,     0.41041,     0.41141,     0.41241,     0.41341,     0.41441,     0.41542,     0.41642,     0.41742,     0.41842,     0.41942,     0.42042,     0.42142,     0.42242,     0.42342,     0.42442,     0.42543,     0.42643,     0.42743,     0.42843,     0.42943,     0.43043,     0.43143,\n",
              "           0.43243,     0.43343,     0.43443,     0.43544,     0.43644,     0.43744,     0.43844,     0.43944,     0.44044,     0.44144,     0.44244,     0.44344,     0.44444,     0.44545,     0.44645,     0.44745,     0.44845,     0.44945,     0.45045,     0.45145,     0.45245,     0.45345,     0.45445,     0.45546,\n",
              "           0.45646,     0.45746,     0.45846,     0.45946,     0.46046,     0.46146,     0.46246,     0.46346,     0.46446,     0.46547,     0.46647,     0.46747,     0.46847,     0.46947,     0.47047,     0.47147,     0.47247,     0.47347,     0.47447,     0.47548,     0.47648,     0.47748,     0.47848,     0.47948,\n",
              "           0.48048,     0.48148,     0.48248,     0.48348,     0.48448,     0.48549,     0.48649,     0.48749,     0.48849,     0.48949,     0.49049,     0.49149,     0.49249,     0.49349,     0.49449,      0.4955,      0.4965,      0.4975,      0.4985,      0.4995,      0.5005,      0.5015,      0.5025,      0.5035,\n",
              "            0.5045,     0.50551,     0.50651,     0.50751,     0.50851,     0.50951,     0.51051,     0.51151,     0.51251,     0.51351,     0.51451,     0.51552,     0.51652,     0.51752,     0.51852,     0.51952,     0.52052,     0.52152,     0.52252,     0.52352,     0.52452,     0.52553,     0.52653,     0.52753,\n",
              "           0.52853,     0.52953,     0.53053,     0.53153,     0.53253,     0.53353,     0.53453,     0.53554,     0.53654,     0.53754,     0.53854,     0.53954,     0.54054,     0.54154,     0.54254,     0.54354,     0.54454,     0.54555,     0.54655,     0.54755,     0.54855,     0.54955,     0.55055,     0.55155,\n",
              "           0.55255,     0.55355,     0.55455,     0.55556,     0.55656,     0.55756,     0.55856,     0.55956,     0.56056,     0.56156,     0.56256,     0.56356,     0.56456,     0.56557,     0.56657,     0.56757,     0.56857,     0.56957,     0.57057,     0.57157,     0.57257,     0.57357,     0.57457,     0.57558,\n",
              "           0.57658,     0.57758,     0.57858,     0.57958,     0.58058,     0.58158,     0.58258,     0.58358,     0.58458,     0.58559,     0.58659,     0.58759,     0.58859,     0.58959,     0.59059,     0.59159,     0.59259,     0.59359,     0.59459,      0.5956,      0.5966,      0.5976,      0.5986,      0.5996,\n",
              "            0.6006,      0.6016,      0.6026,      0.6036,      0.6046,     0.60561,     0.60661,     0.60761,     0.60861,     0.60961,     0.61061,     0.61161,     0.61261,     0.61361,     0.61461,     0.61562,     0.61662,     0.61762,     0.61862,     0.61962,     0.62062,     0.62162,     0.62262,     0.62362,\n",
              "           0.62462,     0.62563,     0.62663,     0.62763,     0.62863,     0.62963,     0.63063,     0.63163,     0.63263,     0.63363,     0.63463,     0.63564,     0.63664,     0.63764,     0.63864,     0.63964,     0.64064,     0.64164,     0.64264,     0.64364,     0.64464,     0.64565,     0.64665,     0.64765,\n",
              "           0.64865,     0.64965,     0.65065,     0.65165,     0.65265,     0.65365,     0.65465,     0.65566,     0.65666,     0.65766,     0.65866,     0.65966,     0.66066,     0.66166,     0.66266,     0.66366,     0.66466,     0.66567,     0.66667,     0.66767,     0.66867,     0.66967,     0.67067,     0.67167,\n",
              "           0.67267,     0.67367,     0.67467,     0.67568,     0.67668,     0.67768,     0.67868,     0.67968,     0.68068,     0.68168,     0.68268,     0.68368,     0.68468,     0.68569,     0.68669,     0.68769,     0.68869,     0.68969,     0.69069,     0.69169,     0.69269,     0.69369,     0.69469,      0.6957,\n",
              "            0.6967,      0.6977,      0.6987,      0.6997,      0.7007,      0.7017,      0.7027,      0.7037,      0.7047,     0.70571,     0.70671,     0.70771,     0.70871,     0.70971,     0.71071,     0.71171,     0.71271,     0.71371,     0.71471,     0.71572,     0.71672,     0.71772,     0.71872,     0.71972,\n",
              "           0.72072,     0.72172,     0.72272,     0.72372,     0.72472,     0.72573,     0.72673,     0.72773,     0.72873,     0.72973,     0.73073,     0.73173,     0.73273,     0.73373,     0.73473,     0.73574,     0.73674,     0.73774,     0.73874,     0.73974,     0.74074,     0.74174,     0.74274,     0.74374,\n",
              "           0.74474,     0.74575,     0.74675,     0.74775,     0.74875,     0.74975,     0.75075,     0.75175,     0.75275,     0.75375,     0.75475,     0.75576,     0.75676,     0.75776,     0.75876,     0.75976,     0.76076,     0.76176,     0.76276,     0.76376,     0.76476,     0.76577,     0.76677,     0.76777,\n",
              "           0.76877,     0.76977,     0.77077,     0.77177,     0.77277,     0.77377,     0.77477,     0.77578,     0.77678,     0.77778,     0.77878,     0.77978,     0.78078,     0.78178,     0.78278,     0.78378,     0.78478,     0.78579,     0.78679,     0.78779,     0.78879,     0.78979,     0.79079,     0.79179,\n",
              "           0.79279,     0.79379,     0.79479,      0.7958,      0.7968,      0.7978,      0.7988,      0.7998,      0.8008,      0.8018,      0.8028,      0.8038,      0.8048,     0.80581,     0.80681,     0.80781,     0.80881,     0.80981,     0.81081,     0.81181,     0.81281,     0.81381,     0.81481,     0.81582,\n",
              "           0.81682,     0.81782,     0.81882,     0.81982,     0.82082,     0.82182,     0.82282,     0.82382,     0.82482,     0.82583,     0.82683,     0.82783,     0.82883,     0.82983,     0.83083,     0.83183,     0.83283,     0.83383,     0.83483,     0.83584,     0.83684,     0.83784,     0.83884,     0.83984,\n",
              "           0.84084,     0.84184,     0.84284,     0.84384,     0.84484,     0.84585,     0.84685,     0.84785,     0.84885,     0.84985,     0.85085,     0.85185,     0.85285,     0.85385,     0.85485,     0.85586,     0.85686,     0.85786,     0.85886,     0.85986,     0.86086,     0.86186,     0.86286,     0.86386,\n",
              "           0.86486,     0.86587,     0.86687,     0.86787,     0.86887,     0.86987,     0.87087,     0.87187,     0.87287,     0.87387,     0.87487,     0.87588,     0.87688,     0.87788,     0.87888,     0.87988,     0.88088,     0.88188,     0.88288,     0.88388,     0.88488,     0.88589,     0.88689,     0.88789,\n",
              "           0.88889,     0.88989,     0.89089,     0.89189,     0.89289,     0.89389,     0.89489,      0.8959,      0.8969,      0.8979,      0.8989,      0.8999,      0.9009,      0.9019,      0.9029,      0.9039,      0.9049,     0.90591,     0.90691,     0.90791,     0.90891,     0.90991,     0.91091,     0.91191,\n",
              "           0.91291,     0.91391,     0.91491,     0.91592,     0.91692,     0.91792,     0.91892,     0.91992,     0.92092,     0.92192,     0.92292,     0.92392,     0.92492,     0.92593,     0.92693,     0.92793,     0.92893,     0.92993,     0.93093,     0.93193,     0.93293,     0.93393,     0.93493,     0.93594,\n",
              "           0.93694,     0.93794,     0.93894,     0.93994,     0.94094,     0.94194,     0.94294,     0.94394,     0.94494,     0.94595,     0.94695,     0.94795,     0.94895,     0.94995,     0.95095,     0.95195,     0.95295,     0.95395,     0.95495,     0.95596,     0.95696,     0.95796,     0.95896,     0.95996,\n",
              "           0.96096,     0.96196,     0.96296,     0.96396,     0.96496,     0.96597,     0.96697,     0.96797,     0.96897,     0.96997,     0.97097,     0.97197,     0.97297,     0.97397,     0.97497,     0.97598,     0.97698,     0.97798,     0.97898,     0.97998,     0.98098,     0.98198,     0.98298,     0.98398,\n",
              "           0.98498,     0.98599,     0.98699,     0.98799,     0.98899,     0.98999,     0.99099,     0.99199,     0.99299,     0.99399,     0.99499,       0.996,       0.997,       0.998,       0.999,           1]), array([[    0.79015,     0.79015,     0.82518,     0.83733,     0.84554,     0.85665,     0.85866,     0.86507,     0.86785,     0.87083,     0.87142,     0.87347,     0.87502,     0.87548,     0.87595,     0.87906,     0.87946,     0.87986,      0.8815,     0.88229,      0.8834,     0.88415,     0.88576,\n",
              "            0.88852,     0.89126,     0.89134,     0.89019,     0.89054,      0.8909,      0.8913,     0.89188,     0.89261,     0.89343,     0.89408,     0.89648,     0.89684,      0.8972,     0.89824,     0.89881,     0.89927,      0.9002,     0.90084,     0.90133,       0.902,     0.90271,      0.9033,\n",
              "             0.9047,     0.90505,      0.9054,     0.90569,     0.90556,     0.90543,     0.90531,     0.90518,     0.90506,     0.90493,      0.9048,     0.90468,     0.90455,     0.90445,     0.90563,     0.90617,     0.90658,     0.90672,     0.90686,     0.90699,     0.90713,     0.90727,      0.9074,\n",
              "            0.90754,     0.90758,     0.90753,     0.90748,     0.90743,     0.90737,     0.90732,     0.90727,     0.90722,     0.90717,     0.90712,     0.90707,     0.90702,     0.90697,     0.90692,     0.90687,     0.90682,     0.90677,     0.90672,     0.90667,     0.90662,     0.90657,     0.90652,\n",
              "            0.90647,     0.90642,     0.90637,     0.90636,     0.90751,     0.90829,     0.90861,     0.90882,     0.90902,     0.90923,     0.90944,     0.90959,      0.9097,     0.90981,     0.90992,     0.91004,     0.91015,     0.91026,     0.91037,     0.91048,     0.91059,     0.91065,     0.91071,\n",
              "            0.91077,     0.91083,     0.91089,     0.91095,     0.91101,     0.91107,     0.91112,     0.91118,     0.91124,      0.9113,     0.91136,     0.91142,     0.91148,     0.91154,      0.9116,     0.91166,     0.91163,     0.91159,     0.91155,     0.91151,     0.91147,     0.91144,      0.9114,\n",
              "            0.91136,     0.91132,     0.91128,     0.91125,     0.91121,     0.91117,     0.91113,      0.9111,     0.91106,     0.91102,     0.91098,     0.91094,     0.91091,     0.91087,     0.91083,     0.91079,     0.91075,     0.91072,     0.91068,     0.91064,      0.9106,     0.91056,     0.91053,\n",
              "            0.91049,     0.91045,     0.91041,     0.91039,     0.91065,      0.9109,     0.91115,      0.9114,     0.91151,     0.91157,     0.91164,     0.91171,     0.91177,     0.91184,     0.91191,     0.91198,     0.91204,     0.91211,     0.91218,     0.91224,     0.91231,     0.91238,     0.91244,\n",
              "            0.91251,     0.91258,     0.91265,     0.91272,      0.9128,     0.91287,     0.91294,     0.91301,     0.91308,     0.91315,     0.91323,      0.9133,     0.91337,     0.91344,     0.91351,     0.91358,     0.91372,     0.91389,     0.91405,     0.91422,     0.91439,     0.91455,     0.91445,\n",
              "            0.91341,     0.91345,     0.91348,     0.91351,     0.91355,     0.91358,     0.91361,     0.91364,     0.91368,     0.91371,     0.91374,     0.91378,     0.91381,     0.91384,     0.91388,     0.91391,     0.91394,     0.91398,     0.91401,     0.91404,     0.91407,     0.91411,     0.91414,\n",
              "            0.91417,     0.91421,     0.91424,     0.91427,     0.91431,     0.91434,     0.91437,      0.9144,     0.91444,     0.91447,     0.91453,     0.91463,     0.91472,     0.91482,     0.91491,     0.91501,      0.9151,      0.9152,     0.91529,     0.91539,     0.91548,     0.91558,      0.9158,\n",
              "            0.91601,     0.91623,     0.91644,     0.91666,     0.91669,     0.91671,     0.91673,     0.91675,     0.91677,      0.9168,     0.91682,     0.91684,     0.91686,     0.91688,      0.9169,     0.91693,     0.91695,     0.91697,     0.91699,     0.91701,     0.91704,     0.91706,     0.91708,\n",
              "             0.9171,     0.91712,     0.91714,     0.91717,     0.91719,     0.91721,     0.91723,     0.91725,     0.91727,      0.9173,     0.91732,     0.91734,     0.91736,     0.91738,      0.9174,     0.91743,     0.91745,     0.91747,     0.91749,     0.91751,     0.91753,     0.91756,     0.91758,\n",
              "             0.9176,     0.91762,     0.91764,     0.91766,     0.91769,     0.91771,     0.91773,     0.91775,     0.91773,     0.91768,     0.91762,     0.91757,     0.91752,     0.91747,     0.91742,     0.91737,     0.91732,     0.91726,     0.91721,     0.91716,     0.91711,     0.91706,     0.91701,\n",
              "            0.91696,      0.9169,     0.91685,      0.9168,     0.91675,      0.9167,     0.91665,      0.9166,     0.91654,     0.91649,     0.91627,     0.91588,     0.91549,     0.91518,     0.91524,     0.91529,     0.91535,     0.91541,     0.91546,     0.91552,     0.91557,     0.91563,     0.91568,\n",
              "            0.91574,     0.91579,     0.91585,     0.91591,     0.91596,     0.91602,     0.91607,     0.91613,     0.91618,     0.91624,     0.91731,     0.91701,     0.91671,     0.91641,     0.91611,     0.91622,      0.9164,     0.91658,     0.91676,     0.91694,     0.91711,     0.91739,     0.91771,\n",
              "            0.91803,     0.91822,     0.91803,     0.91784,     0.91765,     0.91746,     0.91727,     0.91707,     0.91695,     0.91693,      0.9169,     0.91687,     0.91684,     0.91681,     0.91678,     0.91675,     0.91672,     0.91669,     0.91666,     0.91663,      0.9166,     0.91657,     0.91654,\n",
              "            0.91651,     0.91648,     0.91645,     0.91642,     0.91639,     0.91637,     0.91634,     0.91631,     0.91628,     0.91625,     0.91622,     0.91619,     0.91616,     0.91613,      0.9161,     0.91607,     0.91604,     0.91601,     0.91598,     0.91595,     0.91592,     0.91589,     0.91586,\n",
              "            0.91583,      0.9158,     0.91577,     0.91575,     0.91572,     0.91569,     0.91567,      0.9157,     0.91573,     0.91575,     0.91578,     0.91581,     0.91584,     0.91587,      0.9159,     0.91593,     0.91595,     0.91598,     0.91601,     0.91604,     0.91607,      0.9161,     0.91613,\n",
              "            0.91615,     0.91618,     0.91621,     0.91624,     0.91627,      0.9163,     0.91633,     0.91635,     0.91638,     0.91641,     0.91644,     0.91647,      0.9165,     0.91653,     0.91656,     0.91658,     0.91661,     0.91664,     0.91667,      0.9167,     0.91673,     0.91675,     0.91668,\n",
              "            0.91653,     0.91639,     0.91624,     0.91609,     0.91594,     0.91579,     0.91565,      0.9155,      0.9154,     0.91532,     0.91523,     0.91515,     0.91507,     0.91498,      0.9149,     0.91482,     0.91473,     0.91465,     0.91457,     0.91449,      0.9144,     0.91432,     0.91424,\n",
              "            0.91415,     0.91381,     0.91344,     0.91307,     0.91265,     0.91212,     0.91159,     0.91162,     0.91173,     0.91185,     0.91196,     0.91208,     0.91219,     0.91231,     0.91243,     0.91254,     0.91258,     0.91243,     0.91229,     0.91214,       0.912,     0.91185,     0.91171,\n",
              "            0.91156,     0.91142,     0.91132,     0.91142,     0.91151,     0.91161,     0.91171,      0.9118,      0.9119,       0.912,     0.91209,     0.91219,     0.91229,     0.91239,     0.91238,     0.91235,     0.91232,     0.91229,     0.91225,     0.91222,     0.91219,     0.91215,     0.91212,\n",
              "            0.91209,     0.91206,     0.91202,     0.91199,     0.91196,     0.91193,     0.91189,     0.91186,     0.91183,     0.91179,     0.91176,     0.91173,      0.9117,     0.91166,     0.91163,      0.9116,     0.91156,     0.91153,      0.9115,     0.91147,     0.91143,      0.9114,     0.91137,\n",
              "            0.91133,      0.9113,     0.91127,     0.91124,      0.9112,     0.91117,     0.91114,     0.91111,      0.9111,     0.91113,     0.91116,     0.91119,     0.91122,     0.91125,     0.91128,     0.91132,     0.91135,     0.91138,     0.91141,     0.91144,     0.91147,     0.91151,     0.91154,\n",
              "            0.91157,      0.9116,     0.91163,     0.91166,      0.9117,     0.91173,     0.91176,     0.91179,     0.91182,     0.91185,     0.91188,     0.91192,     0.91195,     0.91198,     0.91201,     0.91204,     0.91207,     0.91211,     0.91214,     0.91217,     0.91226,     0.91272,     0.91318,\n",
              "            0.91349,     0.91375,       0.914,     0.91425,     0.91441,     0.91435,     0.91429,     0.91424,     0.91418,     0.91412,     0.91406,     0.91401,     0.91395,     0.91389,     0.91384,     0.91378,     0.91372,     0.91366,     0.91361,     0.91355,     0.91349,     0.91344,     0.91338,\n",
              "            0.91332,     0.91326,     0.91321,     0.91315,     0.91308,     0.91291,     0.91273,     0.91255,     0.91238,      0.9122,     0.91202,     0.91184,     0.91142,     0.91078,     0.91025,     0.90984,     0.90942,      0.9091,     0.90912,     0.90914,     0.90916,     0.90918,      0.9092,\n",
              "            0.90922,     0.90925,     0.90927,     0.90929,     0.90931,     0.90933,     0.90935,     0.90938,      0.9094,     0.90942,     0.90944,     0.90946,     0.90948,     0.90951,     0.90953,     0.90955,     0.90957,     0.90959,     0.90961,     0.90964,     0.90966,     0.90968,      0.9097,\n",
              "            0.90972,     0.90974,     0.90976,     0.90979,     0.90981,     0.90983,     0.90985,     0.90987,     0.90989,     0.90992,     0.90994,     0.90996,     0.90998,        0.91,     0.91002,     0.91005,     0.91007,     0.91009,     0.91011,     0.91013,     0.91015,     0.91017,      0.9102,\n",
              "            0.91019,     0.91015,      0.9101,     0.91006,     0.91001,     0.90996,     0.90992,     0.90987,     0.90983,     0.90978,     0.90974,     0.90969,     0.90965,      0.9096,     0.90956,     0.90951,     0.90947,     0.90942,     0.90938,     0.90933,     0.90929,     0.90924,      0.9092,\n",
              "            0.90915,     0.90911,     0.90906,     0.90902,     0.90897,     0.90893,     0.90888,      0.9079,     0.90748,     0.90743,     0.90738,     0.90732,     0.90727,     0.90722,     0.90716,     0.90711,     0.90706,       0.907,     0.90695,      0.9069,     0.90684,     0.90679,     0.90674,\n",
              "            0.90668,     0.90663,     0.90658,     0.90652,     0.90647,     0.90642,     0.90636,     0.90631,     0.90625,      0.9062,     0.90613,     0.90603,     0.90594,     0.90584,     0.90574,     0.90565,     0.90555,     0.90545,     0.90536,     0.90526,     0.90516,     0.90507,     0.90497,\n",
              "            0.90488,     0.90457,     0.90398,     0.90336,     0.90249,     0.90224,     0.90249,     0.90273,     0.90298,     0.90322,     0.90314,     0.90305,     0.90297,     0.90288,     0.90279,      0.9027,     0.90261,     0.90253,     0.90244,     0.90235,     0.90226,     0.90218,     0.90209,\n",
              "              0.902,     0.90191,     0.90048,     0.90029,      0.9001,     0.89991,     0.89973,     0.89954,     0.89935,     0.89916,     0.89887,     0.89856,     0.89824,     0.89792,     0.89755,     0.89712,     0.89669,     0.89626,     0.89582,     0.89539,     0.89494,     0.89439,     0.89384,\n",
              "             0.8939,     0.89438,     0.89457,     0.89394,     0.89327,     0.89197,     0.89288,     0.89178,     0.89196,     0.89214,     0.89232,     0.89249,     0.89267,     0.89278,     0.89263,     0.89248,     0.89232,     0.89217,     0.89202,     0.89187,     0.89171,     0.89156,     0.89138,\n",
              "            0.89058,     0.89018,     0.89077,     0.89175,      0.8897,     0.88963,     0.88982,     0.89002,     0.89022,     0.89042,     0.89025,     0.88829,     0.88629,     0.88611,     0.88592,     0.88573,     0.88555,     0.88536,     0.88517,     0.88499,     0.88406,     0.88295,     0.88207,\n",
              "            0.88149,      0.8809,     0.88006,     0.87904,     0.87831,     0.87721,     0.87447,     0.87333,     0.87235,      0.8704,     0.87007,     0.86973,     0.86939,     0.86905,     0.86831,     0.86757,     0.86841,     0.86797,     0.86696,     0.86588,     0.86458,     0.86297,     0.85821,\n",
              "            0.85742,     0.85622,     0.85432,     0.85248,     0.85024,     0.84959,     0.84759,      0.8451,     0.84382,     0.84274,      0.8415,     0.84031,     0.83681,     0.83546,     0.83456,     0.83349,     0.83044,     0.82981,     0.82919,     0.82771,     0.82678,     0.82657,     0.82602,\n",
              "            0.82547,     0.82366,     0.82131,     0.81764,     0.81389,     0.81452,     0.80991,     0.80324,     0.80178,     0.79712,     0.79236,     0.78693,      0.7825,     0.77838,     0.77464,     0.77047,     0.76931,      0.7678,     0.76851,     0.76536,      0.7535,      0.7515,     0.74725,\n",
              "             0.7457,     0.74089,     0.73579,       0.733,     0.73061,     0.72545,     0.72023,     0.71703,     0.70843,     0.69889,     0.68513,     0.68301,     0.67206,     0.66742,     0.65613,     0.65139,     0.64807,     0.63787,     0.62963,     0.61201,     0.60124,     0.58269,     0.56887,\n",
              "            0.56049,     0.54646,      0.5372,     0.52272,     0.49924,     0.48416,     0.45858,     0.42801,     0.40485,     0.36943,     0.32911,     0.30367,     0.25955,     0.22514,     0.19109,     0.16501,     0.12995,      0.1071,    0.081223,      0.0543,    0.044098,    0.037456,    0.025194,\n",
              "           0.021286,    0.016593,   0.0091067,           0,           0,           0,           0,           0,           0,           0,           0,           0,           0,           0,           0,           0,           0,           0,           0,           0,           0,           0,           0,\n",
              "                  0,           0,           0,           0,           0,           0,           0,           0,           0,           0,           0]]), 'Confidence', 'F1'], [array([          0,    0.001001,    0.002002,    0.003003,    0.004004,    0.005005,    0.006006,    0.007007,    0.008008,    0.009009,     0.01001,    0.011011,    0.012012,    0.013013,    0.014014,    0.015015,    0.016016,    0.017017,    0.018018,    0.019019,     0.02002,    0.021021,    0.022022,    0.023023,\n",
              "          0.024024,    0.025025,    0.026026,    0.027027,    0.028028,    0.029029,     0.03003,    0.031031,    0.032032,    0.033033,    0.034034,    0.035035,    0.036036,    0.037037,    0.038038,    0.039039,     0.04004,    0.041041,    0.042042,    0.043043,    0.044044,    0.045045,    0.046046,    0.047047,\n",
              "          0.048048,    0.049049,     0.05005,    0.051051,    0.052052,    0.053053,    0.054054,    0.055055,    0.056056,    0.057057,    0.058058,    0.059059,     0.06006,    0.061061,    0.062062,    0.063063,    0.064064,    0.065065,    0.066066,    0.067067,    0.068068,    0.069069,     0.07007,    0.071071,\n",
              "          0.072072,    0.073073,    0.074074,    0.075075,    0.076076,    0.077077,    0.078078,    0.079079,     0.08008,    0.081081,    0.082082,    0.083083,    0.084084,    0.085085,    0.086086,    0.087087,    0.088088,    0.089089,     0.09009,    0.091091,    0.092092,    0.093093,    0.094094,    0.095095,\n",
              "          0.096096,    0.097097,    0.098098,    0.099099,      0.1001,      0.1011,      0.1021,      0.1031,      0.1041,     0.10511,     0.10611,     0.10711,     0.10811,     0.10911,     0.11011,     0.11111,     0.11211,     0.11311,     0.11411,     0.11512,     0.11612,     0.11712,     0.11812,     0.11912,\n",
              "           0.12012,     0.12112,     0.12212,     0.12312,     0.12412,     0.12513,     0.12613,     0.12713,     0.12813,     0.12913,     0.13013,     0.13113,     0.13213,     0.13313,     0.13413,     0.13514,     0.13614,     0.13714,     0.13814,     0.13914,     0.14014,     0.14114,     0.14214,     0.14314,\n",
              "           0.14414,     0.14515,     0.14615,     0.14715,     0.14815,     0.14915,     0.15015,     0.15115,     0.15215,     0.15315,     0.15415,     0.15516,     0.15616,     0.15716,     0.15816,     0.15916,     0.16016,     0.16116,     0.16216,     0.16316,     0.16416,     0.16517,     0.16617,     0.16717,\n",
              "           0.16817,     0.16917,     0.17017,     0.17117,     0.17217,     0.17317,     0.17417,     0.17518,     0.17618,     0.17718,     0.17818,     0.17918,     0.18018,     0.18118,     0.18218,     0.18318,     0.18418,     0.18519,     0.18619,     0.18719,     0.18819,     0.18919,     0.19019,     0.19119,\n",
              "           0.19219,     0.19319,     0.19419,      0.1952,      0.1962,      0.1972,      0.1982,      0.1992,      0.2002,      0.2012,      0.2022,      0.2032,      0.2042,     0.20521,     0.20621,     0.20721,     0.20821,     0.20921,     0.21021,     0.21121,     0.21221,     0.21321,     0.21421,     0.21522,\n",
              "           0.21622,     0.21722,     0.21822,     0.21922,     0.22022,     0.22122,     0.22222,     0.22322,     0.22422,     0.22523,     0.22623,     0.22723,     0.22823,     0.22923,     0.23023,     0.23123,     0.23223,     0.23323,     0.23423,     0.23524,     0.23624,     0.23724,     0.23824,     0.23924,\n",
              "           0.24024,     0.24124,     0.24224,     0.24324,     0.24424,     0.24525,     0.24625,     0.24725,     0.24825,     0.24925,     0.25025,     0.25125,     0.25225,     0.25325,     0.25425,     0.25526,     0.25626,     0.25726,     0.25826,     0.25926,     0.26026,     0.26126,     0.26226,     0.26326,\n",
              "           0.26426,     0.26527,     0.26627,     0.26727,     0.26827,     0.26927,     0.27027,     0.27127,     0.27227,     0.27327,     0.27427,     0.27528,     0.27628,     0.27728,     0.27828,     0.27928,     0.28028,     0.28128,     0.28228,     0.28328,     0.28428,     0.28529,     0.28629,     0.28729,\n",
              "           0.28829,     0.28929,     0.29029,     0.29129,     0.29229,     0.29329,     0.29429,      0.2953,      0.2963,      0.2973,      0.2983,      0.2993,      0.3003,      0.3013,      0.3023,      0.3033,      0.3043,     0.30531,     0.30631,     0.30731,     0.30831,     0.30931,     0.31031,     0.31131,\n",
              "           0.31231,     0.31331,     0.31431,     0.31532,     0.31632,     0.31732,     0.31832,     0.31932,     0.32032,     0.32132,     0.32232,     0.32332,     0.32432,     0.32533,     0.32633,     0.32733,     0.32833,     0.32933,     0.33033,     0.33133,     0.33233,     0.33333,     0.33433,     0.33534,\n",
              "           0.33634,     0.33734,     0.33834,     0.33934,     0.34034,     0.34134,     0.34234,     0.34334,     0.34434,     0.34535,     0.34635,     0.34735,     0.34835,     0.34935,     0.35035,     0.35135,     0.35235,     0.35335,     0.35435,     0.35536,     0.35636,     0.35736,     0.35836,     0.35936,\n",
              "           0.36036,     0.36136,     0.36236,     0.36336,     0.36436,     0.36537,     0.36637,     0.36737,     0.36837,     0.36937,     0.37037,     0.37137,     0.37237,     0.37337,     0.37437,     0.37538,     0.37638,     0.37738,     0.37838,     0.37938,     0.38038,     0.38138,     0.38238,     0.38338,\n",
              "           0.38438,     0.38539,     0.38639,     0.38739,     0.38839,     0.38939,     0.39039,     0.39139,     0.39239,     0.39339,     0.39439,      0.3954,      0.3964,      0.3974,      0.3984,      0.3994,      0.4004,      0.4014,      0.4024,      0.4034,      0.4044,     0.40541,     0.40641,     0.40741,\n",
              "           0.40841,     0.40941,     0.41041,     0.41141,     0.41241,     0.41341,     0.41441,     0.41542,     0.41642,     0.41742,     0.41842,     0.41942,     0.42042,     0.42142,     0.42242,     0.42342,     0.42442,     0.42543,     0.42643,     0.42743,     0.42843,     0.42943,     0.43043,     0.43143,\n",
              "           0.43243,     0.43343,     0.43443,     0.43544,     0.43644,     0.43744,     0.43844,     0.43944,     0.44044,     0.44144,     0.44244,     0.44344,     0.44444,     0.44545,     0.44645,     0.44745,     0.44845,     0.44945,     0.45045,     0.45145,     0.45245,     0.45345,     0.45445,     0.45546,\n",
              "           0.45646,     0.45746,     0.45846,     0.45946,     0.46046,     0.46146,     0.46246,     0.46346,     0.46446,     0.46547,     0.46647,     0.46747,     0.46847,     0.46947,     0.47047,     0.47147,     0.47247,     0.47347,     0.47447,     0.47548,     0.47648,     0.47748,     0.47848,     0.47948,\n",
              "           0.48048,     0.48148,     0.48248,     0.48348,     0.48448,     0.48549,     0.48649,     0.48749,     0.48849,     0.48949,     0.49049,     0.49149,     0.49249,     0.49349,     0.49449,      0.4955,      0.4965,      0.4975,      0.4985,      0.4995,      0.5005,      0.5015,      0.5025,      0.5035,\n",
              "            0.5045,     0.50551,     0.50651,     0.50751,     0.50851,     0.50951,     0.51051,     0.51151,     0.51251,     0.51351,     0.51451,     0.51552,     0.51652,     0.51752,     0.51852,     0.51952,     0.52052,     0.52152,     0.52252,     0.52352,     0.52452,     0.52553,     0.52653,     0.52753,\n",
              "           0.52853,     0.52953,     0.53053,     0.53153,     0.53253,     0.53353,     0.53453,     0.53554,     0.53654,     0.53754,     0.53854,     0.53954,     0.54054,     0.54154,     0.54254,     0.54354,     0.54454,     0.54555,     0.54655,     0.54755,     0.54855,     0.54955,     0.55055,     0.55155,\n",
              "           0.55255,     0.55355,     0.55455,     0.55556,     0.55656,     0.55756,     0.55856,     0.55956,     0.56056,     0.56156,     0.56256,     0.56356,     0.56456,     0.56557,     0.56657,     0.56757,     0.56857,     0.56957,     0.57057,     0.57157,     0.57257,     0.57357,     0.57457,     0.57558,\n",
              "           0.57658,     0.57758,     0.57858,     0.57958,     0.58058,     0.58158,     0.58258,     0.58358,     0.58458,     0.58559,     0.58659,     0.58759,     0.58859,     0.58959,     0.59059,     0.59159,     0.59259,     0.59359,     0.59459,      0.5956,      0.5966,      0.5976,      0.5986,      0.5996,\n",
              "            0.6006,      0.6016,      0.6026,      0.6036,      0.6046,     0.60561,     0.60661,     0.60761,     0.60861,     0.60961,     0.61061,     0.61161,     0.61261,     0.61361,     0.61461,     0.61562,     0.61662,     0.61762,     0.61862,     0.61962,     0.62062,     0.62162,     0.62262,     0.62362,\n",
              "           0.62462,     0.62563,     0.62663,     0.62763,     0.62863,     0.62963,     0.63063,     0.63163,     0.63263,     0.63363,     0.63463,     0.63564,     0.63664,     0.63764,     0.63864,     0.63964,     0.64064,     0.64164,     0.64264,     0.64364,     0.64464,     0.64565,     0.64665,     0.64765,\n",
              "           0.64865,     0.64965,     0.65065,     0.65165,     0.65265,     0.65365,     0.65465,     0.65566,     0.65666,     0.65766,     0.65866,     0.65966,     0.66066,     0.66166,     0.66266,     0.66366,     0.66466,     0.66567,     0.66667,     0.66767,     0.66867,     0.66967,     0.67067,     0.67167,\n",
              "           0.67267,     0.67367,     0.67467,     0.67568,     0.67668,     0.67768,     0.67868,     0.67968,     0.68068,     0.68168,     0.68268,     0.68368,     0.68468,     0.68569,     0.68669,     0.68769,     0.68869,     0.68969,     0.69069,     0.69169,     0.69269,     0.69369,     0.69469,      0.6957,\n",
              "            0.6967,      0.6977,      0.6987,      0.6997,      0.7007,      0.7017,      0.7027,      0.7037,      0.7047,     0.70571,     0.70671,     0.70771,     0.70871,     0.70971,     0.71071,     0.71171,     0.71271,     0.71371,     0.71471,     0.71572,     0.71672,     0.71772,     0.71872,     0.71972,\n",
              "           0.72072,     0.72172,     0.72272,     0.72372,     0.72472,     0.72573,     0.72673,     0.72773,     0.72873,     0.72973,     0.73073,     0.73173,     0.73273,     0.73373,     0.73473,     0.73574,     0.73674,     0.73774,     0.73874,     0.73974,     0.74074,     0.74174,     0.74274,     0.74374,\n",
              "           0.74474,     0.74575,     0.74675,     0.74775,     0.74875,     0.74975,     0.75075,     0.75175,     0.75275,     0.75375,     0.75475,     0.75576,     0.75676,     0.75776,     0.75876,     0.75976,     0.76076,     0.76176,     0.76276,     0.76376,     0.76476,     0.76577,     0.76677,     0.76777,\n",
              "           0.76877,     0.76977,     0.77077,     0.77177,     0.77277,     0.77377,     0.77477,     0.77578,     0.77678,     0.77778,     0.77878,     0.77978,     0.78078,     0.78178,     0.78278,     0.78378,     0.78478,     0.78579,     0.78679,     0.78779,     0.78879,     0.78979,     0.79079,     0.79179,\n",
              "           0.79279,     0.79379,     0.79479,      0.7958,      0.7968,      0.7978,      0.7988,      0.7998,      0.8008,      0.8018,      0.8028,      0.8038,      0.8048,     0.80581,     0.80681,     0.80781,     0.80881,     0.80981,     0.81081,     0.81181,     0.81281,     0.81381,     0.81481,     0.81582,\n",
              "           0.81682,     0.81782,     0.81882,     0.81982,     0.82082,     0.82182,     0.82282,     0.82382,     0.82482,     0.82583,     0.82683,     0.82783,     0.82883,     0.82983,     0.83083,     0.83183,     0.83283,     0.83383,     0.83483,     0.83584,     0.83684,     0.83784,     0.83884,     0.83984,\n",
              "           0.84084,     0.84184,     0.84284,     0.84384,     0.84484,     0.84585,     0.84685,     0.84785,     0.84885,     0.84985,     0.85085,     0.85185,     0.85285,     0.85385,     0.85485,     0.85586,     0.85686,     0.85786,     0.85886,     0.85986,     0.86086,     0.86186,     0.86286,     0.86386,\n",
              "           0.86486,     0.86587,     0.86687,     0.86787,     0.86887,     0.86987,     0.87087,     0.87187,     0.87287,     0.87387,     0.87487,     0.87588,     0.87688,     0.87788,     0.87888,     0.87988,     0.88088,     0.88188,     0.88288,     0.88388,     0.88488,     0.88589,     0.88689,     0.88789,\n",
              "           0.88889,     0.88989,     0.89089,     0.89189,     0.89289,     0.89389,     0.89489,      0.8959,      0.8969,      0.8979,      0.8989,      0.8999,      0.9009,      0.9019,      0.9029,      0.9039,      0.9049,     0.90591,     0.90691,     0.90791,     0.90891,     0.90991,     0.91091,     0.91191,\n",
              "           0.91291,     0.91391,     0.91491,     0.91592,     0.91692,     0.91792,     0.91892,     0.91992,     0.92092,     0.92192,     0.92292,     0.92392,     0.92492,     0.92593,     0.92693,     0.92793,     0.92893,     0.92993,     0.93093,     0.93193,     0.93293,     0.93393,     0.93493,     0.93594,\n",
              "           0.93694,     0.93794,     0.93894,     0.93994,     0.94094,     0.94194,     0.94294,     0.94394,     0.94494,     0.94595,     0.94695,     0.94795,     0.94895,     0.94995,     0.95095,     0.95195,     0.95295,     0.95395,     0.95495,     0.95596,     0.95696,     0.95796,     0.95896,     0.95996,\n",
              "           0.96096,     0.96196,     0.96296,     0.96396,     0.96496,     0.96597,     0.96697,     0.96797,     0.96897,     0.96997,     0.97097,     0.97197,     0.97297,     0.97397,     0.97497,     0.97598,     0.97698,     0.97798,     0.97898,     0.97998,     0.98098,     0.98198,     0.98298,     0.98398,\n",
              "           0.98498,     0.98599,     0.98699,     0.98799,     0.98899,     0.98999,     0.99099,     0.99199,     0.99299,     0.99399,     0.99499,       0.996,       0.997,       0.998,       0.999,           1]), array([[    0.67851,     0.67851,     0.73478,     0.75727,     0.77242,     0.79117,     0.79805,     0.80919,     0.81407,     0.82116,     0.82362,     0.82775,     0.83054,     0.83138,     0.83222,     0.83785,     0.83858,     0.83931,     0.84427,     0.84571,     0.84776,     0.84914,     0.85212,\n",
              "            0.85723,     0.86235,     0.86472,      0.8645,     0.86517,     0.86584,      0.8666,      0.8677,     0.86908,     0.87063,     0.87188,     0.87644,     0.87713,     0.87783,     0.87982,      0.8809,      0.8818,     0.88358,     0.88482,     0.88577,     0.88705,     0.88843,     0.88957,\n",
              "             0.8923,     0.89298,     0.89367,     0.89425,     0.89423,      0.8942,     0.89418,     0.89415,     0.89413,     0.89411,     0.89408,     0.89406,     0.89403,     0.89405,     0.89636,     0.89741,     0.89823,      0.8985,     0.89876,     0.89903,      0.8993,     0.89957,     0.89984,\n",
              "            0.90011,     0.90023,     0.90022,     0.90021,      0.9002,     0.90019,     0.90018,     0.90017,     0.90016,     0.90015,     0.90015,     0.90014,     0.90013,     0.90012,     0.90011,      0.9001,     0.90009,     0.90008,     0.90007,     0.90006,     0.90005,     0.90005,     0.90004,\n",
              "            0.90003,     0.90002,     0.90001,     0.90008,     0.90235,     0.90389,     0.90453,     0.90494,     0.90534,     0.90575,     0.90616,     0.90646,     0.90668,      0.9069,     0.90713,     0.90735,     0.90757,      0.9078,     0.90802,     0.90824,     0.90846,     0.90858,      0.9087,\n",
              "            0.90881,     0.90893,     0.90905,     0.90917,     0.90928,      0.9094,     0.90952,     0.90964,     0.90976,     0.90987,     0.90999,     0.91011,     0.91023,     0.91034,     0.91046,     0.91058,     0.91058,     0.91058,     0.91057,     0.91056,     0.91056,     0.91055,     0.91055,\n",
              "            0.91054,     0.91053,     0.91053,     0.91052,     0.91051,     0.91051,      0.9105,      0.9105,     0.91049,     0.91048,     0.91048,     0.91047,     0.91046,     0.91046,     0.91045,     0.91045,     0.91044,     0.91043,     0.91043,     0.91042,     0.91041,     0.91041,      0.9104,\n",
              "             0.9104,     0.91039,     0.91038,     0.91041,     0.91091,     0.91142,     0.91193,     0.91243,     0.91264,     0.91277,     0.91291,     0.91304,     0.91318,     0.91331,     0.91344,     0.91358,     0.91371,     0.91385,     0.91398,     0.91412,     0.91425,     0.91438,     0.91452,\n",
              "            0.91465,     0.91479,     0.91494,     0.91508,     0.91523,     0.91537,     0.91552,     0.91566,      0.9158,     0.91595,     0.91609,     0.91624,     0.91638,     0.91653,     0.91667,     0.91682,     0.91709,     0.91742,     0.91776,      0.9181,     0.91843,     0.91877,     0.91901,\n",
              "            0.91887,     0.91894,     0.91901,     0.91907,     0.91914,     0.91921,     0.91927,     0.91934,     0.91941,     0.91947,     0.91954,     0.91961,     0.91968,     0.91974,     0.91981,     0.91988,     0.91994,     0.92001,     0.92008,     0.92014,     0.92021,     0.92028,     0.92034,\n",
              "            0.92041,     0.92048,     0.92055,     0.92061,     0.92068,     0.92075,     0.92081,     0.92088,     0.92095,     0.92101,     0.92114,     0.92133,     0.92152,     0.92172,     0.92191,      0.9221,      0.9223,     0.92249,     0.92268,     0.92288,     0.92307,     0.92327,     0.92371,\n",
              "            0.92415,     0.92459,     0.92502,     0.92546,     0.92552,     0.92557,     0.92561,     0.92566,      0.9257,     0.92574,     0.92579,     0.92583,     0.92588,     0.92592,     0.92597,     0.92601,     0.92605,      0.9261,     0.92614,     0.92619,     0.92623,     0.92628,     0.92632,\n",
              "            0.92636,     0.92641,     0.92645,      0.9265,     0.92654,     0.92659,     0.92663,     0.92668,     0.92672,     0.92676,     0.92681,     0.92685,      0.9269,     0.92694,     0.92699,     0.92703,     0.92707,     0.92712,     0.92716,     0.92721,     0.92725,      0.9273,     0.92734,\n",
              "            0.92738,     0.92743,     0.92747,     0.92752,     0.92756,     0.92761,     0.92765,     0.92769,     0.92771,      0.9277,     0.92769,     0.92769,     0.92768,     0.92767,     0.92766,     0.92766,     0.92765,     0.92764,     0.92764,     0.92763,     0.92762,     0.92762,     0.92761,\n",
              "             0.9276,      0.9276,     0.92759,     0.92758,     0.92757,     0.92757,     0.92756,     0.92755,     0.92755,     0.92754,     0.92751,     0.92746,      0.9274,     0.92738,      0.9275,     0.92761,     0.92772,     0.92784,     0.92795,     0.92807,     0.92818,     0.92829,     0.92841,\n",
              "            0.92852,     0.92864,     0.92875,     0.92887,     0.92898,     0.92909,     0.92921,     0.92932,     0.92944,     0.92955,     0.93187,     0.93183,     0.93179,     0.93175,     0.93171,     0.93203,      0.9324,     0.93277,     0.93314,     0.93351,     0.93388,     0.93445,     0.93512,\n",
              "            0.93578,     0.93627,     0.93625,     0.93622,      0.9362,     0.93618,     0.93615,     0.93613,     0.93612,     0.93611,     0.93611,     0.93611,      0.9361,      0.9361,      0.9361,     0.93609,     0.93609,     0.93608,     0.93608,     0.93608,     0.93607,     0.93607,     0.93607,\n",
              "            0.93606,     0.93606,     0.93606,     0.93605,     0.93605,     0.93605,     0.93604,     0.93604,     0.93603,     0.93603,     0.93603,     0.93602,     0.93602,     0.93602,     0.93601,     0.93601,     0.93601,       0.936,       0.936,       0.936,     0.93599,     0.93599,     0.93598,\n",
              "            0.93598,     0.93598,     0.93597,     0.93597,     0.93597,     0.93596,     0.93597,     0.93603,     0.93609,     0.93615,     0.93621,     0.93627,     0.93633,     0.93639,     0.93645,     0.93651,     0.93657,     0.93663,     0.93669,     0.93675,     0.93681,     0.93687,     0.93693,\n",
              "            0.93699,     0.93705,     0.93711,     0.93717,     0.93723,     0.93729,     0.93735,     0.93741,     0.93747,     0.93753,     0.93759,     0.93765,     0.93771,     0.93777,     0.93783,     0.93789,     0.93795,     0.93801,     0.93807,     0.93813,     0.93819,     0.93825,     0.93826,\n",
              "            0.93824,     0.93823,     0.93821,     0.93819,     0.93818,     0.93816,     0.93814,     0.93812,     0.93811,      0.9381,     0.93809,     0.93808,     0.93807,     0.93806,     0.93805,     0.93804,     0.93803,     0.93802,     0.93801,       0.938,       0.938,     0.93799,     0.93798,\n",
              "            0.93797,     0.93793,     0.93788,     0.93784,     0.93779,     0.93773,     0.93766,     0.93787,     0.93811,     0.93836,      0.9386,     0.93885,     0.93909,     0.93934,     0.93958,     0.93983,     0.93999,     0.93998,     0.93996,     0.93995,     0.93993,     0.93991,      0.9399,\n",
              "            0.93988,     0.93986,     0.93989,     0.94009,      0.9403,     0.94051,     0.94071,     0.94092,     0.94113,     0.94133,     0.94154,     0.94175,     0.94196,     0.94216,     0.94221,      0.9422,      0.9422,      0.9422,     0.94219,     0.94219,     0.94219,     0.94218,     0.94218,\n",
              "            0.94218,     0.94217,     0.94217,     0.94217,     0.94216,     0.94216,     0.94215,     0.94215,     0.94215,     0.94214,     0.94214,     0.94214,     0.94213,     0.94213,     0.94213,     0.94212,     0.94212,     0.94211,     0.94211,     0.94211,      0.9421,      0.9421,      0.9421,\n",
              "            0.94209,     0.94209,     0.94209,     0.94208,     0.94208,     0.94208,     0.94207,     0.94207,     0.94209,     0.94216,     0.94222,     0.94229,     0.94236,     0.94243,      0.9425,     0.94256,     0.94263,      0.9427,     0.94277,     0.94283,      0.9429,     0.94297,     0.94304,\n",
              "             0.9431,     0.94317,     0.94324,     0.94331,     0.94337,     0.94344,     0.94351,     0.94358,     0.94364,     0.94371,     0.94378,     0.94385,     0.94391,     0.94398,     0.94405,     0.94412,     0.94418,     0.94425,     0.94432,     0.94439,     0.94459,     0.94558,     0.94657,\n",
              "            0.94723,     0.94778,     0.94832,     0.94887,     0.94924,     0.94923,     0.94923,     0.94922,     0.94921,     0.94921,      0.9492,      0.9492,     0.94919,     0.94919,     0.94918,     0.94918,     0.94917,     0.94916,     0.94916,     0.94915,     0.94915,     0.94914,     0.94914,\n",
              "            0.94913,     0.94913,     0.94912,     0.94911,     0.94911,     0.94909,     0.94907,     0.94906,     0.94904,     0.94902,       0.949,     0.94899,     0.94895,     0.94888,     0.94883,     0.94879,     0.94875,     0.94873,     0.94877,     0.94882,     0.94887,     0.94892,     0.94896,\n",
              "            0.94901,     0.94906,      0.9491,     0.94915,      0.9492,     0.94925,     0.94929,     0.94934,     0.94939,     0.94943,     0.94948,     0.94953,     0.94957,     0.94962,     0.94967,     0.94972,     0.94976,     0.94981,     0.94986,      0.9499,     0.94995,        0.95,     0.95005,\n",
              "            0.95009,     0.95014,     0.95019,     0.95023,     0.95028,     0.95033,     0.95038,     0.95042,     0.95047,     0.95052,     0.95056,     0.95061,     0.95066,     0.95071,     0.95075,      0.9508,     0.95085,     0.95089,     0.95094,     0.95099,     0.95104,     0.95108,     0.95113,\n",
              "            0.95116,     0.95115,     0.95115,     0.95114,     0.95114,     0.95113,     0.95113,     0.95113,     0.95112,     0.95112,     0.95111,     0.95111,      0.9511,      0.9511,      0.9511,     0.95109,     0.95109,     0.95108,     0.95108,     0.95107,     0.95107,     0.95107,     0.95106,\n",
              "            0.95106,     0.95105,     0.95105,     0.95104,     0.95104,     0.95104,     0.95103,     0.95094,      0.9509,      0.9509,     0.95089,     0.95089,     0.95088,     0.95088,     0.95087,     0.95087,     0.95086,     0.95086,     0.95085,     0.95085,     0.95084,     0.95084,     0.95083,\n",
              "            0.95083,     0.95082,     0.95082,     0.95081,     0.95081,      0.9508,     0.95079,     0.95079,     0.95078,     0.95078,     0.95077,     0.95076,     0.95075,     0.95075,     0.95074,     0.95073,     0.95072,     0.95071,      0.9507,     0.95069,     0.95068,     0.95067,     0.95066,\n",
              "            0.95065,     0.95063,     0.95057,     0.95051,     0.95043,     0.95069,     0.95124,     0.95178,     0.95232,     0.95286,     0.95287,     0.95286,     0.95286,     0.95285,     0.95284,     0.95283,     0.95282,     0.95282,     0.95281,      0.9528,     0.95279,     0.95278,     0.95278,\n",
              "            0.95277,     0.95276,     0.95263,     0.95261,      0.9526,     0.95258,     0.95256,     0.95254,     0.95253,     0.95251,     0.95248,     0.95245,     0.95243,      0.9524,     0.95236,     0.95232,     0.95228,     0.95224,      0.9522,     0.95216,     0.95212,     0.95207,     0.95202,\n",
              "            0.95265,     0.95374,     0.95453,     0.95448,     0.95442,     0.95433,     0.95686,     0.95698,     0.95738,     0.95779,      0.9582,     0.95861,     0.95902,     0.95935,     0.95934,     0.95932,     0.95931,      0.9593,     0.95929,     0.95927,     0.95926,     0.95925,     0.95924,\n",
              "            0.95917,     0.95952,      0.9609,     0.96318,      0.9642,     0.96459,     0.96506,     0.96553,     0.96599,     0.96646,     0.96683,      0.9667,     0.96657,     0.96656,     0.96655,     0.96653,     0.96652,     0.96651,      0.9665,     0.96649,     0.96642,     0.96635,     0.96629,\n",
              "            0.96625,     0.96622,     0.96616,     0.96609,     0.96604,     0.96597,     0.96579,     0.96571,     0.96564,     0.96551,     0.96549,     0.96547,     0.96544,     0.96542,     0.96537,     0.96542,     0.96749,     0.96807,     0.96801,     0.96794,     0.96786,     0.96776,     0.96745,\n",
              "             0.9674,     0.96732,      0.9672,     0.96708,     0.96694,     0.96689,     0.96676,      0.9666,     0.96651,     0.96644,     0.96636,     0.96628,     0.96604,     0.96595,     0.96589,     0.96582,     0.96561,     0.96557,     0.96553,     0.96542,     0.96767,     0.96833,     0.96829,\n",
              "            0.96826,     0.97117,     0.97103,     0.97082,     0.97115,     0.97292,     0.97351,     0.97315,     0.97307,     0.97281,     0.97255,     0.97225,     0.97199,     0.97176,     0.97154,      0.9713,     0.97123,     0.97217,     0.97443,     0.97447,     0.97384,     0.97373,     0.97402,\n",
              "            0.97707,     0.97684,     0.97659,     0.97645,     0.97633,     0.97607,     0.97581,     0.97564,     0.97519,     0.97468,     0.97812,     0.98202,     0.98187,     0.98168,     0.98122,     0.98102,     0.98088,     0.98043,     0.98006,     0.97924,     0.97872,     0.97777,     0.98263,\n",
              "            0.98228,     0.98165,     0.98123,     0.98053,     0.98019,     0.98551,     0.98446,     0.98305,     0.98184,      0.9797,     0.97672,     0.98703,           1,           1,           1,           1,           1,           1,           1,           1,           1,           1,           1,\n",
              "                  1,           1,           1,           1,           1,           1,           1,           1,           1,           1,           1,           1,           1,           1,           1,           1,           1,           1,           1,           1,           1,           1,           1,\n",
              "                  1,           1,           1,           1,           1,           1,           1,           1,           1,           1,           1]]), 'Confidence', 'Precision'], [array([          0,    0.001001,    0.002002,    0.003003,    0.004004,    0.005005,    0.006006,    0.007007,    0.008008,    0.009009,     0.01001,    0.011011,    0.012012,    0.013013,    0.014014,    0.015015,    0.016016,    0.017017,    0.018018,    0.019019,     0.02002,    0.021021,    0.022022,    0.023023,\n",
              "          0.024024,    0.025025,    0.026026,    0.027027,    0.028028,    0.029029,     0.03003,    0.031031,    0.032032,    0.033033,    0.034034,    0.035035,    0.036036,    0.037037,    0.038038,    0.039039,     0.04004,    0.041041,    0.042042,    0.043043,    0.044044,    0.045045,    0.046046,    0.047047,\n",
              "          0.048048,    0.049049,     0.05005,    0.051051,    0.052052,    0.053053,    0.054054,    0.055055,    0.056056,    0.057057,    0.058058,    0.059059,     0.06006,    0.061061,    0.062062,    0.063063,    0.064064,    0.065065,    0.066066,    0.067067,    0.068068,    0.069069,     0.07007,    0.071071,\n",
              "          0.072072,    0.073073,    0.074074,    0.075075,    0.076076,    0.077077,    0.078078,    0.079079,     0.08008,    0.081081,    0.082082,    0.083083,    0.084084,    0.085085,    0.086086,    0.087087,    0.088088,    0.089089,     0.09009,    0.091091,    0.092092,    0.093093,    0.094094,    0.095095,\n",
              "          0.096096,    0.097097,    0.098098,    0.099099,      0.1001,      0.1011,      0.1021,      0.1031,      0.1041,     0.10511,     0.10611,     0.10711,     0.10811,     0.10911,     0.11011,     0.11111,     0.11211,     0.11311,     0.11411,     0.11512,     0.11612,     0.11712,     0.11812,     0.11912,\n",
              "           0.12012,     0.12112,     0.12212,     0.12312,     0.12412,     0.12513,     0.12613,     0.12713,     0.12813,     0.12913,     0.13013,     0.13113,     0.13213,     0.13313,     0.13413,     0.13514,     0.13614,     0.13714,     0.13814,     0.13914,     0.14014,     0.14114,     0.14214,     0.14314,\n",
              "           0.14414,     0.14515,     0.14615,     0.14715,     0.14815,     0.14915,     0.15015,     0.15115,     0.15215,     0.15315,     0.15415,     0.15516,     0.15616,     0.15716,     0.15816,     0.15916,     0.16016,     0.16116,     0.16216,     0.16316,     0.16416,     0.16517,     0.16617,     0.16717,\n",
              "           0.16817,     0.16917,     0.17017,     0.17117,     0.17217,     0.17317,     0.17417,     0.17518,     0.17618,     0.17718,     0.17818,     0.17918,     0.18018,     0.18118,     0.18218,     0.18318,     0.18418,     0.18519,     0.18619,     0.18719,     0.18819,     0.18919,     0.19019,     0.19119,\n",
              "           0.19219,     0.19319,     0.19419,      0.1952,      0.1962,      0.1972,      0.1982,      0.1992,      0.2002,      0.2012,      0.2022,      0.2032,      0.2042,     0.20521,     0.20621,     0.20721,     0.20821,     0.20921,     0.21021,     0.21121,     0.21221,     0.21321,     0.21421,     0.21522,\n",
              "           0.21622,     0.21722,     0.21822,     0.21922,     0.22022,     0.22122,     0.22222,     0.22322,     0.22422,     0.22523,     0.22623,     0.22723,     0.22823,     0.22923,     0.23023,     0.23123,     0.23223,     0.23323,     0.23423,     0.23524,     0.23624,     0.23724,     0.23824,     0.23924,\n",
              "           0.24024,     0.24124,     0.24224,     0.24324,     0.24424,     0.24525,     0.24625,     0.24725,     0.24825,     0.24925,     0.25025,     0.25125,     0.25225,     0.25325,     0.25425,     0.25526,     0.25626,     0.25726,     0.25826,     0.25926,     0.26026,     0.26126,     0.26226,     0.26326,\n",
              "           0.26426,     0.26527,     0.26627,     0.26727,     0.26827,     0.26927,     0.27027,     0.27127,     0.27227,     0.27327,     0.27427,     0.27528,     0.27628,     0.27728,     0.27828,     0.27928,     0.28028,     0.28128,     0.28228,     0.28328,     0.28428,     0.28529,     0.28629,     0.28729,\n",
              "           0.28829,     0.28929,     0.29029,     0.29129,     0.29229,     0.29329,     0.29429,      0.2953,      0.2963,      0.2973,      0.2983,      0.2993,      0.3003,      0.3013,      0.3023,      0.3033,      0.3043,     0.30531,     0.30631,     0.30731,     0.30831,     0.30931,     0.31031,     0.31131,\n",
              "           0.31231,     0.31331,     0.31431,     0.31532,     0.31632,     0.31732,     0.31832,     0.31932,     0.32032,     0.32132,     0.32232,     0.32332,     0.32432,     0.32533,     0.32633,     0.32733,     0.32833,     0.32933,     0.33033,     0.33133,     0.33233,     0.33333,     0.33433,     0.33534,\n",
              "           0.33634,     0.33734,     0.33834,     0.33934,     0.34034,     0.34134,     0.34234,     0.34334,     0.34434,     0.34535,     0.34635,     0.34735,     0.34835,     0.34935,     0.35035,     0.35135,     0.35235,     0.35335,     0.35435,     0.35536,     0.35636,     0.35736,     0.35836,     0.35936,\n",
              "           0.36036,     0.36136,     0.36236,     0.36336,     0.36436,     0.36537,     0.36637,     0.36737,     0.36837,     0.36937,     0.37037,     0.37137,     0.37237,     0.37337,     0.37437,     0.37538,     0.37638,     0.37738,     0.37838,     0.37938,     0.38038,     0.38138,     0.38238,     0.38338,\n",
              "           0.38438,     0.38539,     0.38639,     0.38739,     0.38839,     0.38939,     0.39039,     0.39139,     0.39239,     0.39339,     0.39439,      0.3954,      0.3964,      0.3974,      0.3984,      0.3994,      0.4004,      0.4014,      0.4024,      0.4034,      0.4044,     0.40541,     0.40641,     0.40741,\n",
              "           0.40841,     0.40941,     0.41041,     0.41141,     0.41241,     0.41341,     0.41441,     0.41542,     0.41642,     0.41742,     0.41842,     0.41942,     0.42042,     0.42142,     0.42242,     0.42342,     0.42442,     0.42543,     0.42643,     0.42743,     0.42843,     0.42943,     0.43043,     0.43143,\n",
              "           0.43243,     0.43343,     0.43443,     0.43544,     0.43644,     0.43744,     0.43844,     0.43944,     0.44044,     0.44144,     0.44244,     0.44344,     0.44444,     0.44545,     0.44645,     0.44745,     0.44845,     0.44945,     0.45045,     0.45145,     0.45245,     0.45345,     0.45445,     0.45546,\n",
              "           0.45646,     0.45746,     0.45846,     0.45946,     0.46046,     0.46146,     0.46246,     0.46346,     0.46446,     0.46547,     0.46647,     0.46747,     0.46847,     0.46947,     0.47047,     0.47147,     0.47247,     0.47347,     0.47447,     0.47548,     0.47648,     0.47748,     0.47848,     0.47948,\n",
              "           0.48048,     0.48148,     0.48248,     0.48348,     0.48448,     0.48549,     0.48649,     0.48749,     0.48849,     0.48949,     0.49049,     0.49149,     0.49249,     0.49349,     0.49449,      0.4955,      0.4965,      0.4975,      0.4985,      0.4995,      0.5005,      0.5015,      0.5025,      0.5035,\n",
              "            0.5045,     0.50551,     0.50651,     0.50751,     0.50851,     0.50951,     0.51051,     0.51151,     0.51251,     0.51351,     0.51451,     0.51552,     0.51652,     0.51752,     0.51852,     0.51952,     0.52052,     0.52152,     0.52252,     0.52352,     0.52452,     0.52553,     0.52653,     0.52753,\n",
              "           0.52853,     0.52953,     0.53053,     0.53153,     0.53253,     0.53353,     0.53453,     0.53554,     0.53654,     0.53754,     0.53854,     0.53954,     0.54054,     0.54154,     0.54254,     0.54354,     0.54454,     0.54555,     0.54655,     0.54755,     0.54855,     0.54955,     0.55055,     0.55155,\n",
              "           0.55255,     0.55355,     0.55455,     0.55556,     0.55656,     0.55756,     0.55856,     0.55956,     0.56056,     0.56156,     0.56256,     0.56356,     0.56456,     0.56557,     0.56657,     0.56757,     0.56857,     0.56957,     0.57057,     0.57157,     0.57257,     0.57357,     0.57457,     0.57558,\n",
              "           0.57658,     0.57758,     0.57858,     0.57958,     0.58058,     0.58158,     0.58258,     0.58358,     0.58458,     0.58559,     0.58659,     0.58759,     0.58859,     0.58959,     0.59059,     0.59159,     0.59259,     0.59359,     0.59459,      0.5956,      0.5966,      0.5976,      0.5986,      0.5996,\n",
              "            0.6006,      0.6016,      0.6026,      0.6036,      0.6046,     0.60561,     0.60661,     0.60761,     0.60861,     0.60961,     0.61061,     0.61161,     0.61261,     0.61361,     0.61461,     0.61562,     0.61662,     0.61762,     0.61862,     0.61962,     0.62062,     0.62162,     0.62262,     0.62362,\n",
              "           0.62462,     0.62563,     0.62663,     0.62763,     0.62863,     0.62963,     0.63063,     0.63163,     0.63263,     0.63363,     0.63463,     0.63564,     0.63664,     0.63764,     0.63864,     0.63964,     0.64064,     0.64164,     0.64264,     0.64364,     0.64464,     0.64565,     0.64665,     0.64765,\n",
              "           0.64865,     0.64965,     0.65065,     0.65165,     0.65265,     0.65365,     0.65465,     0.65566,     0.65666,     0.65766,     0.65866,     0.65966,     0.66066,     0.66166,     0.66266,     0.66366,     0.66466,     0.66567,     0.66667,     0.66767,     0.66867,     0.66967,     0.67067,     0.67167,\n",
              "           0.67267,     0.67367,     0.67467,     0.67568,     0.67668,     0.67768,     0.67868,     0.67968,     0.68068,     0.68168,     0.68268,     0.68368,     0.68468,     0.68569,     0.68669,     0.68769,     0.68869,     0.68969,     0.69069,     0.69169,     0.69269,     0.69369,     0.69469,      0.6957,\n",
              "            0.6967,      0.6977,      0.6987,      0.6997,      0.7007,      0.7017,      0.7027,      0.7037,      0.7047,     0.70571,     0.70671,     0.70771,     0.70871,     0.70971,     0.71071,     0.71171,     0.71271,     0.71371,     0.71471,     0.71572,     0.71672,     0.71772,     0.71872,     0.71972,\n",
              "           0.72072,     0.72172,     0.72272,     0.72372,     0.72472,     0.72573,     0.72673,     0.72773,     0.72873,     0.72973,     0.73073,     0.73173,     0.73273,     0.73373,     0.73473,     0.73574,     0.73674,     0.73774,     0.73874,     0.73974,     0.74074,     0.74174,     0.74274,     0.74374,\n",
              "           0.74474,     0.74575,     0.74675,     0.74775,     0.74875,     0.74975,     0.75075,     0.75175,     0.75275,     0.75375,     0.75475,     0.75576,     0.75676,     0.75776,     0.75876,     0.75976,     0.76076,     0.76176,     0.76276,     0.76376,     0.76476,     0.76577,     0.76677,     0.76777,\n",
              "           0.76877,     0.76977,     0.77077,     0.77177,     0.77277,     0.77377,     0.77477,     0.77578,     0.77678,     0.77778,     0.77878,     0.77978,     0.78078,     0.78178,     0.78278,     0.78378,     0.78478,     0.78579,     0.78679,     0.78779,     0.78879,     0.78979,     0.79079,     0.79179,\n",
              "           0.79279,     0.79379,     0.79479,      0.7958,      0.7968,      0.7978,      0.7988,      0.7998,      0.8008,      0.8018,      0.8028,      0.8038,      0.8048,     0.80581,     0.80681,     0.80781,     0.80881,     0.80981,     0.81081,     0.81181,     0.81281,     0.81381,     0.81481,     0.81582,\n",
              "           0.81682,     0.81782,     0.81882,     0.81982,     0.82082,     0.82182,     0.82282,     0.82382,     0.82482,     0.82583,     0.82683,     0.82783,     0.82883,     0.82983,     0.83083,     0.83183,     0.83283,     0.83383,     0.83483,     0.83584,     0.83684,     0.83784,     0.83884,     0.83984,\n",
              "           0.84084,     0.84184,     0.84284,     0.84384,     0.84484,     0.84585,     0.84685,     0.84785,     0.84885,     0.84985,     0.85085,     0.85185,     0.85285,     0.85385,     0.85485,     0.85586,     0.85686,     0.85786,     0.85886,     0.85986,     0.86086,     0.86186,     0.86286,     0.86386,\n",
              "           0.86486,     0.86587,     0.86687,     0.86787,     0.86887,     0.86987,     0.87087,     0.87187,     0.87287,     0.87387,     0.87487,     0.87588,     0.87688,     0.87788,     0.87888,     0.87988,     0.88088,     0.88188,     0.88288,     0.88388,     0.88488,     0.88589,     0.88689,     0.88789,\n",
              "           0.88889,     0.88989,     0.89089,     0.89189,     0.89289,     0.89389,     0.89489,      0.8959,      0.8969,      0.8979,      0.8989,      0.8999,      0.9009,      0.9019,      0.9029,      0.9039,      0.9049,     0.90591,     0.90691,     0.90791,     0.90891,     0.90991,     0.91091,     0.91191,\n",
              "           0.91291,     0.91391,     0.91491,     0.91592,     0.91692,     0.91792,     0.91892,     0.91992,     0.92092,     0.92192,     0.92292,     0.92392,     0.92492,     0.92593,     0.92693,     0.92793,     0.92893,     0.92993,     0.93093,     0.93193,     0.93293,     0.93393,     0.93493,     0.93594,\n",
              "           0.93694,     0.93794,     0.93894,     0.93994,     0.94094,     0.94194,     0.94294,     0.94394,     0.94494,     0.94595,     0.94695,     0.94795,     0.94895,     0.94995,     0.95095,     0.95195,     0.95295,     0.95395,     0.95495,     0.95596,     0.95696,     0.95796,     0.95896,     0.95996,\n",
              "           0.96096,     0.96196,     0.96296,     0.96396,     0.96496,     0.96597,     0.96697,     0.96797,     0.96897,     0.96997,     0.97097,     0.97197,     0.97297,     0.97397,     0.97497,     0.97598,     0.97698,     0.97798,     0.97898,     0.97998,     0.98098,     0.98198,     0.98298,     0.98398,\n",
              "           0.98498,     0.98599,     0.98699,     0.98799,     0.98899,     0.98999,     0.99099,     0.99199,     0.99299,     0.99399,     0.99499,       0.996,       0.997,       0.998,       0.999,           1]), array([[    0.94575,     0.94575,     0.94093,     0.93632,     0.93396,     0.93396,     0.92925,     0.92925,     0.92925,     0.92689,      0.9251,     0.92453,     0.92453,     0.92453,     0.92453,     0.92453,     0.92453,     0.92453,     0.92217,     0.92217,     0.92217,     0.92217,     0.92217,\n",
              "            0.92217,     0.92217,     0.91964,     0.91745,     0.91745,     0.91745,     0.91745,     0.91745,     0.91745,     0.91745,     0.91745,     0.91745,     0.91745,     0.91745,     0.91745,     0.91745,     0.91745,     0.91745,     0.91745,     0.91745,     0.91745,     0.91745,     0.91745,\n",
              "            0.91745,     0.91745,     0.91745,     0.91742,     0.91719,     0.91695,     0.91672,     0.91649,     0.91625,     0.91602,     0.91579,     0.91556,     0.91532,     0.91509,     0.91509,     0.91509,     0.91509,     0.91509,     0.91509,     0.91509,     0.91509,     0.91509,     0.91509,\n",
              "            0.91509,     0.91504,     0.91495,     0.91486,     0.91477,     0.91467,     0.91458,     0.91449,      0.9144,      0.9143,     0.91421,     0.91412,     0.91403,     0.91393,     0.91384,     0.91375,     0.91366,     0.91357,     0.91347,     0.91338,     0.91329,      0.9132,      0.9131,\n",
              "            0.91301,     0.91292,     0.91283,     0.91274,     0.91274,     0.91274,     0.91274,     0.91274,     0.91274,     0.91274,     0.91274,     0.91274,     0.91274,     0.91274,     0.91274,     0.91274,     0.91274,     0.91274,     0.91274,     0.91274,     0.91274,     0.91274,     0.91274,\n",
              "            0.91274,     0.91274,     0.91274,     0.91274,     0.91274,     0.91274,     0.91274,     0.91274,     0.91274,     0.91274,     0.91274,     0.91274,     0.91274,     0.91274,     0.91274,     0.91274,     0.91267,      0.9126,     0.91253,     0.91246,     0.91239,     0.91232,     0.91225,\n",
              "            0.91218,     0.91211,     0.91204,     0.91197,     0.91191,     0.91184,     0.91177,      0.9117,     0.91163,     0.91156,     0.91149,     0.91142,     0.91135,     0.91128,     0.91121,     0.91114,     0.91107,       0.911,     0.91093,     0.91086,     0.91079,     0.91072,     0.91065,\n",
              "            0.91058,     0.91051,     0.91044,     0.91038,     0.91038,     0.91038,     0.91038,     0.91038,     0.91038,     0.91038,     0.91038,     0.91038,     0.91038,     0.91038,     0.91038,     0.91038,     0.91038,     0.91038,     0.91038,     0.91038,     0.91038,     0.91038,     0.91038,\n",
              "            0.91038,     0.91038,     0.91038,     0.91038,     0.91038,     0.91038,     0.91038,     0.91038,     0.91038,     0.91038,     0.91038,     0.91038,     0.91038,     0.91038,     0.91038,     0.91038,     0.91038,     0.91038,     0.91038,     0.91038,     0.91038,     0.91038,     0.90993,\n",
              "            0.90802,     0.90802,     0.90802,     0.90802,     0.90802,     0.90802,     0.90802,     0.90802,     0.90802,     0.90802,     0.90802,     0.90802,     0.90802,     0.90802,     0.90802,     0.90802,     0.90802,     0.90802,     0.90802,     0.90802,     0.90802,     0.90802,     0.90802,\n",
              "            0.90802,     0.90802,     0.90802,     0.90802,     0.90802,     0.90802,     0.90802,     0.90802,     0.90802,     0.90802,     0.90802,     0.90802,     0.90802,     0.90802,     0.90802,     0.90802,     0.90802,     0.90802,     0.90802,     0.90802,     0.90802,     0.90802,     0.90802,\n",
              "            0.90802,     0.90802,     0.90802,     0.90802,     0.90802,     0.90802,     0.90802,     0.90802,     0.90802,     0.90802,     0.90802,     0.90802,     0.90802,     0.90802,     0.90802,     0.90802,     0.90802,     0.90802,     0.90802,     0.90802,     0.90802,     0.90802,     0.90802,\n",
              "            0.90802,     0.90802,     0.90802,     0.90802,     0.90802,     0.90802,     0.90802,     0.90802,     0.90802,     0.90802,     0.90802,     0.90802,     0.90802,     0.90802,     0.90802,     0.90802,     0.90802,     0.90802,     0.90802,     0.90802,     0.90802,     0.90802,     0.90802,\n",
              "            0.90802,     0.90802,     0.90802,     0.90802,     0.90802,     0.90802,     0.90802,     0.90802,     0.90796,     0.90787,     0.90777,     0.90768,     0.90758,     0.90749,      0.9074,      0.9073,     0.90721,     0.90711,     0.90702,     0.90693,     0.90683,     0.90674,     0.90665,\n",
              "            0.90655,     0.90646,     0.90636,     0.90627,     0.90618,     0.90608,     0.90599,     0.90589,      0.9058,     0.90571,      0.9053,     0.90459,     0.90388,      0.9033,      0.9033,      0.9033,      0.9033,      0.9033,      0.9033,      0.9033,      0.9033,      0.9033,      0.9033,\n",
              "             0.9033,      0.9033,      0.9033,      0.9033,      0.9033,      0.9033,      0.9033,      0.9033,      0.9033,      0.9033,      0.9032,     0.90266,     0.90211,     0.90156,     0.90102,     0.90094,     0.90094,     0.90094,     0.90094,     0.90094,     0.90094,     0.90094,     0.90094,\n",
              "            0.90094,     0.90086,     0.90051,     0.90016,     0.89982,     0.89947,     0.89912,     0.89878,     0.89856,     0.89851,     0.89845,      0.8984,     0.89835,     0.89829,     0.89824,     0.89819,     0.89814,     0.89808,     0.89803,     0.89798,     0.89792,     0.89787,     0.89782,\n",
              "            0.89776,     0.89771,     0.89766,      0.8976,     0.89755,      0.8975,     0.89744,     0.89739,     0.89734,     0.89728,     0.89723,     0.89718,     0.89712,     0.89707,     0.89702,     0.89696,     0.89691,     0.89686,      0.8968,     0.89675,      0.8967,     0.89664,     0.89659,\n",
              "            0.89654,     0.89648,     0.89643,     0.89638,     0.89632,     0.89627,     0.89623,     0.89623,     0.89623,     0.89623,     0.89623,     0.89623,     0.89623,     0.89623,     0.89623,     0.89623,     0.89623,     0.89623,     0.89623,     0.89623,     0.89623,     0.89623,     0.89623,\n",
              "            0.89623,     0.89623,     0.89623,     0.89623,     0.89623,     0.89623,     0.89623,     0.89623,     0.89623,     0.89623,     0.89623,     0.89623,     0.89623,     0.89623,     0.89623,     0.89623,     0.89623,     0.89623,     0.89623,     0.89623,     0.89623,     0.89623,     0.89607,\n",
              "            0.89581,     0.89554,     0.89527,     0.89501,     0.89474,     0.89447,     0.89421,     0.89394,     0.89376,     0.89361,     0.89346,     0.89331,     0.89316,     0.89301,     0.89286,     0.89271,     0.89256,     0.89242,     0.89227,     0.89212,     0.89197,     0.89182,     0.89167,\n",
              "            0.89152,      0.8909,     0.89024,     0.88958,     0.88882,     0.88787,     0.88692,     0.88679,     0.88679,     0.88679,     0.88679,     0.88679,     0.88679,     0.88679,     0.88679,     0.88679,     0.88671,     0.88646,      0.8862,     0.88594,     0.88568,     0.88542,     0.88516,\n",
              "             0.8849,     0.88465,     0.88443,     0.88443,     0.88443,     0.88443,     0.88443,     0.88443,     0.88443,     0.88443,     0.88443,     0.88443,     0.88443,     0.88443,     0.88439,     0.88433,     0.88427,     0.88421,     0.88416,      0.8841,     0.88404,     0.88398,     0.88392,\n",
              "            0.88386,     0.88381,     0.88375,     0.88369,     0.88363,     0.88357,     0.88351,     0.88346,      0.8834,     0.88334,     0.88328,     0.88322,     0.88316,     0.88311,     0.88305,     0.88299,     0.88293,     0.88287,     0.88281,     0.88276,      0.8827,     0.88264,     0.88258,\n",
              "            0.88252,     0.88246,      0.8824,     0.88235,     0.88229,     0.88223,     0.88217,     0.88211,     0.88208,     0.88208,     0.88208,     0.88208,     0.88208,     0.88208,     0.88208,     0.88208,     0.88208,     0.88208,     0.88208,     0.88208,     0.88208,     0.88208,     0.88208,\n",
              "            0.88208,     0.88208,     0.88208,     0.88208,     0.88208,     0.88208,     0.88208,     0.88208,     0.88208,     0.88208,     0.88208,     0.88208,     0.88208,     0.88208,     0.88208,     0.88208,     0.88208,     0.88208,     0.88208,     0.88208,     0.88208,     0.88208,     0.88208,\n",
              "            0.88208,     0.88208,     0.88208,     0.88208,     0.88204,     0.88194,     0.88184,     0.88174,     0.88164,     0.88154,     0.88143,     0.88133,     0.88123,     0.88113,     0.88103,     0.88093,     0.88083,     0.88072,     0.88062,     0.88052,     0.88042,     0.88032,     0.88022,\n",
              "            0.88011,     0.88001,     0.87991,     0.87981,     0.87969,     0.87938,     0.87907,     0.87875,     0.87844,     0.87813,     0.87781,      0.8775,     0.87674,     0.87562,     0.87468,     0.87395,     0.87323,     0.87264,     0.87264,     0.87264,     0.87264,     0.87264,     0.87264,\n",
              "            0.87264,     0.87264,     0.87264,     0.87264,     0.87264,     0.87264,     0.87264,     0.87264,     0.87264,     0.87264,     0.87264,     0.87264,     0.87264,     0.87264,     0.87264,     0.87264,     0.87264,     0.87264,     0.87264,     0.87264,     0.87264,     0.87264,     0.87264,\n",
              "            0.87264,     0.87264,     0.87264,     0.87264,     0.87264,     0.87264,     0.87264,     0.87264,     0.87264,     0.87264,     0.87264,     0.87264,     0.87264,     0.87264,     0.87264,     0.87264,     0.87264,     0.87264,     0.87264,     0.87264,     0.87264,     0.87264,     0.87264,\n",
              "            0.87261,     0.87253,     0.87245,     0.87237,     0.87229,     0.87221,     0.87213,     0.87205,     0.87197,     0.87189,     0.87182,     0.87174,     0.87166,     0.87158,      0.8715,     0.87142,     0.87134,     0.87126,     0.87118,      0.8711,     0.87102,     0.87094,     0.87086,\n",
              "            0.87078,     0.87071,     0.87063,     0.87055,     0.87047,     0.87039,     0.87031,     0.86859,     0.86786,     0.86776,     0.86767,     0.86758,     0.86748,     0.86739,      0.8673,      0.8672,     0.86711,     0.86702,     0.86692,     0.86683,     0.86674,     0.86664,     0.86655,\n",
              "            0.86646,     0.86636,     0.86627,     0.86618,     0.86608,     0.86599,      0.8659,      0.8658,     0.86571,     0.86562,     0.86549,     0.86532,     0.86515,     0.86498,     0.86482,     0.86465,     0.86448,     0.86431,     0.86414,     0.86398,     0.86381,     0.86364,     0.86347,\n",
              "             0.8633,     0.86277,     0.86175,     0.86066,     0.85916,     0.85849,     0.85849,     0.85849,     0.85849,     0.85849,     0.85834,     0.85819,     0.85804,     0.85789,     0.85774,     0.85758,     0.85743,     0.85728,     0.85713,     0.85698,     0.85682,     0.85667,     0.85652,\n",
              "            0.85637,     0.85622,     0.85374,     0.85342,     0.85309,     0.85277,     0.85245,     0.85212,      0.8518,     0.85147,     0.85097,     0.85043,     0.84989,     0.84935,     0.84871,     0.84797,     0.84723,     0.84649,     0.84574,       0.845,     0.84424,      0.8433,     0.84236,\n",
              "            0.84198,     0.84198,      0.8417,     0.84062,     0.83948,     0.83726,     0.83692,     0.83491,     0.83491,     0.83491,     0.83491,     0.83491,     0.83491,     0.83485,      0.8346,     0.83434,     0.83408,     0.83382,     0.83357,     0.83331,     0.83305,     0.83279,     0.83249,\n",
              "            0.83115,     0.83019,     0.83019,     0.83019,     0.82588,     0.82547,     0.82547,     0.82547,     0.82547,     0.82547,     0.82492,     0.82164,     0.81833,     0.81802,     0.81771,      0.8174,     0.81709,     0.81678,     0.81647,     0.81616,     0.81463,     0.81281,     0.81136,\n",
              "            0.81039,     0.80944,     0.80806,     0.80638,     0.80518,      0.8034,     0.79893,     0.79709,     0.79549,     0.79235,     0.79181,     0.79126,     0.79072,     0.79018,     0.78898,     0.78774,     0.78774,     0.78662,     0.78501,     0.78329,     0.78122,     0.77866,     0.77114,\n",
              "            0.76989,     0.76801,     0.76503,     0.76215,     0.75868,     0.75767,     0.75457,     0.75073,     0.74876,     0.74712,     0.74521,     0.74339,     0.73807,     0.73603,     0.73466,     0.73305,     0.72846,     0.72752,     0.72659,     0.72438,      0.7217,     0.72101,      0.7202,\n",
              "            0.71938,     0.71505,      0.7116,      0.7062,     0.70047,     0.70047,     0.69338,     0.68384,     0.68176,     0.67518,      0.6685,     0.66096,     0.65484,     0.64919,     0.64411,     0.63846,      0.6369,     0.63443,     0.63443,     0.63013,     0.61448,     0.61186,     0.60613,\n",
              "            0.60293,     0.59675,     0.59025,     0.58672,      0.5837,     0.57724,     0.57074,     0.56679,     0.55626,     0.54475,      0.5272,     0.52358,     0.51086,     0.50557,     0.49284,     0.48756,     0.48389,      0.4727,      0.4638,     0.44509,      0.4339,       0.415,     0.40031,\n",
              "            0.39212,     0.37861,     0.36984,     0.35635,     0.33491,     0.32091,      0.2989,     0.27355,       0.255,     0.22763,      0.1979,     0.17944,     0.14913,     0.12685,     0.10564,    0.089921,    0.069488,    0.056579,    0.042331,    0.027908,    0.022546,    0.019085,    0.012758,\n",
              "           0.010757,   0.0083659,   0.0045742,           0,           0,           0,           0,           0,           0,           0,           0,           0,           0,           0,           0,           0,           0,           0,           0,           0,           0,           0,           0,\n",
              "                  0,           0,           0,           0,           0,           0,           0,           0,           0,           0,           0]]), 'Confidence', 'Recall'], [array([          0,    0.001001,    0.002002,    0.003003,    0.004004,    0.005005,    0.006006,    0.007007,    0.008008,    0.009009,     0.01001,    0.011011,    0.012012,    0.013013,    0.014014,    0.015015,    0.016016,    0.017017,    0.018018,    0.019019,     0.02002,    0.021021,    0.022022,    0.023023,\n",
              "          0.024024,    0.025025,    0.026026,    0.027027,    0.028028,    0.029029,     0.03003,    0.031031,    0.032032,    0.033033,    0.034034,    0.035035,    0.036036,    0.037037,    0.038038,    0.039039,     0.04004,    0.041041,    0.042042,    0.043043,    0.044044,    0.045045,    0.046046,    0.047047,\n",
              "          0.048048,    0.049049,     0.05005,    0.051051,    0.052052,    0.053053,    0.054054,    0.055055,    0.056056,    0.057057,    0.058058,    0.059059,     0.06006,    0.061061,    0.062062,    0.063063,    0.064064,    0.065065,    0.066066,    0.067067,    0.068068,    0.069069,     0.07007,    0.071071,\n",
              "          0.072072,    0.073073,    0.074074,    0.075075,    0.076076,    0.077077,    0.078078,    0.079079,     0.08008,    0.081081,    0.082082,    0.083083,    0.084084,    0.085085,    0.086086,    0.087087,    0.088088,    0.089089,     0.09009,    0.091091,    0.092092,    0.093093,    0.094094,    0.095095,\n",
              "          0.096096,    0.097097,    0.098098,    0.099099,      0.1001,      0.1011,      0.1021,      0.1031,      0.1041,     0.10511,     0.10611,     0.10711,     0.10811,     0.10911,     0.11011,     0.11111,     0.11211,     0.11311,     0.11411,     0.11512,     0.11612,     0.11712,     0.11812,     0.11912,\n",
              "           0.12012,     0.12112,     0.12212,     0.12312,     0.12412,     0.12513,     0.12613,     0.12713,     0.12813,     0.12913,     0.13013,     0.13113,     0.13213,     0.13313,     0.13413,     0.13514,     0.13614,     0.13714,     0.13814,     0.13914,     0.14014,     0.14114,     0.14214,     0.14314,\n",
              "           0.14414,     0.14515,     0.14615,     0.14715,     0.14815,     0.14915,     0.15015,     0.15115,     0.15215,     0.15315,     0.15415,     0.15516,     0.15616,     0.15716,     0.15816,     0.15916,     0.16016,     0.16116,     0.16216,     0.16316,     0.16416,     0.16517,     0.16617,     0.16717,\n",
              "           0.16817,     0.16917,     0.17017,     0.17117,     0.17217,     0.17317,     0.17417,     0.17518,     0.17618,     0.17718,     0.17818,     0.17918,     0.18018,     0.18118,     0.18218,     0.18318,     0.18418,     0.18519,     0.18619,     0.18719,     0.18819,     0.18919,     0.19019,     0.19119,\n",
              "           0.19219,     0.19319,     0.19419,      0.1952,      0.1962,      0.1972,      0.1982,      0.1992,      0.2002,      0.2012,      0.2022,      0.2032,      0.2042,     0.20521,     0.20621,     0.20721,     0.20821,     0.20921,     0.21021,     0.21121,     0.21221,     0.21321,     0.21421,     0.21522,\n",
              "           0.21622,     0.21722,     0.21822,     0.21922,     0.22022,     0.22122,     0.22222,     0.22322,     0.22422,     0.22523,     0.22623,     0.22723,     0.22823,     0.22923,     0.23023,     0.23123,     0.23223,     0.23323,     0.23423,     0.23524,     0.23624,     0.23724,     0.23824,     0.23924,\n",
              "           0.24024,     0.24124,     0.24224,     0.24324,     0.24424,     0.24525,     0.24625,     0.24725,     0.24825,     0.24925,     0.25025,     0.25125,     0.25225,     0.25325,     0.25425,     0.25526,     0.25626,     0.25726,     0.25826,     0.25926,     0.26026,     0.26126,     0.26226,     0.26326,\n",
              "           0.26426,     0.26527,     0.26627,     0.26727,     0.26827,     0.26927,     0.27027,     0.27127,     0.27227,     0.27327,     0.27427,     0.27528,     0.27628,     0.27728,     0.27828,     0.27928,     0.28028,     0.28128,     0.28228,     0.28328,     0.28428,     0.28529,     0.28629,     0.28729,\n",
              "           0.28829,     0.28929,     0.29029,     0.29129,     0.29229,     0.29329,     0.29429,      0.2953,      0.2963,      0.2973,      0.2983,      0.2993,      0.3003,      0.3013,      0.3023,      0.3033,      0.3043,     0.30531,     0.30631,     0.30731,     0.30831,     0.30931,     0.31031,     0.31131,\n",
              "           0.31231,     0.31331,     0.31431,     0.31532,     0.31632,     0.31732,     0.31832,     0.31932,     0.32032,     0.32132,     0.32232,     0.32332,     0.32432,     0.32533,     0.32633,     0.32733,     0.32833,     0.32933,     0.33033,     0.33133,     0.33233,     0.33333,     0.33433,     0.33534,\n",
              "           0.33634,     0.33734,     0.33834,     0.33934,     0.34034,     0.34134,     0.34234,     0.34334,     0.34434,     0.34535,     0.34635,     0.34735,     0.34835,     0.34935,     0.35035,     0.35135,     0.35235,     0.35335,     0.35435,     0.35536,     0.35636,     0.35736,     0.35836,     0.35936,\n",
              "           0.36036,     0.36136,     0.36236,     0.36336,     0.36436,     0.36537,     0.36637,     0.36737,     0.36837,     0.36937,     0.37037,     0.37137,     0.37237,     0.37337,     0.37437,     0.37538,     0.37638,     0.37738,     0.37838,     0.37938,     0.38038,     0.38138,     0.38238,     0.38338,\n",
              "           0.38438,     0.38539,     0.38639,     0.38739,     0.38839,     0.38939,     0.39039,     0.39139,     0.39239,     0.39339,     0.39439,      0.3954,      0.3964,      0.3974,      0.3984,      0.3994,      0.4004,      0.4014,      0.4024,      0.4034,      0.4044,     0.40541,     0.40641,     0.40741,\n",
              "           0.40841,     0.40941,     0.41041,     0.41141,     0.41241,     0.41341,     0.41441,     0.41542,     0.41642,     0.41742,     0.41842,     0.41942,     0.42042,     0.42142,     0.42242,     0.42342,     0.42442,     0.42543,     0.42643,     0.42743,     0.42843,     0.42943,     0.43043,     0.43143,\n",
              "           0.43243,     0.43343,     0.43443,     0.43544,     0.43644,     0.43744,     0.43844,     0.43944,     0.44044,     0.44144,     0.44244,     0.44344,     0.44444,     0.44545,     0.44645,     0.44745,     0.44845,     0.44945,     0.45045,     0.45145,     0.45245,     0.45345,     0.45445,     0.45546,\n",
              "           0.45646,     0.45746,     0.45846,     0.45946,     0.46046,     0.46146,     0.46246,     0.46346,     0.46446,     0.46547,     0.46647,     0.46747,     0.46847,     0.46947,     0.47047,     0.47147,     0.47247,     0.47347,     0.47447,     0.47548,     0.47648,     0.47748,     0.47848,     0.47948,\n",
              "           0.48048,     0.48148,     0.48248,     0.48348,     0.48448,     0.48549,     0.48649,     0.48749,     0.48849,     0.48949,     0.49049,     0.49149,     0.49249,     0.49349,     0.49449,      0.4955,      0.4965,      0.4975,      0.4985,      0.4995,      0.5005,      0.5015,      0.5025,      0.5035,\n",
              "            0.5045,     0.50551,     0.50651,     0.50751,     0.50851,     0.50951,     0.51051,     0.51151,     0.51251,     0.51351,     0.51451,     0.51552,     0.51652,     0.51752,     0.51852,     0.51952,     0.52052,     0.52152,     0.52252,     0.52352,     0.52452,     0.52553,     0.52653,     0.52753,\n",
              "           0.52853,     0.52953,     0.53053,     0.53153,     0.53253,     0.53353,     0.53453,     0.53554,     0.53654,     0.53754,     0.53854,     0.53954,     0.54054,     0.54154,     0.54254,     0.54354,     0.54454,     0.54555,     0.54655,     0.54755,     0.54855,     0.54955,     0.55055,     0.55155,\n",
              "           0.55255,     0.55355,     0.55455,     0.55556,     0.55656,     0.55756,     0.55856,     0.55956,     0.56056,     0.56156,     0.56256,     0.56356,     0.56456,     0.56557,     0.56657,     0.56757,     0.56857,     0.56957,     0.57057,     0.57157,     0.57257,     0.57357,     0.57457,     0.57558,\n",
              "           0.57658,     0.57758,     0.57858,     0.57958,     0.58058,     0.58158,     0.58258,     0.58358,     0.58458,     0.58559,     0.58659,     0.58759,     0.58859,     0.58959,     0.59059,     0.59159,     0.59259,     0.59359,     0.59459,      0.5956,      0.5966,      0.5976,      0.5986,      0.5996,\n",
              "            0.6006,      0.6016,      0.6026,      0.6036,      0.6046,     0.60561,     0.60661,     0.60761,     0.60861,     0.60961,     0.61061,     0.61161,     0.61261,     0.61361,     0.61461,     0.61562,     0.61662,     0.61762,     0.61862,     0.61962,     0.62062,     0.62162,     0.62262,     0.62362,\n",
              "           0.62462,     0.62563,     0.62663,     0.62763,     0.62863,     0.62963,     0.63063,     0.63163,     0.63263,     0.63363,     0.63463,     0.63564,     0.63664,     0.63764,     0.63864,     0.63964,     0.64064,     0.64164,     0.64264,     0.64364,     0.64464,     0.64565,     0.64665,     0.64765,\n",
              "           0.64865,     0.64965,     0.65065,     0.65165,     0.65265,     0.65365,     0.65465,     0.65566,     0.65666,     0.65766,     0.65866,     0.65966,     0.66066,     0.66166,     0.66266,     0.66366,     0.66466,     0.66567,     0.66667,     0.66767,     0.66867,     0.66967,     0.67067,     0.67167,\n",
              "           0.67267,     0.67367,     0.67467,     0.67568,     0.67668,     0.67768,     0.67868,     0.67968,     0.68068,     0.68168,     0.68268,     0.68368,     0.68468,     0.68569,     0.68669,     0.68769,     0.68869,     0.68969,     0.69069,     0.69169,     0.69269,     0.69369,     0.69469,      0.6957,\n",
              "            0.6967,      0.6977,      0.6987,      0.6997,      0.7007,      0.7017,      0.7027,      0.7037,      0.7047,     0.70571,     0.70671,     0.70771,     0.70871,     0.70971,     0.71071,     0.71171,     0.71271,     0.71371,     0.71471,     0.71572,     0.71672,     0.71772,     0.71872,     0.71972,\n",
              "           0.72072,     0.72172,     0.72272,     0.72372,     0.72472,     0.72573,     0.72673,     0.72773,     0.72873,     0.72973,     0.73073,     0.73173,     0.73273,     0.73373,     0.73473,     0.73574,     0.73674,     0.73774,     0.73874,     0.73974,     0.74074,     0.74174,     0.74274,     0.74374,\n",
              "           0.74474,     0.74575,     0.74675,     0.74775,     0.74875,     0.74975,     0.75075,     0.75175,     0.75275,     0.75375,     0.75475,     0.75576,     0.75676,     0.75776,     0.75876,     0.75976,     0.76076,     0.76176,     0.76276,     0.76376,     0.76476,     0.76577,     0.76677,     0.76777,\n",
              "           0.76877,     0.76977,     0.77077,     0.77177,     0.77277,     0.77377,     0.77477,     0.77578,     0.77678,     0.77778,     0.77878,     0.77978,     0.78078,     0.78178,     0.78278,     0.78378,     0.78478,     0.78579,     0.78679,     0.78779,     0.78879,     0.78979,     0.79079,     0.79179,\n",
              "           0.79279,     0.79379,     0.79479,      0.7958,      0.7968,      0.7978,      0.7988,      0.7998,      0.8008,      0.8018,      0.8028,      0.8038,      0.8048,     0.80581,     0.80681,     0.80781,     0.80881,     0.80981,     0.81081,     0.81181,     0.81281,     0.81381,     0.81481,     0.81582,\n",
              "           0.81682,     0.81782,     0.81882,     0.81982,     0.82082,     0.82182,     0.82282,     0.82382,     0.82482,     0.82583,     0.82683,     0.82783,     0.82883,     0.82983,     0.83083,     0.83183,     0.83283,     0.83383,     0.83483,     0.83584,     0.83684,     0.83784,     0.83884,     0.83984,\n",
              "           0.84084,     0.84184,     0.84284,     0.84384,     0.84484,     0.84585,     0.84685,     0.84785,     0.84885,     0.84985,     0.85085,     0.85185,     0.85285,     0.85385,     0.85485,     0.85586,     0.85686,     0.85786,     0.85886,     0.85986,     0.86086,     0.86186,     0.86286,     0.86386,\n",
              "           0.86486,     0.86587,     0.86687,     0.86787,     0.86887,     0.86987,     0.87087,     0.87187,     0.87287,     0.87387,     0.87487,     0.87588,     0.87688,     0.87788,     0.87888,     0.87988,     0.88088,     0.88188,     0.88288,     0.88388,     0.88488,     0.88589,     0.88689,     0.88789,\n",
              "           0.88889,     0.88989,     0.89089,     0.89189,     0.89289,     0.89389,     0.89489,      0.8959,      0.8969,      0.8979,      0.8989,      0.8999,      0.9009,      0.9019,      0.9029,      0.9039,      0.9049,     0.90591,     0.90691,     0.90791,     0.90891,     0.90991,     0.91091,     0.91191,\n",
              "           0.91291,     0.91391,     0.91491,     0.91592,     0.91692,     0.91792,     0.91892,     0.91992,     0.92092,     0.92192,     0.92292,     0.92392,     0.92492,     0.92593,     0.92693,     0.92793,     0.92893,     0.92993,     0.93093,     0.93193,     0.93293,     0.93393,     0.93493,     0.93594,\n",
              "           0.93694,     0.93794,     0.93894,     0.93994,     0.94094,     0.94194,     0.94294,     0.94394,     0.94494,     0.94595,     0.94695,     0.94795,     0.94895,     0.94995,     0.95095,     0.95195,     0.95295,     0.95395,     0.95495,     0.95596,     0.95696,     0.95796,     0.95896,     0.95996,\n",
              "           0.96096,     0.96196,     0.96296,     0.96396,     0.96496,     0.96597,     0.96697,     0.96797,     0.96897,     0.96997,     0.97097,     0.97197,     0.97297,     0.97397,     0.97497,     0.97598,     0.97698,     0.97798,     0.97898,     0.97998,     0.98098,     0.98198,     0.98298,     0.98398,\n",
              "           0.98498,     0.98599,     0.98699,     0.98799,     0.98899,     0.98999,     0.99099,     0.99199,     0.99299,     0.99399,     0.99499,       0.996,       0.997,       0.998,       0.999,           1]), array([[          1,           1,           1,           1,           1,           1,           1,           1,           1,           1,           1,           1,           1,           1,           1,           1,           1,           1,           1,           1,           1,           1,           1,\n",
              "                  1,           1,           1,           1,           1,           1,           1,           1,           1,           1,           1,           1,           1,           1,           1,           1,           1,           1,           1,           1,           1,           1,           1,\n",
              "                  1,           1,           1,           1,           1,           1,           1,           1,           1,           1,           1,           1,           1,           1,           1,           1,           1,           1,           1,           1,           1,           1,           1,\n",
              "                  1,           1,           1,           1,           1,           1,           1,           1,           1,           1,           1,           1,           1,           1,           1,           1,           1,           1,           1,           1,           1,           1,           1,\n",
              "                  1,           1,           1,           1,           1,           1,           1,           1,           1,           1,           1,           1,           1,           1,           1,           1,           1,           1,           1,           1,           1,           1,           1,\n",
              "                  1,           1,           1,           1,           1,           1,           1,           1,           1,           1,           1,           1,           1,           1,           1,           1,           1,           1,           1,           1,           1,           1,           1,\n",
              "                  1,           1,           1,           1,           1,           1,           1,           1,           1,           1,           1,           1,           1,           1,           1,           1,           1,           1,     0.98795,     0.98795,     0.98795,     0.98795,     0.98795,\n",
              "            0.98795,     0.98795,     0.98795,     0.98795,     0.98795,     0.98795,     0.98795,     0.98795,     0.98795,     0.98795,     0.98795,     0.98795,     0.98795,     0.98795,     0.98795,     0.98795,     0.98795,     0.98795,     0.98795,     0.98795,     0.98795,     0.98795,     0.98795,\n",
              "            0.98795,     0.98795,     0.98795,     0.98795,     0.98795,     0.98795,     0.98795,     0.98795,     0.98795,     0.98795,     0.98611,     0.98611,     0.98611,     0.98611,     0.98611,     0.98611,     0.98611,     0.98611,     0.98611,     0.98611,     0.98611,     0.98611,     0.98611,\n",
              "            0.98611,     0.98611,     0.98611,     0.98611,     0.98611,     0.98611,     0.98611,     0.98611,     0.98611,     0.98611,     0.98611,     0.98611,     0.98611,     0.98611,     0.98611,     0.98611,     0.98611,     0.98611,     0.98611,     0.98611,     0.98611,     0.98611,     0.98611,\n",
              "            0.98611,     0.98611,     0.98611,     0.98611,     0.98611,     0.98611,     0.98611,     0.98611,     0.98611,     0.98611,     0.98611,     0.98611,     0.98611,     0.98611,     0.98611,     0.98611,     0.98611,     0.98611,     0.98611,     0.98611,     0.98611,     0.98611,     0.98611,\n",
              "            0.98611,     0.98611,     0.98611,     0.98611,     0.98611,     0.98611,     0.98611,     0.98611,     0.98611,     0.98611,     0.98611,     0.98611,     0.98611,     0.98611,     0.98611,     0.98611,     0.98611,     0.98611,     0.98611,     0.98611,     0.98611,     0.98611,     0.98611,\n",
              "            0.98611,     0.98611,     0.98611,     0.98611,     0.98611,     0.98611,     0.98611,     0.98611,     0.98611,     0.98611,     0.98611,     0.98611,     0.98611,     0.98611,     0.98611,     0.98611,     0.98611,     0.98611,     0.98611,     0.98611,     0.98611,     0.98611,     0.98611,\n",
              "            0.98611,     0.98611,     0.98611,     0.98611,     0.98611,     0.98611,     0.98611,     0.98611,     0.98611,     0.98611,     0.98611,     0.98611,     0.98611,     0.98611,     0.98611,     0.98611,     0.98611,     0.98611,     0.98611,     0.98611,     0.98611,     0.98611,     0.98611,\n",
              "            0.98611,     0.98611,     0.98611,     0.98611,     0.98611,     0.98611,     0.98611,     0.98611,     0.98611,     0.98611,     0.98611,     0.98611,     0.98611,     0.98286,     0.98286,     0.98286,     0.98286,     0.98286,     0.98286,     0.98286,     0.98286,     0.98286,     0.98286,\n",
              "            0.98286,     0.98286,     0.98286,     0.98286,     0.98286,     0.98286,     0.98286,     0.98286,     0.98286,     0.98286,     0.98286,     0.98286,     0.98286,     0.98286,     0.98286,     0.98286,     0.98286,     0.98286,     0.98286,     0.98286,     0.98286,     0.98286,     0.98286,\n",
              "            0.98286,     0.98286,     0.98286,     0.98286,     0.98286,     0.98286,     0.98286,     0.98286,     0.98286,     0.98286,     0.98286,     0.98286,     0.98286,     0.98286,     0.98286,     0.98286,     0.98286,     0.98286,     0.98286,     0.98286,     0.98286,     0.98286,     0.98286,\n",
              "            0.98286,     0.98286,     0.98286,     0.98286,     0.98286,     0.98286,     0.98286,     0.98286,     0.98286,     0.98286,     0.98286,     0.98286,     0.98286,     0.98286,     0.98286,     0.97927,     0.97927,     0.97927,     0.97927,     0.97927,     0.97927,     0.97927,     0.97927,\n",
              "            0.97927,     0.97927,     0.97927,     0.97927,     0.97927,     0.97927,     0.97927,     0.97927,     0.97927,     0.97927,     0.97927,     0.97927,     0.97927,     0.97927,     0.97927,     0.97927,     0.97927,     0.97927,     0.97927,     0.97927,     0.97927,     0.97927,     0.97927,\n",
              "            0.97927,     0.97927,     0.97927,     0.97927,     0.97927,     0.97927,     0.97927,     0.97927,     0.97927,     0.97788,     0.97788,     0.97788,     0.97788,     0.97788,     0.97788,     0.97788,     0.97788,     0.97788,     0.97788,     0.97788,     0.97788,     0.97788,     0.97788,\n",
              "            0.97788,     0.97788,     0.97788,     0.97788,     0.97788,     0.97788,     0.97788,     0.97788,     0.97788,     0.97788,     0.97788,     0.97788,     0.97788,     0.97788,     0.97788,     0.97788,     0.97788,     0.97788,     0.97788,     0.97788,     0.97788,     0.97788,     0.97788,\n",
              "            0.97788,     0.97788,     0.97788,     0.97788,     0.97788,     0.97788,     0.97788,     0.97788,     0.97788,     0.97788,     0.97788,     0.97788,     0.97788,     0.97788,     0.97788,     0.97788,     0.97788,     0.97788,     0.97788,     0.97788,     0.97788,     0.97788,     0.97788,\n",
              "            0.97788,     0.97788,     0.97788,     0.97788,     0.97788,     0.97788,     0.97788,     0.97788,     0.97788,     0.97788,     0.97788,     0.97788,     0.97788,     0.97788,     0.97788,     0.97414,     0.97414,     0.97414,     0.97414,     0.97414,     0.97414,     0.97414,     0.97414,\n",
              "            0.97414,     0.97414,     0.97414,     0.97414,     0.97338,     0.97338,     0.97338,     0.97338,     0.97338,     0.97338,     0.97338,     0.97338,     0.97338,     0.97338,     0.97338,     0.97338,     0.97338,     0.97338,     0.97338,     0.97338,     0.97338,     0.97338,     0.97338,\n",
              "            0.97338,     0.97338,     0.97338,     0.97338,     0.97338,     0.97338,     0.97338,     0.97338,     0.97338,     0.97338,     0.97338,     0.97338,     0.97338,     0.97338,     0.97338,     0.97338,     0.97338,     0.97338,     0.97338,     0.97338,     0.97338,     0.97338,     0.97338,\n",
              "            0.97338,     0.97338,     0.97338,     0.97338,     0.97338,     0.97338,     0.97338,     0.97338,     0.97338,     0.97338,     0.97338,     0.97338,     0.97338,     0.97338,     0.97338,     0.97338,     0.97338,     0.97338,     0.97338,     0.97338,     0.97338,     0.97338,     0.97338,\n",
              "            0.97338,     0.97338,     0.97338,     0.97338,     0.97338,     0.97338,     0.97101,     0.97101,     0.97101,     0.97101,     0.97101,     0.97101,     0.97101,     0.97101,     0.97101,     0.97101,     0.97101,     0.97101,     0.97101,     0.97101,     0.97101,     0.97101,     0.97101,\n",
              "            0.97101,     0.97101,     0.97101,     0.97101,     0.97101,     0.97101,     0.97101,     0.97101,     0.97101,     0.97101,     0.97101,     0.96774,     0.96774,     0.96774,     0.96774,     0.96774,     0.96721,     0.96721,     0.96721,     0.96721,     0.96721,     0.96721,     0.96721,\n",
              "            0.96721,     0.96721,     0.96721,     0.96721,     0.96721,     0.96721,     0.96721,     0.96721,     0.96721,     0.96721,     0.96721,     0.96721,     0.96721,     0.96721,     0.96721,     0.96721,     0.96721,     0.96721,     0.96721,     0.96721,     0.96721,     0.96721,     0.96721,\n",
              "            0.96721,     0.96721,     0.96721,     0.96721,     0.96721,     0.96721,     0.96721,     0.96721,     0.96721,     0.96721,     0.96721,     0.96721,     0.96721,     0.96721,     0.96721,     0.96721,     0.96721,     0.96721,     0.96721,     0.96721,     0.96721,     0.96721,     0.96721,\n",
              "            0.96721,     0.96721,     0.96721,     0.96721,     0.96721,     0.96721,     0.96452,     0.96452,     0.96452,     0.96452,     0.96452,     0.96452,     0.96452,     0.96452,     0.96452,     0.96166,     0.96166,     0.96166,     0.96166,     0.96166,     0.95942,     0.95942,     0.95942,\n",
              "            0.95942,     0.95942,     0.95942,     0.95942,     0.95942,     0.95942,     0.95942,     0.95942,     0.95942,     0.95942,     0.95942,     0.95942,     0.95942,     0.95942,     0.95942,     0.95942,     0.95942,     0.95942,     0.95942,     0.95942,     0.95942,     0.95942,     0.95942,\n",
              "            0.95942,     0.95942,     0.95942,     0.95942,     0.95942,     0.95942,     0.95942,     0.95942,     0.95942,     0.95942,     0.95942,     0.95942,     0.95942,     0.95942,     0.95942,     0.95942,     0.95942,     0.95942,     0.95942,     0.95942,     0.95942,     0.95942,     0.95942,\n",
              "            0.95942,     0.95942,     0.95942,     0.95942,     0.95942,     0.95942,     0.95942,     0.95942,     0.95942,     0.95942,     0.95942,     0.95942,     0.95942,     0.95942,     0.95942,     0.95942,     0.95942,     0.95942,     0.95942,     0.95942,     0.95942,     0.95775,     0.95775,\n",
              "            0.95775,     0.95775,     0.95775,     0.95775,     0.95775,     0.95775,     0.95775,     0.95775,     0.95775,     0.95775,     0.95775,     0.95775,     0.95775,     0.95775,     0.95775,     0.95775,     0.95775,     0.95775,     0.95775,     0.95775,      0.9558,      0.9558,      0.9558,\n",
              "             0.9558,      0.9558,      0.9558,      0.9558,      0.9558,      0.9558,      0.9558,      0.9558,      0.9558,      0.9558,      0.9558,     0.95342,     0.95342,     0.95342,     0.95342,     0.94851,     0.94851,     0.94851,     0.94851,     0.94851,     0.94609,     0.94609,     0.94609,\n",
              "             0.9437,      0.9437,     0.93979,     0.93979,     0.93979,     0.93979,     0.93979,     0.93979,     0.93979,     0.93979,     0.93979,     0.93979,     0.93979,     0.93979,     0.93979,     0.93979,     0.93979,     0.93979,      0.9383,      0.9383,      0.9383,      0.9383,      0.9383,\n",
              "             0.9383,      0.9383,      0.9383,      0.9383,      0.9383,      0.9383,      0.9383,      0.9383,      0.9383,     0.93655,     0.93655,     0.93655,     0.93655,     0.93655,     0.93655,     0.93655,     0.93655,     0.93655,     0.93655,     0.93216,     0.93216,     0.93216,     0.93216,\n",
              "            0.93216,        0.93,        0.93,      0.9284,      0.9284,      0.9284,      0.9284,      0.9284,      0.9284,      0.9284,      0.9284,      0.9284,     0.92647,     0.92647,     0.92647,     0.92647,     0.92647,     0.92214,     0.92214,     0.91807,     0.91807,     0.91807,     0.91807,\n",
              "            0.91807,     0.90952,     0.90952,     0.90952,     0.90118,     0.90118,     0.89095,     0.89095,     0.88506,     0.88506,     0.88506,     0.85588,     0.85588,      0.8543,      0.8543,     0.84716,     0.84716,     0.84716,     0.81551,     0.81551,      0.8125,      0.8125,      0.8112,\n",
              "             0.8112,      0.8112,     0.79032,     0.79032,       0.786,       0.786,     0.76505,     0.76505,     0.76505,     0.75526,     0.75526,     0.74858,     0.74858,     0.74858,     0.73112,     0.73112,     0.69702,     0.69702,     0.68205,     0.68205,     0.68205,     0.66477,     0.65331,\n",
              "            0.64185,     0.63039,     0.61893,     0.60747,       0.596,     0.58454,     0.57308,     0.56162,     0.55016,      0.5387,     0.52723,     0.51577,     0.50431,     0.49285,     0.48139,     0.46993,     0.45846,       0.447,     0.43554,     0.42408,     0.41262,     0.40116,     0.38969,\n",
              "            0.37823,     0.36677,     0.35531,     0.34385,     0.33239,     0.32093,     0.30946,       0.298,     0.28654,     0.27508,     0.26362,     0.25216,     0.24069,     0.22923,     0.21777,     0.20631,     0.19485,     0.18339,     0.17192,     0.16046,       0.149,     0.13754,     0.12608,\n",
              "            0.11462,     0.10315,    0.091693,    0.080231,     0.06877,    0.057308,    0.045846,    0.034385,    0.022923,    0.011462,           0]]), 'Recall', 'Precision'], [array([          0,    0.001001,    0.002002,    0.003003,    0.004004,    0.005005,    0.006006,    0.007007,    0.008008,    0.009009,     0.01001,    0.011011,    0.012012,    0.013013,    0.014014,    0.015015,    0.016016,    0.017017,    0.018018,    0.019019,     0.02002,    0.021021,    0.022022,    0.023023,\n",
              "          0.024024,    0.025025,    0.026026,    0.027027,    0.028028,    0.029029,     0.03003,    0.031031,    0.032032,    0.033033,    0.034034,    0.035035,    0.036036,    0.037037,    0.038038,    0.039039,     0.04004,    0.041041,    0.042042,    0.043043,    0.044044,    0.045045,    0.046046,    0.047047,\n",
              "          0.048048,    0.049049,     0.05005,    0.051051,    0.052052,    0.053053,    0.054054,    0.055055,    0.056056,    0.057057,    0.058058,    0.059059,     0.06006,    0.061061,    0.062062,    0.063063,    0.064064,    0.065065,    0.066066,    0.067067,    0.068068,    0.069069,     0.07007,    0.071071,\n",
              "          0.072072,    0.073073,    0.074074,    0.075075,    0.076076,    0.077077,    0.078078,    0.079079,     0.08008,    0.081081,    0.082082,    0.083083,    0.084084,    0.085085,    0.086086,    0.087087,    0.088088,    0.089089,     0.09009,    0.091091,    0.092092,    0.093093,    0.094094,    0.095095,\n",
              "          0.096096,    0.097097,    0.098098,    0.099099,      0.1001,      0.1011,      0.1021,      0.1031,      0.1041,     0.10511,     0.10611,     0.10711,     0.10811,     0.10911,     0.11011,     0.11111,     0.11211,     0.11311,     0.11411,     0.11512,     0.11612,     0.11712,     0.11812,     0.11912,\n",
              "           0.12012,     0.12112,     0.12212,     0.12312,     0.12412,     0.12513,     0.12613,     0.12713,     0.12813,     0.12913,     0.13013,     0.13113,     0.13213,     0.13313,     0.13413,     0.13514,     0.13614,     0.13714,     0.13814,     0.13914,     0.14014,     0.14114,     0.14214,     0.14314,\n",
              "           0.14414,     0.14515,     0.14615,     0.14715,     0.14815,     0.14915,     0.15015,     0.15115,     0.15215,     0.15315,     0.15415,     0.15516,     0.15616,     0.15716,     0.15816,     0.15916,     0.16016,     0.16116,     0.16216,     0.16316,     0.16416,     0.16517,     0.16617,     0.16717,\n",
              "           0.16817,     0.16917,     0.17017,     0.17117,     0.17217,     0.17317,     0.17417,     0.17518,     0.17618,     0.17718,     0.17818,     0.17918,     0.18018,     0.18118,     0.18218,     0.18318,     0.18418,     0.18519,     0.18619,     0.18719,     0.18819,     0.18919,     0.19019,     0.19119,\n",
              "           0.19219,     0.19319,     0.19419,      0.1952,      0.1962,      0.1972,      0.1982,      0.1992,      0.2002,      0.2012,      0.2022,      0.2032,      0.2042,     0.20521,     0.20621,     0.20721,     0.20821,     0.20921,     0.21021,     0.21121,     0.21221,     0.21321,     0.21421,     0.21522,\n",
              "           0.21622,     0.21722,     0.21822,     0.21922,     0.22022,     0.22122,     0.22222,     0.22322,     0.22422,     0.22523,     0.22623,     0.22723,     0.22823,     0.22923,     0.23023,     0.23123,     0.23223,     0.23323,     0.23423,     0.23524,     0.23624,     0.23724,     0.23824,     0.23924,\n",
              "           0.24024,     0.24124,     0.24224,     0.24324,     0.24424,     0.24525,     0.24625,     0.24725,     0.24825,     0.24925,     0.25025,     0.25125,     0.25225,     0.25325,     0.25425,     0.25526,     0.25626,     0.25726,     0.25826,     0.25926,     0.26026,     0.26126,     0.26226,     0.26326,\n",
              "           0.26426,     0.26527,     0.26627,     0.26727,     0.26827,     0.26927,     0.27027,     0.27127,     0.27227,     0.27327,     0.27427,     0.27528,     0.27628,     0.27728,     0.27828,     0.27928,     0.28028,     0.28128,     0.28228,     0.28328,     0.28428,     0.28529,     0.28629,     0.28729,\n",
              "           0.28829,     0.28929,     0.29029,     0.29129,     0.29229,     0.29329,     0.29429,      0.2953,      0.2963,      0.2973,      0.2983,      0.2993,      0.3003,      0.3013,      0.3023,      0.3033,      0.3043,     0.30531,     0.30631,     0.30731,     0.30831,     0.30931,     0.31031,     0.31131,\n",
              "           0.31231,     0.31331,     0.31431,     0.31532,     0.31632,     0.31732,     0.31832,     0.31932,     0.32032,     0.32132,     0.32232,     0.32332,     0.32432,     0.32533,     0.32633,     0.32733,     0.32833,     0.32933,     0.33033,     0.33133,     0.33233,     0.33333,     0.33433,     0.33534,\n",
              "           0.33634,     0.33734,     0.33834,     0.33934,     0.34034,     0.34134,     0.34234,     0.34334,     0.34434,     0.34535,     0.34635,     0.34735,     0.34835,     0.34935,     0.35035,     0.35135,     0.35235,     0.35335,     0.35435,     0.35536,     0.35636,     0.35736,     0.35836,     0.35936,\n",
              "           0.36036,     0.36136,     0.36236,     0.36336,     0.36436,     0.36537,     0.36637,     0.36737,     0.36837,     0.36937,     0.37037,     0.37137,     0.37237,     0.37337,     0.37437,     0.37538,     0.37638,     0.37738,     0.37838,     0.37938,     0.38038,     0.38138,     0.38238,     0.38338,\n",
              "           0.38438,     0.38539,     0.38639,     0.38739,     0.38839,     0.38939,     0.39039,     0.39139,     0.39239,     0.39339,     0.39439,      0.3954,      0.3964,      0.3974,      0.3984,      0.3994,      0.4004,      0.4014,      0.4024,      0.4034,      0.4044,     0.40541,     0.40641,     0.40741,\n",
              "           0.40841,     0.40941,     0.41041,     0.41141,     0.41241,     0.41341,     0.41441,     0.41542,     0.41642,     0.41742,     0.41842,     0.41942,     0.42042,     0.42142,     0.42242,     0.42342,     0.42442,     0.42543,     0.42643,     0.42743,     0.42843,     0.42943,     0.43043,     0.43143,\n",
              "           0.43243,     0.43343,     0.43443,     0.43544,     0.43644,     0.43744,     0.43844,     0.43944,     0.44044,     0.44144,     0.44244,     0.44344,     0.44444,     0.44545,     0.44645,     0.44745,     0.44845,     0.44945,     0.45045,     0.45145,     0.45245,     0.45345,     0.45445,     0.45546,\n",
              "           0.45646,     0.45746,     0.45846,     0.45946,     0.46046,     0.46146,     0.46246,     0.46346,     0.46446,     0.46547,     0.46647,     0.46747,     0.46847,     0.46947,     0.47047,     0.47147,     0.47247,     0.47347,     0.47447,     0.47548,     0.47648,     0.47748,     0.47848,     0.47948,\n",
              "           0.48048,     0.48148,     0.48248,     0.48348,     0.48448,     0.48549,     0.48649,     0.48749,     0.48849,     0.48949,     0.49049,     0.49149,     0.49249,     0.49349,     0.49449,      0.4955,      0.4965,      0.4975,      0.4985,      0.4995,      0.5005,      0.5015,      0.5025,      0.5035,\n",
              "            0.5045,     0.50551,     0.50651,     0.50751,     0.50851,     0.50951,     0.51051,     0.51151,     0.51251,     0.51351,     0.51451,     0.51552,     0.51652,     0.51752,     0.51852,     0.51952,     0.52052,     0.52152,     0.52252,     0.52352,     0.52452,     0.52553,     0.52653,     0.52753,\n",
              "           0.52853,     0.52953,     0.53053,     0.53153,     0.53253,     0.53353,     0.53453,     0.53554,     0.53654,     0.53754,     0.53854,     0.53954,     0.54054,     0.54154,     0.54254,     0.54354,     0.54454,     0.54555,     0.54655,     0.54755,     0.54855,     0.54955,     0.55055,     0.55155,\n",
              "           0.55255,     0.55355,     0.55455,     0.55556,     0.55656,     0.55756,     0.55856,     0.55956,     0.56056,     0.56156,     0.56256,     0.56356,     0.56456,     0.56557,     0.56657,     0.56757,     0.56857,     0.56957,     0.57057,     0.57157,     0.57257,     0.57357,     0.57457,     0.57558,\n",
              "           0.57658,     0.57758,     0.57858,     0.57958,     0.58058,     0.58158,     0.58258,     0.58358,     0.58458,     0.58559,     0.58659,     0.58759,     0.58859,     0.58959,     0.59059,     0.59159,     0.59259,     0.59359,     0.59459,      0.5956,      0.5966,      0.5976,      0.5986,      0.5996,\n",
              "            0.6006,      0.6016,      0.6026,      0.6036,      0.6046,     0.60561,     0.60661,     0.60761,     0.60861,     0.60961,     0.61061,     0.61161,     0.61261,     0.61361,     0.61461,     0.61562,     0.61662,     0.61762,     0.61862,     0.61962,     0.62062,     0.62162,     0.62262,     0.62362,\n",
              "           0.62462,     0.62563,     0.62663,     0.62763,     0.62863,     0.62963,     0.63063,     0.63163,     0.63263,     0.63363,     0.63463,     0.63564,     0.63664,     0.63764,     0.63864,     0.63964,     0.64064,     0.64164,     0.64264,     0.64364,     0.64464,     0.64565,     0.64665,     0.64765,\n",
              "           0.64865,     0.64965,     0.65065,     0.65165,     0.65265,     0.65365,     0.65465,     0.65566,     0.65666,     0.65766,     0.65866,     0.65966,     0.66066,     0.66166,     0.66266,     0.66366,     0.66466,     0.66567,     0.66667,     0.66767,     0.66867,     0.66967,     0.67067,     0.67167,\n",
              "           0.67267,     0.67367,     0.67467,     0.67568,     0.67668,     0.67768,     0.67868,     0.67968,     0.68068,     0.68168,     0.68268,     0.68368,     0.68468,     0.68569,     0.68669,     0.68769,     0.68869,     0.68969,     0.69069,     0.69169,     0.69269,     0.69369,     0.69469,      0.6957,\n",
              "            0.6967,      0.6977,      0.6987,      0.6997,      0.7007,      0.7017,      0.7027,      0.7037,      0.7047,     0.70571,     0.70671,     0.70771,     0.70871,     0.70971,     0.71071,     0.71171,     0.71271,     0.71371,     0.71471,     0.71572,     0.71672,     0.71772,     0.71872,     0.71972,\n",
              "           0.72072,     0.72172,     0.72272,     0.72372,     0.72472,     0.72573,     0.72673,     0.72773,     0.72873,     0.72973,     0.73073,     0.73173,     0.73273,     0.73373,     0.73473,     0.73574,     0.73674,     0.73774,     0.73874,     0.73974,     0.74074,     0.74174,     0.74274,     0.74374,\n",
              "           0.74474,     0.74575,     0.74675,     0.74775,     0.74875,     0.74975,     0.75075,     0.75175,     0.75275,     0.75375,     0.75475,     0.75576,     0.75676,     0.75776,     0.75876,     0.75976,     0.76076,     0.76176,     0.76276,     0.76376,     0.76476,     0.76577,     0.76677,     0.76777,\n",
              "           0.76877,     0.76977,     0.77077,     0.77177,     0.77277,     0.77377,     0.77477,     0.77578,     0.77678,     0.77778,     0.77878,     0.77978,     0.78078,     0.78178,     0.78278,     0.78378,     0.78478,     0.78579,     0.78679,     0.78779,     0.78879,     0.78979,     0.79079,     0.79179,\n",
              "           0.79279,     0.79379,     0.79479,      0.7958,      0.7968,      0.7978,      0.7988,      0.7998,      0.8008,      0.8018,      0.8028,      0.8038,      0.8048,     0.80581,     0.80681,     0.80781,     0.80881,     0.80981,     0.81081,     0.81181,     0.81281,     0.81381,     0.81481,     0.81582,\n",
              "           0.81682,     0.81782,     0.81882,     0.81982,     0.82082,     0.82182,     0.82282,     0.82382,     0.82482,     0.82583,     0.82683,     0.82783,     0.82883,     0.82983,     0.83083,     0.83183,     0.83283,     0.83383,     0.83483,     0.83584,     0.83684,     0.83784,     0.83884,     0.83984,\n",
              "           0.84084,     0.84184,     0.84284,     0.84384,     0.84484,     0.84585,     0.84685,     0.84785,     0.84885,     0.84985,     0.85085,     0.85185,     0.85285,     0.85385,     0.85485,     0.85586,     0.85686,     0.85786,     0.85886,     0.85986,     0.86086,     0.86186,     0.86286,     0.86386,\n",
              "           0.86486,     0.86587,     0.86687,     0.86787,     0.86887,     0.86987,     0.87087,     0.87187,     0.87287,     0.87387,     0.87487,     0.87588,     0.87688,     0.87788,     0.87888,     0.87988,     0.88088,     0.88188,     0.88288,     0.88388,     0.88488,     0.88589,     0.88689,     0.88789,\n",
              "           0.88889,     0.88989,     0.89089,     0.89189,     0.89289,     0.89389,     0.89489,      0.8959,      0.8969,      0.8979,      0.8989,      0.8999,      0.9009,      0.9019,      0.9029,      0.9039,      0.9049,     0.90591,     0.90691,     0.90791,     0.90891,     0.90991,     0.91091,     0.91191,\n",
              "           0.91291,     0.91391,     0.91491,     0.91592,     0.91692,     0.91792,     0.91892,     0.91992,     0.92092,     0.92192,     0.92292,     0.92392,     0.92492,     0.92593,     0.92693,     0.92793,     0.92893,     0.92993,     0.93093,     0.93193,     0.93293,     0.93393,     0.93493,     0.93594,\n",
              "           0.93694,     0.93794,     0.93894,     0.93994,     0.94094,     0.94194,     0.94294,     0.94394,     0.94494,     0.94595,     0.94695,     0.94795,     0.94895,     0.94995,     0.95095,     0.95195,     0.95295,     0.95395,     0.95495,     0.95596,     0.95696,     0.95796,     0.95896,     0.95996,\n",
              "           0.96096,     0.96196,     0.96296,     0.96396,     0.96496,     0.96597,     0.96697,     0.96797,     0.96897,     0.96997,     0.97097,     0.97197,     0.97297,     0.97397,     0.97497,     0.97598,     0.97698,     0.97798,     0.97898,     0.97998,     0.98098,     0.98198,     0.98298,     0.98398,\n",
              "           0.98498,     0.98599,     0.98699,     0.98799,     0.98899,     0.98999,     0.99099,     0.99199,     0.99299,     0.99399,     0.99499,       0.996,       0.997,       0.998,       0.999,           1]), array([[    0.78621,     0.78621,     0.82104,     0.83311,     0.83914,     0.85017,     0.85212,     0.85848,     0.86124,     0.86196,     0.86253,     0.86456,     0.86609,     0.86655,     0.86701,     0.87009,     0.87048,     0.87088,     0.87474,     0.87552,     0.87662,     0.87737,     0.87897,\n",
              "            0.87943,     0.88214,     0.88219,     0.88104,     0.88139,     0.88174,     0.88214,     0.88271,     0.88343,     0.88424,     0.88489,     0.88726,     0.88762,     0.88798,     0.88901,     0.88956,     0.89003,     0.89094,     0.89158,     0.89207,     0.89272,     0.89343,     0.89401,\n",
              "             0.8954,     0.89575,     0.89609,     0.89637,     0.89625,     0.89612,     0.89599,     0.89587,     0.89574,     0.89561,     0.89548,     0.89536,     0.89523,     0.89513,      0.8963,     0.89682,     0.89724,     0.89737,     0.89751,     0.89764,     0.89778,     0.89791,     0.89805,\n",
              "            0.89818,     0.89822,     0.89817,     0.89812,     0.89807,     0.89802,     0.89797,     0.89792,     0.89786,     0.89781,     0.89776,     0.89771,     0.89766,     0.89761,     0.89756,     0.89751,     0.89746,     0.89741,     0.89736,     0.89731,     0.89726,     0.89721,     0.89716,\n",
              "            0.89711,     0.89706,       0.897,       0.897,     0.89813,      0.8989,     0.89922,     0.89943,     0.89963,     0.89983,     0.90004,     0.90018,      0.9003,     0.90041,     0.90052,     0.90063,     0.90074,     0.90085,     0.90096,     0.90107,     0.90118,     0.90124,      0.9013,\n",
              "            0.90136,     0.90142,     0.90147,     0.90153,     0.90159,     0.90165,     0.90171,     0.90177,     0.90182,     0.90188,     0.90194,       0.902,     0.90206,     0.90212,     0.90218,     0.90223,      0.9022,     0.90216,     0.90213,     0.90209,     0.90205,     0.90201,     0.90197,\n",
              "            0.90194,      0.9019,     0.90186,     0.90182,     0.90178,     0.90174,     0.90171,     0.90167,     0.90163,     0.90159,     0.90155,     0.90151,     0.90148,     0.90144,      0.9014,     0.90136,     0.90132,     0.90129,     0.90125,     0.90121,     0.90117,     0.90113,     0.90109,\n",
              "            0.90106,     0.90102,     0.90098,     0.90096,     0.90121,     0.90146,     0.90171,     0.90196,     0.90206,     0.90213,     0.90219,     0.90226,     0.90233,     0.90239,     0.90246,     0.90252,     0.90259,     0.90266,     0.90272,     0.90279,     0.90286,     0.90292,     0.90299,\n",
              "            0.90305,     0.90312,     0.90319,     0.90327,     0.90334,     0.90341,     0.90348,     0.90355,     0.90362,     0.90369,     0.90376,     0.90383,      0.9039,     0.90398,     0.90405,     0.90412,     0.90425,     0.90442,     0.90458,     0.90475,     0.90491,     0.90508,     0.90497,\n",
              "            0.90392,     0.90396,     0.90399,     0.90402,     0.90405,     0.90409,     0.90412,     0.90415,     0.90418,     0.90422,     0.90425,     0.90428,     0.90432,     0.90435,     0.90438,     0.90441,     0.90445,     0.90448,     0.90451,     0.90454,     0.90458,     0.90461,     0.90464,\n",
              "            0.90468,     0.90471,     0.90474,     0.90477,     0.90481,     0.90484,     0.90487,      0.9049,     0.90494,     0.90497,     0.90503,     0.90512,     0.90522,     0.90531,     0.90541,      0.9055,     0.90559,     0.90569,     0.90578,     0.90588,     0.90597,     0.90607,     0.90628,\n",
              "             0.9065,     0.90671,     0.90692,     0.90713,     0.90716,     0.90718,     0.90721,     0.90723,     0.90725,     0.90727,     0.90729,     0.90731,     0.90734,     0.90736,     0.90738,      0.9074,     0.90742,     0.90744,     0.90746,     0.90749,     0.90751,     0.90753,     0.90755,\n",
              "            0.90757,     0.90759,     0.90761,     0.90764,     0.90766,     0.90768,      0.9077,     0.90772,     0.90774,     0.90777,     0.90779,     0.90781,     0.90783,     0.90785,     0.90787,     0.90789,     0.90792,     0.90794,     0.90796,     0.90798,       0.908,     0.90802,     0.90804,\n",
              "            0.90807,     0.90809,     0.90811,     0.90813,     0.90815,     0.90817,     0.90819,     0.90822,     0.90819,     0.90814,     0.90809,     0.90804,     0.90798,     0.90793,     0.90788,     0.90783,     0.90778,     0.90773,     0.90767,     0.90762,     0.90757,     0.90752,     0.90747,\n",
              "            0.90741,     0.90736,     0.90731,     0.90726,     0.90721,     0.90715,      0.9071,     0.90705,       0.907,     0.90695,     0.90672,     0.90633,     0.90593,     0.90563,     0.90568,     0.90574,     0.90579,     0.90585,      0.9059,     0.90596,     0.90601,     0.90607,     0.90612,\n",
              "            0.90618,     0.90623,     0.90628,     0.90634,     0.90639,     0.90645,      0.9065,     0.90656,     0.90661,     0.90667,     0.90773,     0.90743,     0.90712,     0.90682,     0.90652,     0.90663,      0.9068,     0.90698,     0.90716,     0.90733,     0.90751,     0.90779,      0.9081,\n",
              "            0.90842,      0.9086,     0.90841,     0.90822,     0.90803,     0.90783,     0.90764,     0.90745,     0.90733,      0.9073,     0.90727,     0.90724,     0.90721,     0.90718,     0.90715,     0.90712,     0.90709,     0.90706,     0.90703,       0.907,     0.90697,     0.90694,     0.90691,\n",
              "            0.90688,     0.90685,     0.90682,     0.90679,     0.90676,     0.90673,      0.9067,     0.90667,     0.90664,     0.90661,     0.90658,     0.90655,     0.90652,     0.90649,     0.90646,     0.90644,     0.90641,     0.90638,     0.90635,     0.90632,     0.90629,     0.90626,     0.90623,\n",
              "             0.9062,     0.90617,     0.90614,     0.90611,     0.90608,     0.90605,     0.90603,     0.90606,     0.90609,     0.90611,     0.90614,     0.90617,      0.9062,     0.90623,     0.90626,     0.90628,     0.90631,     0.90634,     0.90637,      0.9064,     0.90643,     0.90645,     0.90648,\n",
              "            0.90651,     0.90654,     0.90657,      0.9066,     0.90662,     0.90665,     0.90668,     0.90671,     0.90674,     0.90677,     0.90679,     0.90682,     0.90685,     0.90688,     0.90691,     0.90694,     0.90696,     0.90699,     0.90702,     0.90705,     0.90708,      0.9071,     0.90703,\n",
              "            0.90688,     0.90673,     0.90658,     0.90643,     0.90629,     0.90614,     0.90599,     0.90584,     0.90574,     0.90565,     0.90557,     0.90548,      0.9054,     0.90532,     0.90523,     0.90515,     0.90507,     0.90498,      0.9049,     0.90482,     0.90473,     0.90465,     0.90456,\n",
              "            0.90448,     0.90413,     0.90376,     0.90339,     0.90296,     0.90243,     0.90189,     0.90192,     0.90203,     0.90215,     0.90226,     0.90238,     0.90249,      0.9026,     0.90272,     0.90283,     0.90287,     0.90272,     0.90258,     0.90243,     0.90228,     0.90214,     0.90199,\n",
              "            0.90185,      0.9017,      0.9016,     0.90169,     0.90179,     0.90189,     0.90198,     0.90208,     0.90217,     0.90227,     0.90237,     0.90246,     0.90256,     0.90265,     0.90265,     0.90262,     0.90259,     0.90255,     0.90252,     0.90249,     0.90245,     0.90242,     0.90239,\n",
              "            0.90235,     0.90232,     0.90229,     0.90225,     0.90222,     0.90219,     0.90216,     0.90212,     0.90209,     0.90206,     0.90202,     0.90199,     0.90196,     0.90192,     0.90189,     0.90186,     0.90182,     0.90179,     0.90176,     0.90173,     0.90169,     0.90166,     0.90163,\n",
              "            0.90159,     0.90156,     0.90153,     0.90149,     0.90146,     0.90143,     0.90139,     0.90136,     0.90133,     0.90129,     0.90125,     0.90121,     0.90117,     0.90114,      0.9011,     0.90106,     0.90102,     0.90098,     0.90095,     0.90091,     0.90087,     0.90083,     0.90079,\n",
              "            0.90076,     0.90072,     0.90068,     0.90064,      0.9006,     0.90057,     0.90053,     0.90049,     0.90045,     0.90041,     0.90038,     0.90034,      0.9003,     0.90026,     0.90022,     0.90018,     0.90015,     0.90011,     0.90007,     0.90003,     0.90007,     0.90052,     0.90098,\n",
              "            0.90128,     0.90153,     0.90178,     0.90203,     0.90218,     0.90212,     0.90207,     0.90201,     0.90195,     0.90189,     0.90184,     0.90178,     0.90172,     0.90166,      0.9016,     0.90155,     0.90149,     0.90143,     0.90137,     0.90132,     0.90126,      0.9012,     0.90114,\n",
              "            0.90108,     0.90103,     0.90097,     0.90091,     0.90084,     0.90066,     0.90048,     0.90031,     0.90013,     0.89995,     0.89977,     0.89959,     0.89916,     0.89852,     0.89797,     0.89756,     0.89714,     0.89681,     0.89683,     0.89685,     0.89687,      0.8969,     0.89692,\n",
              "            0.89694,     0.89696,     0.89698,       0.897,     0.89702,     0.89704,     0.89707,     0.89709,     0.89711,     0.89713,     0.89715,     0.89717,     0.89719,     0.89722,     0.89724,     0.89726,     0.89728,      0.8973,     0.89732,     0.89734,     0.89736,     0.89739,     0.89741,\n",
              "            0.89743,     0.89745,     0.89747,     0.89749,     0.89751,     0.89753,     0.89756,     0.89758,      0.8976,     0.89762,     0.89764,     0.89766,     0.89768,     0.89771,     0.89773,     0.89775,     0.89777,     0.89779,     0.89781,     0.89783,     0.89785,     0.89788,      0.8979,\n",
              "            0.89789,     0.89784,      0.8978,     0.89775,     0.89771,     0.89766,     0.89762,     0.89757,     0.89753,     0.89748,     0.89743,     0.89739,     0.89734,      0.8973,     0.89725,     0.89721,     0.89716,     0.89711,     0.89707,     0.89702,     0.89698,     0.89693,     0.89689,\n",
              "            0.89684,     0.89679,     0.89675,      0.8967,     0.89666,     0.89661,     0.89657,     0.89557,     0.89515,      0.8951,     0.89504,     0.89499,     0.89494,     0.89488,     0.89483,     0.89477,     0.89472,     0.89467,     0.89461,     0.89456,      0.8945,     0.89445,      0.8944,\n",
              "            0.89434,     0.89429,     0.89423,     0.89418,     0.89413,     0.89407,     0.89402,     0.89396,     0.89391,     0.89386,     0.89378,     0.89368,     0.89359,     0.89349,     0.89339,      0.8933,      0.8932,      0.8931,       0.893,     0.89291,     0.89281,     0.89271,     0.89261,\n",
              "            0.89252,      0.8922,     0.89161,     0.89098,     0.89011,     0.88985,     0.89009,     0.89033,     0.89057,     0.89081,     0.89073,     0.89064,     0.89056,     0.89047,     0.89038,     0.89029,      0.8902,     0.89011,     0.89002,     0.88993,     0.88985,     0.88976,     0.88967,\n",
              "            0.88958,     0.88949,     0.88804,     0.88785,     0.88766,     0.88747,     0.88728,     0.88709,      0.8869,     0.88671,     0.88641,      0.8861,     0.88578,     0.88546,     0.88508,     0.88465,     0.88421,     0.88377,     0.88333,     0.88289,     0.88244,     0.88188,     0.88133,\n",
              "            0.88138,     0.88186,     0.88234,     0.88284,     0.88323,     0.88192,     0.88281,     0.88171,     0.88188,     0.88206,     0.88223,     0.88241,     0.88258,     0.88269,     0.88254,     0.88239,     0.88223,     0.88208,     0.88192,     0.88177,     0.88161,     0.88146,     0.88128,\n",
              "            0.88048,     0.88006,     0.88065,     0.88162,     0.87954,     0.87946,     0.87966,     0.87985,     0.88005,     0.88024,     0.88007,     0.87809,     0.87608,     0.87589,      0.8757,     0.87551,     0.87532,     0.87513,     0.87495,     0.87476,     0.87382,      0.8727,     0.87182,\n",
              "            0.87224,     0.87269,     0.87236,     0.87133,     0.87059,     0.86949,     0.86673,     0.86558,     0.86459,     0.86263,     0.86229,     0.86195,     0.86161,     0.86127,     0.86052,     0.85978,     0.86061,     0.86016,     0.85914,     0.85806,     0.85675,     0.85513,     0.85034,\n",
              "            0.84954,     0.84833,     0.84642,     0.84456,     0.84231,     0.84166,     0.83964,     0.83713,     0.83584,     0.83476,     0.83351,     0.83231,     0.82878,     0.82743,     0.82652,     0.82544,     0.82237,     0.82174,     0.82111,     0.81963,     0.81867,     0.81846,      0.8179,\n",
              "            0.81735,     0.81551,     0.81392,     0.81217,     0.80841,     0.80903,      0.8044,      0.7977,     0.79623,     0.79155,     0.78677,     0.78132,     0.77686,     0.77272,     0.76897,     0.76763,     0.76646,     0.76495,     0.76565,     0.76249,     0.75061,     0.74861,     0.74434,\n",
              "            0.74278,     0.73796,     0.73285,     0.73005,     0.72766,     0.72249,     0.71725,     0.71404,     0.70542,     0.69586,     0.68206,     0.67993,     0.66896,      0.6643,     0.65299,     0.64823,     0.64491,     0.63468,     0.62643,     0.61201,     0.60124,     0.58269,     0.56887,\n",
              "            0.56049,     0.54646,      0.5372,     0.52272,     0.49924,     0.48416,     0.45858,     0.42801,     0.40485,     0.36943,     0.32911,     0.30367,     0.25955,     0.22514,     0.19109,     0.16501,     0.12995,      0.1071,    0.081223,      0.0543,    0.044098,    0.037456,    0.025194,\n",
              "           0.021286,    0.016593,   0.0091067,           0,           0,           0,           0,           0,           0,           0,           0,           0,           0,           0,           0,           0,           0,           0,           0,           0,           0,           0,           0,\n",
              "                  0,           0,           0,           0,           0,           0,           0,           0,           0,           0,           0]]), 'Confidence', 'F1'], [array([          0,    0.001001,    0.002002,    0.003003,    0.004004,    0.005005,    0.006006,    0.007007,    0.008008,    0.009009,     0.01001,    0.011011,    0.012012,    0.013013,    0.014014,    0.015015,    0.016016,    0.017017,    0.018018,    0.019019,     0.02002,    0.021021,    0.022022,    0.023023,\n",
              "          0.024024,    0.025025,    0.026026,    0.027027,    0.028028,    0.029029,     0.03003,    0.031031,    0.032032,    0.033033,    0.034034,    0.035035,    0.036036,    0.037037,    0.038038,    0.039039,     0.04004,    0.041041,    0.042042,    0.043043,    0.044044,    0.045045,    0.046046,    0.047047,\n",
              "          0.048048,    0.049049,     0.05005,    0.051051,    0.052052,    0.053053,    0.054054,    0.055055,    0.056056,    0.057057,    0.058058,    0.059059,     0.06006,    0.061061,    0.062062,    0.063063,    0.064064,    0.065065,    0.066066,    0.067067,    0.068068,    0.069069,     0.07007,    0.071071,\n",
              "          0.072072,    0.073073,    0.074074,    0.075075,    0.076076,    0.077077,    0.078078,    0.079079,     0.08008,    0.081081,    0.082082,    0.083083,    0.084084,    0.085085,    0.086086,    0.087087,    0.088088,    0.089089,     0.09009,    0.091091,    0.092092,    0.093093,    0.094094,    0.095095,\n",
              "          0.096096,    0.097097,    0.098098,    0.099099,      0.1001,      0.1011,      0.1021,      0.1031,      0.1041,     0.10511,     0.10611,     0.10711,     0.10811,     0.10911,     0.11011,     0.11111,     0.11211,     0.11311,     0.11411,     0.11512,     0.11612,     0.11712,     0.11812,     0.11912,\n",
              "           0.12012,     0.12112,     0.12212,     0.12312,     0.12412,     0.12513,     0.12613,     0.12713,     0.12813,     0.12913,     0.13013,     0.13113,     0.13213,     0.13313,     0.13413,     0.13514,     0.13614,     0.13714,     0.13814,     0.13914,     0.14014,     0.14114,     0.14214,     0.14314,\n",
              "           0.14414,     0.14515,     0.14615,     0.14715,     0.14815,     0.14915,     0.15015,     0.15115,     0.15215,     0.15315,     0.15415,     0.15516,     0.15616,     0.15716,     0.15816,     0.15916,     0.16016,     0.16116,     0.16216,     0.16316,     0.16416,     0.16517,     0.16617,     0.16717,\n",
              "           0.16817,     0.16917,     0.17017,     0.17117,     0.17217,     0.17317,     0.17417,     0.17518,     0.17618,     0.17718,     0.17818,     0.17918,     0.18018,     0.18118,     0.18218,     0.18318,     0.18418,     0.18519,     0.18619,     0.18719,     0.18819,     0.18919,     0.19019,     0.19119,\n",
              "           0.19219,     0.19319,     0.19419,      0.1952,      0.1962,      0.1972,      0.1982,      0.1992,      0.2002,      0.2012,      0.2022,      0.2032,      0.2042,     0.20521,     0.20621,     0.20721,     0.20821,     0.20921,     0.21021,     0.21121,     0.21221,     0.21321,     0.21421,     0.21522,\n",
              "           0.21622,     0.21722,     0.21822,     0.21922,     0.22022,     0.22122,     0.22222,     0.22322,     0.22422,     0.22523,     0.22623,     0.22723,     0.22823,     0.22923,     0.23023,     0.23123,     0.23223,     0.23323,     0.23423,     0.23524,     0.23624,     0.23724,     0.23824,     0.23924,\n",
              "           0.24024,     0.24124,     0.24224,     0.24324,     0.24424,     0.24525,     0.24625,     0.24725,     0.24825,     0.24925,     0.25025,     0.25125,     0.25225,     0.25325,     0.25425,     0.25526,     0.25626,     0.25726,     0.25826,     0.25926,     0.26026,     0.26126,     0.26226,     0.26326,\n",
              "           0.26426,     0.26527,     0.26627,     0.26727,     0.26827,     0.26927,     0.27027,     0.27127,     0.27227,     0.27327,     0.27427,     0.27528,     0.27628,     0.27728,     0.27828,     0.27928,     0.28028,     0.28128,     0.28228,     0.28328,     0.28428,     0.28529,     0.28629,     0.28729,\n",
              "           0.28829,     0.28929,     0.29029,     0.29129,     0.29229,     0.29329,     0.29429,      0.2953,      0.2963,      0.2973,      0.2983,      0.2993,      0.3003,      0.3013,      0.3023,      0.3033,      0.3043,     0.30531,     0.30631,     0.30731,     0.30831,     0.30931,     0.31031,     0.31131,\n",
              "           0.31231,     0.31331,     0.31431,     0.31532,     0.31632,     0.31732,     0.31832,     0.31932,     0.32032,     0.32132,     0.32232,     0.32332,     0.32432,     0.32533,     0.32633,     0.32733,     0.32833,     0.32933,     0.33033,     0.33133,     0.33233,     0.33333,     0.33433,     0.33534,\n",
              "           0.33634,     0.33734,     0.33834,     0.33934,     0.34034,     0.34134,     0.34234,     0.34334,     0.34434,     0.34535,     0.34635,     0.34735,     0.34835,     0.34935,     0.35035,     0.35135,     0.35235,     0.35335,     0.35435,     0.35536,     0.35636,     0.35736,     0.35836,     0.35936,\n",
              "           0.36036,     0.36136,     0.36236,     0.36336,     0.36436,     0.36537,     0.36637,     0.36737,     0.36837,     0.36937,     0.37037,     0.37137,     0.37237,     0.37337,     0.37437,     0.37538,     0.37638,     0.37738,     0.37838,     0.37938,     0.38038,     0.38138,     0.38238,     0.38338,\n",
              "           0.38438,     0.38539,     0.38639,     0.38739,     0.38839,     0.38939,     0.39039,     0.39139,     0.39239,     0.39339,     0.39439,      0.3954,      0.3964,      0.3974,      0.3984,      0.3994,      0.4004,      0.4014,      0.4024,      0.4034,      0.4044,     0.40541,     0.40641,     0.40741,\n",
              "           0.40841,     0.40941,     0.41041,     0.41141,     0.41241,     0.41341,     0.41441,     0.41542,     0.41642,     0.41742,     0.41842,     0.41942,     0.42042,     0.42142,     0.42242,     0.42342,     0.42442,     0.42543,     0.42643,     0.42743,     0.42843,     0.42943,     0.43043,     0.43143,\n",
              "           0.43243,     0.43343,     0.43443,     0.43544,     0.43644,     0.43744,     0.43844,     0.43944,     0.44044,     0.44144,     0.44244,     0.44344,     0.44444,     0.44545,     0.44645,     0.44745,     0.44845,     0.44945,     0.45045,     0.45145,     0.45245,     0.45345,     0.45445,     0.45546,\n",
              "           0.45646,     0.45746,     0.45846,     0.45946,     0.46046,     0.46146,     0.46246,     0.46346,     0.46446,     0.46547,     0.46647,     0.46747,     0.46847,     0.46947,     0.47047,     0.47147,     0.47247,     0.47347,     0.47447,     0.47548,     0.47648,     0.47748,     0.47848,     0.47948,\n",
              "           0.48048,     0.48148,     0.48248,     0.48348,     0.48448,     0.48549,     0.48649,     0.48749,     0.48849,     0.48949,     0.49049,     0.49149,     0.49249,     0.49349,     0.49449,      0.4955,      0.4965,      0.4975,      0.4985,      0.4995,      0.5005,      0.5015,      0.5025,      0.5035,\n",
              "            0.5045,     0.50551,     0.50651,     0.50751,     0.50851,     0.50951,     0.51051,     0.51151,     0.51251,     0.51351,     0.51451,     0.51552,     0.51652,     0.51752,     0.51852,     0.51952,     0.52052,     0.52152,     0.52252,     0.52352,     0.52452,     0.52553,     0.52653,     0.52753,\n",
              "           0.52853,     0.52953,     0.53053,     0.53153,     0.53253,     0.53353,     0.53453,     0.53554,     0.53654,     0.53754,     0.53854,     0.53954,     0.54054,     0.54154,     0.54254,     0.54354,     0.54454,     0.54555,     0.54655,     0.54755,     0.54855,     0.54955,     0.55055,     0.55155,\n",
              "           0.55255,     0.55355,     0.55455,     0.55556,     0.55656,     0.55756,     0.55856,     0.55956,     0.56056,     0.56156,     0.56256,     0.56356,     0.56456,     0.56557,     0.56657,     0.56757,     0.56857,     0.56957,     0.57057,     0.57157,     0.57257,     0.57357,     0.57457,     0.57558,\n",
              "           0.57658,     0.57758,     0.57858,     0.57958,     0.58058,     0.58158,     0.58258,     0.58358,     0.58458,     0.58559,     0.58659,     0.58759,     0.58859,     0.58959,     0.59059,     0.59159,     0.59259,     0.59359,     0.59459,      0.5956,      0.5966,      0.5976,      0.5986,      0.5996,\n",
              "            0.6006,      0.6016,      0.6026,      0.6036,      0.6046,     0.60561,     0.60661,     0.60761,     0.60861,     0.60961,     0.61061,     0.61161,     0.61261,     0.61361,     0.61461,     0.61562,     0.61662,     0.61762,     0.61862,     0.61962,     0.62062,     0.62162,     0.62262,     0.62362,\n",
              "           0.62462,     0.62563,     0.62663,     0.62763,     0.62863,     0.62963,     0.63063,     0.63163,     0.63263,     0.63363,     0.63463,     0.63564,     0.63664,     0.63764,     0.63864,     0.63964,     0.64064,     0.64164,     0.64264,     0.64364,     0.64464,     0.64565,     0.64665,     0.64765,\n",
              "           0.64865,     0.64965,     0.65065,     0.65165,     0.65265,     0.65365,     0.65465,     0.65566,     0.65666,     0.65766,     0.65866,     0.65966,     0.66066,     0.66166,     0.66266,     0.66366,     0.66466,     0.66567,     0.66667,     0.66767,     0.66867,     0.66967,     0.67067,     0.67167,\n",
              "           0.67267,     0.67367,     0.67467,     0.67568,     0.67668,     0.67768,     0.67868,     0.67968,     0.68068,     0.68168,     0.68268,     0.68368,     0.68468,     0.68569,     0.68669,     0.68769,     0.68869,     0.68969,     0.69069,     0.69169,     0.69269,     0.69369,     0.69469,      0.6957,\n",
              "            0.6967,      0.6977,      0.6987,      0.6997,      0.7007,      0.7017,      0.7027,      0.7037,      0.7047,     0.70571,     0.70671,     0.70771,     0.70871,     0.70971,     0.71071,     0.71171,     0.71271,     0.71371,     0.71471,     0.71572,     0.71672,     0.71772,     0.71872,     0.71972,\n",
              "           0.72072,     0.72172,     0.72272,     0.72372,     0.72472,     0.72573,     0.72673,     0.72773,     0.72873,     0.72973,     0.73073,     0.73173,     0.73273,     0.73373,     0.73473,     0.73574,     0.73674,     0.73774,     0.73874,     0.73974,     0.74074,     0.74174,     0.74274,     0.74374,\n",
              "           0.74474,     0.74575,     0.74675,     0.74775,     0.74875,     0.74975,     0.75075,     0.75175,     0.75275,     0.75375,     0.75475,     0.75576,     0.75676,     0.75776,     0.75876,     0.75976,     0.76076,     0.76176,     0.76276,     0.76376,     0.76476,     0.76577,     0.76677,     0.76777,\n",
              "           0.76877,     0.76977,     0.77077,     0.77177,     0.77277,     0.77377,     0.77477,     0.77578,     0.77678,     0.77778,     0.77878,     0.77978,     0.78078,     0.78178,     0.78278,     0.78378,     0.78478,     0.78579,     0.78679,     0.78779,     0.78879,     0.78979,     0.79079,     0.79179,\n",
              "           0.79279,     0.79379,     0.79479,      0.7958,      0.7968,      0.7978,      0.7988,      0.7998,      0.8008,      0.8018,      0.8028,      0.8038,      0.8048,     0.80581,     0.80681,     0.80781,     0.80881,     0.80981,     0.81081,     0.81181,     0.81281,     0.81381,     0.81481,     0.81582,\n",
              "           0.81682,     0.81782,     0.81882,     0.81982,     0.82082,     0.82182,     0.82282,     0.82382,     0.82482,     0.82583,     0.82683,     0.82783,     0.82883,     0.82983,     0.83083,     0.83183,     0.83283,     0.83383,     0.83483,     0.83584,     0.83684,     0.83784,     0.83884,     0.83984,\n",
              "           0.84084,     0.84184,     0.84284,     0.84384,     0.84484,     0.84585,     0.84685,     0.84785,     0.84885,     0.84985,     0.85085,     0.85185,     0.85285,     0.85385,     0.85485,     0.85586,     0.85686,     0.85786,     0.85886,     0.85986,     0.86086,     0.86186,     0.86286,     0.86386,\n",
              "           0.86486,     0.86587,     0.86687,     0.86787,     0.86887,     0.86987,     0.87087,     0.87187,     0.87287,     0.87387,     0.87487,     0.87588,     0.87688,     0.87788,     0.87888,     0.87988,     0.88088,     0.88188,     0.88288,     0.88388,     0.88488,     0.88589,     0.88689,     0.88789,\n",
              "           0.88889,     0.88989,     0.89089,     0.89189,     0.89289,     0.89389,     0.89489,      0.8959,      0.8969,      0.8979,      0.8989,      0.8999,      0.9009,      0.9019,      0.9029,      0.9039,      0.9049,     0.90591,     0.90691,     0.90791,     0.90891,     0.90991,     0.91091,     0.91191,\n",
              "           0.91291,     0.91391,     0.91491,     0.91592,     0.91692,     0.91792,     0.91892,     0.91992,     0.92092,     0.92192,     0.92292,     0.92392,     0.92492,     0.92593,     0.92693,     0.92793,     0.92893,     0.92993,     0.93093,     0.93193,     0.93293,     0.93393,     0.93493,     0.93594,\n",
              "           0.93694,     0.93794,     0.93894,     0.93994,     0.94094,     0.94194,     0.94294,     0.94394,     0.94494,     0.94595,     0.94695,     0.94795,     0.94895,     0.94995,     0.95095,     0.95195,     0.95295,     0.95395,     0.95495,     0.95596,     0.95696,     0.95796,     0.95896,     0.95996,\n",
              "           0.96096,     0.96196,     0.96296,     0.96396,     0.96496,     0.96597,     0.96697,     0.96797,     0.96897,     0.96997,     0.97097,     0.97197,     0.97297,     0.97397,     0.97497,     0.97598,     0.97698,     0.97798,     0.97898,     0.97998,     0.98098,     0.98198,     0.98298,     0.98398,\n",
              "           0.98498,     0.98599,     0.98699,     0.98799,     0.98899,     0.98999,     0.99099,     0.99199,     0.99299,     0.99399,     0.99499,       0.996,       0.997,       0.998,       0.999,           1]), array([[    0.67513,     0.67513,      0.7311,     0.75345,     0.76656,     0.78517,     0.79197,     0.80303,     0.80787,     0.81281,     0.81522,     0.81931,     0.82207,      0.8229,     0.82373,      0.8293,     0.83002,     0.83074,     0.83779,     0.83922,     0.84125,     0.84262,     0.84558,\n",
              "            0.84846,     0.85353,     0.85585,     0.85561,     0.85627,     0.85694,     0.85769,     0.85878,     0.86014,     0.86168,     0.86291,     0.86742,     0.86811,      0.8688,     0.87078,     0.87185,     0.87274,     0.87449,     0.87572,     0.87666,     0.87793,     0.87929,     0.88043,\n",
              "            0.88312,      0.8838,     0.88448,     0.88505,     0.88503,       0.885,     0.88498,     0.88495,     0.88492,      0.8849,     0.88487,     0.88484,     0.88482,     0.88483,     0.88712,     0.88816,     0.88897,     0.88923,      0.8895,     0.88976,     0.89003,      0.8903,     0.89056,\n",
              "            0.89083,     0.89095,     0.89094,     0.89093,     0.89092,     0.89091,      0.8909,     0.89089,     0.89088,     0.89087,     0.89086,     0.89085,     0.89084,     0.89083,     0.89082,     0.89081,      0.8908,     0.89079,     0.89078,     0.89077,     0.89076,     0.89075,     0.89074,\n",
              "            0.89073,     0.89072,     0.89071,     0.89078,     0.89302,     0.89454,     0.89518,     0.89558,     0.89599,     0.89639,     0.89679,     0.89709,     0.89731,     0.89753,     0.89775,     0.89797,     0.89819,     0.89841,     0.89864,     0.89886,     0.89907,     0.89919,      0.8993,\n",
              "            0.89942,     0.89954,     0.89965,     0.89977,     0.89989,         0.9,     0.90012,     0.90024,     0.90035,     0.90047,     0.90059,      0.9007,     0.90082,     0.90094,     0.90105,     0.90117,     0.90117,     0.90116,     0.90116,     0.90115,     0.90114,     0.90114,     0.90113,\n",
              "            0.90112,     0.90112,     0.90111,      0.9011,     0.90109,     0.90109,     0.90108,     0.90107,     0.90107,     0.90106,     0.90105,     0.90105,     0.90104,     0.90103,     0.90103,     0.90102,     0.90101,       0.901,       0.901,     0.90099,     0.90098,     0.90098,     0.90097,\n",
              "            0.90096,     0.90096,     0.90095,     0.90097,     0.90148,     0.90198,     0.90248,     0.90298,     0.90318,     0.90331,     0.90345,     0.90358,     0.90371,     0.90385,     0.90398,     0.90411,     0.90424,     0.90438,     0.90451,     0.90464,     0.90478,     0.90491,     0.90504,\n",
              "            0.90517,     0.90531,     0.90546,      0.9056,     0.90574,     0.90589,     0.90603,     0.90617,     0.90631,     0.90646,      0.9066,     0.90674,     0.90689,     0.90703,     0.90717,     0.90731,     0.90758,     0.90792,     0.90825,     0.90858,     0.90892,     0.90925,     0.90948,\n",
              "            0.90933,     0.90939,     0.90946,     0.90952,     0.90959,     0.90966,     0.90972,     0.90979,     0.90986,     0.90992,     0.90999,     0.91005,     0.91012,     0.91019,     0.91025,     0.91032,     0.91039,     0.91045,     0.91052,     0.91058,     0.91065,     0.91072,     0.91078,\n",
              "            0.91085,     0.91092,     0.91098,     0.91105,     0.91111,     0.91118,     0.91125,     0.91131,     0.91138,     0.91145,     0.91157,     0.91176,     0.91195,     0.91214,     0.91233,     0.91252,     0.91272,     0.91291,      0.9131,     0.91329,     0.91348,     0.91368,     0.91411,\n",
              "            0.91455,     0.91498,     0.91541,     0.91585,     0.91591,     0.91595,       0.916,     0.91604,     0.91608,     0.91613,     0.91617,     0.91621,     0.91626,      0.9163,     0.91635,     0.91639,     0.91643,     0.91648,     0.91652,     0.91657,     0.91661,     0.91665,      0.9167,\n",
              "            0.91674,     0.91678,     0.91683,     0.91687,     0.91692,     0.91696,       0.917,     0.91705,     0.91709,     0.91714,     0.91718,     0.91722,     0.91727,     0.91731,     0.91735,      0.9174,     0.91744,     0.91749,     0.91753,     0.91757,     0.91762,     0.91766,      0.9177,\n",
              "            0.91775,     0.91779,     0.91784,     0.91788,     0.91792,     0.91797,     0.91801,     0.91806,     0.91807,     0.91806,     0.91805,     0.91804,     0.91804,     0.91803,     0.91802,     0.91801,       0.918,       0.918,     0.91799,     0.91798,     0.91797,     0.91796,     0.91796,\n",
              "            0.91795,     0.91794,     0.91793,     0.91793,     0.91792,     0.91791,      0.9179,     0.91789,     0.91789,     0.91788,     0.91784,     0.91778,     0.91772,      0.9177,     0.91781,     0.91792,     0.91804,     0.91815,     0.91826,     0.91837,     0.91849,      0.9186,     0.91871,\n",
              "            0.91883,     0.91894,     0.91905,     0.91916,     0.91928,     0.91939,      0.9195,     0.91962,     0.91973,     0.91984,     0.92213,     0.92209,     0.92205,       0.922,     0.92196,     0.92227,     0.92263,       0.923,     0.92337,     0.92373,      0.9241,     0.92467,     0.92533,\n",
              "            0.92598,     0.92646,     0.92644,     0.92641,     0.92638,     0.92636,     0.92633,      0.9263,     0.92629,     0.92628,     0.92628,     0.92628,     0.92627,     0.92627,     0.92626,     0.92626,     0.92626,     0.92625,     0.92625,     0.92624,     0.92624,     0.92623,     0.92623,\n",
              "            0.92623,     0.92622,     0.92622,     0.92621,     0.92621,     0.92621,      0.9262,      0.9262,     0.92619,     0.92619,     0.92619,     0.92618,     0.92618,     0.92617,     0.92617,     0.92617,     0.92616,     0.92616,     0.92615,     0.92615,     0.92614,     0.92614,     0.92614,\n",
              "            0.92613,     0.92613,     0.92612,     0.92612,     0.92612,     0.92611,     0.92612,     0.92618,     0.92624,      0.9263,     0.92636,     0.92642,     0.92648,     0.92653,     0.92659,     0.92665,     0.92671,     0.92677,     0.92683,     0.92689,     0.92695,     0.92701,     0.92707,\n",
              "            0.92713,     0.92719,     0.92724,      0.9273,     0.92736,     0.92742,     0.92748,     0.92754,      0.9276,     0.92766,     0.92772,     0.92778,     0.92784,      0.9279,     0.92796,     0.92801,     0.92807,     0.92813,     0.92819,     0.92825,     0.92831,     0.92837,     0.92838,\n",
              "            0.92836,     0.92834,     0.92832,      0.9283,     0.92828,     0.92826,     0.92824,     0.92822,     0.92821,      0.9282,     0.92819,     0.92818,     0.92816,     0.92815,     0.92814,     0.92813,     0.92812,     0.92811,      0.9281,     0.92809,     0.92807,     0.92806,     0.92805,\n",
              "            0.92804,     0.92799,     0.92794,     0.92789,     0.92784,     0.92776,     0.92769,     0.92789,     0.92813,     0.92838,     0.92862,     0.92886,      0.9291,     0.92935,     0.92959,     0.92983,     0.92999,     0.92997,     0.92996,     0.92994,     0.92992,      0.9299,     0.92988,\n",
              "            0.92986,     0.92984,     0.92986,     0.93007,     0.93027,     0.93048,     0.93068,     0.93088,     0.93109,     0.93129,      0.9315,      0.9317,     0.93191,     0.93211,     0.93216,     0.93215,     0.93215,     0.93214,     0.93214,     0.93214,     0.93213,     0.93213,     0.93212,\n",
              "            0.93212,     0.93212,     0.93211,     0.93211,      0.9321,      0.9321,     0.93209,     0.93209,     0.93209,     0.93208,     0.93208,     0.93207,     0.93207,     0.93206,     0.93206,     0.93206,     0.93205,     0.93205,     0.93204,     0.93204,     0.93203,     0.93203,     0.93203,\n",
              "            0.93202,     0.93202,     0.93201,     0.93201,     0.93201,       0.932,       0.932,     0.93199,     0.93199,     0.93198,     0.93198,     0.93197,     0.93197,     0.93196,     0.93196,     0.93195,     0.93195,     0.93194,     0.93194,     0.93193,     0.93193,     0.93192,     0.93192,\n",
              "            0.93192,     0.93191,     0.93191,      0.9319,      0.9319,     0.93189,     0.93189,     0.93188,     0.93188,     0.93187,     0.93187,     0.93186,     0.93186,     0.93185,     0.93185,     0.93184,     0.93184,     0.93183,     0.93183,     0.93182,     0.93196,     0.93294,     0.93391,\n",
              "            0.93457,     0.93511,     0.93564,     0.93618,     0.93655,     0.93654,     0.93653,     0.93653,     0.93652,     0.93651,      0.9365,      0.9365,     0.93649,     0.93648,     0.93648,     0.93647,     0.93646,     0.93646,     0.93645,     0.93644,     0.93643,     0.93643,     0.93642,\n",
              "            0.93641,     0.93641,      0.9364,     0.93639,     0.93639,     0.93636,     0.93634,     0.93632,      0.9363,     0.93628,     0.93626,     0.93623,     0.93618,      0.9361,     0.93604,     0.93599,     0.93594,     0.93591,     0.93595,       0.936,     0.93605,     0.93609,     0.93614,\n",
              "            0.93619,     0.93623,     0.93628,     0.93632,     0.93637,     0.93642,     0.93646,     0.93651,     0.93656,      0.9366,     0.93665,      0.9367,     0.93674,     0.93679,     0.93684,     0.93688,     0.93693,     0.93698,     0.93702,     0.93707,     0.93711,     0.93716,     0.93721,\n",
              "            0.93725,      0.9373,     0.93735,     0.93739,     0.93744,     0.93749,     0.93753,     0.93758,     0.93763,     0.93767,     0.93772,     0.93777,     0.93781,     0.93786,      0.9379,     0.93795,       0.938,     0.93804,     0.93809,     0.93814,     0.93818,     0.93823,     0.93828,\n",
              "             0.9383,      0.9383,     0.93829,     0.93829,     0.93828,     0.93827,     0.93827,     0.93826,     0.93826,     0.93825,     0.93825,     0.93824,     0.93824,     0.93823,     0.93823,     0.93822,     0.93822,     0.93821,      0.9382,      0.9382,     0.93819,     0.93819,     0.93818,\n",
              "            0.93818,     0.93817,     0.93817,     0.93816,     0.93816,     0.93815,     0.93815,     0.93803,     0.93798,     0.93797,     0.93797,     0.93796,     0.93795,     0.93795,     0.93794,     0.93794,     0.93793,     0.93792,     0.93792,     0.93791,      0.9379,      0.9379,     0.93789,\n",
              "            0.93788,     0.93788,     0.93787,     0.93787,     0.93786,     0.93785,     0.93785,     0.93784,     0.93783,     0.93783,     0.93782,     0.93781,      0.9378,     0.93778,     0.93777,     0.93776,     0.93775,     0.93774,     0.93773,     0.93771,      0.9377,     0.93769,     0.93768,\n",
              "            0.93767,     0.93763,     0.93756,     0.93749,     0.93738,     0.93763,     0.93817,      0.9387,     0.93924,     0.93978,     0.93978,     0.93977,     0.93976,     0.93975,     0.93974,     0.93973,     0.93972,     0.93971,      0.9397,     0.93969,     0.93968,     0.93967,     0.93966,\n",
              "            0.93965,     0.93964,     0.93947,     0.93945,     0.93943,     0.93941,     0.93938,     0.93936,     0.93934,     0.93932,     0.93928,     0.93925,     0.93921,     0.93917,     0.93913,     0.93908,     0.93903,     0.93898,     0.93893,     0.93888,     0.93882,     0.93876,     0.93869,\n",
              "            0.93931,     0.94039,     0.94148,     0.94263,     0.94369,     0.94357,     0.94607,     0.94616,     0.94657,     0.94697,     0.94738,     0.94778,     0.94819,     0.94851,     0.94849,     0.94848,     0.94846,     0.94845,     0.94843,     0.94841,      0.9484,     0.94838,     0.94837,\n",
              "            0.94829,     0.94861,     0.94998,     0.95223,     0.95319,     0.95357,     0.95403,     0.95449,     0.95495,     0.95541,     0.95577,      0.9556,     0.95543,     0.95541,      0.9554,     0.95538,     0.95536,     0.95535,     0.95533,     0.95531,     0.95523,     0.95514,     0.95506,\n",
              "            0.95612,     0.95721,      0.9577,     0.95762,     0.95755,     0.95746,     0.95723,     0.95714,     0.95706,     0.95689,     0.95686,     0.95683,     0.95681,     0.95678,     0.95671,     0.95675,      0.9588,     0.95936,     0.95928,      0.9592,     0.95909,     0.95896,     0.95858,\n",
              "            0.95851,     0.95841,     0.95826,      0.9581,     0.95792,     0.95786,      0.9577,     0.95749,     0.95738,     0.95729,     0.95718,     0.95708,     0.95678,     0.95667,     0.95659,      0.9565,     0.95623,     0.95618,     0.95612,     0.95599,     0.95819,     0.95882,     0.95878,\n",
              "            0.95873,     0.96156,     0.96229,     0.96434,     0.96461,     0.96637,     0.96689,     0.96644,     0.96634,     0.96602,     0.96569,     0.96531,     0.96499,      0.9647,     0.96443,     0.96771,     0.96763,     0.96856,     0.97081,     0.97082,      0.9701,     0.96997,     0.97023,\n",
              "            0.97325,     0.97298,     0.97268,     0.97252,     0.97239,     0.97208,     0.97177,     0.97158,     0.97106,     0.97046,     0.97375,      0.9776,     0.97734,      0.9771,     0.97652,     0.97627,      0.9761,     0.97554,     0.97508,     0.97924,     0.97872,     0.97777,     0.98263,\n",
              "            0.98228,     0.98165,     0.98123,     0.98053,     0.98019,     0.98551,     0.98446,     0.98305,     0.98184,      0.9797,     0.97672,     0.98703,           1,           1,           1,           1,           1,           1,           1,           1,           1,           1,           1,\n",
              "                  1,           1,           1,           1,           1,           1,           1,           1,           1,           1,           1,           1,           1,           1,           1,           1,           1,           1,           1,           1,           1,           1,           1,\n",
              "                  1,           1,           1,           1,           1,           1,           1,           1,           1,           1,           1]]), 'Confidence', 'Precision'], [array([          0,    0.001001,    0.002002,    0.003003,    0.004004,    0.005005,    0.006006,    0.007007,    0.008008,    0.009009,     0.01001,    0.011011,    0.012012,    0.013013,    0.014014,    0.015015,    0.016016,    0.017017,    0.018018,    0.019019,     0.02002,    0.021021,    0.022022,    0.023023,\n",
              "          0.024024,    0.025025,    0.026026,    0.027027,    0.028028,    0.029029,     0.03003,    0.031031,    0.032032,    0.033033,    0.034034,    0.035035,    0.036036,    0.037037,    0.038038,    0.039039,     0.04004,    0.041041,    0.042042,    0.043043,    0.044044,    0.045045,    0.046046,    0.047047,\n",
              "          0.048048,    0.049049,     0.05005,    0.051051,    0.052052,    0.053053,    0.054054,    0.055055,    0.056056,    0.057057,    0.058058,    0.059059,     0.06006,    0.061061,    0.062062,    0.063063,    0.064064,    0.065065,    0.066066,    0.067067,    0.068068,    0.069069,     0.07007,    0.071071,\n",
              "          0.072072,    0.073073,    0.074074,    0.075075,    0.076076,    0.077077,    0.078078,    0.079079,     0.08008,    0.081081,    0.082082,    0.083083,    0.084084,    0.085085,    0.086086,    0.087087,    0.088088,    0.089089,     0.09009,    0.091091,    0.092092,    0.093093,    0.094094,    0.095095,\n",
              "          0.096096,    0.097097,    0.098098,    0.099099,      0.1001,      0.1011,      0.1021,      0.1031,      0.1041,     0.10511,     0.10611,     0.10711,     0.10811,     0.10911,     0.11011,     0.11111,     0.11211,     0.11311,     0.11411,     0.11512,     0.11612,     0.11712,     0.11812,     0.11912,\n",
              "           0.12012,     0.12112,     0.12212,     0.12312,     0.12412,     0.12513,     0.12613,     0.12713,     0.12813,     0.12913,     0.13013,     0.13113,     0.13213,     0.13313,     0.13413,     0.13514,     0.13614,     0.13714,     0.13814,     0.13914,     0.14014,     0.14114,     0.14214,     0.14314,\n",
              "           0.14414,     0.14515,     0.14615,     0.14715,     0.14815,     0.14915,     0.15015,     0.15115,     0.15215,     0.15315,     0.15415,     0.15516,     0.15616,     0.15716,     0.15816,     0.15916,     0.16016,     0.16116,     0.16216,     0.16316,     0.16416,     0.16517,     0.16617,     0.16717,\n",
              "           0.16817,     0.16917,     0.17017,     0.17117,     0.17217,     0.17317,     0.17417,     0.17518,     0.17618,     0.17718,     0.17818,     0.17918,     0.18018,     0.18118,     0.18218,     0.18318,     0.18418,     0.18519,     0.18619,     0.18719,     0.18819,     0.18919,     0.19019,     0.19119,\n",
              "           0.19219,     0.19319,     0.19419,      0.1952,      0.1962,      0.1972,      0.1982,      0.1992,      0.2002,      0.2012,      0.2022,      0.2032,      0.2042,     0.20521,     0.20621,     0.20721,     0.20821,     0.20921,     0.21021,     0.21121,     0.21221,     0.21321,     0.21421,     0.21522,\n",
              "           0.21622,     0.21722,     0.21822,     0.21922,     0.22022,     0.22122,     0.22222,     0.22322,     0.22422,     0.22523,     0.22623,     0.22723,     0.22823,     0.22923,     0.23023,     0.23123,     0.23223,     0.23323,     0.23423,     0.23524,     0.23624,     0.23724,     0.23824,     0.23924,\n",
              "           0.24024,     0.24124,     0.24224,     0.24324,     0.24424,     0.24525,     0.24625,     0.24725,     0.24825,     0.24925,     0.25025,     0.25125,     0.25225,     0.25325,     0.25425,     0.25526,     0.25626,     0.25726,     0.25826,     0.25926,     0.26026,     0.26126,     0.26226,     0.26326,\n",
              "           0.26426,     0.26527,     0.26627,     0.26727,     0.26827,     0.26927,     0.27027,     0.27127,     0.27227,     0.27327,     0.27427,     0.27528,     0.27628,     0.27728,     0.27828,     0.27928,     0.28028,     0.28128,     0.28228,     0.28328,     0.28428,     0.28529,     0.28629,     0.28729,\n",
              "           0.28829,     0.28929,     0.29029,     0.29129,     0.29229,     0.29329,     0.29429,      0.2953,      0.2963,      0.2973,      0.2983,      0.2993,      0.3003,      0.3013,      0.3023,      0.3033,      0.3043,     0.30531,     0.30631,     0.30731,     0.30831,     0.30931,     0.31031,     0.31131,\n",
              "           0.31231,     0.31331,     0.31431,     0.31532,     0.31632,     0.31732,     0.31832,     0.31932,     0.32032,     0.32132,     0.32232,     0.32332,     0.32432,     0.32533,     0.32633,     0.32733,     0.32833,     0.32933,     0.33033,     0.33133,     0.33233,     0.33333,     0.33433,     0.33534,\n",
              "           0.33634,     0.33734,     0.33834,     0.33934,     0.34034,     0.34134,     0.34234,     0.34334,     0.34434,     0.34535,     0.34635,     0.34735,     0.34835,     0.34935,     0.35035,     0.35135,     0.35235,     0.35335,     0.35435,     0.35536,     0.35636,     0.35736,     0.35836,     0.35936,\n",
              "           0.36036,     0.36136,     0.36236,     0.36336,     0.36436,     0.36537,     0.36637,     0.36737,     0.36837,     0.36937,     0.37037,     0.37137,     0.37237,     0.37337,     0.37437,     0.37538,     0.37638,     0.37738,     0.37838,     0.37938,     0.38038,     0.38138,     0.38238,     0.38338,\n",
              "           0.38438,     0.38539,     0.38639,     0.38739,     0.38839,     0.38939,     0.39039,     0.39139,     0.39239,     0.39339,     0.39439,      0.3954,      0.3964,      0.3974,      0.3984,      0.3994,      0.4004,      0.4014,      0.4024,      0.4034,      0.4044,     0.40541,     0.40641,     0.40741,\n",
              "           0.40841,     0.40941,     0.41041,     0.41141,     0.41241,     0.41341,     0.41441,     0.41542,     0.41642,     0.41742,     0.41842,     0.41942,     0.42042,     0.42142,     0.42242,     0.42342,     0.42442,     0.42543,     0.42643,     0.42743,     0.42843,     0.42943,     0.43043,     0.43143,\n",
              "           0.43243,     0.43343,     0.43443,     0.43544,     0.43644,     0.43744,     0.43844,     0.43944,     0.44044,     0.44144,     0.44244,     0.44344,     0.44444,     0.44545,     0.44645,     0.44745,     0.44845,     0.44945,     0.45045,     0.45145,     0.45245,     0.45345,     0.45445,     0.45546,\n",
              "           0.45646,     0.45746,     0.45846,     0.45946,     0.46046,     0.46146,     0.46246,     0.46346,     0.46446,     0.46547,     0.46647,     0.46747,     0.46847,     0.46947,     0.47047,     0.47147,     0.47247,     0.47347,     0.47447,     0.47548,     0.47648,     0.47748,     0.47848,     0.47948,\n",
              "           0.48048,     0.48148,     0.48248,     0.48348,     0.48448,     0.48549,     0.48649,     0.48749,     0.48849,     0.48949,     0.49049,     0.49149,     0.49249,     0.49349,     0.49449,      0.4955,      0.4965,      0.4975,      0.4985,      0.4995,      0.5005,      0.5015,      0.5025,      0.5035,\n",
              "            0.5045,     0.50551,     0.50651,     0.50751,     0.50851,     0.50951,     0.51051,     0.51151,     0.51251,     0.51351,     0.51451,     0.51552,     0.51652,     0.51752,     0.51852,     0.51952,     0.52052,     0.52152,     0.52252,     0.52352,     0.52452,     0.52553,     0.52653,     0.52753,\n",
              "           0.52853,     0.52953,     0.53053,     0.53153,     0.53253,     0.53353,     0.53453,     0.53554,     0.53654,     0.53754,     0.53854,     0.53954,     0.54054,     0.54154,     0.54254,     0.54354,     0.54454,     0.54555,     0.54655,     0.54755,     0.54855,     0.54955,     0.55055,     0.55155,\n",
              "           0.55255,     0.55355,     0.55455,     0.55556,     0.55656,     0.55756,     0.55856,     0.55956,     0.56056,     0.56156,     0.56256,     0.56356,     0.56456,     0.56557,     0.56657,     0.56757,     0.56857,     0.56957,     0.57057,     0.57157,     0.57257,     0.57357,     0.57457,     0.57558,\n",
              "           0.57658,     0.57758,     0.57858,     0.57958,     0.58058,     0.58158,     0.58258,     0.58358,     0.58458,     0.58559,     0.58659,     0.58759,     0.58859,     0.58959,     0.59059,     0.59159,     0.59259,     0.59359,     0.59459,      0.5956,      0.5966,      0.5976,      0.5986,      0.5996,\n",
              "            0.6006,      0.6016,      0.6026,      0.6036,      0.6046,     0.60561,     0.60661,     0.60761,     0.60861,     0.60961,     0.61061,     0.61161,     0.61261,     0.61361,     0.61461,     0.61562,     0.61662,     0.61762,     0.61862,     0.61962,     0.62062,     0.62162,     0.62262,     0.62362,\n",
              "           0.62462,     0.62563,     0.62663,     0.62763,     0.62863,     0.62963,     0.63063,     0.63163,     0.63263,     0.63363,     0.63463,     0.63564,     0.63664,     0.63764,     0.63864,     0.63964,     0.64064,     0.64164,     0.64264,     0.64364,     0.64464,     0.64565,     0.64665,     0.64765,\n",
              "           0.64865,     0.64965,     0.65065,     0.65165,     0.65265,     0.65365,     0.65465,     0.65566,     0.65666,     0.65766,     0.65866,     0.65966,     0.66066,     0.66166,     0.66266,     0.66366,     0.66466,     0.66567,     0.66667,     0.66767,     0.66867,     0.66967,     0.67067,     0.67167,\n",
              "           0.67267,     0.67367,     0.67467,     0.67568,     0.67668,     0.67768,     0.67868,     0.67968,     0.68068,     0.68168,     0.68268,     0.68368,     0.68468,     0.68569,     0.68669,     0.68769,     0.68869,     0.68969,     0.69069,     0.69169,     0.69269,     0.69369,     0.69469,      0.6957,\n",
              "            0.6967,      0.6977,      0.6987,      0.6997,      0.7007,      0.7017,      0.7027,      0.7037,      0.7047,     0.70571,     0.70671,     0.70771,     0.70871,     0.70971,     0.71071,     0.71171,     0.71271,     0.71371,     0.71471,     0.71572,     0.71672,     0.71772,     0.71872,     0.71972,\n",
              "           0.72072,     0.72172,     0.72272,     0.72372,     0.72472,     0.72573,     0.72673,     0.72773,     0.72873,     0.72973,     0.73073,     0.73173,     0.73273,     0.73373,     0.73473,     0.73574,     0.73674,     0.73774,     0.73874,     0.73974,     0.74074,     0.74174,     0.74274,     0.74374,\n",
              "           0.74474,     0.74575,     0.74675,     0.74775,     0.74875,     0.74975,     0.75075,     0.75175,     0.75275,     0.75375,     0.75475,     0.75576,     0.75676,     0.75776,     0.75876,     0.75976,     0.76076,     0.76176,     0.76276,     0.76376,     0.76476,     0.76577,     0.76677,     0.76777,\n",
              "           0.76877,     0.76977,     0.77077,     0.77177,     0.77277,     0.77377,     0.77477,     0.77578,     0.77678,     0.77778,     0.77878,     0.77978,     0.78078,     0.78178,     0.78278,     0.78378,     0.78478,     0.78579,     0.78679,     0.78779,     0.78879,     0.78979,     0.79079,     0.79179,\n",
              "           0.79279,     0.79379,     0.79479,      0.7958,      0.7968,      0.7978,      0.7988,      0.7998,      0.8008,      0.8018,      0.8028,      0.8038,      0.8048,     0.80581,     0.80681,     0.80781,     0.80881,     0.80981,     0.81081,     0.81181,     0.81281,     0.81381,     0.81481,     0.81582,\n",
              "           0.81682,     0.81782,     0.81882,     0.81982,     0.82082,     0.82182,     0.82282,     0.82382,     0.82482,     0.82583,     0.82683,     0.82783,     0.82883,     0.82983,     0.83083,     0.83183,     0.83283,     0.83383,     0.83483,     0.83584,     0.83684,     0.83784,     0.83884,     0.83984,\n",
              "           0.84084,     0.84184,     0.84284,     0.84384,     0.84484,     0.84585,     0.84685,     0.84785,     0.84885,     0.84985,     0.85085,     0.85185,     0.85285,     0.85385,     0.85485,     0.85586,     0.85686,     0.85786,     0.85886,     0.85986,     0.86086,     0.86186,     0.86286,     0.86386,\n",
              "           0.86486,     0.86587,     0.86687,     0.86787,     0.86887,     0.86987,     0.87087,     0.87187,     0.87287,     0.87387,     0.87487,     0.87588,     0.87688,     0.87788,     0.87888,     0.87988,     0.88088,     0.88188,     0.88288,     0.88388,     0.88488,     0.88589,     0.88689,     0.88789,\n",
              "           0.88889,     0.88989,     0.89089,     0.89189,     0.89289,     0.89389,     0.89489,      0.8959,      0.8969,      0.8979,      0.8989,      0.8999,      0.9009,      0.9019,      0.9029,      0.9039,      0.9049,     0.90591,     0.90691,     0.90791,     0.90891,     0.90991,     0.91091,     0.91191,\n",
              "           0.91291,     0.91391,     0.91491,     0.91592,     0.91692,     0.91792,     0.91892,     0.91992,     0.92092,     0.92192,     0.92292,     0.92392,     0.92492,     0.92593,     0.92693,     0.92793,     0.92893,     0.92993,     0.93093,     0.93193,     0.93293,     0.93393,     0.93493,     0.93594,\n",
              "           0.93694,     0.93794,     0.93894,     0.93994,     0.94094,     0.94194,     0.94294,     0.94394,     0.94494,     0.94595,     0.94695,     0.94795,     0.94895,     0.94995,     0.95095,     0.95195,     0.95295,     0.95395,     0.95495,     0.95596,     0.95696,     0.95796,     0.95896,     0.95996,\n",
              "           0.96096,     0.96196,     0.96296,     0.96396,     0.96496,     0.96597,     0.96697,     0.96797,     0.96897,     0.96997,     0.97097,     0.97197,     0.97297,     0.97397,     0.97497,     0.97598,     0.97698,     0.97798,     0.97898,     0.97998,     0.98098,     0.98198,     0.98298,     0.98398,\n",
              "           0.98498,     0.98599,     0.98699,     0.98799,     0.98899,     0.98999,     0.99099,     0.99199,     0.99299,     0.99399,     0.99499,       0.996,       0.997,       0.998,       0.999,           1]), array([[    0.94104,     0.94104,     0.93621,      0.9316,     0.92689,     0.92689,     0.92217,     0.92217,     0.92217,     0.91745,     0.91567,     0.91509,     0.91509,     0.91509,     0.91509,     0.91509,     0.91509,     0.91509,     0.91509,     0.91509,     0.91509,     0.91509,     0.91509,\n",
              "            0.91274,     0.91274,     0.91021,     0.90802,     0.90802,     0.90802,     0.90802,     0.90802,     0.90802,     0.90802,     0.90802,     0.90802,     0.90802,     0.90802,     0.90802,     0.90802,     0.90802,     0.90802,     0.90802,     0.90802,     0.90802,     0.90802,     0.90802,\n",
              "            0.90802,     0.90802,     0.90802,     0.90798,     0.90775,     0.90752,     0.90729,     0.90705,     0.90682,     0.90659,     0.90636,     0.90612,     0.90589,     0.90566,     0.90566,     0.90566,     0.90566,     0.90566,     0.90566,     0.90566,     0.90566,     0.90566,     0.90566,\n",
              "            0.90566,     0.90561,     0.90552,     0.90543,     0.90533,     0.90524,     0.90515,     0.90506,     0.90496,     0.90487,     0.90478,     0.90469,     0.90459,      0.9045,     0.90441,     0.90432,     0.90422,     0.90413,     0.90404,     0.90395,     0.90385,     0.90376,     0.90367,\n",
              "            0.90358,     0.90348,     0.90339,      0.9033,      0.9033,      0.9033,      0.9033,      0.9033,      0.9033,      0.9033,      0.9033,      0.9033,      0.9033,      0.9033,      0.9033,      0.9033,      0.9033,      0.9033,      0.9033,      0.9033,      0.9033,      0.9033,      0.9033,\n",
              "             0.9033,      0.9033,      0.9033,      0.9033,      0.9033,      0.9033,      0.9033,      0.9033,      0.9033,      0.9033,      0.9033,      0.9033,      0.9033,      0.9033,      0.9033,      0.9033,     0.90324,     0.90317,      0.9031,     0.90303,     0.90296,     0.90289,     0.90282,\n",
              "            0.90275,     0.90268,     0.90261,     0.90254,     0.90247,      0.9024,     0.90233,     0.90226,     0.90219,     0.90212,     0.90205,     0.90198,     0.90191,     0.90184,     0.90177,     0.90171,     0.90164,     0.90157,      0.9015,     0.90143,     0.90136,     0.90129,     0.90122,\n",
              "            0.90115,     0.90108,     0.90101,     0.90094,     0.90094,     0.90094,     0.90094,     0.90094,     0.90094,     0.90094,     0.90094,     0.90094,     0.90094,     0.90094,     0.90094,     0.90094,     0.90094,     0.90094,     0.90094,     0.90094,     0.90094,     0.90094,     0.90094,\n",
              "            0.90094,     0.90094,     0.90094,     0.90094,     0.90094,     0.90094,     0.90094,     0.90094,     0.90094,     0.90094,     0.90094,     0.90094,     0.90094,     0.90094,     0.90094,     0.90094,     0.90094,     0.90094,     0.90094,     0.90094,     0.90094,     0.90094,     0.90049,\n",
              "            0.89858,     0.89858,     0.89858,     0.89858,     0.89858,     0.89858,     0.89858,     0.89858,     0.89858,     0.89858,     0.89858,     0.89858,     0.89858,     0.89858,     0.89858,     0.89858,     0.89858,     0.89858,     0.89858,     0.89858,     0.89858,     0.89858,     0.89858,\n",
              "            0.89858,     0.89858,     0.89858,     0.89858,     0.89858,     0.89858,     0.89858,     0.89858,     0.89858,     0.89858,     0.89858,     0.89858,     0.89858,     0.89858,     0.89858,     0.89858,     0.89858,     0.89858,     0.89858,     0.89858,     0.89858,     0.89858,     0.89858,\n",
              "            0.89858,     0.89858,     0.89858,     0.89858,     0.89858,     0.89858,     0.89858,     0.89858,     0.89858,     0.89858,     0.89858,     0.89858,     0.89858,     0.89858,     0.89858,     0.89858,     0.89858,     0.89858,     0.89858,     0.89858,     0.89858,     0.89858,     0.89858,\n",
              "            0.89858,     0.89858,     0.89858,     0.89858,     0.89858,     0.89858,     0.89858,     0.89858,     0.89858,     0.89858,     0.89858,     0.89858,     0.89858,     0.89858,     0.89858,     0.89858,     0.89858,     0.89858,     0.89858,     0.89858,     0.89858,     0.89858,     0.89858,\n",
              "            0.89858,     0.89858,     0.89858,     0.89858,     0.89858,     0.89858,     0.89858,     0.89858,     0.89853,     0.89843,     0.89834,     0.89824,     0.89815,     0.89806,     0.89796,     0.89787,     0.89777,     0.89768,     0.89759,     0.89749,      0.8974,     0.89731,     0.89721,\n",
              "            0.89712,     0.89702,     0.89693,     0.89684,     0.89674,     0.89665,     0.89655,     0.89646,     0.89637,     0.89627,     0.89586,     0.89515,     0.89444,     0.89387,     0.89387,     0.89387,     0.89387,     0.89387,     0.89387,     0.89387,     0.89387,     0.89387,     0.89387,\n",
              "            0.89387,     0.89387,     0.89387,     0.89387,     0.89387,     0.89387,     0.89387,     0.89387,     0.89387,     0.89387,     0.89377,     0.89322,     0.89268,     0.89213,     0.89158,     0.89151,     0.89151,     0.89151,     0.89151,     0.89151,     0.89151,     0.89151,     0.89151,\n",
              "            0.89151,     0.89142,     0.89108,     0.89073,     0.89038,     0.89004,     0.88969,     0.88934,     0.88913,     0.88907,     0.88902,     0.88897,     0.88891,     0.88886,     0.88881,     0.88875,      0.8887,     0.88865,     0.88859,     0.88854,     0.88849,     0.88843,     0.88838,\n",
              "            0.88833,     0.88827,     0.88822,     0.88817,     0.88811,     0.88806,     0.88801,     0.88795,      0.8879,     0.88785,     0.88779,     0.88774,     0.88769,     0.88763,     0.88758,     0.88753,     0.88747,     0.88742,     0.88737,     0.88732,     0.88726,     0.88721,     0.88716,\n",
              "             0.8871,     0.88705,       0.887,     0.88694,     0.88689,     0.88684,     0.88679,     0.88679,     0.88679,     0.88679,     0.88679,     0.88679,     0.88679,     0.88679,     0.88679,     0.88679,     0.88679,     0.88679,     0.88679,     0.88679,     0.88679,     0.88679,     0.88679,\n",
              "            0.88679,     0.88679,     0.88679,     0.88679,     0.88679,     0.88679,     0.88679,     0.88679,     0.88679,     0.88679,     0.88679,     0.88679,     0.88679,     0.88679,     0.88679,     0.88679,     0.88679,     0.88679,     0.88679,     0.88679,     0.88679,     0.88679,     0.88664,\n",
              "            0.88637,     0.88611,     0.88584,     0.88557,     0.88531,     0.88504,     0.88477,      0.8845,     0.88432,     0.88418,     0.88403,     0.88388,     0.88373,     0.88358,     0.88343,     0.88328,     0.88313,     0.88298,     0.88283,     0.88268,     0.88253,     0.88238,     0.88224,\n",
              "            0.88209,     0.88146,     0.88081,     0.88015,     0.87939,     0.87844,     0.87749,     0.87736,     0.87736,     0.87736,     0.87736,     0.87736,     0.87736,     0.87736,     0.87736,     0.87736,     0.87728,     0.87702,     0.87676,      0.8765,     0.87625,     0.87599,     0.87573,\n",
              "            0.87547,     0.87521,       0.875,       0.875,       0.875,       0.875,       0.875,       0.875,       0.875,       0.875,       0.875,       0.875,       0.875,       0.875,     0.87496,      0.8749,     0.87484,     0.87478,     0.87472,     0.87466,     0.87461,     0.87455,     0.87449,\n",
              "            0.87443,     0.87437,     0.87431,     0.87426,      0.8742,     0.87414,     0.87408,     0.87402,     0.87396,      0.8739,     0.87385,     0.87379,     0.87373,     0.87367,     0.87361,     0.87355,      0.8735,     0.87344,     0.87338,     0.87332,     0.87326,      0.8732,     0.87315,\n",
              "            0.87309,     0.87303,     0.87297,     0.87291,     0.87285,      0.8728,     0.87274,     0.87268,     0.87262,     0.87255,     0.87248,     0.87242,     0.87235,     0.87228,     0.87222,     0.87215,     0.87208,     0.87201,     0.87195,     0.87188,     0.87181,     0.87175,     0.87168,\n",
              "            0.87161,     0.87155,     0.87148,     0.87141,     0.87134,     0.87128,     0.87121,     0.87114,     0.87108,     0.87101,     0.87094,     0.87088,     0.87081,     0.87074,     0.87068,     0.87061,     0.87054,     0.87047,     0.87041,     0.87034,     0.87028,     0.87028,     0.87028,\n",
              "            0.87028,     0.87028,     0.87028,     0.87028,     0.87025,     0.87015,     0.87005,     0.86995,     0.86984,     0.86974,     0.86964,     0.86954,     0.86944,     0.86934,     0.86924,     0.86913,     0.86903,     0.86893,     0.86883,     0.86873,     0.86863,     0.86853,     0.86842,\n",
              "            0.86832,     0.86822,     0.86812,     0.86802,      0.8679,     0.86759,     0.86727,     0.86696,     0.86665,     0.86633,     0.86602,     0.86571,     0.86495,     0.86383,     0.86289,     0.86216,     0.86144,     0.86085,     0.86085,     0.86085,     0.86085,     0.86085,     0.86085,\n",
              "            0.86085,     0.86085,     0.86085,     0.86085,     0.86085,     0.86085,     0.86085,     0.86085,     0.86085,     0.86085,     0.86085,     0.86085,     0.86085,     0.86085,     0.86085,     0.86085,     0.86085,     0.86085,     0.86085,     0.86085,     0.86085,     0.86085,     0.86085,\n",
              "            0.86085,     0.86085,     0.86085,     0.86085,     0.86085,     0.86085,     0.86085,     0.86085,     0.86085,     0.86085,     0.86085,     0.86085,     0.86085,     0.86085,     0.86085,     0.86085,     0.86085,     0.86085,     0.86085,     0.86085,     0.86085,     0.86085,     0.86085,\n",
              "            0.86082,     0.86074,     0.86066,     0.86058,      0.8605,     0.86042,     0.86034,     0.86026,     0.86018,      0.8601,     0.86002,     0.85994,     0.85986,     0.85979,     0.85971,     0.85963,     0.85955,     0.85947,     0.85939,     0.85931,     0.85923,     0.85915,     0.85907,\n",
              "            0.85899,     0.85891,     0.85883,     0.85875,     0.85867,      0.8586,     0.85852,     0.85679,     0.85606,     0.85597,     0.85588,     0.85578,     0.85569,      0.8556,      0.8555,     0.85541,     0.85532,     0.85522,     0.85513,     0.85504,     0.85494,     0.85485,     0.85476,\n",
              "            0.85466,     0.85457,     0.85448,     0.85438,     0.85429,      0.8542,      0.8541,     0.85401,     0.85392,     0.85382,      0.8537,     0.85353,     0.85336,     0.85319,     0.85302,     0.85286,     0.85269,     0.85252,     0.85235,     0.85218,     0.85202,     0.85185,     0.85168,\n",
              "            0.85151,     0.85098,     0.84995,     0.84887,     0.84737,      0.8467,      0.8467,      0.8467,      0.8467,      0.8467,     0.84655,      0.8464,     0.84625,     0.84609,     0.84594,     0.84579,     0.84564,     0.84549,     0.84534,     0.84518,     0.84503,     0.84488,     0.84473,\n",
              "            0.84458,     0.84442,     0.84195,     0.84162,      0.8413,     0.84098,     0.84065,     0.84033,     0.84001,     0.83968,     0.83918,     0.83864,      0.8381,     0.83755,     0.83692,     0.83618,     0.83544,     0.83469,     0.83395,     0.83321,     0.83245,     0.83151,     0.83057,\n",
              "            0.83019,     0.83019,     0.83019,     0.83019,     0.83005,     0.82783,     0.82749,     0.82547,     0.82547,     0.82547,     0.82547,     0.82547,     0.82547,     0.82542,     0.82516,     0.82491,     0.82465,     0.82439,     0.82413,     0.82388,     0.82362,     0.82336,     0.82306,\n",
              "            0.82172,     0.82075,     0.82075,     0.82075,     0.81645,     0.81604,     0.81604,     0.81604,     0.81604,     0.81604,     0.81548,     0.81221,     0.80889,     0.80858,     0.80828,     0.80797,     0.80766,     0.80735,     0.80704,     0.80673,     0.80519,     0.80337,     0.80193,\n",
              "            0.80189,     0.80189,     0.80098,      0.7993,     0.79811,     0.79632,     0.79185,     0.79001,     0.78841,     0.78528,     0.78473,     0.78419,     0.78365,      0.7831,     0.78191,     0.78066,     0.78066,     0.77955,     0.77793,     0.77621,     0.77415,     0.77158,     0.76407,\n",
              "            0.76281,     0.76093,     0.75796,     0.75508,     0.75161,     0.75059,     0.74749,     0.74366,     0.74169,     0.74004,     0.73814,     0.73632,     0.73099,     0.72895,     0.72759,     0.72598,     0.72139,     0.72045,     0.71951,     0.71731,     0.71462,     0.71394,     0.71312,\n",
              "             0.7123,     0.70798,     0.70519,     0.70149,     0.69575,     0.69575,     0.68867,     0.67913,     0.67705,     0.67046,     0.66378,     0.65624,     0.65012,     0.64448,     0.63939,     0.63611,     0.63454,     0.63208,     0.63208,     0.62778,     0.61212,     0.60951,     0.60377,\n",
              "            0.60057,     0.59439,     0.58789,     0.58436,     0.58134,     0.57488,     0.56838,     0.56443,      0.5539,     0.54239,     0.52484,     0.52123,     0.50851,     0.50321,     0.49049,      0.4852,     0.48153,     0.47034,     0.46144,     0.44509,      0.4339,       0.415,     0.40031,\n",
              "            0.39212,     0.37861,     0.36984,     0.35635,     0.33491,     0.32091,      0.2989,     0.27355,       0.255,     0.22763,      0.1979,     0.17944,     0.14913,     0.12685,     0.10564,    0.089921,    0.069488,    0.056579,    0.042331,    0.027908,    0.022546,    0.019085,    0.012758,\n",
              "           0.010757,   0.0083659,   0.0045742,           0,           0,           0,           0,           0,           0,           0,           0,           0,           0,           0,           0,           0,           0,           0,           0,           0,           0,           0,           0,\n",
              "                  0,           0,           0,           0,           0,           0,           0,           0,           0,           0,           0]]), 'Confidence', 'Recall']]\n",
              "fitness: 1.5274228316501999\n",
              "keys: ['metrics/precision(B)', 'metrics/recall(B)', 'metrics/mAP50(B)', 'metrics/mAP50-95(B)', 'metrics/precision(M)', 'metrics/recall(M)', 'metrics/mAP50(M)', 'metrics/mAP50-95(M)']\n",
              "maps: array([     1.4893])\n",
              "names: {0: 'tumor'}\n",
              "plot: True\n",
              "results_dict: {'metrics/precision(B)': 0.9275813352939948, 'metrics/recall(B)': 0.9062695925205376, 'metrics/mAP50(B)': 0.9388722895488866, 'metrics/mAP50-95(B)': 0.7481891356248311, 'metrics/precision(M)': 0.9179333949772499, 'metrics/recall(M)': 0.8969295637514783, 'metrics/mAP50(M)': 0.931291616348339, 'metrics/mAP50-95(M)': 0.7411513544423658, 'fitness': 1.5274228316501999}\n",
              "save_dir: PosixPath('runs/segment/train2')\n",
              "seg: ultralytics.utils.metrics.Metric object\n",
              "speed: {'preprocess': 0.15898104067201968, 'inference': 6.910086855476285, 'loss': 0.0011037897180627893, 'postprocess': 0.9899421974464699}\n",
              "task: 'segment'"
            ]
          },
          "execution_count": 7,
          "metadata": {},
          "output_type": "execute_result"
        }
      ],
      "source": [
        "model.val()"
      ]
    },
    {
      "cell_type": "code",
      "execution_count": null,
      "metadata": {
        "colab": {
          "background_save": true
        },
        "id": "8ZmJC--rGHHC"
      },
      "outputs": [],
      "source": [
        "import locale\n",
        "locale.getpreferredencoding = lambda: \"UTF-8\""
      ]
    },
    {
      "cell_type": "code",
      "execution_count": null,
      "metadata": {
        "colab": {
          "background_save": true
        },
        "id": "7smFiAhRzakT"
      },
      "outputs": [],
      "source": [
        "runs_name = \"YoloV8x-500-runs.zip\""
      ]
    },
    {
      "cell_type": "code",
      "execution_count": null,
      "metadata": {
        "colab": {
          "background_save": true
        },
        "id": "EYGCOAqgGH6F",
        "outputId": "1110210e-dbb2-442f-b19e-f5aa2e0c7a7f"
      },
      "outputs": [
        {
          "name": "stdout",
          "output_type": "stream",
          "text": [
            "  adding: content/runs/ (stored 0%)\n",
            "  adding: content/runs/segment/ (stored 0%)\n",
            "  adding: content/runs/segment/train/ (stored 0%)\n",
            "  adding: content/runs/segment/train/weights/ (stored 0%)\n",
            "  adding: content/runs/segment/train/weights/best.pt (deflated 8%)\n",
            "  adding: content/runs/segment/train/weights/last.pt (deflated 8%)\n",
            "  adding: content/runs/segment/train/MaskF1_curve.png (deflated 20%)\n",
            "  adding: content/runs/segment/train/labels.jpg (deflated 30%)\n",
            "  adding: content/runs/segment/train/train_batch1.jpg (deflated 8%)\n",
            "  adding: content/runs/segment/train/results.csv (deflated 63%)\n",
            "  adding: content/runs/segment/train/confusion_matrix_normalized.png (deflated 38%)\n",
            "  adding: content/runs/segment/train/BoxP_curve.png (deflated 23%)\n",
            "  adding: content/runs/segment/train/val_batch2_labels.jpg (deflated 21%)\n",
            "  adding: content/runs/segment/train/confusion_matrix.png (deflated 39%)\n",
            "  adding: content/runs/segment/train/train_batch0.jpg (deflated 9%)\n",
            "  adding: content/runs/segment/train/train_batch2.jpg (deflated 7%)\n",
            "  adding: content/runs/segment/train/val_batch0_labels.jpg (deflated 20%)\n",
            "  adding: content/runs/segment/train/results.png (deflated 7%)\n",
            "  adding: content/runs/segment/train/val_batch1_labels.jpg (deflated 22%)\n",
            "  adding: content/runs/segment/train/MaskR_curve.png (deflated 18%)\n",
            "  adding: content/runs/segment/train/val_batch1_pred.jpg (deflated 22%)\n",
            "  adding: content/runs/segment/train/MaskPR_curve.png (deflated 22%)\n",
            "  adding: content/runs/segment/train/BoxPR_curve.png (deflated 22%)\n",
            "  adding: content/runs/segment/train/val_batch0_pred.jpg (deflated 19%)\n",
            "  adding: content/runs/segment/train/events.out.tfevents.1734124819.764e2aff3b22.5477.0 (deflated 83%)\n",
            "  adding: content/runs/segment/train/BoxR_curve.png (deflated 18%)\n",
            "  adding: content/runs/segment/train/args.yaml (deflated 53%)\n",
            "  adding: content/runs/segment/train/val_batch2_pred.jpg (deflated 21%)\n",
            "  adding: content/runs/segment/train/BoxF1_curve.png (deflated 19%)\n",
            "  adding: content/runs/segment/train/labels_correlogram.jpg (deflated 38%)\n",
            "  adding: content/runs/segment/train/MaskP_curve.png (deflated 23%)\n",
            "  adding: content/runs/segment/train2/ (stored 0%)\n",
            "  adding: content/runs/segment/train2/MaskF1_curve.png (deflated 19%)\n",
            "  adding: content/runs/segment/train2/confusion_matrix_normalized.png (deflated 38%)\n",
            "  adding: content/runs/segment/train2/BoxP_curve.png (deflated 23%)\n",
            "  adding: content/runs/segment/train2/val_batch2_labels.jpg (deflated 21%)\n",
            "  adding: content/runs/segment/train2/confusion_matrix.png (deflated 39%)\n",
            "  adding: content/runs/segment/train2/val_batch0_labels.jpg (deflated 20%)\n",
            "  adding: content/runs/segment/train2/val_batch1_labels.jpg (deflated 19%)\n",
            "  adding: content/runs/segment/train2/MaskR_curve.png (deflated 18%)\n",
            "  adding: content/runs/segment/train2/val_batch1_pred.jpg (deflated 19%)\n",
            "  adding: content/runs/segment/train2/MaskPR_curve.png (deflated 22%)\n",
            "  adding: content/runs/segment/train2/BoxPR_curve.png (deflated 22%)\n",
            "  adding: content/runs/segment/train2/val_batch0_pred.jpg (deflated 19%)\n",
            "  adding: content/runs/segment/train2/BoxR_curve.png (deflated 18%)\n",
            "  adding: content/runs/segment/train2/val_batch2_pred.jpg (deflated 21%)\n",
            "  adding: content/runs/segment/train2/BoxF1_curve.png (deflated 19%)\n",
            "  adding: content/runs/segment/train2/MaskP_curve.png (deflated 23%)\n"
          ]
        }
      ],
      "source": [
        "!zip -r \"/content/YoloV8x-500-runs.zip\" \"/content/runs\""
      ]
    },
    {
      "cell_type": "code",
      "execution_count": null,
      "metadata": {
        "colab": {
          "background_save": true
        },
        "id": "xBwBuKs3In1c",
        "outputId": "4adb28f7-16dc-4731-e601-610ffb172329"
      },
      "outputs": [
        {
          "data": {
            "application/vnd.google.colaboratory.intrinsic+json": {
              "type": "string"
            },
            "text/plain": [
              "'/content/drive/MyDrive/TumorSegmentasyon/YoloV8x-500-runs.zip'"
            ]
          },
          "execution_count": 11,
          "metadata": {},
          "output_type": "execute_result"
        }
      ],
      "source": [
        "import shutil\n",
        "shutil.copy(f\"/content/{runs_name}\", f\"/content/drive/MyDrive/TumorSegmentasyon/{runs_name}\")"
      ]
    },
    {
      "cell_type": "code",
      "execution_count": null,
      "metadata": {
        "colab": {
          "background_save": true
        },
        "id": "H5u5pCU3IQiH",
        "outputId": "1dea6feb-0b0f-4d4f-da40-5c152d89dfde"
      },
      "outputs": [
        {
          "data": {
            "application/javascript": [
              "\n",
              "    async function download(id, filename, size) {\n",
              "      if (!google.colab.kernel.accessAllowed) {\n",
              "        return;\n",
              "      }\n",
              "      const div = document.createElement('div');\n",
              "      const label = document.createElement('label');\n",
              "      label.textContent = `Downloading \"${filename}\": `;\n",
              "      div.appendChild(label);\n",
              "      const progress = document.createElement('progress');\n",
              "      progress.max = size;\n",
              "      div.appendChild(progress);\n",
              "      document.body.appendChild(div);\n",
              "\n",
              "      const buffers = [];\n",
              "      let downloaded = 0;\n",
              "\n",
              "      const channel = await google.colab.kernel.comms.open(id);\n",
              "      // Send a message to notify the kernel that we're ready.\n",
              "      channel.send({})\n",
              "\n",
              "      for await (const message of channel.messages) {\n",
              "        // Send a message to notify the kernel that we're ready.\n",
              "        channel.send({})\n",
              "        if (message.buffers) {\n",
              "          for (const buffer of message.buffers) {\n",
              "            buffers.push(buffer);\n",
              "            downloaded += buffer.byteLength;\n",
              "            progress.value = downloaded;\n",
              "          }\n",
              "        }\n",
              "      }\n",
              "      const blob = new Blob(buffers, {type: 'application/binary'});\n",
              "      const a = document.createElement('a');\n",
              "      a.href = window.URL.createObjectURL(blob);\n",
              "      a.download = filename;\n",
              "      div.appendChild(a);\n",
              "      a.click();\n",
              "      div.remove();\n",
              "    }\n",
              "  "
            ],
            "text/plain": [
              "<IPython.core.display.Javascript object>"
            ]
          },
          "metadata": {},
          "output_type": "display_data"
        },
        {
          "data": {
            "application/javascript": [
              "download(\"download_a2151df3-4175-4c6f-b096-3c7a22c89917\", \"YoloV8x-500-runs.zip\", 273420365)"
            ],
            "text/plain": [
              "<IPython.core.display.Javascript object>"
            ]
          },
          "metadata": {},
          "output_type": "display_data"
        }
      ],
      "source": [
        "from google.colab import files\n",
        "files.download(f'/content/{runs_name}')"
      ]
    }
  ],
  "metadata": {
    "accelerator": "GPU",
    "colab": {
      "gpuType": "A100",
      "machine_shape": "hm",
      "provenance": []
    },
    "kernelspec": {
      "display_name": "Python 3",
      "name": "python3"
    },
    "language_info": {
      "name": "python"
    }
  },
  "nbformat": 4,
  "nbformat_minor": 0
}